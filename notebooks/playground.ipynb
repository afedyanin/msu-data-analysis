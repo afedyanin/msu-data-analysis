{
 "cells": [
  {
   "cell_type": "code",
   "id": "initial_id",
   "metadata": {
    "collapsed": true,
    "ExecuteTime": {
     "end_time": "2024-06-03T17:01:09.236969Z",
     "start_time": "2024-06-03T17:01:09.221084Z"
    }
   },
   "source": [
    "from datetime import datetime\n",
    "\n",
    "import pandas as pd\n",
    "\n",
    "\n",
    "'''\n",
    "загружаем csv в df, попутно обрабатывая колонки\n",
    "- формируем таймстамп \n",
    "- таймстамп нужен как индекс\n",
    "- отбрасываем ненужные колонки (оставляем только close)\n",
    "- проверяем правильность типов в колонке\n",
    "'''\n",
    "\n",
    "# \n",
    "# https://github.com/BindiChen/machine-learning/blob/main/data-analysis/012-parse-date-with-read_csv/parse-date-column-with-read_csv.ipynb\n",
    "# https://docs.python.org/3/library/datetime.html#strftime-and-strptime-behavior\n",
    "custom_date_parser = lambda x: datetime.strptime(x, \"%y%m%d %H%M%S\")\n",
    "filename_1d = \"..\\\\data\\\\moex\\\\SBER_200101_240530.csv\"\n",
    "filename_1h = \"..\\\\data\\\\moex\\\\SBER_240205_240603.csv\"\n",
    "# df = pd.read_csv(filename_1h, delimiter=\";\", decimal=\".\", parse_dates={ 'timestamp': ['<DATE>', '<TIME>']}, date_parser=custom_date_parser)\n",
    "\n",
    "df = pd.read_csv(filename_1h, delimiter=\";\", decimal=\".\")\n",
    "df['<DATE_TIME>']=f\"{df['<DATE>']} {df['<TIME>']}\"\n",
    "# df['timestamp']= df['<DATE_TIME>'].apply(pd.to_datetime, format='%y%m%d %H%M%S')\n",
    "print(df.head())\n"
   ],
   "outputs": [
    {
     "name": "stdout",
     "output_type": "stream",
     "text": [
      "  <TICKER>  <PER>  <DATE>  <TIME>  <OPEN>  <HIGH>   <LOW>  <CLOSE>    <VOL>  \\\n",
      "0     SBER     60  240205  100000  276.94  278.00  276.90   277.41  3583730   \n",
      "1     SBER     60  240205  110000  277.40  278.57  277.40   277.90  3405920   \n",
      "2     SBER     60  240205  120000  277.90  278.37  277.80   277.89  1053920   \n",
      "3     SBER     60  240205  130000  277.90  278.14  277.62   278.13   965130   \n",
      "4     SBER     60  240205  140000  278.13  278.20  277.70   277.87   769270   \n",
      "\n",
      "                                         <DATE_TIME>  \n",
      "0  0       240205\\n1       240205\\n2       240205...  \n",
      "1  0       240205\\n1       240205\\n2       240205...  \n",
      "2  0       240205\\n1       240205\\n2       240205...  \n",
      "3  0       240205\\n1       240205\\n2       240205...  \n",
      "4  0       240205\\n1       240205\\n2       240205...  \n"
     ]
    }
   ],
   "execution_count": 42
  },
  {
   "metadata": {},
   "cell_type": "code",
   "outputs": [],
   "execution_count": null,
   "source": "",
   "id": "aa51f375ef8faf9c"
  }
 ],
 "metadata": {
  "kernelspec": {
   "display_name": "Python 3",
   "language": "python",
   "name": "python3"
  },
  "language_info": {
   "codemirror_mode": {
    "name": "ipython",
    "version": 2
   },
   "file_extension": ".py",
   "mimetype": "text/x-python",
   "name": "python",
   "nbconvert_exporter": "python",
   "pygments_lexer": "ipython2",
   "version": "2.7.6"
  }
 },
 "nbformat": 4,
 "nbformat_minor": 5
}
