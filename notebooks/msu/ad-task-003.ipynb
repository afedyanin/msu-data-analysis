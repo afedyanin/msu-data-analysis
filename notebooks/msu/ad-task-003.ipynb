{
 "cells": [
  {
   "metadata": {},
   "cell_type": "markdown",
   "source": [
    "# Задание 3: Разведочный анализ\n",
    "\n",
    "Данные наблюдений за видами (когда и где наблюдается данный вид) типичны для исследований биоразнообразия. \n",
    "Крупные международные инициативы поддерживают сбор этих данных волонтерами, например, iNaturalist. \n",
    "Благодаря таким инициативам, как GBIF, многие из этих данных также находятся в открытом доступе.\n",
    "\n",
    "Вы решили поделиться данными полевой кампании, но набор данных все еще требует некоторой очистки и стандартизации. \n",
    "Например, координаты могут называться x/y, decimalLatitude/decimalLongitude, lat/long ... \n",
    "К счастью, вы знаете о международном стандарте открытых данных для описания данных о событиях/наблюдениях, т.е. Darwin Core (DwC). \n",
    "Вместо того, чтобы изобретать собственную модель данных, вы решаете соответствовать этому международному стандарту. \n",
    "Последнее улучшит коммуникацию, а также сделает ваши данные совместимыми с GBIF.\n",
    "\n",
    "Короче говоря, DwC описывает плоскую таблицу (CSV) с согласованным соглашением об именах для имен заголовков и соглашениями о том, как должны быть представлены определенные типы данных (для справки, подробное описание дано здесь). \n",
    "В этом руководстве мы сосредоточимся на нескольких существующих терминах, чтобы изучить некоторые элементы очистки данных:\n",
    "\n",
    "- eventDate : формат дат ISO 6801\n",
    "- ScientificName : общепринятое научное название вида.\n",
    "- decimalLatitude / decimalLongitude : координаты вхождения в формате WGS84\n",
    "- sex: либо мужской , либо женский , чтобы охарактеризовать пол события\n",
    "- instanceID : идентификатор в наборе данных для идентификации отдельных записей.\n",
    "- datasetName : статическая строка, определяющая источник данных\n",
    "\n",
    "Кроме того, дополнительная информация о таксономии будет добавлена с использованием внешнего API-сервиса.\n"
   ],
   "id": "9b89465e3a86b9ef"
  },
  {
   "cell_type": "code",
   "id": "initial_id",
   "metadata": {
    "collapsed": true,
    "ExecuteTime": {
     "end_time": "2024-06-17T08:52:36.328655Z",
     "start_time": "2024-06-17T08:52:36.176480Z"
    }
   },
   "source": [
    "from calendar import month_abbr, day_abbr\n",
    "\n",
    "import numpy as np\n",
    "import pandas as pd\n",
    "import matplotlib.pyplot as plt\n",
    "import openpyxl as xl"
   ],
   "outputs": [],
   "execution_count": 173
  },
  {
   "metadata": {
    "ExecuteTime": {
     "end_time": "2024-06-17T08:52:36.356982Z",
     "start_time": "2024-06-17T08:52:36.329662Z"
    }
   },
   "cell_type": "code",
   "source": [
    "survey_filename = \"..\\\\..\\\\data\\\\003\\\\surveys.csv\"\n",
    "survey_data = pd.read_csv(survey_filename, sep=\",\")\n",
    "#survey_data.head()"
   ],
   "id": "69c56f7b96871322",
   "outputs": [],
   "execution_count": 174
  },
  {
   "metadata": {
    "ExecuteTime": {
     "end_time": "2024-06-17T08:52:36.421043Z",
     "start_time": "2024-06-17T08:52:36.405513Z"
    }
   },
   "cell_type": "code",
   "source": [
    "'''\n",
    "Упражнение 1\n",
    "Сколько уникальных записей содержит набор данных?\n",
    "'''\n",
    "#survey_data.count()\n",
    "survey_data.info()\n"
   ],
   "id": "8dbda3cf4ce35b81",
   "outputs": [
    {
     "name": "stdout",
     "output_type": "stream",
     "text": [
      "<class 'pandas.core.frame.DataFrame'>\n",
      "RangeIndex: 35549 entries, 0 to 35548\n",
      "Data columns (total 8 columns):\n",
      " #   Column     Non-Null Count  Dtype  \n",
      "---  ------     --------------  -----  \n",
      " 0   record_id  35549 non-null  int64  \n",
      " 1   month      35549 non-null  int64  \n",
      " 2   day        35549 non-null  int64  \n",
      " 3   year       35549 non-null  int64  \n",
      " 4   plot       35549 non-null  int64  \n",
      " 5   species    33534 non-null  object \n",
      " 6   sex_char   33042 non-null  object \n",
      " 7   wgt        32283 non-null  float64\n",
      "dtypes: float64(1), int64(5), object(2)\n",
      "memory usage: 2.2+ MB\n"
     ]
    }
   ],
   "execution_count": 175
  },
  {
   "metadata": {
    "ExecuteTime": {
     "end_time": "2024-06-17T08:52:36.433066Z",
     "start_time": "2024-06-17T08:52:36.422611Z"
    }
   },
   "cell_type": "code",
   "source": [
    "'''\n",
    "УПРАЖНЕНИЕ 2\n",
    "Добавьте новый столбец datasetName в набор данных опроса с datasetname в качестве значения для всех записей (статическое значение для всего набора данных).\n",
    "'''\n",
    "survey_data[\"datasetname\"] = \"Ecological Archives E090-118-D1.\"\n",
    "\n",
    "survey_data.head()"
   ],
   "id": "ee9eb1ec32c30a70",
   "outputs": [
    {
     "data": {
      "text/plain": [
       "   record_id  month  day  year  plot species sex_char  wgt  \\\n",
       "0          1      7   16  1977     2     NaN        M  NaN   \n",
       "1          2      7   16  1977     3     NaN        M  NaN   \n",
       "2          3      7   16  1977     2      DM        F  NaN   \n",
       "3          4      7   16  1977     7      DM        M  NaN   \n",
       "4          5      7   16  1977     3      DM        M  NaN   \n",
       "\n",
       "                        datasetname  \n",
       "0  Ecological Archives E090-118-D1.  \n",
       "1  Ecological Archives E090-118-D1.  \n",
       "2  Ecological Archives E090-118-D1.  \n",
       "3  Ecological Archives E090-118-D1.  \n",
       "4  Ecological Archives E090-118-D1.  "
      ],
      "text/html": [
       "<div>\n",
       "<style scoped>\n",
       "    .dataframe tbody tr th:only-of-type {\n",
       "        vertical-align: middle;\n",
       "    }\n",
       "\n",
       "    .dataframe tbody tr th {\n",
       "        vertical-align: top;\n",
       "    }\n",
       "\n",
       "    .dataframe thead th {\n",
       "        text-align: right;\n",
       "    }\n",
       "</style>\n",
       "<table border=\"1\" class=\"dataframe\">\n",
       "  <thead>\n",
       "    <tr style=\"text-align: right;\">\n",
       "      <th></th>\n",
       "      <th>record_id</th>\n",
       "      <th>month</th>\n",
       "      <th>day</th>\n",
       "      <th>year</th>\n",
       "      <th>plot</th>\n",
       "      <th>species</th>\n",
       "      <th>sex_char</th>\n",
       "      <th>wgt</th>\n",
       "      <th>datasetname</th>\n",
       "    </tr>\n",
       "  </thead>\n",
       "  <tbody>\n",
       "    <tr>\n",
       "      <th>0</th>\n",
       "      <td>1</td>\n",
       "      <td>7</td>\n",
       "      <td>16</td>\n",
       "      <td>1977</td>\n",
       "      <td>2</td>\n",
       "      <td>NaN</td>\n",
       "      <td>M</td>\n",
       "      <td>NaN</td>\n",
       "      <td>Ecological Archives E090-118-D1.</td>\n",
       "    </tr>\n",
       "    <tr>\n",
       "      <th>1</th>\n",
       "      <td>2</td>\n",
       "      <td>7</td>\n",
       "      <td>16</td>\n",
       "      <td>1977</td>\n",
       "      <td>3</td>\n",
       "      <td>NaN</td>\n",
       "      <td>M</td>\n",
       "      <td>NaN</td>\n",
       "      <td>Ecological Archives E090-118-D1.</td>\n",
       "    </tr>\n",
       "    <tr>\n",
       "      <th>2</th>\n",
       "      <td>3</td>\n",
       "      <td>7</td>\n",
       "      <td>16</td>\n",
       "      <td>1977</td>\n",
       "      <td>2</td>\n",
       "      <td>DM</td>\n",
       "      <td>F</td>\n",
       "      <td>NaN</td>\n",
       "      <td>Ecological Archives E090-118-D1.</td>\n",
       "    </tr>\n",
       "    <tr>\n",
       "      <th>3</th>\n",
       "      <td>4</td>\n",
       "      <td>7</td>\n",
       "      <td>16</td>\n",
       "      <td>1977</td>\n",
       "      <td>7</td>\n",
       "      <td>DM</td>\n",
       "      <td>M</td>\n",
       "      <td>NaN</td>\n",
       "      <td>Ecological Archives E090-118-D1.</td>\n",
       "    </tr>\n",
       "    <tr>\n",
       "      <th>4</th>\n",
       "      <td>5</td>\n",
       "      <td>7</td>\n",
       "      <td>16</td>\n",
       "      <td>1977</td>\n",
       "      <td>3</td>\n",
       "      <td>DM</td>\n",
       "      <td>M</td>\n",
       "      <td>NaN</td>\n",
       "      <td>Ecological Archives E090-118-D1.</td>\n",
       "    </tr>\n",
       "  </tbody>\n",
       "</table>\n",
       "</div>"
      ]
     },
     "execution_count": 176,
     "metadata": {},
     "output_type": "execute_result"
    }
   ],
   "execution_count": 176
  },
  {
   "metadata": {
    "ExecuteTime": {
     "end_time": "2024-06-17T08:52:36.439668Z",
     "start_time": "2024-06-17T08:52:36.433066Z"
    }
   },
   "cell_type": "code",
   "source": [
    "'''\n",
    "УПРАЖНЕНИЕ 3\n",
    "Получите список уникальных значений для столбца sex_char.\n",
    "'''\n",
    "\n",
    "survey_data[\"sex_char\"].unique()"
   ],
   "id": "39800ec3fd8d5c0",
   "outputs": [
    {
     "data": {
      "text/plain": [
       "array(['M', 'F', nan, 'R', 'P', 'Z'], dtype=object)"
      ]
     },
     "execution_count": 177,
     "metadata": {},
     "output_type": "execute_result"
    }
   ],
   "execution_count": 177
  },
  {
   "metadata": {
    "ExecuteTime": {
     "end_time": "2024-06-17T08:52:36.453441Z",
     "start_time": "2024-06-17T08:52:36.439668Z"
    }
   },
   "cell_type": "code",
   "source": [
    "survey_data = survey_data.rename(columns={'sex_char': 'verbatimSex'})\n",
    "survey_data.head()\n"
   ],
   "id": "3ae5364315d907ee",
   "outputs": [
    {
     "data": {
      "text/plain": [
       "   record_id  month  day  year  plot species verbatimSex  wgt  \\\n",
       "0          1      7   16  1977     2     NaN           M  NaN   \n",
       "1          2      7   16  1977     3     NaN           M  NaN   \n",
       "2          3      7   16  1977     2      DM           F  NaN   \n",
       "3          4      7   16  1977     7      DM           M  NaN   \n",
       "4          5      7   16  1977     3      DM           M  NaN   \n",
       "\n",
       "                        datasetname  \n",
       "0  Ecological Archives E090-118-D1.  \n",
       "1  Ecological Archives E090-118-D1.  \n",
       "2  Ecological Archives E090-118-D1.  \n",
       "3  Ecological Archives E090-118-D1.  \n",
       "4  Ecological Archives E090-118-D1.  "
      ],
      "text/html": [
       "<div>\n",
       "<style scoped>\n",
       "    .dataframe tbody tr th:only-of-type {\n",
       "        vertical-align: middle;\n",
       "    }\n",
       "\n",
       "    .dataframe tbody tr th {\n",
       "        vertical-align: top;\n",
       "    }\n",
       "\n",
       "    .dataframe thead th {\n",
       "        text-align: right;\n",
       "    }\n",
       "</style>\n",
       "<table border=\"1\" class=\"dataframe\">\n",
       "  <thead>\n",
       "    <tr style=\"text-align: right;\">\n",
       "      <th></th>\n",
       "      <th>record_id</th>\n",
       "      <th>month</th>\n",
       "      <th>day</th>\n",
       "      <th>year</th>\n",
       "      <th>plot</th>\n",
       "      <th>species</th>\n",
       "      <th>verbatimSex</th>\n",
       "      <th>wgt</th>\n",
       "      <th>datasetname</th>\n",
       "    </tr>\n",
       "  </thead>\n",
       "  <tbody>\n",
       "    <tr>\n",
       "      <th>0</th>\n",
       "      <td>1</td>\n",
       "      <td>7</td>\n",
       "      <td>16</td>\n",
       "      <td>1977</td>\n",
       "      <td>2</td>\n",
       "      <td>NaN</td>\n",
       "      <td>M</td>\n",
       "      <td>NaN</td>\n",
       "      <td>Ecological Archives E090-118-D1.</td>\n",
       "    </tr>\n",
       "    <tr>\n",
       "      <th>1</th>\n",
       "      <td>2</td>\n",
       "      <td>7</td>\n",
       "      <td>16</td>\n",
       "      <td>1977</td>\n",
       "      <td>3</td>\n",
       "      <td>NaN</td>\n",
       "      <td>M</td>\n",
       "      <td>NaN</td>\n",
       "      <td>Ecological Archives E090-118-D1.</td>\n",
       "    </tr>\n",
       "    <tr>\n",
       "      <th>2</th>\n",
       "      <td>3</td>\n",
       "      <td>7</td>\n",
       "      <td>16</td>\n",
       "      <td>1977</td>\n",
       "      <td>2</td>\n",
       "      <td>DM</td>\n",
       "      <td>F</td>\n",
       "      <td>NaN</td>\n",
       "      <td>Ecological Archives E090-118-D1.</td>\n",
       "    </tr>\n",
       "    <tr>\n",
       "      <th>3</th>\n",
       "      <td>4</td>\n",
       "      <td>7</td>\n",
       "      <td>16</td>\n",
       "      <td>1977</td>\n",
       "      <td>7</td>\n",
       "      <td>DM</td>\n",
       "      <td>M</td>\n",
       "      <td>NaN</td>\n",
       "      <td>Ecological Archives E090-118-D1.</td>\n",
       "    </tr>\n",
       "    <tr>\n",
       "      <th>4</th>\n",
       "      <td>5</td>\n",
       "      <td>7</td>\n",
       "      <td>16</td>\n",
       "      <td>1977</td>\n",
       "      <td>3</td>\n",
       "      <td>DM</td>\n",
       "      <td>M</td>\n",
       "      <td>NaN</td>\n",
       "      <td>Ecological Archives E090-118-D1.</td>\n",
       "    </tr>\n",
       "  </tbody>\n",
       "</table>\n",
       "</div>"
      ]
     },
     "execution_count": 178,
     "metadata": {},
     "output_type": "execute_result"
    }
   ],
   "execution_count": 178
  },
  {
   "metadata": {
    "ExecuteTime": {
     "end_time": "2024-06-17T08:52:36.489097Z",
     "start_time": "2024-06-17T08:52:36.473456Z"
    }
   },
   "cell_type": "code",
   "source": [
    "'''\n",
    "УПРАЖНЕНИЕ 4\n",
    "Выразите отображение значений (например, M -> male) в объект словаря Python с именем переменной sex_dict. Значения Z соответствуют Not a Number, который можно определить как np.nan.\n",
    "Используйте словарь sex_dict, чтобы заменить значения в столбце verbatimSex новыми значениями и сохранить сопоставленные значения в новом столбце «пол» кадра данных.\n",
    "'''\n",
    "\n",
    "sex_dict = dict({'M': 'male', 'F': 'female', 'nan': np.nan, 'Z': np.nan, 'R' : 'male', 'P': 'female'})\n",
    "survey_data[\"sex\"] = survey_data[\"verbatimSex\"].map(sex_dict)\n",
    "\n",
    "survey_data[\"sex\"].unique()"
   ],
   "id": "5a3ee947fe1dda1a",
   "outputs": [
    {
     "data": {
      "text/plain": [
       "array(['male', 'female', nan], dtype=object)"
      ]
     },
     "execution_count": 179,
     "metadata": {},
     "output_type": "execute_result"
    }
   ],
   "execution_count": 179
  },
  {
   "metadata": {
    "ExecuteTime": {
     "end_time": "2024-06-17T08:52:36.676979Z",
     "start_time": "2024-06-17T08:52:36.565639Z"
    }
   },
   "cell_type": "code",
   "source": [
    "'''\n",
    "УПРАЖНЕНИЕ 5\n",
    "Создайте горизонтальную гистограмму, сравнивая количество записей о мужчинах, женщинах и неизвестных (NaN) в наборе данных.\n",
    "'''\n",
    "\n",
    "grouped1 = survey_data.groupby(\"sex\", dropna=False).count()[\"record_id\"]\n",
    "#grouped1.head()\n",
    "grouped1.plot.barh(grid=True, legend=False)\n",
    "plt.show()\n"
   ],
   "id": "2b569a6cf94c81b9",
   "outputs": [
    {
     "data": {
      "text/plain": [
       "<Figure size 640x480 with 1 Axes>"
      ],
      "image/png": "[encoded data removed]"
     },
     "metadata": {},
     "output_type": "display_data"
    }
   ],
   "execution_count": 180
  },
  {
   "metadata": {
    "ExecuteTime": {
     "end_time": "2024-06-17T08:52:36.712418Z",
     "start_time": "2024-06-17T08:52:36.705685Z"
    }
   },
   "cell_type": "code",
   "source": [
    "survey_data[\"species\"].unique()\n",
    "#survey_data.head(10)\n"
   ],
   "id": "4b1e45473b3d5b85",
   "outputs": [
    {
     "data": {
      "text/plain": [
       "array([nan, 'DM', 'PF', 'PE', 'DM and SH', 'DS', 'PP', 'SH', 'OT', 'DO',\n",
       "       'OX', 'SS', 'OL', 'RM', 'SA', 'PM', 'AH', 'DX', 'AB', 'CB', 'CM',\n",
       "       'CQ', 'RF', 'PC', 'PG', 'PH', 'PU', 'CV', 'UR', 'UP', 'ZL', 'UL',\n",
       "       'CS', 'SC', 'BA', 'SF', 'RO', 'AS', 'SO', 'PI', 'ST', 'CU', 'SU',\n",
       "       'RX', 'PB', 'PL', 'PX', 'CT', 'US'], dtype=object)"
      ]
     },
     "execution_count": 181,
     "metadata": {},
     "output_type": "execute_result"
    }
   ],
   "execution_count": 181
  },
  {
   "metadata": {
    "ExecuteTime": {
     "end_time": "2024-06-17T08:52:36.835945Z",
     "start_time": "2024-06-17T08:52:36.832435Z"
    }
   },
   "cell_type": "code",
   "source": [
    "def solve_double_field_entry(df, keyword=\"and\", column=\"verbatimEventDate\"):\n",
    "    \"\"\" Разделить по ключевому слову в столбце для перечисления и создать дополнительную запись\n",
    "\n",
    "    Параметры\n",
    "    ----------\n",
    "    df: pd.DataFrame\n",
    "    DataFrame с двойной записью поля в одном или нескольких значениях\n",
    "    keyword: str\n",
    "    слово/символ для разделения двойные записи в\n",
    "    column: имя столбца str\n",
    "    для разделения записей\n",
    "    \"\"\"\n",
    "    \n",
    "    df = df.copy() # copy the input DataFrame to avoid editing the original\n",
    "    df[column] = df[column].str.split(keyword)\n",
    "    df = df.explode(column)\n",
    "    df[column] = df[column].str.strip() # remove white space around the words\n",
    "    return df"
   ],
   "id": "f283d7614d2f12f",
   "outputs": [],
   "execution_count": 182
  },
  {
   "metadata": {
    "ExecuteTime": {
     "end_time": "2024-06-17T08:52:36.903567Z",
     "start_time": "2024-06-17T08:52:36.855784Z"
    }
   },
   "cell_type": "code",
   "source": [
    "'''\n",
    "УПРАЖНЕНИЕ 6\n",
    "Используйте функцию solve_double_field_entry, чтобы обновить данные обзора, отделив двойные записи. \n",
    "Сохраните результат как переменную survey_data_decoupled.\n",
    "'''\n",
    "\n",
    "survey_data_decoupled = solve_double_field_entry(survey_data, keyword = \"and\", column = \"species\")\n",
    "#survey_data_decoupled[\"species\"].unique()\n",
    "survey_data_decoupled.head(10)\n"
   ],
   "id": "9b3d7e18fc954810",
   "outputs": [
    {
     "data": {
      "text/plain": [
       "   record_id  month  day  year  plot species verbatimSex  wgt  \\\n",
       "0          1      7   16  1977     2     NaN           M  NaN   \n",
       "1          2      7   16  1977     3     NaN           M  NaN   \n",
       "2          3      7   16  1977     2      DM           F  NaN   \n",
       "3          4      7   16  1977     7      DM           M  NaN   \n",
       "4          5      7   16  1977     3      DM           M  NaN   \n",
       "5          6      7   16  1977     1      PF           M  NaN   \n",
       "6          7      7   16  1977     2      PE           F  NaN   \n",
       "7          8      7   16  1977     1      DM           M  NaN   \n",
       "8          9      7   16  1977     1      DM         NaN  NaN   \n",
       "8          9      7   16  1977     1      SH         NaN  NaN   \n",
       "\n",
       "                        datasetname     sex  \n",
       "0  Ecological Archives E090-118-D1.    male  \n",
       "1  Ecological Archives E090-118-D1.    male  \n",
       "2  Ecological Archives E090-118-D1.  female  \n",
       "3  Ecological Archives E090-118-D1.    male  \n",
       "4  Ecological Archives E090-118-D1.    male  \n",
       "5  Ecological Archives E090-118-D1.    male  \n",
       "6  Ecological Archives E090-118-D1.  female  \n",
       "7  Ecological Archives E090-118-D1.    male  \n",
       "8  Ecological Archives E090-118-D1.     NaN  \n",
       "8  Ecological Archives E090-118-D1.     NaN  "
      ],
      "text/html": [
       "<div>\n",
       "<style scoped>\n",
       "    .dataframe tbody tr th:only-of-type {\n",
       "        vertical-align: middle;\n",
       "    }\n",
       "\n",
       "    .dataframe tbody tr th {\n",
       "        vertical-align: top;\n",
       "    }\n",
       "\n",
       "    .dataframe thead th {\n",
       "        text-align: right;\n",
       "    }\n",
       "</style>\n",
       "<table border=\"1\" class=\"dataframe\">\n",
       "  <thead>\n",
       "    <tr style=\"text-align: right;\">\n",
       "      <th></th>\n",
       "      <th>record_id</th>\n",
       "      <th>month</th>\n",
       "      <th>day</th>\n",
       "      <th>year</th>\n",
       "      <th>plot</th>\n",
       "      <th>species</th>\n",
       "      <th>verbatimSex</th>\n",
       "      <th>wgt</th>\n",
       "      <th>datasetname</th>\n",
       "      <th>sex</th>\n",
       "    </tr>\n",
       "  </thead>\n",
       "  <tbody>\n",
       "    <tr>\n",
       "      <th>0</th>\n",
       "      <td>1</td>\n",
       "      <td>7</td>\n",
       "      <td>16</td>\n",
       "      <td>1977</td>\n",
       "      <td>2</td>\n",
       "      <td>NaN</td>\n",
       "      <td>M</td>\n",
       "      <td>NaN</td>\n",
       "      <td>Ecological Archives E090-118-D1.</td>\n",
       "      <td>male</td>\n",
       "    </tr>\n",
       "    <tr>\n",
       "      <th>1</th>\n",
       "      <td>2</td>\n",
       "      <td>7</td>\n",
       "      <td>16</td>\n",
       "      <td>1977</td>\n",
       "      <td>3</td>\n",
       "      <td>NaN</td>\n",
       "      <td>M</td>\n",
       "      <td>NaN</td>\n",
       "      <td>Ecological Archives E090-118-D1.</td>\n",
       "      <td>male</td>\n",
       "    </tr>\n",
       "    <tr>\n",
       "      <th>2</th>\n",
       "      <td>3</td>\n",
       "      <td>7</td>\n",
       "      <td>16</td>\n",
       "      <td>1977</td>\n",
       "      <td>2</td>\n",
       "      <td>DM</td>\n",
       "      <td>F</td>\n",
       "      <td>NaN</td>\n",
       "      <td>Ecological Archives E090-118-D1.</td>\n",
       "      <td>female</td>\n",
       "    </tr>\n",
       "    <tr>\n",
       "      <th>3</th>\n",
       "      <td>4</td>\n",
       "      <td>7</td>\n",
       "      <td>16</td>\n",
       "      <td>1977</td>\n",
       "      <td>7</td>\n",
       "      <td>DM</td>\n",
       "      <td>M</td>\n",
       "      <td>NaN</td>\n",
       "      <td>Ecological Archives E090-118-D1.</td>\n",
       "      <td>male</td>\n",
       "    </tr>\n",
       "    <tr>\n",
       "      <th>4</th>\n",
       "      <td>5</td>\n",
       "      <td>7</td>\n",
       "      <td>16</td>\n",
       "      <td>1977</td>\n",
       "      <td>3</td>\n",
       "      <td>DM</td>\n",
       "      <td>M</td>\n",
       "      <td>NaN</td>\n",
       "      <td>Ecological Archives E090-118-D1.</td>\n",
       "      <td>male</td>\n",
       "    </tr>\n",
       "    <tr>\n",
       "      <th>5</th>\n",
       "      <td>6</td>\n",
       "      <td>7</td>\n",
       "      <td>16</td>\n",
       "      <td>1977</td>\n",
       "      <td>1</td>\n",
       "      <td>PF</td>\n",
       "      <td>M</td>\n",
       "      <td>NaN</td>\n",
       "      <td>Ecological Archives E090-118-D1.</td>\n",
       "      <td>male</td>\n",
       "    </tr>\n",
       "    <tr>\n",
       "      <th>6</th>\n",
       "      <td>7</td>\n",
       "      <td>7</td>\n",
       "      <td>16</td>\n",
       "      <td>1977</td>\n",
       "      <td>2</td>\n",
       "      <td>PE</td>\n",
       "      <td>F</td>\n",
       "      <td>NaN</td>\n",
       "      <td>Ecological Archives E090-118-D1.</td>\n",
       "      <td>female</td>\n",
       "    </tr>\n",
       "    <tr>\n",
       "      <th>7</th>\n",
       "      <td>8</td>\n",
       "      <td>7</td>\n",
       "      <td>16</td>\n",
       "      <td>1977</td>\n",
       "      <td>1</td>\n",
       "      <td>DM</td>\n",
       "      <td>M</td>\n",
       "      <td>NaN</td>\n",
       "      <td>Ecological Archives E090-118-D1.</td>\n",
       "      <td>male</td>\n",
       "    </tr>\n",
       "    <tr>\n",
       "      <th>8</th>\n",
       "      <td>9</td>\n",
       "      <td>7</td>\n",
       "      <td>16</td>\n",
       "      <td>1977</td>\n",
       "      <td>1</td>\n",
       "      <td>DM</td>\n",
       "      <td>NaN</td>\n",
       "      <td>NaN</td>\n",
       "      <td>Ecological Archives E090-118-D1.</td>\n",
       "      <td>NaN</td>\n",
       "    </tr>\n",
       "    <tr>\n",
       "      <th>8</th>\n",
       "      <td>9</td>\n",
       "      <td>7</td>\n",
       "      <td>16</td>\n",
       "      <td>1977</td>\n",
       "      <td>1</td>\n",
       "      <td>SH</td>\n",
       "      <td>NaN</td>\n",
       "      <td>NaN</td>\n",
       "      <td>Ecological Archives E090-118-D1.</td>\n",
       "      <td>NaN</td>\n",
       "    </tr>\n",
       "  </tbody>\n",
       "</table>\n",
       "</div>"
      ]
     },
     "execution_count": 183,
     "metadata": {},
     "output_type": "execute_result"
    }
   ],
   "execution_count": 183
  },
  {
   "metadata": {
    "ExecuteTime": {
     "end_time": "2024-06-17T08:52:37.051764Z",
     "start_time": "2024-06-17T08:52:37.033436Z"
    }
   },
   "cell_type": "code",
   "source": [
    "survey_data_decoupled[\"occurrence_id\"] = np.arange(1, len(survey_data_decoupled) + 1, 1)\n",
    "survey_data_decoupled = survey_data_decoupled.drop(columns=\"record_id\")\n",
    "survey_data_decoupled.head(10)\n"
   ],
   "id": "fcb6cff2a40aae20",
   "outputs": [
    {
     "data": {
      "text/plain": [
       "   month  day  year  plot species verbatimSex  wgt  \\\n",
       "0      7   16  1977     2     NaN           M  NaN   \n",
       "1      7   16  1977     3     NaN           M  NaN   \n",
       "2      7   16  1977     2      DM           F  NaN   \n",
       "3      7   16  1977     7      DM           M  NaN   \n",
       "4      7   16  1977     3      DM           M  NaN   \n",
       "5      7   16  1977     1      PF           M  NaN   \n",
       "6      7   16  1977     2      PE           F  NaN   \n",
       "7      7   16  1977     1      DM           M  NaN   \n",
       "8      7   16  1977     1      DM         NaN  NaN   \n",
       "8      7   16  1977     1      SH         NaN  NaN   \n",
       "\n",
       "                        datasetname     sex  occurrence_id  \n",
       "0  Ecological Archives E090-118-D1.    male              1  \n",
       "1  Ecological Archives E090-118-D1.    male              2  \n",
       "2  Ecological Archives E090-118-D1.  female              3  \n",
       "3  Ecological Archives E090-118-D1.    male              4  \n",
       "4  Ecological Archives E090-118-D1.    male              5  \n",
       "5  Ecological Archives E090-118-D1.    male              6  \n",
       "6  Ecological Archives E090-118-D1.  female              7  \n",
       "7  Ecological Archives E090-118-D1.    male              8  \n",
       "8  Ecological Archives E090-118-D1.     NaN              9  \n",
       "8  Ecological Archives E090-118-D1.     NaN             10  "
      ],
      "text/html": [
       "<div>\n",
       "<style scoped>\n",
       "    .dataframe tbody tr th:only-of-type {\n",
       "        vertical-align: middle;\n",
       "    }\n",
       "\n",
       "    .dataframe tbody tr th {\n",
       "        vertical-align: top;\n",
       "    }\n",
       "\n",
       "    .dataframe thead th {\n",
       "        text-align: right;\n",
       "    }\n",
       "</style>\n",
       "<table border=\"1\" class=\"dataframe\">\n",
       "  <thead>\n",
       "    <tr style=\"text-align: right;\">\n",
       "      <th></th>\n",
       "      <th>month</th>\n",
       "      <th>day</th>\n",
       "      <th>year</th>\n",
       "      <th>plot</th>\n",
       "      <th>species</th>\n",
       "      <th>verbatimSex</th>\n",
       "      <th>wgt</th>\n",
       "      <th>datasetname</th>\n",
       "      <th>sex</th>\n",
       "      <th>occurrence_id</th>\n",
       "    </tr>\n",
       "  </thead>\n",
       "  <tbody>\n",
       "    <tr>\n",
       "      <th>0</th>\n",
       "      <td>7</td>\n",
       "      <td>16</td>\n",
       "      <td>1977</td>\n",
       "      <td>2</td>\n",
       "      <td>NaN</td>\n",
       "      <td>M</td>\n",
       "      <td>NaN</td>\n",
       "      <td>Ecological Archives E090-118-D1.</td>\n",
       "      <td>male</td>\n",
       "      <td>1</td>\n",
       "    </tr>\n",
       "    <tr>\n",
       "      <th>1</th>\n",
       "      <td>7</td>\n",
       "      <td>16</td>\n",
       "      <td>1977</td>\n",
       "      <td>3</td>\n",
       "      <td>NaN</td>\n",
       "      <td>M</td>\n",
       "      <td>NaN</td>\n",
       "      <td>Ecological Archives E090-118-D1.</td>\n",
       "      <td>male</td>\n",
       "      <td>2</td>\n",
       "    </tr>\n",
       "    <tr>\n",
       "      <th>2</th>\n",
       "      <td>7</td>\n",
       "      <td>16</td>\n",
       "      <td>1977</td>\n",
       "      <td>2</td>\n",
       "      <td>DM</td>\n",
       "      <td>F</td>\n",
       "      <td>NaN</td>\n",
       "      <td>Ecological Archives E090-118-D1.</td>\n",
       "      <td>female</td>\n",
       "      <td>3</td>\n",
       "    </tr>\n",
       "    <tr>\n",
       "      <th>3</th>\n",
       "      <td>7</td>\n",
       "      <td>16</td>\n",
       "      <td>1977</td>\n",
       "      <td>7</td>\n",
       "      <td>DM</td>\n",
       "      <td>M</td>\n",
       "      <td>NaN</td>\n",
       "      <td>Ecological Archives E090-118-D1.</td>\n",
       "      <td>male</td>\n",
       "      <td>4</td>\n",
       "    </tr>\n",
       "    <tr>\n",
       "      <th>4</th>\n",
       "      <td>7</td>\n",
       "      <td>16</td>\n",
       "      <td>1977</td>\n",
       "      <td>3</td>\n",
       "      <td>DM</td>\n",
       "      <td>M</td>\n",
       "      <td>NaN</td>\n",
       "      <td>Ecological Archives E090-118-D1.</td>\n",
       "      <td>male</td>\n",
       "      <td>5</td>\n",
       "    </tr>\n",
       "    <tr>\n",
       "      <th>5</th>\n",
       "      <td>7</td>\n",
       "      <td>16</td>\n",
       "      <td>1977</td>\n",
       "      <td>1</td>\n",
       "      <td>PF</td>\n",
       "      <td>M</td>\n",
       "      <td>NaN</td>\n",
       "      <td>Ecological Archives E090-118-D1.</td>\n",
       "      <td>male</td>\n",
       "      <td>6</td>\n",
       "    </tr>\n",
       "    <tr>\n",
       "      <th>6</th>\n",
       "      <td>7</td>\n",
       "      <td>16</td>\n",
       "      <td>1977</td>\n",
       "      <td>2</td>\n",
       "      <td>PE</td>\n",
       "      <td>F</td>\n",
       "      <td>NaN</td>\n",
       "      <td>Ecological Archives E090-118-D1.</td>\n",
       "      <td>female</td>\n",
       "      <td>7</td>\n",
       "    </tr>\n",
       "    <tr>\n",
       "      <th>7</th>\n",
       "      <td>7</td>\n",
       "      <td>16</td>\n",
       "      <td>1977</td>\n",
       "      <td>1</td>\n",
       "      <td>DM</td>\n",
       "      <td>M</td>\n",
       "      <td>NaN</td>\n",
       "      <td>Ecological Archives E090-118-D1.</td>\n",
       "      <td>male</td>\n",
       "      <td>8</td>\n",
       "    </tr>\n",
       "    <tr>\n",
       "      <th>8</th>\n",
       "      <td>7</td>\n",
       "      <td>16</td>\n",
       "      <td>1977</td>\n",
       "      <td>1</td>\n",
       "      <td>DM</td>\n",
       "      <td>NaN</td>\n",
       "      <td>NaN</td>\n",
       "      <td>Ecological Archives E090-118-D1.</td>\n",
       "      <td>NaN</td>\n",
       "      <td>9</td>\n",
       "    </tr>\n",
       "    <tr>\n",
       "      <th>8</th>\n",
       "      <td>7</td>\n",
       "      <td>16</td>\n",
       "      <td>1977</td>\n",
       "      <td>1</td>\n",
       "      <td>SH</td>\n",
       "      <td>NaN</td>\n",
       "      <td>NaN</td>\n",
       "      <td>Ecological Archives E090-118-D1.</td>\n",
       "      <td>NaN</td>\n",
       "      <td>10</td>\n",
       "    </tr>\n",
       "  </tbody>\n",
       "</table>\n",
       "</div>"
      ]
     },
     "execution_count": 184,
     "metadata": {},
     "output_type": "execute_result"
    }
   ],
   "execution_count": 184
  },
  {
   "metadata": {
    "ExecuteTime": {
     "end_time": "2024-06-17T08:52:37.111444Z",
     "start_time": "2024-06-17T08:52:37.091775Z"
    }
   },
   "cell_type": "code",
   "source": [
    "'''\n",
    "УПРАЖНЕНИЕ 7\n",
    "\n",
    "Сделайте выборку survey_data_decoupled, содержащую те записи, которые не могут быть правильно интерпретированы как значения даты, и сохраните полученный DataFrame как новую переменную trouble_makers.\n",
    "'''\n",
    "\n",
    "markers = pd.to_datetime(survey_data_decoupled[[\"year\", \"month\", \"day\"]], errors='coerce').isna()\n",
    "trouble_makers = survey_data_decoupled[markers]\n",
    "\n",
    "trouble_makers.head()\n",
    "#trouble_makers[\"day\"].unique()\n",
    "#trouble_makers[\"month\"].unique()\n",
    "#trouble_makers[\"year\"].unique()\n"
   ],
   "id": "42d245a4241f5928",
   "outputs": [
    {
     "data": {
      "text/plain": [
       "       month  day  year  plot species verbatimSex   wgt  \\\n",
       "30649      4   31  2000     6      PP           F  19.0   \n",
       "30650      4   31  2000     6      PB           M  32.0   \n",
       "30651      4   31  2000     6      PB           F  30.0   \n",
       "30652      4   31  2000     6      PP           M  20.0   \n",
       "30653      4   31  2000     6      PP           M  24.0   \n",
       "\n",
       "                            datasetname     sex  occurrence_id  \n",
       "30649  Ecological Archives E090-118-D1.  female          30651  \n",
       "30650  Ecological Archives E090-118-D1.    male          30652  \n",
       "30651  Ecological Archives E090-118-D1.  female          30653  \n",
       "30652  Ecological Archives E090-118-D1.    male          30654  \n",
       "30653  Ecological Archives E090-118-D1.    male          30655  "
      ],
      "text/html": [
       "<div>\n",
       "<style scoped>\n",
       "    .dataframe tbody tr th:only-of-type {\n",
       "        vertical-align: middle;\n",
       "    }\n",
       "\n",
       "    .dataframe tbody tr th {\n",
       "        vertical-align: top;\n",
       "    }\n",
       "\n",
       "    .dataframe thead th {\n",
       "        text-align: right;\n",
       "    }\n",
       "</style>\n",
       "<table border=\"1\" class=\"dataframe\">\n",
       "  <thead>\n",
       "    <tr style=\"text-align: right;\">\n",
       "      <th></th>\n",
       "      <th>month</th>\n",
       "      <th>day</th>\n",
       "      <th>year</th>\n",
       "      <th>plot</th>\n",
       "      <th>species</th>\n",
       "      <th>verbatimSex</th>\n",
       "      <th>wgt</th>\n",
       "      <th>datasetname</th>\n",
       "      <th>sex</th>\n",
       "      <th>occurrence_id</th>\n",
       "    </tr>\n",
       "  </thead>\n",
       "  <tbody>\n",
       "    <tr>\n",
       "      <th>30649</th>\n",
       "      <td>4</td>\n",
       "      <td>31</td>\n",
       "      <td>2000</td>\n",
       "      <td>6</td>\n",
       "      <td>PP</td>\n",
       "      <td>F</td>\n",
       "      <td>19.0</td>\n",
       "      <td>Ecological Archives E090-118-D1.</td>\n",
       "      <td>female</td>\n",
       "      <td>30651</td>\n",
       "    </tr>\n",
       "    <tr>\n",
       "      <th>30650</th>\n",
       "      <td>4</td>\n",
       "      <td>31</td>\n",
       "      <td>2000</td>\n",
       "      <td>6</td>\n",
       "      <td>PB</td>\n",
       "      <td>M</td>\n",
       "      <td>32.0</td>\n",
       "      <td>Ecological Archives E090-118-D1.</td>\n",
       "      <td>male</td>\n",
       "      <td>30652</td>\n",
       "    </tr>\n",
       "    <tr>\n",
       "      <th>30651</th>\n",
       "      <td>4</td>\n",
       "      <td>31</td>\n",
       "      <td>2000</td>\n",
       "      <td>6</td>\n",
       "      <td>PB</td>\n",
       "      <td>F</td>\n",
       "      <td>30.0</td>\n",
       "      <td>Ecological Archives E090-118-D1.</td>\n",
       "      <td>female</td>\n",
       "      <td>30653</td>\n",
       "    </tr>\n",
       "    <tr>\n",
       "      <th>30652</th>\n",
       "      <td>4</td>\n",
       "      <td>31</td>\n",
       "      <td>2000</td>\n",
       "      <td>6</td>\n",
       "      <td>PP</td>\n",
       "      <td>M</td>\n",
       "      <td>20.0</td>\n",
       "      <td>Ecological Archives E090-118-D1.</td>\n",
       "      <td>male</td>\n",
       "      <td>30654</td>\n",
       "    </tr>\n",
       "    <tr>\n",
       "      <th>30653</th>\n",
       "      <td>4</td>\n",
       "      <td>31</td>\n",
       "      <td>2000</td>\n",
       "      <td>6</td>\n",
       "      <td>PP</td>\n",
       "      <td>M</td>\n",
       "      <td>24.0</td>\n",
       "      <td>Ecological Archives E090-118-D1.</td>\n",
       "      <td>male</td>\n",
       "      <td>30655</td>\n",
       "    </tr>\n",
       "  </tbody>\n",
       "</table>\n",
       "</div>"
      ]
     },
     "execution_count": 185,
     "metadata": {},
     "output_type": "execute_result"
    }
   ],
   "execution_count": 185
  },
  {
   "metadata": {
    "ExecuteTime": {
     "end_time": "2024-06-17T08:52:37.134511Z",
     "start_time": "2024-06-17T08:52:37.121460Z"
    }
   },
   "cell_type": "code",
   "source": [
    "'''\n",
    "#### УПРАЖНЕНИЕ 8\n",
    "Присвойте во фрейме данных survey_data_decoupled всем значениям дня нарушителей спокойствия значение 30 вместо 31.\n",
    "'''\n",
    "survey_data_decoupled.loc[markers, [\"day\"]] = 30\n",
    "\n",
    "# check\n",
    "pd.to_datetime(survey_data_decoupled[[\"year\", \"month\", \"day\"]], errors='coerce').isna().sum()"
   ],
   "id": "bf94661715c78abc",
   "outputs": [
    {
     "data": {
      "text/plain": [
       "0"
      ]
     },
     "execution_count": 186,
     "metadata": {},
     "output_type": "execute_result"
    }
   ],
   "execution_count": 186
  },
  {
   "metadata": {
    "ExecuteTime": {
     "end_time": "2024-06-17T08:52:37.269384Z",
     "start_time": "2024-06-17T08:52:37.253534Z"
    }
   },
   "cell_type": "code",
   "source": [
    "survey_data_decoupled[\"eventDate\"] = pd.to_datetime(survey_data_decoupled[[\"year\", \"month\", \"day\"]])\n",
    "survey_data_decoupled = survey_data_decoupled.drop(columns=[\"day\", \"month\", \"year\"])\n",
    "\n",
    "survey_data_decoupled[ \"eventDate\" ].dtype\n"
   ],
   "id": "f0367dc3758b8200",
   "outputs": [
    {
     "data": {
      "text/plain": [
       "dtype('<M8[ns]')"
      ]
     },
     "execution_count": 187,
     "metadata": {},
     "output_type": "execute_result"
    }
   ],
   "execution_count": 187
  },
  {
   "metadata": {
    "ExecuteTime": {
     "end_time": "2024-06-17T08:52:37.624038Z",
     "start_time": "2024-06-17T08:52:37.445436Z"
    }
   },
   "cell_type": "code",
   "source": [
    "'''\n",
    "УПРАЖНЕНИЕ 10\n",
    "\n",
    "Создайте горизонтальную гистограмму с количеством записей для каждого года, \n",
    "но без использования столбца года, используя непосредственно столбец eventDate.\n",
    "'''\n",
    "\n",
    "grouped1 = survey_data_decoupled.groupby(survey_data_decoupled[\"eventDate\"].dt.year, dropna=False).count()[\"occurrence_id\"]\n",
    "#grouped1.head()\n",
    "grouped1.plot.barh(grid=True, legend=False, title=\"Количество записей по годам\")\n",
    "plt.show()\n"
   ],
   "id": "d182f33f359840fd",
   "outputs": [
    {
     "data": {
      "text/plain": [
       "<Figure size 640x480 with 1 Axes>"
      ],
      "image/png": "[encoded data removed]"
     },
     "metadata": {},
     "output_type": "display_data"
    }
   ],
   "execution_count": 188
  },
  {
   "metadata": {
    "ExecuteTime": {
     "end_time": "2024-06-17T08:52:37.754645Z",
     "start_time": "2024-06-17T08:52:37.624038Z"
    }
   },
   "cell_type": "code",
   "source": [
    "'''\n",
    "УПРАЖНЕНИЕ 11\n",
    "Создайте гистограмму с количеством записей для каждого дня недели (dayofweek)\n",
    "'''\n",
    "\n",
    "grouped1 = survey_data_decoupled.groupby(survey_data_decoupled[\"eventDate\"].dt.dayofweek, dropna=False).count()[\"occurrence_id\"]\n",
    "#grouped1.head()\n",
    "\n",
    "ax = grouped1.plot.barh(grid=True, legend=False, title=\"Количество записей по дням недели\")\n",
    "\n",
    "ticks_loc = ax.get_yticks().tolist()\n",
    "ax.yaxis.set_ticks(ticks_loc)\n",
    "values_list = list(day_abbr)\n",
    "ax.set_yticklabels(values_list)\n",
    "ax.set_ylabel(\"день недели\") \n",
    "\n",
    "plt.show()\n"
   ],
   "id": "5d6b552f7344678b",
   "outputs": [
    {
     "data": {
      "text/plain": [
       "<Figure size 640x480 with 1 Axes>"
      ],
      "image/png": "[encoded data removed]"
     },
     "metadata": {},
     "output_type": "display_data"
    }
   ],
   "execution_count": 189
  },
  {
   "metadata": {
    "ExecuteTime": {
     "end_time": "2024-06-17T08:52:37.762709Z",
     "start_time": "2024-06-17T08:52:37.754645Z"
    }
   },
   "cell_type": "code",
   "source": [
    "'''\n",
    "УПРАЖНЕНИЕ 12\n",
    "Прочитайте файл «species.csv» и сохраните полученный набор данных как переменную species_data.\n",
    "'''\n",
    "spec_filename = \"..\\\\..\\\\data\\\\003\\\\species.csv\"\n",
    "species_data = pd.read_csv(spec_filename, sep=\";\")\n",
    "species_data.head()\n"
   ],
   "id": "c1d5548d97dc0103",
   "outputs": [
    {
     "data": {
      "text/plain": [
       "  species_id             genus          species                 taxa\n",
       "0         AB        Amphispiza        bilineata                 Bird\n",
       "1         AH  Ammospermophilus          harrisi  Rodent-not censused\n",
       "2         AS        Ammodramus       savannarum                 Bird\n",
       "3         BA           Baiomys          taylori               Rodent\n",
       "4         CB   Campylorhynchus  brunneicapillus                 Bird"
      ],
      "text/html": [
       "<div>\n",
       "<style scoped>\n",
       "    .dataframe tbody tr th:only-of-type {\n",
       "        vertical-align: middle;\n",
       "    }\n",
       "\n",
       "    .dataframe tbody tr th {\n",
       "        vertical-align: top;\n",
       "    }\n",
       "\n",
       "    .dataframe thead th {\n",
       "        text-align: right;\n",
       "    }\n",
       "</style>\n",
       "<table border=\"1\" class=\"dataframe\">\n",
       "  <thead>\n",
       "    <tr style=\"text-align: right;\">\n",
       "      <th></th>\n",
       "      <th>species_id</th>\n",
       "      <th>genus</th>\n",
       "      <th>species</th>\n",
       "      <th>taxa</th>\n",
       "    </tr>\n",
       "  </thead>\n",
       "  <tbody>\n",
       "    <tr>\n",
       "      <th>0</th>\n",
       "      <td>AB</td>\n",
       "      <td>Amphispiza</td>\n",
       "      <td>bilineata</td>\n",
       "      <td>Bird</td>\n",
       "    </tr>\n",
       "    <tr>\n",
       "      <th>1</th>\n",
       "      <td>AH</td>\n",
       "      <td>Ammospermophilus</td>\n",
       "      <td>harrisi</td>\n",
       "      <td>Rodent-not censused</td>\n",
       "    </tr>\n",
       "    <tr>\n",
       "      <th>2</th>\n",
       "      <td>AS</td>\n",
       "      <td>Ammodramus</td>\n",
       "      <td>savannarum</td>\n",
       "      <td>Bird</td>\n",
       "    </tr>\n",
       "    <tr>\n",
       "      <th>3</th>\n",
       "      <td>BA</td>\n",
       "      <td>Baiomys</td>\n",
       "      <td>taylori</td>\n",
       "      <td>Rodent</td>\n",
       "    </tr>\n",
       "    <tr>\n",
       "      <th>4</th>\n",
       "      <td>CB</td>\n",
       "      <td>Campylorhynchus</td>\n",
       "      <td>brunneicapillus</td>\n",
       "      <td>Bird</td>\n",
       "    </tr>\n",
       "  </tbody>\n",
       "</table>\n",
       "</div>"
      ]
     },
     "execution_count": 190,
     "metadata": {},
     "output_type": "execute_result"
    }
   ],
   "execution_count": 190
  },
  {
   "metadata": {
    "ExecuteTime": {
     "end_time": "2024-06-17T08:52:37.767189Z",
     "start_time": "2024-06-17T08:52:37.762709Z"
    }
   },
   "cell_type": "code",
   "source": [
    "'''\n",
    "УПРАЖНЕНИЕ 13\n",
    "Преобразуйте значение «NE» в «NA», используя логическое индексирование/фильтрацию для столбца species_id.\n",
    "'''\n",
    "species_data.loc[species_data[\"species_id\"] == \"NE\", [\"species_id\"]] = \"NA\"\n"
   ],
   "id": "301117fdfa44bc7c",
   "outputs": [],
   "execution_count": 191
  },
  {
   "metadata": {
    "ExecuteTime": {
     "end_time": "2024-06-17T08:52:37.866271Z",
     "start_time": "2024-06-17T08:52:37.835273Z"
    }
   },
   "cell_type": "code",
   "source": [
    "'''\n",
    "УПРАЖНЕНИЕ 14\n",
    "Объедините фреймы данных survey_data_decoupled и фрейм данных видов данных путем добавления соответствующей информации о видах (название, класс, царство и т. д.) к отдельным наблюдениям. \n",
    "Назначьте выходные данные новой переменной survey_data_species.\n",
    "'''\n",
    "\n",
    "survey_data_species = pd.merge(survey_data_decoupled, species_data, how=\"left\", left_on=\"species\", right_on=\"species_id\")\n",
    "survey_data_species = survey_data_species.drop([\"species_x\" , \"species_id\" ], axis = 1)\n",
    "survey_data_species = survey_data_species.rename (columns = { \"species_y\" : \"species\" })    \n",
    "survey_data_species.head()\n"
   ],
   "id": "d2095cc8802af221",
   "outputs": [
    {
     "data": {
      "text/plain": [
       "   plot verbatimSex  wgt                       datasetname     sex  \\\n",
       "0     2           M  NaN  Ecological Archives E090-118-D1.    male   \n",
       "1     3           M  NaN  Ecological Archives E090-118-D1.    male   \n",
       "2     2           F  NaN  Ecological Archives E090-118-D1.  female   \n",
       "3     7           M  NaN  Ecological Archives E090-118-D1.    male   \n",
       "4     3           M  NaN  Ecological Archives E090-118-D1.    male   \n",
       "\n",
       "   occurrence_id  eventDate      genus   species    taxa  \n",
       "0              1 1977-07-16        NaN       NaN     NaN  \n",
       "1              2 1977-07-16        NaN       NaN     NaN  \n",
       "2              3 1977-07-16  Dipodomys  merriami  Rodent  \n",
       "3              4 1977-07-16  Dipodomys  merriami  Rodent  \n",
       "4              5 1977-07-16  Dipodomys  merriami  Rodent  "
      ],
      "text/html": [
       "<div>\n",
       "<style scoped>\n",
       "    .dataframe tbody tr th:only-of-type {\n",
       "        vertical-align: middle;\n",
       "    }\n",
       "\n",
       "    .dataframe tbody tr th {\n",
       "        vertical-align: top;\n",
       "    }\n",
       "\n",
       "    .dataframe thead th {\n",
       "        text-align: right;\n",
       "    }\n",
       "</style>\n",
       "<table border=\"1\" class=\"dataframe\">\n",
       "  <thead>\n",
       "    <tr style=\"text-align: right;\">\n",
       "      <th></th>\n",
       "      <th>plot</th>\n",
       "      <th>verbatimSex</th>\n",
       "      <th>wgt</th>\n",
       "      <th>datasetname</th>\n",
       "      <th>sex</th>\n",
       "      <th>occurrence_id</th>\n",
       "      <th>eventDate</th>\n",
       "      <th>genus</th>\n",
       "      <th>species</th>\n",
       "      <th>taxa</th>\n",
       "    </tr>\n",
       "  </thead>\n",
       "  <tbody>\n",
       "    <tr>\n",
       "      <th>0</th>\n",
       "      <td>2</td>\n",
       "      <td>M</td>\n",
       "      <td>NaN</td>\n",
       "      <td>Ecological Archives E090-118-D1.</td>\n",
       "      <td>male</td>\n",
       "      <td>1</td>\n",
       "      <td>1977-07-16</td>\n",
       "      <td>NaN</td>\n",
       "      <td>NaN</td>\n",
       "      <td>NaN</td>\n",
       "    </tr>\n",
       "    <tr>\n",
       "      <th>1</th>\n",
       "      <td>3</td>\n",
       "      <td>M</td>\n",
       "      <td>NaN</td>\n",
       "      <td>Ecological Archives E090-118-D1.</td>\n",
       "      <td>male</td>\n",
       "      <td>2</td>\n",
       "      <td>1977-07-16</td>\n",
       "      <td>NaN</td>\n",
       "      <td>NaN</td>\n",
       "      <td>NaN</td>\n",
       "    </tr>\n",
       "    <tr>\n",
       "      <th>2</th>\n",
       "      <td>2</td>\n",
       "      <td>F</td>\n",
       "      <td>NaN</td>\n",
       "      <td>Ecological Archives E090-118-D1.</td>\n",
       "      <td>female</td>\n",
       "      <td>3</td>\n",
       "      <td>1977-07-16</td>\n",
       "      <td>Dipodomys</td>\n",
       "      <td>merriami</td>\n",
       "      <td>Rodent</td>\n",
       "    </tr>\n",
       "    <tr>\n",
       "      <th>3</th>\n",
       "      <td>7</td>\n",
       "      <td>M</td>\n",
       "      <td>NaN</td>\n",
       "      <td>Ecological Archives E090-118-D1.</td>\n",
       "      <td>male</td>\n",
       "      <td>4</td>\n",
       "      <td>1977-07-16</td>\n",
       "      <td>Dipodomys</td>\n",
       "      <td>merriami</td>\n",
       "      <td>Rodent</td>\n",
       "    </tr>\n",
       "    <tr>\n",
       "      <th>4</th>\n",
       "      <td>3</td>\n",
       "      <td>M</td>\n",
       "      <td>NaN</td>\n",
       "      <td>Ecological Archives E090-118-D1.</td>\n",
       "      <td>male</td>\n",
       "      <td>5</td>\n",
       "      <td>1977-07-16</td>\n",
       "      <td>Dipodomys</td>\n",
       "      <td>merriami</td>\n",
       "      <td>Rodent</td>\n",
       "    </tr>\n",
       "  </tbody>\n",
       "</table>\n",
       "</div>"
      ]
     },
     "execution_count": 192,
     "metadata": {},
     "output_type": "execute_result"
    }
   ],
   "execution_count": 192
  },
  {
   "metadata": {
    "ExecuteTime": {
     "end_time": "2024-06-17T08:52:37.882543Z",
     "start_time": "2024-06-17T08:52:37.866271Z"
    }
   },
   "cell_type": "code",
   "source": [
    "'''\n",
    "УПРАЖНЕНИЕ 15\n",
    "Прочитайте файл excel 'plot_location.xlsx' и сохраните данные как переменную plot_data с 3 столбцами: plot, xutm, yutm.\n",
    "'''\n",
    "\n",
    "location_filename = \"..\\\\..\\\\data\\\\003\\\\plot_location.xlsx\"\n",
    "plot_data = pd.read_excel(location_filename)\n",
    "plot_data.head()\n"
   ],
   "id": "ac59c33a9119290c",
   "outputs": [
    {
     "data": {
      "text/plain": [
       "         Coordinates Ecological Archives E090-118-D1 Unnamed: 1  \\\n",
       "0  http://esapubs.org/archive/ecol/E090/118/Porta...        NaN   \n",
       "1                                                NaN        NaN   \n",
       "2                                                NaN       plot   \n",
       "3                                                  0          1   \n",
       "4                                                  1          2   \n",
       "\n",
       "      Unnamed: 2      Unnamed: 3  \n",
       "0            NaN             NaN  \n",
       "1            NaN             NaN  \n",
       "2           xutm            yutm  \n",
       "3  681222.131658  3535262.123799  \n",
       "4  681302.799361  3535267.545114  "
      ],
      "text/html": [
       "<div>\n",
       "<style scoped>\n",
       "    .dataframe tbody tr th:only-of-type {\n",
       "        vertical-align: middle;\n",
       "    }\n",
       "\n",
       "    .dataframe tbody tr th {\n",
       "        vertical-align: top;\n",
       "    }\n",
       "\n",
       "    .dataframe thead th {\n",
       "        text-align: right;\n",
       "    }\n",
       "</style>\n",
       "<table border=\"1\" class=\"dataframe\">\n",
       "  <thead>\n",
       "    <tr style=\"text-align: right;\">\n",
       "      <th></th>\n",
       "      <th>Coordinates Ecological Archives E090-118-D1</th>\n",
       "      <th>Unnamed: 1</th>\n",
       "      <th>Unnamed: 2</th>\n",
       "      <th>Unnamed: 3</th>\n",
       "    </tr>\n",
       "  </thead>\n",
       "  <tbody>\n",
       "    <tr>\n",
       "      <th>0</th>\n",
       "      <td>http://esapubs.org/archive/ecol/E090/118/Porta...</td>\n",
       "      <td>NaN</td>\n",
       "      <td>NaN</td>\n",
       "      <td>NaN</td>\n",
       "    </tr>\n",
       "    <tr>\n",
       "      <th>1</th>\n",
       "      <td>NaN</td>\n",
       "      <td>NaN</td>\n",
       "      <td>NaN</td>\n",
       "      <td>NaN</td>\n",
       "    </tr>\n",
       "    <tr>\n",
       "      <th>2</th>\n",
       "      <td>NaN</td>\n",
       "      <td>plot</td>\n",
       "      <td>xutm</td>\n",
       "      <td>yutm</td>\n",
       "    </tr>\n",
       "    <tr>\n",
       "      <th>3</th>\n",
       "      <td>0</td>\n",
       "      <td>1</td>\n",
       "      <td>681222.131658</td>\n",
       "      <td>3535262.123799</td>\n",
       "    </tr>\n",
       "    <tr>\n",
       "      <th>4</th>\n",
       "      <td>1</td>\n",
       "      <td>2</td>\n",
       "      <td>681302.799361</td>\n",
       "      <td>3535267.545114</td>\n",
       "    </tr>\n",
       "  </tbody>\n",
       "</table>\n",
       "</div>"
      ]
     },
     "execution_count": 193,
     "metadata": {},
     "output_type": "execute_result"
    }
   ],
   "execution_count": 193
  },
  {
   "metadata": {
    "ExecuteTime": {
     "end_time": "2024-06-17T08:52:37.895883Z",
     "start_time": "2024-06-17T08:52:37.892559Z"
    }
   },
   "cell_type": "code",
   "source": "",
   "id": "3b3b94ad8585183a",
   "outputs": [],
   "execution_count": 193
  }
 ],
 "metadata": {
  "kernelspec": {
   "display_name": "Python 3",
   "language": "python",
   "name": "python3"
  },
  "language_info": {
   "codemirror_mode": {
    "name": "ipython",
    "version": 2
   },
   "file_extension": ".py",
   "mimetype": "text/x-python",
   "name": "python",
   "nbconvert_exporter": "python",
   "pygments_lexer": "ipython2",
   "version": "2.7.6"
  }
 },
 "nbformat": 4,
 "nbformat_minor": 5
}
