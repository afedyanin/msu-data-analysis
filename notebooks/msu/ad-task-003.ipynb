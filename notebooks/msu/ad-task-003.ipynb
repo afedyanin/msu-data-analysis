{
 "cells": [
  {
   "metadata": {},
   "cell_type": "markdown",
   "source": [
    "# Задание 3: Разведочный анализ\n",
    "\n",
    "Данные наблюдений за видами (когда и где наблюдается данный вид) типичны для исследований биоразнообразия. \n",
    "Крупные международные инициативы поддерживают сбор этих данных волонтерами, например, iNaturalist. \n",
    "Благодаря таким инициативам, как GBIF, многие из этих данных также находятся в открытом доступе.\n",
    "\n",
    "Вы решили поделиться данными полевой кампании, но набор данных все еще требует некоторой очистки и стандартизации. \n",
    "Например, координаты могут называться x/y, decimalLatitude/decimalLongitude, lat/long ... \n",
    "К счастью, вы знаете о международном стандарте открытых данных для описания данных о событиях/наблюдениях, т.е. Darwin Core (DwC). \n",
    "Вместо того, чтобы изобретать собственную модель данных, вы решаете соответствовать этому международному стандарту. \n",
    "Последнее улучшит коммуникацию, а также сделает ваши данные совместимыми с GBIF.\n",
    "\n",
    "Короче говоря, DwC описывает плоскую таблицу (CSV) с согласованным соглашением об именах для имен заголовков и соглашениями о том, как должны быть представлены определенные типы данных (для справки, подробное описание дано здесь). \n",
    "В этом руководстве мы сосредоточимся на нескольких существующих терминах, чтобы изучить некоторые элементы очистки данных:\n",
    "\n",
    "- eventDate : формат дат ISO 6801\n",
    "- ScientificName : общепринятое научное название вида.\n",
    "- decimalLatitude / decimalLongitude : координаты вхождения в формате WGS84\n",
    "- sex: либо мужской , либо женский , чтобы охарактеризовать пол события\n",
    "- instanceID : идентификатор в наборе данных для идентификации отдельных записей.\n",
    "- datasetName : статическая строка, определяющая источник данных\n",
    "\n",
    "Кроме того, дополнительная информация о таксономии будет добавлена с использованием внешнего API-сервиса.\n"
   ],
   "id": "9b89465e3a86b9ef"
  },
  {
   "cell_type": "code",
   "id": "initial_id",
   "metadata": {
    "collapsed": true,
    "ExecuteTime": {
     "end_time": "2024-06-14T17:15:50.748506Z",
     "start_time": "2024-06-14T17:15:50.739793Z"
    }
   },
   "source": [
    "import csv\n",
    "from datetime import date, timedelta, datetime\n",
    "from calendar import month_abbr, day_abbr\n",
    "\n",
    "import numpy as np\n",
    "import pandas as pd\n",
    "import matplotlib.pyplot as plt\n",
    "import seaborn as sns\n"
   ],
   "outputs": [],
   "execution_count": 20
  },
  {
   "metadata": {
    "ExecuteTime": {
     "end_time": "2024-06-14T17:15:50.795903Z",
     "start_time": "2024-06-14T17:15:50.788515Z"
    }
   },
   "cell_type": "code",
   "source": [
    "#spec_filename = \"..\\\\..\\\\data\\\\003\\\\species.csv\"\n",
    "#spec = pd.read_csv(spec_filename, sep=\";\")\n",
    "#spec.head()"
   ],
   "id": "83b35aa184129cd2",
   "outputs": [],
   "execution_count": 21
  },
  {
   "metadata": {
    "ExecuteTime": {
     "end_time": "2024-06-14T17:15:50.818423Z",
     "start_time": "2024-06-14T17:15:50.795903Z"
    }
   },
   "cell_type": "code",
   "source": [
    "survey_filename = \"..\\\\..\\\\data\\\\003\\\\surveys.csv\"\n",
    "survey_data = pd.read_csv(survey_filename, sep=\",\")\n",
    "#survey_data.head()"
   ],
   "id": "69c56f7b96871322",
   "outputs": [],
   "execution_count": 22
  },
  {
   "metadata": {
    "ExecuteTime": {
     "end_time": "2024-06-14T17:15:50.826933Z",
     "start_time": "2024-06-14T17:15:50.818423Z"
    }
   },
   "cell_type": "code",
   "source": [
    "'''\n",
    "Упражнение 1\n",
    "Сколько уникальных записей содержит набор данных?\n",
    "'''\n",
    "#survey_data.count()\n",
    "survey_data.info()\n"
   ],
   "id": "8dbda3cf4ce35b81",
   "outputs": [
    {
     "name": "stdout",
     "output_type": "stream",
     "text": [
      "<class 'pandas.core.frame.DataFrame'>\n",
      "RangeIndex: 35549 entries, 0 to 35548\n",
      "Data columns (total 8 columns):\n",
      " #   Column     Non-Null Count  Dtype  \n",
      "---  ------     --------------  -----  \n",
      " 0   record_id  35549 non-null  int64  \n",
      " 1   month      35549 non-null  int64  \n",
      " 2   day        35549 non-null  int64  \n",
      " 3   year       35549 non-null  int64  \n",
      " 4   plot       35549 non-null  int64  \n",
      " 5   species    33534 non-null  object \n",
      " 6   sex_char   33042 non-null  object \n",
      " 7   wgt        32283 non-null  float64\n",
      "dtypes: float64(1), int64(5), object(2)\n",
      "memory usage: 2.2+ MB\n"
     ]
    }
   ],
   "execution_count": 23
  },
  {
   "metadata": {
    "ExecuteTime": {
     "end_time": "2024-06-14T17:15:50.837281Z",
     "start_time": "2024-06-14T17:15:50.826933Z"
    }
   },
   "cell_type": "code",
   "source": [
    "'''\n",
    "УПРАЖНЕНИЕ 2\n",
    "Добавьте новый столбец datasetName в набор данных опроса с datasetname в качестве значения для всех записей (статическое значение для всего набора данных).\n",
    "'''\n",
    "survey_data[\"datasetname\"] = \"Ecological Archives E090-118-D1.\"\n",
    "\n",
    "survey_data.head()"
   ],
   "id": "ee9eb1ec32c30a70",
   "outputs": [
    {
     "data": {
      "text/plain": [
       "   record_id  month  day  year  plot species sex_char  wgt  \\\n",
       "0          1      7   16  1977     2     NaN        M  NaN   \n",
       "1          2      7   16  1977     3     NaN        M  NaN   \n",
       "2          3      7   16  1977     2      DM        F  NaN   \n",
       "3          4      7   16  1977     7      DM        M  NaN   \n",
       "4          5      7   16  1977     3      DM        M  NaN   \n",
       "\n",
       "                        datasetname  \n",
       "0  Ecological Archives E090-118-D1.  \n",
       "1  Ecological Archives E090-118-D1.  \n",
       "2  Ecological Archives E090-118-D1.  \n",
       "3  Ecological Archives E090-118-D1.  \n",
       "4  Ecological Archives E090-118-D1.  "
      ],
      "text/html": [
       "<div>\n",
       "<style scoped>\n",
       "    .dataframe tbody tr th:only-of-type {\n",
       "        vertical-align: middle;\n",
       "    }\n",
       "\n",
       "    .dataframe tbody tr th {\n",
       "        vertical-align: top;\n",
       "    }\n",
       "\n",
       "    .dataframe thead th {\n",
       "        text-align: right;\n",
       "    }\n",
       "</style>\n",
       "<table border=\"1\" class=\"dataframe\">\n",
       "  <thead>\n",
       "    <tr style=\"text-align: right;\">\n",
       "      <th></th>\n",
       "      <th>record_id</th>\n",
       "      <th>month</th>\n",
       "      <th>day</th>\n",
       "      <th>year</th>\n",
       "      <th>plot</th>\n",
       "      <th>species</th>\n",
       "      <th>sex_char</th>\n",
       "      <th>wgt</th>\n",
       "      <th>datasetname</th>\n",
       "    </tr>\n",
       "  </thead>\n",
       "  <tbody>\n",
       "    <tr>\n",
       "      <th>0</th>\n",
       "      <td>1</td>\n",
       "      <td>7</td>\n",
       "      <td>16</td>\n",
       "      <td>1977</td>\n",
       "      <td>2</td>\n",
       "      <td>NaN</td>\n",
       "      <td>M</td>\n",
       "      <td>NaN</td>\n",
       "      <td>Ecological Archives E090-118-D1.</td>\n",
       "    </tr>\n",
       "    <tr>\n",
       "      <th>1</th>\n",
       "      <td>2</td>\n",
       "      <td>7</td>\n",
       "      <td>16</td>\n",
       "      <td>1977</td>\n",
       "      <td>3</td>\n",
       "      <td>NaN</td>\n",
       "      <td>M</td>\n",
       "      <td>NaN</td>\n",
       "      <td>Ecological Archives E090-118-D1.</td>\n",
       "    </tr>\n",
       "    <tr>\n",
       "      <th>2</th>\n",
       "      <td>3</td>\n",
       "      <td>7</td>\n",
       "      <td>16</td>\n",
       "      <td>1977</td>\n",
       "      <td>2</td>\n",
       "      <td>DM</td>\n",
       "      <td>F</td>\n",
       "      <td>NaN</td>\n",
       "      <td>Ecological Archives E090-118-D1.</td>\n",
       "    </tr>\n",
       "    <tr>\n",
       "      <th>3</th>\n",
       "      <td>4</td>\n",
       "      <td>7</td>\n",
       "      <td>16</td>\n",
       "      <td>1977</td>\n",
       "      <td>7</td>\n",
       "      <td>DM</td>\n",
       "      <td>M</td>\n",
       "      <td>NaN</td>\n",
       "      <td>Ecological Archives E090-118-D1.</td>\n",
       "    </tr>\n",
       "    <tr>\n",
       "      <th>4</th>\n",
       "      <td>5</td>\n",
       "      <td>7</td>\n",
       "      <td>16</td>\n",
       "      <td>1977</td>\n",
       "      <td>3</td>\n",
       "      <td>DM</td>\n",
       "      <td>M</td>\n",
       "      <td>NaN</td>\n",
       "      <td>Ecological Archives E090-118-D1.</td>\n",
       "    </tr>\n",
       "  </tbody>\n",
       "</table>\n",
       "</div>"
      ]
     },
     "execution_count": 24,
     "metadata": {},
     "output_type": "execute_result"
    }
   ],
   "execution_count": 24
  },
  {
   "metadata": {
    "ExecuteTime": {
     "end_time": "2024-06-14T17:15:50.842408Z",
     "start_time": "2024-06-14T17:15:50.837281Z"
    }
   },
   "cell_type": "code",
   "source": [
    "'''\n",
    "УПРАЖНЕНИЕ 3\n",
    "Получите список уникальных значений для столбца sex_char.\n",
    "'''\n",
    "\n",
    "survey_data[\"sex_char\"].unique()"
   ],
   "id": "39800ec3fd8d5c0",
   "outputs": [
    {
     "data": {
      "text/plain": [
       "array(['M', 'F', nan, 'R', 'P', 'Z'], dtype=object)"
      ]
     },
     "execution_count": 25,
     "metadata": {},
     "output_type": "execute_result"
    }
   ],
   "execution_count": 25
  },
  {
   "metadata": {
    "ExecuteTime": {
     "end_time": "2024-06-14T17:15:50.852358Z",
     "start_time": "2024-06-14T17:15:50.842408Z"
    }
   },
   "cell_type": "code",
   "source": [
    "survey_data = survey_data.rename(columns={'sex_char': 'verbatimSex'})\n",
    "survey_data.head()\n"
   ],
   "id": "3ae5364315d907ee",
   "outputs": [
    {
     "data": {
      "text/plain": [
       "   record_id  month  day  year  plot species verbatimSex  wgt  \\\n",
       "0          1      7   16  1977     2     NaN           M  NaN   \n",
       "1          2      7   16  1977     3     NaN           M  NaN   \n",
       "2          3      7   16  1977     2      DM           F  NaN   \n",
       "3          4      7   16  1977     7      DM           M  NaN   \n",
       "4          5      7   16  1977     3      DM           M  NaN   \n",
       "\n",
       "                        datasetname  \n",
       "0  Ecological Archives E090-118-D1.  \n",
       "1  Ecological Archives E090-118-D1.  \n",
       "2  Ecological Archives E090-118-D1.  \n",
       "3  Ecological Archives E090-118-D1.  \n",
       "4  Ecological Archives E090-118-D1.  "
      ],
      "text/html": [
       "<div>\n",
       "<style scoped>\n",
       "    .dataframe tbody tr th:only-of-type {\n",
       "        vertical-align: middle;\n",
       "    }\n",
       "\n",
       "    .dataframe tbody tr th {\n",
       "        vertical-align: top;\n",
       "    }\n",
       "\n",
       "    .dataframe thead th {\n",
       "        text-align: right;\n",
       "    }\n",
       "</style>\n",
       "<table border=\"1\" class=\"dataframe\">\n",
       "  <thead>\n",
       "    <tr style=\"text-align: right;\">\n",
       "      <th></th>\n",
       "      <th>record_id</th>\n",
       "      <th>month</th>\n",
       "      <th>day</th>\n",
       "      <th>year</th>\n",
       "      <th>plot</th>\n",
       "      <th>species</th>\n",
       "      <th>verbatimSex</th>\n",
       "      <th>wgt</th>\n",
       "      <th>datasetname</th>\n",
       "    </tr>\n",
       "  </thead>\n",
       "  <tbody>\n",
       "    <tr>\n",
       "      <th>0</th>\n",
       "      <td>1</td>\n",
       "      <td>7</td>\n",
       "      <td>16</td>\n",
       "      <td>1977</td>\n",
       "      <td>2</td>\n",
       "      <td>NaN</td>\n",
       "      <td>M</td>\n",
       "      <td>NaN</td>\n",
       "      <td>Ecological Archives E090-118-D1.</td>\n",
       "    </tr>\n",
       "    <tr>\n",
       "      <th>1</th>\n",
       "      <td>2</td>\n",
       "      <td>7</td>\n",
       "      <td>16</td>\n",
       "      <td>1977</td>\n",
       "      <td>3</td>\n",
       "      <td>NaN</td>\n",
       "      <td>M</td>\n",
       "      <td>NaN</td>\n",
       "      <td>Ecological Archives E090-118-D1.</td>\n",
       "    </tr>\n",
       "    <tr>\n",
       "      <th>2</th>\n",
       "      <td>3</td>\n",
       "      <td>7</td>\n",
       "      <td>16</td>\n",
       "      <td>1977</td>\n",
       "      <td>2</td>\n",
       "      <td>DM</td>\n",
       "      <td>F</td>\n",
       "      <td>NaN</td>\n",
       "      <td>Ecological Archives E090-118-D1.</td>\n",
       "    </tr>\n",
       "    <tr>\n",
       "      <th>3</th>\n",
       "      <td>4</td>\n",
       "      <td>7</td>\n",
       "      <td>16</td>\n",
       "      <td>1977</td>\n",
       "      <td>7</td>\n",
       "      <td>DM</td>\n",
       "      <td>M</td>\n",
       "      <td>NaN</td>\n",
       "      <td>Ecological Archives E090-118-D1.</td>\n",
       "    </tr>\n",
       "    <tr>\n",
       "      <th>4</th>\n",
       "      <td>5</td>\n",
       "      <td>7</td>\n",
       "      <td>16</td>\n",
       "      <td>1977</td>\n",
       "      <td>3</td>\n",
       "      <td>DM</td>\n",
       "      <td>M</td>\n",
       "      <td>NaN</td>\n",
       "      <td>Ecological Archives E090-118-D1.</td>\n",
       "    </tr>\n",
       "  </tbody>\n",
       "</table>\n",
       "</div>"
      ]
     },
     "execution_count": 26,
     "metadata": {},
     "output_type": "execute_result"
    }
   ],
   "execution_count": 26
  },
  {
   "metadata": {
    "ExecuteTime": {
     "end_time": "2024-06-14T17:17:26.324491Z",
     "start_time": "2024-06-14T17:17:26.315473Z"
    }
   },
   "cell_type": "code",
   "source": [
    "'''\n",
    "УПРАЖНЕНИЕ 4\n",
    "Выразите отображение значений (например, M -> male) в объект словаря Python с именем переменной sex_dict. Значения Z соответствуют Not a Number, который можно определить как np.nan.\n",
    "Используйте словарь sex_dict, чтобы заменить значения в столбце verbatimSex новыми значениями и сохранить сопоставленные значения в новом столбце «пол» кадра данных.\n",
    "'''\n",
    "\n",
    "sex_dict = dict({'M': 'male', 'F': 'female', 'nan': np.nan, 'Z': np.nan, 'R' : 'male', 'P': 'female'})\n",
    "survey_data[\"sex\"] = survey_data[\"verbatimSex\"].map(sex_dict)\n",
    "\n",
    "survey_data[\"sex\"].unique()"
   ],
   "id": "5a3ee947fe1dda1a",
   "outputs": [
    {
     "data": {
      "text/plain": [
       "array(['male', 'female', nan], dtype=object)"
      ]
     },
     "execution_count": 30,
     "metadata": {},
     "output_type": "execute_result"
    }
   ],
   "execution_count": 30
  },
  {
   "metadata": {
    "ExecuteTime": {
     "end_time": "2024-06-14T17:15:50.866623Z",
     "start_time": "2024-06-14T17:15:50.863949Z"
    }
   },
   "cell_type": "code",
   "source": [
    "'''\n",
    "УПРАЖНЕНИЕ 5\n",
    "Создайте горизонтальную гистограмму, сравнивая количество записей о мужчинах, женщинах и неизвестных (NaN) в наборе данных.\n",
    "'''\n",
    "\n"
   ],
   "id": "2b569a6cf94c81b9",
   "outputs": [],
   "execution_count": 27
  }
 ],
 "metadata": {
  "kernelspec": {
   "display_name": "Python 3",
   "language": "python",
   "name": "python3"
  },
  "language_info": {
   "codemirror_mode": {
    "name": "ipython",
    "version": 2
   },
   "file_extension": ".py",
   "mimetype": "text/x-python",
   "name": "python",
   "nbconvert_exporter": "python",
   "pygments_lexer": "ipython2",
   "version": "2.7.6"
  }
 },
 "nbformat": 4,
 "nbformat_minor": 5
}
