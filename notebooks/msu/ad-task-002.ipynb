{
 "cells": [
  {
   "metadata": {},
   "cell_type": "markdown",
   "source": [
    "# Задание 2: Подсчет велосипедов\n",
    "\n",
    "В этом задании мы будем использовать общедоступные данные о подсчете велосипедов в городе Гент (Бельгия). \n",
    "\n",
    "В Coupure Links, рядом с Факультетом инженерии биологических наук, счетчик отслеживает количество проезжающих велосипедистов в обоих направлениях."
   ],
   "id": "9fd29c99a718fd53"
  },
  {
   "metadata": {
    "ExecuteTime": {
     "end_time": "2024-06-13T08:09:46.062556Z",
     "start_time": "2024-06-13T08:09:46.053022Z"
    }
   },
   "cell_type": "code",
   "source": [
    "import pandas as pd\n",
    "import matplotlib.pyplot as plt\n",
    "import seaborn as sns\n"
   ],
   "id": "3ce1edec963cbdf4",
   "outputs": [],
   "execution_count": 14
  },
  {
   "metadata": {
    "ExecuteTime": {
     "end_time": "2024-06-13T08:09:46.165382Z",
     "start_time": "2024-06-13T08:09:46.093822Z"
    }
   },
   "cell_type": "code",
   "source": [
    "filename = \"..\\\\..\\\\data\\\\002\\\\fietstellingencoupure.csv\"\n",
    "df = pd.read_csv(filename, sep=\";\")\n",
    "df.head()"
   ],
   "id": "44e4059670f6755c",
   "outputs": [
    {
     "data": {
      "text/plain": [
       "        datum   tijd  ri Centrum  ri Mariakerke\n",
       "0  14/07/2011  17:44          21             46\n",
       "1  14/07/2011  17:59          17             60\n",
       "2  14/07/2011  18:14          13             48\n",
       "3  14/07/2011  18:29          22             48\n",
       "4  14/07/2011  18:44          15             51"
      ],
      "text/html": [
       "<div>\n",
       "<style scoped>\n",
       "    .dataframe tbody tr th:only-of-type {\n",
       "        vertical-align: middle;\n",
       "    }\n",
       "\n",
       "    .dataframe tbody tr th {\n",
       "        vertical-align: top;\n",
       "    }\n",
       "\n",
       "    .dataframe thead th {\n",
       "        text-align: right;\n",
       "    }\n",
       "</style>\n",
       "<table border=\"1\" class=\"dataframe\">\n",
       "  <thead>\n",
       "    <tr style=\"text-align: right;\">\n",
       "      <th></th>\n",
       "      <th>datum</th>\n",
       "      <th>tijd</th>\n",
       "      <th>ri Centrum</th>\n",
       "      <th>ri Mariakerke</th>\n",
       "    </tr>\n",
       "  </thead>\n",
       "  <tbody>\n",
       "    <tr>\n",
       "      <th>0</th>\n",
       "      <td>14/07/2011</td>\n",
       "      <td>17:44</td>\n",
       "      <td>21</td>\n",
       "      <td>46</td>\n",
       "    </tr>\n",
       "    <tr>\n",
       "      <th>1</th>\n",
       "      <td>14/07/2011</td>\n",
       "      <td>17:59</td>\n",
       "      <td>17</td>\n",
       "      <td>60</td>\n",
       "    </tr>\n",
       "    <tr>\n",
       "      <th>2</th>\n",
       "      <td>14/07/2011</td>\n",
       "      <td>18:14</td>\n",
       "      <td>13</td>\n",
       "      <td>48</td>\n",
       "    </tr>\n",
       "    <tr>\n",
       "      <th>3</th>\n",
       "      <td>14/07/2011</td>\n",
       "      <td>18:29</td>\n",
       "      <td>22</td>\n",
       "      <td>48</td>\n",
       "    </tr>\n",
       "    <tr>\n",
       "      <th>4</th>\n",
       "      <td>14/07/2011</td>\n",
       "      <td>18:44</td>\n",
       "      <td>15</td>\n",
       "      <td>51</td>\n",
       "    </tr>\n",
       "  </tbody>\n",
       "</table>\n",
       "</div>"
      ]
     },
     "execution_count": 15,
     "metadata": {},
     "output_type": "execute_result"
    }
   ],
   "execution_count": 15
  },
  {
   "metadata": {},
   "cell_type": "markdown",
   "source": [
    "## УПРАЖНЕНИЕ 2\n",
    "Предварительно обработайте данные:\n",
    "\n",
    "- Объедините столбцы «datum» и «tijd» в одну серию Pandas строковых значений даты и времени, назовите эту новую переменную совмещенной .\n",
    "- Разберите строковые значения даты и времени на объекты даты и времени.\n",
    "- Установите результирующий столбец даты и времени в качестве индекса df DataFrame.\n",
    "- Удалите исходные столбцы «datum» и «tijd», используя метод drop , и вызовите новый кадр данных df2 .\n",
    "- Переименуйте столбцы в DataFrame «ri Centrum», «ri Mariakerke» соответственно. 'direction_centre', 'direction_mariakerke' с использованием метода переименования .\n"
   ],
   "id": "dcdf535f43795a67"
  },
  {
   "metadata": {
    "ExecuteTime": {
     "end_time": "2024-06-13T08:09:46.526844Z",
     "start_time": "2024-06-13T08:09:46.165382Z"
    }
   },
   "cell_type": "code",
   "source": [
    "df['timestamp'] = pd.to_datetime(df['datum'] + ' ' + df['tijd'], format='%d/%m/%Y %H:%M')\n",
    "df.set_index('timestamp', inplace=True)\n",
    "df.drop(['datum', 'tijd'], axis=1, inplace=True)\n",
    "df.rename(columns= {'ri Centrum' : 'direction_centre', 'ri Mariakerke' : 'direction_mariakerke'}, inplace=True)\n",
    "df.head()\n"
   ],
   "id": "67d0fa838063980f",
   "outputs": [
    {
     "data": {
      "text/plain": [
       "                     direction_centre  direction_mariakerke\n",
       "timestamp                                                  \n",
       "2011-07-14 17:44:00                21                    46\n",
       "2011-07-14 17:59:00                17                    60\n",
       "2011-07-14 18:14:00                13                    48\n",
       "2011-07-14 18:29:00                22                    48\n",
       "2011-07-14 18:44:00                15                    51"
      ],
      "text/html": [
       "<div>\n",
       "<style scoped>\n",
       "    .dataframe tbody tr th:only-of-type {\n",
       "        vertical-align: middle;\n",
       "    }\n",
       "\n",
       "    .dataframe tbody tr th {\n",
       "        vertical-align: top;\n",
       "    }\n",
       "\n",
       "    .dataframe thead th {\n",
       "        text-align: right;\n",
       "    }\n",
       "</style>\n",
       "<table border=\"1\" class=\"dataframe\">\n",
       "  <thead>\n",
       "    <tr style=\"text-align: right;\">\n",
       "      <th></th>\n",
       "      <th>direction_centre</th>\n",
       "      <th>direction_mariakerke</th>\n",
       "    </tr>\n",
       "    <tr>\n",
       "      <th>timestamp</th>\n",
       "      <th></th>\n",
       "      <th></th>\n",
       "    </tr>\n",
       "  </thead>\n",
       "  <tbody>\n",
       "    <tr>\n",
       "      <th>2011-07-14 17:44:00</th>\n",
       "      <td>21</td>\n",
       "      <td>46</td>\n",
       "    </tr>\n",
       "    <tr>\n",
       "      <th>2011-07-14 17:59:00</th>\n",
       "      <td>17</td>\n",
       "      <td>60</td>\n",
       "    </tr>\n",
       "    <tr>\n",
       "      <th>2011-07-14 18:14:00</th>\n",
       "      <td>13</td>\n",
       "      <td>48</td>\n",
       "    </tr>\n",
       "    <tr>\n",
       "      <th>2011-07-14 18:29:00</th>\n",
       "      <td>22</td>\n",
       "      <td>48</td>\n",
       "    </tr>\n",
       "    <tr>\n",
       "      <th>2011-07-14 18:44:00</th>\n",
       "      <td>15</td>\n",
       "      <td>51</td>\n",
       "    </tr>\n",
       "  </tbody>\n",
       "</table>\n",
       "</div>"
      ]
     },
     "execution_count": 16,
     "metadata": {},
     "output_type": "execute_result"
    }
   ],
   "execution_count": 16
  },
  {
   "metadata": {
    "ExecuteTime": {
     "end_time": "2024-06-13T08:11:22.135399Z",
     "start_time": "2024-06-13T08:11:21.175543Z"
    }
   },
   "cell_type": "code",
   "source": [
    "fig, ax = plt.subplots(figsize=(10, 6))\n",
    "df.plot(colormap='coolwarm', ax=ax)\n"
   ],
   "id": "2ad87c1622515c97",
   "outputs": [
    {
     "data": {
      "text/plain": [
       "<Axes: xlabel='timestamp'>"
      ]
     },
     "execution_count": 17,
     "metadata": {},
     "output_type": "execute_result"
    },
    {
     "data": {
      "text/plain": [
       "<Figure size 1000x600 with 1 Axes>"
      ],
      "image/png": "[encoded data removed]"
     },
     "metadata": {},
     "output_type": "display_data"
    }
   ],
   "execution_count": 17
  },
  {
   "metadata": {},
   "cell_type": "markdown",
   "source": [
    "## УПРАЖНЕНИЕ 3\n",
    "\n",
    "Напишите функцию process_bike_count_data(df), которая выполняет этапы обработки, как описано выше, для входного кадра данных Pandas и возвращает обновленный кадр данных.\n"
   ],
   "id": "154cfe4e437547b7"
  },
  {
   "metadata": {
    "ExecuteTime": {
     "end_time": "2024-06-13T08:18:07.386915Z",
     "start_time": "2024-06-13T08:18:07.369265Z"
    }
   },
   "cell_type": "code",
   "source": [
    "def process_bike_count_data(df: pd.DataFrame) -> pd.DataFrame:\n",
    "    df['timestamp'] = pd.to_datetime(df['datum'] + ' ' + df['tijd'], format='%d/%m/%Y %H:%M')\n",
    "    df.set_index('timestamp', inplace=True)\n",
    "    df.drop(['datum', 'tijd'], axis=1, inplace=True)\n",
    "    df.rename(columns= {'ri Centrum' : 'direction_centre', 'ri Mariakerke' : 'direction_mariakerke'}, inplace=True)\n",
    "    return df"
   ],
   "id": "755da86f01dfd31d",
   "outputs": [],
   "execution_count": 18
  },
  {
   "metadata": {},
   "cell_type": "markdown",
   "source": "",
   "id": "8563969b64a94e46"
  },
  {
   "metadata": {
    "ExecuteTime": {
     "end_time": "2024-06-13T08:19:40.323425Z",
     "start_time": "2024-06-13T08:19:39.558394Z"
    }
   },
   "cell_type": "code",
   "source": [
    "df_raw = pd.read_csv(filename, sep=';')\n",
    "df_preprocessed = process_bike_count_data(df_raw)\n",
    "df_preprocessed.head()\n",
    "df_preprocessed.to_csv(\"bike_count_interim.csv\")\n"
   ],
   "id": "d34486867c5ffa5a",
   "outputs": [],
   "execution_count": 20
  },
  {
   "metadata": {
    "ExecuteTime": {
     "end_time": "2024-06-13T08:23:18.658455Z",
     "start_time": "2024-06-13T08:23:18.427344Z"
    }
   },
   "cell_type": "code",
   "source": [
    "df = pd.read_csv(\"bike_count_interim.csv\", index_col=0, parse_dates=True)\n",
    "\n",
    "'''\n",
    "Вычислите разницу между каждым из последовательных значений индекса\n",
    "'''\n",
    "pd.Series(df.index).diff()\n"
   ],
   "id": "86aa49137e61fdf",
   "outputs": [
    {
     "data": {
      "text/plain": [
       "0                    NaT\n",
       "1        0 days 00:15:00\n",
       "2        0 days 00:15:00\n",
       "3        0 days 00:15:00\n",
       "4        0 days 00:15:00\n",
       "               ...      \n",
       "191442   0 days 00:15:00\n",
       "191443   0 days 00:15:00\n",
       "191444   0 days 00:15:00\n",
       "191445   0 days 00:15:00\n",
       "191446   0 days 00:15:00\n",
       "Name: timestamp, Length: 191447, dtype: timedelta64[ns]"
      ]
     },
     "execution_count": 22,
     "metadata": {},
     "output_type": "execute_result"
    }
   ],
   "execution_count": 22
  },
  {
   "metadata": {
    "ExecuteTime": {
     "end_time": "2024-06-13T08:24:55.104310Z",
     "start_time": "2024-06-13T08:24:55.091289Z"
    }
   },
   "cell_type": "code",
   "source": [
    "'''\n",
    "Представляет интерес количество возможных интервалов:\n",
    "'''\n",
    "\n",
    "pd.Series(df.index).diff().value_counts()\n"
   ],
   "id": "a1055d53eb0e0c86",
   "outputs": [
    {
     "data": {
      "text/plain": [
       "timestamp\n",
       "0 days 00:15:00      191356\n",
       "0 days 00:16:00           9\n",
       "0 days 00:09:00           6\n",
       "0 days 00:13:00           6\n",
       "-1 days +23:15:00         6\n",
       "0 days 00:04:00           5\n",
       "0 days 01:15:00           5\n",
       "0 days 00:06:00           4\n",
       "0 days 00:00:00           4\n",
       "0 days 00:03:00           4\n",
       "0 days 00:11:00           4\n",
       "0 days 00:12:00           4\n",
       "0 days 00:02:00           4\n",
       "0 days 00:08:00           4\n",
       "0 days 00:38:00           3\n",
       "0 days 00:10:00           3\n",
       "0 days 00:01:00           3\n",
       "0 days 00:37:00           3\n",
       "0 days 00:05:00           2\n",
       "0 days 00:14:00           2\n",
       "0 days 01:24:00           1\n",
       "0 days 06:49:00           1\n",
       "20 days 21:29:00          1\n",
       "0 days 00:30:00           1\n",
       "0 days 00:20:00           1\n",
       "0 days 00:26:00           1\n",
       "0 days 00:07:00           1\n",
       "0 days 01:11:00           1\n",
       "0 days 00:29:00           1\n",
       "Name: count, dtype: int64"
      ]
     },
     "execution_count": 23,
     "metadata": {},
     "output_type": "execute_result"
    }
   ],
   "execution_count": 23
  },
  {
   "metadata": {
    "ExecuteTime": {
     "end_time": "2024-06-13T08:25:44.543240Z",
     "start_time": "2024-06-13T08:25:44.512423Z"
    }
   },
   "cell_type": "code",
   "source": "df.describe()",
   "id": "d69cafb350351693",
   "outputs": [
    {
     "data": {
      "text/plain": [
       "       direction_centre  direction_mariakerke\n",
       "count     191447.000000         191447.000000\n",
       "mean          25.545237             25.338585\n",
       "std           31.625619             26.903810\n",
       "min            0.000000              0.000000\n",
       "25%            5.000000              7.000000\n",
       "50%           17.000000             17.000000\n",
       "75%           34.000000             34.000000\n",
       "max          361.000000            299.000000"
      ],
      "text/html": [
       "<div>\n",
       "<style scoped>\n",
       "    .dataframe tbody tr th:only-of-type {\n",
       "        vertical-align: middle;\n",
       "    }\n",
       "\n",
       "    .dataframe tbody tr th {\n",
       "        vertical-align: top;\n",
       "    }\n",
       "\n",
       "    .dataframe thead th {\n",
       "        text-align: right;\n",
       "    }\n",
       "</style>\n",
       "<table border=\"1\" class=\"dataframe\">\n",
       "  <thead>\n",
       "    <tr style=\"text-align: right;\">\n",
       "      <th></th>\n",
       "      <th>direction_centre</th>\n",
       "      <th>direction_mariakerke</th>\n",
       "    </tr>\n",
       "  </thead>\n",
       "  <tbody>\n",
       "    <tr>\n",
       "      <th>count</th>\n",
       "      <td>191447.000000</td>\n",
       "      <td>191447.000000</td>\n",
       "    </tr>\n",
       "    <tr>\n",
       "      <th>mean</th>\n",
       "      <td>25.545237</td>\n",
       "      <td>25.338585</td>\n",
       "    </tr>\n",
       "    <tr>\n",
       "      <th>std</th>\n",
       "      <td>31.625619</td>\n",
       "      <td>26.903810</td>\n",
       "    </tr>\n",
       "    <tr>\n",
       "      <th>min</th>\n",
       "      <td>0.000000</td>\n",
       "      <td>0.000000</td>\n",
       "    </tr>\n",
       "    <tr>\n",
       "      <th>25%</th>\n",
       "      <td>5.000000</td>\n",
       "      <td>7.000000</td>\n",
       "    </tr>\n",
       "    <tr>\n",
       "      <th>50%</th>\n",
       "      <td>17.000000</td>\n",
       "      <td>17.000000</td>\n",
       "    </tr>\n",
       "    <tr>\n",
       "      <th>75%</th>\n",
       "      <td>34.000000</td>\n",
       "      <td>34.000000</td>\n",
       "    </tr>\n",
       "    <tr>\n",
       "      <th>max</th>\n",
       "      <td>361.000000</td>\n",
       "      <td>299.000000</td>\n",
       "    </tr>\n",
       "  </tbody>\n",
       "</table>\n",
       "</div>"
      ]
     },
     "execution_count": 25,
     "metadata": {},
     "output_type": "execute_result"
    }
   ],
   "execution_count": 25
  },
  {
   "metadata": {
    "ExecuteTime": {
     "end_time": "2024-06-13T08:28:19.173369Z",
     "start_time": "2024-06-13T08:28:19.152237Z"
    }
   },
   "cell_type": "code",
   "source": [
    "'''\n",
    "УПРАЖНЕНИЕ 4\n",
    "Создайте новый ряд Pandas df_both , который содержит сумму значений обоих направлений.\n",
    "'''\n",
    "df[\"df_both\"] = df[\"direction_centre\"] + df[\"direction_mariakerke\"]\n",
    "df.head()"
   ],
   "id": "901fc9d9a336f4aa",
   "outputs": [
    {
     "data": {
      "text/plain": [
       "                     direction_centre  direction_mariakerke  df_both\n",
       "timestamp                                                           \n",
       "2011-07-14 17:44:00                21                    46       67\n",
       "2011-07-14 17:59:00                17                    60       77\n",
       "2011-07-14 18:14:00                13                    48       61\n",
       "2011-07-14 18:29:00                22                    48       70\n",
       "2011-07-14 18:44:00                15                    51       66"
      ],
      "text/html": [
       "<div>\n",
       "<style scoped>\n",
       "    .dataframe tbody tr th:only-of-type {\n",
       "        vertical-align: middle;\n",
       "    }\n",
       "\n",
       "    .dataframe tbody tr th {\n",
       "        vertical-align: top;\n",
       "    }\n",
       "\n",
       "    .dataframe thead th {\n",
       "        text-align: right;\n",
       "    }\n",
       "</style>\n",
       "<table border=\"1\" class=\"dataframe\">\n",
       "  <thead>\n",
       "    <tr style=\"text-align: right;\">\n",
       "      <th></th>\n",
       "      <th>direction_centre</th>\n",
       "      <th>direction_mariakerke</th>\n",
       "      <th>df_both</th>\n",
       "    </tr>\n",
       "    <tr>\n",
       "      <th>timestamp</th>\n",
       "      <th></th>\n",
       "      <th></th>\n",
       "      <th></th>\n",
       "    </tr>\n",
       "  </thead>\n",
       "  <tbody>\n",
       "    <tr>\n",
       "      <th>2011-07-14 17:44:00</th>\n",
       "      <td>21</td>\n",
       "      <td>46</td>\n",
       "      <td>67</td>\n",
       "    </tr>\n",
       "    <tr>\n",
       "      <th>2011-07-14 17:59:00</th>\n",
       "      <td>17</td>\n",
       "      <td>60</td>\n",
       "      <td>77</td>\n",
       "    </tr>\n",
       "    <tr>\n",
       "      <th>2011-07-14 18:14:00</th>\n",
       "      <td>13</td>\n",
       "      <td>48</td>\n",
       "      <td>61</td>\n",
       "    </tr>\n",
       "    <tr>\n",
       "      <th>2011-07-14 18:29:00</th>\n",
       "      <td>22</td>\n",
       "      <td>48</td>\n",
       "      <td>70</td>\n",
       "    </tr>\n",
       "    <tr>\n",
       "      <th>2011-07-14 18:44:00</th>\n",
       "      <td>15</td>\n",
       "      <td>51</td>\n",
       "      <td>66</td>\n",
       "    </tr>\n",
       "  </tbody>\n",
       "</table>\n",
       "</div>"
      ]
     },
     "execution_count": 26,
     "metadata": {},
     "output_type": "execute_result"
    }
   ],
   "execution_count": 26
  },
  {
   "metadata": {
    "ExecuteTime": {
     "end_time": "2024-06-13T08:51:24.568718Z",
     "start_time": "2024-06-13T08:51:24.558298Z"
    }
   },
   "cell_type": "code",
   "source": [
    "'''\n",
    "УПРАЖНЕНИЕ 5\n",
    "Используя df_both из предыдущего упражнения, создайте новую серию df_quiet, содержащую только те интервалы, за которые в сумме в обоих направлениях проехало менее 5 велосипедистов.\n",
    "'''\n",
    "\n",
    "df_quiet = df[df[\"df_both\"] < 5]\n",
    "df_quiet.head()\n"
   ],
   "id": "37715c3be111506f",
   "outputs": [
    {
     "data": {
      "text/plain": [
       "                     direction_centre  direction_mariakerke  df_both\n",
       "timestamp                                                           \n",
       "2011-07-15 00:59:00                 0                     4        4\n",
       "2011-07-15 01:44:00                 1                     2        3\n",
       "2011-07-15 02:29:00                 0                     0        0\n",
       "2011-07-15 02:44:00                 0                     1        1\n",
       "2011-07-15 02:59:00                 1                     0        1"
      ],
      "text/html": [
       "<div>\n",
       "<style scoped>\n",
       "    .dataframe tbody tr th:only-of-type {\n",
       "        vertical-align: middle;\n",
       "    }\n",
       "\n",
       "    .dataframe tbody tr th {\n",
       "        vertical-align: top;\n",
       "    }\n",
       "\n",
       "    .dataframe thead th {\n",
       "        text-align: right;\n",
       "    }\n",
       "</style>\n",
       "<table border=\"1\" class=\"dataframe\">\n",
       "  <thead>\n",
       "    <tr style=\"text-align: right;\">\n",
       "      <th></th>\n",
       "      <th>direction_centre</th>\n",
       "      <th>direction_mariakerke</th>\n",
       "      <th>df_both</th>\n",
       "    </tr>\n",
       "    <tr>\n",
       "      <th>timestamp</th>\n",
       "      <th></th>\n",
       "      <th></th>\n",
       "      <th></th>\n",
       "    </tr>\n",
       "  </thead>\n",
       "  <tbody>\n",
       "    <tr>\n",
       "      <th>2011-07-15 00:59:00</th>\n",
       "      <td>0</td>\n",
       "      <td>4</td>\n",
       "      <td>4</td>\n",
       "    </tr>\n",
       "    <tr>\n",
       "      <th>2011-07-15 01:44:00</th>\n",
       "      <td>1</td>\n",
       "      <td>2</td>\n",
       "      <td>3</td>\n",
       "    </tr>\n",
       "    <tr>\n",
       "      <th>2011-07-15 02:29:00</th>\n",
       "      <td>0</td>\n",
       "      <td>0</td>\n",
       "      <td>0</td>\n",
       "    </tr>\n",
       "    <tr>\n",
       "      <th>2011-07-15 02:44:00</th>\n",
       "      <td>0</td>\n",
       "      <td>1</td>\n",
       "      <td>1</td>\n",
       "    </tr>\n",
       "    <tr>\n",
       "      <th>2011-07-15 02:59:00</th>\n",
       "      <td>1</td>\n",
       "      <td>0</td>\n",
       "      <td>1</td>\n",
       "    </tr>\n",
       "  </tbody>\n",
       "</table>\n",
       "</div>"
      ]
     },
     "execution_count": 39,
     "metadata": {},
     "output_type": "execute_result"
    }
   ],
   "execution_count": 39
  },
  {
   "metadata": {
    "ExecuteTime": {
     "end_time": "2024-06-13T08:51:59.775519Z",
     "start_time": "2024-06-13T08:51:59.761367Z"
    }
   },
   "cell_type": "code",
   "source": [
    "'''\n",
    "УПРАЖНЕНИЕ 6\n",
    "По исходным данным df выбрать только те интервалы, за которые в том или ином направлении проехало менее 3 велосипедистов. \n",
    "Следовательно, менее 3 велосипедистов в сторону центра или менее 3 велосипедистов в сторону Мариакерке.\n",
    "'''\n",
    "\n",
    "df_quiet2 = df[(df[\"direction_centre\"] < 3) | (df[\"direction_mariakerke\"] < 3)]\n",
    "df_quiet2.head()\n"
   ],
   "id": "4172e77291828347",
   "outputs": [
    {
     "data": {
      "text/plain": [
       "                     direction_centre  direction_mariakerke  df_both\n",
       "timestamp                                                           \n",
       "2011-07-14 23:59:00                 1                    13       14\n",
       "2011-07-15 00:14:00                 2                     3        5\n",
       "2011-07-15 00:44:00                 2                     6        8\n",
       "2011-07-15 00:59:00                 0                     4        4\n",
       "2011-07-15 01:29:00                 1                    10       11"
      ],
      "text/html": [
       "<div>\n",
       "<style scoped>\n",
       "    .dataframe tbody tr th:only-of-type {\n",
       "        vertical-align: middle;\n",
       "    }\n",
       "\n",
       "    .dataframe tbody tr th {\n",
       "        vertical-align: top;\n",
       "    }\n",
       "\n",
       "    .dataframe thead th {\n",
       "        text-align: right;\n",
       "    }\n",
       "</style>\n",
       "<table border=\"1\" class=\"dataframe\">\n",
       "  <thead>\n",
       "    <tr style=\"text-align: right;\">\n",
       "      <th></th>\n",
       "      <th>direction_centre</th>\n",
       "      <th>direction_mariakerke</th>\n",
       "      <th>df_both</th>\n",
       "    </tr>\n",
       "    <tr>\n",
       "      <th>timestamp</th>\n",
       "      <th></th>\n",
       "      <th></th>\n",
       "      <th></th>\n",
       "    </tr>\n",
       "  </thead>\n",
       "  <tbody>\n",
       "    <tr>\n",
       "      <th>2011-07-14 23:59:00</th>\n",
       "      <td>1</td>\n",
       "      <td>13</td>\n",
       "      <td>14</td>\n",
       "    </tr>\n",
       "    <tr>\n",
       "      <th>2011-07-15 00:14:00</th>\n",
       "      <td>2</td>\n",
       "      <td>3</td>\n",
       "      <td>5</td>\n",
       "    </tr>\n",
       "    <tr>\n",
       "      <th>2011-07-15 00:44:00</th>\n",
       "      <td>2</td>\n",
       "      <td>6</td>\n",
       "      <td>8</td>\n",
       "    </tr>\n",
       "    <tr>\n",
       "      <th>2011-07-15 00:59:00</th>\n",
       "      <td>0</td>\n",
       "      <td>4</td>\n",
       "      <td>4</td>\n",
       "    </tr>\n",
       "    <tr>\n",
       "      <th>2011-07-15 01:29:00</th>\n",
       "      <td>1</td>\n",
       "      <td>10</td>\n",
       "      <td>11</td>\n",
       "    </tr>\n",
       "  </tbody>\n",
       "</table>\n",
       "</div>"
      ]
     },
     "execution_count": 40,
     "metadata": {},
     "output_type": "execute_result"
    }
   ],
   "execution_count": 40
  },
  {
   "metadata": {
    "ExecuteTime": {
     "end_time": "2024-06-13T09:51:35.081027Z",
     "start_time": "2024-06-13T09:51:35.037718Z"
    }
   },
   "cell_type": "code",
   "source": [
    "'''\n",
    "#### УПРАЖНЕНИЕ 7\n",
    "Какое среднее количество велосипедистов проезжает каждые 15 минут?\n",
    "'''\n",
    "ts = df.resample(\"15min\").sum()\n",
    "ts[\"df_both\"].mean()\n"
   ],
   "id": "83df55c64cd220a3",
   "outputs": [
    {
     "data": {
      "text/plain": [
       "50.352801008962814"
      ]
     },
     "execution_count": 57,
     "metadata": {},
     "output_type": "execute_result"
    }
   ],
   "execution_count": 57
  },
  {
   "metadata": {
    "ExecuteTime": {
     "end_time": "2024-06-13T09:52:28.757710Z",
     "start_time": "2024-06-13T09:52:28.712792Z"
    }
   },
   "cell_type": "code",
   "source": [
    "'''\n",
    "#### УПРАЖНЕНИЕ 8\n",
    "Какое среднее количество велосипедистов проезжает каждый час?\n",
    "'''\n",
    "ts = df.resample(\"1h\").sum()\n",
    "ts[\"df_both\"].mean()\n"
   ],
   "id": "18ee6454f706a8e6",
   "outputs": [
    {
     "data": {
      "text/plain": [
       "201.4091219219716"
      ]
     },
     "execution_count": 58,
     "metadata": {},
     "output_type": "execute_result"
    }
   ],
   "execution_count": 58
  },
  {
   "metadata": {
    "ExecuteTime": {
     "end_time": "2024-06-13T09:59:54.615403Z",
     "start_time": "2024-06-13T09:59:53.823253Z"
    }
   },
   "cell_type": "code",
   "source": [
    "'''\n",
    "#### УПРАЖНЕНИЕ 9\n",
    "Каковы 10 самых высоких пиковых значений, наблюдаемых в течение любого из интервалов для направления к центру Гента?\n",
    "'''\n",
    "df[\"direction_centre\"].nlargest(10)\n"
   ],
   "id": "b845f1287289580f",
   "outputs": [
    {
     "data": {
      "text/plain": [
       "timestamp\n",
       "2013-10-16 21:38:00    361\n",
       "2014-09-23 08:12:00    333\n",
       "2016-10-06 09:16:00    325\n",
       "2011-10-04 08:27:00    319\n",
       "2013-10-03 08:49:00    318\n",
       "2016-03-31 00:45:00    316\n",
       "2016-10-13 09:16:00    316\n",
       "2014-09-30 08:05:00    315\n",
       "2013-09-23 08:34:00    314\n",
       "2016-10-04 09:01:00    314\n",
       "Name: direction_centre, dtype: int64"
      ]
     },
     "execution_count": 64,
     "metadata": {},
     "output_type": "execute_result"
    }
   ],
   "execution_count": 64
  },
  {
   "metadata": {
    "ExecuteTime": {
     "end_time": "2024-06-13T10:07:44.683275Z",
     "start_time": "2024-06-13T10:07:44.646178Z"
    }
   },
   "cell_type": "code",
   "source": [
    "'''\n",
    "#### УПРАЖНЕНИЕ 10\n",
    "Какое максимальное количество велосипедистов проехало за один день в обоих направлениях вместе взятых?\n",
    "'''\n",
    "ts = df.resample(\"1d\").sum()\n",
    "ts[\"df_both\"].nlargest(1)\n"
   ],
   "id": "62a205bc788feffe",
   "outputs": [
    {
     "data": {
      "text/plain": [
       "timestamp\n",
       "2016-09-29    10770\n",
       "Freq: D, Name: df_both, dtype: int64"
      ]
     },
     "execution_count": 69,
     "metadata": {},
     "output_type": "execute_result"
    }
   ],
   "execution_count": 69
  },
  {
   "metadata": {},
   "cell_type": "code",
   "outputs": [],
   "execution_count": null,
   "source": [
    "'''\n",
    "#### УПРАЖНЕНИЕ 11\n",
    "Как выглядит долгосрочный тренд? Рассчитайте ежемесячные суммы и постройте график результата.\n",
    "'''\n",
    "\n"
   ],
   "id": "a88af114fca0862d"
  }
 ],
 "metadata": {
  "kernelspec": {
   "display_name": "Python 3",
   "language": "python",
   "name": "python3"
  },
  "language_info": {
   "codemirror_mode": {
    "name": "ipython",
    "version": 2
   },
   "file_extension": ".py",
   "mimetype": "text/x-python",
   "name": "python",
   "nbconvert_exporter": "python",
   "pygments_lexer": "ipython2",
   "version": "2.7.6"
  }
 },
 "nbformat": 4,
 "nbformat_minor": 5
}
