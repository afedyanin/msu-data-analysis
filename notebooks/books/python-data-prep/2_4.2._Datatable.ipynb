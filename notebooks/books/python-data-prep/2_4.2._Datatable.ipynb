{
 "cells": [
  {
   "cell_type": "code",
   "execution_count": 1,
   "metadata": {},
   "outputs": [
    {
     "data": {
      "text/html": [
       "<style type='text/css'>\n",
       ".datatable table.frame { margin-bottom: 0; }\n",
       ".datatable table.frame thead { border-bottom: none; }\n",
       ".datatable table.frame tr.coltypes td {  color: #FFFFFF;  line-height: 6px;  padding: 0 0.5em;}\n",
       ".datatable .bool    { background: #DDDD99; }\n",
       ".datatable .object  { background: #565656; }\n",
       ".datatable .int     { background: #5D9E5D; }\n",
       ".datatable .float   { background: #4040CC; }\n",
       ".datatable .str     { background: #CC4040; }\n",
       ".datatable .time    { background: #40CC40; }\n",
       ".datatable .row_index {  background: var(--jp-border-color3);  border-right: 1px solid var(--jp-border-color0);  color: var(--jp-ui-font-color3);  font-size: 9px;}\n",
       ".datatable .frame tbody td { text-align: left; }\n",
       ".datatable .frame tr.coltypes .row_index {  background: var(--jp-border-color0);}\n",
       ".datatable th:nth-child(2) { padding-left: 12px; }\n",
       ".datatable .hellipsis {  color: var(--jp-cell-editor-border-color);}\n",
       ".datatable .vellipsis {  background: var(--jp-layout-color0);  color: var(--jp-cell-editor-border-color);}\n",
       ".datatable .na {  color: var(--jp-cell-editor-border-color);  font-size: 80%;}\n",
       ".datatable .sp {  opacity: 0.25;}\n",
       ".datatable .footer { font-size: 9px; }\n",
       ".datatable .frame_dimensions {  background: var(--jp-border-color3);  border-top: 1px solid var(--jp-border-color0);  color: var(--jp-ui-font-color3);  display: inline-block;  opacity: 0.6;  padding: 1px 10px 1px 5px;}\n",
       "</style>\n"
      ],
      "text/plain": [
       "<IPython.core.display.HTML object>"
      ]
     },
     "metadata": {},
     "output_type": "display_data"
    }
   ],
   "source": [
    "# импортируем pandas и datatable\n",
    "import pandas as pd\n",
    "import datatable as dt"
   ]
  },
  {
   "cell_type": "code",
   "execution_count": 2,
   "metadata": {},
   "outputs": [
    {
     "name": "stdout",
     "output_type": "stream",
     "text": [
      "CPU times: user 3.88 s, sys: 635 ms, total: 4.51 s\n",
      "Wall time: 4.52 s\n"
     ]
    }
   ],
   "source": [
    "%%time\n",
    "\n",
    "# загружаем данные с помощью pandas\n",
    "dataframe = pd.read_csv('Data/train.csv', sep=',')"
   ]
  },
  {
   "cell_type": "code",
   "execution_count": 3,
   "metadata": {},
   "outputs": [
    {
     "name": "stdout",
     "output_type": "stream",
     "text": [
      "CPU times: user 2.67 s, sys: 219 ms, total: 2.89 s\n",
      "Wall time: 213 ms\n"
     ]
    }
   ],
   "source": [
    "%%time\n",
    "\n",
    "# загружаем данные с помощью datatable\n",
    "datatable_df = dt.fread('Data/train.csv', sep=',')"
   ]
  },
  {
   "cell_type": "code",
   "execution_count": 4,
   "metadata": {},
   "outputs": [
    {
     "data": {
      "text/plain": [
       "datatable.Frame"
      ]
     },
     "execution_count": 4,
     "metadata": {},
     "output_type": "execute_result"
    }
   ],
   "source": [
    "# убедимся, что перед нами - объект\n",
    "# Frame библиотеки datatable\n",
    "type(datatable_df)"
   ]
  },
  {
   "cell_type": "code",
   "execution_count": 5,
   "metadata": {},
   "outputs": [
    {
     "name": "stdout",
     "output_type": "stream",
     "text": [
      "CPU times: user 3.44 s, sys: 528 ms, total: 3.97 s\n",
      "Wall time: 1.79 s\n"
     ]
    }
   ],
   "source": [
    "%%time\n",
    "\n",
    "# преобразовываем фрейм в датафрейм pandas\n",
    "datatable_pandas = datatable_df.to_pandas()"
   ]
  },
  {
   "cell_type": "code",
   "execution_count": 6,
   "metadata": {},
   "outputs": [
    {
     "data": {
      "text/plain": [
       "(1787571, 34)"
      ]
     },
     "execution_count": 6,
     "metadata": {},
     "output_type": "execute_result"
    }
   ],
   "source": [
    "# смотрим количество строк и столбцов\n",
    "datatable_df.shape"
   ]
  },
  {
   "cell_type": "code",
   "execution_count": 7,
   "metadata": {},
   "outputs": [
    {
     "data": {
      "text/html": [
       "<div class='datatable'>\n",
       "  <table class='frame'>\n",
       "  <thead>\n",
       "    <tr class='colnames'><td class='row_index'></td><th>ID</th><th>SK_DATE_DECISION</th><th>DEF</th><th>NUM_SOURCE</th><th>CREDIT_ACTIVE</th><th>CREDIT_COLLATERAL</th><th>CREDIT_CURRENCY</th><th>DTIME_CREDIT</th><th>CREDIT_DAY_OVERDUE</th><th>DTIME_CREDIT_ENDDATE</th><th class='vellipsis'>&hellip;</th><th>AMT_REQ_SOURCE_MON</th><th>AMT_REQ_SOURCE_QRT</th><th>AMT_REQ_SOURCE_YEAR</th><th>AMT_ANNUITY</th><th>TEXT_PAYMENT_DISCIPLINE</th></tr>\n",
       "    <tr class='coltypes'><td class='row_index'></td><td class='int' title='int32'>&#x25AA;&#x25AA;&#x25AA;&#x25AA;</td><td class='int' title='int32'>&#x25AA;&#x25AA;&#x25AA;&#x25AA;</td><td class='bool' title='bool8'>&#x25AA;</td><td class='int' title='int32'>&#x25AA;&#x25AA;&#x25AA;&#x25AA;</td><td class='int' title='int32'>&#x25AA;&#x25AA;&#x25AA;&#x25AA;</td><td class='bool' title='bool8'>&#x25AA;</td><td class='str' title='str32'>&#x25AA;&#x25AA;&#x25AA;&#x25AA;</td><td class='str' title='str32'>&#x25AA;&#x25AA;&#x25AA;&#x25AA;</td><td class='int' title='int32'>&#x25AA;&#x25AA;&#x25AA;&#x25AA;</td><td class='str' title='str32'>&#x25AA;&#x25AA;&#x25AA;&#x25AA;</td><td></td><td class='int' title='int32'>&#x25AA;&#x25AA;&#x25AA;&#x25AA;</td><td class='int' title='int32'>&#x25AA;&#x25AA;&#x25AA;&#x25AA;</td><td class='int' title='int32'>&#x25AA;&#x25AA;&#x25AA;&#x25AA;</td><td class='float' title='float64'>&#x25AA;&#x25AA;&#x25AA;&#x25AA;&#x25AA;&#x25AA;&#x25AA;&#x25AA;</td><td class='str' title='str32'>&#x25AA;&#x25AA;&#x25AA;&#x25AA;</td></tr>\n",
       "  </thead>\n",
       "  <tbody>\n",
       "    <tr><td class='row_index'>0</td><td>24368</td><td>20150901</td><td>0</td><td>1</td><td>0</td><td>0</td><td>rur</td><td>27.03.2011</td><td>0</td><td>27.01.2012</td><td class=vellipsis>&hellip;</td><td>0</td><td>0</td><td>3</td><td>0</td><td>CCCCCCCCCCCCCCCCCCCCCCCCCCCCCCCCCCCCCCCCCCCCC00000&#133;</td></tr>\n",
       "    <tr><td class='row_index'>1</td><td>24368</td><td>20150901</td><td>0</td><td>3</td><td>0</td><td>0</td><td>rur</td><td>03.11.2011</td><td>0</td><td>30.11.2014</td><td class=vellipsis>&hellip;</td><td>0</td><td>0</td><td>3</td><td>0</td><td>CCCCCCCCCCCCCC0X000000000000000000000XXXXXXXXXX</td></tr>\n",
       "    <tr><td class='row_index'>2</td><td>24368</td><td>20150901</td><td>0</td><td>4</td><td>0</td><td>0</td><td>rur</td><td>03.11.2011</td><td>0</td><td>30.11.2014</td><td class=vellipsis>&hellip;</td><td>0</td><td>0</td><td>3</td><td><span class=na>NA</span></td><td>CCCCCCCCCCCCCC000000000000000000000000XXXXXXXXX</td></tr>\n",
       "    <tr><td class='row_index'>3</td><td>24368</td><td>20150901</td><td>0</td><td>3</td><td>0</td><td>0</td><td>rur</td><td>24.02.2012</td><td>0</td><td>21.02.2014</td><td class=vellipsis>&hellip;</td><td>0</td><td>0</td><td>3</td><td><span class=na>NA</span></td><td>CCCCCCCCCCCCCCCCCCCCX0X0XX00000X00X0XX0X00XX</td></tr>\n",
       "    <tr><td class='row_index'>4</td><td>24368</td><td>20150901</td><td>0</td><td>4</td><td>0</td><td>0</td><td>rur</td><td>24.02.2012</td><td>0</td><td>21.02.2014</td><td class=vellipsis>&hellip;</td><td>0</td><td>0</td><td>3</td><td><span class=na>NA</span></td><td>CCCCCCCCCCCCCCCCCCCC000000000000000000000000</td></tr>\n",
       "    <tr><td class='row_index'>5</td><td>24368</td><td>20150901</td><td>0</td><td>3</td><td>2</td><td>0</td><td>rur</td><td>31.01.2014</td><td>0</td><td>17.03.2015</td><td class=vellipsis>&hellip;</td><td>0</td><td>0</td><td>3</td><td><span class=na>NA</span></td><td>XXXXX000X0XX00X00X0XX</td></tr>\n",
       "    <tr><td class='row_index'>6</td><td>24368</td><td>20150901</td><td>0</td><td>4</td><td>2</td><td>0</td><td>rur</td><td>31.01.2014</td><td>0</td><td>17.03.2015</td><td class=vellipsis>&hellip;</td><td>0</td><td>0</td><td>3</td><td><span class=na>NA</span></td><td>55555500000000000000</td></tr>\n",
       "    <tr><td class='row_index'>7</td><td>24368</td><td>20150901</td><td>0</td><td>3</td><td>0</td><td>0</td><td>rur</td><td>31.05.2015</td><td>0</td><td></td><td class=vellipsis>&hellip;</td><td>0</td><td>0</td><td>3</td><td>0</td><td>CCCCX</td></tr>\n",
       "    <tr><td class='row_index'>8</td><td>24368</td><td>20150901</td><td>0</td><td>3</td><td>1</td><td>0</td><td>rur</td><td>17.06.2015</td><td>0</td><td></td><td class=vellipsis>&hellip;</td><td>0</td><td>0</td><td>3</td><td><span class=na>NA</span></td><td>XX00</td></tr>\n",
       "    <tr><td class='row_index'>9</td><td>24368</td><td>20150901</td><td>0</td><td>4</td><td>1</td><td>0</td><td>rur</td><td>17.06.2015</td><td>0</td><td>16.06.2017</td><td class=vellipsis>&hellip;</td><td>0</td><td>0</td><td>3</td><td>2324</td><td>XX00</td></tr>\n",
       "  </tbody>\n",
       "  </table>\n",
       "  <div class='footer'>\n",
       "    <div class='frame_dimensions'>10 rows &times; 34 columns</div>\n",
       "  </div>\n",
       "</div>\n"
      ],
      "text/plain": [
       "<Frame#7fa59057c660 10x34>"
      ]
     },
     "execution_count": 7,
     "metadata": {},
     "output_type": "execute_result"
    }
   ],
   "source": [
    "# смотрим первые 10 наблюдений\n",
    "datatable_df.head()"
   ]
  },
  {
   "cell_type": "code",
   "execution_count": 8,
   "metadata": {},
   "outputs": [
    {
     "name": "stdout",
     "output_type": "stream",
     "text": [
      "ID : stype.int32\n",
      "SK_DATE_DECISION : stype.int32\n",
      "DEF : stype.bool8\n",
      "NUM_SOURCE : stype.int32\n",
      "CREDIT_ACTIVE : stype.int32\n",
      "CREDIT_COLLATERAL : stype.bool8\n",
      "CREDIT_CURRENCY : stype.str32\n",
      "DTIME_CREDIT : stype.str32\n",
      "CREDIT_DAY_OVERDUE : stype.int32\n",
      "DTIME_CREDIT_ENDDATE : stype.str32\n",
      "DTIME_CREDIT_ENDDATE_FACT : stype.str32\n",
      "CREDIT_FACILITY : stype.int32\n",
      "AMT_CREDIT_MAX_OVERDUE : stype.float64\n",
      "CNT_CREDIT_PROLONG : stype.int32\n",
      "AMT_CREDIT_SUM : stype.float64\n",
      "AMT_CREDIT_SUM_DEBT : stype.float64\n",
      "AMT_CREDIT_SUM_LIMIT : stype.float64\n",
      "AMT_CREDIT_SUM_OVERDUE : stype.float64\n",
      "CREDIT_SUM_TYPE : stype.bool8\n",
      "CREDIT_TYPE : stype.int32\n",
      "DTIME_CREDIT_UPDATE : stype.str32\n",
      "CREDIT_DELAY30 : stype.int32\n",
      "CREDIT_DELAY5 : stype.int32\n",
      "CREDIT_DELAY60 : stype.int32\n",
      "CREDIT_DELAY90 : stype.int32\n",
      "CREDIT_DELAY_MORE : stype.int32\n",
      "AMT_REQ_SOURCE_HOUR : stype.int32\n",
      "AMT_REQ_SOURCE_DAY : stype.int32\n",
      "AMT_REQ_SOURCE_WEEK : stype.int32\n",
      "AMT_REQ_SOURCE_MON : stype.int32\n",
      "AMT_REQ_SOURCE_QRT : stype.int32\n",
      "AMT_REQ_SOURCE_YEAR : stype.int32\n",
      "AMT_ANNUITY : stype.float64\n",
      "TEXT_PAYMENT_DISCIPLINE : stype.str32\n"
     ]
    }
   ],
   "source": [
    "# смотрим типы переменных\n",
    "for col in range(len(datatable_df.names)):\n",
    "    print(datatable_df.names[col], ':', datatable_df.stypes[col])"
   ]
  },
  {
   "cell_type": "code",
   "execution_count": 9,
   "metadata": {},
   "outputs": [
    {
     "data": {
      "text/html": [
       "<div class='datatable'>\n",
       "  <table class='frame'>\n",
       "  <thead>\n",
       "    <tr class='colnames'><td class='row_index'></td><th>NUM_SOURCE</th></tr>\n",
       "    <tr class='coltypes'><td class='row_index'></td><td class='int' title='int32'>&#x25AA;&#x25AA;&#x25AA;&#x25AA;</td></tr>\n",
       "  </thead>\n",
       "  <tbody>\n",
       "    <tr><td class='row_index'>0</td><td>1</td></tr>\n",
       "    <tr><td class='row_index'>1</td><td>3</td></tr>\n",
       "    <tr><td class='row_index'>2</td><td>4</td></tr>\n",
       "    <tr><td class='row_index'>3</td><td>3</td></tr>\n",
       "    <tr><td class='row_index'>4</td><td>4</td></tr>\n",
       "  </tbody>\n",
       "  </table>\n",
       "  <div class='footer'>\n",
       "    <div class='frame_dimensions'>5 rows &times; 1 column</div>\n",
       "  </div>\n",
       "</div>\n"
      ],
      "text/plain": [
       "<Frame#7fa59057ce10 5x1>"
      ]
     },
     "execution_count": 9,
     "metadata": {},
     "output_type": "execute_result"
    }
   ],
   "source": [
    "# отбираем столбец NUM_SOURCE \n",
    "# и выводим первые 5 наблюдений\n",
    "datatable_df[:,'NUM_SOURCE'].head(5)"
   ]
  },
  {
   "cell_type": "code",
   "execution_count": 10,
   "metadata": {
    "scrolled": true
   },
   "outputs": [
    {
     "data": {
      "text/html": [
       "<div class='datatable'>\n",
       "  <table class='frame'>\n",
       "  <thead>\n",
       "    <tr class='colnames'><td class='row_index'></td><th>NUM_SOURCE</th></tr>\n",
       "    <tr class='coltypes'><td class='row_index'></td><td class='int' title='int32'>&#x25AA;&#x25AA;&#x25AA;&#x25AA;</td></tr>\n",
       "  </thead>\n",
       "  <tbody>\n",
       "    <tr><td class='row_index'>0</td><td>1</td></tr>\n",
       "    <tr><td class='row_index'>1</td><td>3</td></tr>\n",
       "    <tr><td class='row_index'>2</td><td>4</td></tr>\n",
       "  </tbody>\n",
       "  </table>\n",
       "  <div class='footer'>\n",
       "    <div class='frame_dimensions'>3 rows &times; 1 column</div>\n",
       "  </div>\n",
       "</div>\n"
      ],
      "text/plain": [
       "<Frame#7fa59057cae0 3x1>"
      ]
     },
     "execution_count": 10,
     "metadata": {},
     "output_type": "execute_result"
    }
   ],
   "source": [
    "# отбираем первые 3 строки столбца NUM_SOURCE\n",
    "datatable_df[:3, 'NUM_SOURCE']"
   ]
  },
  {
   "cell_type": "code",
   "execution_count": 11,
   "metadata": {},
   "outputs": [
    {
     "data": {
      "text/html": [
       "<div class='datatable'>\n",
       "  <table class='frame'>\n",
       "  <thead>\n",
       "    <tr class='colnames'><td class='row_index'></td><th>DEF</th></tr>\n",
       "    <tr class='coltypes'><td class='row_index'></td><td class='bool' title='bool8'>&#x25AA;</td></tr>\n",
       "  </thead>\n",
       "  <tbody>\n",
       "    <tr><td class='row_index'>0</td><td>0</td></tr>\n",
       "    <tr><td class='row_index'>1</td><td>0</td></tr>\n",
       "    <tr><td class='row_index'>2</td><td>0</td></tr>\n",
       "  </tbody>\n",
       "  </table>\n",
       "  <div class='footer'>\n",
       "    <div class='frame_dimensions'>3 rows &times; 1 column</div>\n",
       "  </div>\n",
       "</div>\n"
      ],
      "text/plain": [
       "<Frame#7fa59057c060 3x1>"
      ]
     },
     "execution_count": 11,
     "metadata": {},
     "output_type": "execute_result"
    }
   ],
   "source": [
    "# отбираем первые 3 строки столбца NUM_SOURCE\n",
    "# (столбца с индексом 2)\n",
    "datatable_df[:3, 2]"
   ]
  },
  {
   "cell_type": "code",
   "execution_count": 12,
   "metadata": {},
   "outputs": [
    {
     "data": {
      "text/html": [
       "<div class='datatable'>\n",
       "  <table class='frame'>\n",
       "  <thead>\n",
       "    <tr class='colnames'><td class='row_index'></td><th>ID</th><th>SK_DATE_DECISION</th></tr>\n",
       "    <tr class='coltypes'><td class='row_index'></td><td class='int' title='int32'>&#x25AA;&#x25AA;&#x25AA;&#x25AA;</td><td class='int' title='int32'>&#x25AA;&#x25AA;&#x25AA;&#x25AA;</td></tr>\n",
       "  </thead>\n",
       "  <tbody>\n",
       "    <tr><td class='row_index'>0</td><td>24368</td><td>20150901</td></tr>\n",
       "    <tr><td class='row_index'>1</td><td>24368</td><td>20150901</td></tr>\n",
       "    <tr><td class='row_index'>2</td><td>24368</td><td>20150901</td></tr>\n",
       "  </tbody>\n",
       "  </table>\n",
       "  <div class='footer'>\n",
       "    <div class='frame_dimensions'>3 rows &times; 2 columns</div>\n",
       "  </div>\n",
       "</div>\n"
      ],
      "text/plain": [
       "<Frame#7fa59057cc90 3x2>"
      ]
     },
     "execution_count": 12,
     "metadata": {},
     "output_type": "execute_result"
    }
   ],
   "source": [
    "# отбираем первые 3 строки первых двух столбцов\n",
    "# (столбцов ID и SK_DATE_DECISION)\n",
    "datatable_df[:3, :2]"
   ]
  },
  {
   "cell_type": "code",
   "execution_count": 13,
   "metadata": {},
   "outputs": [
    {
     "data": {
      "text/html": [
       "<div class='datatable'>\n",
       "  <table class='frame'>\n",
       "  <thead>\n",
       "    <tr class='colnames'><td class='row_index'></td><th>ID</th><th>SK_DATE_DECISION</th><th>DEF</th><th>NUM_SOURCE</th><th>CREDIT_ACTIVE</th><th>CREDIT_COLLATERAL</th><th>CREDIT_CURRENCY</th><th>DTIME_CREDIT</th><th>CREDIT_DAY_OVERDUE</th><th>DTIME_CREDIT_ENDDATE</th><th class='vellipsis'>&hellip;</th><th>AMT_REQ_SOURCE_MON</th><th>AMT_REQ_SOURCE_QRT</th><th>AMT_REQ_SOURCE_YEAR</th><th>AMT_ANNUITY</th><th>TEXT_PAYMENT_DISCIPLINE</th></tr>\n",
       "    <tr class='coltypes'><td class='row_index'></td><td class='int' title='int64'>&#x25AA;&#x25AA;&#x25AA;&#x25AA;&#x25AA;&#x25AA;&#x25AA;&#x25AA;</td><td class='int' title='int64'>&#x25AA;&#x25AA;&#x25AA;&#x25AA;&#x25AA;&#x25AA;&#x25AA;&#x25AA;</td><td class='int' title='int64'>&#x25AA;&#x25AA;&#x25AA;&#x25AA;&#x25AA;&#x25AA;&#x25AA;&#x25AA;</td><td class='int' title='int64'>&#x25AA;&#x25AA;&#x25AA;&#x25AA;&#x25AA;&#x25AA;&#x25AA;&#x25AA;</td><td class='int' title='int64'>&#x25AA;&#x25AA;&#x25AA;&#x25AA;&#x25AA;&#x25AA;&#x25AA;&#x25AA;</td><td class='int' title='int64'>&#x25AA;&#x25AA;&#x25AA;&#x25AA;&#x25AA;&#x25AA;&#x25AA;&#x25AA;</td><td class='int' title='int64'>&#x25AA;&#x25AA;&#x25AA;&#x25AA;&#x25AA;&#x25AA;&#x25AA;&#x25AA;</td><td class='int' title='int64'>&#x25AA;&#x25AA;&#x25AA;&#x25AA;&#x25AA;&#x25AA;&#x25AA;&#x25AA;</td><td class='int' title='int64'>&#x25AA;&#x25AA;&#x25AA;&#x25AA;&#x25AA;&#x25AA;&#x25AA;&#x25AA;</td><td class='int' title='int64'>&#x25AA;&#x25AA;&#x25AA;&#x25AA;&#x25AA;&#x25AA;&#x25AA;&#x25AA;</td><td></td><td class='int' title='int64'>&#x25AA;&#x25AA;&#x25AA;&#x25AA;&#x25AA;&#x25AA;&#x25AA;&#x25AA;</td><td class='int' title='int64'>&#x25AA;&#x25AA;&#x25AA;&#x25AA;&#x25AA;&#x25AA;&#x25AA;&#x25AA;</td><td class='int' title='int64'>&#x25AA;&#x25AA;&#x25AA;&#x25AA;&#x25AA;&#x25AA;&#x25AA;&#x25AA;</td><td class='int' title='int64'>&#x25AA;&#x25AA;&#x25AA;&#x25AA;&#x25AA;&#x25AA;&#x25AA;&#x25AA;</td><td class='int' title='int64'>&#x25AA;&#x25AA;&#x25AA;&#x25AA;&#x25AA;&#x25AA;&#x25AA;&#x25AA;</td></tr>\n",
       "  </thead>\n",
       "  <tbody>\n",
       "    <tr><td class='row_index'>0</td><td>0</td><td>0</td><td>0</td><td>0</td><td>0</td><td>0</td><td>0</td><td>0</td><td>0</td><td>0</td><td class=vellipsis>&hellip;</td><td>0</td><td>0</td><td>0</td><td>475829</td><td>0</td></tr>\n",
       "  </tbody>\n",
       "  </table>\n",
       "  <div class='footer'>\n",
       "    <div class='frame_dimensions'>1 row &times; 34 columns</div>\n",
       "  </div>\n",
       "</div>\n"
      ],
      "text/plain": [
       "<Frame#7fa59057ce70 1x34>"
      ]
     },
     "execution_count": 13,
     "metadata": {},
     "output_type": "execute_result"
    }
   ],
   "source": [
    "# выведем количество пропусков по каждой переменной\n",
    "datatable_df.countna()"
   ]
  },
  {
   "cell_type": "code",
   "execution_count": 14,
   "metadata": {},
   "outputs": [
    {
     "data": {
      "text/html": [
       "<div class='datatable'>\n",
       "  <table class='frame'>\n",
       "  <thead>\n",
       "    <tr class='colnames'><td class='row_index'></td><th>ID</th><th>AMT_CREDIT_SUM_DEBT</th></tr>\n",
       "    <tr class='coltypes'><td class='row_index'></td><td class='int' title='int32'>&#x25AA;&#x25AA;&#x25AA;&#x25AA;</td><td class='float' title='float64'>&#x25AA;&#x25AA;&#x25AA;&#x25AA;&#x25AA;&#x25AA;&#x25AA;&#x25AA;</td></tr>\n",
       "  </thead>\n",
       "  <tbody>\n",
       "    <tr><td class='row_index'>0</td><td>24368</td><td>13974.8</td></tr>\n",
       "    <tr><td class='row_index'>1</td><td>24369</td><td>9350.87</td></tr>\n",
       "    <tr><td class='row_index'>2</td><td>24370</td><td>807.371</td></tr>\n",
       "    <tr><td class='row_index'>3</td><td>24372</td><td>0</td></tr>\n",
       "    <tr><td class='row_index'>4</td><td>24373</td><td>5860.14</td></tr>\n",
       "  </tbody>\n",
       "  </table>\n",
       "  <div class='footer'>\n",
       "    <div class='frame_dimensions'>5 rows &times; 2 columns</div>\n",
       "  </div>\n",
       "</div>\n"
      ],
      "text/plain": [
       "<Frame#7fa59057c420 5x2>"
      ]
     },
     "execution_count": 14,
     "metadata": {},
     "output_type": "execute_result"
    }
   ],
   "source": [
    "# выведем средние суммы задолженности по первым 5 клиентам\n",
    "datatable_df[:, dt.mean(dt.f.AMT_CREDIT_SUM_DEBT), dt.by('ID')].head(5)"
   ]
  },
  {
   "cell_type": "code",
   "execution_count": 15,
   "metadata": {},
   "outputs": [],
   "source": [
    "# удаляем столбец ID\n",
    "del datatable_df[:, 'ID']"
   ]
  },
  {
   "cell_type": "code",
   "execution_count": 16,
   "metadata": {},
   "outputs": [],
   "source": [
    "# сохраняем фрейм в CSV-файл\n",
    "datatable_df.to_csv('datatable_results.csv')"
   ]
  }
 ],
 "metadata": {
  "kernelspec": {
   "display_name": "Python 3 (ipykernel)",
   "language": "python",
   "name": "python3"
  },
  "language_info": {
   "codemirror_mode": {
    "name": "ipython",
    "version": 3
   },
   "file_extension": ".py",
   "mimetype": "text/x-python",
   "name": "python",
   "nbconvert_exporter": "python",
   "pygments_lexer": "ipython3",
   "version": "3.9.12"
  }
 },
 "nbformat": 4,
 "nbformat_minor": 2
}
