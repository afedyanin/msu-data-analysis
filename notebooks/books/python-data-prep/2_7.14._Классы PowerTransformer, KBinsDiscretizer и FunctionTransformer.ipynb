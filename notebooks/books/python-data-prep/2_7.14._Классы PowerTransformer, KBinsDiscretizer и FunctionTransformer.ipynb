{
 "cells": [
  {
   "cell_type": "code",
   "execution_count": 1,
   "metadata": {},
   "outputs": [],
   "source": [
    "# импортируем необходимые библиотеки, функции и классы\n",
    "import pandas as pd\n",
    "import numpy as np\n",
    "from sklearn.model_selection import train_test_split\n",
    "from sklearn.impute import SimpleImputer\n",
    "from sklearn.preprocessing import PowerTransformer\n",
    "from sklearn.preprocessing import FunctionTransformer\n",
    "from sklearn.preprocessing import KBinsDiscretizer\n",
    "from sklearn.preprocessing import OneHotEncoder\n",
    "from sklearn.compose import ColumnTransformer\n",
    "from sklearn.linear_model import LogisticRegression\n",
    "from sklearn.pipeline import Pipeline\n",
    "from sklearn.model_selection import GridSearchCV"
   ]
  },
  {
   "cell_type": "code",
   "execution_count": 2,
   "metadata": {
    "scrolled": true
   },
   "outputs": [
    {
     "data": {
      "text/html": [
       "<div>\n",
       "<style scoped>\n",
       "    .dataframe tbody tr th:only-of-type {\n",
       "        vertical-align: middle;\n",
       "    }\n",
       "\n",
       "    .dataframe tbody tr th {\n",
       "        vertical-align: top;\n",
       "    }\n",
       "\n",
       "    .dataframe thead th {\n",
       "        text-align: right;\n",
       "    }\n",
       "</style>\n",
       "<table border=\"1\" class=\"dataframe\">\n",
       "  <thead>\n",
       "    <tr style=\"text-align: right;\">\n",
       "      <th></th>\n",
       "      <th>region</th>\n",
       "      <th>tenure</th>\n",
       "      <th>age</th>\n",
       "      <th>marital</th>\n",
       "      <th>address</th>\n",
       "      <th>income</th>\n",
       "      <th>employ</th>\n",
       "      <th>retire</th>\n",
       "      <th>gender</th>\n",
       "      <th>reside</th>\n",
       "      <th>custcat</th>\n",
       "      <th>churn</th>\n",
       "    </tr>\n",
       "  </thead>\n",
       "  <tbody>\n",
       "    <tr>\n",
       "      <th>0</th>\n",
       "      <td>Region 2</td>\n",
       "      <td>13.0</td>\n",
       "      <td>44.0</td>\n",
       "      <td>mar</td>\n",
       "      <td>9.0</td>\n",
       "      <td>64.0</td>\n",
       "      <td>5.0</td>\n",
       "      <td>no</td>\n",
       "      <td>f</td>\n",
       "      <td>2.0</td>\n",
       "      <td>cat 1</td>\n",
       "      <td>1</td>\n",
       "    </tr>\n",
       "    <tr>\n",
       "      <th>1</th>\n",
       "      <td>Region 3</td>\n",
       "      <td>11.0</td>\n",
       "      <td>33.0</td>\n",
       "      <td>mar</td>\n",
       "      <td>7.0</td>\n",
       "      <td>136.0</td>\n",
       "      <td>5.0</td>\n",
       "      <td>no</td>\n",
       "      <td>f</td>\n",
       "      <td>6.0</td>\n",
       "      <td>cat 4</td>\n",
       "      <td>1</td>\n",
       "    </tr>\n",
       "    <tr>\n",
       "      <th>2</th>\n",
       "      <td>Region 3</td>\n",
       "      <td>68.0</td>\n",
       "      <td>52.0</td>\n",
       "      <td>mar</td>\n",
       "      <td>24.0</td>\n",
       "      <td>116.0</td>\n",
       "      <td>29.0</td>\n",
       "      <td>no</td>\n",
       "      <td>NaN</td>\n",
       "      <td>NaN</td>\n",
       "      <td>NaN</td>\n",
       "      <td>0</td>\n",
       "    </tr>\n",
       "    <tr>\n",
       "      <th>3</th>\n",
       "      <td>Region 2</td>\n",
       "      <td>NaN</td>\n",
       "      <td>33.0</td>\n",
       "      <td>NaN</td>\n",
       "      <td>12.0</td>\n",
       "      <td>NaN</td>\n",
       "      <td>NaN</td>\n",
       "      <td>no</td>\n",
       "      <td>NaN</td>\n",
       "      <td>1.0</td>\n",
       "      <td>cat 1</td>\n",
       "      <td>1</td>\n",
       "    </tr>\n",
       "    <tr>\n",
       "      <th>4</th>\n",
       "      <td>Region 2</td>\n",
       "      <td>23.0</td>\n",
       "      <td>30.0</td>\n",
       "      <td>mar</td>\n",
       "      <td>9.0</td>\n",
       "      <td>30.0</td>\n",
       "      <td>2.0</td>\n",
       "      <td>no</td>\n",
       "      <td>f</td>\n",
       "      <td>4.0</td>\n",
       "      <td>cat 3</td>\n",
       "      <td>0</td>\n",
       "    </tr>\n",
       "  </tbody>\n",
       "</table>\n",
       "</div>"
      ],
      "text/plain": [
       "     region  tenure   age marital  address  income  employ retire gender  \\\n",
       "0  Region 2    13.0  44.0     mar      9.0    64.0     5.0     no      f   \n",
       "1  Region 3    11.0  33.0     mar      7.0   136.0     5.0     no      f   \n",
       "2  Region 3    68.0  52.0     mar     24.0   116.0    29.0     no    NaN   \n",
       "3  Region 2     NaN  33.0     NaN     12.0     NaN     NaN     no    NaN   \n",
       "4  Region 2    23.0  30.0     mar      9.0    30.0     2.0     no      f   \n",
       "\n",
       "   reside custcat  churn  \n",
       "0     2.0   cat 1      1  \n",
       "1     6.0   cat 4      1  \n",
       "2     NaN     NaN      0  \n",
       "3     1.0   cat 1      1  \n",
       "4     4.0   cat 3      0  "
      ]
     },
     "execution_count": 2,
     "metadata": {},
     "output_type": "execute_result"
    }
   ],
   "source": [
    "# записываем CSV-файл в объект DataFrame\n",
    "data = pd.read_csv('Data/Vodafone_missing.csv', sep=';')\n",
    "data.head(5)"
   ]
  },
  {
   "cell_type": "code",
   "execution_count": 3,
   "metadata": {},
   "outputs": [],
   "source": [
    "# разбиваем данные на обучающие и тестовые: получаем обучающий\n",
    "# массив признаков, тестовый массив признаков, обучающий массив\n",
    "# меток, тестовый массив меток\n",
    "X_train, X_test, y_train, y_test = train_test_split(data.drop('churn', axis=1), \n",
    "                                                    data['churn'], \n",
    "                                                    test_size=0.3,\n",
    "                                                    stratify=data['churn'],\n",
    "                                                    random_state=42)"
   ]
  },
  {
   "cell_type": "code",
   "execution_count": 4,
   "metadata": {},
   "outputs": [],
   "source": [
    "# создаем список категориальных признаков, список\n",
    "# количественных признаков, не предназначенных для\n",
    "# биннинга, списки количественных признаков,\n",
    "# предназначенных для биннинга \n",
    "cat_columns = X_train.select_dtypes(\n",
    "    include='object').columns.tolist()\n",
    "num_columns = X_train.select_dtypes(\n",
    "    exclude='object').columns.tolist()\n",
    "age_col = ['age']\n",
    "tenure_col = ['tenure']"
   ]
  },
  {
   "cell_type": "code",
   "execution_count": 5,
   "metadata": {},
   "outputs": [],
   "source": [
    "# пишем функцию биннинга\n",
    "def discretize(x):\n",
    "    bins = [-np.inf, 20, 40, np.inf]\n",
    "    return np.digitize(x, bins)"
   ]
  },
  {
   "cell_type": "code",
   "execution_count": 6,
   "metadata": {},
   "outputs": [],
   "source": [
    "# создаем конвейер для количественных переменных,\n",
    "# которые не будут подвергнуты биннингу\n",
    "num_pipe = Pipeline([\n",
    "    ('imp', SimpleImputer()),\n",
    "    ('yeo_john', PowerTransformer(method='yeo-johnson', \n",
    "                                  standardize=True))\n",
    "])\n",
    "\n",
    "# создаем конвейер для age, которая будет \n",
    "# подвергнута биннингу\n",
    "age_bin_pipe = Pipeline([\n",
    "    ('imp', SimpleImputer()),\n",
    "    ('disc', KBinsDiscretizer(encode='onehot-dense'))\n",
    "])\n",
    "\n",
    "# создаем конвейер для tenure, которая будет \n",
    "# подвергнута биннингу\n",
    "tenure_bin_pipe = Pipeline([\n",
    "    ('imp', SimpleImputer()),\n",
    "    ('cust_disc', FunctionTransformer(discretize, validate=False)),\n",
    "    ('ohe', OneHotEncoder(sparse=False, handle_unknown='ignore'))\n",
    "])\n",
    "\n",
    "# создаем конвейер для категориальных переменных\n",
    "cat_pipe = Pipeline([\n",
    "    ('imp', SimpleImputer()),\n",
    "    ('ohe', OneHotEncoder(sparse=False, handle_unknown='ignore'))\n",
    "])"
   ]
  },
  {
   "cell_type": "code",
   "execution_count": 7,
   "metadata": {},
   "outputs": [],
   "source": [
    "# создаем список трехэлементных кортежей, в котором\n",
    "# первый элемент кортежа - название конвейера с\n",
    "# преобразованиями для определенного типа признаков\n",
    "transformers = [('num', num_pipe, num_columns),\n",
    "                ('age_bin', age_bin_pipe, age_col),\n",
    "                ('tenure_bin', tenure_bin_pipe, tenure_col),\n",
    "                ('cat', cat_pipe, cat_columns)]"
   ]
  },
  {
   "cell_type": "code",
   "execution_count": 8,
   "metadata": {},
   "outputs": [
    {
     "data": {
      "text/html": [
       "<style>#sk-container-id-1 {color: black;background-color: white;}#sk-container-id-1 pre{padding: 0;}#sk-container-id-1 div.sk-toggleable {background-color: white;}#sk-container-id-1 label.sk-toggleable__label {cursor: pointer;display: block;width: 100%;margin-bottom: 0;padding: 0.3em;box-sizing: border-box;text-align: center;}#sk-container-id-1 label.sk-toggleable__label-arrow:before {content: \"▸\";float: left;margin-right: 0.25em;color: #696969;}#sk-container-id-1 label.sk-toggleable__label-arrow:hover:before {color: black;}#sk-container-id-1 div.sk-estimator:hover label.sk-toggleable__label-arrow:before {color: black;}#sk-container-id-1 div.sk-toggleable__content {max-height: 0;max-width: 0;overflow: hidden;text-align: left;background-color: #f0f8ff;}#sk-container-id-1 div.sk-toggleable__content pre {margin: 0.2em;color: black;border-radius: 0.25em;background-color: #f0f8ff;}#sk-container-id-1 input.sk-toggleable__control:checked~div.sk-toggleable__content {max-height: 200px;max-width: 100%;overflow: auto;}#sk-container-id-1 input.sk-toggleable__control:checked~label.sk-toggleable__label-arrow:before {content: \"▾\";}#sk-container-id-1 div.sk-estimator input.sk-toggleable__control:checked~label.sk-toggleable__label {background-color: #d4ebff;}#sk-container-id-1 div.sk-label input.sk-toggleable__control:checked~label.sk-toggleable__label {background-color: #d4ebff;}#sk-container-id-1 input.sk-hidden--visually {border: 0;clip: rect(1px 1px 1px 1px);clip: rect(1px, 1px, 1px, 1px);height: 1px;margin: -1px;overflow: hidden;padding: 0;position: absolute;width: 1px;}#sk-container-id-1 div.sk-estimator {font-family: monospace;background-color: #f0f8ff;border: 1px dotted black;border-radius: 0.25em;box-sizing: border-box;margin-bottom: 0.5em;}#sk-container-id-1 div.sk-estimator:hover {background-color: #d4ebff;}#sk-container-id-1 div.sk-parallel-item::after {content: \"\";width: 100%;border-bottom: 1px solid gray;flex-grow: 1;}#sk-container-id-1 div.sk-label:hover label.sk-toggleable__label {background-color: #d4ebff;}#sk-container-id-1 div.sk-serial::before {content: \"\";position: absolute;border-left: 1px solid gray;box-sizing: border-box;top: 0;bottom: 0;left: 50%;z-index: 0;}#sk-container-id-1 div.sk-serial {display: flex;flex-direction: column;align-items: center;background-color: white;padding-right: 0.2em;padding-left: 0.2em;position: relative;}#sk-container-id-1 div.sk-item {position: relative;z-index: 1;}#sk-container-id-1 div.sk-parallel {display: flex;align-items: stretch;justify-content: center;background-color: white;position: relative;}#sk-container-id-1 div.sk-item::before, #sk-container-id-1 div.sk-parallel-item::before {content: \"\";position: absolute;border-left: 1px solid gray;box-sizing: border-box;top: 0;bottom: 0;left: 50%;z-index: -1;}#sk-container-id-1 div.sk-parallel-item {display: flex;flex-direction: column;z-index: 1;position: relative;background-color: white;}#sk-container-id-1 div.sk-parallel-item:first-child::after {align-self: flex-end;width: 50%;}#sk-container-id-1 div.sk-parallel-item:last-child::after {align-self: flex-start;width: 50%;}#sk-container-id-1 div.sk-parallel-item:only-child::after {width: 0;}#sk-container-id-1 div.sk-dashed-wrapped {border: 1px dashed gray;margin: 0 0.4em 0.5em 0.4em;box-sizing: border-box;padding-bottom: 0.4em;background-color: white;}#sk-container-id-1 div.sk-label label {font-family: monospace;font-weight: bold;display: inline-block;line-height: 1.2em;}#sk-container-id-1 div.sk-label-container {text-align: center;}#sk-container-id-1 div.sk-container {/* jupyter's `normalize.less` sets `[hidden] { display: none; }` but bootstrap.min.css set `[hidden] { display: none !important; }` so we also need the `!important` here to be able to override the default hidden behavior on the sphinx rendered scikit-learn.org. See: https://github.com/scikit-learn/scikit-learn/issues/21755 */display: inline-block !important;position: relative;}#sk-container-id-1 div.sk-text-repr-fallback {display: none;}</style><div id=\"sk-container-id-1\" class=\"sk-top-container\"><div class=\"sk-text-repr-fallback\"><pre>ColumnTransformer(transformers=[(&#x27;num&#x27;,\n",
       "                                 Pipeline(steps=[(&#x27;imp&#x27;, SimpleImputer()),\n",
       "                                                 (&#x27;yeo_john&#x27;,\n",
       "                                                  PowerTransformer())]),\n",
       "                                 [&#x27;tenure&#x27;, &#x27;age&#x27;, &#x27;address&#x27;, &#x27;income&#x27;,\n",
       "                                  &#x27;employ&#x27;, &#x27;reside&#x27;]),\n",
       "                                (&#x27;age_bin&#x27;,\n",
       "                                 Pipeline(steps=[(&#x27;imp&#x27;, SimpleImputer()),\n",
       "                                                 (&#x27;disc&#x27;,\n",
       "                                                  KBinsDiscretizer(encode=&#x27;onehot-dense&#x27;))]),\n",
       "                                 [&#x27;age&#x27;]),\n",
       "                                (&#x27;tenure_bin&#x27;,\n",
       "                                 Pipeline(steps=[(&#x27;imp&#x27;, SimpleImputer()),\n",
       "                                                 (&#x27;cust_disc&#x27;,\n",
       "                                                  FunctionTransformer(func=&lt;function discretize at 0x7fe1e82f1ca0&gt;)),\n",
       "                                                 (&#x27;ohe&#x27;,\n",
       "                                                  OneHotEncoder(handle_unknown=&#x27;ignore&#x27;,\n",
       "                                                                sparse=False))]),\n",
       "                                 [&#x27;tenure&#x27;]),\n",
       "                                (&#x27;cat&#x27;,\n",
       "                                 Pipeline(steps=[(&#x27;imp&#x27;, SimpleImputer()),\n",
       "                                                 (&#x27;ohe&#x27;,\n",
       "                                                  OneHotEncoder(handle_unknown=&#x27;ignore&#x27;,\n",
       "                                                                sparse=False))]),\n",
       "                                 [&#x27;region&#x27;, &#x27;marital&#x27;, &#x27;retire&#x27;, &#x27;gender&#x27;,\n",
       "                                  &#x27;custcat&#x27;])])</pre><b>In a Jupyter environment, please rerun this cell to show the HTML representation or trust the notebook. <br />On GitHub, the HTML representation is unable to render, please try loading this page with nbviewer.org.</b></div><div class=\"sk-container\" hidden><div class=\"sk-item sk-dashed-wrapped\"><div class=\"sk-label-container\"><div class=\"sk-label sk-toggleable\"><input class=\"sk-toggleable__control sk-hidden--visually\" id=\"sk-estimator-id-1\" type=\"checkbox\" ><label for=\"sk-estimator-id-1\" class=\"sk-toggleable__label sk-toggleable__label-arrow\">ColumnTransformer</label><div class=\"sk-toggleable__content\"><pre>ColumnTransformer(transformers=[(&#x27;num&#x27;,\n",
       "                                 Pipeline(steps=[(&#x27;imp&#x27;, SimpleImputer()),\n",
       "                                                 (&#x27;yeo_john&#x27;,\n",
       "                                                  PowerTransformer())]),\n",
       "                                 [&#x27;tenure&#x27;, &#x27;age&#x27;, &#x27;address&#x27;, &#x27;income&#x27;,\n",
       "                                  &#x27;employ&#x27;, &#x27;reside&#x27;]),\n",
       "                                (&#x27;age_bin&#x27;,\n",
       "                                 Pipeline(steps=[(&#x27;imp&#x27;, SimpleImputer()),\n",
       "                                                 (&#x27;disc&#x27;,\n",
       "                                                  KBinsDiscretizer(encode=&#x27;onehot-dense&#x27;))]),\n",
       "                                 [&#x27;age&#x27;]),\n",
       "                                (&#x27;tenure_bin&#x27;,\n",
       "                                 Pipeline(steps=[(&#x27;imp&#x27;, SimpleImputer()),\n",
       "                                                 (&#x27;cust_disc&#x27;,\n",
       "                                                  FunctionTransformer(func=&lt;function discretize at 0x7fe1e82f1ca0&gt;)),\n",
       "                                                 (&#x27;ohe&#x27;,\n",
       "                                                  OneHotEncoder(handle_unknown=&#x27;ignore&#x27;,\n",
       "                                                                sparse=False))]),\n",
       "                                 [&#x27;tenure&#x27;]),\n",
       "                                (&#x27;cat&#x27;,\n",
       "                                 Pipeline(steps=[(&#x27;imp&#x27;, SimpleImputer()),\n",
       "                                                 (&#x27;ohe&#x27;,\n",
       "                                                  OneHotEncoder(handle_unknown=&#x27;ignore&#x27;,\n",
       "                                                                sparse=False))]),\n",
       "                                 [&#x27;region&#x27;, &#x27;marital&#x27;, &#x27;retire&#x27;, &#x27;gender&#x27;,\n",
       "                                  &#x27;custcat&#x27;])])</pre></div></div></div><div class=\"sk-parallel\"><div class=\"sk-parallel-item\"><div class=\"sk-item\"><div class=\"sk-label-container\"><div class=\"sk-label sk-toggleable\"><input class=\"sk-toggleable__control sk-hidden--visually\" id=\"sk-estimator-id-2\" type=\"checkbox\" ><label for=\"sk-estimator-id-2\" class=\"sk-toggleable__label sk-toggleable__label-arrow\">num</label><div class=\"sk-toggleable__content\"><pre>[&#x27;tenure&#x27;, &#x27;age&#x27;, &#x27;address&#x27;, &#x27;income&#x27;, &#x27;employ&#x27;, &#x27;reside&#x27;]</pre></div></div></div><div class=\"sk-serial\"><div class=\"sk-item\"><div class=\"sk-serial\"><div class=\"sk-item\"><div class=\"sk-estimator sk-toggleable\"><input class=\"sk-toggleable__control sk-hidden--visually\" id=\"sk-estimator-id-3\" type=\"checkbox\" ><label for=\"sk-estimator-id-3\" class=\"sk-toggleable__label sk-toggleable__label-arrow\">SimpleImputer</label><div class=\"sk-toggleable__content\"><pre>SimpleImputer()</pre></div></div></div><div class=\"sk-item\"><div class=\"sk-estimator sk-toggleable\"><input class=\"sk-toggleable__control sk-hidden--visually\" id=\"sk-estimator-id-4\" type=\"checkbox\" ><label for=\"sk-estimator-id-4\" class=\"sk-toggleable__label sk-toggleable__label-arrow\">PowerTransformer</label><div class=\"sk-toggleable__content\"><pre>PowerTransformer()</pre></div></div></div></div></div></div></div></div><div class=\"sk-parallel-item\"><div class=\"sk-item\"><div class=\"sk-label-container\"><div class=\"sk-label sk-toggleable\"><input class=\"sk-toggleable__control sk-hidden--visually\" id=\"sk-estimator-id-5\" type=\"checkbox\" ><label for=\"sk-estimator-id-5\" class=\"sk-toggleable__label sk-toggleable__label-arrow\">age_bin</label><div class=\"sk-toggleable__content\"><pre>[&#x27;age&#x27;]</pre></div></div></div><div class=\"sk-serial\"><div class=\"sk-item\"><div class=\"sk-serial\"><div class=\"sk-item\"><div class=\"sk-estimator sk-toggleable\"><input class=\"sk-toggleable__control sk-hidden--visually\" id=\"sk-estimator-id-6\" type=\"checkbox\" ><label for=\"sk-estimator-id-6\" class=\"sk-toggleable__label sk-toggleable__label-arrow\">SimpleImputer</label><div class=\"sk-toggleable__content\"><pre>SimpleImputer()</pre></div></div></div><div class=\"sk-item\"><div class=\"sk-estimator sk-toggleable\"><input class=\"sk-toggleable__control sk-hidden--visually\" id=\"sk-estimator-id-7\" type=\"checkbox\" ><label for=\"sk-estimator-id-7\" class=\"sk-toggleable__label sk-toggleable__label-arrow\">KBinsDiscretizer</label><div class=\"sk-toggleable__content\"><pre>KBinsDiscretizer(encode=&#x27;onehot-dense&#x27;)</pre></div></div></div></div></div></div></div></div><div class=\"sk-parallel-item\"><div class=\"sk-item\"><div class=\"sk-label-container\"><div class=\"sk-label sk-toggleable\"><input class=\"sk-toggleable__control sk-hidden--visually\" id=\"sk-estimator-id-8\" type=\"checkbox\" ><label for=\"sk-estimator-id-8\" class=\"sk-toggleable__label sk-toggleable__label-arrow\">tenure_bin</label><div class=\"sk-toggleable__content\"><pre>[&#x27;tenure&#x27;]</pre></div></div></div><div class=\"sk-serial\"><div class=\"sk-item\"><div class=\"sk-serial\"><div class=\"sk-item\"><div class=\"sk-estimator sk-toggleable\"><input class=\"sk-toggleable__control sk-hidden--visually\" id=\"sk-estimator-id-9\" type=\"checkbox\" ><label for=\"sk-estimator-id-9\" class=\"sk-toggleable__label sk-toggleable__label-arrow\">SimpleImputer</label><div class=\"sk-toggleable__content\"><pre>SimpleImputer()</pre></div></div></div><div class=\"sk-item\"><div class=\"sk-estimator sk-toggleable\"><input class=\"sk-toggleable__control sk-hidden--visually\" id=\"sk-estimator-id-10\" type=\"checkbox\" ><label for=\"sk-estimator-id-10\" class=\"sk-toggleable__label sk-toggleable__label-arrow\">FunctionTransformer</label><div class=\"sk-toggleable__content\"><pre>FunctionTransformer(func=&lt;function discretize at 0x7fe1e82f1ca0&gt;)</pre></div></div></div><div class=\"sk-item\"><div class=\"sk-estimator sk-toggleable\"><input class=\"sk-toggleable__control sk-hidden--visually\" id=\"sk-estimator-id-11\" type=\"checkbox\" ><label for=\"sk-estimator-id-11\" class=\"sk-toggleable__label sk-toggleable__label-arrow\">OneHotEncoder</label><div class=\"sk-toggleable__content\"><pre>OneHotEncoder(handle_unknown=&#x27;ignore&#x27;, sparse=False)</pre></div></div></div></div></div></div></div></div><div class=\"sk-parallel-item\"><div class=\"sk-item\"><div class=\"sk-label-container\"><div class=\"sk-label sk-toggleable\"><input class=\"sk-toggleable__control sk-hidden--visually\" id=\"sk-estimator-id-12\" type=\"checkbox\" ><label for=\"sk-estimator-id-12\" class=\"sk-toggleable__label sk-toggleable__label-arrow\">cat</label><div class=\"sk-toggleable__content\"><pre>[&#x27;region&#x27;, &#x27;marital&#x27;, &#x27;retire&#x27;, &#x27;gender&#x27;, &#x27;custcat&#x27;]</pre></div></div></div><div class=\"sk-serial\"><div class=\"sk-item\"><div class=\"sk-serial\"><div class=\"sk-item\"><div class=\"sk-estimator sk-toggleable\"><input class=\"sk-toggleable__control sk-hidden--visually\" id=\"sk-estimator-id-13\" type=\"checkbox\" ><label for=\"sk-estimator-id-13\" class=\"sk-toggleable__label sk-toggleable__label-arrow\">SimpleImputer</label><div class=\"sk-toggleable__content\"><pre>SimpleImputer()</pre></div></div></div><div class=\"sk-item\"><div class=\"sk-estimator sk-toggleable\"><input class=\"sk-toggleable__control sk-hidden--visually\" id=\"sk-estimator-id-14\" type=\"checkbox\" ><label for=\"sk-estimator-id-14\" class=\"sk-toggleable__label sk-toggleable__label-arrow\">OneHotEncoder</label><div class=\"sk-toggleable__content\"><pre>OneHotEncoder(handle_unknown=&#x27;ignore&#x27;, sparse=False)</pre></div></div></div></div></div></div></div></div></div></div></div></div>"
      ],
      "text/plain": [
       "ColumnTransformer(transformers=[('num',\n",
       "                                 Pipeline(steps=[('imp', SimpleImputer()),\n",
       "                                                 ('yeo_john',\n",
       "                                                  PowerTransformer())]),\n",
       "                                 ['tenure', 'age', 'address', 'income',\n",
       "                                  'employ', 'reside']),\n",
       "                                ('age_bin',\n",
       "                                 Pipeline(steps=[('imp', SimpleImputer()),\n",
       "                                                 ('disc',\n",
       "                                                  KBinsDiscretizer(encode='onehot-dense'))]),\n",
       "                                 ['age']),\n",
       "                                ('tenure_bin',\n",
       "                                 Pipeline(steps=[('imp', SimpleImputer()),\n",
       "                                                 ('cust_disc',\n",
       "                                                  FunctionTransformer(func=<function discretize at 0x7fe1e82f1ca0>)),\n",
       "                                                 ('ohe',\n",
       "                                                  OneHotEncoder(handle_unknown='ignore',\n",
       "                                                                sparse=False))]),\n",
       "                                 ['tenure']),\n",
       "                                ('cat',\n",
       "                                 Pipeline(steps=[('imp', SimpleImputer()),\n",
       "                                                 ('ohe',\n",
       "                                                  OneHotEncoder(handle_unknown='ignore',\n",
       "                                                                sparse=False))]),\n",
       "                                 ['region', 'marital', 'retire', 'gender',\n",
       "                                  'custcat'])])"
      ]
     },
     "execution_count": 8,
     "metadata": {},
     "output_type": "execute_result"
    }
   ],
   "source": [
    "# передаем список трансформеров в ColumnTransformer\n",
    "transformer = ColumnTransformer(transformers=transformers)\n",
    "transformer"
   ]
  },
  {
   "cell_type": "code",
   "execution_count": 9,
   "metadata": {},
   "outputs": [],
   "source": [
    "# задаем итоговый конвейер\n",
    "ml_pipe = Pipeline([('tr', transformer), \n",
    "                    ('lr', LogisticRegression(C=0.1, \n",
    "                                              solver='lbfgs', \n",
    "                                              max_iter=200))])"
   ]
  },
  {
   "cell_type": "code",
   "execution_count": 10,
   "metadata": {},
   "outputs": [],
   "source": [
    "# задаем сетку гиперпараметров\n",
    "param_grid = {\n",
    "    'tr__num__imp__strategy': ['mean', 'median', 'constant'],\n",
    "    'tr__age_bin__disc__n_bins': [2, 3],\n",
    "    'tr__cat__imp__strategy': ['most_frequent', 'constant']\n",
    "}"
   ]
  },
  {
   "cell_type": "code",
   "execution_count": 11,
   "metadata": {
    "scrolled": true
   },
   "outputs": [
    {
     "name": "stdout",
     "output_type": "stream",
     "text": [
      "Наилучшие значения гиперпараметров:\n",
      "{'tr__age_bin__disc__n_bins': 2, 'tr__cat__imp__strategy': 'most_frequent', 'tr__num__imp__strategy': 'constant'}\n",
      "Наилучшее значение правильности: 0.767\n",
      "Значение правильности на тестовой выборке: 0.757\n"
     ]
    }
   ],
   "source": [
    "# создаем экземпляр класса GridSearchCV, передав конвейер,\n",
    "# сетку гиперпараметров и указав количество\n",
    "# блоков перекрестной проверки, отключив запись метрик \n",
    "# для обучающих блоков перекрестной проверки в атрибут cv_results_\n",
    "gs = GridSearchCV(ml_pipe, param_grid, cv=5, return_train_score=False)\n",
    "# выполняем поиск по сетке\n",
    "gs.fit(X_train, y_train)\n",
    "# смотрим наилучшие значения гиперпараметров\n",
    "print('Наилучшие значения гиперпараметров:\\n{}'.format(\n",
    "    gs.best_params_))\n",
    "# смотрим наилучшее значение правильности\n",
    "print('Наилучшее значение правильности: {:.3f}'.format(\n",
    "    gs.best_score_))\n",
    "# смотрим значение правильности на тестовой выборке\n",
    "print('Значение правильности на тестовой выборке: {:.3f}'.format(\n",
    "    gs.score(X_test, y_test)))"
   ]
  },
  {
   "cell_type": "code",
   "execution_count": 12,
   "metadata": {},
   "outputs": [
    {
     "name": "stdout",
     "output_type": "stream",
     "text": [
      "                                                                                           mean_test_score\n",
      "param_tr__cat__imp__strategy param_tr__num__imp__strategy param_tr__age_bin__disc__n_bins                 \n",
      "most_frequent                constant                     2                                       0.767143\n",
      "constant                     constant                     2                                       0.761429\n",
      "                                                          3                                       0.761429\n",
      "most_frequent                constant                     3                                       0.761429\n",
      "constant                     mean                         3                                       0.760000\n",
      "                             median                       3                                       0.760000\n",
      "most_frequent                mean                         3                                       0.758571\n",
      "                             median                       3                                       0.758571\n",
      "constant                     mean                         2                                       0.757143\n",
      "                             median                       2                                       0.755714\n",
      "most_frequent                mean                         2                                       0.755714\n",
      "                             median                       2                                       0.755714\n"
     ]
    }
   ],
   "source": [
    "# запишем результаты перекрестной \n",
    "# проверки в DataFrame\n",
    "results = pd.DataFrame(gs.cv_results_)\n",
    "# превращаем в сводную таблицу\n",
    "table = results.pivot_table(values=['mean_test_score'],    \n",
    "                            index=['param_tr__cat__imp__strategy',\n",
    "                                   'param_tr__num__imp__strategy',\n",
    "                                   'param_tr__age_bin__disc__n_bins'])\n",
    "# сортируем по убыванию правильности\n",
    "table = table.sort_values(by='mean_test_score', ascending=False)\n",
    "print(table)"
   ]
  },
  {
   "cell_type": "code",
   "execution_count": 13,
   "metadata": {},
   "outputs": [
    {
     "data": {
      "text/plain": [
       "['age_0.0', 'age_1.0']"
      ]
     },
     "execution_count": 13,
     "metadata": {},
     "output_type": "execute_result"
    }
   ],
   "source": [
    "# извлекаем дамми-переменные для списка с переменной age\n",
    "age = gs.best_estimator_['tr'].named_transformers_['age_bin']\n",
    "age_ohe_columns = list(age.named_steps['disc'].get_feature_names_out(\n",
    "    input_features=age_col))\n",
    "age_ohe_columns"
   ]
  },
  {
   "cell_type": "code",
   "execution_count": 14,
   "metadata": {},
   "outputs": [
    {
     "data": {
      "text/plain": [
       "['tenure_1', 'tenure_2', 'tenure_3']"
      ]
     },
     "execution_count": 14,
     "metadata": {},
     "output_type": "execute_result"
    }
   ],
   "source": [
    "# извлекаем дамми-переменные для списка с переменной tenure\n",
    "tenure = gs.best_estimator_['tr'].named_transformers_['tenure_bin']\n",
    "tenure_ohe_columns = list(tenure.named_steps['ohe'].get_feature_names_out(\n",
    "    input_features=tenure_col))\n",
    "tenure_ohe_columns"
   ]
  },
  {
   "cell_type": "code",
   "execution_count": 15,
   "metadata": {},
   "outputs": [
    {
     "data": {
      "text/plain": [
       "['region_Region 1',\n",
       " 'region_Region 2',\n",
       " 'region_Region 3',\n",
       " 'marital_mar',\n",
       " 'marital_unmar',\n",
       " 'retire_no',\n",
       " 'retire_yes',\n",
       " 'gender_f',\n",
       " 'gender_m',\n",
       " 'custcat_cat 1',\n",
       " 'custcat_cat 2',\n",
       " 'custcat_cat 3',\n",
       " 'custcat_cat 4']"
      ]
     },
     "execution_count": 15,
     "metadata": {},
     "output_type": "execute_result"
    }
   ],
   "source": [
    "# извлекаем дамми-переменные для списка \n",
    "# категориальных признаков\n",
    "cat = gs.best_estimator_['tr'].named_transformers_['cat']\n",
    "сat_ohe_columns = list(cat.named_steps['ohe'].get_feature_names_out(\n",
    "    input_features=cat_columns))\n",
    "сat_ohe_columns"
   ]
  },
  {
   "cell_type": "code",
   "execution_count": 16,
   "metadata": {},
   "outputs": [],
   "source": [
    "# добавляем к списку количественных переменных\n",
    "# остальные списки\n",
    "all_cols = (num_columns + age_ohe_columns + \n",
    "            tenure_ohe_columns + сat_ohe_columns)"
   ]
  },
  {
   "cell_type": "code",
   "execution_count": 17,
   "metadata": {},
   "outputs": [
    {
     "name": "stdout",
     "output_type": "stream",
     "text": [
      "Константа: -1.161\n",
      "Регрессионные коэффициенты:\n",
      "tenure -0.758\n",
      "age -0.169\n",
      "address -0.015\n",
      "income 0.176\n",
      "employ -0.254\n",
      "reside -0.105\n",
      "age_0.0 -0.033\n",
      "age_1.0 0.033\n",
      "tenure_1 0.141\n",
      "tenure_2 -0.121\n",
      "tenure_3 -0.02\n",
      "region_Region 1 -0.036\n",
      "region_Region 2 0.061\n",
      "region_Region 3 -0.025\n",
      "marital_mar 0.048\n",
      "marital_unmar -0.048\n",
      "retire_no 0.008\n",
      "retire_yes -0.008\n",
      "gender_f -0.026\n",
      "gender_m 0.026\n",
      "custcat_cat 1 -0.257\n",
      "custcat_cat 2 0.35\n",
      "custcat_cat 3 -0.436\n",
      "custcat_cat 4 0.344\n"
     ]
    }
   ],
   "source": [
    "# извлекаем константу\n",
    "intercept = np.round(gs.best_estimator_['lr'].intercept_[0], 3)\n",
    "# извлекаем коэффициенты\n",
    "coef = np.round(gs.best_estimator_['lr'].coef_, 3)\n",
    "\n",
    "# печатаем название \"Константа\"    \n",
    "print(\"Константа:\", intercept)\n",
    "# печатаем название \"Регрессионные коэффициенты\"\n",
    "print(\"Регрессионные коэффициенты:\")\n",
    "# для удобства сопоставим каждому названию \n",
    "# предиктора соответствующий коэффициент\n",
    "for c, feature in zip(coef[0], all_cols):\n",
    "    print(feature, c)"
   ]
  },
  {
   "cell_type": "code",
   "execution_count": null,
   "metadata": {},
   "outputs": [],
   "source": []
  }
 ],
 "metadata": {
  "kernelspec": {
   "display_name": "Python 3 (ipykernel)",
   "language": "python",
   "name": "python3"
  },
  "language_info": {
   "codemirror_mode": {
    "name": "ipython",
    "version": 3
   },
   "file_extension": ".py",
   "mimetype": "text/x-python",
   "name": "python",
   "nbconvert_exporter": "python",
   "pygments_lexer": "ipython3",
   "version": "3.9.12"
  }
 },
 "nbformat": 4,
 "nbformat_minor": 2
}
