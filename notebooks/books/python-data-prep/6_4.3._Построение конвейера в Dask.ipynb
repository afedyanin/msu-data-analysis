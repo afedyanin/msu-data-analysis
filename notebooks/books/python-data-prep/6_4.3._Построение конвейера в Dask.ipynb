{
 "cells": [
  {
   "cell_type": "code",
   "execution_count": 1,
   "metadata": {},
   "outputs": [],
   "source": [
    "# импортируем необходимые библиотеки, классы и функции\n",
    "import numpy as np\n",
    "import pandas as pd\n",
    "import dask.dataframe as dd\n",
    "from dask_ml.impute import SimpleImputer\n",
    "from dask_ml.preprocessing import (StandardScaler, \n",
    "                                   DummyEncoder, \n",
    "                                   Categorizer)\n",
    "from pandas.api.types import CategoricalDtype\n",
    "from sklearn.compose import ColumnTransformer\n",
    "from sklearn.pipeline import Pipeline\n",
    "from dask_ml.linear_model import LogisticRegression\n",
    "from sklearn.metrics import accuracy_score\n",
    "from dask_ml.model_selection import train_test_split"
   ]
  },
  {
   "cell_type": "code",
   "execution_count": 2,
   "metadata": {
    "scrolled": true
   },
   "outputs": [
    {
     "data": {
      "text/html": [
       "<div>\n",
       "<style scoped>\n",
       "    .dataframe tbody tr th:only-of-type {\n",
       "        vertical-align: middle;\n",
       "    }\n",
       "\n",
       "    .dataframe tbody tr th {\n",
       "        vertical-align: top;\n",
       "    }\n",
       "\n",
       "    .dataframe thead th {\n",
       "        text-align: right;\n",
       "    }\n",
       "</style>\n",
       "<table border=\"1\" class=\"dataframe\">\n",
       "  <thead>\n",
       "    <tr style=\"text-align: right;\">\n",
       "      <th></th>\n",
       "      <th>Customer Lifetime Value</th>\n",
       "      <th>Coverage</th>\n",
       "      <th>Education</th>\n",
       "      <th>EmploymentStatus</th>\n",
       "      <th>Gender</th>\n",
       "      <th>Income</th>\n",
       "      <th>Monthly Premium Auto</th>\n",
       "      <th>Months Since Last Claim</th>\n",
       "      <th>Months Since Policy Inception</th>\n",
       "      <th>Number of Open Complaints</th>\n",
       "      <th>Number of Policies</th>\n",
       "      <th>Response</th>\n",
       "    </tr>\n",
       "  </thead>\n",
       "  <tbody>\n",
       "    <tr>\n",
       "      <th>0</th>\n",
       "      <td>2763.519279</td>\n",
       "      <td>Basic</td>\n",
       "      <td>Bachelor</td>\n",
       "      <td>Employed</td>\n",
       "      <td>F</td>\n",
       "      <td>56274.0</td>\n",
       "      <td>NaN</td>\n",
       "      <td>32.0</td>\n",
       "      <td>5.0</td>\n",
       "      <td>NaN</td>\n",
       "      <td>1.0</td>\n",
       "      <td>No</td>\n",
       "    </tr>\n",
       "    <tr>\n",
       "      <th>1</th>\n",
       "      <td>NaN</td>\n",
       "      <td>NaN</td>\n",
       "      <td>Bachelor</td>\n",
       "      <td>Unemployed</td>\n",
       "      <td>F</td>\n",
       "      <td>0.0</td>\n",
       "      <td>NaN</td>\n",
       "      <td>13.0</td>\n",
       "      <td>42.0</td>\n",
       "      <td>NaN</td>\n",
       "      <td>NaN</td>\n",
       "      <td>No</td>\n",
       "    </tr>\n",
       "    <tr>\n",
       "      <th>2</th>\n",
       "      <td>NaN</td>\n",
       "      <td>NaN</td>\n",
       "      <td>NaN</td>\n",
       "      <td>Employed</td>\n",
       "      <td>F</td>\n",
       "      <td>48767.0</td>\n",
       "      <td>108.0</td>\n",
       "      <td>NaN</td>\n",
       "      <td>38.0</td>\n",
       "      <td>0.0</td>\n",
       "      <td>NaN</td>\n",
       "      <td>No</td>\n",
       "    </tr>\n",
       "    <tr>\n",
       "      <th>3</th>\n",
       "      <td>7645.861827</td>\n",
       "      <td>Basic</td>\n",
       "      <td>Bachelor</td>\n",
       "      <td>NaN</td>\n",
       "      <td>NaN</td>\n",
       "      <td>0.0</td>\n",
       "      <td>106.0</td>\n",
       "      <td>18.0</td>\n",
       "      <td>NaN</td>\n",
       "      <td>NaN</td>\n",
       "      <td>7.0</td>\n",
       "      <td>No</td>\n",
       "    </tr>\n",
       "    <tr>\n",
       "      <th>4</th>\n",
       "      <td>2813.692575</td>\n",
       "      <td>Basic</td>\n",
       "      <td>Bachelor</td>\n",
       "      <td>NaN</td>\n",
       "      <td>M</td>\n",
       "      <td>43836.0</td>\n",
       "      <td>73.0</td>\n",
       "      <td>12.0</td>\n",
       "      <td>NaN</td>\n",
       "      <td>NaN</td>\n",
       "      <td>1.0</td>\n",
       "      <td>No</td>\n",
       "    </tr>\n",
       "  </tbody>\n",
       "</table>\n",
       "</div>"
      ],
      "text/plain": [
       "   Customer Lifetime Value Coverage Education EmploymentStatus Gender  \\\n",
       "0              2763.519279    Basic  Bachelor         Employed      F   \n",
       "1                      NaN      NaN  Bachelor       Unemployed      F   \n",
       "2                      NaN      NaN       NaN         Employed      F   \n",
       "3              7645.861827    Basic  Bachelor              NaN    NaN   \n",
       "4              2813.692575    Basic  Bachelor              NaN      M   \n",
       "\n",
       "    Income  Monthly Premium Auto  Months Since Last Claim  \\\n",
       "0  56274.0                   NaN                     32.0   \n",
       "1      0.0                   NaN                     13.0   \n",
       "2  48767.0                 108.0                      NaN   \n",
       "3      0.0                 106.0                     18.0   \n",
       "4  43836.0                  73.0                     12.0   \n",
       "\n",
       "   Months Since Policy Inception  Number of Open Complaints  \\\n",
       "0                            5.0                        NaN   \n",
       "1                           42.0                        NaN   \n",
       "2                           38.0                        0.0   \n",
       "3                            NaN                        NaN   \n",
       "4                            NaN                        NaN   \n",
       "\n",
       "   Number of Policies Response  \n",
       "0                 1.0       No  \n",
       "1                 NaN       No  \n",
       "2                 NaN       No  \n",
       "3                 7.0       No  \n",
       "4                 1.0       No  "
      ]
     },
     "execution_count": 2,
     "metadata": {},
     "output_type": "execute_result"
    }
   ],
   "source": [
    "# загружаем данные\n",
    "df_dask = dd.read_csv('Data/StateFarm_missing.csv', sep=';')\n",
    "df_dask.head()"
   ]
  },
  {
   "cell_type": "code",
   "execution_count": 3,
   "metadata": {},
   "outputs": [],
   "source": [
    "# переименовываем метки зависимой переменной \n",
    "# в целочисленные значения\n",
    "df_dask['Response'] = df_dask['Response'].replace(\n",
    "    {'No': 0, 'Yes': 1})"
   ]
  },
  {
   "cell_type": "code",
   "execution_count": 4,
   "metadata": {},
   "outputs": [],
   "source": [
    "# создаем массив меток\n",
    "y_dask = df_dask.pop('Response')"
   ]
  },
  {
   "cell_type": "code",
   "execution_count": 5,
   "metadata": {},
   "outputs": [],
   "source": [
    "# разбиваем данные на обучающую и тестовую выборки\n",
    "X_train, X_test, y_train, y_test = train_test_split(\n",
    "    df_dask, \n",
    "    y_dask,\n",
    "    test_size=0.3, \n",
    "    shuffle=True,\n",
    "    random_state=42)"
   ]
  },
  {
   "cell_type": "code",
   "execution_count": 6,
   "metadata": {},
   "outputs": [
    {
     "data": {
      "text/plain": [
       "['Customer Lifetime Value',\n",
       " 'Income',\n",
       " 'Monthly Premium Auto',\n",
       " 'Months Since Last Claim',\n",
       " 'Months Since Policy Inception',\n",
       " 'Number of Open Complaints',\n",
       " 'Number of Policies']"
      ]
     },
     "execution_count": 6,
     "metadata": {},
     "output_type": "execute_result"
    }
   ],
   "source": [
    "# создаем список количественных переменных\n",
    "number = X_train.select_dtypes(include='number').columns.tolist()\n",
    "number"
   ]
  },
  {
   "cell_type": "code",
   "execution_count": 7,
   "metadata": {
    "scrolled": true
   },
   "outputs": [
    {
     "data": {
      "text/plain": [
       "['Coverage', 'Education', 'EmploymentStatus', 'Gender']"
      ]
     },
     "execution_count": 7,
     "metadata": {},
     "output_type": "execute_result"
    }
   ],
   "source": [
    "# создаем список категориальных переменных\n",
    "categ = X_train.select_dtypes(include='object').columns.tolist()\n",
    "categ"
   ]
  },
  {
   "cell_type": "code",
   "execution_count": 8,
   "metadata": {},
   "outputs": [
    {
     "name": "stdout",
     "output_type": "stream",
     "text": [
      "Basic       3531\n",
      "Extended    1760\n",
      "Premium      531\n",
      "NaN            4\n",
      "Name: Coverage, dtype: int64\n",
      "\n",
      "Bachelor                1729\n",
      "College                 1729\n",
      "High School or Below    1695\n",
      "Master                   457\n",
      "Doctor                   213\n",
      "NaN                        3\n",
      "Name: Education, dtype: int64\n",
      "\n",
      "Employed         3642\n",
      "Unemployed       1452\n",
      "Medical Leave     276\n",
      "Disabled          271\n",
      "Retired           182\n",
      "NaN                 3\n",
      "Name: EmploymentStatus, dtype: int64\n",
      "\n",
      "F      3024\n",
      "M      2799\n",
      "NaN       3\n",
      "Name: Gender, dtype: int64\n",
      "\n"
     ]
    }
   ],
   "source": [
    "# смотрим уникальные значения категориальных переменных\n",
    "for col in categ:\n",
    "    print(X_train[col].value_counts(dropna=False).compute())\n",
    "    print(\"\")"
   ]
  },
  {
   "cell_type": "code",
   "execution_count": 9,
   "metadata": {},
   "outputs": [
    {
     "name": "stdout",
     "output_type": "stream",
     "text": [
      "0       Basic\n",
      "1    Extended\n",
      "2     Premium\n",
      "3         nan\n",
      "Name: Coverage, dtype: object\n",
      "\n",
      "0                 College\n",
      "1                Bachelor\n",
      "2    High School or Below\n",
      "3                  Master\n",
      "4                     nan\n",
      "5                  Doctor\n",
      "Name: Education, dtype: object\n",
      "\n",
      "0    Medical Leave\n",
      "1         Employed\n",
      "2       Unemployed\n",
      "3          Retired\n",
      "4         Disabled\n",
      "5              nan\n",
      "Name: EmploymentStatus, dtype: object\n",
      "\n",
      "0      M\n",
      "1      F\n",
      "2    nan\n",
      "Name: Gender, dtype: object\n",
      "\n"
     ]
    }
   ],
   "source": [
    "# выделим пропуски в отдельную категорию\n",
    "for col in categ:\n",
    "    X_train[col] = X_train[col].astype(str)\n",
    "\n",
    "# смотрим уникальные значения категориальных переменных\n",
    "for col in categ:\n",
    "    print(X_train[col].unique().compute())\n",
    "    print(\"\")"
   ]
  },
  {
   "cell_type": "code",
   "execution_count": 10,
   "metadata": {},
   "outputs": [],
   "source": [
    "# создаем списки категорий\n",
    "coverage_lst = sorted(X_train['Coverage'].unique().compute().tolist())\n",
    "educ_lst = sorted(X_train['Education'].unique().compute().tolist())\n",
    "empl_lst = sorted(X_train['EmploymentStatus'].unique().compute().tolist())\n",
    "gender_lst = sorted(X_train['Gender'].unique().compute().tolist())\n",
    "\n",
    "# задаем для каждого категориального признака списки категорий\n",
    "categories = {'Coverage': CategoricalDtype(coverage_lst, \n",
    "                                           ordered=False),\n",
    "              'Education': CategoricalDtype(educ_lst, \n",
    "                                            ordered=False),\n",
    "              'EmploymentStatus': CategoricalDtype(empl_lst, \n",
    "                                                   ordered=False),\n",
    "              'Gender': CategoricalDtype(gender_lst, \n",
    "                                         ordered=False)}"
   ]
  },
  {
   "cell_type": "code",
   "execution_count": 11,
   "metadata": {
    "scrolled": false
   },
   "outputs": [],
   "source": [
    "# создаем трансформеры\n",
    "num_pipe = Pipeline([\n",
    "    ('imp', SimpleImputer()),\n",
    "    ('scaler', StandardScaler())\n",
    "])\n",
    "    \n",
    "cat_pipe = Pipeline([\n",
    "    ('categ', Categorizer(categories=categories)),\n",
    "    ('dum', DummyEncoder())\n",
    "])\n",
    "\n",
    "# создаем список трансформеров\n",
    "transformers = [('num', num_pipe, number),\n",
    "                ('cat', cat_pipe, categ)]\n",
    "\n",
    "# передаем список в ColumnTransformer\n",
    "transformer = ColumnTransformer(transformers=transformers)\n",
    "\n",
    "# создаем итоговый конвейер\n",
    "ml_pipe = Pipeline([('tf', transformer), \n",
    "                    ('logreg', LogisticRegression(\n",
    "                        fit_intercept=False, \n",
    "                        n_jobs=-1))])"
   ]
  },
  {
   "cell_type": "code",
   "execution_count": 12,
   "metadata": {},
   "outputs": [
    {
     "data": {
      "text/plain": [
       "0.8986623429266315"
      ]
     },
     "execution_count": 12,
     "metadata": {},
     "output_type": "execute_result"
    }
   ],
   "source": [
    "# обучаем конвейер\n",
    "ml_pipe.fit(X_train, y_train)\n",
    "# получаем прогнозы для тестовой выборки\n",
    "pred = ml_pipe.predict(X_test)\n",
    "# смотрим правильность на тестовой выборке\n",
    "accuracy_score(y_test, pred)"
   ]
  }
 ],
 "metadata": {
  "kernelspec": {
   "display_name": "Python 3 (ipykernel)",
   "language": "python",
   "name": "python3"
  },
  "language_info": {
   "codemirror_mode": {
    "name": "ipython",
    "version": 3
   },
   "file_extension": ".py",
   "mimetype": "text/x-python",
   "name": "python",
   "nbconvert_exporter": "python",
   "pygments_lexer": "ipython3",
   "version": "3.9.12"
  }
 },
 "nbformat": 4,
 "nbformat_minor": 2
}
