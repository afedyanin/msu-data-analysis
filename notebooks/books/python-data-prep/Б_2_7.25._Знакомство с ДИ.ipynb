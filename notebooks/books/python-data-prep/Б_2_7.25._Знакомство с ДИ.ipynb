{
 "cells": [
  {
   "cell_type": "markdown",
   "metadata": {},
   "source": [
    "## Асимптотический метод"
   ]
  },
  {
   "cell_type": "markdown",
   "metadata": {},
   "source": [
    "### Асимптотический 90%-ный доверительный интервал среднего"
   ]
  },
  {
   "cell_type": "code",
   "execution_count": 1,
   "metadata": {
    "scrolled": true
   },
   "outputs": [
    {
     "data": {
      "text/plain": [
       "array([91.16485761, 90.17122308, 80.32139406, 81.69724401, 47.15269481,\n",
       "       48.61198136, 60.2075352 , 62.39982769, 55.64758266, 55.84010851,\n",
       "       91.70623606, 91.32969483, 64.10506002, 85.68582655, 72.13750282,\n",
       "       71.01564524, 52.20213936, 64.19246693, 95.47880425, 86.51511564,\n",
       "       50.19910211, 74.43691976, 84.04742879, 75.74817567, 71.11921286,\n",
       "       97.77624184, 88.16604056, 85.98315068, 98.11275134, 81.00033737,\n",
       "       86.66306145, 56.79566841, 50.46611201, 48.21183028, 60.23345647,\n",
       "       97.48078281, 50.2089272 , 84.88498505, 58.85753612, 95.41707634,\n",
       "       70.70011507, 91.7303194 , 90.3033693 , 96.96710296, 84.39913697,\n",
       "       74.5518195 , 74.00972834, 66.73663257, 45.54149257, 76.76272365])"
      ]
     },
     "execution_count": 1,
     "metadata": {},
     "output_type": "execute_result"
    }
   ],
   "source": [
    "import numpy as np\n",
    "import pandas as pd\n",
    "\n",
    "# задаем стартовое значение генератора\n",
    "# псевдослучайных чисел\n",
    "np.random.seed(444)\n",
    "# генеририруем 50 случайных чисел в диапазоне от 45 до 100\n",
    "income = np.random.uniform(45, 100, size=(50,))\n",
    "income"
   ]
  },
  {
   "cell_type": "code",
   "execution_count": 2,
   "metadata": {},
   "outputs": [
    {
     "data": {
      "text/plain": [
       "74.30188356298876"
      ]
     },
     "execution_count": 2,
     "metadata": {},
     "output_type": "execute_result"
    }
   ],
   "source": [
    "# вычисляем среднее значение дохода\n",
    "mean_income = np.mean(income)\n",
    "mean_income"
   ]
  },
  {
   "cell_type": "code",
   "execution_count": 3,
   "metadata": {},
   "outputs": [],
   "source": [
    "# записываем информацию о размере выборки\n",
    "N = 50"
   ]
  },
  {
   "cell_type": "code",
   "execution_count": 4,
   "metadata": {},
   "outputs": [],
   "source": [
    "# задаем z-значение\n",
    "z = 1.645\n",
    "# вычисляем предел погрешности \n",
    "err = z * (np.std(income, ddof=1) / np.sqrt(N))"
   ]
  },
  {
   "cell_type": "code",
   "execution_count": 5,
   "metadata": {},
   "outputs": [
    {
     "data": {
      "text/plain": [
       "70.489041592628"
      ]
     },
     "execution_count": 5,
     "metadata": {},
     "output_type": "execute_result"
    }
   ],
   "source": [
    "# вычисляем нижнюю границу 90%-ного\n",
    "# доверительного интервала \n",
    "mean_income - err"
   ]
  },
  {
   "cell_type": "code",
   "execution_count": 6,
   "metadata": {},
   "outputs": [
    {
     "data": {
      "text/plain": [
       "78.11472553334953"
      ]
     },
     "execution_count": 6,
     "metadata": {},
     "output_type": "execute_result"
    }
   ],
   "source": [
    "# вычисляем верхнюю границу 90%-ного\n",
    "# доверительного интервала \n",
    "mean_income + err"
   ]
  },
  {
   "cell_type": "code",
   "execution_count": 7,
   "metadata": {},
   "outputs": [
    {
     "data": {
      "text/plain": [
       "(70.48938086150505, 78.11438626447247)"
      ]
     },
     "execution_count": 7,
     "metadata": {},
     "output_type": "execute_result"
    }
   ],
   "source": [
    "# автоматически вычислим 90%-ный асимптотический \n",
    "# доверительный интервал\n",
    "from statsmodels.stats.weightstats import zconfint\n",
    "zconfint(income, alpha=0.1)"
   ]
  },
  {
   "cell_type": "markdown",
   "metadata": {},
   "source": [
    "## Бутстреп-метод"
   ]
  },
  {
   "cell_type": "markdown",
   "metadata": {},
   "source": [
    "### Учимся вычислять бутстрепированный 95%-ный доверительный интервал среднего"
   ]
  },
  {
   "cell_type": "code",
   "execution_count": 8,
   "metadata": {},
   "outputs": [],
   "source": [
    "# пишем функцию, генерирующую бутстреп-выборки\n",
    "def generate_bootstrap(rng, X):\n",
    "    # получаем индексы наблюдений исходной выборки\n",
    "    sample_indices = np.arange(X.shape[0])\n",
    "    # получаем индексы наблюдений бутстреп-выборки, \n",
    "    # бутстреп-выборка имеет тот же размер, \n",
    "    # что и исходная, отбор с возвращением\n",
    "    bootstrap_indices = rng.choice(sample_indices,\n",
    "                                   size=sample_indices.shape[0],\n",
    "                                   replace=True)\n",
    "    # формируем бутстреп-выборку\n",
    "    X_boot = X[bootstrap_indices]\n",
    "    return X_boot\n",
    "\n",
    "# создаем контейнер для генератора\n",
    "# псевдослучайных чисел\n",
    "rng = np.random.RandomState(42)\n",
    "    \n",
    "# создаем пустой список, в который\n",
    "# будем записывать средние значения\n",
    "mean_scores_lst = []\n",
    "\n",
    "# на каждой итерации...\n",
    "for i in range(1000):\n",
    "    # формируем бустреп-выборку\n",
    "    X_boot = generate_bootstrap(rng, income)\n",
    "    # вычисляем среднее значение дохода\n",
    "    mean_score = X_boot.mean()\n",
    "    # кладем вычисленное среднее в список\n",
    "    mean_scores_lst.append(mean_score)"
   ]
  },
  {
   "cell_type": "code",
   "execution_count": 9,
   "metadata": {},
   "outputs": [],
   "source": [
    "# пишем функцию, вычисляющую нижнюю и верхнюю границы \n",
    "# доверительного интервала для полученного \n",
    "# распределения оценок\n",
    "def compute_conf_interval(stat, alpha):\n",
    "    boundaries = np.percentile(\n",
    "        stat, [100 * alpha / 2., 100 * (1 - alpha / 2.)])\n",
    "    return boundaries"
   ]
  },
  {
   "cell_type": "code",
   "execution_count": 10,
   "metadata": {},
   "outputs": [
    {
     "data": {
      "text/plain": [
       "array([69.48907441, 78.71514224])"
      ]
     },
     "execution_count": 10,
     "metadata": {},
     "output_type": "execute_result"
    }
   ],
   "source": [
    "# вычисляем бутстрепированный 95%-ный \n",
    "# доверительный интервал среднего\n",
    "compute_conf_interval(mean_scores_lst, alpha=0.05)"
   ]
  },
  {
   "cell_type": "markdown",
   "metadata": {},
   "source": [
    "## Доверительный интервал метрики качества (на примере AUC-ROC)"
   ]
  },
  {
   "cell_type": "markdown",
   "metadata": {},
   "source": [
    "### Бутстрепированный 95%-ный доверительный интервал AUC-ROC"
   ]
  },
  {
   "cell_type": "code",
   "execution_count": 11,
   "metadata": {},
   "outputs": [],
   "source": [
    "# импортируем функцию train_test_split()\n",
    "from sklearn.model_selection import train_test_split\n",
    "# импортируем класс DecisionTreeClassifier\n",
    "# для построения модели дерева\n",
    "from sklearn.tree import DecisionTreeClassifier\n",
    "# импортируем функцию roc_auc_score() \n",
    "# для вычисления AUC-ROC\n",
    "from sklearn.metrics import roc_auc_score"
   ]
  },
  {
   "cell_type": "code",
   "execution_count": 12,
   "metadata": {},
   "outputs": [
    {
     "data": {
      "text/plain": [
       "0.9212390292216712"
      ]
     },
     "execution_count": 12,
     "metadata": {},
     "output_type": "execute_result"
    }
   ],
   "source": [
    "# записываем CSV-файл в объект DataFrame\n",
    "data = pd.read_csv('Data/StateFarm.csv', sep=';') \n",
    "\n",
    "# разбиваем данные на обучающую и тестовую выборки\n",
    "X_train, X_test, y_train, y_test = train_test_split(\n",
    "    data.drop('Response', axis=1), \n",
    "    data['Response'], \n",
    "    test_size=0.3,\n",
    "    stratify=data['Response'],\n",
    "    random_state=42)\n",
    "\n",
    "# создаем экземпляр класса DecisionTreeClassifier\n",
    "tree = DecisionTreeClassifier(random_state=123)\n",
    "\n",
    "# обучаем модель дерева\n",
    "tree.fit(X_train, y_train)\n",
    "\n",
    "# вычисляем AUC-ROC для тестовой выборки\n",
    "auc_test = roc_auc_score(y_test, \n",
    "                         tree.predict_proba(X_test)[:, 1])\n",
    "auc_test"
   ]
  },
  {
   "cell_type": "code",
   "execution_count": 13,
   "metadata": {},
   "outputs": [],
   "source": [
    "# пишем функцию, вычисляющую стандартную\n",
    "# ошибку AUC-ROC по методу Хенли-Макнейл\n",
    "def standard_error_of_auc(auc, y_true):\n",
    "    \"\"\"\n",
    "    Вычисляет стандартную ошибку AUC-ROC по методу Хенли-Макнейл.\n",
    "    Ссылка https://doi.org/10.1148/radiology.143.1.7063747\n",
    "\n",
    "    Параметры\n",
    "    ----------\n",
    "    auc: float\n",
    "        Оценка AUC-ROC.\n",
    "\n",
    "    y_true: одномерный массив формы [n_samples]\n",
    "        Массив фактических меток.\n",
    "    \"\"\"\n",
    "    neg = y_true.value_counts()[0]\n",
    "    pos = y_true.value_counts()[1]\n",
    "    q1 = auc / (2 - auc)\n",
    "    q2 = (2 * auc ** 2) / (1 + auc)\n",
    "    return np.sqrt((auc * (1 - auc) + (pos - 1) * (q1 - auc ** 2) + \n",
    "                    (neg - 1) * (q2 - auc ** 2)) / (pos * neg))"
   ]
  },
  {
   "cell_type": "code",
   "execution_count": 14,
   "metadata": {},
   "outputs": [
    {
     "data": {
      "text/plain": [
       "0.011946625124979428"
      ]
     },
     "execution_count": 14,
     "metadata": {},
     "output_type": "execute_result"
    }
   ],
   "source": [
    "# вычисляем стандартную ошибку AUC-ROC\n",
    "se_auc = standard_error_of_auc(auc_test, y_test)\n",
    "se_auc"
   ]
  },
  {
   "cell_type": "code",
   "execution_count": 15,
   "metadata": {},
   "outputs": [
    {
     "data": {
      "text/plain": [
       "0.023415385244959678"
      ]
     },
     "execution_count": 15,
     "metadata": {},
     "output_type": "execute_result"
    }
   ],
   "source": [
    "# задаем z-значение\n",
    "z = 1.96\n",
    "# вычисляем предел погрешности \n",
    "err = z * se_auc\n",
    "err"
   ]
  },
  {
   "cell_type": "code",
   "execution_count": 16,
   "metadata": {
    "scrolled": true
   },
   "outputs": [
    {
     "data": {
      "text/plain": [
       "array([0.89782364, 0.94465441])"
      ]
     },
     "execution_count": 16,
     "metadata": {},
     "output_type": "execute_result"
    }
   ],
   "source": [
    "# получаем асимптотический 95%-ный доверительный \n",
    "# интервал AUC-ROC по методу Хенли-Макнейл\n",
    "np.array([auc_test - err, auc_test + err])"
   ]
  },
  {
   "cell_type": "code",
   "execution_count": 17,
   "metadata": {},
   "outputs": [],
   "source": [
    "# создаем массив признаков и массив меток\n",
    "y_data = data.pop('Response')"
   ]
  },
  {
   "cell_type": "code",
   "execution_count": 18,
   "metadata": {},
   "outputs": [],
   "source": [
    "# пишем функцию, генерирующую бутстреп-выборки\n",
    "# и out-of-bag выборки\n",
    "def generate_bootstrap2(rng, X, y):\n",
    "    # получаем индексы наблюдений исходной выборки\n",
    "    sample_indices = np.arange(X.shape[0])\n",
    "    # получаем индексы наблюдений бутстреп-выборки, \n",
    "    # бутстреп-выборка имеет тот же размер, \n",
    "    # что и исходная, отбор с возвращением\n",
    "    bootstrap_indices = rng.choice(sample_indices,\n",
    "                                   size=sample_indices.shape[0],\n",
    "                                   replace=True)\n",
    "    X_boot = X.iloc[bootstrap_indices]\n",
    "    y_boot = y.iloc[bootstrap_indices]\n",
    "    X_out_boot = X[~X.index.isin(X_boot.index)]\n",
    "    y_out_boot = y[~y.index.isin(X_boot.index)]\n",
    "    # возвращаем выборки\n",
    "    return X_boot, y_boot, X_out_boot, y_out_boot"
   ]
  },
  {
   "cell_type": "code",
   "execution_count": 19,
   "metadata": {
    "scrolled": true
   },
   "outputs": [],
   "source": [
    "# создаем контейнер для генератора\n",
    "# псевдослучайных чисел\n",
    "rng = np.random.RandomState(42)\n",
    " \n",
    "# создаем пустой список, в который\n",
    "# будем записывать значения AUC-ROC\n",
    "auc_scores_lst = []\n",
    "\n",
    "# на каждой итерации...\n",
    "for i in range(1000):\n",
    "    # формируем бустреп-выборку и out-of-bag выборку\n",
    "    X_boot, y_boot, X_out_boot, y_out_boot = generate_bootstrap2(\n",
    "        rng, data, y_data)\n",
    "    # обучаем модель на бутстреп-выборке\n",
    "    tree.fit(X_boot, y_boot)\n",
    "    # записываем значение AUC-ROC\n",
    "    auc_score = roc_auc_score(y_out_boot, \n",
    "                              tree.predict_proba(X_out_boot)[:, 1])\n",
    "    # кладем значение AUC-ROC в список\n",
    "    auc_scores_lst.append(auc_score)"
   ]
  },
  {
   "cell_type": "code",
   "execution_count": 20,
   "metadata": {},
   "outputs": [
    {
     "data": {
      "text/plain": [
       "array([0.889707  , 0.93611251])"
      ]
     },
     "execution_count": 20,
     "metadata": {},
     "output_type": "execute_result"
    }
   ],
   "source": [
    "# вычисляем бутстрепированный 95%-ный \n",
    "# доверительный интервал AUC-ROC\n",
    "compute_conf_interval(auc_scores_lst, alpha=0.05)"
   ]
  },
  {
   "cell_type": "code",
   "execution_count": null,
   "metadata": {},
   "outputs": [],
   "source": []
  }
 ],
 "metadata": {
  "kernelspec": {
   "display_name": "Python 3 (ipykernel)",
   "language": "python",
   "name": "python3"
  },
  "language_info": {
   "codemirror_mode": {
    "name": "ipython",
    "version": 3
   },
   "file_extension": ".py",
   "mimetype": "text/x-python",
   "name": "python",
   "nbconvert_exporter": "python",
   "pygments_lexer": "ipython3",
   "version": "3.9.12"
  }
 },
 "nbformat": 4,
 "nbformat_minor": 2
}
