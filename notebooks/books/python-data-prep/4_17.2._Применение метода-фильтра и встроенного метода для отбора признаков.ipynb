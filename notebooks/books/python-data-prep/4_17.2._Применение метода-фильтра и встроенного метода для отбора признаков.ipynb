{
 "cells": [
  {
   "cell_type": "code",
   "execution_count": 1,
   "metadata": {},
   "outputs": [],
   "source": [
    "# импортируем необходимые библиотеки, классы и функции\n",
    "import pandas as pd\n",
    "import numpy as np\n",
    "from sklearn.model_selection import train_test_split\n",
    "from catboost import CatBoostClassifier, Pool\n",
    "from sklearn.metrics import log_loss\n",
    "import shap\n",
    "%config InlineBackend.figure_format = 'retina'"
   ]
  },
  {
   "cell_type": "code",
   "execution_count": 2,
   "metadata": {},
   "outputs": [
    {
     "data": {
      "text/html": [
       "<div>\n",
       "<style scoped>\n",
       "    .dataframe tbody tr th:only-of-type {\n",
       "        vertical-align: middle;\n",
       "    }\n",
       "\n",
       "    .dataframe tbody tr th {\n",
       "        vertical-align: top;\n",
       "    }\n",
       "\n",
       "    .dataframe thead th {\n",
       "        text-align: right;\n",
       "    }\n",
       "</style>\n",
       "<table border=\"1\" class=\"dataframe\">\n",
       "  <thead>\n",
       "    <tr style=\"text-align: right;\">\n",
       "      <th></th>\n",
       "      <th>ID</th>\n",
       "      <th>target</th>\n",
       "      <th>v1</th>\n",
       "      <th>v2</th>\n",
       "      <th>v3</th>\n",
       "      <th>v4</th>\n",
       "      <th>v5</th>\n",
       "      <th>v6</th>\n",
       "      <th>v7</th>\n",
       "      <th>v8</th>\n",
       "      <th>...</th>\n",
       "      <th>v122</th>\n",
       "      <th>v123</th>\n",
       "      <th>v124</th>\n",
       "      <th>v125</th>\n",
       "      <th>v126</th>\n",
       "      <th>v127</th>\n",
       "      <th>v128</th>\n",
       "      <th>v129</th>\n",
       "      <th>v130</th>\n",
       "      <th>v131</th>\n",
       "    </tr>\n",
       "  </thead>\n",
       "  <tbody>\n",
       "    <tr>\n",
       "      <th>0</th>\n",
       "      <td>3</td>\n",
       "      <td>1</td>\n",
       "      <td>1.335739</td>\n",
       "      <td>8.727474</td>\n",
       "      <td>C</td>\n",
       "      <td>3.921026</td>\n",
       "      <td>7.915266</td>\n",
       "      <td>2.599278</td>\n",
       "      <td>3.176895</td>\n",
       "      <td>0.012941</td>\n",
       "      <td>...</td>\n",
       "      <td>8.000000</td>\n",
       "      <td>1.989780</td>\n",
       "      <td>0.035754</td>\n",
       "      <td>AU</td>\n",
       "      <td>1.804126</td>\n",
       "      <td>3.113719</td>\n",
       "      <td>2.024285</td>\n",
       "      <td>0</td>\n",
       "      <td>0.636365</td>\n",
       "      <td>2.857144</td>\n",
       "    </tr>\n",
       "    <tr>\n",
       "      <th>1</th>\n",
       "      <td>4</td>\n",
       "      <td>1</td>\n",
       "      <td>NaN</td>\n",
       "      <td>NaN</td>\n",
       "      <td>C</td>\n",
       "      <td>NaN</td>\n",
       "      <td>9.191265</td>\n",
       "      <td>NaN</td>\n",
       "      <td>NaN</td>\n",
       "      <td>2.301630</td>\n",
       "      <td>...</td>\n",
       "      <td>NaN</td>\n",
       "      <td>NaN</td>\n",
       "      <td>0.598896</td>\n",
       "      <td>AF</td>\n",
       "      <td>NaN</td>\n",
       "      <td>NaN</td>\n",
       "      <td>1.957825</td>\n",
       "      <td>0</td>\n",
       "      <td>NaN</td>\n",
       "      <td>NaN</td>\n",
       "    </tr>\n",
       "    <tr>\n",
       "      <th>2</th>\n",
       "      <td>5</td>\n",
       "      <td>1</td>\n",
       "      <td>0.943877</td>\n",
       "      <td>5.310079</td>\n",
       "      <td>C</td>\n",
       "      <td>4.410969</td>\n",
       "      <td>5.326159</td>\n",
       "      <td>3.979592</td>\n",
       "      <td>3.928571</td>\n",
       "      <td>0.019645</td>\n",
       "      <td>...</td>\n",
       "      <td>9.333333</td>\n",
       "      <td>2.477596</td>\n",
       "      <td>0.013452</td>\n",
       "      <td>AE</td>\n",
       "      <td>1.773709</td>\n",
       "      <td>3.922193</td>\n",
       "      <td>1.120468</td>\n",
       "      <td>2</td>\n",
       "      <td>0.883118</td>\n",
       "      <td>1.176472</td>\n",
       "    </tr>\n",
       "    <tr>\n",
       "      <th>3</th>\n",
       "      <td>6</td>\n",
       "      <td>1</td>\n",
       "      <td>0.797415</td>\n",
       "      <td>8.304757</td>\n",
       "      <td>C</td>\n",
       "      <td>4.225930</td>\n",
       "      <td>11.627438</td>\n",
       "      <td>2.097700</td>\n",
       "      <td>1.987549</td>\n",
       "      <td>0.171947</td>\n",
       "      <td>...</td>\n",
       "      <td>7.018256</td>\n",
       "      <td>1.812795</td>\n",
       "      <td>0.002267</td>\n",
       "      <td>CJ</td>\n",
       "      <td>1.415230</td>\n",
       "      <td>2.954381</td>\n",
       "      <td>1.990847</td>\n",
       "      <td>1</td>\n",
       "      <td>1.677108</td>\n",
       "      <td>1.034483</td>\n",
       "    </tr>\n",
       "    <tr>\n",
       "      <th>4</th>\n",
       "      <td>8</td>\n",
       "      <td>1</td>\n",
       "      <td>NaN</td>\n",
       "      <td>NaN</td>\n",
       "      <td>C</td>\n",
       "      <td>NaN</td>\n",
       "      <td>NaN</td>\n",
       "      <td>NaN</td>\n",
       "      <td>NaN</td>\n",
       "      <td>NaN</td>\n",
       "      <td>...</td>\n",
       "      <td>NaN</td>\n",
       "      <td>NaN</td>\n",
       "      <td>NaN</td>\n",
       "      <td>Z</td>\n",
       "      <td>NaN</td>\n",
       "      <td>NaN</td>\n",
       "      <td>NaN</td>\n",
       "      <td>0</td>\n",
       "      <td>NaN</td>\n",
       "      <td>NaN</td>\n",
       "    </tr>\n",
       "  </tbody>\n",
       "</table>\n",
       "<p>5 rows × 133 columns</p>\n",
       "</div>"
      ],
      "text/plain": [
       "   ID  target        v1        v2 v3        v4         v5        v6        v7  \\\n",
       "0   3       1  1.335739  8.727474  C  3.921026   7.915266  2.599278  3.176895   \n",
       "1   4       1       NaN       NaN  C       NaN   9.191265       NaN       NaN   \n",
       "2   5       1  0.943877  5.310079  C  4.410969   5.326159  3.979592  3.928571   \n",
       "3   6       1  0.797415  8.304757  C  4.225930  11.627438  2.097700  1.987549   \n",
       "4   8       1       NaN       NaN  C       NaN        NaN       NaN       NaN   \n",
       "\n",
       "         v8  ...      v122      v123      v124  v125      v126      v127  \\\n",
       "0  0.012941  ...  8.000000  1.989780  0.035754    AU  1.804126  3.113719   \n",
       "1  2.301630  ...       NaN       NaN  0.598896    AF       NaN       NaN   \n",
       "2  0.019645  ...  9.333333  2.477596  0.013452    AE  1.773709  3.922193   \n",
       "3  0.171947  ...  7.018256  1.812795  0.002267    CJ  1.415230  2.954381   \n",
       "4       NaN  ...       NaN       NaN       NaN     Z       NaN       NaN   \n",
       "\n",
       "       v128  v129      v130      v131  \n",
       "0  2.024285     0  0.636365  2.857144  \n",
       "1  1.957825     0       NaN       NaN  \n",
       "2  1.120468     2  0.883118  1.176472  \n",
       "3  1.990847     1  1.677108  1.034483  \n",
       "4       NaN     0       NaN       NaN  \n",
       "\n",
       "[5 rows x 133 columns]"
      ]
     },
     "execution_count": 2,
     "metadata": {},
     "output_type": "execute_result"
    }
   ],
   "source": [
    "# загружаем исторический набор\n",
    "data = pd.read_csv('Data/paribas_train.csv')\n",
    "data.head()"
   ]
  },
  {
   "cell_type": "code",
   "execution_count": 3,
   "metadata": {},
   "outputs": [
    {
     "name": "stdout",
     "output_type": "stream",
     "text": [
      "(114321, 133)\n"
     ]
    }
   ],
   "source": [
    "# смотрим количество наблюдений \n",
    "# и количество признаков\n",
    "print(data.shape)"
   ]
  },
  {
   "cell_type": "code",
   "execution_count": 4,
   "metadata": {},
   "outputs": [],
   "source": [
    "# удаляем переменную ID\n",
    "data.drop('ID', axis=1, inplace=True)"
   ]
  },
  {
   "cell_type": "code",
   "execution_count": 5,
   "metadata": {},
   "outputs": [],
   "source": [
    "# создаем пустые списки, в которые для каждой переменной \n",
    "# записываем количество уникальных значений, количество \n",
    "# пропусков, тип переменной\n",
    "nunique_list = []\n",
    "miss_list = []\n",
    "type_list = []\n",
    "for col in data.columns:\n",
    "    nunique_list.append(data[col].nunique())\n",
    "    miss_list.append(data[col].isnull().sum())\n",
    "    type_list.append(data[col].dtypes)"
   ]
  },
  {
   "cell_type": "code",
   "execution_count": 6,
   "metadata": {
    "scrolled": true
   },
   "outputs": [
    {
     "data": {
      "text/html": [
       "<div>\n",
       "<style scoped>\n",
       "    .dataframe tbody tr th:only-of-type {\n",
       "        vertical-align: middle;\n",
       "    }\n",
       "\n",
       "    .dataframe tbody tr th {\n",
       "        vertical-align: top;\n",
       "    }\n",
       "\n",
       "    .dataframe thead th {\n",
       "        text-align: right;\n",
       "    }\n",
       "</style>\n",
       "<table border=\"1\" class=\"dataframe\">\n",
       "  <thead>\n",
       "    <tr style=\"text-align: right;\">\n",
       "      <th></th>\n",
       "      <th>nunique</th>\n",
       "      <th>missing</th>\n",
       "      <th>type</th>\n",
       "    </tr>\n",
       "  </thead>\n",
       "  <tbody>\n",
       "    <tr>\n",
       "      <th>target</th>\n",
       "      <td>2</td>\n",
       "      <td>0</td>\n",
       "      <td>int64</td>\n",
       "    </tr>\n",
       "    <tr>\n",
       "      <th>v1</th>\n",
       "      <td>64487</td>\n",
       "      <td>49832</td>\n",
       "      <td>float64</td>\n",
       "    </tr>\n",
       "    <tr>\n",
       "      <th>v2</th>\n",
       "      <td>64524</td>\n",
       "      <td>49796</td>\n",
       "      <td>float64</td>\n",
       "    </tr>\n",
       "    <tr>\n",
       "      <th>v3</th>\n",
       "      <td>3</td>\n",
       "      <td>3457</td>\n",
       "      <td>object</td>\n",
       "    </tr>\n",
       "    <tr>\n",
       "      <th>v4</th>\n",
       "      <td>64524</td>\n",
       "      <td>49796</td>\n",
       "      <td>float64</td>\n",
       "    </tr>\n",
       "    <tr>\n",
       "      <th>v5</th>\n",
       "      <td>65671</td>\n",
       "      <td>48624</td>\n",
       "      <td>float64</td>\n",
       "    </tr>\n",
       "    <tr>\n",
       "      <th>v6</th>\n",
       "      <td>64487</td>\n",
       "      <td>49832</td>\n",
       "      <td>float64</td>\n",
       "    </tr>\n",
       "    <tr>\n",
       "      <th>v7</th>\n",
       "      <td>64489</td>\n",
       "      <td>49832</td>\n",
       "      <td>float64</td>\n",
       "    </tr>\n",
       "    <tr>\n",
       "      <th>v8</th>\n",
       "      <td>65688</td>\n",
       "      <td>48619</td>\n",
       "      <td>float64</td>\n",
       "    </tr>\n",
       "    <tr>\n",
       "      <th>v9</th>\n",
       "      <td>64451</td>\n",
       "      <td>49851</td>\n",
       "      <td>float64</td>\n",
       "    </tr>\n",
       "    <tr>\n",
       "      <th>v10</th>\n",
       "      <td>112485</td>\n",
       "      <td>84</td>\n",
       "      <td>float64</td>\n",
       "    </tr>\n",
       "    <tr>\n",
       "      <th>v11</th>\n",
       "      <td>64477</td>\n",
       "      <td>49836</td>\n",
       "      <td>float64</td>\n",
       "    </tr>\n",
       "    <tr>\n",
       "      <th>v12</th>\n",
       "      <td>114233</td>\n",
       "      <td>86</td>\n",
       "      <td>float64</td>\n",
       "    </tr>\n",
       "    <tr>\n",
       "      <th>v13</th>\n",
       "      <td>64488</td>\n",
       "      <td>49832</td>\n",
       "      <td>float64</td>\n",
       "    </tr>\n",
       "    <tr>\n",
       "      <th>v14</th>\n",
       "      <td>110472</td>\n",
       "      <td>4</td>\n",
       "      <td>float64</td>\n",
       "    </tr>\n",
       "    <tr>\n",
       "      <th>v15</th>\n",
       "      <td>64481</td>\n",
       "      <td>49836</td>\n",
       "      <td>float64</td>\n",
       "    </tr>\n",
       "    <tr>\n",
       "      <th>v16</th>\n",
       "      <td>64414</td>\n",
       "      <td>49895</td>\n",
       "      <td>float64</td>\n",
       "    </tr>\n",
       "    <tr>\n",
       "      <th>v17</th>\n",
       "      <td>64525</td>\n",
       "      <td>49796</td>\n",
       "      <td>float64</td>\n",
       "    </tr>\n",
       "    <tr>\n",
       "      <th>v18</th>\n",
       "      <td>64489</td>\n",
       "      <td>49832</td>\n",
       "      <td>float64</td>\n",
       "    </tr>\n",
       "    <tr>\n",
       "      <th>v19</th>\n",
       "      <td>64478</td>\n",
       "      <td>49843</td>\n",
       "      <td>float64</td>\n",
       "    </tr>\n",
       "    <tr>\n",
       "      <th>v20</th>\n",
       "      <td>64469</td>\n",
       "      <td>49840</td>\n",
       "      <td>float64</td>\n",
       "    </tr>\n",
       "    <tr>\n",
       "      <th>v21</th>\n",
       "      <td>113709</td>\n",
       "      <td>611</td>\n",
       "      <td>float64</td>\n",
       "    </tr>\n",
       "    <tr>\n",
       "      <th>v22</th>\n",
       "      <td>18210</td>\n",
       "      <td>500</td>\n",
       "      <td>object</td>\n",
       "    </tr>\n",
       "    <tr>\n",
       "      <th>v23</th>\n",
       "      <td>63638</td>\n",
       "      <td>50675</td>\n",
       "      <td>float64</td>\n",
       "    </tr>\n",
       "    <tr>\n",
       "      <th>v24</th>\n",
       "      <td>5</td>\n",
       "      <td>0</td>\n",
       "      <td>object</td>\n",
       "    </tr>\n",
       "    <tr>\n",
       "      <th>v25</th>\n",
       "      <td>65679</td>\n",
       "      <td>48619</td>\n",
       "      <td>float64</td>\n",
       "    </tr>\n",
       "    <tr>\n",
       "      <th>v26</th>\n",
       "      <td>64489</td>\n",
       "      <td>49832</td>\n",
       "      <td>float64</td>\n",
       "    </tr>\n",
       "    <tr>\n",
       "      <th>v27</th>\n",
       "      <td>64489</td>\n",
       "      <td>49832</td>\n",
       "      <td>float64</td>\n",
       "    </tr>\n",
       "    <tr>\n",
       "      <th>v28</th>\n",
       "      <td>64482</td>\n",
       "      <td>49832</td>\n",
       "      <td>float64</td>\n",
       "    </tr>\n",
       "    <tr>\n",
       "      <th>v29</th>\n",
       "      <td>64487</td>\n",
       "      <td>49832</td>\n",
       "      <td>float64</td>\n",
       "    </tr>\n",
       "    <tr>\n",
       "      <th>v30</th>\n",
       "      <td>7</td>\n",
       "      <td>60110</td>\n",
       "      <td>object</td>\n",
       "    </tr>\n",
       "    <tr>\n",
       "      <th>v31</th>\n",
       "      <td>3</td>\n",
       "      <td>3457</td>\n",
       "      <td>object</td>\n",
       "    </tr>\n",
       "    <tr>\n",
       "      <th>v32</th>\n",
       "      <td>64488</td>\n",
       "      <td>49832</td>\n",
       "      <td>float64</td>\n",
       "    </tr>\n",
       "    <tr>\n",
       "      <th>v33</th>\n",
       "      <td>64489</td>\n",
       "      <td>49832</td>\n",
       "      <td>float64</td>\n",
       "    </tr>\n",
       "    <tr>\n",
       "      <th>v34</th>\n",
       "      <td>114209</td>\n",
       "      <td>111</td>\n",
       "      <td>float64</td>\n",
       "    </tr>\n",
       "    <tr>\n",
       "      <th>v35</th>\n",
       "      <td>64489</td>\n",
       "      <td>49832</td>\n",
       "      <td>float64</td>\n",
       "    </tr>\n",
       "    <tr>\n",
       "      <th>v36</th>\n",
       "      <td>65609</td>\n",
       "      <td>48624</td>\n",
       "      <td>float64</td>\n",
       "    </tr>\n",
       "    <tr>\n",
       "      <th>v37</th>\n",
       "      <td>64474</td>\n",
       "      <td>49843</td>\n",
       "      <td>float64</td>\n",
       "    </tr>\n",
       "    <tr>\n",
       "      <th>v38</th>\n",
       "      <td>12</td>\n",
       "      <td>0</td>\n",
       "      <td>int64</td>\n",
       "    </tr>\n",
       "    <tr>\n",
       "      <th>v39</th>\n",
       "      <td>64484</td>\n",
       "      <td>49836</td>\n",
       "      <td>float64</td>\n",
       "    </tr>\n",
       "    <tr>\n",
       "      <th>v40</th>\n",
       "      <td>114192</td>\n",
       "      <td>111</td>\n",
       "      <td>float64</td>\n",
       "    </tr>\n",
       "    <tr>\n",
       "      <th>v41</th>\n",
       "      <td>64488</td>\n",
       "      <td>49832</td>\n",
       "      <td>float64</td>\n",
       "    </tr>\n",
       "    <tr>\n",
       "      <th>v42</th>\n",
       "      <td>64472</td>\n",
       "      <td>49832</td>\n",
       "      <td>float64</td>\n",
       "    </tr>\n",
       "    <tr>\n",
       "      <th>v43</th>\n",
       "      <td>64484</td>\n",
       "      <td>49836</td>\n",
       "      <td>float64</td>\n",
       "    </tr>\n",
       "    <tr>\n",
       "      <th>v44</th>\n",
       "      <td>64520</td>\n",
       "      <td>49796</td>\n",
       "      <td>float64</td>\n",
       "    </tr>\n",
       "    <tr>\n",
       "      <th>v45</th>\n",
       "      <td>64486</td>\n",
       "      <td>49832</td>\n",
       "      <td>float64</td>\n",
       "    </tr>\n",
       "    <tr>\n",
       "      <th>v46</th>\n",
       "      <td>65697</td>\n",
       "      <td>48619</td>\n",
       "      <td>float64</td>\n",
       "    </tr>\n",
       "    <tr>\n",
       "      <th>v47</th>\n",
       "      <td>10</td>\n",
       "      <td>0</td>\n",
       "      <td>object</td>\n",
       "    </tr>\n",
       "    <tr>\n",
       "      <th>v48</th>\n",
       "      <td>64519</td>\n",
       "      <td>49796</td>\n",
       "      <td>float64</td>\n",
       "    </tr>\n",
       "    <tr>\n",
       "      <th>v49</th>\n",
       "      <td>64487</td>\n",
       "      <td>49832</td>\n",
       "      <td>float64</td>\n",
       "    </tr>\n",
       "    <tr>\n",
       "      <th>v50</th>\n",
       "      <td>114224</td>\n",
       "      <td>86</td>\n",
       "      <td>float64</td>\n",
       "    </tr>\n",
       "    <tr>\n",
       "      <th>v51</th>\n",
       "      <td>63637</td>\n",
       "      <td>50678</td>\n",
       "      <td>float64</td>\n",
       "    </tr>\n",
       "    <tr>\n",
       "      <th>v52</th>\n",
       "      <td>12</td>\n",
       "      <td>3</td>\n",
       "      <td>object</td>\n",
       "    </tr>\n",
       "    <tr>\n",
       "      <th>v53</th>\n",
       "      <td>64469</td>\n",
       "      <td>49836</td>\n",
       "      <td>float64</td>\n",
       "    </tr>\n",
       "    <tr>\n",
       "      <th>v54</th>\n",
       "      <td>65694</td>\n",
       "      <td>48619</td>\n",
       "      <td>float64</td>\n",
       "    </tr>\n",
       "    <tr>\n",
       "      <th>v55</th>\n",
       "      <td>64488</td>\n",
       "      <td>49832</td>\n",
       "      <td>float64</td>\n",
       "    </tr>\n",
       "    <tr>\n",
       "      <th>v56</th>\n",
       "      <td>122</td>\n",
       "      <td>6882</td>\n",
       "      <td>object</td>\n",
       "    </tr>\n",
       "    <tr>\n",
       "      <th>v57</th>\n",
       "      <td>64488</td>\n",
       "      <td>49832</td>\n",
       "      <td>float64</td>\n",
       "    </tr>\n",
       "    <tr>\n",
       "      <th>v58</th>\n",
       "      <td>64482</td>\n",
       "      <td>49836</td>\n",
       "      <td>float64</td>\n",
       "    </tr>\n",
       "    <tr>\n",
       "      <th>v59</th>\n",
       "      <td>64524</td>\n",
       "      <td>49796</td>\n",
       "      <td>float64</td>\n",
       "    </tr>\n",
       "    <tr>\n",
       "      <th>v60</th>\n",
       "      <td>64488</td>\n",
       "      <td>49832</td>\n",
       "      <td>float64</td>\n",
       "    </tr>\n",
       "    <tr>\n",
       "      <th>v61</th>\n",
       "      <td>64519</td>\n",
       "      <td>49796</td>\n",
       "      <td>float64</td>\n",
       "    </tr>\n",
       "    <tr>\n",
       "      <th>v62</th>\n",
       "      <td>8</td>\n",
       "      <td>0</td>\n",
       "      <td>int64</td>\n",
       "    </tr>\n",
       "    <tr>\n",
       "      <th>v63</th>\n",
       "      <td>65681</td>\n",
       "      <td>48619</td>\n",
       "      <td>float64</td>\n",
       "    </tr>\n",
       "    <tr>\n",
       "      <th>v64</th>\n",
       "      <td>64524</td>\n",
       "      <td>49796</td>\n",
       "      <td>float64</td>\n",
       "    </tr>\n",
       "    <tr>\n",
       "      <th>v65</th>\n",
       "      <td>64472</td>\n",
       "      <td>49840</td>\n",
       "      <td>float64</td>\n",
       "    </tr>\n",
       "    <tr>\n",
       "      <th>v66</th>\n",
       "      <td>3</td>\n",
       "      <td>0</td>\n",
       "      <td>object</td>\n",
       "    </tr>\n",
       "    <tr>\n",
       "      <th>v67</th>\n",
       "      <td>64487</td>\n",
       "      <td>49832</td>\n",
       "      <td>float64</td>\n",
       "    </tr>\n",
       "    <tr>\n",
       "      <th>v68</th>\n",
       "      <td>64474</td>\n",
       "      <td>49836</td>\n",
       "      <td>float64</td>\n",
       "    </tr>\n",
       "    <tr>\n",
       "      <th>v69</th>\n",
       "      <td>64332</td>\n",
       "      <td>49895</td>\n",
       "      <td>float64</td>\n",
       "    </tr>\n",
       "    <tr>\n",
       "      <th>v70</th>\n",
       "      <td>65631</td>\n",
       "      <td>48636</td>\n",
       "      <td>float64</td>\n",
       "    </tr>\n",
       "    <tr>\n",
       "      <th>v71</th>\n",
       "      <td>9</td>\n",
       "      <td>0</td>\n",
       "      <td>object</td>\n",
       "    </tr>\n",
       "    <tr>\n",
       "      <th>v72</th>\n",
       "      <td>13</td>\n",
       "      <td>0</td>\n",
       "      <td>int64</td>\n",
       "    </tr>\n",
       "    <tr>\n",
       "      <th>v73</th>\n",
       "      <td>64484</td>\n",
       "      <td>49836</td>\n",
       "      <td>float64</td>\n",
       "    </tr>\n",
       "    <tr>\n",
       "      <th>v74</th>\n",
       "      <td>3</td>\n",
       "      <td>0</td>\n",
       "      <td>object</td>\n",
       "    </tr>\n",
       "    <tr>\n",
       "      <th>v75</th>\n",
       "      <td>4</td>\n",
       "      <td>0</td>\n",
       "      <td>object</td>\n",
       "    </tr>\n",
       "    <tr>\n",
       "      <th>v76</th>\n",
       "      <td>64525</td>\n",
       "      <td>49796</td>\n",
       "      <td>float64</td>\n",
       "    </tr>\n",
       "    <tr>\n",
       "      <th>v77</th>\n",
       "      <td>64489</td>\n",
       "      <td>49832</td>\n",
       "      <td>float64</td>\n",
       "    </tr>\n",
       "    <tr>\n",
       "      <th>v78</th>\n",
       "      <td>64265</td>\n",
       "      <td>49895</td>\n",
       "      <td>float64</td>\n",
       "    </tr>\n",
       "    <tr>\n",
       "      <th>v79</th>\n",
       "      <td>18</td>\n",
       "      <td>0</td>\n",
       "      <td>object</td>\n",
       "    </tr>\n",
       "    <tr>\n",
       "      <th>v80</th>\n",
       "      <td>64466</td>\n",
       "      <td>49851</td>\n",
       "      <td>float64</td>\n",
       "    </tr>\n",
       "    <tr>\n",
       "      <th>v81</th>\n",
       "      <td>65685</td>\n",
       "      <td>48624</td>\n",
       "      <td>float64</td>\n",
       "    </tr>\n",
       "    <tr>\n",
       "      <th>v82</th>\n",
       "      <td>65663</td>\n",
       "      <td>48624</td>\n",
       "      <td>float64</td>\n",
       "    </tr>\n",
       "    <tr>\n",
       "      <th>v83</th>\n",
       "      <td>64489</td>\n",
       "      <td>49832</td>\n",
       "      <td>float64</td>\n",
       "    </tr>\n",
       "    <tr>\n",
       "      <th>v84</th>\n",
       "      <td>64487</td>\n",
       "      <td>49832</td>\n",
       "      <td>float64</td>\n",
       "    </tr>\n",
       "    <tr>\n",
       "      <th>v85</th>\n",
       "      <td>63637</td>\n",
       "      <td>50682</td>\n",
       "      <td>float64</td>\n",
       "    </tr>\n",
       "    <tr>\n",
       "      <th>v86</th>\n",
       "      <td>64489</td>\n",
       "      <td>49832</td>\n",
       "      <td>float64</td>\n",
       "    </tr>\n",
       "    <tr>\n",
       "      <th>v87</th>\n",
       "      <td>65630</td>\n",
       "      <td>48663</td>\n",
       "      <td>float64</td>\n",
       "    </tr>\n",
       "    <tr>\n",
       "      <th>v88</th>\n",
       "      <td>64489</td>\n",
       "      <td>49832</td>\n",
       "      <td>float64</td>\n",
       "    </tr>\n",
       "    <tr>\n",
       "      <th>v89</th>\n",
       "      <td>65686</td>\n",
       "      <td>48619</td>\n",
       "      <td>float64</td>\n",
       "    </tr>\n",
       "    <tr>\n",
       "      <th>v90</th>\n",
       "      <td>64484</td>\n",
       "      <td>49836</td>\n",
       "      <td>float64</td>\n",
       "    </tr>\n",
       "    <tr>\n",
       "      <th>v91</th>\n",
       "      <td>7</td>\n",
       "      <td>3</td>\n",
       "      <td>object</td>\n",
       "    </tr>\n",
       "    <tr>\n",
       "      <th>v92</th>\n",
       "      <td>64478</td>\n",
       "      <td>49843</td>\n",
       "      <td>float64</td>\n",
       "    </tr>\n",
       "    <tr>\n",
       "      <th>v93</th>\n",
       "      <td>64489</td>\n",
       "      <td>49832</td>\n",
       "      <td>float64</td>\n",
       "    </tr>\n",
       "    <tr>\n",
       "      <th>v94</th>\n",
       "      <td>64489</td>\n",
       "      <td>49832</td>\n",
       "      <td>float64</td>\n",
       "    </tr>\n",
       "    <tr>\n",
       "      <th>v95</th>\n",
       "      <td>64478</td>\n",
       "      <td>49843</td>\n",
       "      <td>float64</td>\n",
       "    </tr>\n",
       "    <tr>\n",
       "      <th>v96</th>\n",
       "      <td>64489</td>\n",
       "      <td>49832</td>\n",
       "      <td>float64</td>\n",
       "    </tr>\n",
       "    <tr>\n",
       "      <th>v97</th>\n",
       "      <td>64470</td>\n",
       "      <td>49843</td>\n",
       "      <td>float64</td>\n",
       "    </tr>\n",
       "    <tr>\n",
       "      <th>v98</th>\n",
       "      <td>65656</td>\n",
       "      <td>48654</td>\n",
       "      <td>float64</td>\n",
       "    </tr>\n",
       "    <tr>\n",
       "      <th>v99</th>\n",
       "      <td>64488</td>\n",
       "      <td>49832</td>\n",
       "      <td>float64</td>\n",
       "    </tr>\n",
       "    <tr>\n",
       "      <th>v100</th>\n",
       "      <td>64471</td>\n",
       "      <td>49836</td>\n",
       "      <td>float64</td>\n",
       "    </tr>\n",
       "    <tr>\n",
       "      <th>v101</th>\n",
       "      <td>64525</td>\n",
       "      <td>49796</td>\n",
       "      <td>float64</td>\n",
       "    </tr>\n",
       "    <tr>\n",
       "      <th>v102</th>\n",
       "      <td>62986</td>\n",
       "      <td>51316</td>\n",
       "      <td>float64</td>\n",
       "    </tr>\n",
       "    <tr>\n",
       "      <th>v103</th>\n",
       "      <td>64489</td>\n",
       "      <td>49832</td>\n",
       "      <td>float64</td>\n",
       "    </tr>\n",
       "    <tr>\n",
       "      <th>v104</th>\n",
       "      <td>64489</td>\n",
       "      <td>49832</td>\n",
       "      <td>float64</td>\n",
       "    </tr>\n",
       "    <tr>\n",
       "      <th>v105</th>\n",
       "      <td>65658</td>\n",
       "      <td>48658</td>\n",
       "      <td>float64</td>\n",
       "    </tr>\n",
       "    <tr>\n",
       "      <th>v106</th>\n",
       "      <td>64521</td>\n",
       "      <td>49796</td>\n",
       "      <td>float64</td>\n",
       "    </tr>\n",
       "    <tr>\n",
       "      <th>v107</th>\n",
       "      <td>7</td>\n",
       "      <td>3</td>\n",
       "      <td>object</td>\n",
       "    </tr>\n",
       "    <tr>\n",
       "      <th>v108</th>\n",
       "      <td>65687</td>\n",
       "      <td>48624</td>\n",
       "      <td>float64</td>\n",
       "    </tr>\n",
       "    <tr>\n",
       "      <th>v109</th>\n",
       "      <td>65673</td>\n",
       "      <td>48624</td>\n",
       "      <td>float64</td>\n",
       "    </tr>\n",
       "    <tr>\n",
       "      <th>v110</th>\n",
       "      <td>3</td>\n",
       "      <td>0</td>\n",
       "      <td>object</td>\n",
       "    </tr>\n",
       "    <tr>\n",
       "      <th>v111</th>\n",
       "      <td>64486</td>\n",
       "      <td>49832</td>\n",
       "      <td>float64</td>\n",
       "    </tr>\n",
       "    <tr>\n",
       "      <th>v112</th>\n",
       "      <td>22</td>\n",
       "      <td>382</td>\n",
       "      <td>object</td>\n",
       "    </tr>\n",
       "    <tr>\n",
       "      <th>v113</th>\n",
       "      <td>36</td>\n",
       "      <td>55304</td>\n",
       "      <td>object</td>\n",
       "    </tr>\n",
       "    <tr>\n",
       "      <th>v114</th>\n",
       "      <td>114267</td>\n",
       "      <td>30</td>\n",
       "      <td>float64</td>\n",
       "    </tr>\n",
       "    <tr>\n",
       "      <th>v115</th>\n",
       "      <td>64253</td>\n",
       "      <td>49895</td>\n",
       "      <td>float64</td>\n",
       "    </tr>\n",
       "    <tr>\n",
       "      <th>v116</th>\n",
       "      <td>64485</td>\n",
       "      <td>49836</td>\n",
       "      <td>float64</td>\n",
       "    </tr>\n",
       "    <tr>\n",
       "      <th>v117</th>\n",
       "      <td>65662</td>\n",
       "      <td>48624</td>\n",
       "      <td>float64</td>\n",
       "    </tr>\n",
       "    <tr>\n",
       "      <th>v118</th>\n",
       "      <td>64470</td>\n",
       "      <td>49843</td>\n",
       "      <td>float64</td>\n",
       "    </tr>\n",
       "    <tr>\n",
       "      <th>v119</th>\n",
       "      <td>63638</td>\n",
       "      <td>50680</td>\n",
       "      <td>float64</td>\n",
       "    </tr>\n",
       "    <tr>\n",
       "      <th>v120</th>\n",
       "      <td>64484</td>\n",
       "      <td>49836</td>\n",
       "      <td>float64</td>\n",
       "    </tr>\n",
       "    <tr>\n",
       "      <th>v121</th>\n",
       "      <td>64480</td>\n",
       "      <td>49840</td>\n",
       "      <td>float64</td>\n",
       "    </tr>\n",
       "    <tr>\n",
       "      <th>v122</th>\n",
       "      <td>64461</td>\n",
       "      <td>49851</td>\n",
       "      <td>float64</td>\n",
       "    </tr>\n",
       "    <tr>\n",
       "      <th>v123</th>\n",
       "      <td>63641</td>\n",
       "      <td>50678</td>\n",
       "      <td>float64</td>\n",
       "    </tr>\n",
       "    <tr>\n",
       "      <th>v124</th>\n",
       "      <td>65691</td>\n",
       "      <td>48619</td>\n",
       "      <td>float64</td>\n",
       "    </tr>\n",
       "    <tr>\n",
       "      <th>v125</th>\n",
       "      <td>90</td>\n",
       "      <td>77</td>\n",
       "      <td>object</td>\n",
       "    </tr>\n",
       "    <tr>\n",
       "      <th>v126</th>\n",
       "      <td>64487</td>\n",
       "      <td>49832</td>\n",
       "      <td>float64</td>\n",
       "    </tr>\n",
       "    <tr>\n",
       "      <th>v127</th>\n",
       "      <td>64488</td>\n",
       "      <td>49832</td>\n",
       "      <td>float64</td>\n",
       "    </tr>\n",
       "    <tr>\n",
       "      <th>v128</th>\n",
       "      <td>65687</td>\n",
       "      <td>48624</td>\n",
       "      <td>float64</td>\n",
       "    </tr>\n",
       "    <tr>\n",
       "      <th>v129</th>\n",
       "      <td>10</td>\n",
       "      <td>0</td>\n",
       "      <td>int64</td>\n",
       "    </tr>\n",
       "    <tr>\n",
       "      <th>v130</th>\n",
       "      <td>64476</td>\n",
       "      <td>49843</td>\n",
       "      <td>float64</td>\n",
       "    </tr>\n",
       "    <tr>\n",
       "      <th>v131</th>\n",
       "      <td>64414</td>\n",
       "      <td>49895</td>\n",
       "      <td>float64</td>\n",
       "    </tr>\n",
       "  </tbody>\n",
       "</table>\n",
       "</div>"
      ],
      "text/plain": [
       "       nunique missing     type\n",
       "target       2       0    int64\n",
       "v1       64487   49832  float64\n",
       "v2       64524   49796  float64\n",
       "v3           3    3457   object\n",
       "v4       64524   49796  float64\n",
       "v5       65671   48624  float64\n",
       "v6       64487   49832  float64\n",
       "v7       64489   49832  float64\n",
       "v8       65688   48619  float64\n",
       "v9       64451   49851  float64\n",
       "v10     112485      84  float64\n",
       "v11      64477   49836  float64\n",
       "v12     114233      86  float64\n",
       "v13      64488   49832  float64\n",
       "v14     110472       4  float64\n",
       "v15      64481   49836  float64\n",
       "v16      64414   49895  float64\n",
       "v17      64525   49796  float64\n",
       "v18      64489   49832  float64\n",
       "v19      64478   49843  float64\n",
       "v20      64469   49840  float64\n",
       "v21     113709     611  float64\n",
       "v22      18210     500   object\n",
       "v23      63638   50675  float64\n",
       "v24          5       0   object\n",
       "v25      65679   48619  float64\n",
       "v26      64489   49832  float64\n",
       "v27      64489   49832  float64\n",
       "v28      64482   49832  float64\n",
       "v29      64487   49832  float64\n",
       "v30          7   60110   object\n",
       "v31          3    3457   object\n",
       "v32      64488   49832  float64\n",
       "v33      64489   49832  float64\n",
       "v34     114209     111  float64\n",
       "v35      64489   49832  float64\n",
       "v36      65609   48624  float64\n",
       "v37      64474   49843  float64\n",
       "v38         12       0    int64\n",
       "v39      64484   49836  float64\n",
       "v40     114192     111  float64\n",
       "v41      64488   49832  float64\n",
       "v42      64472   49832  float64\n",
       "v43      64484   49836  float64\n",
       "v44      64520   49796  float64\n",
       "v45      64486   49832  float64\n",
       "v46      65697   48619  float64\n",
       "v47         10       0   object\n",
       "v48      64519   49796  float64\n",
       "v49      64487   49832  float64\n",
       "v50     114224      86  float64\n",
       "v51      63637   50678  float64\n",
       "v52         12       3   object\n",
       "v53      64469   49836  float64\n",
       "v54      65694   48619  float64\n",
       "v55      64488   49832  float64\n",
       "v56        122    6882   object\n",
       "v57      64488   49832  float64\n",
       "v58      64482   49836  float64\n",
       "v59      64524   49796  float64\n",
       "v60      64488   49832  float64\n",
       "v61      64519   49796  float64\n",
       "v62          8       0    int64\n",
       "v63      65681   48619  float64\n",
       "v64      64524   49796  float64\n",
       "v65      64472   49840  float64\n",
       "v66          3       0   object\n",
       "v67      64487   49832  float64\n",
       "v68      64474   49836  float64\n",
       "v69      64332   49895  float64\n",
       "v70      65631   48636  float64\n",
       "v71          9       0   object\n",
       "v72         13       0    int64\n",
       "v73      64484   49836  float64\n",
       "v74          3       0   object\n",
       "v75          4       0   object\n",
       "v76      64525   49796  float64\n",
       "v77      64489   49832  float64\n",
       "v78      64265   49895  float64\n",
       "v79         18       0   object\n",
       "v80      64466   49851  float64\n",
       "v81      65685   48624  float64\n",
       "v82      65663   48624  float64\n",
       "v83      64489   49832  float64\n",
       "v84      64487   49832  float64\n",
       "v85      63637   50682  float64\n",
       "v86      64489   49832  float64\n",
       "v87      65630   48663  float64\n",
       "v88      64489   49832  float64\n",
       "v89      65686   48619  float64\n",
       "v90      64484   49836  float64\n",
       "v91          7       3   object\n",
       "v92      64478   49843  float64\n",
       "v93      64489   49832  float64\n",
       "v94      64489   49832  float64\n",
       "v95      64478   49843  float64\n",
       "v96      64489   49832  float64\n",
       "v97      64470   49843  float64\n",
       "v98      65656   48654  float64\n",
       "v99      64488   49832  float64\n",
       "v100     64471   49836  float64\n",
       "v101     64525   49796  float64\n",
       "v102     62986   51316  float64\n",
       "v103     64489   49832  float64\n",
       "v104     64489   49832  float64\n",
       "v105     65658   48658  float64\n",
       "v106     64521   49796  float64\n",
       "v107         7       3   object\n",
       "v108     65687   48624  float64\n",
       "v109     65673   48624  float64\n",
       "v110         3       0   object\n",
       "v111     64486   49832  float64\n",
       "v112        22     382   object\n",
       "v113        36   55304   object\n",
       "v114    114267      30  float64\n",
       "v115     64253   49895  float64\n",
       "v116     64485   49836  float64\n",
       "v117     65662   48624  float64\n",
       "v118     64470   49843  float64\n",
       "v119     63638   50680  float64\n",
       "v120     64484   49836  float64\n",
       "v121     64480   49840  float64\n",
       "v122     64461   49851  float64\n",
       "v123     63641   50678  float64\n",
       "v124     65691   48619  float64\n",
       "v125        90      77   object\n",
       "v126     64487   49832  float64\n",
       "v127     64488   49832  float64\n",
       "v128     65687   48624  float64\n",
       "v129        10       0    int64\n",
       "v130     64476   49843  float64\n",
       "v131     64414   49895  float64"
      ]
     },
     "execution_count": 6,
     "metadata": {},
     "output_type": "execute_result"
    }
   ],
   "source": [
    "# увеличиваем количество выводимых строк\n",
    "pd.set_option('display.max_rows', 140)\n",
    "# создаем датафрейм с информацией о количестве уникальных \n",
    "# значений, количестве пропусков, типе переменной\n",
    "feat_labels = data.columns\n",
    "summary = np.array([nunique_list, miss_list, type_list])\n",
    "columns = ['nunique', 'missing', 'type']\n",
    "results = pd.DataFrame(summary.T, \n",
    "                       index=feat_labels,\n",
    "                       columns=columns)\n",
    "results"
   ]
  },
  {
   "cell_type": "code",
   "execution_count": 7,
   "metadata": {},
   "outputs": [],
   "source": [
    "# импутируем пропуски\n",
    "data.fillna(-9999, inplace=True)"
   ]
  },
  {
   "cell_type": "code",
   "execution_count": 8,
   "metadata": {},
   "outputs": [],
   "source": [
    "# разбиваем набор на обучающую и тестовую\n",
    "X_train, X_test, y_train, y_test = train_test_split(\n",
    "    data.drop('target', axis=1), \n",
    "    data['target'], \n",
    "    test_size=0.3,\n",
    "    stratify=data['target'],\n",
    "    random_state=42)"
   ]
  },
  {
   "cell_type": "code",
   "execution_count": 9,
   "metadata": {
    "scrolled": false
   },
   "outputs": [
    {
     "data": {
      "text/html": [
       "<div>\n",
       "<style scoped>\n",
       "    .dataframe tbody tr th:only-of-type {\n",
       "        vertical-align: middle;\n",
       "    }\n",
       "\n",
       "    .dataframe tbody tr th {\n",
       "        vertical-align: top;\n",
       "    }\n",
       "\n",
       "    .dataframe thead th {\n",
       "        text-align: right;\n",
       "    }\n",
       "</style>\n",
       "<table border=\"1\" class=\"dataframe\">\n",
       "  <thead>\n",
       "    <tr style=\"text-align: right;\">\n",
       "      <th></th>\n",
       "      <th>v1</th>\n",
       "      <th>v2</th>\n",
       "      <th>v4</th>\n",
       "      <th>v5</th>\n",
       "      <th>v6</th>\n",
       "      <th>v7</th>\n",
       "      <th>v8</th>\n",
       "      <th>v9</th>\n",
       "      <th>v10</th>\n",
       "      <th>v11</th>\n",
       "      <th>v12</th>\n",
       "      <th>v13</th>\n",
       "      <th>v14</th>\n",
       "      <th>v15</th>\n",
       "      <th>v16</th>\n",
       "      <th>v17</th>\n",
       "      <th>v18</th>\n",
       "      <th>v19</th>\n",
       "      <th>v20</th>\n",
       "      <th>v21</th>\n",
       "      <th>v23</th>\n",
       "      <th>v25</th>\n",
       "      <th>v26</th>\n",
       "      <th>v27</th>\n",
       "      <th>v28</th>\n",
       "      <th>v29</th>\n",
       "      <th>v32</th>\n",
       "      <th>v33</th>\n",
       "      <th>v34</th>\n",
       "      <th>v35</th>\n",
       "      <th>v36</th>\n",
       "      <th>v37</th>\n",
       "      <th>v38</th>\n",
       "      <th>v39</th>\n",
       "      <th>v40</th>\n",
       "      <th>v41</th>\n",
       "      <th>v42</th>\n",
       "      <th>v43</th>\n",
       "      <th>v44</th>\n",
       "      <th>v45</th>\n",
       "      <th>v46</th>\n",
       "      <th>v48</th>\n",
       "      <th>v49</th>\n",
       "      <th>v50</th>\n",
       "      <th>v51</th>\n",
       "      <th>v53</th>\n",
       "      <th>v54</th>\n",
       "      <th>v55</th>\n",
       "      <th>v57</th>\n",
       "      <th>v58</th>\n",
       "      <th>v59</th>\n",
       "      <th>v60</th>\n",
       "      <th>v61</th>\n",
       "      <th>v62</th>\n",
       "      <th>v63</th>\n",
       "      <th>v64</th>\n",
       "      <th>v65</th>\n",
       "      <th>v67</th>\n",
       "      <th>v68</th>\n",
       "      <th>v69</th>\n",
       "      <th>v70</th>\n",
       "      <th>v72</th>\n",
       "      <th>v73</th>\n",
       "      <th>v76</th>\n",
       "      <th>v77</th>\n",
       "      <th>v78</th>\n",
       "      <th>v80</th>\n",
       "      <th>v81</th>\n",
       "      <th>v82</th>\n",
       "      <th>v83</th>\n",
       "      <th>v84</th>\n",
       "      <th>v85</th>\n",
       "      <th>v86</th>\n",
       "      <th>v87</th>\n",
       "      <th>v88</th>\n",
       "      <th>v89</th>\n",
       "      <th>v90</th>\n",
       "      <th>v92</th>\n",
       "      <th>v93</th>\n",
       "      <th>v94</th>\n",
       "      <th>v95</th>\n",
       "      <th>v96</th>\n",
       "      <th>v97</th>\n",
       "      <th>v98</th>\n",
       "      <th>v99</th>\n",
       "      <th>v100</th>\n",
       "      <th>v101</th>\n",
       "      <th>v102</th>\n",
       "      <th>v103</th>\n",
       "      <th>v104</th>\n",
       "      <th>v105</th>\n",
       "      <th>v106</th>\n",
       "      <th>v108</th>\n",
       "      <th>v109</th>\n",
       "      <th>v111</th>\n",
       "      <th>v114</th>\n",
       "      <th>v115</th>\n",
       "      <th>v116</th>\n",
       "      <th>v117</th>\n",
       "      <th>v118</th>\n",
       "      <th>v119</th>\n",
       "      <th>v120</th>\n",
       "      <th>v121</th>\n",
       "      <th>v122</th>\n",
       "      <th>v123</th>\n",
       "      <th>v124</th>\n",
       "      <th>v126</th>\n",
       "      <th>v127</th>\n",
       "      <th>v128</th>\n",
       "      <th>v129</th>\n",
       "      <th>v130</th>\n",
       "      <th>v131</th>\n",
       "    </tr>\n",
       "  </thead>\n",
       "  <tbody>\n",
       "    <tr>\n",
       "      <th>v1</th>\n",
       "      <td>1.000000</td>\n",
       "      <td>0.999315</td>\n",
       "      <td>0.999315</td>\n",
       "      <td>0.947288</td>\n",
       "      <td>1.000000</td>\n",
       "      <td>1.000000</td>\n",
       "      <td>0.947393</td>\n",
       "      <td>0.999619</td>\n",
       "      <td>0.022242</td>\n",
       "      <td>0.999924</td>\n",
       "      <td>0.022906</td>\n",
       "      <td>1.000000</td>\n",
       "      <td>0.005391</td>\n",
       "      <td>0.999924</td>\n",
       "      <td>0.998909</td>\n",
       "      <td>0.999315</td>\n",
       "      <td>1.000000</td>\n",
       "      <td>0.999772</td>\n",
       "      <td>0.999873</td>\n",
       "      <td>0.003925</td>\n",
       "      <td>0.983690</td>\n",
       "      <td>0.947393</td>\n",
       "      <td>1.000000</td>\n",
       "      <td>1.000000</td>\n",
       "      <td>1.000000</td>\n",
       "      <td>1.000000</td>\n",
       "      <td>1.000000</td>\n",
       "      <td>1.000000</td>\n",
       "      <td>0.027628</td>\n",
       "      <td>1.000000</td>\n",
       "      <td>0.947277</td>\n",
       "      <td>0.999772</td>\n",
       "      <td>-0.002806</td>\n",
       "      <td>0.999924</td>\n",
       "      <td>0.029099</td>\n",
       "      <td>1.000000</td>\n",
       "      <td>1.000000</td>\n",
       "      <td>0.999924</td>\n",
       "      <td>0.999315</td>\n",
       "      <td>1.000000</td>\n",
       "      <td>0.947393</td>\n",
       "      <td>0.999315</td>\n",
       "      <td>1.000000</td>\n",
       "      <td>0.022686</td>\n",
       "      <td>0.983640</td>\n",
       "      <td>0.999924</td>\n",
       "      <td>0.947393</td>\n",
       "      <td>1.000000</td>\n",
       "      <td>1.000000</td>\n",
       "      <td>0.999923</td>\n",
       "      <td>0.999314</td>\n",
       "      <td>1.000000</td>\n",
       "      <td>0.999315</td>\n",
       "      <td>0.019282</td>\n",
       "      <td>0.947393</td>\n",
       "      <td>0.999315</td>\n",
       "      <td>0.999873</td>\n",
       "      <td>1.000000</td>\n",
       "      <td>0.999924</td>\n",
       "      <td>0.998909</td>\n",
       "      <td>0.947059</td>\n",
       "      <td>0.021167</td>\n",
       "      <td>0.999924</td>\n",
       "      <td>0.999315</td>\n",
       "      <td>1.000000</td>\n",
       "      <td>0.998909</td>\n",
       "      <td>0.999619</td>\n",
       "      <td>0.947284</td>\n",
       "      <td>0.947308</td>\n",
       "      <td>1.000000</td>\n",
       "      <td>1.000000</td>\n",
       "      <td>0.983565</td>\n",
       "      <td>1.000000</td>\n",
       "      <td>0.946570</td>\n",
       "      <td>1.000000</td>\n",
       "      <td>0.947393</td>\n",
       "      <td>0.999924</td>\n",
       "      <td>0.999772</td>\n",
       "      <td>1.000000</td>\n",
       "      <td>1.000000</td>\n",
       "      <td>0.999772</td>\n",
       "      <td>1.000000</td>\n",
       "      <td>0.999772</td>\n",
       "      <td>0.946718</td>\n",
       "      <td>1.000000</td>\n",
       "      <td>0.999923</td>\n",
       "      <td>0.999315</td>\n",
       "      <td>0.972723</td>\n",
       "      <td>1.000000</td>\n",
       "      <td>1.000000</td>\n",
       "      <td>0.946671</td>\n",
       "      <td>0.999315</td>\n",
       "      <td>0.947289</td>\n",
       "      <td>0.947289</td>\n",
       "      <td>1.000000</td>\n",
       "      <td>0.017955</td>\n",
       "      <td>0.998909</td>\n",
       "      <td>0.999924</td>\n",
       "      <td>0.947278</td>\n",
       "      <td>0.999772</td>\n",
       "      <td>0.983614</td>\n",
       "      <td>0.999924</td>\n",
       "      <td>0.999873</td>\n",
       "      <td>0.999619</td>\n",
       "      <td>0.983640</td>\n",
       "      <td>0.947393</td>\n",
       "      <td>1.000000</td>\n",
       "      <td>1.000000</td>\n",
       "      <td>0.947289</td>\n",
       "      <td>0.011179</td>\n",
       "      <td>0.999772</td>\n",
       "      <td>0.998909</td>\n",
       "    </tr>\n",
       "    <tr>\n",
       "      <th>v2</th>\n",
       "      <td>0.999315</td>\n",
       "      <td>1.000000</td>\n",
       "      <td>1.000000</td>\n",
       "      <td>0.947958</td>\n",
       "      <td>0.999315</td>\n",
       "      <td>0.999315</td>\n",
       "      <td>0.948062</td>\n",
       "      <td>0.998934</td>\n",
       "      <td>0.022263</td>\n",
       "      <td>0.999239</td>\n",
       "      <td>0.022928</td>\n",
       "      <td>0.999315</td>\n",
       "      <td>0.005398</td>\n",
       "      <td>0.999239</td>\n",
       "      <td>0.998224</td>\n",
       "      <td>1.000000</td>\n",
       "      <td>0.999315</td>\n",
       "      <td>0.999086</td>\n",
       "      <td>0.999188</td>\n",
       "      <td>0.003971</td>\n",
       "      <td>0.984384</td>\n",
       "      <td>0.948063</td>\n",
       "      <td>0.999315</td>\n",
       "      <td>0.999315</td>\n",
       "      <td>0.999315</td>\n",
       "      <td>0.999315</td>\n",
       "      <td>0.999315</td>\n",
       "      <td>0.999315</td>\n",
       "      <td>0.027654</td>\n",
       "      <td>0.999315</td>\n",
       "      <td>0.947947</td>\n",
       "      <td>0.999086</td>\n",
       "      <td>-0.002894</td>\n",
       "      <td>0.999239</td>\n",
       "      <td>0.029122</td>\n",
       "      <td>0.999315</td>\n",
       "      <td>0.999315</td>\n",
       "      <td>0.999239</td>\n",
       "      <td>1.000000</td>\n",
       "      <td>0.999315</td>\n",
       "      <td>0.948062</td>\n",
       "      <td>1.000000</td>\n",
       "      <td>0.999315</td>\n",
       "      <td>0.022708</td>\n",
       "      <td>0.984335</td>\n",
       "      <td>0.999239</td>\n",
       "      <td>0.948062</td>\n",
       "      <td>0.999315</td>\n",
       "      <td>0.999315</td>\n",
       "      <td>0.999238</td>\n",
       "      <td>1.000000</td>\n",
       "      <td>0.999315</td>\n",
       "      <td>1.000000</td>\n",
       "      <td>0.019179</td>\n",
       "      <td>0.948063</td>\n",
       "      <td>1.000000</td>\n",
       "      <td>0.999188</td>\n",
       "      <td>0.999315</td>\n",
       "      <td>0.999239</td>\n",
       "      <td>0.998224</td>\n",
       "      <td>0.947729</td>\n",
       "      <td>0.021019</td>\n",
       "      <td>0.999239</td>\n",
       "      <td>1.000000</td>\n",
       "      <td>0.999315</td>\n",
       "      <td>0.998224</td>\n",
       "      <td>0.998934</td>\n",
       "      <td>0.947954</td>\n",
       "      <td>0.947978</td>\n",
       "      <td>0.999315</td>\n",
       "      <td>0.999315</td>\n",
       "      <td>0.984260</td>\n",
       "      <td>0.999315</td>\n",
       "      <td>0.947240</td>\n",
       "      <td>0.999315</td>\n",
       "      <td>0.948063</td>\n",
       "      <td>0.999239</td>\n",
       "      <td>0.999086</td>\n",
       "      <td>0.999315</td>\n",
       "      <td>0.999315</td>\n",
       "      <td>0.999086</td>\n",
       "      <td>0.999315</td>\n",
       "      <td>0.999086</td>\n",
       "      <td>0.947388</td>\n",
       "      <td>0.999315</td>\n",
       "      <td>0.999238</td>\n",
       "      <td>1.000000</td>\n",
       "      <td>0.973436</td>\n",
       "      <td>0.999315</td>\n",
       "      <td>0.999315</td>\n",
       "      <td>0.947340</td>\n",
       "      <td>1.000000</td>\n",
       "      <td>0.947959</td>\n",
       "      <td>0.947959</td>\n",
       "      <td>0.999315</td>\n",
       "      <td>0.017971</td>\n",
       "      <td>0.998224</td>\n",
       "      <td>0.999239</td>\n",
       "      <td>0.947949</td>\n",
       "      <td>0.999086</td>\n",
       "      <td>0.984309</td>\n",
       "      <td>0.999239</td>\n",
       "      <td>0.999188</td>\n",
       "      <td>0.998934</td>\n",
       "      <td>0.984334</td>\n",
       "      <td>0.948063</td>\n",
       "      <td>0.999315</td>\n",
       "      <td>0.999315</td>\n",
       "      <td>0.947959</td>\n",
       "      <td>0.011161</td>\n",
       "      <td>0.999086</td>\n",
       "      <td>0.998224</td>\n",
       "    </tr>\n",
       "    <tr>\n",
       "      <th>v4</th>\n",
       "      <td>0.999315</td>\n",
       "      <td>1.000000</td>\n",
       "      <td>1.000000</td>\n",
       "      <td>0.947958</td>\n",
       "      <td>0.999315</td>\n",
       "      <td>0.999315</td>\n",
       "      <td>0.948062</td>\n",
       "      <td>0.998934</td>\n",
       "      <td>0.022262</td>\n",
       "      <td>0.999239</td>\n",
       "      <td>0.022926</td>\n",
       "      <td>0.999315</td>\n",
       "      <td>0.005397</td>\n",
       "      <td>0.999239</td>\n",
       "      <td>0.998224</td>\n",
       "      <td>1.000000</td>\n",
       "      <td>0.999315</td>\n",
       "      <td>0.999086</td>\n",
       "      <td>0.999188</td>\n",
       "      <td>0.003972</td>\n",
       "      <td>0.984384</td>\n",
       "      <td>0.948062</td>\n",
       "      <td>0.999315</td>\n",
       "      <td>0.999315</td>\n",
       "      <td>0.999315</td>\n",
       "      <td>0.999315</td>\n",
       "      <td>0.999315</td>\n",
       "      <td>0.999315</td>\n",
       "      <td>0.027653</td>\n",
       "      <td>0.999315</td>\n",
       "      <td>0.947946</td>\n",
       "      <td>0.999086</td>\n",
       "      <td>-0.002901</td>\n",
       "      <td>0.999239</td>\n",
       "      <td>0.029121</td>\n",
       "      <td>0.999315</td>\n",
       "      <td>0.999315</td>\n",
       "      <td>0.999239</td>\n",
       "      <td>1.000000</td>\n",
       "      <td>0.999315</td>\n",
       "      <td>0.948062</td>\n",
       "      <td>1.000000</td>\n",
       "      <td>0.999315</td>\n",
       "      <td>0.022706</td>\n",
       "      <td>0.984334</td>\n",
       "      <td>0.999239</td>\n",
       "      <td>0.948062</td>\n",
       "      <td>0.999315</td>\n",
       "      <td>0.999315</td>\n",
       "      <td>0.999238</td>\n",
       "      <td>1.000000</td>\n",
       "      <td>0.999315</td>\n",
       "      <td>1.000000</td>\n",
       "      <td>0.019174</td>\n",
       "      <td>0.948062</td>\n",
       "      <td>1.000000</td>\n",
       "      <td>0.999188</td>\n",
       "      <td>0.999315</td>\n",
       "      <td>0.999239</td>\n",
       "      <td>0.998224</td>\n",
       "      <td>0.947728</td>\n",
       "      <td>0.021001</td>\n",
       "      <td>0.999239</td>\n",
       "      <td>1.000000</td>\n",
       "      <td>0.999315</td>\n",
       "      <td>0.998224</td>\n",
       "      <td>0.998934</td>\n",
       "      <td>0.947953</td>\n",
       "      <td>0.947977</td>\n",
       "      <td>0.999315</td>\n",
       "      <td>0.999315</td>\n",
       "      <td>0.984259</td>\n",
       "      <td>0.999315</td>\n",
       "      <td>0.947240</td>\n",
       "      <td>0.999315</td>\n",
       "      <td>0.948062</td>\n",
       "      <td>0.999239</td>\n",
       "      <td>0.999086</td>\n",
       "      <td>0.999315</td>\n",
       "      <td>0.999315</td>\n",
       "      <td>0.999086</td>\n",
       "      <td>0.999315</td>\n",
       "      <td>0.999086</td>\n",
       "      <td>0.947387</td>\n",
       "      <td>0.999315</td>\n",
       "      <td>0.999238</td>\n",
       "      <td>1.000000</td>\n",
       "      <td>0.973431</td>\n",
       "      <td>0.999315</td>\n",
       "      <td>0.999315</td>\n",
       "      <td>0.947340</td>\n",
       "      <td>1.000000</td>\n",
       "      <td>0.947958</td>\n",
       "      <td>0.947959</td>\n",
       "      <td>0.999315</td>\n",
       "      <td>0.017971</td>\n",
       "      <td>0.998224</td>\n",
       "      <td>0.999239</td>\n",
       "      <td>0.947948</td>\n",
       "      <td>0.999086</td>\n",
       "      <td>0.984309</td>\n",
       "      <td>0.999239</td>\n",
       "      <td>0.999188</td>\n",
       "      <td>0.998934</td>\n",
       "      <td>0.984334</td>\n",
       "      <td>0.948062</td>\n",
       "      <td>0.999315</td>\n",
       "      <td>0.999315</td>\n",
       "      <td>0.947959</td>\n",
       "      <td>0.011147</td>\n",
       "      <td>0.999086</td>\n",
       "      <td>0.998224</td>\n",
       "    </tr>\n",
       "    <tr>\n",
       "      <th>v5</th>\n",
       "      <td>0.947288</td>\n",
       "      <td>0.947958</td>\n",
       "      <td>0.947958</td>\n",
       "      <td>1.000000</td>\n",
       "      <td>0.947289</td>\n",
       "      <td>0.947288</td>\n",
       "      <td>0.999898</td>\n",
       "      <td>0.946916</td>\n",
       "      <td>0.021939</td>\n",
       "      <td>0.947214</td>\n",
       "      <td>0.022639</td>\n",
       "      <td>0.947288</td>\n",
       "      <td>0.005573</td>\n",
       "      <td>0.947214</td>\n",
       "      <td>0.946224</td>\n",
       "      <td>0.947958</td>\n",
       "      <td>0.947288</td>\n",
       "      <td>0.947066</td>\n",
       "      <td>0.947165</td>\n",
       "      <td>0.004786</td>\n",
       "      <td>0.964134</td>\n",
       "      <td>0.999898</td>\n",
       "      <td>0.947288</td>\n",
       "      <td>0.947288</td>\n",
       "      <td>0.947287</td>\n",
       "      <td>0.947289</td>\n",
       "      <td>0.947288</td>\n",
       "      <td>0.947288</td>\n",
       "      <td>0.027481</td>\n",
       "      <td>0.947289</td>\n",
       "      <td>1.000000</td>\n",
       "      <td>0.947065</td>\n",
       "      <td>-0.001230</td>\n",
       "      <td>0.947215</td>\n",
       "      <td>0.029157</td>\n",
       "      <td>0.947288</td>\n",
       "      <td>0.947288</td>\n",
       "      <td>0.947214</td>\n",
       "      <td>0.947958</td>\n",
       "      <td>0.947288</td>\n",
       "      <td>0.999898</td>\n",
       "      <td>0.947956</td>\n",
       "      <td>0.947288</td>\n",
       "      <td>0.022381</td>\n",
       "      <td>0.964085</td>\n",
       "      <td>0.947214</td>\n",
       "      <td>0.999898</td>\n",
       "      <td>0.947288</td>\n",
       "      <td>0.947289</td>\n",
       "      <td>0.947211</td>\n",
       "      <td>0.947958</td>\n",
       "      <td>0.947288</td>\n",
       "      <td>0.947958</td>\n",
       "      <td>0.017927</td>\n",
       "      <td>0.999898</td>\n",
       "      <td>0.947958</td>\n",
       "      <td>0.947165</td>\n",
       "      <td>0.947288</td>\n",
       "      <td>0.947213</td>\n",
       "      <td>0.946224</td>\n",
       "      <td>0.999770</td>\n",
       "      <td>0.023698</td>\n",
       "      <td>0.947214</td>\n",
       "      <td>0.947957</td>\n",
       "      <td>0.947288</td>\n",
       "      <td>0.946225</td>\n",
       "      <td>0.946917</td>\n",
       "      <td>1.000000</td>\n",
       "      <td>1.000000</td>\n",
       "      <td>0.947288</td>\n",
       "      <td>0.947288</td>\n",
       "      <td>0.964012</td>\n",
       "      <td>0.947288</td>\n",
       "      <td>0.999286</td>\n",
       "      <td>0.947289</td>\n",
       "      <td>0.999898</td>\n",
       "      <td>0.947214</td>\n",
       "      <td>0.947066</td>\n",
       "      <td>0.947289</td>\n",
       "      <td>0.947288</td>\n",
       "      <td>0.947066</td>\n",
       "      <td>0.947289</td>\n",
       "      <td>0.947066</td>\n",
       "      <td>0.999439</td>\n",
       "      <td>0.947289</td>\n",
       "      <td>0.947216</td>\n",
       "      <td>0.947958</td>\n",
       "      <td>0.953401</td>\n",
       "      <td>0.947288</td>\n",
       "      <td>0.947288</td>\n",
       "      <td>0.999184</td>\n",
       "      <td>0.947959</td>\n",
       "      <td>1.000000</td>\n",
       "      <td>1.000000</td>\n",
       "      <td>0.947288</td>\n",
       "      <td>0.018163</td>\n",
       "      <td>0.946225</td>\n",
       "      <td>0.947214</td>\n",
       "      <td>1.000000</td>\n",
       "      <td>0.947066</td>\n",
       "      <td>0.964061</td>\n",
       "      <td>0.947214</td>\n",
       "      <td>0.947164</td>\n",
       "      <td>0.946917</td>\n",
       "      <td>0.964085</td>\n",
       "      <td>0.999898</td>\n",
       "      <td>0.947288</td>\n",
       "      <td>0.947288</td>\n",
       "      <td>1.000000</td>\n",
       "      <td>0.014581</td>\n",
       "      <td>0.947065</td>\n",
       "      <td>0.946225</td>\n",
       "    </tr>\n",
       "    <tr>\n",
       "      <th>v6</th>\n",
       "      <td>1.000000</td>\n",
       "      <td>0.999315</td>\n",
       "      <td>0.999315</td>\n",
       "      <td>0.947289</td>\n",
       "      <td>1.000000</td>\n",
       "      <td>1.000000</td>\n",
       "      <td>0.947393</td>\n",
       "      <td>0.999619</td>\n",
       "      <td>0.022242</td>\n",
       "      <td>0.999924</td>\n",
       "      <td>0.022906</td>\n",
       "      <td>1.000000</td>\n",
       "      <td>0.005391</td>\n",
       "      <td>0.999924</td>\n",
       "      <td>0.998909</td>\n",
       "      <td>0.999315</td>\n",
       "      <td>1.000000</td>\n",
       "      <td>0.999771</td>\n",
       "      <td>0.999873</td>\n",
       "      <td>0.003924</td>\n",
       "      <td>0.983690</td>\n",
       "      <td>0.947393</td>\n",
       "      <td>1.000000</td>\n",
       "      <td>1.000000</td>\n",
       "      <td>1.000000</td>\n",
       "      <td>1.000000</td>\n",
       "      <td>1.000000</td>\n",
       "      <td>1.000000</td>\n",
       "      <td>0.027628</td>\n",
       "      <td>1.000000</td>\n",
       "      <td>0.947277</td>\n",
       "      <td>0.999771</td>\n",
       "      <td>-0.002804</td>\n",
       "      <td>0.999924</td>\n",
       "      <td>0.029099</td>\n",
       "      <td>1.000000</td>\n",
       "      <td>1.000000</td>\n",
       "      <td>0.999924</td>\n",
       "      <td>0.999315</td>\n",
       "      <td>1.000000</td>\n",
       "      <td>0.947393</td>\n",
       "      <td>0.999315</td>\n",
       "      <td>1.000000</td>\n",
       "      <td>0.022685</td>\n",
       "      <td>0.983640</td>\n",
       "      <td>0.999924</td>\n",
       "      <td>0.947393</td>\n",
       "      <td>1.000000</td>\n",
       "      <td>1.000000</td>\n",
       "      <td>0.999923</td>\n",
       "      <td>0.999314</td>\n",
       "      <td>1.000000</td>\n",
       "      <td>0.999315</td>\n",
       "      <td>0.019280</td>\n",
       "      <td>0.947393</td>\n",
       "      <td>0.999315</td>\n",
       "      <td>0.999873</td>\n",
       "      <td>1.000000</td>\n",
       "      <td>0.999924</td>\n",
       "      <td>0.998909</td>\n",
       "      <td>0.947059</td>\n",
       "      <td>0.021171</td>\n",
       "      <td>0.999924</td>\n",
       "      <td>0.999315</td>\n",
       "      <td>1.000000</td>\n",
       "      <td>0.998909</td>\n",
       "      <td>0.999619</td>\n",
       "      <td>0.947284</td>\n",
       "      <td>0.947308</td>\n",
       "      <td>1.000000</td>\n",
       "      <td>1.000000</td>\n",
       "      <td>0.983565</td>\n",
       "      <td>1.000000</td>\n",
       "      <td>0.946570</td>\n",
       "      <td>1.000000</td>\n",
       "      <td>0.947393</td>\n",
       "      <td>0.999924</td>\n",
       "      <td>0.999771</td>\n",
       "      <td>1.000000</td>\n",
       "      <td>1.000000</td>\n",
       "      <td>0.999771</td>\n",
       "      <td>1.000000</td>\n",
       "      <td>0.999771</td>\n",
       "      <td>0.946718</td>\n",
       "      <td>1.000000</td>\n",
       "      <td>0.999923</td>\n",
       "      <td>0.999315</td>\n",
       "      <td>0.972727</td>\n",
       "      <td>1.000000</td>\n",
       "      <td>1.000000</td>\n",
       "      <td>0.946671</td>\n",
       "      <td>0.999315</td>\n",
       "      <td>0.947289</td>\n",
       "      <td>0.947289</td>\n",
       "      <td>1.000000</td>\n",
       "      <td>0.017955</td>\n",
       "      <td>0.998909</td>\n",
       "      <td>0.999924</td>\n",
       "      <td>0.947278</td>\n",
       "      <td>0.999771</td>\n",
       "      <td>0.983615</td>\n",
       "      <td>0.999924</td>\n",
       "      <td>0.999873</td>\n",
       "      <td>0.999619</td>\n",
       "      <td>0.983640</td>\n",
       "      <td>0.947393</td>\n",
       "      <td>1.000000</td>\n",
       "      <td>1.000000</td>\n",
       "      <td>0.947290</td>\n",
       "      <td>0.011185</td>\n",
       "      <td>0.999771</td>\n",
       "      <td>0.998909</td>\n",
       "    </tr>\n",
       "  </tbody>\n",
       "</table>\n",
       "</div>"
      ],
      "text/plain": [
       "          v1        v2        v4        v5        v6        v7        v8  \\\n",
       "v1  1.000000  0.999315  0.999315  0.947288  1.000000  1.000000  0.947393   \n",
       "v2  0.999315  1.000000  1.000000  0.947958  0.999315  0.999315  0.948062   \n",
       "v4  0.999315  1.000000  1.000000  0.947958  0.999315  0.999315  0.948062   \n",
       "v5  0.947288  0.947958  0.947958  1.000000  0.947289  0.947288  0.999898   \n",
       "v6  1.000000  0.999315  0.999315  0.947289  1.000000  1.000000  0.947393   \n",
       "\n",
       "          v9       v10       v11       v12       v13       v14       v15  \\\n",
       "v1  0.999619  0.022242  0.999924  0.022906  1.000000  0.005391  0.999924   \n",
       "v2  0.998934  0.022263  0.999239  0.022928  0.999315  0.005398  0.999239   \n",
       "v4  0.998934  0.022262  0.999239  0.022926  0.999315  0.005397  0.999239   \n",
       "v5  0.946916  0.021939  0.947214  0.022639  0.947288  0.005573  0.947214   \n",
       "v6  0.999619  0.022242  0.999924  0.022906  1.000000  0.005391  0.999924   \n",
       "\n",
       "         v16       v17       v18       v19       v20       v21       v23  \\\n",
       "v1  0.998909  0.999315  1.000000  0.999772  0.999873  0.003925  0.983690   \n",
       "v2  0.998224  1.000000  0.999315  0.999086  0.999188  0.003971  0.984384   \n",
       "v4  0.998224  1.000000  0.999315  0.999086  0.999188  0.003972  0.984384   \n",
       "v5  0.946224  0.947958  0.947288  0.947066  0.947165  0.004786  0.964134   \n",
       "v6  0.998909  0.999315  1.000000  0.999771  0.999873  0.003924  0.983690   \n",
       "\n",
       "         v25       v26       v27       v28       v29       v32       v33  \\\n",
       "v1  0.947393  1.000000  1.000000  1.000000  1.000000  1.000000  1.000000   \n",
       "v2  0.948063  0.999315  0.999315  0.999315  0.999315  0.999315  0.999315   \n",
       "v4  0.948062  0.999315  0.999315  0.999315  0.999315  0.999315  0.999315   \n",
       "v5  0.999898  0.947288  0.947288  0.947287  0.947289  0.947288  0.947288   \n",
       "v6  0.947393  1.000000  1.000000  1.000000  1.000000  1.000000  1.000000   \n",
       "\n",
       "         v34       v35       v36       v37       v38       v39       v40  \\\n",
       "v1  0.027628  1.000000  0.947277  0.999772 -0.002806  0.999924  0.029099   \n",
       "v2  0.027654  0.999315  0.947947  0.999086 -0.002894  0.999239  0.029122   \n",
       "v4  0.027653  0.999315  0.947946  0.999086 -0.002901  0.999239  0.029121   \n",
       "v5  0.027481  0.947289  1.000000  0.947065 -0.001230  0.947215  0.029157   \n",
       "v6  0.027628  1.000000  0.947277  0.999771 -0.002804  0.999924  0.029099   \n",
       "\n",
       "         v41       v42       v43       v44       v45       v46       v48  \\\n",
       "v1  1.000000  1.000000  0.999924  0.999315  1.000000  0.947393  0.999315   \n",
       "v2  0.999315  0.999315  0.999239  1.000000  0.999315  0.948062  1.000000   \n",
       "v4  0.999315  0.999315  0.999239  1.000000  0.999315  0.948062  1.000000   \n",
       "v5  0.947288  0.947288  0.947214  0.947958  0.947288  0.999898  0.947956   \n",
       "v6  1.000000  1.000000  0.999924  0.999315  1.000000  0.947393  0.999315   \n",
       "\n",
       "         v49       v50       v51       v53       v54       v55       v57  \\\n",
       "v1  1.000000  0.022686  0.983640  0.999924  0.947393  1.000000  1.000000   \n",
       "v2  0.999315  0.022708  0.984335  0.999239  0.948062  0.999315  0.999315   \n",
       "v4  0.999315  0.022706  0.984334  0.999239  0.948062  0.999315  0.999315   \n",
       "v5  0.947288  0.022381  0.964085  0.947214  0.999898  0.947288  0.947289   \n",
       "v6  1.000000  0.022685  0.983640  0.999924  0.947393  1.000000  1.000000   \n",
       "\n",
       "         v58       v59       v60       v61       v62       v63       v64  \\\n",
       "v1  0.999923  0.999314  1.000000  0.999315  0.019282  0.947393  0.999315   \n",
       "v2  0.999238  1.000000  0.999315  1.000000  0.019179  0.948063  1.000000   \n",
       "v4  0.999238  1.000000  0.999315  1.000000  0.019174  0.948062  1.000000   \n",
       "v5  0.947211  0.947958  0.947288  0.947958  0.017927  0.999898  0.947958   \n",
       "v6  0.999923  0.999314  1.000000  0.999315  0.019280  0.947393  0.999315   \n",
       "\n",
       "         v65       v67       v68       v69       v70       v72       v73  \\\n",
       "v1  0.999873  1.000000  0.999924  0.998909  0.947059  0.021167  0.999924   \n",
       "v2  0.999188  0.999315  0.999239  0.998224  0.947729  0.021019  0.999239   \n",
       "v4  0.999188  0.999315  0.999239  0.998224  0.947728  0.021001  0.999239   \n",
       "v5  0.947165  0.947288  0.947213  0.946224  0.999770  0.023698  0.947214   \n",
       "v6  0.999873  1.000000  0.999924  0.998909  0.947059  0.021171  0.999924   \n",
       "\n",
       "         v76       v77       v78       v80       v81       v82       v83  \\\n",
       "v1  0.999315  1.000000  0.998909  0.999619  0.947284  0.947308  1.000000   \n",
       "v2  1.000000  0.999315  0.998224  0.998934  0.947954  0.947978  0.999315   \n",
       "v4  1.000000  0.999315  0.998224  0.998934  0.947953  0.947977  0.999315   \n",
       "v5  0.947957  0.947288  0.946225  0.946917  1.000000  1.000000  0.947288   \n",
       "v6  0.999315  1.000000  0.998909  0.999619  0.947284  0.947308  1.000000   \n",
       "\n",
       "         v84       v85       v86       v87       v88       v89       v90  \\\n",
       "v1  1.000000  0.983565  1.000000  0.946570  1.000000  0.947393  0.999924   \n",
       "v2  0.999315  0.984260  0.999315  0.947240  0.999315  0.948063  0.999239   \n",
       "v4  0.999315  0.984259  0.999315  0.947240  0.999315  0.948062  0.999239   \n",
       "v5  0.947288  0.964012  0.947288  0.999286  0.947289  0.999898  0.947214   \n",
       "v6  1.000000  0.983565  1.000000  0.946570  1.000000  0.947393  0.999924   \n",
       "\n",
       "         v92       v93       v94       v95       v96       v97       v98  \\\n",
       "v1  0.999772  1.000000  1.000000  0.999772  1.000000  0.999772  0.946718   \n",
       "v2  0.999086  0.999315  0.999315  0.999086  0.999315  0.999086  0.947388   \n",
       "v4  0.999086  0.999315  0.999315  0.999086  0.999315  0.999086  0.947387   \n",
       "v5  0.947066  0.947289  0.947288  0.947066  0.947289  0.947066  0.999439   \n",
       "v6  0.999771  1.000000  1.000000  0.999771  1.000000  0.999771  0.946718   \n",
       "\n",
       "         v99      v100      v101      v102      v103      v104      v105  \\\n",
       "v1  1.000000  0.999923  0.999315  0.972723  1.000000  1.000000  0.946671   \n",
       "v2  0.999315  0.999238  1.000000  0.973436  0.999315  0.999315  0.947340   \n",
       "v4  0.999315  0.999238  1.000000  0.973431  0.999315  0.999315  0.947340   \n",
       "v5  0.947289  0.947216  0.947958  0.953401  0.947288  0.947288  0.999184   \n",
       "v6  1.000000  0.999923  0.999315  0.972727  1.000000  1.000000  0.946671   \n",
       "\n",
       "        v106      v108      v109      v111      v114      v115      v116  \\\n",
       "v1  0.999315  0.947289  0.947289  1.000000  0.017955  0.998909  0.999924   \n",
       "v2  1.000000  0.947959  0.947959  0.999315  0.017971  0.998224  0.999239   \n",
       "v4  1.000000  0.947958  0.947959  0.999315  0.017971  0.998224  0.999239   \n",
       "v5  0.947959  1.000000  1.000000  0.947288  0.018163  0.946225  0.947214   \n",
       "v6  0.999315  0.947289  0.947289  1.000000  0.017955  0.998909  0.999924   \n",
       "\n",
       "        v117      v118      v119      v120      v121      v122      v123  \\\n",
       "v1  0.947278  0.999772  0.983614  0.999924  0.999873  0.999619  0.983640   \n",
       "v2  0.947949  0.999086  0.984309  0.999239  0.999188  0.998934  0.984334   \n",
       "v4  0.947948  0.999086  0.984309  0.999239  0.999188  0.998934  0.984334   \n",
       "v5  1.000000  0.947066  0.964061  0.947214  0.947164  0.946917  0.964085   \n",
       "v6  0.947278  0.999771  0.983615  0.999924  0.999873  0.999619  0.983640   \n",
       "\n",
       "        v124      v126      v127      v128      v129      v130      v131  \n",
       "v1  0.947393  1.000000  1.000000  0.947289  0.011179  0.999772  0.998909  \n",
       "v2  0.948063  0.999315  0.999315  0.947959  0.011161  0.999086  0.998224  \n",
       "v4  0.948062  0.999315  0.999315  0.947959  0.011147  0.999086  0.998224  \n",
       "v5  0.999898  0.947288  0.947288  1.000000  0.014581  0.947065  0.946225  \n",
       "v6  0.947393  1.000000  1.000000  0.947290  0.011185  0.999771  0.998909  "
      ]
     },
     "execution_count": 9,
     "metadata": {},
     "output_type": "execute_result"
    }
   ],
   "source": [
    "# увеличиваем количество отображаемых столбцов\n",
    "pd.set_option('display.max_columns', 150)\n",
    "# выводим матрицу корреляций\n",
    "corr = X_train.corr()\n",
    "corr.head()"
   ]
  },
  {
   "cell_type": "code",
   "execution_count": 10,
   "metadata": {},
   "outputs": [
    {
     "name": "stdout",
     "output_type": "stream",
     "text": [
      "v1 99.07717708072305\n",
      "v2 99.05777616043284\n",
      "v4 99.05772612658586\n",
      "v5 96.02502215198527\n",
      "v6 99.07718573726672\n",
      "v7 99.07719145784912\n",
      "v8 96.03328950623573\n",
      "v9 99.0522707263313\n",
      "v10 7.596528760721455\n",
      "v11 99.07493693361216\n",
      "v12 7.689686069140868\n",
      "v13 99.07716443572401\n",
      "v14 3.0082238312714606\n",
      "v15 99.0749190261449\n",
      "v16 98.98934825344708\n",
      "v17 99.05771928176722\n",
      "v18 99.07718093374955\n",
      "v19 99.06449911188041\n",
      "v20 99.07131668965765\n",
      "v21 3.443874460960898\n",
      "v23 98.28386173850268\n",
      "v25 96.03330156369324\n",
      "v26 99.07718520021575\n",
      "v27 99.07719032810138\n",
      "v28 99.07715082091724\n",
      "v29 99.0771985189687\n",
      "v32 99.07717453592275\n",
      "v33 99.07715843417265\n",
      "v34 8.38039996397207\n",
      "v35 99.07718509665006\n",
      "v36 96.02409035803208\n",
      "v37 99.06449480326232\n",
      "v38 1.9853484500152456\n",
      "v39 99.07494816262043\n",
      "v40 8.530656876911065\n",
      "v41 99.07719023488859\n",
      "v42 99.07718593505726\n",
      "v43 99.07493130568636\n",
      "v44 99.05773324455427\n",
      "v45 99.07716714032733\n",
      "v46 96.03327981736045\n",
      "v48 99.05762859477491\n",
      "v49 99.0771827634974\n",
      "v50 7.666519716969931\n",
      "v51 98.28255942165288\n",
      "v53 99.07493606380942\n",
      "v54 96.03329470892407\n",
      "v55 99.07716295646253\n",
      "v57 99.07719217481339\n",
      "v58 99.07470811525059\n",
      "v59 99.0577059468299\n",
      "v60 99.07718554504582\n",
      "v61 99.05776730930272\n",
      "v62 3.8482911063372143\n",
      "v63 96.03330277915165\n",
      "v64 99.05774078257564\n",
      "v65 99.07133582877603\n",
      "v67 99.07718814667527\n",
      "v68 99.07490231697884\n",
      "v69 98.98933250024248\n",
      "v70 96.00558755245046\n",
      "v72 4.6575154614524665\n",
      "v73 99.07491570498856\n",
      "v76 99.05770758448656\n",
      "v77 99.07718937227824\n",
      "v78 98.98932942608246\n",
      "v80 99.05227163818955\n",
      "v81 96.0246429828897\n",
      "v82 96.0266478292022\n",
      "v83 99.07715649593982\n",
      "v84 99.07716273636406\n",
      "v85 98.27783966761545\n",
      "v86 99.07717904513609\n",
      "v87 95.95925923212846\n",
      "v88 99.07719858520201\n",
      "v89 96.03330934106003\n",
      "v90 99.07492845821233\n",
      "v92 99.06449909496109\n",
      "v93 99.0772005510497\n",
      "v94 99.07717796726911\n",
      "v95 99.0644976590797\n",
      "v96 99.0771977692755\n",
      "v97 99.06448685870859\n",
      "v98 95.9727345385558\n",
      "v99 99.07719023882754\n",
      "v100 99.07504299417502\n",
      "v101 99.05774062298728\n",
      "v102 97.22733207888609\n",
      "v103 99.07717065683947\n",
      "v104 99.07717268411923\n",
      "v105 95.9672352496315\n",
      "v106 99.05777733247533\n",
      "v108 96.02505705379042\n",
      "v109 96.02505575323026\n",
      "v111 99.07714859763232\n",
      "v114 4.155258376173748\n",
      "v115 98.98935414800671\n",
      "v116 99.07492927863473\n",
      "v117 96.02418872602139\n",
      "v118 99.0644814787197\n",
      "v119 98.28167006620431\n",
      "v120 99.07492507640937\n",
      "v121 99.07126365395759\n",
      "v122 99.05228398633031\n",
      "v123 98.28253574244115\n",
      "v124 96.03330653149224\n",
      "v126 99.07718218918696\n",
      "v127 99.077187419384\n",
      "v128 96.0250948790744\n",
      "v129 3.218686097322825\n",
      "v130 99.06446796605488\n",
      "v131 98.98935498972875\n"
     ]
    }
   ],
   "source": [
    "# выделяем наиболее важные количественные признаки - те,\n",
    "# у которых сумма корреляций с остальными была наименьшей\n",
    "for col in corr.columns:\n",
    "    print(col, np.abs(corr[col]).sum(axis=0))"
   ]
  },
  {
   "cell_type": "code",
   "execution_count": 11,
   "metadata": {},
   "outputs": [],
   "source": [
    "# формируем список важных переменных на основе корреляций\n",
    "corr_select_cols = ['v10', 'v12', 'v14', 'v21', 'v34', 'v38', \n",
    "                    'v40', 'v50', 'v62', 'v72', 'v114', 'v129']"
   ]
  },
  {
   "cell_type": "code",
   "execution_count": 12,
   "metadata": {},
   "outputs": [
    {
     "data": {
      "text/plain": [
       "array([  2,  21,  23,  29,  30,  37,  46,  51,  55,  61,  65,  70,  71,\n",
       "        73,  74,  78,  90, 106, 109, 111, 112, 124, 128])"
      ]
     },
     "execution_count": 12,
     "metadata": {},
     "output_type": "execute_result"
    }
   ],
   "source": [
    "# формируем массив индексов категориальных признаков\n",
    "categorical_features_ind = np.where(X_train.dtypes != float)[0]\n",
    "categorical_features_ind"
   ]
  },
  {
   "cell_type": "code",
   "execution_count": 13,
   "metadata": {},
   "outputs": [
    {
     "data": {
      "image/png": "[encoded data removed]",
      "text/plain": [
       "<Figure size 576x972 with 1 Axes>"
      ]
     },
     "metadata": {
      "image/png": {
       "height": 965,
       "width": 568
      },
      "needs_background": "light"
     },
     "output_type": "display_data"
    }
   ],
   "source": [
    "# формируем обучающий пул\n",
    "train_pool = Pool(\n",
    "    X_train, \n",
    "    y_train, \n",
    "    cat_features=categorical_features_ind)\n",
    "# создаем экземпляр класса CatBoostClassifier\n",
    "clf = CatBoostClassifier(learning_rate=0.08, \n",
    "                         iterations=1200,\n",
    "                         random_strength=0.15,\n",
    "                         random_seed=0,\n",
    "                         model_size_reg=0.1,\n",
    "                         logging_level='Silent')\n",
    "# обучаем модель\n",
    "clf.fit(train_pool)\n",
    "# вычисляем важности по SHAP\n",
    "shap_values = clf.get_feature_importance(train_pool, 'ShapValues')\n",
    "shap_values = shap_values[:, :-1]\n",
    "# выводим график 30 наиболее важных признаков по SHAP\n",
    "shap.summary_plot(shap_values, X_train, plot_type='bar', max_display=30)"
   ]
  },
  {
   "cell_type": "code",
   "execution_count": 14,
   "metadata": {},
   "outputs": [],
   "source": [
    "# формируем список важных переменных на основе SHAP\n",
    "shap_select_cols = ['v66', 'v56', 'v22', 'v79', 'v52', 'v24', \n",
    "                    'v47', 'v113', 'v74', 'v31', 'v110', 'v30']"
   ]
  },
  {
   "cell_type": "code",
   "execution_count": 15,
   "metadata": {
    "scrolled": true
   },
   "outputs": [],
   "source": [
    "# объединяем два созданных списка в один\n",
    "select_cols = corr_select_cols + shap_select_cols"
   ]
  },
  {
   "cell_type": "code",
   "execution_count": 16,
   "metadata": {},
   "outputs": [],
   "source": [
    "# загружаем наборы\n",
    "train = pd.read_csv('Data/paribas_train.csv')\n",
    "test = pd.read_csv('Data/paribas_test.csv')\n",
    "\n",
    "# формируем массив меток и массив признаков\n",
    "labels = train.pop('target')\n",
    "\n",
    "# сохраняем ID набора новых данных\n",
    "test_id = test['ID']\n",
    "\n",
    "# удаляем ID\n",
    "train.drop('ID', axis=1, inplace=True)\n",
    "test.drop('ID', axis=1, inplace=True)\n",
    "\n",
    "# импутируем пропуски\n",
    "train.fillna(-9999, inplace=True)\n",
    "test.fillna(-9999, inplace=True)\n",
    "\n",
    "# формируем новые массивы признаков\n",
    "train = train[select_cols]\n",
    "test = test[select_cols]\n",
    "\n",
    "# добавляем парные взаимодействия на основе признаков \n",
    "# со строковыми и целочисленными значениями, \n",
    "# являющихся наиболее важными по SHAP\n",
    "train['v129 + v66'] = train.apply(\n",
    "    lambda x: f\"{x['v129']} + {x['v66']}\",\n",
    "    axis=1)\n",
    "\n",
    "train['v66 + v56'] = train.apply(\n",
    "    lambda x: f\"{x['v66']} + {x['v56']}\",\n",
    "    axis=1)\n",
    "\n",
    "train['v56 + v22'] = train.apply(\n",
    "    lambda x: f\"{x['v56']} + {x['v22']}\",\n",
    "    axis=1)\n",
    "\n",
    "train['v22 + v79'] = train.apply(\n",
    "    lambda x: f\"{x['v22']} + {x['v79']}\",\n",
    "    axis=1)\n",
    "\n",
    "train['v79 + v52'] = train.apply(\n",
    "    lambda x: f\"{x['v79']} + {x['v52']}\",\n",
    "    axis=1)\n",
    "\n",
    "train['v52 + v24'] = train.apply(\n",
    "    lambda x: f\"{x['v52']} + {x['v24']}\",\n",
    "    axis=1)\n",
    "\n",
    "train['v24 + v47'] = train.apply(\n",
    "    lambda x: f\"{x['v24']} + {x['v47']}\",\n",
    "    axis=1)\n",
    "\n",
    "train['v66 + v72'] = train.apply(\n",
    "    lambda x: f\"{x['v66']} + {x['v72']}\",\n",
    "    axis=1)\n",
    "\n",
    "test['v129 + v66'] = test.apply(\n",
    "    lambda x: f\"{x['v129']} + {x['v66']}\",\n",
    "    axis=1)\n",
    "\n",
    "test['v66 + v56'] = test.apply(\n",
    "    lambda x: f\"{x['v66']} + {x['v56']}\",\n",
    "    axis=1)\n",
    "\n",
    "test['v56 + v22'] = test.apply(\n",
    "    lambda x: f\"{x['v56']} + {x['v22']}\",\n",
    "    axis=1)\n",
    "\n",
    "test['v22 + v79'] = test.apply(\n",
    "    lambda x: f\"{x['v22']} + {x['v79']}\",\n",
    "    axis=1)\n",
    "\n",
    "test['v79 + v52'] = test.apply(\n",
    "    lambda x: f\"{x['v79']} + {x['v52']}\",\n",
    "    axis=1)\n",
    "\n",
    "test['v52 + v24'] = test.apply(\n",
    "    lambda x: f\"{x['v52']} + {x['v24']}\",\n",
    "    axis=1)\n",
    "\n",
    "test['v24 + v47'] = test.apply(\n",
    "    lambda x: f\"{x['v24']} + {x['v47']}\",\n",
    "    axis=1)\n",
    "\n",
    "test['v66 + v72'] = test.apply(\n",
    "    lambda x: f\"{x['v66']} + {x['v72']}\",\n",
    "    axis=1)\n",
    "\n",
    "# формируем массив индексов категориальных признаков\n",
    "cat_features_ids = np.where(train.dtypes != float)[0]\n",
    "\n",
    "# формируем обучающий пул\n",
    "train_pool = Pool(train, labels, cat_features=cat_features_ids)\n",
    "\n",
    "# создаем экземпляр класса CatBoostClassifier\n",
    "clf_full = CatBoostClassifier(learning_rate=0.06, \n",
    "                              iterations=1600,\n",
    "                              random_strength=0.15,\n",
    "                              model_size_reg=0.1,\n",
    "                              random_seed=0,\n",
    "                              logging_level='Silent')\n",
    "\n",
    "# обучаем модель\n",
    "clf_full.fit(train_pool)\n",
    "\n",
    "# вычисляем вероятности\n",
    "proba = clf_full.predict_proba(test)[:, 1]\n",
    "\n",
    "# формируем посылку для Kaggle (10-е место на привате)\n",
    "pd.DataFrame({'ID': test_id, 'PredictedProb': proba}).to_csv(\n",
    "    'subm_paribas.csv', index=False)"
   ]
  }
 ],
 "metadata": {
  "kernelspec": {
   "display_name": "Python 3 (ipykernel)",
   "language": "python",
   "name": "python3"
  },
  "language_info": {
   "codemirror_mode": {
    "name": "ipython",
    "version": 3
   },
   "file_extension": ".py",
   "mimetype": "text/x-python",
   "name": "python",
   "nbconvert_exporter": "python",
   "pygments_lexer": "ipython3",
   "version": "3.9.12"
  },
  "widgets": {
   "application/vnd.jupyter.widget-state+json": {
    "state": {
     "189118129f7c45af906491affa266314": {
      "model_module": "@jupyter-widgets/base",
      "model_module_version": "1.2.0",
      "model_name": "LayoutModel",
      "state": {
       "align_self": "stretch",
       "height": "500px"
      }
     },
     "1e4faa387a12429b85aa7c2b03a798f2": {
      "model_module": "@jupyter-widgets/base",
      "model_module_version": "1.2.0",
      "model_name": "DOMWidgetModel",
      "state": {
       "_model_name": "DOMWidgetModel",
       "_view_module": "catboost_module",
       "_view_module_version": "",
       "_view_name": "CatboostIpythonWidgetView",
       "data": {
        "catboost_info": {
         "content": {
          "data": {
           "iterations": [
            {
             "fold_0_learn": [
              0.9199438202,
              0.2506123062
             ],
             "fold_0_test": [
              0.8659217877,
              0.3467154128
             ],
             "fold_1_learn": [
              0.933988764,
              0.2278520904
             ],
             "fold_1_test": [
              0.782122905,
              0.4759622742
             ],
             "fold_2_learn": [
              0.9214586255,
              0.2436275289
             ],
             "fold_2_test": [
              0.8370786517,
              0.4080491643
             ],
             "fold_3_learn": [
              0.9088359046,
              0.2524890871
             ],
             "fold_3_test": [
              0.8314606742,
              0.3735749458
             ],
             "fold_4_learn": [
              0.9243697479,
              0.2438850156
             ],
             "fold_4_test": [
              0.8079096045,
              0.4119022314
             ],
             "iteration": 0,
             "parameters": [
              {
               "depth": 4,
               "learning_rate": 0.03
              }
             ],
             "passed_time": 20.2658842,
             "remaining_time": 101.329421
            },
            {
             "fold_0_learn": [
              0.981741573,
              0.1068024351
             ],
             "fold_0_test": [
              0.8715083799,
              0.3675997178
             ],
             "fold_1_learn": [
              0.9775280899,
              0.09982573424
             ],
             "fold_1_test": [
              0.7765363128,
              0.5625177571
             ],
             "fold_2_learn": [
              0.9775596073,
              0.1028135829
             ],
             "fold_2_test": [
              0.7921348315,
              0.5162849231
             ],
             "fold_3_learn": [
              0.9733520337,
              0.1183101929
             ],
             "fold_3_test": [
              0.8146067416,
              0.4007256153
             ],
             "fold_4_learn": [
              0.9775910364,
              0.120649394
             ],
             "fold_4_test": [
              0.8361581921,
              0.4281950503
             ],
             "iteration": 1,
             "parameters": [
              {
               "depth": 4,
               "learning_rate": 0.1
              }
             ],
             "passed_time": 42.40588553,
             "remaining_time": 84.81177106
            },
            {
             "fold_0_learn": [
              0.9662921348,
              0.1505994174
             ],
             "fold_0_test": [
              0.8659217877,
              0.3401369477
             ],
             "fold_1_learn": [
              0.970505618,
              0.137870666
             ],
             "fold_1_test": [
              0.7765363128,
              0.4851731642
             ],
             "fold_2_learn": [
              0.9635343619,
              0.1547346193
             ],
             "fold_2_test": [
              0.8202247191,
              0.4353291363
             ],
             "fold_3_learn": [
              0.9565217391,
              0.1714478046
             ],
             "fold_3_test": [
              0.8202247191,
              0.3862461495
             ],
             "fold_4_learn": [
              0.9607843137,
              0.1583653772
             ],
             "fold_4_test": [
              0.8192090395,
              0.409244664
             ],
             "iteration": 2,
             "parameters": [
              {
               "depth": 6,
               "learning_rate": 0.03
              }
             ],
             "passed_time": 71.4835453,
             "remaining_time": 71.4835453
            },
            {
             "fold_0_learn": [
              0.9971910112,
              0.04599151877
             ],
             "fold_0_test": [
              0.8770949721,
              0.3599914593
             ],
             "fold_1_learn": [
              1,
              0.03774245517
             ],
             "fold_1_test": [
              0.782122905,
              0.6173236116
             ],
             "fold_2_learn": [
              0.9971949509,
              0.04467143208
             ],
             "fold_2_test": [
              0.7865168539,
              0.5624569913
             ],
             "fold_3_learn": [
              0.9943899018,
              0.05327817967
             ],
             "fold_3_test": [
              0.8202247191,
              0.4335350724
             ],
             "fold_4_learn": [
              0.9985994398,
              0.04323607862
             ],
             "fold_4_test": [
              0.8192090395,
              0.4934424204
             ],
             "iteration": 3,
             "parameters": [
              {
               "depth": 6,
               "learning_rate": 0.1
              }
             ],
             "passed_time": 99.65211409,
             "remaining_time": 49.82605705
            },
            {
             "fold_0_learn": [
              0.9901685393,
              0.08765408473
             ],
             "fold_0_test": [
              0.8659217877,
              0.3520343759
             ],
             "fold_1_learn": [
              0.9873595506,
              0.07588309102
             ],
             "fold_1_test": [
              0.7877094972,
              0.5188155558
             ],
             "fold_2_learn": [
              0.9859747546,
              0.08736621041
             ],
             "fold_2_test": [
              0.8146067416,
              0.4633675228
             ],
             "fold_3_learn": [
              0.9817671809,
              0.1000479502
             ],
             "fold_3_test": [
              0.8314606742,
              0.4085748271
             ],
             "fold_4_learn": [
              0.9859943978,
              0.0912543305
             ],
             "fold_4_test": [
              0.8248587571,
              0.4138086155
             ],
             "iteration": 4,
             "parameters": [
              {
               "depth": 8,
               "learning_rate": 0.03
              }
             ],
             "passed_time": 152.6400537,
             "remaining_time": 30.52801074
            },
            {
             "fold_0_learn": [
              1,
              0.02153298491
             ],
             "fold_0_test": [
              0.8659217877,
              0.3639666782
             ],
             "fold_1_learn": [
              1,
              0.02059643555
             ],
             "fold_1_test": [
              0.7597765363,
              0.6295050683
             ],
             "fold_2_learn": [
              1,
              0.0202493134
             ],
             "fold_2_test": [
              0.8033707865,
              0.5758829791
             ],
             "fold_3_learn": [
              1,
              0.02668865823
             ],
             "fold_3_test": [
              0.8314606742,
              0.47906923
             ],
             "fold_4_learn": [
              1,
              0.02237403668
             ],
             "fold_4_test": [
              0.813559322,
              0.5179012237
             ],
             "iteration": 5,
             "parameters": [
              {
               "depth": 8,
               "learning_rate": 0.1
              }
             ],
             "passed_time": 205.9113803,
             "remaining_time": 0
            }
           ],
           "meta": {
            "iteration_count": 6,
            "launch_mode": "CV",
            "learn_metrics": [
             {
              "best_value": "Max",
              "name": "Accuracy"
             },
             {
              "best_value": "Min",
              "name": "Logloss"
             }
            ],
            "learn_sets": [
             "fold_0_learn",
             "fold_1_learn",
             "fold_2_learn",
             "fold_3_learn",
             "fold_4_learn"
            ],
            "name": "experiment",
            "parameters": "parameters",
            "test_metrics": [
             {
              "best_value": "Max",
              "name": "Accuracy"
             },
             {
              "best_value": "Min",
              "name": "Logloss"
             }
            ],
            "test_sets": [
             "fold_0_test",
             "fold_1_test",
             "fold_2_test",
             "fold_3_test",
             "fold_4_test"
            ]
           }
          },
          "passed_iterations": 5,
          "total_iterations": 6
         },
         "name": "catboost_info",
         "path": "catboost_info"
        }
       },
       "layout": "IPY_MODEL_6a283b4ab9114bbf9042ced63d1d9732"
      }
     },
     "582158fc95794765ab81f130d2cae279": {
      "model_module": "@jupyter-widgets/base",
      "model_module_version": "1.2.0",
      "model_name": "DOMWidgetModel",
      "state": {
       "_model_name": "DOMWidgetModel",
       "_view_module": "catboost_module",
       "_view_module_version": "",
       "_view_name": "CatboostIpythonWidgetView",
       "data": {
        "catboost_info": {
         "content": {
          "data": {
           "iterations": [
            {
             "fold_0_learn": [
              0.9199438202,
              0.2506123062
             ],
             "fold_0_test": [
              0.8659217877,
              0.3467154128
             ],
             "fold_1_learn": [
              0.933988764,
              0.2278520904
             ],
             "fold_1_test": [
              0.782122905,
              0.4759622742
             ],
             "fold_2_learn": [
              0.9214586255,
              0.2436275289
             ],
             "fold_2_test": [
              0.8370786517,
              0.4080491643
             ],
             "fold_3_learn": [
              0.9088359046,
              0.2524890871
             ],
             "fold_3_test": [
              0.8314606742,
              0.3735749458
             ],
             "fold_4_learn": [
              0.9243697479,
              0.2438850156
             ],
             "fold_4_test": [
              0.8079096045,
              0.4119022314
             ],
             "iteration": 0,
             "parameters": [
              {
               "depth": 4,
               "learning_rate": 0.03
              }
             ],
             "passed_time": 19.74882296,
             "remaining_time": 98.7441148
            },
            {
             "fold_0_learn": [
              0.981741573,
              0.1068024351
             ],
             "fold_0_test": [
              0.8715083799,
              0.3675997178
             ],
             "fold_1_learn": [
              0.9775280899,
              0.09982573424
             ],
             "fold_1_test": [
              0.7765363128,
              0.5625177571
             ],
             "fold_2_learn": [
              0.9775596073,
              0.1028135829
             ],
             "fold_2_test": [
              0.7921348315,
              0.5162849231
             ],
             "fold_3_learn": [
              0.9733520337,
              0.1183101929
             ],
             "fold_3_test": [
              0.8146067416,
              0.4007256153
             ],
             "fold_4_learn": [
              0.9775910364,
              0.120649394
             ],
             "fold_4_test": [
              0.8361581921,
              0.4281950503
             ],
             "iteration": 1,
             "parameters": [
              {
               "depth": 4,
               "learning_rate": 0.1
              }
             ],
             "passed_time": 40.84268179,
             "remaining_time": 81.68536358
            },
            {
             "fold_0_learn": [
              0.9662921348,
              0.1505994174
             ],
             "fold_0_test": [
              0.8659217877,
              0.3401369477
             ],
             "fold_1_learn": [
              0.970505618,
              0.137870666
             ],
             "fold_1_test": [
              0.7765363128,
              0.4851731642
             ],
             "fold_2_learn": [
              0.9635343619,
              0.1547346193
             ],
             "fold_2_test": [
              0.8202247191,
              0.4353291363
             ],
             "fold_3_learn": [
              0.9565217391,
              0.1714478046
             ],
             "fold_3_test": [
              0.8202247191,
              0.3862461495
             ],
             "fold_4_learn": [
              0.9607843137,
              0.1583653772
             ],
             "fold_4_test": [
              0.8192090395,
              0.409244664
             ],
             "iteration": 2,
             "parameters": [
              {
               "depth": 6,
               "learning_rate": 0.03
              }
             ],
             "passed_time": 68.39316037,
             "remaining_time": 68.39316037
            },
            {
             "fold_0_learn": [
              0.9971910112,
              0.04599151877
             ],
             "fold_0_test": [
              0.8770949721,
              0.3599914593
             ],
             "fold_1_learn": [
              1,
              0.03774245517
             ],
             "fold_1_test": [
              0.782122905,
              0.6173236116
             ],
             "fold_2_learn": [
              0.9971949509,
              0.04467143208
             ],
             "fold_2_test": [
              0.7865168539,
              0.5624569913
             ],
             "fold_3_learn": [
              0.9943899018,
              0.05327817967
             ],
             "fold_3_test": [
              0.8202247191,
              0.4335350724
             ],
             "fold_4_learn": [
              0.9985994398,
              0.04323607862
             ],
             "fold_4_test": [
              0.8192090395,
              0.4934424204
             ],
             "iteration": 3,
             "parameters": [
              {
               "depth": 6,
               "learning_rate": 0.1
              }
             ],
             "passed_time": 96.96545325,
             "remaining_time": 48.48272662
            },
            {
             "fold_0_learn": [
              0.9901685393,
              0.08765408473
             ],
             "fold_0_test": [
              0.8659217877,
              0.3520343759
             ],
             "fold_1_learn": [
              0.9873595506,
              0.07588309102
             ],
             "fold_1_test": [
              0.7877094972,
              0.5188155558
             ],
             "fold_2_learn": [
              0.9859747546,
              0.08736621041
             ],
             "fold_2_test": [
              0.8146067416,
              0.4633675228
             ],
             "fold_3_learn": [
              0.9817671809,
              0.1000479502
             ],
             "fold_3_test": [
              0.8314606742,
              0.4085748271
             ],
             "fold_4_learn": [
              0.9859943978,
              0.0912543305
             ],
             "fold_4_test": [
              0.8248587571,
              0.4138086155
             ],
             "iteration": 4,
             "parameters": [
              {
               "depth": 8,
               "learning_rate": 0.03
              }
             ],
             "passed_time": 153.5389512,
             "remaining_time": 30.70779023
            },
            {
             "fold_0_learn": [
              1,
              0.02153298491
             ],
             "fold_0_test": [
              0.8659217877,
              0.3639666782
             ],
             "fold_1_learn": [
              1,
              0.02059643555
             ],
             "fold_1_test": [
              0.7597765363,
              0.6295050683
             ],
             "fold_2_learn": [
              1,
              0.0202493134
             ],
             "fold_2_test": [
              0.8033707865,
              0.5758829791
             ],
             "fold_3_learn": [
              1,
              0.02668865823
             ],
             "fold_3_test": [
              0.8314606742,
              0.47906923
             ],
             "fold_4_learn": [
              1,
              0.02237403668
             ],
             "fold_4_test": [
              0.813559322,
              0.5179012237
             ],
             "iteration": 5,
             "parameters": [
              {
               "depth": 8,
               "learning_rate": 0.1
              }
             ],
             "passed_time": 209.2457428,
             "remaining_time": 0
            }
           ],
           "meta": {
            "iteration_count": 6,
            "launch_mode": "CV",
            "learn_metrics": [
             {
              "best_value": "Max",
              "name": "Accuracy"
             },
             {
              "best_value": "Min",
              "name": "Logloss"
             }
            ],
            "learn_sets": [
             "fold_0_learn",
             "fold_1_learn",
             "fold_2_learn",
             "fold_3_learn",
             "fold_4_learn"
            ],
            "name": "experiment",
            "parameters": "parameters",
            "test_metrics": [
             {
              "best_value": "Max",
              "name": "Accuracy"
             },
             {
              "best_value": "Min",
              "name": "Logloss"
             }
            ],
            "test_sets": [
             "fold_0_test",
             "fold_1_test",
             "fold_2_test",
             "fold_3_test",
             "fold_4_test"
            ]
           }
          },
          "passed_iterations": 5,
          "total_iterations": 6
         },
         "name": "catboost_info",
         "path": "catboost_info"
        }
       },
       "layout": "IPY_MODEL_5e87550962ea47029bfcadb2ac880ff2"
      }
     },
     "5e87550962ea47029bfcadb2ac880ff2": {
      "model_module": "@jupyter-widgets/base",
      "model_module_version": "1.2.0",
      "model_name": "LayoutModel",
      "state": {
       "align_self": "stretch",
       "height": "500px"
      }
     },
     "692603d3bb1341a1afd38044f983a937": {
      "model_module": "@jupyter-widgets/base",
      "model_module_version": "1.2.0",
      "model_name": "DOMWidgetModel",
      "state": {
       "_model_name": "DOMWidgetModel",
       "_view_module": "catboost_module",
       "_view_module_version": "",
       "_view_name": "CatboostIpythonWidgetView",
       "data": {
        "catboost_info": {
         "content": {
          "data": {
           "iterations": [],
           "meta": {}
          },
          "passed_iterations": 0,
          "total_iterations": 0
         },
         "name": "catboost_info",
         "path": "catboost_info"
        }
       },
       "layout": "IPY_MODEL_9bb1b36fd26943e88bb4e837ac65cb3b"
      }
     },
     "6a283b4ab9114bbf9042ced63d1d9732": {
      "model_module": "@jupyter-widgets/base",
      "model_module_version": "1.2.0",
      "model_name": "LayoutModel",
      "state": {
       "align_self": "stretch",
       "height": "500px"
      }
     },
     "8b31b8f1d7af4b04abc12469a779e58a": {
      "model_module": "@jupyter-widgets/base",
      "model_module_version": "1.2.0",
      "model_name": "LayoutModel",
      "state": {
       "align_self": "stretch",
       "height": "500px"
      }
     },
     "9bb1b36fd26943e88bb4e837ac65cb3b": {
      "model_module": "@jupyter-widgets/base",
      "model_module_version": "1.2.0",
      "model_name": "LayoutModel",
      "state": {
       "align_self": "stretch",
       "height": "500px"
      }
     },
     "caa30afe7b724a838258413ad272f5a0": {
      "model_module": "@jupyter-widgets/base",
      "model_module_version": "1.2.0",
      "model_name": "DOMWidgetModel",
      "state": {
       "_model_name": "DOMWidgetModel",
       "_view_module": "catboost_module",
       "_view_module_version": "",
       "_view_name": "CatboostIpythonWidgetView",
       "data": {
        "catboost_info": {
         "content": {
          "data": {
           "iterations": [
            {
             "fold_0_learn": [
              0.9199438202,
              0.2506123062
             ],
             "fold_0_test": [
              0.8659217877,
              0.3467154128
             ],
             "fold_1_learn": [
              0.933988764,
              0.2278520904
             ],
             "fold_1_test": [
              0.782122905,
              0.4759622742
             ],
             "fold_2_learn": [
              0.9214586255,
              0.2436275289
             ],
             "fold_2_test": [
              0.8370786517,
              0.4080491643
             ],
             "fold_3_learn": [
              0.9088359046,
              0.2524890871
             ],
             "fold_3_test": [
              0.8314606742,
              0.3735749458
             ],
             "fold_4_learn": [
              0.9243697479,
              0.2438850156
             ],
             "fold_4_test": [
              0.8079096045,
              0.4119022314
             ],
             "iteration": 0,
             "parameters": [
              {
               "depth": 4,
               "learning_rate": 0.03
              }
             ],
             "passed_time": 19.66095803,
             "remaining_time": 98.30479014
            },
            {
             "fold_0_learn": [
              0.981741573,
              0.1068024351
             ],
             "fold_0_test": [
              0.8715083799,
              0.3675997178
             ],
             "fold_1_learn": [
              0.9775280899,
              0.09982573424
             ],
             "fold_1_test": [
              0.7765363128,
              0.5625177571
             ],
             "fold_2_learn": [
              0.9775596073,
              0.1028135829
             ],
             "fold_2_test": [
              0.7921348315,
              0.5162849231
             ],
             "fold_3_learn": [
              0.9733520337,
              0.1183101929
             ],
             "fold_3_test": [
              0.8146067416,
              0.4007256153
             ],
             "fold_4_learn": [
              0.9775910364,
              0.120649394
             ],
             "fold_4_test": [
              0.8361581921,
              0.4281950503
             ],
             "iteration": 1,
             "parameters": [
              {
               "depth": 4,
               "learning_rate": 0.1
              }
             ],
             "passed_time": 42.15111296,
             "remaining_time": 84.30222592
            },
            {
             "fold_0_learn": [
              0.9662921348,
              0.1505994174
             ],
             "fold_0_test": [
              0.8659217877,
              0.3401369477
             ],
             "fold_1_learn": [
              0.970505618,
              0.137870666
             ],
             "fold_1_test": [
              0.7765363128,
              0.4851731642
             ],
             "fold_2_learn": [
              0.9635343619,
              0.1547346193
             ],
             "fold_2_test": [
              0.8202247191,
              0.4353291363
             ],
             "fold_3_learn": [
              0.9565217391,
              0.1714478046
             ],
             "fold_3_test": [
              0.8202247191,
              0.3862461495
             ],
             "fold_4_learn": [
              0.9607843137,
              0.1583653772
             ],
             "fold_4_test": [
              0.8192090395,
              0.409244664
             ],
             "iteration": 2,
             "parameters": [
              {
               "depth": 6,
               "learning_rate": 0.03
              }
             ],
             "passed_time": 71.94868166,
             "remaining_time": 71.94868166
            },
            {
             "fold_0_learn": [
              0.9971910112,
              0.04599151877
             ],
             "fold_0_test": [
              0.8770949721,
              0.3599914593
             ],
             "fold_1_learn": [
              1,
              0.03774245517
             ],
             "fold_1_test": [
              0.782122905,
              0.6173236116
             ],
             "fold_2_learn": [
              0.9971949509,
              0.04467143208
             ],
             "fold_2_test": [
              0.7865168539,
              0.5624569913
             ],
             "fold_3_learn": [
              0.9943899018,
              0.05327817967
             ],
             "fold_3_test": [
              0.8202247191,
              0.4335350724
             ],
             "fold_4_learn": [
              0.9985994398,
              0.04323607862
             ],
             "fold_4_test": [
              0.8192090395,
              0.4934424204
             ],
             "iteration": 3,
             "parameters": [
              {
               "depth": 6,
               "learning_rate": 0.1
              }
             ],
             "passed_time": 103.8113792,
             "remaining_time": 51.90568961
            },
            {
             "fold_0_learn": [
              0.9901685393,
              0.08765408473
             ],
             "fold_0_test": [
              0.8659217877,
              0.3520343759
             ],
             "fold_1_learn": [
              0.9873595506,
              0.07588309102
             ],
             "fold_1_test": [
              0.7877094972,
              0.5188155558
             ],
             "fold_2_learn": [
              0.9859747546,
              0.08736621041
             ],
             "fold_2_test": [
              0.8146067416,
              0.4633675228
             ],
             "fold_3_learn": [
              0.9817671809,
              0.1000479502
             ],
             "fold_3_test": [
              0.8314606742,
              0.4085748271
             ],
             "fold_4_learn": [
              0.9859943978,
              0.0912543305
             ],
             "fold_4_test": [
              0.8248587571,
              0.4138086155
             ],
             "iteration": 4,
             "parameters": [
              {
               "depth": 8,
               "learning_rate": 0.03
              }
             ],
             "passed_time": 164.9598974,
             "remaining_time": 32.99197948
            },
            {
             "fold_0_learn": [
              1,
              0.02153298491
             ],
             "fold_0_test": [
              0.8659217877,
              0.3639666782
             ],
             "fold_1_learn": [
              1,
              0.02059643555
             ],
             "fold_1_test": [
              0.7597765363,
              0.6295050683
             ],
             "fold_2_learn": [
              1,
              0.0202493134
             ],
             "fold_2_test": [
              0.8033707865,
              0.5758829791
             ],
             "fold_3_learn": [
              1,
              0.02668865823
             ],
             "fold_3_test": [
              0.8314606742,
              0.47906923
             ],
             "fold_4_learn": [
              1,
              0.02237403668
             ],
             "fold_4_test": [
              0.813559322,
              0.5179012237
             ],
             "iteration": 5,
             "parameters": [
              {
               "depth": 8,
               "learning_rate": 0.1
              }
             ],
             "passed_time": 223.7946954,
             "remaining_time": 0
            }
           ],
           "meta": {
            "iteration_count": 6,
            "launch_mode": "CV",
            "learn_metrics": [
             {
              "best_value": "Max",
              "name": "Accuracy"
             },
             {
              "best_value": "Min",
              "name": "Logloss"
             }
            ],
            "learn_sets": [
             "fold_0_learn",
             "fold_1_learn",
             "fold_2_learn",
             "fold_3_learn",
             "fold_4_learn"
            ],
            "name": "experiment",
            "parameters": "parameters",
            "test_metrics": [
             {
              "best_value": "Max",
              "name": "Accuracy"
             },
             {
              "best_value": "Min",
              "name": "Logloss"
             }
            ],
            "test_sets": [
             "fold_0_test",
             "fold_1_test",
             "fold_2_test",
             "fold_3_test",
             "fold_4_test"
            ]
           }
          },
          "passed_iterations": 5,
          "total_iterations": 6
         },
         "name": "catboost_info",
         "path": "catboost_info"
        }
       },
       "layout": "IPY_MODEL_8b31b8f1d7af4b04abc12469a779e58a"
      }
     },
     "ea33a665b1fa431db1f5a30e9f3b0c2c": {
      "model_module": "@jupyter-widgets/base",
      "model_module_version": "1.2.0",
      "model_name": "DOMWidgetModel",
      "state": {
       "_model_name": "DOMWidgetModel",
       "_view_module": "catboost_module",
       "_view_module_version": "",
       "_view_name": "CatboostIpythonWidgetView",
       "data": {
        "catboost_info": {
         "content": {
          "data": {
           "iterations": [
            {
             "fold_0_learn": [
              0.9199438202,
              0.2506123062
             ],
             "fold_0_test": [
              0.8659217877,
              0.3467154128
             ],
             "fold_1_learn": [
              0.933988764,
              0.2278520904
             ],
             "fold_1_test": [
              0.782122905,
              0.4759622742
             ],
             "fold_2_learn": [
              0.9214586255,
              0.2436275289
             ],
             "fold_2_test": [
              0.8370786517,
              0.4080491643
             ],
             "fold_3_learn": [
              0.9088359046,
              0.2524890871
             ],
             "fold_3_test": [
              0.8314606742,
              0.3735749458
             ],
             "fold_4_learn": [
              0.9243697479,
              0.2438850156
             ],
             "fold_4_test": [
              0.8079096045,
              0.4119022314
             ],
             "iteration": 0,
             "parameters": [
              {
               "depth": 4,
               "learning_rate": 0.03
              }
             ],
             "passed_time": 20.04495485,
             "remaining_time": 100.2247742
            },
            {
             "fold_0_learn": [
              0.981741573,
              0.1068024351
             ],
             "fold_0_test": [
              0.8715083799,
              0.3675997178
             ],
             "fold_1_learn": [
              0.9775280899,
              0.09982573424
             ],
             "fold_1_test": [
              0.7765363128,
              0.5625177571
             ],
             "fold_2_learn": [
              0.9775596073,
              0.1028135829
             ],
             "fold_2_test": [
              0.7921348315,
              0.5162849231
             ],
             "fold_3_learn": [
              0.9733520337,
              0.1183101929
             ],
             "fold_3_test": [
              0.8146067416,
              0.4007256153
             ],
             "fold_4_learn": [
              0.9775910364,
              0.120649394
             ],
             "fold_4_test": [
              0.8361581921,
              0.4281950503
             ],
             "iteration": 1,
             "parameters": [
              {
               "depth": 4,
               "learning_rate": 0.1
              }
             ],
             "passed_time": 41.27846042,
             "remaining_time": 82.55692084
            },
            {
             "fold_0_learn": [
              0.9662921348,
              0.1505994174
             ],
             "fold_0_test": [
              0.8659217877,
              0.3401369477
             ],
             "fold_1_learn": [
              0.970505618,
              0.137870666
             ],
             "fold_1_test": [
              0.7765363128,
              0.4851731642
             ],
             "fold_2_learn": [
              0.9635343619,
              0.1547346193
             ],
             "fold_2_test": [
              0.8202247191,
              0.4353291363
             ],
             "fold_3_learn": [
              0.9565217391,
              0.1714478046
             ],
             "fold_3_test": [
              0.8202247191,
              0.3862461495
             ],
             "fold_4_learn": [
              0.9607843137,
              0.1583653772
             ],
             "fold_4_test": [
              0.8192090395,
              0.409244664
             ],
             "iteration": 2,
             "parameters": [
              {
               "depth": 6,
               "learning_rate": 0.03
              }
             ],
             "passed_time": 69.59673318,
             "remaining_time": 69.59673318
            },
            {
             "fold_0_learn": [
              0.9971910112,
              0.04599151877
             ],
             "fold_0_test": [
              0.8770949721,
              0.3599914593
             ],
             "fold_1_learn": [
              1,
              0.03774245517
             ],
             "fold_1_test": [
              0.782122905,
              0.6173236116
             ],
             "fold_2_learn": [
              0.9971949509,
              0.04467143208
             ],
             "fold_2_test": [
              0.7865168539,
              0.5624569913
             ],
             "fold_3_learn": [
              0.9943899018,
              0.05327817967
             ],
             "fold_3_test": [
              0.8202247191,
              0.4335350724
             ],
             "fold_4_learn": [
              0.9985994398,
              0.04323607862
             ],
             "fold_4_test": [
              0.8192090395,
              0.4934424204
             ],
             "iteration": 3,
             "parameters": [
              {
               "depth": 6,
               "learning_rate": 0.1
              }
             ],
             "passed_time": 100.2507512,
             "remaining_time": 50.12537562
            },
            {
             "fold_0_learn": [
              0.9901685393,
              0.08765408473
             ],
             "fold_0_test": [
              0.8659217877,
              0.3520343759
             ],
             "fold_1_learn": [
              0.9873595506,
              0.07588309102
             ],
             "fold_1_test": [
              0.7877094972,
              0.5188155558
             ],
             "fold_2_learn": [
              0.9859747546,
              0.08736621041
             ],
             "fold_2_test": [
              0.8146067416,
              0.4633675228
             ],
             "fold_3_learn": [
              0.9817671809,
              0.1000479502
             ],
             "fold_3_test": [
              0.8314606742,
              0.4085748271
             ],
             "fold_4_learn": [
              0.9859943978,
              0.0912543305
             ],
             "fold_4_test": [
              0.8248587571,
              0.4138086155
             ],
             "iteration": 4,
             "parameters": [
              {
               "depth": 8,
               "learning_rate": 0.03
              }
             ],
             "passed_time": 155.1218344,
             "remaining_time": 31.02436688
            },
            {
             "fold_0_learn": [
              1,
              0.02153298491
             ],
             "fold_0_test": [
              0.8659217877,
              0.3639666782
             ],
             "fold_1_learn": [
              1,
              0.02059643555
             ],
             "fold_1_test": [
              0.7597765363,
              0.6295050683
             ],
             "fold_2_learn": [
              1,
              0.0202493134
             ],
             "fold_2_test": [
              0.8033707865,
              0.5758829791
             ],
             "fold_3_learn": [
              1,
              0.02668865823
             ],
             "fold_3_test": [
              0.8314606742,
              0.47906923
             ],
             "fold_4_learn": [
              1,
              0.02237403668
             ],
             "fold_4_test": [
              0.813559322,
              0.5179012237
             ],
             "iteration": 5,
             "parameters": [
              {
               "depth": 8,
               "learning_rate": 0.1
              }
             ],
             "passed_time": 209.4153639,
             "remaining_time": 0
            }
           ],
           "meta": {
            "iteration_count": 6,
            "launch_mode": "CV",
            "learn_metrics": [
             {
              "best_value": "Max",
              "name": "Accuracy"
             },
             {
              "best_value": "Min",
              "name": "Logloss"
             }
            ],
            "learn_sets": [
             "fold_0_learn",
             "fold_1_learn",
             "fold_2_learn",
             "fold_3_learn",
             "fold_4_learn"
            ],
            "name": "experiment",
            "parameters": "parameters",
            "test_metrics": [
             {
              "best_value": "Max",
              "name": "Accuracy"
             },
             {
              "best_value": "Min",
              "name": "Logloss"
             }
            ],
            "test_sets": [
             "fold_0_test",
             "fold_1_test",
             "fold_2_test",
             "fold_3_test",
             "fold_4_test"
            ]
           }
          },
          "passed_iterations": 5,
          "total_iterations": 6
         },
         "name": "catboost_info",
         "path": "catboost_info"
        }
       },
       "layout": "IPY_MODEL_f74ca39a4f4b4232a3e7a95b596316b8"
      }
     },
     "eec2ef8dbc894029a9476d7d73d8b8a0": {
      "model_module": "@jupyter-widgets/base",
      "model_module_version": "1.2.0",
      "model_name": "DOMWidgetModel",
      "state": {
       "_model_name": "DOMWidgetModel",
       "_view_module": "catboost_module",
       "_view_module_version": "",
       "_view_name": "CatboostIpythonWidgetView",
       "data": {
        "catboost_info": {
         "content": {
          "data": {
           "iterations": [
            {
             "fold_0_learn": [
              0.9199438202,
              0.2506123062
             ],
             "fold_0_test": [
              0.8659217877,
              0.3467154128
             ],
             "fold_1_learn": [
              0.933988764,
              0.2278520904
             ],
             "fold_1_test": [
              0.782122905,
              0.4759622742
             ],
             "fold_2_learn": [
              0.9214586255,
              0.2436275289
             ],
             "fold_2_test": [
              0.8370786517,
              0.4080491643
             ],
             "fold_3_learn": [
              0.9088359046,
              0.2524890871
             ],
             "fold_3_test": [
              0.8314606742,
              0.3735749458
             ],
             "fold_4_learn": [
              0.9243697479,
              0.2438850156
             ],
             "fold_4_test": [
              0.8079096045,
              0.4119022314
             ],
             "iteration": 0,
             "parameters": [
              {
               "depth": 4,
               "learning_rate": 0.03
              }
             ],
             "passed_time": 19.43612536,
             "remaining_time": 97.18062682
            },
            {
             "fold_0_learn": [
              0.981741573,
              0.1068024351
             ],
             "fold_0_test": [
              0.8715083799,
              0.3675997178
             ],
             "fold_1_learn": [
              0.9775280899,
              0.09982573424
             ],
             "fold_1_test": [
              0.7765363128,
              0.5625177571
             ],
             "fold_2_learn": [
              0.9775596073,
              0.1028135829
             ],
             "fold_2_test": [
              0.7921348315,
              0.5162849231
             ],
             "fold_3_learn": [
              0.9733520337,
              0.1183101929
             ],
             "fold_3_test": [
              0.8146067416,
              0.4007256153
             ],
             "fold_4_learn": [
              0.9775910364,
              0.120649394
             ],
             "fold_4_test": [
              0.8361581921,
              0.4281950503
             ],
             "iteration": 1,
             "parameters": [
              {
               "depth": 4,
               "learning_rate": 0.1
              }
             ],
             "passed_time": 42.64653117,
             "remaining_time": 85.29306233
            },
            {
             "fold_0_learn": [
              0.9662921348,
              0.1505994174
             ],
             "fold_0_test": [
              0.8659217877,
              0.3401369477
             ],
             "fold_1_learn": [
              0.970505618,
              0.137870666
             ],
             "fold_1_test": [
              0.7765363128,
              0.4851731642
             ],
             "fold_2_learn": [
              0.9635343619,
              0.1547346193
             ],
             "fold_2_test": [
              0.8202247191,
              0.4353291363
             ],
             "fold_3_learn": [
              0.9565217391,
              0.1714478046
             ],
             "fold_3_test": [
              0.8202247191,
              0.3862461495
             ],
             "fold_4_learn": [
              0.9607843137,
              0.1583653772
             ],
             "fold_4_test": [
              0.8192090395,
              0.409244664
             ],
             "iteration": 2,
             "parameters": [
              {
               "depth": 6,
               "learning_rate": 0.03
              }
             ],
             "passed_time": 74.32576976,
             "remaining_time": 74.32576976
            },
            {
             "fold_0_learn": [
              0.9971910112,
              0.04599151877
             ],
             "fold_0_test": [
              0.8770949721,
              0.3599914593
             ],
             "fold_1_learn": [
              1,
              0.03774245517
             ],
             "fold_1_test": [
              0.782122905,
              0.6173236116
             ],
             "fold_2_learn": [
              0.9971949509,
              0.04467143208
             ],
             "fold_2_test": [
              0.7865168539,
              0.5624569913
             ],
             "fold_3_learn": [
              0.9943899018,
              0.05327817967
             ],
             "fold_3_test": [
              0.8202247191,
              0.4335350724
             ],
             "fold_4_learn": [
              0.9985994398,
              0.04323607862
             ],
             "fold_4_test": [
              0.8192090395,
              0.4934424204
             ],
             "iteration": 3,
             "parameters": [
              {
               "depth": 6,
               "learning_rate": 0.1
              }
             ],
             "passed_time": 103.0545782,
             "remaining_time": 51.52728908
            },
            {
             "fold_0_learn": [
              0.9901685393,
              0.08765408473
             ],
             "fold_0_test": [
              0.8659217877,
              0.3520343759
             ],
             "fold_1_learn": [
              0.9873595506,
              0.07588309102
             ],
             "fold_1_test": [
              0.7877094972,
              0.5188155558
             ],
             "fold_2_learn": [
              0.9859747546,
              0.08736621041
             ],
             "fold_2_test": [
              0.8146067416,
              0.4633675228
             ],
             "fold_3_learn": [
              0.9817671809,
              0.1000479502
             ],
             "fold_3_test": [
              0.8314606742,
              0.4085748271
             ],
             "fold_4_learn": [
              0.9859943978,
              0.0912543305
             ],
             "fold_4_test": [
              0.8248587571,
              0.4138086155
             ],
             "iteration": 4,
             "parameters": [
              {
               "depth": 8,
               "learning_rate": 0.03
              }
             ],
             "passed_time": 157.5392544,
             "remaining_time": 31.50785089
            },
            {
             "fold_0_learn": [
              1,
              0.02153298491
             ],
             "fold_0_test": [
              0.8659217877,
              0.3639666782
             ],
             "fold_1_learn": [
              1,
              0.02059643555
             ],
             "fold_1_test": [
              0.7597765363,
              0.6295050683
             ],
             "fold_2_learn": [
              1,
              0.0202493134
             ],
             "fold_2_test": [
              0.8033707865,
              0.5758829791
             ],
             "fold_3_learn": [
              1,
              0.02668865823
             ],
             "fold_3_test": [
              0.8314606742,
              0.47906923
             ],
             "fold_4_learn": [
              1,
              0.02237403668
             ],
             "fold_4_test": [
              0.813559322,
              0.5179012237
             ],
             "iteration": 5,
             "parameters": [
              {
               "depth": 8,
               "learning_rate": 0.1
              }
             ],
             "passed_time": 210.6869014,
             "remaining_time": 0
            }
           ],
           "meta": {
            "iteration_count": 6,
            "launch_mode": "CV",
            "learn_metrics": [
             {
              "best_value": "Max",
              "name": "Accuracy"
             },
             {
              "best_value": "Min",
              "name": "Logloss"
             }
            ],
            "learn_sets": [
             "fold_0_learn",
             "fold_1_learn",
             "fold_2_learn",
             "fold_3_learn",
             "fold_4_learn"
            ],
            "name": "experiment",
            "parameters": "parameters",
            "test_metrics": [
             {
              "best_value": "Max",
              "name": "Accuracy"
             },
             {
              "best_value": "Min",
              "name": "Logloss"
             }
            ],
            "test_sets": [
             "fold_0_test",
             "fold_1_test",
             "fold_2_test",
             "fold_3_test",
             "fold_4_test"
            ]
           }
          },
          "passed_iterations": 5,
          "total_iterations": 6
         },
         "name": "catboost_info",
         "path": "catboost_info"
        }
       },
       "layout": "IPY_MODEL_189118129f7c45af906491affa266314"
      }
     },
     "f74ca39a4f4b4232a3e7a95b596316b8": {
      "model_module": "@jupyter-widgets/base",
      "model_module_version": "1.2.0",
      "model_name": "LayoutModel",
      "state": {
       "align_self": "stretch",
       "height": "500px"
      }
     }
    },
    "version_major": 2,
    "version_minor": 0
   }
  }
 },
 "nbformat": 4,
 "nbformat_minor": 2
}
