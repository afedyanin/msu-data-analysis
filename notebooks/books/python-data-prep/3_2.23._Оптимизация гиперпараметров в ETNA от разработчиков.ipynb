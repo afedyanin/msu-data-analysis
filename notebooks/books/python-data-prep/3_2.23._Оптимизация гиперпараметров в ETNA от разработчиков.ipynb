{
 "cells": [
  {
   "cell_type": "code",
   "execution_count": 1,
   "id": "d919840f",
   "metadata": {},
   "outputs": [],
   "source": [
    "# импортируем необходимые библиотеки и модули\n",
    "import pandas as pd\n",
    "import numpy as np\n",
    "import optuna\n",
    "import random\n",
    "from functools import partial\n",
    "from pathlib import Path\n",
    "from typing import Optional\n",
    "\n",
    "# импортируем из библиотеки etna нужные классы\n",
    "from etna.datasets import TSDataset\n",
    "from etna.loggers import WandbLogger,tslogger\n",
    "from etna.metrics import MAE, MSE, SMAPE, Sign\n",
    "from etna.models import CatBoostModelMultiSegment\n",
    "from etna.pipeline import Pipeline\n",
    "from etna.transforms import (LagTransform,\n",
    "                             SegmentEncoderTransform,\n",
    "                             StandardScalerTransform)\n",
    "\n",
    "# импортируем модуль предупреждений\n",
    "import warnings\n",
    "# включим игнорирование предупреждений\n",
    "warnings.filterwarnings(\"ignore\")"
   ]
  },
  {
   "cell_type": "code",
   "execution_count": 2,
   "id": "38521ae1",
   "metadata": {},
   "outputs": [],
   "source": [
    "# функция установки начального значения генератора случайных чисел\n",
    "def set_seed(seed: int = 42):\n",
    "    # установка генератора случайных чисел python \n",
    "    random.seed(seed)\n",
    "    # установка генератора случайных чисел numpy\n",
    "    np.random.seed(seed)"
   ]
  },
  {
   "cell_type": "code",
   "execution_count": 3,
   "id": "67d31a86",
   "metadata": {},
   "outputs": [],
   "source": [
    "def init_logger(config: dict, project: str = \"wandb-sweeps\", \n",
    "                tags: Optional[list] = [\"test\", \"sweeps\"]):\n",
    "    # создание пустого списка для хранения обьектов WandbLogge\n",
    "    tslogger.loggers = []\n",
    "    # создание экземпляра WandbLogge. W&B предоставляет облегченную оболочку для \n",
    "    # регистрации экспериментов машинного обучения\n",
    "    wblogger = WandbLogger(project=project, tags=tags, config=config)\n",
    "    # добавление обьекта WandbLogge в список\n",
    "    tslogger.add(wblogger)"
   ]
  },
  {
   "cell_type": "code",
   "execution_count": 4,
   "id": "7f249cd0",
   "metadata": {},
   "outputs": [],
   "source": [
    "def dataloader(file_path: Path, freq: str = \"D\") -> TSDataset:\n",
    "    df = pd.read_csv(file_path)\n",
    "    df = TSDataset.to_dataset(df)\n",
    "    ts = TSDataset(df=df, freq=freq)\n",
    "    return ts"
   ]
  },
  {
   "cell_type": "code",
   "execution_count": 5,
   "id": "60b36cb0",
   "metadata": {},
   "outputs": [],
   "source": [
    "# целевая функция Optuna.\n",
    "def objective(trial: optuna.Trial, \n",
    "              metric_name: str, \n",
    "              ts: TSDataset, \n",
    "              horizon: int,\n",
    "              lags: int, \n",
    "              seed: int):\n",
    "\n",
    "    # установка начального значения генератора случайных чисел \n",
    "    set_seed(seed)\n",
    "\n",
    "    # создадим экземпляр Pipeline, определив\n",
    "    # модель и список трансформеров\n",
    "    pipeline = Pipeline(\n",
    "        # определим модель\n",
    "        model=CatBoostModelMultiSegment(\n",
    "            iterations=trial.suggest_int(\"iterations\", 10, 100),\n",
    "            depth=trial.suggest_int(\"depth\", 1, 12),\n",
    "        ),\n",
    "        # определим список трансформеров\n",
    "        transforms=[\n",
    "            StandardScalerTransform(\"target\"),\n",
    "            SegmentEncoderTransform(),\n",
    "            LagTransform(in_column=\"target\", \n",
    "                         lags=list(range(horizon, horizon + \n",
    "                                         trial.suggest_int(\"lags\", 1, lags)))),\n",
    "        ],\n",
    "        # установка горизонта для прогнозов\n",
    "        horizon=horizon,\n",
    "    )\n",
    "\n",
    "    # инициализируем WandB logger\n",
    "    init_logger(pipeline.to_dict())\n",
    "\n",
    "    # запускаем перекрестную проверку с подсчетом метрик\n",
    "    metrics, _, _ = pipeline.backtest(ts=ts, metrics=[MAE(), SMAPE(), Sign(), MSE()])\n",
    "    \n",
    "    # возвращаем средние значения по найденным метрикам\n",
    "    return metrics[metric_name].mean()\n"
   ]
  },
  {
   "cell_type": "code",
   "execution_count": 6,
   "id": "8883b229",
   "metadata": {},
   "outputs": [],
   "source": [
    "# функция оптимизации Optuna\n",
    "def run_optuna(\n",
    "    # горизонт для прогнозов\n",
    "    horizon: int = 14,\n",
    "    # метрика\n",
    "    metric_name: str = \"MAE\",\n",
    "    # URL-адрес базы данных,\n",
    "    storage: str = \"sqlite:///optuna.db\",\n",
    "    # название \n",
    "    study_name: Optional[str] = None,\n",
    "    # количество проходов\n",
    "    n_trials: int = 5,\n",
    "    # путь к файлу данных\n",
    "    file_path: Path = \"Data/example_dataset.csv\",\n",
    "    # направление оптимизации\n",
    "    direction: str = \"minimize\",\n",
    "    # частота временного ряда\n",
    "    freq: str = \"D\",\n",
    "    # верхняя граница порядка лага\n",
    "    lags: int = 24,\n",
    "    # стартовое значение генератора псевдослучайных чисел\n",
    "    seed: int = 11,\n",
    "):\n",
    "\n",
    "    # загрузка данных\n",
    "    ts = dataloader(file_path, freq=freq)\n",
    "\n",
    "    # создание сессии оптимизации Optuna\n",
    "    study = optuna.create_study(\n",
    "        # URL базы данных. \n",
    "        storage=storage,\n",
    "        study_name=study_name,\n",
    "        # объект сэмплера\n",
    "        sampler=optuna.samplers.TPESampler(\n",
    "            multivariate=True, group=True),\n",
    "        # флаг управления поведением\n",
    "        # при разрешении конфликта\n",
    "        load_if_exists=True,\n",
    "        # Направление оптимизации\n",
    "        direction=direction,\n",
    "    )\n",
    "\n",
    "    # запуск оптимизации Optuna\n",
    "    study.optimize(\n",
    "        partial(objective, metric_name=metric_name, \n",
    "                ts=ts, horizon=horizon, \n",
    "                lags=lags, seed=seed), n_trials=n_trials\n",
    "        )\n"
   ]
  },
  {
   "cell_type": "code",
   "execution_count": 7,
   "id": "b2b21ccd",
   "metadata": {
    "scrolled": true
   },
   "outputs": [
    {
     "name": "stderr",
     "output_type": "stream",
     "text": [
      "\u001b[32m[I 2022-12-24 21:35:49,031]\u001b[0m A new study created in RDB with name: no-name-0570686a-ebad-4772-bffc-84ad194f3f9a\u001b[0m\n",
      "[Parallel(n_jobs=1)]: Using backend SequentialBackend with 1 concurrent workers.\n",
      "\u001b[34m\u001b[1mwandb\u001b[0m: Currently logged in as: \u001b[33mgewissta\u001b[0m. Use \u001b[1m`wandb login --relogin`\u001b[0m to force relogin\n"
     ]
    },
    {
     "data": {
      "text/html": [
       "wandb version 0.13.7 is available!  To upgrade, please run:\n",
       " $ pip install wandb --upgrade"
      ],
      "text/plain": [
       "<IPython.core.display.HTML object>"
      ]
     },
     "metadata": {},
     "output_type": "display_data"
    },
    {
     "data": {
      "text/html": [
       "Tracking run with wandb version 0.12.21"
      ],
      "text/plain": [
       "<IPython.core.display.HTML object>"
      ]
     },
     "metadata": {},
     "output_type": "display_data"
    },
    {
     "data": {
      "text/html": [
       "Run data is saved locally in <code>/Users/artemgruzdev/Documents/Data_Preprocessing_in_Python_для издательства/wandb/run-20221224_213550-lyxyopz4</code>"
      ],
      "text/plain": [
       "<IPython.core.display.HTML object>"
      ]
     },
     "metadata": {},
     "output_type": "display_data"
    },
    {
     "data": {
      "text/html": [
       "Syncing run <strong><a href=\"https://wandb.ai/gewissta/wandb-sweeps/runs/lyxyopz4\" target=\"_blank\">YYPrJbCs</a></strong> to <a href=\"https://wandb.ai/gewissta/wandb-sweeps\" target=\"_blank\">Weights & Biases</a> (<a href=\"https://wandb.me/run\" target=\"_blank\">docs</a>)<br/>"
      ],
      "text/plain": [
       "<IPython.core.display.HTML object>"
      ]
     },
     "metadata": {},
     "output_type": "display_data"
    },
    {
     "data": {
      "text/html": [
       "Waiting for W&B process to finish... <strong style=\"color:green\">(success).</strong>"
      ],
      "text/plain": [
       "<IPython.core.display.HTML object>"
      ]
     },
     "metadata": {},
     "output_type": "display_data"
    },
    {
     "data": {
      "application/vnd.jupyter.widget-view+json": {
       "model_id": "",
       "version_major": 2,
       "version_minor": 0
      },
      "text/plain": [
       "VBox(children=(Label(value='0.062 MB of 0.065 MB uploaded (0.000 MB deduped)\\r'), FloatProgress(value=0.965246…"
      ]
     },
     "metadata": {},
     "output_type": "display_data"
    },
    {
     "data": {
      "text/html": [
       "<style>\n",
       "    table.wandb td:nth-child(1) { padding: 0 10px; text-align: left ; width: auto;} td:nth-child(2) {text-align: left ; width: 100%}\n",
       "    .wandb-row { display: flex; flex-direction: row; flex-wrap: wrap; justify-content: flex-start; width: 100% }\n",
       "    .wandb-col { display: flex; flex-direction: column; flex-basis: 100%; flex: 1; padding: 10px; }\n",
       "    </style>\n",
       "<div class=\"wandb-row\"><div class=\"wandb-col\"><h3>Run history:</h3><br/><table class=\"wandb\"><tr><td>MAE_mean</td><td>▁</td></tr><tr><td>MAE_median</td><td>▁</td></tr><tr><td>MAE_percentile_25</td><td>▁</td></tr><tr><td>MAE_percentile_5</td><td>▁</td></tr><tr><td>MAE_percentile_75</td><td>▁</td></tr><tr><td>MAE_percentile_95</td><td>▁</td></tr><tr><td>MAE_std</td><td>▁</td></tr><tr><td>MSE_mean</td><td>▁</td></tr><tr><td>MSE_median</td><td>▁</td></tr><tr><td>MSE_percentile_25</td><td>▁</td></tr><tr><td>MSE_percentile_5</td><td>▁</td></tr><tr><td>MSE_percentile_75</td><td>▁</td></tr><tr><td>MSE_percentile_95</td><td>▁</td></tr><tr><td>MSE_std</td><td>▁</td></tr><tr><td>SMAPE_mean</td><td>▁</td></tr><tr><td>SMAPE_median</td><td>▁</td></tr><tr><td>SMAPE_percentile_25</td><td>▁</td></tr><tr><td>SMAPE_percentile_5</td><td>▁</td></tr><tr><td>SMAPE_percentile_75</td><td>▁</td></tr><tr><td>SMAPE_percentile_95</td><td>▁</td></tr><tr><td>SMAPE_std</td><td>▁</td></tr><tr><td>Sign_mean</td><td>▁</td></tr><tr><td>Sign_median</td><td>▁</td></tr><tr><td>Sign_percentile_25</td><td>▁</td></tr><tr><td>Sign_percentile_5</td><td>▁</td></tr><tr><td>Sign_percentile_75</td><td>▁</td></tr><tr><td>Sign_percentile_95</td><td>▁</td></tr><tr><td>Sign_std</td><td>▁</td></tr></table><br/></div><div class=\"wandb-col\"><h3>Run summary:</h3><br/><table class=\"wandb\"><tr><td>MAE_mean</td><td>37.44398</td></tr><tr><td>MAE_median</td><td>38.32381</td></tr><tr><td>MAE_percentile_25</td><td>19.59321</td></tr><tr><td>MAE_percentile_5</td><td>16.83052</td></tr><tr><td>MAE_percentile_75</td><td>56.17458</td></tr><tr><td>MAE_percentile_95</td><td>56.82568</td></tr><tr><td>MAE_std</td><td>22.02632</td></tr><tr><td>MSE_mean</td><td>2859.0972</td></tr><tr><td>MSE_median</td><td>2733.58778</td></tr><tr><td>MSE_percentile_25</td><td>627.54358</td></tr><tr><td>MSE_percentile_5</td><td>568.18213</td></tr><tr><td>MSE_percentile_75</td><td>4965.1414</td></tr><tr><td>MSE_percentile_95</td><td>5325.72545</td></tr><tr><td>MSE_std</td><td>2617.17486</td></tr><tr><td>SMAPE_mean</td><td>9.45359</td></tr><tr><td>SMAPE_median</td><td>9.29032</td></tr><tr><td>SMAPE_percentile_25</td><td>8.64125</td></tr><tr><td>SMAPE_percentile_5</td><td>7.60241</td></tr><tr><td>SMAPE_percentile_75</td><td>10.10267</td></tr><tr><td>SMAPE_percentile_95</td><td>11.53336</td></tr><tr><td>SMAPE_std</td><td>1.87473</td></tr><tr><td>Sign_mean</td><td>-0.25</td></tr><tr><td>Sign_median</td><td>-0.35714</td></tr><tr><td>Sign_percentile_25</td><td>-0.5</td></tr><tr><td>Sign_percentile_5</td><td>-0.67143</td></tr><tr><td>Sign_percentile_75</td><td>-0.10714</td></tr><tr><td>Sign_percentile_95</td><td>0.32143</td></tr><tr><td>Sign_std</td><td>0.4862</td></tr></table><br/></div></div>"
      ],
      "text/plain": [
       "<IPython.core.display.HTML object>"
      ]
     },
     "metadata": {},
     "output_type": "display_data"
    },
    {
     "data": {
      "text/html": [
       "Synced <strong style=\"color:#cdcd00\">YYPrJbCs</strong>: <a href=\"https://wandb.ai/gewissta/wandb-sweeps/runs/lyxyopz4\" target=\"_blank\">https://wandb.ai/gewissta/wandb-sweeps/runs/lyxyopz4</a><br/>Synced 5 W&B file(s), 3 media file(s), 3 artifact file(s) and 0 other file(s)"
      ],
      "text/plain": [
       "<IPython.core.display.HTML object>"
      ]
     },
     "metadata": {},
     "output_type": "display_data"
    },
    {
     "data": {
      "text/html": [
       "Find logs at: <code>./wandb/run-20221224_213550-lyxyopz4/logs</code>"
      ],
      "text/plain": [
       "<IPython.core.display.HTML object>"
      ]
     },
     "metadata": {},
     "output_type": "display_data"
    },
    {
     "name": "stderr",
     "output_type": "stream",
     "text": [
      "[Parallel(n_jobs=1)]: Done   1 out of   1 | elapsed:   29.7s remaining:    0.0s\n"
     ]
    },
    {
     "data": {
      "text/html": [
       "Changes to your `wandb` environment variables will be ignored because your `wandb` session has already started. For more information on how to modify your settings with `wandb.init()` arguments, please refer to <a href=\"https://wandb.me/wandb-init\" target=\"_blank\">the W&B docs</a>."
      ],
      "text/plain": [
       "<IPython.core.display.HTML object>"
      ]
     },
     "metadata": {},
     "output_type": "display_data"
    },
    {
     "data": {
      "text/html": [
       "wandb version 0.13.7 is available!  To upgrade, please run:\n",
       " $ pip install wandb --upgrade"
      ],
      "text/plain": [
       "<IPython.core.display.HTML object>"
      ]
     },
     "metadata": {},
     "output_type": "display_data"
    },
    {
     "data": {
      "text/html": [
       "Tracking run with wandb version 0.12.21"
      ],
      "text/plain": [
       "<IPython.core.display.HTML object>"
      ]
     },
     "metadata": {},
     "output_type": "display_data"
    },
    {
     "data": {
      "text/html": [
       "Run data is saved locally in <code>/Users/artemgruzdev/Documents/Data_Preprocessing_in_Python_для издательства/wandb/run-20221224_213618-35bymkvh</code>"
      ],
      "text/plain": [
       "<IPython.core.display.HTML object>"
      ]
     },
     "metadata": {},
     "output_type": "display_data"
    },
    {
     "data": {
      "text/html": [
       "Syncing run <strong><a href=\"https://wandb.ai/gewissta/wandb-sweeps/runs/35bymkvh\" target=\"_blank\">YYPrJbCs</a></strong> to <a href=\"https://wandb.ai/gewissta/wandb-sweeps\" target=\"_blank\">Weights & Biases</a> (<a href=\"https://wandb.me/run\" target=\"_blank\">docs</a>)<br/>"
      ],
      "text/plain": [
       "<IPython.core.display.HTML object>"
      ]
     },
     "metadata": {},
     "output_type": "display_data"
    },
    {
     "data": {
      "text/html": [
       "Waiting for W&B process to finish... <strong style=\"color:green\">(success).</strong>"
      ],
      "text/plain": [
       "<IPython.core.display.HTML object>"
      ]
     },
     "metadata": {},
     "output_type": "display_data"
    },
    {
     "data": {
      "application/vnd.jupyter.widget-view+json": {
       "model_id": "",
       "version_major": 2,
       "version_minor": 0
      },
      "text/plain": [
       "VBox(children=(Label(value='0.062 MB of 0.064 MB uploaded (0.000 MB deduped)\\r'), FloatProgress(value=0.965082…"
      ]
     },
     "metadata": {},
     "output_type": "display_data"
    },
    {
     "data": {
      "text/html": [
       "<style>\n",
       "    table.wandb td:nth-child(1) { padding: 0 10px; text-align: left ; width: auto;} td:nth-child(2) {text-align: left ; width: 100%}\n",
       "    .wandb-row { display: flex; flex-direction: row; flex-wrap: wrap; justify-content: flex-start; width: 100% }\n",
       "    .wandb-col { display: flex; flex-direction: column; flex-basis: 100%; flex: 1; padding: 10px; }\n",
       "    </style>\n",
       "<div class=\"wandb-row\"><div class=\"wandb-col\"><h3>Run history:</h3><br/><table class=\"wandb\"><tr><td>MAE_mean</td><td>▁</td></tr><tr><td>MAE_median</td><td>▁</td></tr><tr><td>MAE_percentile_25</td><td>▁</td></tr><tr><td>MAE_percentile_5</td><td>▁</td></tr><tr><td>MAE_percentile_75</td><td>▁</td></tr><tr><td>MAE_percentile_95</td><td>▁</td></tr><tr><td>MAE_std</td><td>▁</td></tr><tr><td>MSE_mean</td><td>▁</td></tr><tr><td>MSE_median</td><td>▁</td></tr><tr><td>MSE_percentile_25</td><td>▁</td></tr><tr><td>MSE_percentile_5</td><td>▁</td></tr><tr><td>MSE_percentile_75</td><td>▁</td></tr><tr><td>MSE_percentile_95</td><td>▁</td></tr><tr><td>MSE_std</td><td>▁</td></tr><tr><td>SMAPE_mean</td><td>▁</td></tr><tr><td>SMAPE_median</td><td>▁</td></tr><tr><td>SMAPE_percentile_25</td><td>▁</td></tr><tr><td>SMAPE_percentile_5</td><td>▁</td></tr><tr><td>SMAPE_percentile_75</td><td>▁</td></tr><tr><td>SMAPE_percentile_95</td><td>▁</td></tr><tr><td>SMAPE_std</td><td>▁</td></tr><tr><td>Sign_mean</td><td>▁</td></tr><tr><td>Sign_median</td><td>▁</td></tr><tr><td>Sign_percentile_25</td><td>▁</td></tr><tr><td>Sign_percentile_5</td><td>▁</td></tr><tr><td>Sign_percentile_75</td><td>▁</td></tr><tr><td>Sign_percentile_95</td><td>▁</td></tr><tr><td>Sign_std</td><td>▁</td></tr></table><br/></div><div class=\"wandb-col\"><h3>Run summary:</h3><br/><table class=\"wandb\"><tr><td>MAE_mean</td><td>34.7512</td></tr><tr><td>MAE_median</td><td>32.43282</td></tr><tr><td>MAE_percentile_25</td><td>18.63537</td></tr><tr><td>MAE_percentile_5</td><td>11.68088</td></tr><tr><td>MAE_percentile_75</td><td>48.54865</td></tr><tr><td>MAE_percentile_95</td><td>61.06725</td></tr><tr><td>MAE_std</td><td>24.02007</td></tr><tr><td>MSE_mean</td><td>2335.47798</td></tr><tr><td>MSE_median</td><td>1612.22067</td></tr><tr><td>MSE_percentile_25</td><td>476.43824</td></tr><tr><td>MSE_percentile_5</td><td>210.86071</td></tr><tr><td>MSE_percentile_75</td><td>3471.26041</td></tr><tr><td>MSE_percentile_95</td><td>5472.6555</td></tr><tr><td>MSE_std</td><td>2657.072</td></tr><tr><td>SMAPE_mean</td><td>7.76232</td></tr><tr><td>SMAPE_median</td><td>8.12828</td></tr><tr><td>SMAPE_percentile_25</td><td>7.24867</td></tr><tr><td>SMAPE_percentile_5</td><td>6.14428</td></tr><tr><td>SMAPE_percentile_75</td><td>8.64193</td></tr><tr><td>SMAPE_percentile_95</td><td>8.86802</td></tr><tr><td>SMAPE_std</td><td>1.36115</td></tr><tr><td>Sign_mean</td><td>0.57143</td></tr><tr><td>Sign_median</td><td>0.57143</td></tr><tr><td>Sign_percentile_25</td><td>0.53571</td></tr><tr><td>Sign_percentile_5</td><td>0.45</td></tr><tr><td>Sign_percentile_75</td><td>0.60714</td></tr><tr><td>Sign_percentile_95</td><td>0.69286</td></tr><tr><td>Sign_std</td><td>0.11664</td></tr></table><br/></div></div>"
      ],
      "text/plain": [
       "<IPython.core.display.HTML object>"
      ]
     },
     "metadata": {},
     "output_type": "display_data"
    },
    {
     "data": {
      "text/html": [
       "Synced <strong style=\"color:#cdcd00\">YYPrJbCs</strong>: <a href=\"https://wandb.ai/gewissta/wandb-sweeps/runs/35bymkvh\" target=\"_blank\">https://wandb.ai/gewissta/wandb-sweeps/runs/35bymkvh</a><br/>Synced 5 W&B file(s), 3 media file(s), 3 artifact file(s) and 0 other file(s)"
      ],
      "text/plain": [
       "<IPython.core.display.HTML object>"
      ]
     },
     "metadata": {},
     "output_type": "display_data"
    },
    {
     "data": {
      "text/html": [
       "Find logs at: <code>./wandb/run-20221224_213618-35bymkvh/logs</code>"
      ],
      "text/plain": [
       "<IPython.core.display.HTML object>"
      ]
     },
     "metadata": {},
     "output_type": "display_data"
    },
    {
     "name": "stderr",
     "output_type": "stream",
     "text": [
      "[Parallel(n_jobs=1)]: Done   2 out of   2 | elapsed:   58.7s remaining:    0.0s\n"
     ]
    },
    {
     "data": {
      "text/html": [
       "Changes to your `wandb` environment variables will be ignored because your `wandb` session has already started. For more information on how to modify your settings with `wandb.init()` arguments, please refer to <a href=\"https://wandb.me/wandb-init\" target=\"_blank\">the W&B docs</a>."
      ],
      "text/plain": [
       "<IPython.core.display.HTML object>"
      ]
     },
     "metadata": {},
     "output_type": "display_data"
    },
    {
     "data": {
      "text/html": [
       "wandb version 0.13.7 is available!  To upgrade, please run:\n",
       " $ pip install wandb --upgrade"
      ],
      "text/plain": [
       "<IPython.core.display.HTML object>"
      ]
     },
     "metadata": {},
     "output_type": "display_data"
    },
    {
     "data": {
      "text/html": [
       "Tracking run with wandb version 0.12.21"
      ],
      "text/plain": [
       "<IPython.core.display.HTML object>"
      ]
     },
     "metadata": {},
     "output_type": "display_data"
    },
    {
     "data": {
      "text/html": [
       "Run data is saved locally in <code>/Users/artemgruzdev/Documents/Data_Preprocessing_in_Python_для издательства/wandb/run-20221224_213647-2ecrs62c</code>"
      ],
      "text/plain": [
       "<IPython.core.display.HTML object>"
      ]
     },
     "metadata": {},
     "output_type": "display_data"
    },
    {
     "data": {
      "text/html": [
       "Syncing run <strong><a href=\"https://wandb.ai/gewissta/wandb-sweeps/runs/2ecrs62c\" target=\"_blank\">YYPrJbCs</a></strong> to <a href=\"https://wandb.ai/gewissta/wandb-sweeps\" target=\"_blank\">Weights & Biases</a> (<a href=\"https://wandb.me/run\" target=\"_blank\">docs</a>)<br/>"
      ],
      "text/plain": [
       "<IPython.core.display.HTML object>"
      ]
     },
     "metadata": {},
     "output_type": "display_data"
    },
    {
     "data": {
      "text/html": [
       "Waiting for W&B process to finish... <strong style=\"color:green\">(success).</strong>"
      ],
      "text/plain": [
       "<IPython.core.display.HTML object>"
      ]
     },
     "metadata": {},
     "output_type": "display_data"
    },
    {
     "data": {
      "application/vnd.jupyter.widget-view+json": {
       "model_id": "",
       "version_major": 2,
       "version_minor": 0
      },
      "text/plain": [
       "VBox(children=(Label(value='0.062 MB of 0.064 MB uploaded (0.000 MB deduped)\\r'), FloatProgress(value=0.965017…"
      ]
     },
     "metadata": {},
     "output_type": "display_data"
    },
    {
     "data": {
      "text/html": [
       "<style>\n",
       "    table.wandb td:nth-child(1) { padding: 0 10px; text-align: left ; width: auto;} td:nth-child(2) {text-align: left ; width: 100%}\n",
       "    .wandb-row { display: flex; flex-direction: row; flex-wrap: wrap; justify-content: flex-start; width: 100% }\n",
       "    .wandb-col { display: flex; flex-direction: column; flex-basis: 100%; flex: 1; padding: 10px; }\n",
       "    </style>\n",
       "<div class=\"wandb-row\"><div class=\"wandb-col\"><h3>Run history:</h3><br/><table class=\"wandb\"><tr><td>MAE_mean</td><td>▁</td></tr><tr><td>MAE_median</td><td>▁</td></tr><tr><td>MAE_percentile_25</td><td>▁</td></tr><tr><td>MAE_percentile_5</td><td>▁</td></tr><tr><td>MAE_percentile_75</td><td>▁</td></tr><tr><td>MAE_percentile_95</td><td>▁</td></tr><tr><td>MAE_std</td><td>▁</td></tr><tr><td>MSE_mean</td><td>▁</td></tr><tr><td>MSE_median</td><td>▁</td></tr><tr><td>MSE_percentile_25</td><td>▁</td></tr><tr><td>MSE_percentile_5</td><td>▁</td></tr><tr><td>MSE_percentile_75</td><td>▁</td></tr><tr><td>MSE_percentile_95</td><td>▁</td></tr><tr><td>MSE_std</td><td>▁</td></tr><tr><td>SMAPE_mean</td><td>▁</td></tr><tr><td>SMAPE_median</td><td>▁</td></tr><tr><td>SMAPE_percentile_25</td><td>▁</td></tr><tr><td>SMAPE_percentile_5</td><td>▁</td></tr><tr><td>SMAPE_percentile_75</td><td>▁</td></tr><tr><td>SMAPE_percentile_95</td><td>▁</td></tr><tr><td>SMAPE_std</td><td>▁</td></tr><tr><td>Sign_mean</td><td>▁</td></tr><tr><td>Sign_median</td><td>▁</td></tr><tr><td>Sign_percentile_25</td><td>▁</td></tr><tr><td>Sign_percentile_5</td><td>▁</td></tr><tr><td>Sign_percentile_75</td><td>▁</td></tr><tr><td>Sign_percentile_95</td><td>▁</td></tr><tr><td>Sign_std</td><td>▁</td></tr></table><br/></div><div class=\"wandb-col\"><h3>Run summary:</h3><br/><table class=\"wandb\"><tr><td>MAE_mean</td><td>44.44282</td></tr><tr><td>MAE_median</td><td>46.11142</td></tr><tr><td>MAE_percentile_25</td><td>14.91264</td></tr><tr><td>MAE_percentile_5</td><td>9.64286</td></tr><tr><td>MAE_percentile_75</td><td>75.64159</td></tr><tr><td>MAE_percentile_95</td><td>76.90673</td></tr><tr><td>MAE_std</td><td>36.81906</td></tr><tr><td>MSE_mean</td><td>4216.63752</td></tr><tr><td>MSE_median</td><td>3951.60197</td></tr><tr><td>MSE_percentile_25</td><td>410.99774</td></tr><tr><td>MSE_percentile_5</td><td>155.90147</td></tr><tr><td>MSE_percentile_75</td><td>7757.24175</td></tr><tr><td>MSE_percentile_95</td><td>8648.42334</td></tr><tr><td>MSE_std</td><td>4560.92917</td></tr><tr><td>SMAPE_mean</td><td>9.02374</td></tr><tr><td>SMAPE_median</td><td>8.3916</td></tr><tr><td>SMAPE_percentile_25</td><td>6.54503</td></tr><tr><td>SMAPE_percentile_5</td><td>4.93705</td></tr><tr><td>SMAPE_percentile_75</td><td>10.87031</td></tr><tr><td>SMAPE_percentile_95</td><td>13.99544</td></tr><tr><td>SMAPE_std</td><td>4.35174</td></tr><tr><td>Sign_mean</td><td>0.28571</td></tr><tr><td>Sign_median</td><td>0.21429</td></tr><tr><td>Sign_percentile_25</td><td>0.10714</td></tr><tr><td>Sign_percentile_5</td><td>0.02143</td></tr><tr><td>Sign_percentile_75</td><td>0.39286</td></tr><tr><td>Sign_percentile_95</td><td>0.65</td></tr><tr><td>Sign_std</td><td>0.30861</td></tr></table><br/></div></div>"
      ],
      "text/plain": [
       "<IPython.core.display.HTML object>"
      ]
     },
     "metadata": {},
     "output_type": "display_data"
    },
    {
     "data": {
      "text/html": [
       "Synced <strong style=\"color:#cdcd00\">YYPrJbCs</strong>: <a href=\"https://wandb.ai/gewissta/wandb-sweeps/runs/2ecrs62c\" target=\"_blank\">https://wandb.ai/gewissta/wandb-sweeps/runs/2ecrs62c</a><br/>Synced 5 W&B file(s), 3 media file(s), 3 artifact file(s) and 0 other file(s)"
      ],
      "text/plain": [
       "<IPython.core.display.HTML object>"
      ]
     },
     "metadata": {},
     "output_type": "display_data"
    },
    {
     "data": {
      "text/html": [
       "Find logs at: <code>./wandb/run-20221224_213647-2ecrs62c/logs</code>"
      ],
      "text/plain": [
       "<IPython.core.display.HTML object>"
      ]
     },
     "metadata": {},
     "output_type": "display_data"
    },
    {
     "name": "stderr",
     "output_type": "stream",
     "text": [
      "[Parallel(n_jobs=1)]: Done   3 out of   3 | elapsed:  1.5min remaining:    0.0s\n"
     ]
    },
    {
     "data": {
      "text/html": [
       "Changes to your `wandb` environment variables will be ignored because your `wandb` session has already started. For more information on how to modify your settings with `wandb.init()` arguments, please refer to <a href=\"https://wandb.me/wandb-init\" target=\"_blank\">the W&B docs</a>."
      ],
      "text/plain": [
       "<IPython.core.display.HTML object>"
      ]
     },
     "metadata": {},
     "output_type": "display_data"
    },
    {
     "data": {
      "text/html": [
       "wandb version 0.13.7 is available!  To upgrade, please run:\n",
       " $ pip install wandb --upgrade"
      ],
      "text/plain": [
       "<IPython.core.display.HTML object>"
      ]
     },
     "metadata": {},
     "output_type": "display_data"
    },
    {
     "data": {
      "text/html": [
       "Tracking run with wandb version 0.12.21"
      ],
      "text/plain": [
       "<IPython.core.display.HTML object>"
      ]
     },
     "metadata": {},
     "output_type": "display_data"
    },
    {
     "data": {
      "text/html": [
       "Run data is saved locally in <code>/Users/artemgruzdev/Documents/Data_Preprocessing_in_Python_для издательства/wandb/run-20221224_213719-5qyjgyxl</code>"
      ],
      "text/plain": [
       "<IPython.core.display.HTML object>"
      ]
     },
     "metadata": {},
     "output_type": "display_data"
    },
    {
     "data": {
      "text/html": [
       "Syncing run <strong><a href=\"https://wandb.ai/gewissta/wandb-sweeps/runs/5qyjgyxl\" target=\"_blank\">YYPrJbCs</a></strong> to <a href=\"https://wandb.ai/gewissta/wandb-sweeps\" target=\"_blank\">Weights & Biases</a> (<a href=\"https://wandb.me/run\" target=\"_blank\">docs</a>)<br/>"
      ],
      "text/plain": [
       "<IPython.core.display.HTML object>"
      ]
     },
     "metadata": {},
     "output_type": "display_data"
    },
    {
     "data": {
      "text/html": [
       "Waiting for W&B process to finish... <strong style=\"color:green\">(success).</strong>"
      ],
      "text/plain": [
       "<IPython.core.display.HTML object>"
      ]
     },
     "metadata": {},
     "output_type": "display_data"
    },
    {
     "data": {
      "application/vnd.jupyter.widget-view+json": {
       "model_id": "",
       "version_major": 2,
       "version_minor": 0
      },
      "text/plain": [
       "VBox(children=(Label(value='0.062 MB of 0.064 MB uploaded (0.000 MB deduped)\\r'), FloatProgress(value=0.964952…"
      ]
     },
     "metadata": {},
     "output_type": "display_data"
    },
    {
     "data": {
      "text/html": [
       "<style>\n",
       "    table.wandb td:nth-child(1) { padding: 0 10px; text-align: left ; width: auto;} td:nth-child(2) {text-align: left ; width: 100%}\n",
       "    .wandb-row { display: flex; flex-direction: row; flex-wrap: wrap; justify-content: flex-start; width: 100% }\n",
       "    .wandb-col { display: flex; flex-direction: column; flex-basis: 100%; flex: 1; padding: 10px; }\n",
       "    </style>\n",
       "<div class=\"wandb-row\"><div class=\"wandb-col\"><h3>Run history:</h3><br/><table class=\"wandb\"><tr><td>MAE_mean</td><td>▁</td></tr><tr><td>MAE_median</td><td>▁</td></tr><tr><td>MAE_percentile_25</td><td>▁</td></tr><tr><td>MAE_percentile_5</td><td>▁</td></tr><tr><td>MAE_percentile_75</td><td>▁</td></tr><tr><td>MAE_percentile_95</td><td>▁</td></tr><tr><td>MAE_std</td><td>▁</td></tr><tr><td>MSE_mean</td><td>▁</td></tr><tr><td>MSE_median</td><td>▁</td></tr><tr><td>MSE_percentile_25</td><td>▁</td></tr><tr><td>MSE_percentile_5</td><td>▁</td></tr><tr><td>MSE_percentile_75</td><td>▁</td></tr><tr><td>MSE_percentile_95</td><td>▁</td></tr><tr><td>MSE_std</td><td>▁</td></tr><tr><td>SMAPE_mean</td><td>▁</td></tr><tr><td>SMAPE_median</td><td>▁</td></tr><tr><td>SMAPE_percentile_25</td><td>▁</td></tr><tr><td>SMAPE_percentile_5</td><td>▁</td></tr><tr><td>SMAPE_percentile_75</td><td>▁</td></tr><tr><td>SMAPE_percentile_95</td><td>▁</td></tr><tr><td>SMAPE_std</td><td>▁</td></tr><tr><td>Sign_mean</td><td>▁</td></tr><tr><td>Sign_median</td><td>▁</td></tr><tr><td>Sign_percentile_25</td><td>▁</td></tr><tr><td>Sign_percentile_5</td><td>▁</td></tr><tr><td>Sign_percentile_75</td><td>▁</td></tr><tr><td>Sign_percentile_95</td><td>▁</td></tr><tr><td>Sign_std</td><td>▁</td></tr></table><br/></div><div class=\"wandb-col\"><h3>Run summary:</h3><br/><table class=\"wandb\"><tr><td>MAE_mean</td><td>59.54268</td></tr><tr><td>MAE_median</td><td>38.65409</td></tr><tr><td>MAE_percentile_25</td><td>19.29639</td></tr><tr><td>MAE_percentile_5</td><td>17.19089</td></tr><tr><td>MAE_percentile_75</td><td>78.90037</td></tr><tr><td>MAE_percentile_95</td><td>131.13848</td></tr><tr><td>MAE_std</td><td>59.33178</td></tr><tr><td>MSE_mean</td><td>7798.17349</td></tr><tr><td>MSE_median</td><td>2909.10454</td></tr><tr><td>MSE_percentile_25</td><td>977.91986</td></tr><tr><td>MSE_percentile_5</td><td>470.53769</td></tr><tr><td>MSE_percentile_75</td><td>9729.35817</td></tr><tr><td>MSE_percentile_95</td><td>21970.50583</td></tr><tr><td>MSE_std</td><td>11636.91976</td></tr><tr><td>SMAPE_mean</td><td>10.55771</td></tr><tr><td>SMAPE_median</td><td>9.4956</td></tr><tr><td>SMAPE_percentile_25</td><td>8.38492</td></tr><tr><td>SMAPE_percentile_5</td><td>7.08852</td></tr><tr><td>SMAPE_percentile_75</td><td>11.66838</td></tr><tr><td>SMAPE_percentile_95</td><td>15.51384</td></tr><tr><td>SMAPE_std</td><td>4.17584</td></tr><tr><td>Sign_mean</td><td>0.64286</td></tr><tr><td>Sign_median</td><td>0.71429</td></tr><tr><td>Sign_percentile_25</td><td>0.46429</td></tr><tr><td>Sign_percentile_5</td><td>0.20714</td></tr><tr><td>Sign_percentile_75</td><td>0.89286</td></tr><tr><td>Sign_percentile_95</td><td>0.97857</td></tr><tr><td>Sign_std</td><td>0.37796</td></tr></table><br/></div></div>"
      ],
      "text/plain": [
       "<IPython.core.display.HTML object>"
      ]
     },
     "metadata": {},
     "output_type": "display_data"
    },
    {
     "data": {
      "text/html": [
       "Synced <strong style=\"color:#cdcd00\">YYPrJbCs</strong>: <a href=\"https://wandb.ai/gewissta/wandb-sweeps/runs/5qyjgyxl\" target=\"_blank\">https://wandb.ai/gewissta/wandb-sweeps/runs/5qyjgyxl</a><br/>Synced 5 W&B file(s), 3 media file(s), 3 artifact file(s) and 0 other file(s)"
      ],
      "text/plain": [
       "<IPython.core.display.HTML object>"
      ]
     },
     "metadata": {},
     "output_type": "display_data"
    },
    {
     "data": {
      "text/html": [
       "Find logs at: <code>./wandb/run-20221224_213719-5qyjgyxl/logs</code>"
      ],
      "text/plain": [
       "<IPython.core.display.HTML object>"
      ]
     },
     "metadata": {},
     "output_type": "display_data"
    },
    {
     "name": "stderr",
     "output_type": "stream",
     "text": [
      "[Parallel(n_jobs=1)]: Done   4 out of   4 | elapsed:  2.0min remaining:    0.0s\n"
     ]
    },
    {
     "data": {
      "text/html": [
       "Changes to your `wandb` environment variables will be ignored because your `wandb` session has already started. For more information on how to modify your settings with `wandb.init()` arguments, please refer to <a href=\"https://wandb.me/wandb-init\" target=\"_blank\">the W&B docs</a>."
      ],
      "text/plain": [
       "<IPython.core.display.HTML object>"
      ]
     },
     "metadata": {},
     "output_type": "display_data"
    },
    {
     "data": {
      "text/html": [
       "wandb version 0.13.7 is available!  To upgrade, please run:\n",
       " $ pip install wandb --upgrade"
      ],
      "text/plain": [
       "<IPython.core.display.HTML object>"
      ]
     },
     "metadata": {},
     "output_type": "display_data"
    },
    {
     "data": {
      "text/html": [
       "Tracking run with wandb version 0.12.21"
      ],
      "text/plain": [
       "<IPython.core.display.HTML object>"
      ]
     },
     "metadata": {},
     "output_type": "display_data"
    },
    {
     "data": {
      "text/html": [
       "Run data is saved locally in <code>/Users/artemgruzdev/Documents/Data_Preprocessing_in_Python_для издательства/wandb/run-20221224_213747-35j4t0ak</code>"
      ],
      "text/plain": [
       "<IPython.core.display.HTML object>"
      ]
     },
     "metadata": {},
     "output_type": "display_data"
    },
    {
     "data": {
      "text/html": [
       "Syncing run <strong><a href=\"https://wandb.ai/gewissta/wandb-sweeps/runs/35j4t0ak\" target=\"_blank\">YYPrJbCs</a></strong> to <a href=\"https://wandb.ai/gewissta/wandb-sweeps\" target=\"_blank\">Weights & Biases</a> (<a href=\"https://wandb.me/run\" target=\"_blank\">docs</a>)<br/>"
      ],
      "text/plain": [
       "<IPython.core.display.HTML object>"
      ]
     },
     "metadata": {},
     "output_type": "display_data"
    },
    {
     "data": {
      "text/html": [
       "Waiting for W&B process to finish... <strong style=\"color:green\">(success).</strong>"
      ],
      "text/plain": [
       "<IPython.core.display.HTML object>"
      ]
     },
     "metadata": {},
     "output_type": "display_data"
    },
    {
     "data": {
      "application/vnd.jupyter.widget-view+json": {
       "model_id": "",
       "version_major": 2,
       "version_minor": 0
      },
      "text/plain": [
       "VBox(children=(Label(value='0.062 MB of 0.064 MB uploaded (0.000 MB deduped)\\r'), FloatProgress(value=0.964794…"
      ]
     },
     "metadata": {},
     "output_type": "display_data"
    },
    {
     "data": {
      "text/html": [
       "<style>\n",
       "    table.wandb td:nth-child(1) { padding: 0 10px; text-align: left ; width: auto;} td:nth-child(2) {text-align: left ; width: 100%}\n",
       "    .wandb-row { display: flex; flex-direction: row; flex-wrap: wrap; justify-content: flex-start; width: 100% }\n",
       "    .wandb-col { display: flex; flex-direction: column; flex-basis: 100%; flex: 1; padding: 10px; }\n",
       "    </style>\n",
       "<div class=\"wandb-row\"><div class=\"wandb-col\"><h3>Run history:</h3><br/><table class=\"wandb\"><tr><td>MAE_mean</td><td>▁</td></tr><tr><td>MAE_median</td><td>▁</td></tr><tr><td>MAE_percentile_25</td><td>▁</td></tr><tr><td>MAE_percentile_5</td><td>▁</td></tr><tr><td>MAE_percentile_75</td><td>▁</td></tr><tr><td>MAE_percentile_95</td><td>▁</td></tr><tr><td>MAE_std</td><td>▁</td></tr><tr><td>MSE_mean</td><td>▁</td></tr><tr><td>MSE_median</td><td>▁</td></tr><tr><td>MSE_percentile_25</td><td>▁</td></tr><tr><td>MSE_percentile_5</td><td>▁</td></tr><tr><td>MSE_percentile_75</td><td>▁</td></tr><tr><td>MSE_percentile_95</td><td>▁</td></tr><tr><td>MSE_std</td><td>▁</td></tr><tr><td>SMAPE_mean</td><td>▁</td></tr><tr><td>SMAPE_median</td><td>▁</td></tr><tr><td>SMAPE_percentile_25</td><td>▁</td></tr><tr><td>SMAPE_percentile_5</td><td>▁</td></tr><tr><td>SMAPE_percentile_75</td><td>▁</td></tr><tr><td>SMAPE_percentile_95</td><td>▁</td></tr><tr><td>SMAPE_std</td><td>▁</td></tr><tr><td>Sign_mean</td><td>▁</td></tr><tr><td>Sign_median</td><td>▁</td></tr><tr><td>Sign_percentile_25</td><td>▁</td></tr><tr><td>Sign_percentile_5</td><td>▁</td></tr><tr><td>Sign_percentile_75</td><td>▁</td></tr><tr><td>Sign_percentile_95</td><td>▁</td></tr><tr><td>Sign_std</td><td>▁</td></tr></table><br/></div><div class=\"wandb-col\"><h3>Run summary:</h3><br/><table class=\"wandb\"><tr><td>MAE_mean</td><td>49.08452</td></tr><tr><td>MAE_median</td><td>45.60476</td></tr><tr><td>MAE_percentile_25</td><td>40.18618</td></tr><tr><td>MAE_percentile_5</td><td>30.10691</td></tr><tr><td>MAE_percentile_75</td><td>54.5031</td></tr><tr><td>MAE_percentile_95</td><td>72.9338</td></tr><tr><td>MAE_std</td><td>20.80967</td></tr><tr><td>MSE_mean</td><td>5435.14623</td></tr><tr><td>MSE_median</td><td>4047.30993</td></tr><tr><td>MSE_percentile_25</td><td>2508.57417</td></tr><tr><td>MSE_percentile_5</td><td>1554.40163</td></tr><tr><td>MSE_percentile_75</td><td>6973.88198</td></tr><tr><td>MSE_percentile_95</td><td>11258.86164</td></tr><tr><td>MSE_std</td><td>4863.66455</td></tr><tr><td>SMAPE_mean</td><td>12.59502</td></tr><tr><td>SMAPE_median</td><td>9.80652</td></tr><tr><td>SMAPE_percentile_25</td><td>8.55038</td></tr><tr><td>SMAPE_percentile_5</td><td>8.49362</td></tr><tr><td>SMAPE_percentile_75</td><td>13.85116</td></tr><tr><td>SMAPE_percentile_95</td><td>20.60033</td></tr><tr><td>SMAPE_std</td><td>6.56947</td></tr><tr><td>Sign_mean</td><td>0.28571</td></tr><tr><td>Sign_median</td><td>0.28571</td></tr><tr><td>Sign_percentile_25</td><td>0.10714</td></tr><tr><td>Sign_percentile_5</td><td>0.02143</td></tr><tr><td>Sign_percentile_75</td><td>0.46429</td></tr><tr><td>Sign_percentile_95</td><td>0.55</td></tr><tr><td>Sign_std</td><td>0.26082</td></tr></table><br/></div></div>"
      ],
      "text/plain": [
       "<IPython.core.display.HTML object>"
      ]
     },
     "metadata": {},
     "output_type": "display_data"
    },
    {
     "data": {
      "text/html": [
       "Synced <strong style=\"color:#cdcd00\">YYPrJbCs</strong>: <a href=\"https://wandb.ai/gewissta/wandb-sweeps/runs/35j4t0ak\" target=\"_blank\">https://wandb.ai/gewissta/wandb-sweeps/runs/35j4t0ak</a><br/>Synced 5 W&B file(s), 3 media file(s), 3 artifact file(s) and 0 other file(s)"
      ],
      "text/plain": [
       "<IPython.core.display.HTML object>"
      ]
     },
     "metadata": {},
     "output_type": "display_data"
    },
    {
     "data": {
      "text/html": [
       "Find logs at: <code>./wandb/run-20221224_213747-35j4t0ak/logs</code>"
      ],
      "text/plain": [
       "<IPython.core.display.HTML object>"
      ]
     },
     "metadata": {},
     "output_type": "display_data"
    },
    {
     "name": "stderr",
     "output_type": "stream",
     "text": [
      "[Parallel(n_jobs=1)]: Done   5 out of   5 | elapsed:  2.6min remaining:    0.0s\n",
      "[Parallel(n_jobs=1)]: Done   5 out of   5 | elapsed:  2.6min finished\n"
     ]
    },
    {
     "data": {
      "text/html": [
       "Changes to your `wandb` environment variables will be ignored because your `wandb` session has already started. For more information on how to modify your settings with `wandb.init()` arguments, please refer to <a href=\"https://wandb.me/wandb-init\" target=\"_blank\">the W&B docs</a>."
      ],
      "text/plain": [
       "<IPython.core.display.HTML object>"
      ]
     },
     "metadata": {},
     "output_type": "display_data"
    },
    {
     "data": {
      "text/html": [
       "wandb version 0.13.7 is available!  To upgrade, please run:\n",
       " $ pip install wandb --upgrade"
      ],
      "text/plain": [
       "<IPython.core.display.HTML object>"
      ]
     },
     "metadata": {},
     "output_type": "display_data"
    },
    {
     "data": {
      "text/html": [
       "Tracking run with wandb version 0.12.21"
      ],
      "text/plain": [
       "<IPython.core.display.HTML object>"
      ]
     },
     "metadata": {},
     "output_type": "display_data"
    },
    {
     "data": {
      "text/html": [
       "Run data is saved locally in <code>/Users/artemgruzdev/Documents/Data_Preprocessing_in_Python_для издательства/wandb/run-20221224_213827-1tsmmve9</code>"
      ],
      "text/plain": [
       "<IPython.core.display.HTML object>"
      ]
     },
     "metadata": {},
     "output_type": "display_data"
    },
    {
     "data": {
      "text/html": [
       "Syncing run <strong><a href=\"https://wandb.ai/gewissta/wandb-sweeps/runs/1tsmmve9\" target=\"_blank\">YYPrJbCs</a></strong> to <a href=\"https://wandb.ai/gewissta/wandb-sweeps\" target=\"_blank\">Weights & Biases</a> (<a href=\"https://wandb.me/run\" target=\"_blank\">docs</a>)<br/>"
      ],
      "text/plain": [
       "<IPython.core.display.HTML object>"
      ]
     },
     "metadata": {},
     "output_type": "display_data"
    },
    {
     "data": {
      "text/html": [
       "Waiting for W&B process to finish... <strong style=\"color:green\">(success).</strong>"
      ],
      "text/plain": [
       "<IPython.core.display.HTML object>"
      ]
     },
     "metadata": {},
     "output_type": "display_data"
    },
    {
     "data": {
      "application/vnd.jupyter.widget-view+json": {
       "model_id": "",
       "version_major": 2,
       "version_minor": 0
      },
      "text/plain": [
       "VBox(children=(Label(value='0.270 MB of 0.326 MB uploaded (0.000 MB deduped)\\r'), FloatProgress(value=0.828843…"
      ]
     },
     "metadata": {},
     "output_type": "display_data"
    },
    {
     "data": {
      "text/html": [
       "<style>\n",
       "    table.wandb td:nth-child(1) { padding: 0 10px; text-align: left ; width: auto;} td:nth-child(2) {text-align: left ; width: 100%}\n",
       "    .wandb-row { display: flex; flex-direction: row; flex-wrap: wrap; justify-content: flex-start; width: 100% }\n",
       "    .wandb-col { display: flex; flex-direction: column; flex-basis: 100%; flex: 1; padding: 10px; }\n",
       "    </style>\n",
       "<div class=\"wandb-row\"><div class=\"wandb-col\"><h3>Run history:</h3><br/><table class=\"wandb\"><tr><td>MAE_mean</td><td>▁</td></tr><tr><td>MAE_median</td><td>▁</td></tr><tr><td>MAE_percentile_25</td><td>▁</td></tr><tr><td>MAE_percentile_5</td><td>▁</td></tr><tr><td>MAE_percentile_75</td><td>▁</td></tr><tr><td>MAE_percentile_95</td><td>▁</td></tr><tr><td>MAE_std</td><td>▁</td></tr><tr><td>MSE_mean</td><td>▁</td></tr><tr><td>MSE_median</td><td>▁</td></tr><tr><td>MSE_percentile_25</td><td>▁</td></tr><tr><td>MSE_percentile_5</td><td>▁</td></tr><tr><td>MSE_percentile_75</td><td>▁</td></tr><tr><td>MSE_percentile_95</td><td>▁</td></tr><tr><td>MSE_std</td><td>▁</td></tr><tr><td>SMAPE_mean</td><td>▁</td></tr><tr><td>SMAPE_median</td><td>▁</td></tr><tr><td>SMAPE_percentile_25</td><td>▁</td></tr><tr><td>SMAPE_percentile_5</td><td>▁</td></tr><tr><td>SMAPE_percentile_75</td><td>▁</td></tr><tr><td>SMAPE_percentile_95</td><td>▁</td></tr><tr><td>SMAPE_std</td><td>▁</td></tr><tr><td>Sign_mean</td><td>▁</td></tr><tr><td>Sign_median</td><td>▁</td></tr><tr><td>Sign_percentile_25</td><td>▁</td></tr><tr><td>Sign_percentile_5</td><td>▁</td></tr><tr><td>Sign_percentile_75</td><td>▁</td></tr><tr><td>Sign_percentile_95</td><td>▁</td></tr><tr><td>Sign_std</td><td>▁</td></tr></table><br/></div><div class=\"wandb-col\"><h3>Run summary:</h3><br/><table class=\"wandb\"><tr><td>MAE_mean</td><td>45.05304</td></tr><tr><td>MAE_median</td><td>37.95081</td></tr><tr><td>MAE_percentile_25</td><td>20.61585</td></tr><tr><td>MAE_percentile_5</td><td>20.34795</td></tr><tr><td>MAE_percentile_75</td><td>62.38799</td></tr><tr><td>MAE_percentile_95</td><td>79.70126</td></tr><tr><td>MAE_std</td><td>30.69742</td></tr><tr><td>MSE_mean</td><td>4528.90648</td></tr><tr><td>MSE_median</td><td>2954.09244</td></tr><tr><td>MSE_percentile_25</td><td>903.62218</td></tr><tr><td>MSE_percentile_5</td><td>727.31828</td></tr><tr><td>MSE_percentile_75</td><td>6579.37674</td></tr><tr><td>MSE_percentile_95</td><td>10535.23435</td></tr><tr><td>MSE_std</td><td>5049.76781</td></tr><tr><td>SMAPE_mean</td><td>9.87848</td></tr><tr><td>SMAPE_median</td><td>10.06968</td></tr><tr><td>SMAPE_percentile_25</td><td>9.58701</td></tr><tr><td>SMAPE_percentile_5</td><td>8.80014</td></tr><tr><td>SMAPE_percentile_75</td><td>10.36116</td></tr><tr><td>SMAPE_percentile_95</td><td>10.68913</td></tr><tr><td>SMAPE_std</td><td>0.92081</td></tr><tr><td>Sign_mean</td><td>0.30714</td></tr><tr><td>Sign_median</td><td>0.3</td></tr><tr><td>Sign_percentile_25</td><td>0.22857</td></tr><tr><td>Sign_percentile_5</td><td>0.22857</td></tr><tr><td>Sign_percentile_75</td><td>0.37857</td></tr><tr><td>Sign_percentile_95</td><td>0.39571</td></tr><tr><td>Sign_std</td><td>0.09147</td></tr></table><br/></div></div>"
      ],
      "text/plain": [
       "<IPython.core.display.HTML object>"
      ]
     },
     "metadata": {},
     "output_type": "display_data"
    },
    {
     "data": {
      "text/html": [
       "Synced <strong style=\"color:#cdcd00\">YYPrJbCs</strong>: <a href=\"https://wandb.ai/gewissta/wandb-sweeps/runs/1tsmmve9\" target=\"_blank\">https://wandb.ai/gewissta/wandb-sweeps/runs/1tsmmve9</a><br/>Synced 5 W&B file(s), 4 media file(s), 3 artifact file(s) and 0 other file(s)"
      ],
      "text/plain": [
       "<IPython.core.display.HTML object>"
      ]
     },
     "metadata": {},
     "output_type": "display_data"
    },
    {
     "data": {
      "text/html": [
       "Find logs at: <code>./wandb/run-20221224_213827-1tsmmve9/logs</code>"
      ],
      "text/plain": [
       "<IPython.core.display.HTML object>"
      ]
     },
     "metadata": {},
     "output_type": "display_data"
    },
    {
     "name": "stderr",
     "output_type": "stream",
     "text": [
      "\u001b[32m[I 2022-12-24 21:38:56,273]\u001b[0m Trial 0 finished with value: 45.05303934417718 and parameters: {'iterations': 33, 'depth': 8, 'lags': 21}. Best is trial 0 with value: 45.05303934417718.\u001b[0m\n",
      "[Parallel(n_jobs=1)]: Using backend SequentialBackend with 1 concurrent workers.\n"
     ]
    },
    {
     "data": {
      "text/html": [
       "Changes to your `wandb` environment variables will be ignored because your `wandb` session has already started. For more information on how to modify your settings with `wandb.init()` arguments, please refer to <a href=\"https://wandb.me/wandb-init\" target=\"_blank\">the W&B docs</a>."
      ],
      "text/plain": [
       "<IPython.core.display.HTML object>"
      ]
     },
     "metadata": {},
     "output_type": "display_data"
    },
    {
     "data": {
      "text/html": [
       "wandb version 0.13.7 is available!  To upgrade, please run:\n",
       " $ pip install wandb --upgrade"
      ],
      "text/plain": [
       "<IPython.core.display.HTML object>"
      ]
     },
     "metadata": {},
     "output_type": "display_data"
    },
    {
     "data": {
      "text/html": [
       "Tracking run with wandb version 0.12.21"
      ],
      "text/plain": [
       "<IPython.core.display.HTML object>"
      ]
     },
     "metadata": {},
     "output_type": "display_data"
    },
    {
     "data": {
      "text/html": [
       "Run data is saved locally in <code>/Users/artemgruzdev/Documents/Data_Preprocessing_in_Python_для издательства/wandb/run-20221224_213856-364ybtvs</code>"
      ],
      "text/plain": [
       "<IPython.core.display.HTML object>"
      ]
     },
     "metadata": {},
     "output_type": "display_data"
    },
    {
     "data": {
      "text/html": [
       "Syncing run <strong><a href=\"https://wandb.ai/gewissta/wandb-sweeps/runs/364ybtvs\" target=\"_blank\">NWQqoKNq</a></strong> to <a href=\"https://wandb.ai/gewissta/wandb-sweeps\" target=\"_blank\">Weights & Biases</a> (<a href=\"https://wandb.me/run\" target=\"_blank\">docs</a>)<br/>"
      ],
      "text/plain": [
       "<IPython.core.display.HTML object>"
      ]
     },
     "metadata": {},
     "output_type": "display_data"
    },
    {
     "data": {
      "text/html": [
       "Waiting for W&B process to finish... <strong style=\"color:green\">(success).</strong>"
      ],
      "text/plain": [
       "<IPython.core.display.HTML object>"
      ]
     },
     "metadata": {},
     "output_type": "display_data"
    },
    {
     "data": {
      "application/vnd.jupyter.widget-view+json": {
       "model_id": "",
       "version_major": 2,
       "version_minor": 0
      },
      "text/plain": [
       "VBox(children=(Label(value='0.013 MB of 0.015 MB uploaded (0.000 MB deduped)\\r'), FloatProgress(value=0.853221…"
      ]
     },
     "metadata": {},
     "output_type": "display_data"
    },
    {
     "data": {
      "text/html": [
       "<style>\n",
       "    table.wandb td:nth-child(1) { padding: 0 10px; text-align: left ; width: auto;} td:nth-child(2) {text-align: left ; width: 100%}\n",
       "    .wandb-row { display: flex; flex-direction: row; flex-wrap: wrap; justify-content: flex-start; width: 100% }\n",
       "    .wandb-col { display: flex; flex-direction: column; flex-basis: 100%; flex: 1; padding: 10px; }\n",
       "    </style>\n",
       "<div class=\"wandb-row\"><div class=\"wandb-col\"><h3>Run history:</h3><br/><table class=\"wandb\"><tr><td>MAE_mean</td><td>▁</td></tr><tr><td>MAE_median</td><td>▁</td></tr><tr><td>MAE_percentile_25</td><td>▁</td></tr><tr><td>MAE_percentile_5</td><td>▁</td></tr><tr><td>MAE_percentile_75</td><td>▁</td></tr><tr><td>MAE_percentile_95</td><td>▁</td></tr><tr><td>MAE_std</td><td>▁</td></tr><tr><td>MSE_mean</td><td>▁</td></tr><tr><td>MSE_median</td><td>▁</td></tr><tr><td>MSE_percentile_25</td><td>▁</td></tr><tr><td>MSE_percentile_5</td><td>▁</td></tr><tr><td>MSE_percentile_75</td><td>▁</td></tr><tr><td>MSE_percentile_95</td><td>▁</td></tr><tr><td>MSE_std</td><td>▁</td></tr><tr><td>SMAPE_mean</td><td>▁</td></tr><tr><td>SMAPE_median</td><td>▁</td></tr><tr><td>SMAPE_percentile_25</td><td>▁</td></tr><tr><td>SMAPE_percentile_5</td><td>▁</td></tr><tr><td>SMAPE_percentile_75</td><td>▁</td></tr><tr><td>SMAPE_percentile_95</td><td>▁</td></tr><tr><td>SMAPE_std</td><td>▁</td></tr><tr><td>Sign_mean</td><td>▁</td></tr><tr><td>Sign_median</td><td>▁</td></tr><tr><td>Sign_percentile_25</td><td>▁</td></tr><tr><td>Sign_percentile_5</td><td>▁</td></tr><tr><td>Sign_percentile_75</td><td>▁</td></tr><tr><td>Sign_percentile_95</td><td>▁</td></tr><tr><td>Sign_std</td><td>▁</td></tr></table><br/></div><div class=\"wandb-col\"><h3>Run summary:</h3><br/><table class=\"wandb\"><tr><td>MAE_mean</td><td>34.99293</td></tr><tr><td>MAE_median</td><td>28.89626</td></tr><tr><td>MAE_percentile_25</td><td>16.42408</td></tr><tr><td>MAE_percentile_5</td><td>15.12547</td></tr><tr><td>MAE_percentile_75</td><td>47.46511</td></tr><tr><td>MAE_percentile_95</td><td>63.39574</td></tr><tr><td>MAE_std</td><td>24.60068</td></tr><tr><td>MSE_mean</td><td>2946.40064</td></tr><tr><td>MSE_median</td><td>1768.08145</td></tr><tr><td>MSE_percentile_25</td><td>376.67984</td></tr><tr><td>MSE_percentile_5</td><td>355.02984</td></tr><tr><td>MSE_percentile_75</td><td>4337.80225</td></tr><tr><td>MSE_percentile_95</td><td>7187.41829</td></tr><tr><td>MSE_std</td><td>3553.33154</td></tr><tr><td>SMAPE_mean</td><td>8.73049</td></tr><tr><td>SMAPE_median</td><td>8.82781</td></tr><tr><td>SMAPE_percentile_25</td><td>8.17421</td></tr><tr><td>SMAPE_percentile_5</td><td>6.95581</td></tr><tr><td>SMAPE_percentile_75</td><td>9.3841</td></tr><tr><td>SMAPE_percentile_95</td><td>10.36892</td></tr><tr><td>SMAPE_std</td><td>1.62653</td></tr><tr><td>Sign_mean</td><td>0.0</td></tr><tr><td>Sign_median</td><td>-0.14286</td></tr><tr><td>Sign_percentile_25</td><td>-0.25</td></tr><tr><td>Sign_percentile_5</td><td>-0.50714</td></tr><tr><td>Sign_percentile_75</td><td>0.10714</td></tr><tr><td>Sign_percentile_95</td><td>0.70714</td></tr><tr><td>Sign_std</td><td>0.60609</td></tr></table><br/></div></div>"
      ],
      "text/plain": [
       "<IPython.core.display.HTML object>"
      ]
     },
     "metadata": {},
     "output_type": "display_data"
    },
    {
     "data": {
      "text/html": [
       "Synced <strong style=\"color:#cdcd00\">NWQqoKNq</strong>: <a href=\"https://wandb.ai/gewissta/wandb-sweeps/runs/364ybtvs\" target=\"_blank\">https://wandb.ai/gewissta/wandb-sweeps/runs/364ybtvs</a><br/>Synced 5 W&B file(s), 3 media file(s), 3 artifact file(s) and 0 other file(s)"
      ],
      "text/plain": [
       "<IPython.core.display.HTML object>"
      ]
     },
     "metadata": {},
     "output_type": "display_data"
    },
    {
     "data": {
      "text/html": [
       "Find logs at: <code>./wandb/run-20221224_213856-364ybtvs/logs</code>"
      ],
      "text/plain": [
       "<IPython.core.display.HTML object>"
      ]
     },
     "metadata": {},
     "output_type": "display_data"
    },
    {
     "name": "stderr",
     "output_type": "stream",
     "text": [
      "[Parallel(n_jobs=1)]: Done   1 out of   1 | elapsed:   28.7s remaining:    0.0s\n"
     ]
    },
    {
     "data": {
      "text/html": [
       "Changes to your `wandb` environment variables will be ignored because your `wandb` session has already started. For more information on how to modify your settings with `wandb.init()` arguments, please refer to <a href=\"https://wandb.me/wandb-init\" target=\"_blank\">the W&B docs</a>."
      ],
      "text/plain": [
       "<IPython.core.display.HTML object>"
      ]
     },
     "metadata": {},
     "output_type": "display_data"
    },
    {
     "data": {
      "text/html": [
       "wandb version 0.13.7 is available!  To upgrade, please run:\n",
       " $ pip install wandb --upgrade"
      ],
      "text/plain": [
       "<IPython.core.display.HTML object>"
      ]
     },
     "metadata": {},
     "output_type": "display_data"
    },
    {
     "data": {
      "text/html": [
       "Tracking run with wandb version 0.12.21"
      ],
      "text/plain": [
       "<IPython.core.display.HTML object>"
      ]
     },
     "metadata": {},
     "output_type": "display_data"
    },
    {
     "data": {
      "text/html": [
       "Run data is saved locally in <code>/Users/artemgruzdev/Documents/Data_Preprocessing_in_Python_для издательства/wandb/run-20221224_213925-ct0lbxuy</code>"
      ],
      "text/plain": [
       "<IPython.core.display.HTML object>"
      ]
     },
     "metadata": {},
     "output_type": "display_data"
    },
    {
     "data": {
      "text/html": [
       "Syncing run <strong><a href=\"https://wandb.ai/gewissta/wandb-sweeps/runs/ct0lbxuy\" target=\"_blank\">NWQqoKNq</a></strong> to <a href=\"https://wandb.ai/gewissta/wandb-sweeps\" target=\"_blank\">Weights & Biases</a> (<a href=\"https://wandb.me/run\" target=\"_blank\">docs</a>)<br/>"
      ],
      "text/plain": [
       "<IPython.core.display.HTML object>"
      ]
     },
     "metadata": {},
     "output_type": "display_data"
    },
    {
     "data": {
      "text/html": [
       "Waiting for W&B process to finish... <strong style=\"color:green\">(success).</strong>"
      ],
      "text/plain": [
       "<IPython.core.display.HTML object>"
      ]
     },
     "metadata": {},
     "output_type": "display_data"
    },
    {
     "data": {
      "application/vnd.jupyter.widget-view+json": {
       "model_id": "",
       "version_major": 2,
       "version_minor": 0
      },
      "text/plain": [
       "VBox(children=(Label(value='0.013 MB of 0.015 MB uploaded (0.000 MB deduped)\\r'), FloatProgress(value=0.853093…"
      ]
     },
     "metadata": {},
     "output_type": "display_data"
    },
    {
     "data": {
      "text/html": [
       "<style>\n",
       "    table.wandb td:nth-child(1) { padding: 0 10px; text-align: left ; width: auto;} td:nth-child(2) {text-align: left ; width: 100%}\n",
       "    .wandb-row { display: flex; flex-direction: row; flex-wrap: wrap; justify-content: flex-start; width: 100% }\n",
       "    .wandb-col { display: flex; flex-direction: column; flex-basis: 100%; flex: 1; padding: 10px; }\n",
       "    </style>\n",
       "<div class=\"wandb-row\"><div class=\"wandb-col\"><h3>Run history:</h3><br/><table class=\"wandb\"><tr><td>MAE_mean</td><td>▁</td></tr><tr><td>MAE_median</td><td>▁</td></tr><tr><td>MAE_percentile_25</td><td>▁</td></tr><tr><td>MAE_percentile_5</td><td>▁</td></tr><tr><td>MAE_percentile_75</td><td>▁</td></tr><tr><td>MAE_percentile_95</td><td>▁</td></tr><tr><td>MAE_std</td><td>▁</td></tr><tr><td>MSE_mean</td><td>▁</td></tr><tr><td>MSE_median</td><td>▁</td></tr><tr><td>MSE_percentile_25</td><td>▁</td></tr><tr><td>MSE_percentile_5</td><td>▁</td></tr><tr><td>MSE_percentile_75</td><td>▁</td></tr><tr><td>MSE_percentile_95</td><td>▁</td></tr><tr><td>MSE_std</td><td>▁</td></tr><tr><td>SMAPE_mean</td><td>▁</td></tr><tr><td>SMAPE_median</td><td>▁</td></tr><tr><td>SMAPE_percentile_25</td><td>▁</td></tr><tr><td>SMAPE_percentile_5</td><td>▁</td></tr><tr><td>SMAPE_percentile_75</td><td>▁</td></tr><tr><td>SMAPE_percentile_95</td><td>▁</td></tr><tr><td>SMAPE_std</td><td>▁</td></tr><tr><td>Sign_mean</td><td>▁</td></tr><tr><td>Sign_median</td><td>▁</td></tr><tr><td>Sign_percentile_25</td><td>▁</td></tr><tr><td>Sign_percentile_5</td><td>▁</td></tr><tr><td>Sign_percentile_75</td><td>▁</td></tr><tr><td>Sign_percentile_95</td><td>▁</td></tr><tr><td>Sign_std</td><td>▁</td></tr></table><br/></div><div class=\"wandb-col\"><h3>Run summary:</h3><br/><table class=\"wandb\"><tr><td>MAE_mean</td><td>48.30246</td></tr><tr><td>MAE_median</td><td>48.36036</td></tr><tr><td>MAE_percentile_25</td><td>26.74565</td></tr><tr><td>MAE_percentile_5</td><td>18.783</td></tr><tr><td>MAE_percentile_75</td><td>69.91716</td></tr><tr><td>MAE_percentile_95</td><td>77.74086</td></tr><tr><td>MAE_std</td><td>29.71001</td></tr><tr><td>MSE_mean</td><td>4379.34418</td></tr><tr><td>MSE_median</td><td>3585.69811</td></tr><tr><td>MSE_percentile_25</td><td>964.99224</td></tr><tr><td>MSE_percentile_5</td><td>486.45367</td></tr><tr><td>MSE_percentile_75</td><td>7000.05006</td></tr><tr><td>MSE_percentile_95</td><td>9383.3392</td></tr><tr><td>MSE_std</td><td>4488.63717</td></tr><tr><td>SMAPE_mean</td><td>11.47451</td></tr><tr><td>SMAPE_median</td><td>11.31663</td></tr><tr><td>SMAPE_percentile_25</td><td>9.87182</td></tr><tr><td>SMAPE_percentile_5</td><td>9.76754</td></tr><tr><td>SMAPE_percentile_75</td><td>12.91932</td></tr><tr><td>SMAPE_percentile_95</td><td>13.40252</td></tr><tr><td>SMAPE_std</td><td>1.93033</td></tr><tr><td>Sign_mean</td><td>0.57143</td></tr><tr><td>Sign_median</td><td>0.57143</td></tr><tr><td>Sign_percentile_25</td><td>0.53571</td></tr><tr><td>Sign_percentile_5</td><td>0.45</td></tr><tr><td>Sign_percentile_75</td><td>0.60714</td></tr><tr><td>Sign_percentile_95</td><td>0.69286</td></tr><tr><td>Sign_std</td><td>0.11664</td></tr></table><br/></div></div>"
      ],
      "text/plain": [
       "<IPython.core.display.HTML object>"
      ]
     },
     "metadata": {},
     "output_type": "display_data"
    },
    {
     "data": {
      "text/html": [
       "Synced <strong style=\"color:#cdcd00\">NWQqoKNq</strong>: <a href=\"https://wandb.ai/gewissta/wandb-sweeps/runs/ct0lbxuy\" target=\"_blank\">https://wandb.ai/gewissta/wandb-sweeps/runs/ct0lbxuy</a><br/>Synced 5 W&B file(s), 3 media file(s), 3 artifact file(s) and 0 other file(s)"
      ],
      "text/plain": [
       "<IPython.core.display.HTML object>"
      ]
     },
     "metadata": {},
     "output_type": "display_data"
    },
    {
     "data": {
      "text/html": [
       "Find logs at: <code>./wandb/run-20221224_213925-ct0lbxuy/logs</code>"
      ],
      "text/plain": [
       "<IPython.core.display.HTML object>"
      ]
     },
     "metadata": {},
     "output_type": "display_data"
    },
    {
     "name": "stderr",
     "output_type": "stream",
     "text": [
      "[Parallel(n_jobs=1)]: Done   2 out of   2 | elapsed:   59.4s remaining:    0.0s\n"
     ]
    },
    {
     "data": {
      "text/html": [
       "Changes to your `wandb` environment variables will be ignored because your `wandb` session has already started. For more information on how to modify your settings with `wandb.init()` arguments, please refer to <a href=\"https://wandb.me/wandb-init\" target=\"_blank\">the W&B docs</a>."
      ],
      "text/plain": [
       "<IPython.core.display.HTML object>"
      ]
     },
     "metadata": {},
     "output_type": "display_data"
    },
    {
     "data": {
      "text/html": [
       "wandb version 0.13.7 is available!  To upgrade, please run:\n",
       " $ pip install wandb --upgrade"
      ],
      "text/plain": [
       "<IPython.core.display.HTML object>"
      ]
     },
     "metadata": {},
     "output_type": "display_data"
    },
    {
     "data": {
      "text/html": [
       "Tracking run with wandb version 0.12.21"
      ],
      "text/plain": [
       "<IPython.core.display.HTML object>"
      ]
     },
     "metadata": {},
     "output_type": "display_data"
    },
    {
     "data": {
      "text/html": [
       "Run data is saved locally in <code>/Users/artemgruzdev/Documents/Data_Preprocessing_in_Python_для издательства/wandb/run-20221224_213955-1veeg5ym</code>"
      ],
      "text/plain": [
       "<IPython.core.display.HTML object>"
      ]
     },
     "metadata": {},
     "output_type": "display_data"
    },
    {
     "data": {
      "text/html": [
       "Syncing run <strong><a href=\"https://wandb.ai/gewissta/wandb-sweeps/runs/1veeg5ym\" target=\"_blank\">NWQqoKNq</a></strong> to <a href=\"https://wandb.ai/gewissta/wandb-sweeps\" target=\"_blank\">Weights & Biases</a> (<a href=\"https://wandb.me/run\" target=\"_blank\">docs</a>)<br/>"
      ],
      "text/plain": [
       "<IPython.core.display.HTML object>"
      ]
     },
     "metadata": {},
     "output_type": "display_data"
    },
    {
     "data": {
      "text/html": [
       "Waiting for W&B process to finish... <strong style=\"color:green\">(success).</strong>"
      ],
      "text/plain": [
       "<IPython.core.display.HTML object>"
      ]
     },
     "metadata": {},
     "output_type": "display_data"
    },
    {
     "data": {
      "application/vnd.jupyter.widget-view+json": {
       "model_id": "",
       "version_major": 2,
       "version_minor": 0
      },
      "text/plain": [
       "VBox(children=(Label(value='0.013 MB of 0.015 MB uploaded (0.000 MB deduped)\\r'), FloatProgress(value=0.852448…"
      ]
     },
     "metadata": {},
     "output_type": "display_data"
    },
    {
     "data": {
      "text/html": [
       "<style>\n",
       "    table.wandb td:nth-child(1) { padding: 0 10px; text-align: left ; width: auto;} td:nth-child(2) {text-align: left ; width: 100%}\n",
       "    .wandb-row { display: flex; flex-direction: row; flex-wrap: wrap; justify-content: flex-start; width: 100% }\n",
       "    .wandb-col { display: flex; flex-direction: column; flex-basis: 100%; flex: 1; padding: 10px; }\n",
       "    </style>\n",
       "<div class=\"wandb-row\"><div class=\"wandb-col\"><h3>Run history:</h3><br/><table class=\"wandb\"><tr><td>MAE_mean</td><td>▁</td></tr><tr><td>MAE_median</td><td>▁</td></tr><tr><td>MAE_percentile_25</td><td>▁</td></tr><tr><td>MAE_percentile_5</td><td>▁</td></tr><tr><td>MAE_percentile_75</td><td>▁</td></tr><tr><td>MAE_percentile_95</td><td>▁</td></tr><tr><td>MAE_std</td><td>▁</td></tr><tr><td>MSE_mean</td><td>▁</td></tr><tr><td>MSE_median</td><td>▁</td></tr><tr><td>MSE_percentile_25</td><td>▁</td></tr><tr><td>MSE_percentile_5</td><td>▁</td></tr><tr><td>MSE_percentile_75</td><td>▁</td></tr><tr><td>MSE_percentile_95</td><td>▁</td></tr><tr><td>MSE_std</td><td>▁</td></tr><tr><td>SMAPE_mean</td><td>▁</td></tr><tr><td>SMAPE_median</td><td>▁</td></tr><tr><td>SMAPE_percentile_25</td><td>▁</td></tr><tr><td>SMAPE_percentile_5</td><td>▁</td></tr><tr><td>SMAPE_percentile_75</td><td>▁</td></tr><tr><td>SMAPE_percentile_95</td><td>▁</td></tr><tr><td>SMAPE_std</td><td>▁</td></tr><tr><td>Sign_mean</td><td>▁</td></tr><tr><td>Sign_median</td><td>▁</td></tr><tr><td>Sign_percentile_25</td><td>▁</td></tr><tr><td>Sign_percentile_5</td><td>▁</td></tr><tr><td>Sign_percentile_75</td><td>▁</td></tr><tr><td>Sign_percentile_95</td><td>▁</td></tr><tr><td>Sign_std</td><td>▁</td></tr></table><br/></div><div class=\"wandb-col\"><h3>Run summary:</h3><br/><table class=\"wandb\"><tr><td>MAE_mean</td><td>31.99176</td></tr><tr><td>MAE_median</td><td>34.42312</td></tr><tr><td>MAE_percentile_25</td><td>22.0933</td></tr><tr><td>MAE_percentile_5</td><td>13.66478</td></tr><tr><td>MAE_percentile_75</td><td>44.32158</td></tr><tr><td>MAE_percentile_95</td><td>46.91486</td></tr><tr><td>MAE_std</td><td>16.6068</td></tr><tr><td>MSE_mean</td><td>1715.78733</td></tr><tr><td>MSE_median</td><td>1849.74689</td></tr><tr><td>MSE_percentile_25</td><td>632.96508</td></tr><tr><td>MSE_percentile_5</td><td>278.81692</td></tr><tr><td>MSE_percentile_75</td><td>2932.56914</td></tr><tr><td>MSE_percentile_95</td><td>2965.21436</td></tr><tr><td>MSE_std</td><td>1441.18642</td></tr><tr><td>SMAPE_mean</td><td>8.41008</td></tr><tr><td>SMAPE_median</td><td>7.04239</td></tr><tr><td>SMAPE_percentile_25</td><td>5.07476</td></tr><tr><td>SMAPE_percentile_5</td><td>4.87875</td></tr><tr><td>SMAPE_percentile_75</td><td>10.37771</td></tr><tr><td>SMAPE_percentile_95</td><td>13.85617</td></tr><tr><td>SMAPE_std</td><td>4.60296</td></tr><tr><td>Sign_mean</td><td>0.53571</td></tr><tr><td>Sign_median</td><td>0.57143</td></tr><tr><td>Sign_percentile_25</td><td>0.32143</td></tr><tr><td>Sign_percentile_5</td><td>0.06429</td></tr><tr><td>Sign_percentile_75</td><td>0.78571</td></tr><tr><td>Sign_percentile_95</td><td>0.95714</td></tr><tr><td>Sign_std</td><td>0.42658</td></tr></table><br/></div></div>"
      ],
      "text/plain": [
       "<IPython.core.display.HTML object>"
      ]
     },
     "metadata": {},
     "output_type": "display_data"
    },
    {
     "data": {
      "text/html": [
       "Synced <strong style=\"color:#cdcd00\">NWQqoKNq</strong>: <a href=\"https://wandb.ai/gewissta/wandb-sweeps/runs/1veeg5ym\" target=\"_blank\">https://wandb.ai/gewissta/wandb-sweeps/runs/1veeg5ym</a><br/>Synced 5 W&B file(s), 3 media file(s), 3 artifact file(s) and 0 other file(s)"
      ],
      "text/plain": [
       "<IPython.core.display.HTML object>"
      ]
     },
     "metadata": {},
     "output_type": "display_data"
    },
    {
     "data": {
      "text/html": [
       "Find logs at: <code>./wandb/run-20221224_213955-1veeg5ym/logs</code>"
      ],
      "text/plain": [
       "<IPython.core.display.HTML object>"
      ]
     },
     "metadata": {},
     "output_type": "display_data"
    },
    {
     "name": "stderr",
     "output_type": "stream",
     "text": [
      "[Parallel(n_jobs=1)]: Done   3 out of   3 | elapsed:  1.5min remaining:    0.0s\n"
     ]
    },
    {
     "data": {
      "text/html": [
       "Changes to your `wandb` environment variables will be ignored because your `wandb` session has already started. For more information on how to modify your settings with `wandb.init()` arguments, please refer to <a href=\"https://wandb.me/wandb-init\" target=\"_blank\">the W&B docs</a>."
      ],
      "text/plain": [
       "<IPython.core.display.HTML object>"
      ]
     },
     "metadata": {},
     "output_type": "display_data"
    },
    {
     "data": {
      "text/html": [
       "wandb version 0.13.7 is available!  To upgrade, please run:\n",
       " $ pip install wandb --upgrade"
      ],
      "text/plain": [
       "<IPython.core.display.HTML object>"
      ]
     },
     "metadata": {},
     "output_type": "display_data"
    },
    {
     "data": {
      "text/html": [
       "Tracking run with wandb version 0.12.21"
      ],
      "text/plain": [
       "<IPython.core.display.HTML object>"
      ]
     },
     "metadata": {},
     "output_type": "display_data"
    },
    {
     "data": {
      "text/html": [
       "Run data is saved locally in <code>/Users/artemgruzdev/Documents/Data_Preprocessing_in_Python_для издательства/wandb/run-20221224_214024-2imfgw0w</code>"
      ],
      "text/plain": [
       "<IPython.core.display.HTML object>"
      ]
     },
     "metadata": {},
     "output_type": "display_data"
    },
    {
     "data": {
      "text/html": [
       "Syncing run <strong><a href=\"https://wandb.ai/gewissta/wandb-sweeps/runs/2imfgw0w\" target=\"_blank\">NWQqoKNq</a></strong> to <a href=\"https://wandb.ai/gewissta/wandb-sweeps\" target=\"_blank\">Weights & Biases</a> (<a href=\"https://wandb.me/run\" target=\"_blank\">docs</a>)<br/>"
      ],
      "text/plain": [
       "<IPython.core.display.HTML object>"
      ]
     },
     "metadata": {},
     "output_type": "display_data"
    },
    {
     "data": {
      "text/html": [
       "Waiting for W&B process to finish... <strong style=\"color:green\">(success).</strong>"
      ],
      "text/plain": [
       "<IPython.core.display.HTML object>"
      ]
     },
     "metadata": {},
     "output_type": "display_data"
    },
    {
     "data": {
      "application/vnd.jupyter.widget-view+json": {
       "model_id": "",
       "version_major": 2,
       "version_minor": 0
      },
      "text/plain": [
       "VBox(children=(Label(value='0.013 MB of 0.016 MB uploaded (0.000 MB deduped)\\r'), FloatProgress(value=0.790713…"
      ]
     },
     "metadata": {},
     "output_type": "display_data"
    },
    {
     "data": {
      "text/html": [
       "<style>\n",
       "    table.wandb td:nth-child(1) { padding: 0 10px; text-align: left ; width: auto;} td:nth-child(2) {text-align: left ; width: 100%}\n",
       "    .wandb-row { display: flex; flex-direction: row; flex-wrap: wrap; justify-content: flex-start; width: 100% }\n",
       "    .wandb-col { display: flex; flex-direction: column; flex-basis: 100%; flex: 1; padding: 10px; }\n",
       "    </style>\n",
       "<div class=\"wandb-row\"><div class=\"wandb-col\"><h3>Run history:</h3><br/><table class=\"wandb\"><tr><td>MAE_mean</td><td>▁</td></tr><tr><td>MAE_median</td><td>▁</td></tr><tr><td>MAE_percentile_25</td><td>▁</td></tr><tr><td>MAE_percentile_5</td><td>▁</td></tr><tr><td>MAE_percentile_75</td><td>▁</td></tr><tr><td>MAE_percentile_95</td><td>▁</td></tr><tr><td>MAE_std</td><td>▁</td></tr><tr><td>MSE_mean</td><td>▁</td></tr><tr><td>MSE_median</td><td>▁</td></tr><tr><td>MSE_percentile_25</td><td>▁</td></tr><tr><td>MSE_percentile_5</td><td>▁</td></tr><tr><td>MSE_percentile_75</td><td>▁</td></tr><tr><td>MSE_percentile_95</td><td>▁</td></tr><tr><td>MSE_std</td><td>▁</td></tr><tr><td>SMAPE_mean</td><td>▁</td></tr><tr><td>SMAPE_median</td><td>▁</td></tr><tr><td>SMAPE_percentile_25</td><td>▁</td></tr><tr><td>SMAPE_percentile_5</td><td>▁</td></tr><tr><td>SMAPE_percentile_75</td><td>▁</td></tr><tr><td>SMAPE_percentile_95</td><td>▁</td></tr><tr><td>SMAPE_std</td><td>▁</td></tr><tr><td>Sign_mean</td><td>▁</td></tr><tr><td>Sign_median</td><td>▁</td></tr><tr><td>Sign_percentile_25</td><td>▁</td></tr><tr><td>Sign_percentile_5</td><td>▁</td></tr><tr><td>Sign_percentile_75</td><td>▁</td></tr><tr><td>Sign_percentile_95</td><td>▁</td></tr><tr><td>Sign_std</td><td>▁</td></tr></table><br/></div><div class=\"wandb-col\"><h3>Run summary:</h3><br/><table class=\"wandb\"><tr><td>MAE_mean</td><td>64.23966</td></tr><tr><td>MAE_median</td><td>48.86827</td></tr><tr><td>MAE_percentile_25</td><td>29.97614</td></tr><tr><td>MAE_percentile_5</td><td>21.60374</td></tr><tr><td>MAE_percentile_75</td><td>83.13179</td></tr><tr><td>MAE_percentile_95</td><td>128.39554</td></tr><tr><td>MAE_std</td><td>53.67738</td></tr><tr><td>MSE_mean</td><td>8560.32038</td></tr><tr><td>MSE_median</td><td>4493.35664</td></tr><tr><td>MSE_percentile_25</td><td>1966.95708</td></tr><tr><td>MSE_percentile_5</td><td>803.57729</td></tr><tr><td>MSE_percentile_75</td><td>11086.71994</td></tr><tr><td>MSE_percentile_95</td><td>22010.8127</td></tr><tr><td>MSE_std</td><td>11075.83315</td></tr><tr><td>SMAPE_mean</td><td>12.62892</td></tr><tr><td>SMAPE_median</td><td>13.38235</td></tr><tr><td>SMAPE_percentile_25</td><td>10.37268</td></tr><tr><td>SMAPE_percentile_5</td><td>8.25017</td></tr><tr><td>SMAPE_percentile_75</td><td>15.6386</td></tr><tr><td>SMAPE_percentile_95</td><td>15.95288</td></tr><tr><td>SMAPE_std</td><td>3.90932</td></tr><tr><td>Sign_mean</td><td>0.89286</td></tr><tr><td>Sign_median</td><td>0.92857</td></tr><tr><td>Sign_percentile_25</td><td>0.82143</td></tr><tr><td>Sign_percentile_5</td><td>0.73571</td></tr><tr><td>Sign_percentile_75</td><td>1.0</td></tr><tr><td>Sign_percentile_95</td><td>1.0</td></tr><tr><td>Sign_std</td><td>0.13678</td></tr></table><br/></div></div>"
      ],
      "text/plain": [
       "<IPython.core.display.HTML object>"
      ]
     },
     "metadata": {},
     "output_type": "display_data"
    },
    {
     "data": {
      "text/html": [
       "Synced <strong style=\"color:#cdcd00\">NWQqoKNq</strong>: <a href=\"https://wandb.ai/gewissta/wandb-sweeps/runs/2imfgw0w\" target=\"_blank\">https://wandb.ai/gewissta/wandb-sweeps/runs/2imfgw0w</a><br/>Synced 5 W&B file(s), 3 media file(s), 3 artifact file(s) and 0 other file(s)"
      ],
      "text/plain": [
       "<IPython.core.display.HTML object>"
      ]
     },
     "metadata": {},
     "output_type": "display_data"
    },
    {
     "data": {
      "text/html": [
       "Find logs at: <code>./wandb/run-20221224_214024-2imfgw0w/logs</code>"
      ],
      "text/plain": [
       "<IPython.core.display.HTML object>"
      ]
     },
     "metadata": {},
     "output_type": "display_data"
    },
    {
     "name": "stderr",
     "output_type": "stream",
     "text": [
      "[Parallel(n_jobs=1)]: Done   4 out of   4 | elapsed:  2.1min remaining:    0.0s\n"
     ]
    },
    {
     "data": {
      "text/html": [
       "Changes to your `wandb` environment variables will be ignored because your `wandb` session has already started. For more information on how to modify your settings with `wandb.init()` arguments, please refer to <a href=\"https://wandb.me/wandb-init\" target=\"_blank\">the W&B docs</a>."
      ],
      "text/plain": [
       "<IPython.core.display.HTML object>"
      ]
     },
     "metadata": {},
     "output_type": "display_data"
    },
    {
     "data": {
      "text/html": [
       "wandb version 0.13.7 is available!  To upgrade, please run:\n",
       " $ pip install wandb --upgrade"
      ],
      "text/plain": [
       "<IPython.core.display.HTML object>"
      ]
     },
     "metadata": {},
     "output_type": "display_data"
    },
    {
     "data": {
      "text/html": [
       "Tracking run with wandb version 0.12.21"
      ],
      "text/plain": [
       "<IPython.core.display.HTML object>"
      ]
     },
     "metadata": {},
     "output_type": "display_data"
    },
    {
     "data": {
      "text/html": [
       "Run data is saved locally in <code>/Users/artemgruzdev/Documents/Data_Preprocessing_in_Python_для издательства/wandb/run-20221224_214104-35d0tiv4</code>"
      ],
      "text/plain": [
       "<IPython.core.display.HTML object>"
      ]
     },
     "metadata": {},
     "output_type": "display_data"
    },
    {
     "data": {
      "text/html": [
       "Syncing run <strong><a href=\"https://wandb.ai/gewissta/wandb-sweeps/runs/35d0tiv4\" target=\"_blank\">NWQqoKNq</a></strong> to <a href=\"https://wandb.ai/gewissta/wandb-sweeps\" target=\"_blank\">Weights & Biases</a> (<a href=\"https://wandb.me/run\" target=\"_blank\">docs</a>)<br/>"
      ],
      "text/plain": [
       "<IPython.core.display.HTML object>"
      ]
     },
     "metadata": {},
     "output_type": "display_data"
    },
    {
     "data": {
      "text/html": [
       "Waiting for W&B process to finish... <strong style=\"color:green\">(success).</strong>"
      ],
      "text/plain": [
       "<IPython.core.display.HTML object>"
      ]
     },
     "metadata": {},
     "output_type": "display_data"
    },
    {
     "data": {
      "application/vnd.jupyter.widget-view+json": {
       "model_id": "",
       "version_major": 2,
       "version_minor": 0
      },
      "text/plain": [
       "VBox(children=(Label(value='0.013 MB of 0.015 MB uploaded (0.000 MB deduped)\\r'), FloatProgress(value=0.852652…"
      ]
     },
     "metadata": {},
     "output_type": "display_data"
    },
    {
     "data": {
      "text/html": [
       "<style>\n",
       "    table.wandb td:nth-child(1) { padding: 0 10px; text-align: left ; width: auto;} td:nth-child(2) {text-align: left ; width: 100%}\n",
       "    .wandb-row { display: flex; flex-direction: row; flex-wrap: wrap; justify-content: flex-start; width: 100% }\n",
       "    .wandb-col { display: flex; flex-direction: column; flex-basis: 100%; flex: 1; padding: 10px; }\n",
       "    </style>\n",
       "<div class=\"wandb-row\"><div class=\"wandb-col\"><h3>Run history:</h3><br/><table class=\"wandb\"><tr><td>MAE_mean</td><td>▁</td></tr><tr><td>MAE_median</td><td>▁</td></tr><tr><td>MAE_percentile_25</td><td>▁</td></tr><tr><td>MAE_percentile_5</td><td>▁</td></tr><tr><td>MAE_percentile_75</td><td>▁</td></tr><tr><td>MAE_percentile_95</td><td>▁</td></tr><tr><td>MAE_std</td><td>▁</td></tr><tr><td>MSE_mean</td><td>▁</td></tr><tr><td>MSE_median</td><td>▁</td></tr><tr><td>MSE_percentile_25</td><td>▁</td></tr><tr><td>MSE_percentile_5</td><td>▁</td></tr><tr><td>MSE_percentile_75</td><td>▁</td></tr><tr><td>MSE_percentile_95</td><td>▁</td></tr><tr><td>MSE_std</td><td>▁</td></tr><tr><td>SMAPE_mean</td><td>▁</td></tr><tr><td>SMAPE_median</td><td>▁</td></tr><tr><td>SMAPE_percentile_25</td><td>▁</td></tr><tr><td>SMAPE_percentile_5</td><td>▁</td></tr><tr><td>SMAPE_percentile_75</td><td>▁</td></tr><tr><td>SMAPE_percentile_95</td><td>▁</td></tr><tr><td>SMAPE_std</td><td>▁</td></tr><tr><td>Sign_mean</td><td>▁</td></tr><tr><td>Sign_median</td><td>▁</td></tr><tr><td>Sign_percentile_25</td><td>▁</td></tr><tr><td>Sign_percentile_5</td><td>▁</td></tr><tr><td>Sign_percentile_75</td><td>▁</td></tr><tr><td>Sign_percentile_95</td><td>▁</td></tr><tr><td>Sign_std</td><td>▁</td></tr></table><br/></div><div class=\"wandb-col\"><h3>Run summary:</h3><br/><table class=\"wandb\"><tr><td>MAE_mean</td><td>58.51565</td></tr><tr><td>MAE_median</td><td>53.06936</td></tr><tr><td>MAE_percentile_25</td><td>42.66453</td></tr><tr><td>MAE_percentile_5</td><td>28.66209</td></tr><tr><td>MAE_percentile_75</td><td>68.92048</td></tr><tr><td>MAE_percentile_95</td><td>95.99402</td></tr><tr><td>MAE_std</td><td>32.51348</td></tr><tr><td>MSE_mean</td><td>6419.05468</td></tr><tr><td>MSE_median</td><td>4930.08776</td></tr><tr><td>MSE_percentile_25</td><td>3862.27827</td></tr><tr><td>MSE_percentile_5</td><td>1595.77057</td></tr><tr><td>MSE_percentile_75</td><td>7486.86416</td></tr><tr><td>MSE_percentile_95</td><td>13326.89247</td></tr><tr><td>MSE_std</td><td>5874.70522</td></tr><tr><td>SMAPE_mean</td><td>14.56946</td></tr><tr><td>SMAPE_median</td><td>10.71385</td></tr><tr><td>SMAPE_percentile_25</td><td>9.82032</td></tr><tr><td>SMAPE_percentile_5</td><td>9.25353</td></tr><tr><td>SMAPE_percentile_75</td><td>15.46299</td></tr><tr><td>SMAPE_percentile_95</td><td>25.28324</td></tr><tr><td>SMAPE_std</td><td>8.82798</td></tr><tr><td>Sign_mean</td><td>0.42857</td></tr><tr><td>Sign_median</td><td>0.5</td></tr><tr><td>Sign_percentile_25</td><td>0.35714</td></tr><tr><td>Sign_percentile_5</td><td>0.18571</td></tr><tr><td>Sign_percentile_75</td><td>0.57143</td></tr><tr><td>Sign_percentile_95</td><td>0.57143</td></tr><tr><td>Sign_std</td><td>0.20203</td></tr></table><br/></div></div>"
      ],
      "text/plain": [
       "<IPython.core.display.HTML object>"
      ]
     },
     "metadata": {},
     "output_type": "display_data"
    },
    {
     "data": {
      "text/html": [
       "Synced <strong style=\"color:#cdcd00\">NWQqoKNq</strong>: <a href=\"https://wandb.ai/gewissta/wandb-sweeps/runs/35d0tiv4\" target=\"_blank\">https://wandb.ai/gewissta/wandb-sweeps/runs/35d0tiv4</a><br/>Synced 5 W&B file(s), 3 media file(s), 3 artifact file(s) and 0 other file(s)"
      ],
      "text/plain": [
       "<IPython.core.display.HTML object>"
      ]
     },
     "metadata": {},
     "output_type": "display_data"
    },
    {
     "data": {
      "text/html": [
       "Find logs at: <code>./wandb/run-20221224_214104-35d0tiv4/logs</code>"
      ],
      "text/plain": [
       "<IPython.core.display.HTML object>"
      ]
     },
     "metadata": {},
     "output_type": "display_data"
    },
    {
     "name": "stderr",
     "output_type": "stream",
     "text": [
      "[Parallel(n_jobs=1)]: Done   5 out of   5 | elapsed:  2.6min remaining:    0.0s\n",
      "[Parallel(n_jobs=1)]: Done   5 out of   5 | elapsed:  2.6min finished\n"
     ]
    },
    {
     "data": {
      "text/html": [
       "Changes to your `wandb` environment variables will be ignored because your `wandb` session has already started. For more information on how to modify your settings with `wandb.init()` arguments, please refer to <a href=\"https://wandb.me/wandb-init\" target=\"_blank\">the W&B docs</a>."
      ],
      "text/plain": [
       "<IPython.core.display.HTML object>"
      ]
     },
     "metadata": {},
     "output_type": "display_data"
    },
    {
     "data": {
      "text/html": [
       "wandb version 0.13.7 is available!  To upgrade, please run:\n",
       " $ pip install wandb --upgrade"
      ],
      "text/plain": [
       "<IPython.core.display.HTML object>"
      ]
     },
     "metadata": {},
     "output_type": "display_data"
    },
    {
     "data": {
      "text/html": [
       "Tracking run with wandb version 0.12.21"
      ],
      "text/plain": [
       "<IPython.core.display.HTML object>"
      ]
     },
     "metadata": {},
     "output_type": "display_data"
    },
    {
     "data": {
      "text/html": [
       "Run data is saved locally in <code>/Users/artemgruzdev/Documents/Data_Preprocessing_in_Python_для издательства/wandb/run-20221224_214134-2ieqck7m</code>"
      ],
      "text/plain": [
       "<IPython.core.display.HTML object>"
      ]
     },
     "metadata": {},
     "output_type": "display_data"
    },
    {
     "data": {
      "text/html": [
       "Syncing run <strong><a href=\"https://wandb.ai/gewissta/wandb-sweeps/runs/2ieqck7m\" target=\"_blank\">NWQqoKNq</a></strong> to <a href=\"https://wandb.ai/gewissta/wandb-sweeps\" target=\"_blank\">Weights & Biases</a> (<a href=\"https://wandb.me/run\" target=\"_blank\">docs</a>)<br/>"
      ],
      "text/plain": [
       "<IPython.core.display.HTML object>"
      ]
     },
     "metadata": {},
     "output_type": "display_data"
    },
    {
     "data": {
      "text/html": [
       "Waiting for W&B process to finish... <strong style=\"color:green\">(success).</strong>"
      ],
      "text/plain": [
       "<IPython.core.display.HTML object>"
      ]
     },
     "metadata": {},
     "output_type": "display_data"
    },
    {
     "data": {
      "application/vnd.jupyter.widget-view+json": {
       "model_id": "",
       "version_major": 2,
       "version_minor": 0
      },
      "text/plain": [
       "VBox(children=(Label(value='0.049 MB of 0.106 MB uploaded (0.000 MB deduped)\\r'), FloatProgress(value=0.462849…"
      ]
     },
     "metadata": {},
     "output_type": "display_data"
    },
    {
     "data": {
      "text/html": [
       "<style>\n",
       "    table.wandb td:nth-child(1) { padding: 0 10px; text-align: left ; width: auto;} td:nth-child(2) {text-align: left ; width: 100%}\n",
       "    .wandb-row { display: flex; flex-direction: row; flex-wrap: wrap; justify-content: flex-start; width: 100% }\n",
       "    .wandb-col { display: flex; flex-direction: column; flex-basis: 100%; flex: 1; padding: 10px; }\n",
       "    </style>\n",
       "<div class=\"wandb-row\"><div class=\"wandb-col\"><h3>Run history:</h3><br/><table class=\"wandb\"><tr><td>MAE_mean</td><td>▁</td></tr><tr><td>MAE_median</td><td>▁</td></tr><tr><td>MAE_percentile_25</td><td>▁</td></tr><tr><td>MAE_percentile_5</td><td>▁</td></tr><tr><td>MAE_percentile_75</td><td>▁</td></tr><tr><td>MAE_percentile_95</td><td>▁</td></tr><tr><td>MAE_std</td><td>▁</td></tr><tr><td>MSE_mean</td><td>▁</td></tr><tr><td>MSE_median</td><td>▁</td></tr><tr><td>MSE_percentile_25</td><td>▁</td></tr><tr><td>MSE_percentile_5</td><td>▁</td></tr><tr><td>MSE_percentile_75</td><td>▁</td></tr><tr><td>MSE_percentile_95</td><td>▁</td></tr><tr><td>MSE_std</td><td>▁</td></tr><tr><td>SMAPE_mean</td><td>▁</td></tr><tr><td>SMAPE_median</td><td>▁</td></tr><tr><td>SMAPE_percentile_25</td><td>▁</td></tr><tr><td>SMAPE_percentile_5</td><td>▁</td></tr><tr><td>SMAPE_percentile_75</td><td>▁</td></tr><tr><td>SMAPE_percentile_95</td><td>▁</td></tr><tr><td>SMAPE_std</td><td>▁</td></tr><tr><td>Sign_mean</td><td>▁</td></tr><tr><td>Sign_median</td><td>▁</td></tr><tr><td>Sign_percentile_25</td><td>▁</td></tr><tr><td>Sign_percentile_5</td><td>▁</td></tr><tr><td>Sign_percentile_75</td><td>▁</td></tr><tr><td>Sign_percentile_95</td><td>▁</td></tr><tr><td>Sign_std</td><td>▁</td></tr></table><br/></div><div class=\"wandb-col\"><h3>Run summary:</h3><br/><table class=\"wandb\"><tr><td>MAE_mean</td><td>47.60849</td></tr><tr><td>MAE_median</td><td>41.82858</td></tr><tr><td>MAE_percentile_25</td><td>27.62477</td></tr><tr><td>MAE_percentile_5</td><td>21.7</td></tr><tr><td>MAE_percentile_75</td><td>61.81229</td></tr><tr><td>MAE_percentile_95</td><td>81.60887</td></tr><tr><td>MAE_std</td><td>29.49295</td></tr><tr><td>MSE_mean</td><td>4804.18144</td></tr><tr><td>MSE_median</td><td>3251.07861</td></tr><tr><td>MSE_percentile_25</td><td>1481.01808</td></tr><tr><td>MSE_percentile_5</td><td>815.58865</td></tr><tr><td>MSE_percentile_75</td><td>6574.24198</td></tr><tr><td>MSE_percentile_95</td><td>10967.11819</td></tr><tr><td>MSE_std</td><td>5140.33541</td></tr><tr><td>SMAPE_mean</td><td>11.16269</td></tr><tr><td>SMAPE_median</td><td>10.22529</td></tr><tr><td>SMAPE_percentile_25</td><td>9.66754</td></tr><tr><td>SMAPE_percentile_5</td><td>8.6495</td></tr><tr><td>SMAPE_percentile_75</td><td>11.72044</td></tr><tr><td>SMAPE_percentile_95</td><td>14.98824</td></tr><tr><td>SMAPE_std</td><td>3.21486</td></tr><tr><td>Sign_mean</td><td>0.48571</td></tr><tr><td>Sign_median</td><td>0.42857</td></tr><tr><td>Sign_percentile_25</td><td>0.39286</td></tr><tr><td>Sign_percentile_5</td><td>0.37571</td></tr><tr><td>Sign_percentile_75</td><td>0.52143</td></tr><tr><td>Sign_percentile_95</td><td>0.67571</td></tr><tr><td>Sign_std</td><td>0.15649</td></tr></table><br/></div></div>"
      ],
      "text/plain": [
       "<IPython.core.display.HTML object>"
      ]
     },
     "metadata": {},
     "output_type": "display_data"
    },
    {
     "data": {
      "text/html": [
       "Synced <strong style=\"color:#cdcd00\">NWQqoKNq</strong>: <a href=\"https://wandb.ai/gewissta/wandb-sweeps/runs/2ieqck7m\" target=\"_blank\">https://wandb.ai/gewissta/wandb-sweeps/runs/2ieqck7m</a><br/>Synced 5 W&B file(s), 4 media file(s), 3 artifact file(s) and 0 other file(s)"
      ],
      "text/plain": [
       "<IPython.core.display.HTML object>"
      ]
     },
     "metadata": {},
     "output_type": "display_data"
    },
    {
     "data": {
      "text/html": [
       "Find logs at: <code>./wandb/run-20221224_214134-2ieqck7m/logs</code>"
      ],
      "text/plain": [
       "<IPython.core.display.HTML object>"
      ]
     },
     "metadata": {},
     "output_type": "display_data"
    },
    {
     "name": "stderr",
     "output_type": "stream",
     "text": [
      "\u001b[32m[I 2022-12-24 21:42:10,847]\u001b[0m Trial 1 finished with value: 47.60849282178873 and parameters: {'iterations': 84, 'depth': 2, 'lags': 1}. Best is trial 0 with value: 45.05303934417718.\u001b[0m\n",
      "[Parallel(n_jobs=1)]: Using backend SequentialBackend with 1 concurrent workers.\n"
     ]
    },
    {
     "data": {
      "text/html": [
       "Changes to your `wandb` environment variables will be ignored because your `wandb` session has already started. For more information on how to modify your settings with `wandb.init()` arguments, please refer to <a href=\"https://wandb.me/wandb-init\" target=\"_blank\">the W&B docs</a>."
      ],
      "text/plain": [
       "<IPython.core.display.HTML object>"
      ]
     },
     "metadata": {},
     "output_type": "display_data"
    },
    {
     "data": {
      "text/html": [
       "wandb version 0.13.7 is available!  To upgrade, please run:\n",
       " $ pip install wandb --upgrade"
      ],
      "text/plain": [
       "<IPython.core.display.HTML object>"
      ]
     },
     "metadata": {},
     "output_type": "display_data"
    },
    {
     "data": {
      "text/html": [
       "Tracking run with wandb version 0.12.21"
      ],
      "text/plain": [
       "<IPython.core.display.HTML object>"
      ]
     },
     "metadata": {},
     "output_type": "display_data"
    },
    {
     "data": {
      "text/html": [
       "Run data is saved locally in <code>/Users/artemgruzdev/Documents/Data_Preprocessing_in_Python_для издательства/wandb/run-20221224_214210-ddthdiwd</code>"
      ],
      "text/plain": [
       "<IPython.core.display.HTML object>"
      ]
     },
     "metadata": {},
     "output_type": "display_data"
    },
    {
     "data": {
      "text/html": [
       "Syncing run <strong><a href=\"https://wandb.ai/gewissta/wandb-sweeps/runs/ddthdiwd\" target=\"_blank\">qao2_P7H</a></strong> to <a href=\"https://wandb.ai/gewissta/wandb-sweeps\" target=\"_blank\">Weights & Biases</a> (<a href=\"https://wandb.me/run\" target=\"_blank\">docs</a>)<br/>"
      ],
      "text/plain": [
       "<IPython.core.display.HTML object>"
      ]
     },
     "metadata": {},
     "output_type": "display_data"
    },
    {
     "data": {
      "text/html": [
       "Waiting for W&B process to finish... <strong style=\"color:green\">(success).</strong>"
      ],
      "text/plain": [
       "<IPython.core.display.HTML object>"
      ]
     },
     "metadata": {},
     "output_type": "display_data"
    },
    {
     "data": {
      "application/vnd.jupyter.widget-view+json": {
       "model_id": "",
       "version_major": 2,
       "version_minor": 0
      },
      "text/plain": [
       "VBox(children=(Label(value='0.057 MB of 0.061 MB uploaded (0.000 MB deduped)\\r'), FloatProgress(value=0.943672…"
      ]
     },
     "metadata": {},
     "output_type": "display_data"
    },
    {
     "data": {
      "text/html": [
       "<style>\n",
       "    table.wandb td:nth-child(1) { padding: 0 10px; text-align: left ; width: auto;} td:nth-child(2) {text-align: left ; width: 100%}\n",
       "    .wandb-row { display: flex; flex-direction: row; flex-wrap: wrap; justify-content: flex-start; width: 100% }\n",
       "    .wandb-col { display: flex; flex-direction: column; flex-basis: 100%; flex: 1; padding: 10px; }\n",
       "    </style>\n",
       "<div class=\"wandb-row\"><div class=\"wandb-col\"><h3>Run history:</h3><br/><table class=\"wandb\"><tr><td>MAE_mean</td><td>▁</td></tr><tr><td>MAE_median</td><td>▁</td></tr><tr><td>MAE_percentile_25</td><td>▁</td></tr><tr><td>MAE_percentile_5</td><td>▁</td></tr><tr><td>MAE_percentile_75</td><td>▁</td></tr><tr><td>MAE_percentile_95</td><td>▁</td></tr><tr><td>MAE_std</td><td>▁</td></tr><tr><td>MSE_mean</td><td>▁</td></tr><tr><td>MSE_median</td><td>▁</td></tr><tr><td>MSE_percentile_25</td><td>▁</td></tr><tr><td>MSE_percentile_5</td><td>▁</td></tr><tr><td>MSE_percentile_75</td><td>▁</td></tr><tr><td>MSE_percentile_95</td><td>▁</td></tr><tr><td>MSE_std</td><td>▁</td></tr><tr><td>SMAPE_mean</td><td>▁</td></tr><tr><td>SMAPE_median</td><td>▁</td></tr><tr><td>SMAPE_percentile_25</td><td>▁</td></tr><tr><td>SMAPE_percentile_5</td><td>▁</td></tr><tr><td>SMAPE_percentile_75</td><td>▁</td></tr><tr><td>SMAPE_percentile_95</td><td>▁</td></tr><tr><td>SMAPE_std</td><td>▁</td></tr><tr><td>Sign_mean</td><td>▁</td></tr><tr><td>Sign_median</td><td>▁</td></tr><tr><td>Sign_percentile_25</td><td>▁</td></tr><tr><td>Sign_percentile_5</td><td>▁</td></tr><tr><td>Sign_percentile_75</td><td>▁</td></tr><tr><td>Sign_percentile_95</td><td>▁</td></tr><tr><td>Sign_std</td><td>▁</td></tr></table><br/></div><div class=\"wandb-col\"><h3>Run summary:</h3><br/><table class=\"wandb\"><tr><td>MAE_mean</td><td>33.87138</td></tr><tr><td>MAE_median</td><td>31.77968</td></tr><tr><td>MAE_percentile_25</td><td>17.18806</td></tr><tr><td>MAE_percentile_5</td><td>16.65355</td></tr><tr><td>MAE_percentile_75</td><td>48.463</td></tr><tr><td>MAE_percentile_95</td><td>54.01758</td></tr><tr><td>MAE_std</td><td>19.88722</td></tr><tr><td>MSE_mean</td><td>2398.59934</td></tr><tr><td>MSE_median</td><td>2275.43018</td></tr><tr><td>MSE_percentile_25</td><td>519.89646</td></tr><tr><td>MSE_percentile_5</td><td>387.72137</td></tr><tr><td>MSE_percentile_75</td><td>4154.13305</td></tr><tr><td>MSE_percentile_95</td><td>4581.91412</td></tr><tr><td>MSE_std</td><td>2253.61799</td></tr><tr><td>SMAPE_mean</td><td>8.78506</td></tr><tr><td>SMAPE_median</td><td>8.78078</td></tr><tr><td>SMAPE_percentile_25</td><td>7.52952</td></tr><tr><td>SMAPE_percentile_5</td><td>7.17699</td></tr><tr><td>SMAPE_percentile_75</td><td>10.03633</td></tr><tr><td>SMAPE_percentile_95</td><td>10.39914</td></tr><tr><td>SMAPE_std</td><td>1.65557</td></tr><tr><td>Sign_mean</td><td>-0.14286</td></tr><tr><td>Sign_median</td><td>-0.21429</td></tr><tr><td>Sign_percentile_25</td><td>-0.46429</td></tr><tr><td>Sign_percentile_5</td><td>-0.55</td></tr><tr><td>Sign_percentile_75</td><td>0.10714</td></tr><tr><td>Sign_percentile_95</td><td>0.36429</td></tr><tr><td>Sign_std</td><td>0.45175</td></tr></table><br/></div></div>"
      ],
      "text/plain": [
       "<IPython.core.display.HTML object>"
      ]
     },
     "metadata": {},
     "output_type": "display_data"
    },
    {
     "data": {
      "text/html": [
       "Synced <strong style=\"color:#cdcd00\">qao2_P7H</strong>: <a href=\"https://wandb.ai/gewissta/wandb-sweeps/runs/ddthdiwd\" target=\"_blank\">https://wandb.ai/gewissta/wandb-sweeps/runs/ddthdiwd</a><br/>Synced 5 W&B file(s), 3 media file(s), 3 artifact file(s) and 0 other file(s)"
      ],
      "text/plain": [
       "<IPython.core.display.HTML object>"
      ]
     },
     "metadata": {},
     "output_type": "display_data"
    },
    {
     "data": {
      "text/html": [
       "Find logs at: <code>./wandb/run-20221224_214210-ddthdiwd/logs</code>"
      ],
      "text/plain": [
       "<IPython.core.display.HTML object>"
      ]
     },
     "metadata": {},
     "output_type": "display_data"
    },
    {
     "name": "stderr",
     "output_type": "stream",
     "text": [
      "[Parallel(n_jobs=1)]: Done   1 out of   1 | elapsed:   28.6s remaining:    0.0s\n"
     ]
    },
    {
     "data": {
      "text/html": [
       "Changes to your `wandb` environment variables will be ignored because your `wandb` session has already started. For more information on how to modify your settings with `wandb.init()` arguments, please refer to <a href=\"https://wandb.me/wandb-init\" target=\"_blank\">the W&B docs</a>."
      ],
      "text/plain": [
       "<IPython.core.display.HTML object>"
      ]
     },
     "metadata": {},
     "output_type": "display_data"
    },
    {
     "data": {
      "text/html": [
       "wandb version 0.13.7 is available!  To upgrade, please run:\n",
       " $ pip install wandb --upgrade"
      ],
      "text/plain": [
       "<IPython.core.display.HTML object>"
      ]
     },
     "metadata": {},
     "output_type": "display_data"
    },
    {
     "data": {
      "text/html": [
       "Tracking run with wandb version 0.12.21"
      ],
      "text/plain": [
       "<IPython.core.display.HTML object>"
      ]
     },
     "metadata": {},
     "output_type": "display_data"
    },
    {
     "data": {
      "text/html": [
       "Run data is saved locally in <code>/Users/artemgruzdev/Documents/Data_Preprocessing_in_Python_для издательства/wandb/run-20221224_214239-b20mf4or</code>"
      ],
      "text/plain": [
       "<IPython.core.display.HTML object>"
      ]
     },
     "metadata": {},
     "output_type": "display_data"
    },
    {
     "data": {
      "text/html": [
       "Syncing run <strong><a href=\"https://wandb.ai/gewissta/wandb-sweeps/runs/b20mf4or\" target=\"_blank\">qao2_P7H</a></strong> to <a href=\"https://wandb.ai/gewissta/wandb-sweeps\" target=\"_blank\">Weights & Biases</a> (<a href=\"https://wandb.me/run\" target=\"_blank\">docs</a>)<br/>"
      ],
      "text/plain": [
       "<IPython.core.display.HTML object>"
      ]
     },
     "metadata": {},
     "output_type": "display_data"
    },
    {
     "data": {
      "text/html": [
       "Waiting for W&B process to finish... <strong style=\"color:green\">(success).</strong>"
      ],
      "text/plain": [
       "<IPython.core.display.HTML object>"
      ]
     },
     "metadata": {},
     "output_type": "display_data"
    },
    {
     "data": {
      "application/vnd.jupyter.widget-view+json": {
       "model_id": "",
       "version_major": 2,
       "version_minor": 0
      },
      "text/plain": [
       "VBox(children=(Label(value='0.057 MB of 0.059 MB uploaded (0.000 MB deduped)\\r'), FloatProgress(value=0.962192…"
      ]
     },
     "metadata": {},
     "output_type": "display_data"
    },
    {
     "data": {
      "text/html": [
       "<style>\n",
       "    table.wandb td:nth-child(1) { padding: 0 10px; text-align: left ; width: auto;} td:nth-child(2) {text-align: left ; width: 100%}\n",
       "    .wandb-row { display: flex; flex-direction: row; flex-wrap: wrap; justify-content: flex-start; width: 100% }\n",
       "    .wandb-col { display: flex; flex-direction: column; flex-basis: 100%; flex: 1; padding: 10px; }\n",
       "    </style>\n",
       "<div class=\"wandb-row\"><div class=\"wandb-col\"><h3>Run history:</h3><br/><table class=\"wandb\"><tr><td>MAE_mean</td><td>▁</td></tr><tr><td>MAE_median</td><td>▁</td></tr><tr><td>MAE_percentile_25</td><td>▁</td></tr><tr><td>MAE_percentile_5</td><td>▁</td></tr><tr><td>MAE_percentile_75</td><td>▁</td></tr><tr><td>MAE_percentile_95</td><td>▁</td></tr><tr><td>MAE_std</td><td>▁</td></tr><tr><td>MSE_mean</td><td>▁</td></tr><tr><td>MSE_median</td><td>▁</td></tr><tr><td>MSE_percentile_25</td><td>▁</td></tr><tr><td>MSE_percentile_5</td><td>▁</td></tr><tr><td>MSE_percentile_75</td><td>▁</td></tr><tr><td>MSE_percentile_95</td><td>▁</td></tr><tr><td>MSE_std</td><td>▁</td></tr><tr><td>SMAPE_mean</td><td>▁</td></tr><tr><td>SMAPE_median</td><td>▁</td></tr><tr><td>SMAPE_percentile_25</td><td>▁</td></tr><tr><td>SMAPE_percentile_5</td><td>▁</td></tr><tr><td>SMAPE_percentile_75</td><td>▁</td></tr><tr><td>SMAPE_percentile_95</td><td>▁</td></tr><tr><td>SMAPE_std</td><td>▁</td></tr><tr><td>Sign_mean</td><td>▁</td></tr><tr><td>Sign_median</td><td>▁</td></tr><tr><td>Sign_percentile_25</td><td>▁</td></tr><tr><td>Sign_percentile_5</td><td>▁</td></tr><tr><td>Sign_percentile_75</td><td>▁</td></tr><tr><td>Sign_percentile_95</td><td>▁</td></tr><tr><td>Sign_std</td><td>▁</td></tr></table><br/></div><div class=\"wandb-col\"><h3>Run summary:</h3><br/><table class=\"wandb\"><tr><td>MAE_mean</td><td>38.31857</td></tr><tr><td>MAE_median</td><td>31.59912</td></tr><tr><td>MAE_percentile_25</td><td>19.13678</td></tr><tr><td>MAE_percentile_5</td><td>16.60114</td></tr><tr><td>MAE_percentile_75</td><td>50.78091</td></tr><tr><td>MAE_percentile_95</td><td>69.44322</td></tr><tr><td>MAE_std</td><td>26.65215</td></tr><tr><td>MSE_mean</td><td>2809.5759</td></tr><tr><td>MSE_median</td><td>1596.57202</td></tr><tr><td>MSE_percentile_25</td><td>541.08348</td></tr><tr><td>MSE_percentile_5</td><td>361.37155</td></tr><tr><td>MSE_percentile_75</td><td>3865.06444</td></tr><tr><td>MSE_percentile_95</td><td>6955.98567</td></tr><tr><td>MSE_std</td><td>3429.26577</td></tr><tr><td>SMAPE_mean</td><td>8.7532</td></tr><tr><td>SMAPE_median</td><td>8.64347</td></tr><tr><td>SMAPE_percentile_25</td><td>8.29899</td></tr><tr><td>SMAPE_percentile_5</td><td>8.22474</td></tr><tr><td>SMAPE_percentile_75</td><td>9.09768</td></tr><tr><td>SMAPE_percentile_95</td><td>9.43528</td></tr><tr><td>SMAPE_std</td><td>0.60757</td></tr><tr><td>Sign_mean</td><td>0.64286</td></tr><tr><td>Sign_median</td><td>0.64286</td></tr><tr><td>Sign_percentile_25</td><td>0.57143</td></tr><tr><td>Sign_percentile_5</td><td>0.57143</td></tr><tr><td>Sign_percentile_75</td><td>0.71429</td></tr><tr><td>Sign_percentile_95</td><td>0.71429</td></tr><tr><td>Sign_std</td><td>0.08248</td></tr></table><br/></div></div>"
      ],
      "text/plain": [
       "<IPython.core.display.HTML object>"
      ]
     },
     "metadata": {},
     "output_type": "display_data"
    },
    {
     "data": {
      "text/html": [
       "Synced <strong style=\"color:#cdcd00\">qao2_P7H</strong>: <a href=\"https://wandb.ai/gewissta/wandb-sweeps/runs/b20mf4or\" target=\"_blank\">https://wandb.ai/gewissta/wandb-sweeps/runs/b20mf4or</a><br/>Synced 5 W&B file(s), 3 media file(s), 3 artifact file(s) and 0 other file(s)"
      ],
      "text/plain": [
       "<IPython.core.display.HTML object>"
      ]
     },
     "metadata": {},
     "output_type": "display_data"
    },
    {
     "data": {
      "text/html": [
       "Find logs at: <code>./wandb/run-20221224_214239-b20mf4or/logs</code>"
      ],
      "text/plain": [
       "<IPython.core.display.HTML object>"
      ]
     },
     "metadata": {},
     "output_type": "display_data"
    },
    {
     "name": "stderr",
     "output_type": "stream",
     "text": [
      "[Parallel(n_jobs=1)]: Done   2 out of   2 | elapsed:   58.1s remaining:    0.0s\n"
     ]
    },
    {
     "data": {
      "text/html": [
       "Changes to your `wandb` environment variables will be ignored because your `wandb` session has already started. For more information on how to modify your settings with `wandb.init()` arguments, please refer to <a href=\"https://wandb.me/wandb-init\" target=\"_blank\">the W&B docs</a>."
      ],
      "text/plain": [
       "<IPython.core.display.HTML object>"
      ]
     },
     "metadata": {},
     "output_type": "display_data"
    },
    {
     "data": {
      "text/html": [
       "wandb version 0.13.7 is available!  To upgrade, please run:\n",
       " $ pip install wandb --upgrade"
      ],
      "text/plain": [
       "<IPython.core.display.HTML object>"
      ]
     },
     "metadata": {},
     "output_type": "display_data"
    },
    {
     "data": {
      "text/html": [
       "Tracking run with wandb version 0.12.21"
      ],
      "text/plain": [
       "<IPython.core.display.HTML object>"
      ]
     },
     "metadata": {},
     "output_type": "display_data"
    },
    {
     "data": {
      "text/html": [
       "Run data is saved locally in <code>/Users/artemgruzdev/Documents/Data_Preprocessing_in_Python_для издательства/wandb/run-20221224_214308-2qq6iic6</code>"
      ],
      "text/plain": [
       "<IPython.core.display.HTML object>"
      ]
     },
     "metadata": {},
     "output_type": "display_data"
    },
    {
     "data": {
      "text/html": [
       "Syncing run <strong><a href=\"https://wandb.ai/gewissta/wandb-sweeps/runs/2qq6iic6\" target=\"_blank\">qao2_P7H</a></strong> to <a href=\"https://wandb.ai/gewissta/wandb-sweeps\" target=\"_blank\">Weights & Biases</a> (<a href=\"https://wandb.me/run\" target=\"_blank\">docs</a>)<br/>"
      ],
      "text/plain": [
       "<IPython.core.display.HTML object>"
      ]
     },
     "metadata": {},
     "output_type": "display_data"
    },
    {
     "data": {
      "text/html": [
       "Waiting for W&B process to finish... <strong style=\"color:green\">(success).</strong>"
      ],
      "text/plain": [
       "<IPython.core.display.HTML object>"
      ]
     },
     "metadata": {},
     "output_type": "display_data"
    },
    {
     "data": {
      "application/vnd.jupyter.widget-view+json": {
       "model_id": "",
       "version_major": 2,
       "version_minor": 0
      },
      "text/plain": [
       "VBox(children=(Label(value='0.057 MB of 0.060 MB uploaded (0.000 MB deduped)\\r'), FloatProgress(value=0.943364…"
      ]
     },
     "metadata": {},
     "output_type": "display_data"
    },
    {
     "data": {
      "text/html": [
       "<style>\n",
       "    table.wandb td:nth-child(1) { padding: 0 10px; text-align: left ; width: auto;} td:nth-child(2) {text-align: left ; width: 100%}\n",
       "    .wandb-row { display: flex; flex-direction: row; flex-wrap: wrap; justify-content: flex-start; width: 100% }\n",
       "    .wandb-col { display: flex; flex-direction: column; flex-basis: 100%; flex: 1; padding: 10px; }\n",
       "    </style>\n",
       "<div class=\"wandb-row\"><div class=\"wandb-col\"><h3>Run history:</h3><br/><table class=\"wandb\"><tr><td>MAE_mean</td><td>▁</td></tr><tr><td>MAE_median</td><td>▁</td></tr><tr><td>MAE_percentile_25</td><td>▁</td></tr><tr><td>MAE_percentile_5</td><td>▁</td></tr><tr><td>MAE_percentile_75</td><td>▁</td></tr><tr><td>MAE_percentile_95</td><td>▁</td></tr><tr><td>MAE_std</td><td>▁</td></tr><tr><td>MSE_mean</td><td>▁</td></tr><tr><td>MSE_median</td><td>▁</td></tr><tr><td>MSE_percentile_25</td><td>▁</td></tr><tr><td>MSE_percentile_5</td><td>▁</td></tr><tr><td>MSE_percentile_75</td><td>▁</td></tr><tr><td>MSE_percentile_95</td><td>▁</td></tr><tr><td>MSE_std</td><td>▁</td></tr><tr><td>SMAPE_mean</td><td>▁</td></tr><tr><td>SMAPE_median</td><td>▁</td></tr><tr><td>SMAPE_percentile_25</td><td>▁</td></tr><tr><td>SMAPE_percentile_5</td><td>▁</td></tr><tr><td>SMAPE_percentile_75</td><td>▁</td></tr><tr><td>SMAPE_percentile_95</td><td>▁</td></tr><tr><td>SMAPE_std</td><td>▁</td></tr><tr><td>Sign_mean</td><td>▁</td></tr><tr><td>Sign_median</td><td>▁</td></tr><tr><td>Sign_percentile_25</td><td>▁</td></tr><tr><td>Sign_percentile_5</td><td>▁</td></tr><tr><td>Sign_percentile_75</td><td>▁</td></tr><tr><td>Sign_percentile_95</td><td>▁</td></tr><tr><td>Sign_std</td><td>▁</td></tr></table><br/></div><div class=\"wandb-col\"><h3>Run summary:</h3><br/><table class=\"wandb\"><tr><td>MAE_mean</td><td>35.27105</td></tr><tr><td>MAE_median</td><td>32.08179</td></tr><tr><td>MAE_percentile_25</td><td>14.89171</td></tr><tr><td>MAE_percentile_5</td><td>13.50956</td></tr><tr><td>MAE_percentile_75</td><td>52.46113</td></tr><tr><td>MAE_percentile_95</td><td>61.49751</td></tr><tr><td>MAE_std</td><td>24.98368</td></tr><tr><td>MSE_mean</td><td>2463.85099</td></tr><tr><td>MSE_median</td><td>1752.59419</td></tr><tr><td>MSE_percentile_25</td><td>303.79253</td></tr><tr><td>MSE_percentile_5</td><td>255.85556</td></tr><tr><td>MSE_percentile_75</td><td>3912.65265</td></tr><tr><td>MSE_percentile_95</td><td>5667.60595</td></tr><tr><td>MSE_std</td><td>2786.332</td></tr><tr><td>SMAPE_mean</td><td>7.83373</td></tr><tr><td>SMAPE_median</td><td>8.15084</td></tr><tr><td>SMAPE_percentile_25</td><td>7.2034</td></tr><tr><td>SMAPE_percentile_5</td><td>5.92631</td></tr><tr><td>SMAPE_percentile_75</td><td>8.78118</td></tr><tr><td>SMAPE_percentile_95</td><td>9.2972</td></tr><tr><td>SMAPE_std</td><td>1.6371</td></tr><tr><td>Sign_mean</td><td>0.46429</td></tr><tr><td>Sign_median</td><td>0.42857</td></tr><tr><td>Sign_percentile_25</td><td>0.39286</td></tr><tr><td>Sign_percentile_5</td><td>0.30714</td></tr><tr><td>Sign_percentile_75</td><td>0.5</td></tr><tr><td>Sign_percentile_95</td><td>0.67143</td></tr><tr><td>Sign_std</td><td>0.17976</td></tr></table><br/></div></div>"
      ],
      "text/plain": [
       "<IPython.core.display.HTML object>"
      ]
     },
     "metadata": {},
     "output_type": "display_data"
    },
    {
     "data": {
      "text/html": [
       "Synced <strong style=\"color:#cdcd00\">qao2_P7H</strong>: <a href=\"https://wandb.ai/gewissta/wandb-sweeps/runs/2qq6iic6\" target=\"_blank\">https://wandb.ai/gewissta/wandb-sweeps/runs/2qq6iic6</a><br/>Synced 5 W&B file(s), 3 media file(s), 3 artifact file(s) and 0 other file(s)"
      ],
      "text/plain": [
       "<IPython.core.display.HTML object>"
      ]
     },
     "metadata": {},
     "output_type": "display_data"
    },
    {
     "data": {
      "text/html": [
       "Find logs at: <code>./wandb/run-20221224_214308-2qq6iic6/logs</code>"
      ],
      "text/plain": [
       "<IPython.core.display.HTML object>"
      ]
     },
     "metadata": {},
     "output_type": "display_data"
    },
    {
     "name": "stderr",
     "output_type": "stream",
     "text": [
      "[Parallel(n_jobs=1)]: Done   3 out of   3 | elapsed:  1.4min remaining:    0.0s\n"
     ]
    },
    {
     "data": {
      "text/html": [
       "Changes to your `wandb` environment variables will be ignored because your `wandb` session has already started. For more information on how to modify your settings with `wandb.init()` arguments, please refer to <a href=\"https://wandb.me/wandb-init\" target=\"_blank\">the W&B docs</a>."
      ],
      "text/plain": [
       "<IPython.core.display.HTML object>"
      ]
     },
     "metadata": {},
     "output_type": "display_data"
    },
    {
     "data": {
      "text/html": [
       "wandb version 0.13.7 is available!  To upgrade, please run:\n",
       " $ pip install wandb --upgrade"
      ],
      "text/plain": [
       "<IPython.core.display.HTML object>"
      ]
     },
     "metadata": {},
     "output_type": "display_data"
    },
    {
     "data": {
      "text/html": [
       "Tracking run with wandb version 0.12.21"
      ],
      "text/plain": [
       "<IPython.core.display.HTML object>"
      ]
     },
     "metadata": {},
     "output_type": "display_data"
    },
    {
     "data": {
      "text/html": [
       "Run data is saved locally in <code>/Users/artemgruzdev/Documents/Data_Preprocessing_in_Python_для издательства/wandb/run-20221224_214337-126p0hqr</code>"
      ],
      "text/plain": [
       "<IPython.core.display.HTML object>"
      ]
     },
     "metadata": {},
     "output_type": "display_data"
    },
    {
     "data": {
      "text/html": [
       "Syncing run <strong><a href=\"https://wandb.ai/gewissta/wandb-sweeps/runs/126p0hqr\" target=\"_blank\">qao2_P7H</a></strong> to <a href=\"https://wandb.ai/gewissta/wandb-sweeps\" target=\"_blank\">Weights & Biases</a> (<a href=\"https://wandb.me/run\" target=\"_blank\">docs</a>)<br/>"
      ],
      "text/plain": [
       "<IPython.core.display.HTML object>"
      ]
     },
     "metadata": {},
     "output_type": "display_data"
    },
    {
     "data": {
      "text/html": [
       "Waiting for W&B process to finish... <strong style=\"color:green\">(success).</strong>"
      ],
      "text/plain": [
       "<IPython.core.display.HTML object>"
      ]
     },
     "metadata": {},
     "output_type": "display_data"
    },
    {
     "data": {
      "application/vnd.jupyter.widget-view+json": {
       "model_id": "",
       "version_major": 2,
       "version_minor": 0
      },
      "text/plain": [
       "VBox(children=(Label(value='0.057 MB of 0.061 MB uploaded (0.000 MB deduped)\\r'), FloatProgress(value=0.943306…"
      ]
     },
     "metadata": {},
     "output_type": "display_data"
    },
    {
     "data": {
      "text/html": [
       "<style>\n",
       "    table.wandb td:nth-child(1) { padding: 0 10px; text-align: left ; width: auto;} td:nth-child(2) {text-align: left ; width: 100%}\n",
       "    .wandb-row { display: flex; flex-direction: row; flex-wrap: wrap; justify-content: flex-start; width: 100% }\n",
       "    .wandb-col { display: flex; flex-direction: column; flex-basis: 100%; flex: 1; padding: 10px; }\n",
       "    </style>\n",
       "<div class=\"wandb-row\"><div class=\"wandb-col\"><h3>Run history:</h3><br/><table class=\"wandb\"><tr><td>MAE_mean</td><td>▁</td></tr><tr><td>MAE_median</td><td>▁</td></tr><tr><td>MAE_percentile_25</td><td>▁</td></tr><tr><td>MAE_percentile_5</td><td>▁</td></tr><tr><td>MAE_percentile_75</td><td>▁</td></tr><tr><td>MAE_percentile_95</td><td>▁</td></tr><tr><td>MAE_std</td><td>▁</td></tr><tr><td>MSE_mean</td><td>▁</td></tr><tr><td>MSE_median</td><td>▁</td></tr><tr><td>MSE_percentile_25</td><td>▁</td></tr><tr><td>MSE_percentile_5</td><td>▁</td></tr><tr><td>MSE_percentile_75</td><td>▁</td></tr><tr><td>MSE_percentile_95</td><td>▁</td></tr><tr><td>MSE_std</td><td>▁</td></tr><tr><td>SMAPE_mean</td><td>▁</td></tr><tr><td>SMAPE_median</td><td>▁</td></tr><tr><td>SMAPE_percentile_25</td><td>▁</td></tr><tr><td>SMAPE_percentile_5</td><td>▁</td></tr><tr><td>SMAPE_percentile_75</td><td>▁</td></tr><tr><td>SMAPE_percentile_95</td><td>▁</td></tr><tr><td>SMAPE_std</td><td>▁</td></tr><tr><td>Sign_mean</td><td>▁</td></tr><tr><td>Sign_median</td><td>▁</td></tr><tr><td>Sign_percentile_25</td><td>▁</td></tr><tr><td>Sign_percentile_5</td><td>▁</td></tr><tr><td>Sign_percentile_75</td><td>▁</td></tr><tr><td>Sign_percentile_95</td><td>▁</td></tr><tr><td>Sign_std</td><td>▁</td></tr></table><br/></div><div class=\"wandb-col\"><h3>Run summary:</h3><br/><table class=\"wandb\"><tr><td>MAE_mean</td><td>54.73992</td></tr><tr><td>MAE_median</td><td>40.40075</td></tr><tr><td>MAE_percentile_25</td><td>22.26606</td></tr><tr><td>MAE_percentile_5</td><td>17.3893</td></tr><tr><td>MAE_percentile_75</td><td>72.87461</td></tr><tr><td>MAE_percentile_95</td><td>112.16538</td></tr><tr><td>MAE_std</td><td>48.0963</td></tr><tr><td>MSE_mean</td><td>6962.94863</td></tr><tr><td>MSE_median</td><td>3647.01546</td></tr><tr><td>MSE_percentile_25</td><td>1431.30677</td></tr><tr><td>MSE_percentile_5</td><td>560.93934</td></tr><tr><td>MSE_percentile_75</td><td>9178.65732</td></tr><tr><td>MSE_percentile_95</td><td>18007.26435</td></tr><tr><td>MSE_std</td><td>9097.23338</td></tr><tr><td>SMAPE_mean</td><td>10.17977</td></tr><tr><td>SMAPE_median</td><td>10.44038</td></tr><tr><td>SMAPE_percentile_25</td><td>8.94614</td></tr><tr><td>SMAPE_percentile_5</td><td>6.93042</td></tr><tr><td>SMAPE_percentile_75</td><td>11.67401</td></tr><tr><td>SMAPE_percentile_95</td><td>13.06428</td></tr><tr><td>SMAPE_std</td><td>2.91694</td></tr><tr><td>Sign_mean</td><td>0.67857</td></tr><tr><td>Sign_median</td><td>0.71429</td></tr><tr><td>Sign_percentile_25</td><td>0.53571</td></tr><tr><td>Sign_percentile_5</td><td>0.45</td></tr><tr><td>Sign_percentile_75</td><td>0.85714</td></tr><tr><td>Sign_percentile_95</td><td>0.85714</td></tr><tr><td>Sign_std</td><td>0.21429</td></tr></table><br/></div></div>"
      ],
      "text/plain": [
       "<IPython.core.display.HTML object>"
      ]
     },
     "metadata": {},
     "output_type": "display_data"
    },
    {
     "data": {
      "text/html": [
       "Synced <strong style=\"color:#cdcd00\">qao2_P7H</strong>: <a href=\"https://wandb.ai/gewissta/wandb-sweeps/runs/126p0hqr\" target=\"_blank\">https://wandb.ai/gewissta/wandb-sweeps/runs/126p0hqr</a><br/>Synced 5 W&B file(s), 3 media file(s), 3 artifact file(s) and 0 other file(s)"
      ],
      "text/plain": [
       "<IPython.core.display.HTML object>"
      ]
     },
     "metadata": {},
     "output_type": "display_data"
    },
    {
     "data": {
      "text/html": [
       "Find logs at: <code>./wandb/run-20221224_214337-126p0hqr/logs</code>"
      ],
      "text/plain": [
       "<IPython.core.display.HTML object>"
      ]
     },
     "metadata": {},
     "output_type": "display_data"
    },
    {
     "name": "stderr",
     "output_type": "stream",
     "text": [
      "[Parallel(n_jobs=1)]: Done   4 out of   4 | elapsed:  1.9min remaining:    0.0s\n"
     ]
    },
    {
     "data": {
      "text/html": [
       "Changes to your `wandb` environment variables will be ignored because your `wandb` session has already started. For more information on how to modify your settings with `wandb.init()` arguments, please refer to <a href=\"https://wandb.me/wandb-init\" target=\"_blank\">the W&B docs</a>."
      ],
      "text/plain": [
       "<IPython.core.display.HTML object>"
      ]
     },
     "metadata": {},
     "output_type": "display_data"
    },
    {
     "data": {
      "text/html": [
       "wandb version 0.13.7 is available!  To upgrade, please run:\n",
       " $ pip install wandb --upgrade"
      ],
      "text/plain": [
       "<IPython.core.display.HTML object>"
      ]
     },
     "metadata": {},
     "output_type": "display_data"
    },
    {
     "data": {
      "text/html": [
       "Tracking run with wandb version 0.12.21"
      ],
      "text/plain": [
       "<IPython.core.display.HTML object>"
      ]
     },
     "metadata": {},
     "output_type": "display_data"
    },
    {
     "data": {
      "text/html": [
       "Run data is saved locally in <code>/Users/artemgruzdev/Documents/Data_Preprocessing_in_Python_для издательства/wandb/run-20221224_214407-8mkl5y2t</code>"
      ],
      "text/plain": [
       "<IPython.core.display.HTML object>"
      ]
     },
     "metadata": {},
     "output_type": "display_data"
    },
    {
     "data": {
      "text/html": [
       "Syncing run <strong><a href=\"https://wandb.ai/gewissta/wandb-sweeps/runs/8mkl5y2t\" target=\"_blank\">qao2_P7H</a></strong> to <a href=\"https://wandb.ai/gewissta/wandb-sweeps\" target=\"_blank\">Weights & Biases</a> (<a href=\"https://wandb.me/run\" target=\"_blank\">docs</a>)<br/>"
      ],
      "text/plain": [
       "<IPython.core.display.HTML object>"
      ]
     },
     "metadata": {},
     "output_type": "display_data"
    },
    {
     "data": {
      "text/html": [
       "Waiting for W&B process to finish... <strong style=\"color:green\">(success).</strong>"
      ],
      "text/plain": [
       "<IPython.core.display.HTML object>"
      ]
     },
     "metadata": {},
     "output_type": "display_data"
    },
    {
     "data": {
      "application/vnd.jupyter.widget-view+json": {
       "model_id": "",
       "version_major": 2,
       "version_minor": 0
      },
      "text/plain": [
       "VBox(children=(Label(value='0.057 MB of 0.059 MB uploaded (0.000 MB deduped)\\r'), FloatProgress(value=0.961886…"
      ]
     },
     "metadata": {},
     "output_type": "display_data"
    },
    {
     "data": {
      "text/html": [
       "<style>\n",
       "    table.wandb td:nth-child(1) { padding: 0 10px; text-align: left ; width: auto;} td:nth-child(2) {text-align: left ; width: 100%}\n",
       "    .wandb-row { display: flex; flex-direction: row; flex-wrap: wrap; justify-content: flex-start; width: 100% }\n",
       "    .wandb-col { display: flex; flex-direction: column; flex-basis: 100%; flex: 1; padding: 10px; }\n",
       "    </style>\n",
       "<div class=\"wandb-row\"><div class=\"wandb-col\"><h3>Run history:</h3><br/><table class=\"wandb\"><tr><td>MAE_mean</td><td>▁</td></tr><tr><td>MAE_median</td><td>▁</td></tr><tr><td>MAE_percentile_25</td><td>▁</td></tr><tr><td>MAE_percentile_5</td><td>▁</td></tr><tr><td>MAE_percentile_75</td><td>▁</td></tr><tr><td>MAE_percentile_95</td><td>▁</td></tr><tr><td>MAE_std</td><td>▁</td></tr><tr><td>MSE_mean</td><td>▁</td></tr><tr><td>MSE_median</td><td>▁</td></tr><tr><td>MSE_percentile_25</td><td>▁</td></tr><tr><td>MSE_percentile_5</td><td>▁</td></tr><tr><td>MSE_percentile_75</td><td>▁</td></tr><tr><td>MSE_percentile_95</td><td>▁</td></tr><tr><td>MSE_std</td><td>▁</td></tr><tr><td>SMAPE_mean</td><td>▁</td></tr><tr><td>SMAPE_median</td><td>▁</td></tr><tr><td>SMAPE_percentile_25</td><td>▁</td></tr><tr><td>SMAPE_percentile_5</td><td>▁</td></tr><tr><td>SMAPE_percentile_75</td><td>▁</td></tr><tr><td>SMAPE_percentile_95</td><td>▁</td></tr><tr><td>SMAPE_std</td><td>▁</td></tr><tr><td>Sign_mean</td><td>▁</td></tr><tr><td>Sign_median</td><td>▁</td></tr><tr><td>Sign_percentile_25</td><td>▁</td></tr><tr><td>Sign_percentile_5</td><td>▁</td></tr><tr><td>Sign_percentile_75</td><td>▁</td></tr><tr><td>Sign_percentile_95</td><td>▁</td></tr><tr><td>Sign_std</td><td>▁</td></tr></table><br/></div><div class=\"wandb-col\"><h3>Run summary:</h3><br/><table class=\"wandb\"><tr><td>MAE_mean</td><td>54.43226</td></tr><tr><td>MAE_median</td><td>51.89608</td></tr><tr><td>MAE_percentile_25</td><td>44.60622</td></tr><tr><td>MAE_percentile_5</td><td>30.10526</td></tr><tr><td>MAE_percentile_75</td><td>61.72211</td></tr><tr><td>MAE_percentile_95</td><td>82.3099</td></tr><tr><td>MAE_std</td><td>25.08605</td></tr><tr><td>MSE_mean</td><td>5544.09252</td></tr><tr><td>MSE_median</td><td>4493.35593</td></tr><tr><td>MSE_percentile_25</td><td>2790.84696</td></tr><tr><td>MSE_percentile_5</td><td>1453.60262</td></tr><tr><td>MSE_percentile_75</td><td>7246.60148</td></tr><tr><td>MSE_percentile_95</td><td>11105.61364</td></tr><tr><td>MSE_std</td><td>4725.91248</td></tr><tr><td>SMAPE_mean</td><td>13.54028</td></tr><tr><td>SMAPE_median</td><td>10.25071</td></tr><tr><td>SMAPE_percentile_25</td><td>9.83687</td></tr><tr><td>SMAPE_percentile_5</td><td>9.57811</td></tr><tr><td>SMAPE_percentile_75</td><td>13.95413</td></tr><tr><td>SMAPE_percentile_95</td><td>22.10784</td></tr><tr><td>SMAPE_std</td><td>7.0836</td></tr><tr><td>Sign_mean</td><td>0.35714</td></tr><tr><td>Sign_median</td><td>0.28571</td></tr><tr><td>Sign_percentile_25</td><td>0.14286</td></tr><tr><td>Sign_percentile_5</td><td>0.14286</td></tr><tr><td>Sign_percentile_75</td><td>0.5</td></tr><tr><td>Sign_percentile_95</td><td>0.67143</td></tr><tr><td>Sign_std</td><td>0.27355</td></tr></table><br/></div></div>"
      ],
      "text/plain": [
       "<IPython.core.display.HTML object>"
      ]
     },
     "metadata": {},
     "output_type": "display_data"
    },
    {
     "data": {
      "text/html": [
       "Synced <strong style=\"color:#cdcd00\">qao2_P7H</strong>: <a href=\"https://wandb.ai/gewissta/wandb-sweeps/runs/8mkl5y2t\" target=\"_blank\">https://wandb.ai/gewissta/wandb-sweeps/runs/8mkl5y2t</a><br/>Synced 5 W&B file(s), 3 media file(s), 3 artifact file(s) and 0 other file(s)"
      ],
      "text/plain": [
       "<IPython.core.display.HTML object>"
      ]
     },
     "metadata": {},
     "output_type": "display_data"
    },
    {
     "data": {
      "text/html": [
       "Find logs at: <code>./wandb/run-20221224_214407-8mkl5y2t/logs</code>"
      ],
      "text/plain": [
       "<IPython.core.display.HTML object>"
      ]
     },
     "metadata": {},
     "output_type": "display_data"
    },
    {
     "name": "stderr",
     "output_type": "stream",
     "text": [
      "[Parallel(n_jobs=1)]: Done   5 out of   5 | elapsed:  2.4min remaining:    0.0s\n",
      "[Parallel(n_jobs=1)]: Done   5 out of   5 | elapsed:  2.4min finished\n"
     ]
    },
    {
     "data": {
      "text/html": [
       "Changes to your `wandb` environment variables will be ignored because your `wandb` session has already started. For more information on how to modify your settings with `wandb.init()` arguments, please refer to <a href=\"https://wandb.me/wandb-init\" target=\"_blank\">the W&B docs</a>."
      ],
      "text/plain": [
       "<IPython.core.display.HTML object>"
      ]
     },
     "metadata": {},
     "output_type": "display_data"
    },
    {
     "data": {
      "text/html": [
       "wandb version 0.13.7 is available!  To upgrade, please run:\n",
       " $ pip install wandb --upgrade"
      ],
      "text/plain": [
       "<IPython.core.display.HTML object>"
      ]
     },
     "metadata": {},
     "output_type": "display_data"
    },
    {
     "data": {
      "text/html": [
       "Tracking run with wandb version 0.12.21"
      ],
      "text/plain": [
       "<IPython.core.display.HTML object>"
      ]
     },
     "metadata": {},
     "output_type": "display_data"
    },
    {
     "data": {
      "text/html": [
       "Run data is saved locally in <code>/Users/artemgruzdev/Documents/Data_Preprocessing_in_Python_для издательства/wandb/run-20221224_214436-366m039m</code>"
      ],
      "text/plain": [
       "<IPython.core.display.HTML object>"
      ]
     },
     "metadata": {},
     "output_type": "display_data"
    },
    {
     "data": {
      "text/html": [
       "Syncing run <strong><a href=\"https://wandb.ai/gewissta/wandb-sweeps/runs/366m039m\" target=\"_blank\">qao2_P7H</a></strong> to <a href=\"https://wandb.ai/gewissta/wandb-sweeps\" target=\"_blank\">Weights & Biases</a> (<a href=\"https://wandb.me/run\" target=\"_blank\">docs</a>)<br/>"
      ],
      "text/plain": [
       "<IPython.core.display.HTML object>"
      ]
     },
     "metadata": {},
     "output_type": "display_data"
    },
    {
     "data": {
      "text/html": [
       "Waiting for W&B process to finish... <strong style=\"color:green\">(success).</strong>"
      ],
      "text/plain": [
       "<IPython.core.display.HTML object>"
      ]
     },
     "metadata": {},
     "output_type": "display_data"
    },
    {
     "data": {
      "application/vnd.jupyter.widget-view+json": {
       "model_id": "",
       "version_major": 2,
       "version_minor": 0
      },
      "text/plain": [
       "VBox(children=(Label(value='0.248 MB of 0.305 MB uploaded (0.000 MB deduped)\\r'), FloatProgress(value=0.813242…"
      ]
     },
     "metadata": {},
     "output_type": "display_data"
    },
    {
     "data": {
      "text/html": [
       "<style>\n",
       "    table.wandb td:nth-child(1) { padding: 0 10px; text-align: left ; width: auto;} td:nth-child(2) {text-align: left ; width: 100%}\n",
       "    .wandb-row { display: flex; flex-direction: row; flex-wrap: wrap; justify-content: flex-start; width: 100% }\n",
       "    .wandb-col { display: flex; flex-direction: column; flex-basis: 100%; flex: 1; padding: 10px; }\n",
       "    </style>\n",
       "<div class=\"wandb-row\"><div class=\"wandb-col\"><h3>Run history:</h3><br/><table class=\"wandb\"><tr><td>MAE_mean</td><td>▁</td></tr><tr><td>MAE_median</td><td>▁</td></tr><tr><td>MAE_percentile_25</td><td>▁</td></tr><tr><td>MAE_percentile_5</td><td>▁</td></tr><tr><td>MAE_percentile_75</td><td>▁</td></tr><tr><td>MAE_percentile_95</td><td>▁</td></tr><tr><td>MAE_std</td><td>▁</td></tr><tr><td>MSE_mean</td><td>▁</td></tr><tr><td>MSE_median</td><td>▁</td></tr><tr><td>MSE_percentile_25</td><td>▁</td></tr><tr><td>MSE_percentile_5</td><td>▁</td></tr><tr><td>MSE_percentile_75</td><td>▁</td></tr><tr><td>MSE_percentile_95</td><td>▁</td></tr><tr><td>MSE_std</td><td>▁</td></tr><tr><td>SMAPE_mean</td><td>▁</td></tr><tr><td>SMAPE_median</td><td>▁</td></tr><tr><td>SMAPE_percentile_25</td><td>▁</td></tr><tr><td>SMAPE_percentile_5</td><td>▁</td></tr><tr><td>SMAPE_percentile_75</td><td>▁</td></tr><tr><td>SMAPE_percentile_95</td><td>▁</td></tr><tr><td>SMAPE_std</td><td>▁</td></tr><tr><td>Sign_mean</td><td>▁</td></tr><tr><td>Sign_median</td><td>▁</td></tr><tr><td>Sign_percentile_25</td><td>▁</td></tr><tr><td>Sign_percentile_5</td><td>▁</td></tr><tr><td>Sign_percentile_75</td><td>▁</td></tr><tr><td>Sign_percentile_95</td><td>▁</td></tr><tr><td>Sign_std</td><td>▁</td></tr></table><br/></div><div class=\"wandb-col\"><h3>Run summary:</h3><br/><table class=\"wandb\"><tr><td>MAE_mean</td><td>43.32663</td></tr><tr><td>MAE_median</td><td>37.03979</td></tr><tr><td>MAE_percentile_25</td><td>23.10607</td></tr><tr><td>MAE_percentile_5</td><td>19.56813</td></tr><tr><td>MAE_percentile_75</td><td>57.26035</td></tr><tr><td>MAE_percentile_95</td><td>75.88672</td></tr><tr><td>MAE_std</td><td>28.17735</td></tr><tr><td>MSE_mean</td><td>4035.81347</td></tr><tr><td>MSE_median</td><td>2701.01238</td></tr><tr><td>MSE_percentile_25</td><td>1065.40407</td></tr><tr><td>MSE_percentile_5</td><td>676.67173</td></tr><tr><td>MSE_percentile_75</td><td>5671.42179</td></tr><tr><td>MSE_percentile_95</td><td>9263.67675</td></tr><tr><td>MSE_std</td><td>4373.39533</td></tr><tr><td>SMAPE_mean</td><td>9.81841</td></tr><tr><td>SMAPE_median</td><td>9.40786</td></tr><tr><td>SMAPE_percentile_25</td><td>8.92964</td></tr><tr><td>SMAPE_percentile_5</td><td>7.94159</td></tr><tr><td>SMAPE_percentile_75</td><td>10.29663</td></tr><tr><td>SMAPE_percentile_95</td><td>12.27</td></tr><tr><td>SMAPE_std</td><td>2.12362</td></tr><tr><td>Sign_mean</td><td>0.4</td></tr><tr><td>Sign_median</td><td>0.38571</td></tr><tr><td>Sign_percentile_25</td><td>0.37143</td></tr><tr><td>Sign_percentile_5</td><td>0.37143</td></tr><tr><td>Sign_percentile_75</td><td>0.41429</td></tr><tr><td>Sign_percentile_95</td><td>0.44857</td></tr><tr><td>Sign_std</td><td>0.04041</td></tr></table><br/></div></div>"
      ],
      "text/plain": [
       "<IPython.core.display.HTML object>"
      ]
     },
     "metadata": {},
     "output_type": "display_data"
    },
    {
     "data": {
      "text/html": [
       "Synced <strong style=\"color:#cdcd00\">qao2_P7H</strong>: <a href=\"https://wandb.ai/gewissta/wandb-sweeps/runs/366m039m\" target=\"_blank\">https://wandb.ai/gewissta/wandb-sweeps/runs/366m039m</a><br/>Synced 5 W&B file(s), 4 media file(s), 3 artifact file(s) and 0 other file(s)"
      ],
      "text/plain": [
       "<IPython.core.display.HTML object>"
      ]
     },
     "metadata": {},
     "output_type": "display_data"
    },
    {
     "data": {
      "text/html": [
       "Find logs at: <code>./wandb/run-20221224_214436-366m039m/logs</code>"
      ],
      "text/plain": [
       "<IPython.core.display.HTML object>"
      ]
     },
     "metadata": {},
     "output_type": "display_data"
    },
    {
     "name": "stderr",
     "output_type": "stream",
     "text": [
      "\u001b[32m[I 2022-12-24 21:45:07,190]\u001b[0m Trial 2 finished with value: 43.326634816024054 and parameters: {'iterations': 20, 'depth': 2, 'lags': 19}. Best is trial 2 with value: 43.326634816024054.\u001b[0m\n",
      "[Parallel(n_jobs=1)]: Using backend SequentialBackend with 1 concurrent workers.\n"
     ]
    },
    {
     "data": {
      "text/html": [
       "Changes to your `wandb` environment variables will be ignored because your `wandb` session has already started. For more information on how to modify your settings with `wandb.init()` arguments, please refer to <a href=\"https://wandb.me/wandb-init\" target=\"_blank\">the W&B docs</a>."
      ],
      "text/plain": [
       "<IPython.core.display.HTML object>"
      ]
     },
     "metadata": {},
     "output_type": "display_data"
    },
    {
     "data": {
      "text/html": [
       "wandb version 0.13.7 is available!  To upgrade, please run:\n",
       " $ pip install wandb --upgrade"
      ],
      "text/plain": [
       "<IPython.core.display.HTML object>"
      ]
     },
     "metadata": {},
     "output_type": "display_data"
    },
    {
     "data": {
      "text/html": [
       "Tracking run with wandb version 0.12.21"
      ],
      "text/plain": [
       "<IPython.core.display.HTML object>"
      ]
     },
     "metadata": {},
     "output_type": "display_data"
    },
    {
     "data": {
      "text/html": [
       "Run data is saved locally in <code>/Users/artemgruzdev/Documents/Data_Preprocessing_in_Python_для издательства/wandb/run-20221224_214507-1gj8tda1</code>"
      ],
      "text/plain": [
       "<IPython.core.display.HTML object>"
      ]
     },
     "metadata": {},
     "output_type": "display_data"
    },
    {
     "data": {
      "text/html": [
       "Syncing run <strong><a href=\"https://wandb.ai/gewissta/wandb-sweeps/runs/1gj8tda1\" target=\"_blank\">iTvpJ1kJ</a></strong> to <a href=\"https://wandb.ai/gewissta/wandb-sweeps\" target=\"_blank\">Weights & Biases</a> (<a href=\"https://wandb.me/run\" target=\"_blank\">docs</a>)<br/>"
      ],
      "text/plain": [
       "<IPython.core.display.HTML object>"
      ]
     },
     "metadata": {},
     "output_type": "display_data"
    },
    {
     "data": {
      "text/html": [
       "Waiting for W&B process to finish... <strong style=\"color:green\">(success).</strong>"
      ],
      "text/plain": [
       "<IPython.core.display.HTML object>"
      ]
     },
     "metadata": {},
     "output_type": "display_data"
    },
    {
     "data": {
      "application/vnd.jupyter.widget-view+json": {
       "model_id": "",
       "version_major": 2,
       "version_minor": 0
      },
      "text/plain": [
       "VBox(children=(Label(value='0.057 MB of 0.061 MB uploaded (0.000 MB deduped)\\r'), FloatProgress(value=0.943691…"
      ]
     },
     "metadata": {},
     "output_type": "display_data"
    },
    {
     "data": {
      "text/html": [
       "<style>\n",
       "    table.wandb td:nth-child(1) { padding: 0 10px; text-align: left ; width: auto;} td:nth-child(2) {text-align: left ; width: 100%}\n",
       "    .wandb-row { display: flex; flex-direction: row; flex-wrap: wrap; justify-content: flex-start; width: 100% }\n",
       "    .wandb-col { display: flex; flex-direction: column; flex-basis: 100%; flex: 1; padding: 10px; }\n",
       "    </style>\n",
       "<div class=\"wandb-row\"><div class=\"wandb-col\"><h3>Run history:</h3><br/><table class=\"wandb\"><tr><td>MAE_mean</td><td>▁</td></tr><tr><td>MAE_median</td><td>▁</td></tr><tr><td>MAE_percentile_25</td><td>▁</td></tr><tr><td>MAE_percentile_5</td><td>▁</td></tr><tr><td>MAE_percentile_75</td><td>▁</td></tr><tr><td>MAE_percentile_95</td><td>▁</td></tr><tr><td>MAE_std</td><td>▁</td></tr><tr><td>MSE_mean</td><td>▁</td></tr><tr><td>MSE_median</td><td>▁</td></tr><tr><td>MSE_percentile_25</td><td>▁</td></tr><tr><td>MSE_percentile_5</td><td>▁</td></tr><tr><td>MSE_percentile_75</td><td>▁</td></tr><tr><td>MSE_percentile_95</td><td>▁</td></tr><tr><td>MSE_std</td><td>▁</td></tr><tr><td>SMAPE_mean</td><td>▁</td></tr><tr><td>SMAPE_median</td><td>▁</td></tr><tr><td>SMAPE_percentile_25</td><td>▁</td></tr><tr><td>SMAPE_percentile_5</td><td>▁</td></tr><tr><td>SMAPE_percentile_75</td><td>▁</td></tr><tr><td>SMAPE_percentile_95</td><td>▁</td></tr><tr><td>SMAPE_std</td><td>▁</td></tr><tr><td>Sign_mean</td><td>▁</td></tr><tr><td>Sign_median</td><td>▁</td></tr><tr><td>Sign_percentile_25</td><td>▁</td></tr><tr><td>Sign_percentile_5</td><td>▁</td></tr><tr><td>Sign_percentile_75</td><td>▁</td></tr><tr><td>Sign_percentile_95</td><td>▁</td></tr><tr><td>Sign_std</td><td>▁</td></tr></table><br/></div><div class=\"wandb-col\"><h3>Run summary:</h3><br/><table class=\"wandb\"><tr><td>MAE_mean</td><td>32.08479</td></tr><tr><td>MAE_median</td><td>33.31025</td></tr><tr><td>MAE_percentile_25</td><td>16.82104</td></tr><tr><td>MAE_percentile_5</td><td>11.27181</td></tr><tr><td>MAE_percentile_75</td><td>48.574</td></tr><tr><td>MAE_percentile_95</td><td>51.18214</td></tr><tr><td>MAE_std</td><td>20.71932</td></tr><tr><td>MSE_mean</td><td>2280.68272</td></tr><tr><td>MSE_median</td><td>2314.28674</td></tr><tr><td>MSE_percentile_25</td><td>518.66319</td></tr><tr><td>MSE_percentile_5</td><td>199.48777</td></tr><tr><td>MSE_percentile_75</td><td>4076.30628</td></tr><tr><td>MSE_percentile_95</td><td>4314.83205</td></tr><tr><td>MSE_std</td><td>2204.89994</td></tr><tr><td>SMAPE_mean</td><td>7.9297</td></tr><tr><td>SMAPE_median</td><td>7.24306</td></tr><tr><td>SMAPE_percentile_25</td><td>6.1239</td></tr><tr><td>SMAPE_percentile_5</td><td>6.10111</td></tr><tr><td>SMAPE_percentile_75</td><td>9.04886</td></tr><tr><td>SMAPE_percentile_95</td><td>10.71959</td></tr><tr><td>SMAPE_std</td><td>2.38459</td></tr><tr><td>Sign_mean</td><td>-0.17857</td></tr><tr><td>Sign_median</td><td>-0.07143</td></tr><tr><td>Sign_percentile_25</td><td>-0.39286</td></tr><tr><td>Sign_percentile_5</td><td>-0.65</td></tr><tr><td>Sign_percentile_75</td><td>0.14286</td></tr><tr><td>Sign_percentile_95</td><td>0.14286</td></tr><tr><td>Sign_std</td><td>0.41033</td></tr></table><br/></div></div>"
      ],
      "text/plain": [
       "<IPython.core.display.HTML object>"
      ]
     },
     "metadata": {},
     "output_type": "display_data"
    },
    {
     "data": {
      "text/html": [
       "Synced <strong style=\"color:#cdcd00\">iTvpJ1kJ</strong>: <a href=\"https://wandb.ai/gewissta/wandb-sweeps/runs/1gj8tda1\" target=\"_blank\">https://wandb.ai/gewissta/wandb-sweeps/runs/1gj8tda1</a><br/>Synced 5 W&B file(s), 3 media file(s), 3 artifact file(s) and 0 other file(s)"
      ],
      "text/plain": [
       "<IPython.core.display.HTML object>"
      ]
     },
     "metadata": {},
     "output_type": "display_data"
    },
    {
     "data": {
      "text/html": [
       "Find logs at: <code>./wandb/run-20221224_214507-1gj8tda1/logs</code>"
      ],
      "text/plain": [
       "<IPython.core.display.HTML object>"
      ]
     },
     "metadata": {},
     "output_type": "display_data"
    },
    {
     "name": "stderr",
     "output_type": "stream",
     "text": [
      "[Parallel(n_jobs=1)]: Done   1 out of   1 | elapsed:   31.1s remaining:    0.0s\n"
     ]
    },
    {
     "data": {
      "text/html": [
       "Changes to your `wandb` environment variables will be ignored because your `wandb` session has already started. For more information on how to modify your settings with `wandb.init()` arguments, please refer to <a href=\"https://wandb.me/wandb-init\" target=\"_blank\">the W&B docs</a>."
      ],
      "text/plain": [
       "<IPython.core.display.HTML object>"
      ]
     },
     "metadata": {},
     "output_type": "display_data"
    },
    {
     "data": {
      "text/html": [
       "wandb version 0.13.7 is available!  To upgrade, please run:\n",
       " $ pip install wandb --upgrade"
      ],
      "text/plain": [
       "<IPython.core.display.HTML object>"
      ]
     },
     "metadata": {},
     "output_type": "display_data"
    },
    {
     "data": {
      "text/html": [
       "Tracking run with wandb version 0.12.21"
      ],
      "text/plain": [
       "<IPython.core.display.HTML object>"
      ]
     },
     "metadata": {},
     "output_type": "display_data"
    },
    {
     "data": {
      "text/html": [
       "Run data is saved locally in <code>/Users/artemgruzdev/Documents/Data_Preprocessing_in_Python_для издательства/wandb/run-20221224_214538-est2wmqx</code>"
      ],
      "text/plain": [
       "<IPython.core.display.HTML object>"
      ]
     },
     "metadata": {},
     "output_type": "display_data"
    },
    {
     "data": {
      "text/html": [
       "Syncing run <strong><a href=\"https://wandb.ai/gewissta/wandb-sweeps/runs/est2wmqx\" target=\"_blank\">iTvpJ1kJ</a></strong> to <a href=\"https://wandb.ai/gewissta/wandb-sweeps\" target=\"_blank\">Weights & Biases</a> (<a href=\"https://wandb.me/run\" target=\"_blank\">docs</a>)<br/>"
      ],
      "text/plain": [
       "<IPython.core.display.HTML object>"
      ]
     },
     "metadata": {},
     "output_type": "display_data"
    },
    {
     "data": {
      "text/html": [
       "Waiting for W&B process to finish... <strong style=\"color:green\">(success).</strong>"
      ],
      "text/plain": [
       "<IPython.core.display.HTML object>"
      ]
     },
     "metadata": {},
     "output_type": "display_data"
    },
    {
     "data": {
      "application/vnd.jupyter.widget-view+json": {
       "model_id": "",
       "version_major": 2,
       "version_minor": 0
      },
      "text/plain": [
       "VBox(children=(Label(value='0.057 MB of 0.061 MB uploaded (0.000 MB deduped)\\r'), FloatProgress(value=0.943414…"
      ]
     },
     "metadata": {},
     "output_type": "display_data"
    },
    {
     "data": {
      "text/html": [
       "<style>\n",
       "    table.wandb td:nth-child(1) { padding: 0 10px; text-align: left ; width: auto;} td:nth-child(2) {text-align: left ; width: 100%}\n",
       "    .wandb-row { display: flex; flex-direction: row; flex-wrap: wrap; justify-content: flex-start; width: 100% }\n",
       "    .wandb-col { display: flex; flex-direction: column; flex-basis: 100%; flex: 1; padding: 10px; }\n",
       "    </style>\n",
       "<div class=\"wandb-row\"><div class=\"wandb-col\"><h3>Run history:</h3><br/><table class=\"wandb\"><tr><td>MAE_mean</td><td>▁</td></tr><tr><td>MAE_median</td><td>▁</td></tr><tr><td>MAE_percentile_25</td><td>▁</td></tr><tr><td>MAE_percentile_5</td><td>▁</td></tr><tr><td>MAE_percentile_75</td><td>▁</td></tr><tr><td>MAE_percentile_95</td><td>▁</td></tr><tr><td>MAE_std</td><td>▁</td></tr><tr><td>MSE_mean</td><td>▁</td></tr><tr><td>MSE_median</td><td>▁</td></tr><tr><td>MSE_percentile_25</td><td>▁</td></tr><tr><td>MSE_percentile_5</td><td>▁</td></tr><tr><td>MSE_percentile_75</td><td>▁</td></tr><tr><td>MSE_percentile_95</td><td>▁</td></tr><tr><td>MSE_std</td><td>▁</td></tr><tr><td>SMAPE_mean</td><td>▁</td></tr><tr><td>SMAPE_median</td><td>▁</td></tr><tr><td>SMAPE_percentile_25</td><td>▁</td></tr><tr><td>SMAPE_percentile_5</td><td>▁</td></tr><tr><td>SMAPE_percentile_75</td><td>▁</td></tr><tr><td>SMAPE_percentile_95</td><td>▁</td></tr><tr><td>SMAPE_std</td><td>▁</td></tr><tr><td>Sign_mean</td><td>▁</td></tr><tr><td>Sign_median</td><td>▁</td></tr><tr><td>Sign_percentile_25</td><td>▁</td></tr><tr><td>Sign_percentile_5</td><td>▁</td></tr><tr><td>Sign_percentile_75</td><td>▁</td></tr><tr><td>Sign_percentile_95</td><td>▁</td></tr><tr><td>Sign_std</td><td>▁</td></tr></table><br/></div><div class=\"wandb-col\"><h3>Run summary:</h3><br/><table class=\"wandb\"><tr><td>MAE_mean</td><td>34.98595</td></tr><tr><td>MAE_median</td><td>28.23755</td></tr><tr><td>MAE_percentile_25</td><td>15.45828</td></tr><tr><td>MAE_percentile_5</td><td>13.38399</td></tr><tr><td>MAE_percentile_75</td><td>47.76521</td></tr><tr><td>MAE_percentile_95</td><td>66.03567</td></tr><tr><td>MAE_std</td><td>26.66413</td></tr><tr><td>MSE_mean</td><td>2546.1041</td></tr><tr><td>MSE_median</td><td>1408.15658</td></tr><tr><td>MSE_percentile_25</td><td>356.0433</td></tr><tr><td>MSE_percentile_5</td><td>250.09163</td></tr><tr><td>MSE_percentile_75</td><td>3598.21738</td></tr><tr><td>MSE_percentile_95</td><td>6435.2431</td></tr><tr><td>MSE_std</td><td>3222.89165</td></tr><tr><td>SMAPE_mean</td><td>7.71117</td></tr><tr><td>SMAPE_median</td><td>7.75801</td></tr><tr><td>SMAPE_percentile_25</td><td>7.42503</td></tr><tr><td>SMAPE_percentile_5</td><td>6.8936</td></tr><tr><td>SMAPE_percentile_75</td><td>8.04415</td></tr><tr><td>SMAPE_percentile_95</td><td>8.46317</td></tr><tr><td>SMAPE_std</td><td>0.74534</td></tr><tr><td>Sign_mean</td><td>0.42857</td></tr><tr><td>Sign_median</td><td>0.5</td></tr><tr><td>Sign_percentile_25</td><td>0.35714</td></tr><tr><td>Sign_percentile_5</td><td>0.18571</td></tr><tr><td>Sign_percentile_75</td><td>0.57143</td></tr><tr><td>Sign_percentile_95</td><td>0.57143</td></tr><tr><td>Sign_std</td><td>0.20203</td></tr></table><br/></div></div>"
      ],
      "text/plain": [
       "<IPython.core.display.HTML object>"
      ]
     },
     "metadata": {},
     "output_type": "display_data"
    },
    {
     "data": {
      "text/html": [
       "Synced <strong style=\"color:#cdcd00\">iTvpJ1kJ</strong>: <a href=\"https://wandb.ai/gewissta/wandb-sweeps/runs/est2wmqx\" target=\"_blank\">https://wandb.ai/gewissta/wandb-sweeps/runs/est2wmqx</a><br/>Synced 5 W&B file(s), 3 media file(s), 3 artifact file(s) and 0 other file(s)"
      ],
      "text/plain": [
       "<IPython.core.display.HTML object>"
      ]
     },
     "metadata": {},
     "output_type": "display_data"
    },
    {
     "data": {
      "text/html": [
       "Find logs at: <code>./wandb/run-20221224_214538-est2wmqx/logs</code>"
      ],
      "text/plain": [
       "<IPython.core.display.HTML object>"
      ]
     },
     "metadata": {},
     "output_type": "display_data"
    },
    {
     "name": "stderr",
     "output_type": "stream",
     "text": [
      "[Parallel(n_jobs=1)]: Done   2 out of   2 | elapsed:   59.9s remaining:    0.0s\n"
     ]
    },
    {
     "data": {
      "text/html": [
       "Changes to your `wandb` environment variables will be ignored because your `wandb` session has already started. For more information on how to modify your settings with `wandb.init()` arguments, please refer to <a href=\"https://wandb.me/wandb-init\" target=\"_blank\">the W&B docs</a>."
      ],
      "text/plain": [
       "<IPython.core.display.HTML object>"
      ]
     },
     "metadata": {},
     "output_type": "display_data"
    },
    {
     "data": {
      "text/html": [
       "wandb version 0.13.7 is available!  To upgrade, please run:\n",
       " $ pip install wandb --upgrade"
      ],
      "text/plain": [
       "<IPython.core.display.HTML object>"
      ]
     },
     "metadata": {},
     "output_type": "display_data"
    },
    {
     "data": {
      "text/html": [
       "Tracking run with wandb version 0.12.21"
      ],
      "text/plain": [
       "<IPython.core.display.HTML object>"
      ]
     },
     "metadata": {},
     "output_type": "display_data"
    },
    {
     "data": {
      "text/html": [
       "Run data is saved locally in <code>/Users/artemgruzdev/Documents/Data_Preprocessing_in_Python_для издательства/wandb/run-20221224_214607-350z1f9e</code>"
      ],
      "text/plain": [
       "<IPython.core.display.HTML object>"
      ]
     },
     "metadata": {},
     "output_type": "display_data"
    },
    {
     "data": {
      "text/html": [
       "Syncing run <strong><a href=\"https://wandb.ai/gewissta/wandb-sweeps/runs/350z1f9e\" target=\"_blank\">iTvpJ1kJ</a></strong> to <a href=\"https://wandb.ai/gewissta/wandb-sweeps\" target=\"_blank\">Weights & Biases</a> (<a href=\"https://wandb.me/run\" target=\"_blank\">docs</a>)<br/>"
      ],
      "text/plain": [
       "<IPython.core.display.HTML object>"
      ]
     },
     "metadata": {},
     "output_type": "display_data"
    },
    {
     "data": {
      "text/html": [
       "Waiting for W&B process to finish... <strong style=\"color:green\">(success).</strong>"
      ],
      "text/plain": [
       "<IPython.core.display.HTML object>"
      ]
     },
     "metadata": {},
     "output_type": "display_data"
    },
    {
     "data": {
      "application/vnd.jupyter.widget-view+json": {
       "model_id": "",
       "version_major": 2,
       "version_minor": 0
      },
      "text/plain": [
       "VBox(children=(Label(value='0.057 MB of 0.060 MB uploaded (0.000 MB deduped)\\r'), FloatProgress(value=0.943341…"
      ]
     },
     "metadata": {},
     "output_type": "display_data"
    },
    {
     "data": {
      "text/html": [
       "<style>\n",
       "    table.wandb td:nth-child(1) { padding: 0 10px; text-align: left ; width: auto;} td:nth-child(2) {text-align: left ; width: 100%}\n",
       "    .wandb-row { display: flex; flex-direction: row; flex-wrap: wrap; justify-content: flex-start; width: 100% }\n",
       "    .wandb-col { display: flex; flex-direction: column; flex-basis: 100%; flex: 1; padding: 10px; }\n",
       "    </style>\n",
       "<div class=\"wandb-row\"><div class=\"wandb-col\"><h3>Run history:</h3><br/><table class=\"wandb\"><tr><td>MAE_mean</td><td>▁</td></tr><tr><td>MAE_median</td><td>▁</td></tr><tr><td>MAE_percentile_25</td><td>▁</td></tr><tr><td>MAE_percentile_5</td><td>▁</td></tr><tr><td>MAE_percentile_75</td><td>▁</td></tr><tr><td>MAE_percentile_95</td><td>▁</td></tr><tr><td>MAE_std</td><td>▁</td></tr><tr><td>MSE_mean</td><td>▁</td></tr><tr><td>MSE_median</td><td>▁</td></tr><tr><td>MSE_percentile_25</td><td>▁</td></tr><tr><td>MSE_percentile_5</td><td>▁</td></tr><tr><td>MSE_percentile_75</td><td>▁</td></tr><tr><td>MSE_percentile_95</td><td>▁</td></tr><tr><td>MSE_std</td><td>▁</td></tr><tr><td>SMAPE_mean</td><td>▁</td></tr><tr><td>SMAPE_median</td><td>▁</td></tr><tr><td>SMAPE_percentile_25</td><td>▁</td></tr><tr><td>SMAPE_percentile_5</td><td>▁</td></tr><tr><td>SMAPE_percentile_75</td><td>▁</td></tr><tr><td>SMAPE_percentile_95</td><td>▁</td></tr><tr><td>SMAPE_std</td><td>▁</td></tr><tr><td>Sign_mean</td><td>▁</td></tr><tr><td>Sign_median</td><td>▁</td></tr><tr><td>Sign_percentile_25</td><td>▁</td></tr><tr><td>Sign_percentile_5</td><td>▁</td></tr><tr><td>Sign_percentile_75</td><td>▁</td></tr><tr><td>Sign_percentile_95</td><td>▁</td></tr><tr><td>Sign_std</td><td>▁</td></tr></table><br/></div><div class=\"wandb-col\"><h3>Run summary:</h3><br/><table class=\"wandb\"><tr><td>MAE_mean</td><td>41.06523</td></tr><tr><td>MAE_median</td><td>35.57395</td></tr><tr><td>MAE_percentile_25</td><td>13.55911</td></tr><tr><td>MAE_percentile_5</td><td>10.79962</td></tr><tr><td>MAE_percentile_75</td><td>63.08007</td></tr><tr><td>MAE_percentile_95</td><td>79.01862</td></tr><tr><td>MAE_std</td><td>34.87143</td></tr><tr><td>MSE_mean</td><td>4268.72826</td></tr><tr><td>MSE_median</td><td>2203.78708</td></tr><tr><td>MSE_percentile_25</td><td>318.35223</td></tr><tr><td>MSE_percentile_5</td><td>200.02822</td></tr><tr><td>MSE_percentile_75</td><td>6154.1631</td></tr><tr><td>MSE_percentile_95</td><td>11228.34594</td></tr><tr><td>MSE_std</td><td>5766.83953</td></tr><tr><td>SMAPE_mean</td><td>8.23064</td></tr><tr><td>SMAPE_median</td><td>8.27447</td></tr><tr><td>SMAPE_percentile_25</td><td>6.05786</td></tr><tr><td>SMAPE_percentile_5</td><td>5.61966</td></tr><tr><td>SMAPE_percentile_75</td><td>10.44725</td></tr><tr><td>SMAPE_percentile_95</td><td>10.78026</td></tr><tr><td>SMAPE_std</td><td>2.7454</td></tr><tr><td>Sign_mean</td><td>0.25</td></tr><tr><td>Sign_median</td><td>0.21429</td></tr><tr><td>Sign_percentile_25</td><td>0.10714</td></tr><tr><td>Sign_percentile_5</td><td>0.02143</td></tr><tr><td>Sign_percentile_75</td><td>0.35714</td></tr><tr><td>Sign_percentile_95</td><td>0.52857</td></tr><tr><td>Sign_std</td><td>0.24398</td></tr></table><br/></div></div>"
      ],
      "text/plain": [
       "<IPython.core.display.HTML object>"
      ]
     },
     "metadata": {},
     "output_type": "display_data"
    },
    {
     "data": {
      "text/html": [
       "Synced <strong style=\"color:#cdcd00\">iTvpJ1kJ</strong>: <a href=\"https://wandb.ai/gewissta/wandb-sweeps/runs/350z1f9e\" target=\"_blank\">https://wandb.ai/gewissta/wandb-sweeps/runs/350z1f9e</a><br/>Synced 5 W&B file(s), 3 media file(s), 3 artifact file(s) and 0 other file(s)"
      ],
      "text/plain": [
       "<IPython.core.display.HTML object>"
      ]
     },
     "metadata": {},
     "output_type": "display_data"
    },
    {
     "data": {
      "text/html": [
       "Find logs at: <code>./wandb/run-20221224_214607-350z1f9e/logs</code>"
      ],
      "text/plain": [
       "<IPython.core.display.HTML object>"
      ]
     },
     "metadata": {},
     "output_type": "display_data"
    },
    {
     "name": "stderr",
     "output_type": "stream",
     "text": [
      "[Parallel(n_jobs=1)]: Done   3 out of   3 | elapsed:  1.5min remaining:    0.0s\n"
     ]
    },
    {
     "data": {
      "text/html": [
       "Changes to your `wandb` environment variables will be ignored because your `wandb` session has already started. For more information on how to modify your settings with `wandb.init()` arguments, please refer to <a href=\"https://wandb.me/wandb-init\" target=\"_blank\">the W&B docs</a>."
      ],
      "text/plain": [
       "<IPython.core.display.HTML object>"
      ]
     },
     "metadata": {},
     "output_type": "display_data"
    },
    {
     "data": {
      "text/html": [
       "wandb version 0.13.7 is available!  To upgrade, please run:\n",
       " $ pip install wandb --upgrade"
      ],
      "text/plain": [
       "<IPython.core.display.HTML object>"
      ]
     },
     "metadata": {},
     "output_type": "display_data"
    },
    {
     "data": {
      "text/html": [
       "Tracking run with wandb version 0.12.21"
      ],
      "text/plain": [
       "<IPython.core.display.HTML object>"
      ]
     },
     "metadata": {},
     "output_type": "display_data"
    },
    {
     "data": {
      "text/html": [
       "Run data is saved locally in <code>/Users/artemgruzdev/Documents/Data_Preprocessing_in_Python_для издательства/wandb/run-20221224_214636-c0iojt45</code>"
      ],
      "text/plain": [
       "<IPython.core.display.HTML object>"
      ]
     },
     "metadata": {},
     "output_type": "display_data"
    },
    {
     "data": {
      "text/html": [
       "Syncing run <strong><a href=\"https://wandb.ai/gewissta/wandb-sweeps/runs/c0iojt45\" target=\"_blank\">iTvpJ1kJ</a></strong> to <a href=\"https://wandb.ai/gewissta/wandb-sweeps\" target=\"_blank\">Weights & Biases</a> (<a href=\"https://wandb.me/run\" target=\"_blank\">docs</a>)<br/>"
      ],
      "text/plain": [
       "<IPython.core.display.HTML object>"
      ]
     },
     "metadata": {},
     "output_type": "display_data"
    },
    {
     "data": {
      "text/html": [
       "Waiting for W&B process to finish... <strong style=\"color:green\">(success).</strong>"
      ],
      "text/plain": [
       "<IPython.core.display.HTML object>"
      ]
     },
     "metadata": {},
     "output_type": "display_data"
    },
    {
     "data": {
      "application/vnd.jupyter.widget-view+json": {
       "model_id": "",
       "version_major": 2,
       "version_minor": 0
      },
      "text/plain": [
       "VBox(children=(Label(value='0.057 MB of 0.061 MB uploaded (0.000 MB deduped)\\r'), FloatProgress(value=0.943332…"
      ]
     },
     "metadata": {},
     "output_type": "display_data"
    },
    {
     "data": {
      "text/html": [
       "<style>\n",
       "    table.wandb td:nth-child(1) { padding: 0 10px; text-align: left ; width: auto;} td:nth-child(2) {text-align: left ; width: 100%}\n",
       "    .wandb-row { display: flex; flex-direction: row; flex-wrap: wrap; justify-content: flex-start; width: 100% }\n",
       "    .wandb-col { display: flex; flex-direction: column; flex-basis: 100%; flex: 1; padding: 10px; }\n",
       "    </style>\n",
       "<div class=\"wandb-row\"><div class=\"wandb-col\"><h3>Run history:</h3><br/><table class=\"wandb\"><tr><td>MAE_mean</td><td>▁</td></tr><tr><td>MAE_median</td><td>▁</td></tr><tr><td>MAE_percentile_25</td><td>▁</td></tr><tr><td>MAE_percentile_5</td><td>▁</td></tr><tr><td>MAE_percentile_75</td><td>▁</td></tr><tr><td>MAE_percentile_95</td><td>▁</td></tr><tr><td>MAE_std</td><td>▁</td></tr><tr><td>MSE_mean</td><td>▁</td></tr><tr><td>MSE_median</td><td>▁</td></tr><tr><td>MSE_percentile_25</td><td>▁</td></tr><tr><td>MSE_percentile_5</td><td>▁</td></tr><tr><td>MSE_percentile_75</td><td>▁</td></tr><tr><td>MSE_percentile_95</td><td>▁</td></tr><tr><td>MSE_std</td><td>▁</td></tr><tr><td>SMAPE_mean</td><td>▁</td></tr><tr><td>SMAPE_median</td><td>▁</td></tr><tr><td>SMAPE_percentile_25</td><td>▁</td></tr><tr><td>SMAPE_percentile_5</td><td>▁</td></tr><tr><td>SMAPE_percentile_75</td><td>▁</td></tr><tr><td>SMAPE_percentile_95</td><td>▁</td></tr><tr><td>SMAPE_std</td><td>▁</td></tr><tr><td>Sign_mean</td><td>▁</td></tr><tr><td>Sign_median</td><td>▁</td></tr><tr><td>Sign_percentile_25</td><td>▁</td></tr><tr><td>Sign_percentile_5</td><td>▁</td></tr><tr><td>Sign_percentile_75</td><td>▁</td></tr><tr><td>Sign_percentile_95</td><td>▁</td></tr><tr><td>Sign_std</td><td>▁</td></tr></table><br/></div><div class=\"wandb-col\"><h3>Run summary:</h3><br/><table class=\"wandb\"><tr><td>MAE_mean</td><td>57.10556</td></tr><tr><td>MAE_median</td><td>42.41515</td></tr><tr><td>MAE_percentile_25</td><td>21.75195</td></tr><tr><td>MAE_percentile_5</td><td>21.50009</td></tr><tr><td>MAE_percentile_75</td><td>77.76877</td></tr><tr><td>MAE_percentile_95</td><td>113.27761</td></tr><tr><td>MAE_std</td><td>47.54137</td></tr><tr><td>MSE_mean</td><td>7059.83317</td></tr><tr><td>MSE_median</td><td>3847.12582</td></tr><tr><td>MSE_percentile_25</td><td>1057.16912</td></tr><tr><td>MSE_percentile_5</td><td>726.09275</td></tr><tr><td>MSE_percentile_75</td><td>9849.78988</td></tr><tr><td>MSE_percentile_95</td><td>17891.36389</td></tr><tr><td>MSE_std</td><td>8959.09006</td></tr><tr><td>SMAPE_mean</td><td>10.84697</td></tr><tr><td>SMAPE_median</td><td>10.41607</td></tr><tr><td>SMAPE_percentile_25</td><td>9.38617</td></tr><tr><td>SMAPE_percentile_5</td><td>8.96056</td></tr><tr><td>SMAPE_percentile_75</td><td>11.87687</td></tr><tr><td>SMAPE_percentile_95</td><td>13.33664</td></tr><tr><td>SMAPE_std</td><td>2.15601</td></tr><tr><td>Sign_mean</td><td>0.64286</td></tr><tr><td>Sign_median</td><td>0.78571</td></tr><tr><td>Sign_percentile_25</td><td>0.57143</td></tr><tr><td>Sign_percentile_5</td><td>0.22857</td></tr><tr><td>Sign_percentile_75</td><td>0.85714</td></tr><tr><td>Sign_percentile_95</td><td>0.85714</td></tr><tr><td>Sign_std</td><td>0.34007</td></tr></table><br/></div></div>"
      ],
      "text/plain": [
       "<IPython.core.display.HTML object>"
      ]
     },
     "metadata": {},
     "output_type": "display_data"
    },
    {
     "data": {
      "text/html": [
       "Synced <strong style=\"color:#cdcd00\">iTvpJ1kJ</strong>: <a href=\"https://wandb.ai/gewissta/wandb-sweeps/runs/c0iojt45\" target=\"_blank\">https://wandb.ai/gewissta/wandb-sweeps/runs/c0iojt45</a><br/>Synced 5 W&B file(s), 3 media file(s), 3 artifact file(s) and 0 other file(s)"
      ],
      "text/plain": [
       "<IPython.core.display.HTML object>"
      ]
     },
     "metadata": {},
     "output_type": "display_data"
    },
    {
     "data": {
      "text/html": [
       "Find logs at: <code>./wandb/run-20221224_214636-c0iojt45/logs</code>"
      ],
      "text/plain": [
       "<IPython.core.display.HTML object>"
      ]
     },
     "metadata": {},
     "output_type": "display_data"
    },
    {
     "name": "stderr",
     "output_type": "stream",
     "text": [
      "[Parallel(n_jobs=1)]: Done   4 out of   4 | elapsed:  2.0min remaining:    0.0s\n"
     ]
    },
    {
     "data": {
      "text/html": [
       "Changes to your `wandb` environment variables will be ignored because your `wandb` session has already started. For more information on how to modify your settings with `wandb.init()` arguments, please refer to <a href=\"https://wandb.me/wandb-init\" target=\"_blank\">the W&B docs</a>."
      ],
      "text/plain": [
       "<IPython.core.display.HTML object>"
      ]
     },
     "metadata": {},
     "output_type": "display_data"
    },
    {
     "data": {
      "text/html": [
       "wandb version 0.13.7 is available!  To upgrade, please run:\n",
       " $ pip install wandb --upgrade"
      ],
      "text/plain": [
       "<IPython.core.display.HTML object>"
      ]
     },
     "metadata": {},
     "output_type": "display_data"
    },
    {
     "data": {
      "text/html": [
       "Tracking run with wandb version 0.12.21"
      ],
      "text/plain": [
       "<IPython.core.display.HTML object>"
      ]
     },
     "metadata": {},
     "output_type": "display_data"
    },
    {
     "data": {
      "text/html": [
       "Run data is saved locally in <code>/Users/artemgruzdev/Documents/Data_Preprocessing_in_Python_для издательства/wandb/run-20221224_214704-2ahsy98c</code>"
      ],
      "text/plain": [
       "<IPython.core.display.HTML object>"
      ]
     },
     "metadata": {},
     "output_type": "display_data"
    },
    {
     "data": {
      "text/html": [
       "Syncing run <strong><a href=\"https://wandb.ai/gewissta/wandb-sweeps/runs/2ahsy98c\" target=\"_blank\">iTvpJ1kJ</a></strong> to <a href=\"https://wandb.ai/gewissta/wandb-sweeps\" target=\"_blank\">Weights & Biases</a> (<a href=\"https://wandb.me/run\" target=\"_blank\">docs</a>)<br/>"
      ],
      "text/plain": [
       "<IPython.core.display.HTML object>"
      ]
     },
     "metadata": {},
     "output_type": "display_data"
    },
    {
     "data": {
      "text/html": [
       "Waiting for W&B process to finish... <strong style=\"color:green\">(success).</strong>"
      ],
      "text/plain": [
       "<IPython.core.display.HTML object>"
      ]
     },
     "metadata": {},
     "output_type": "display_data"
    },
    {
     "data": {
      "application/vnd.jupyter.widget-view+json": {
       "model_id": "",
       "version_major": 2,
       "version_minor": 0
      },
      "text/plain": [
       "VBox(children=(Label(value='0.057 MB of 0.060 MB uploaded (0.000 MB deduped)\\r'), FloatProgress(value=0.942983…"
      ]
     },
     "metadata": {},
     "output_type": "display_data"
    },
    {
     "data": {
      "text/html": [
       "<style>\n",
       "    table.wandb td:nth-child(1) { padding: 0 10px; text-align: left ; width: auto;} td:nth-child(2) {text-align: left ; width: 100%}\n",
       "    .wandb-row { display: flex; flex-direction: row; flex-wrap: wrap; justify-content: flex-start; width: 100% }\n",
       "    .wandb-col { display: flex; flex-direction: column; flex-basis: 100%; flex: 1; padding: 10px; }\n",
       "    </style>\n",
       "<div class=\"wandb-row\"><div class=\"wandb-col\"><h3>Run history:</h3><br/><table class=\"wandb\"><tr><td>MAE_mean</td><td>▁</td></tr><tr><td>MAE_median</td><td>▁</td></tr><tr><td>MAE_percentile_25</td><td>▁</td></tr><tr><td>MAE_percentile_5</td><td>▁</td></tr><tr><td>MAE_percentile_75</td><td>▁</td></tr><tr><td>MAE_percentile_95</td><td>▁</td></tr><tr><td>MAE_std</td><td>▁</td></tr><tr><td>MSE_mean</td><td>▁</td></tr><tr><td>MSE_median</td><td>▁</td></tr><tr><td>MSE_percentile_25</td><td>▁</td></tr><tr><td>MSE_percentile_5</td><td>▁</td></tr><tr><td>MSE_percentile_75</td><td>▁</td></tr><tr><td>MSE_percentile_95</td><td>▁</td></tr><tr><td>MSE_std</td><td>▁</td></tr><tr><td>SMAPE_mean</td><td>▁</td></tr><tr><td>SMAPE_median</td><td>▁</td></tr><tr><td>SMAPE_percentile_25</td><td>▁</td></tr><tr><td>SMAPE_percentile_5</td><td>▁</td></tr><tr><td>SMAPE_percentile_75</td><td>▁</td></tr><tr><td>SMAPE_percentile_95</td><td>▁</td></tr><tr><td>SMAPE_std</td><td>▁</td></tr><tr><td>Sign_mean</td><td>▁</td></tr><tr><td>Sign_median</td><td>▁</td></tr><tr><td>Sign_percentile_25</td><td>▁</td></tr><tr><td>Sign_percentile_5</td><td>▁</td></tr><tr><td>Sign_percentile_75</td><td>▁</td></tr><tr><td>Sign_percentile_95</td><td>▁</td></tr><tr><td>Sign_std</td><td>▁</td></tr></table><br/></div><div class=\"wandb-col\"><h3>Run summary:</h3><br/><table class=\"wandb\"><tr><td>MAE_mean</td><td>51.24844</td></tr><tr><td>MAE_median</td><td>44.72097</td></tr><tr><td>MAE_percentile_25</td><td>39.74899</td></tr><tr><td>MAE_percentile_5</td><td>28.22125</td></tr><tr><td>MAE_percentile_75</td><td>56.22042</td></tr><tr><td>MAE_percentile_95</td><td>83.4141</td></tr><tr><td>MAE_std</td><td>27.53637</td></tr><tr><td>MSE_mean</td><td>5421.85701</td></tr><tr><td>MSE_median</td><td>4060.58116</td></tr><tr><td>MSE_percentile_25</td><td>2255.37844</td></tr><tr><td>MSE_percentile_5</td><td>1379.35419</td></tr><tr><td>MSE_percentile_75</td><td>7227.05974</td></tr><tr><td>MSE_percentile_95</td><td>11370.14603</td></tr><tr><td>MSE_std</td><td>4993.06231</td></tr><tr><td>SMAPE_mean</td><td>12.52399</td></tr><tr><td>SMAPE_median</td><td>10.10921</td></tr><tr><td>SMAPE_percentile_25</td><td>9.56794</td></tr><tr><td>SMAPE_percentile_5</td><td>8.61495</td></tr><tr><td>SMAPE_percentile_75</td><td>13.06525</td></tr><tr><td>SMAPE_percentile_95</td><td>19.81371</td></tr><tr><td>SMAPE_std</td><td>6.04118</td></tr><tr><td>Sign_mean</td><td>0.32143</td></tr><tr><td>Sign_median</td><td>0.35714</td></tr><tr><td>Sign_percentile_25</td><td>0.10714</td></tr><tr><td>Sign_percentile_5</td><td>0.02143</td></tr><tr><td>Sign_percentile_75</td><td>0.57143</td></tr><tr><td>Sign_percentile_95</td><td>0.57143</td></tr><tr><td>Sign_std</td><td>0.29451</td></tr></table><br/></div></div>"
      ],
      "text/plain": [
       "<IPython.core.display.HTML object>"
      ]
     },
     "metadata": {},
     "output_type": "display_data"
    },
    {
     "data": {
      "text/html": [
       "Synced <strong style=\"color:#cdcd00\">iTvpJ1kJ</strong>: <a href=\"https://wandb.ai/gewissta/wandb-sweeps/runs/2ahsy98c\" target=\"_blank\">https://wandb.ai/gewissta/wandb-sweeps/runs/2ahsy98c</a><br/>Synced 5 W&B file(s), 3 media file(s), 3 artifact file(s) and 0 other file(s)"
      ],
      "text/plain": [
       "<IPython.core.display.HTML object>"
      ]
     },
     "metadata": {},
     "output_type": "display_data"
    },
    {
     "data": {
      "text/html": [
       "Find logs at: <code>./wandb/run-20221224_214704-2ahsy98c/logs</code>"
      ],
      "text/plain": [
       "<IPython.core.display.HTML object>"
      ]
     },
     "metadata": {},
     "output_type": "display_data"
    },
    {
     "name": "stderr",
     "output_type": "stream",
     "text": [
      "[Parallel(n_jobs=1)]: Done   5 out of   5 | elapsed:  2.4min remaining:    0.0s\n",
      "[Parallel(n_jobs=1)]: Done   5 out of   5 | elapsed:  2.4min finished\n"
     ]
    },
    {
     "data": {
      "text/html": [
       "Changes to your `wandb` environment variables will be ignored because your `wandb` session has already started. For more information on how to modify your settings with `wandb.init()` arguments, please refer to <a href=\"https://wandb.me/wandb-init\" target=\"_blank\">the W&B docs</a>."
      ],
      "text/plain": [
       "<IPython.core.display.HTML object>"
      ]
     },
     "metadata": {},
     "output_type": "display_data"
    },
    {
     "data": {
      "text/html": [
       "wandb version 0.13.7 is available!  To upgrade, please run:\n",
       " $ pip install wandb --upgrade"
      ],
      "text/plain": [
       "<IPython.core.display.HTML object>"
      ]
     },
     "metadata": {},
     "output_type": "display_data"
    },
    {
     "data": {
      "text/html": [
       "Tracking run with wandb version 0.12.21"
      ],
      "text/plain": [
       "<IPython.core.display.HTML object>"
      ]
     },
     "metadata": {},
     "output_type": "display_data"
    },
    {
     "data": {
      "text/html": [
       "Run data is saved locally in <code>/Users/artemgruzdev/Documents/Data_Preprocessing_in_Python_для издательства/wandb/run-20221224_214732-3tr5gll1</code>"
      ],
      "text/plain": [
       "<IPython.core.display.HTML object>"
      ]
     },
     "metadata": {},
     "output_type": "display_data"
    },
    {
     "data": {
      "text/html": [
       "Syncing run <strong><a href=\"https://wandb.ai/gewissta/wandb-sweeps/runs/3tr5gll1\" target=\"_blank\">iTvpJ1kJ</a></strong> to <a href=\"https://wandb.ai/gewissta/wandb-sweeps\" target=\"_blank\">Weights & Biases</a> (<a href=\"https://wandb.me/run\" target=\"_blank\">docs</a>)<br/>"
      ],
      "text/plain": [
       "<IPython.core.display.HTML object>"
      ]
     },
     "metadata": {},
     "output_type": "display_data"
    },
    {
     "data": {
      "text/html": [
       "Waiting for W&B process to finish... <strong style=\"color:green\">(success).</strong>"
      ],
      "text/plain": [
       "<IPython.core.display.HTML object>"
      ]
     },
     "metadata": {},
     "output_type": "display_data"
    },
    {
     "data": {
      "application/vnd.jupyter.widget-view+json": {
       "model_id": "",
       "version_major": 2,
       "version_minor": 0
      },
      "text/plain": [
       "VBox(children=(Label(value='0.248 MB of 0.305 MB uploaded (0.000 MB deduped)\\r'), FloatProgress(value=0.813208…"
      ]
     },
     "metadata": {},
     "output_type": "display_data"
    },
    {
     "data": {
      "text/html": [
       "<style>\n",
       "    table.wandb td:nth-child(1) { padding: 0 10px; text-align: left ; width: auto;} td:nth-child(2) {text-align: left ; width: 100%}\n",
       "    .wandb-row { display: flex; flex-direction: row; flex-wrap: wrap; justify-content: flex-start; width: 100% }\n",
       "    .wandb-col { display: flex; flex-direction: column; flex-basis: 100%; flex: 1; padding: 10px; }\n",
       "    </style>\n",
       "<div class=\"wandb-row\"><div class=\"wandb-col\"><h3>Run history:</h3><br/><table class=\"wandb\"><tr><td>MAE_mean</td><td>▁</td></tr><tr><td>MAE_median</td><td>▁</td></tr><tr><td>MAE_percentile_25</td><td>▁</td></tr><tr><td>MAE_percentile_5</td><td>▁</td></tr><tr><td>MAE_percentile_75</td><td>▁</td></tr><tr><td>MAE_percentile_95</td><td>▁</td></tr><tr><td>MAE_std</td><td>▁</td></tr><tr><td>MSE_mean</td><td>▁</td></tr><tr><td>MSE_median</td><td>▁</td></tr><tr><td>MSE_percentile_25</td><td>▁</td></tr><tr><td>MSE_percentile_5</td><td>▁</td></tr><tr><td>MSE_percentile_75</td><td>▁</td></tr><tr><td>MSE_percentile_95</td><td>▁</td></tr><tr><td>MSE_std</td><td>▁</td></tr><tr><td>SMAPE_mean</td><td>▁</td></tr><tr><td>SMAPE_median</td><td>▁</td></tr><tr><td>SMAPE_percentile_25</td><td>▁</td></tr><tr><td>SMAPE_percentile_5</td><td>▁</td></tr><tr><td>SMAPE_percentile_75</td><td>▁</td></tr><tr><td>SMAPE_percentile_95</td><td>▁</td></tr><tr><td>SMAPE_std</td><td>▁</td></tr><tr><td>Sign_mean</td><td>▁</td></tr><tr><td>Sign_median</td><td>▁</td></tr><tr><td>Sign_percentile_25</td><td>▁</td></tr><tr><td>Sign_percentile_5</td><td>▁</td></tr><tr><td>Sign_percentile_75</td><td>▁</td></tr><tr><td>Sign_percentile_95</td><td>▁</td></tr><tr><td>Sign_std</td><td>▁</td></tr></table><br/></div><div class=\"wandb-col\"><h3>Run summary:</h3><br/><table class=\"wandb\"><tr><td>MAE_mean</td><td>43.29799</td></tr><tr><td>MAE_median</td><td>35.51378</td></tr><tr><td>MAE_percentile_25</td><td>19.74602</td></tr><tr><td>MAE_percentile_5</td><td>19.52695</td></tr><tr><td>MAE_percentile_75</td><td>59.06576</td></tr><tr><td>MAE_percentile_95</td><td>77.96694</td></tr><tr><td>MAE_std</td><td>30.17873</td></tr><tr><td>MSE_mean</td><td>4315.44105</td></tr><tr><td>MSE_median</td><td>2676.21229</td></tr><tr><td>MSE_percentile_25</td><td>810.54607</td></tr><tr><td>MSE_percentile_5</td><td>677.81617</td></tr><tr><td>MSE_percentile_75</td><td>6181.10727</td></tr><tr><td>MSE_percentile_95</td><td>10247.9862</td></tr><tr><td>MSE_std</td><td>4956.34518</td></tr><tr><td>SMAPE_mean</td><td>9.44849</td></tr><tr><td>SMAPE_median</td><td>9.81921</td></tr><tr><td>SMAPE_percentile_25</td><td>9.32454</td></tr><tr><td>SMAPE_percentile_5</td><td>8.33874</td></tr><tr><td>SMAPE_percentile_75</td><td>9.94317</td></tr><tr><td>SMAPE_percentile_95</td><td>10.03924</td></tr><tr><td>SMAPE_std</td><td>0.91399</td></tr><tr><td>Sign_mean</td><td>0.29286</td></tr><tr><td>Sign_median</td><td>0.3</td></tr><tr><td>Sign_percentile_25</td><td>0.24286</td></tr><tr><td>Sign_percentile_5</td><td>0.20857</td></tr><tr><td>Sign_percentile_75</td><td>0.35</td></tr><tr><td>Sign_percentile_95</td><td>0.36714</td></tr><tr><td>Sign_std</td><td>0.07868</td></tr></table><br/></div></div>"
      ],
      "text/plain": [
       "<IPython.core.display.HTML object>"
      ]
     },
     "metadata": {},
     "output_type": "display_data"
    },
    {
     "data": {
      "text/html": [
       "Synced <strong style=\"color:#cdcd00\">iTvpJ1kJ</strong>: <a href=\"https://wandb.ai/gewissta/wandb-sweeps/runs/3tr5gll1\" target=\"_blank\">https://wandb.ai/gewissta/wandb-sweeps/runs/3tr5gll1</a><br/>Synced 5 W&B file(s), 4 media file(s), 3 artifact file(s) and 0 other file(s)"
      ],
      "text/plain": [
       "<IPython.core.display.HTML object>"
      ]
     },
     "metadata": {},
     "output_type": "display_data"
    },
    {
     "data": {
      "text/html": [
       "Find logs at: <code>./wandb/run-20221224_214732-3tr5gll1/logs</code>"
      ],
      "text/plain": [
       "<IPython.core.display.HTML object>"
      ]
     },
     "metadata": {},
     "output_type": "display_data"
    },
    {
     "name": "stderr",
     "output_type": "stream",
     "text": [
      "\u001b[32m[I 2022-12-24 21:47:59,911]\u001b[0m Trial 3 finished with value: 43.29799467213687 and parameters: {'iterations': 92, 'depth': 7, 'lags': 19}. Best is trial 3 with value: 43.29799467213687.\u001b[0m\n",
      "[Parallel(n_jobs=1)]: Using backend SequentialBackend with 1 concurrent workers.\n"
     ]
    },
    {
     "data": {
      "text/html": [
       "Changes to your `wandb` environment variables will be ignored because your `wandb` session has already started. For more information on how to modify your settings with `wandb.init()` arguments, please refer to <a href=\"https://wandb.me/wandb-init\" target=\"_blank\">the W&B docs</a>."
      ],
      "text/plain": [
       "<IPython.core.display.HTML object>"
      ]
     },
     "metadata": {},
     "output_type": "display_data"
    },
    {
     "data": {
      "text/html": [
       "wandb version 0.13.7 is available!  To upgrade, please run:\n",
       " $ pip install wandb --upgrade"
      ],
      "text/plain": [
       "<IPython.core.display.HTML object>"
      ]
     },
     "metadata": {},
     "output_type": "display_data"
    },
    {
     "data": {
      "text/html": [
       "Tracking run with wandb version 0.12.21"
      ],
      "text/plain": [
       "<IPython.core.display.HTML object>"
      ]
     },
     "metadata": {},
     "output_type": "display_data"
    },
    {
     "data": {
      "text/html": [
       "Run data is saved locally in <code>/Users/artemgruzdev/Documents/Data_Preprocessing_in_Python_для издательства/wandb/run-20221224_214759-33mknkfq</code>"
      ],
      "text/plain": [
       "<IPython.core.display.HTML object>"
      ]
     },
     "metadata": {},
     "output_type": "display_data"
    },
    {
     "data": {
      "text/html": [
       "Syncing run <strong><a href=\"https://wandb.ai/gewissta/wandb-sweeps/runs/33mknkfq\" target=\"_blank\">9vZeRg-L</a></strong> to <a href=\"https://wandb.ai/gewissta/wandb-sweeps\" target=\"_blank\">Weights & Biases</a> (<a href=\"https://wandb.me/run\" target=\"_blank\">docs</a>)<br/>"
      ],
      "text/plain": [
       "<IPython.core.display.HTML object>"
      ]
     },
     "metadata": {},
     "output_type": "display_data"
    },
    {
     "data": {
      "text/html": [
       "Waiting for W&B process to finish... <strong style=\"color:green\">(success).</strong>"
      ],
      "text/plain": [
       "<IPython.core.display.HTML object>"
      ]
     },
     "metadata": {},
     "output_type": "display_data"
    },
    {
     "data": {
      "application/vnd.jupyter.widget-view+json": {
       "model_id": "",
       "version_major": 2,
       "version_minor": 0
      },
      "text/plain": [
       "VBox(children=(Label(value='0.033 MB of 0.036 MB uploaded (0.000 MB deduped)\\r'), FloatProgress(value=0.905370…"
      ]
     },
     "metadata": {},
     "output_type": "display_data"
    },
    {
     "data": {
      "text/html": [
       "<style>\n",
       "    table.wandb td:nth-child(1) { padding: 0 10px; text-align: left ; width: auto;} td:nth-child(2) {text-align: left ; width: 100%}\n",
       "    .wandb-row { display: flex; flex-direction: row; flex-wrap: wrap; justify-content: flex-start; width: 100% }\n",
       "    .wandb-col { display: flex; flex-direction: column; flex-basis: 100%; flex: 1; padding: 10px; }\n",
       "    </style>\n",
       "<div class=\"wandb-row\"><div class=\"wandb-col\"><h3>Run history:</h3><br/><table class=\"wandb\"><tr><td>MAE_mean</td><td>▁</td></tr><tr><td>MAE_median</td><td>▁</td></tr><tr><td>MAE_percentile_25</td><td>▁</td></tr><tr><td>MAE_percentile_5</td><td>▁</td></tr><tr><td>MAE_percentile_75</td><td>▁</td></tr><tr><td>MAE_percentile_95</td><td>▁</td></tr><tr><td>MAE_std</td><td>▁</td></tr><tr><td>MSE_mean</td><td>▁</td></tr><tr><td>MSE_median</td><td>▁</td></tr><tr><td>MSE_percentile_25</td><td>▁</td></tr><tr><td>MSE_percentile_5</td><td>▁</td></tr><tr><td>MSE_percentile_75</td><td>▁</td></tr><tr><td>MSE_percentile_95</td><td>▁</td></tr><tr><td>MSE_std</td><td>▁</td></tr><tr><td>SMAPE_mean</td><td>▁</td></tr><tr><td>SMAPE_median</td><td>▁</td></tr><tr><td>SMAPE_percentile_25</td><td>▁</td></tr><tr><td>SMAPE_percentile_5</td><td>▁</td></tr><tr><td>SMAPE_percentile_75</td><td>▁</td></tr><tr><td>SMAPE_percentile_95</td><td>▁</td></tr><tr><td>SMAPE_std</td><td>▁</td></tr><tr><td>Sign_mean</td><td>▁</td></tr><tr><td>Sign_median</td><td>▁</td></tr><tr><td>Sign_percentile_25</td><td>▁</td></tr><tr><td>Sign_percentile_5</td><td>▁</td></tr><tr><td>Sign_percentile_75</td><td>▁</td></tr><tr><td>Sign_percentile_95</td><td>▁</td></tr><tr><td>Sign_std</td><td>▁</td></tr></table><br/></div><div class=\"wandb-col\"><h3>Run summary:</h3><br/><table class=\"wandb\"><tr><td>MAE_mean</td><td>33.81728</td></tr><tr><td>MAE_median</td><td>33.08622</td></tr><tr><td>MAE_percentile_25</td><td>15.20491</td></tr><tr><td>MAE_percentile_5</td><td>11.03225</td></tr><tr><td>MAE_percentile_75</td><td>51.69858</td></tr><tr><td>MAE_percentile_95</td><td>57.62578</td></tr><tr><td>MAE_std</td><td>24.01128</td></tr><tr><td>MSE_mean</td><td>2595.06733</td></tr><tr><td>MSE_median</td><td>2545.56396</td></tr><tr><td>MSE_percentile_25</td><td>377.1305</td></tr><tr><td>MSE_percentile_5</td><td>188.73484</td></tr><tr><td>MSE_percentile_75</td><td>4763.5008</td></tr><tr><td>MSE_percentile_95</td><td>5070.70455</td></tr><tr><td>MSE_std</td><td>2663.00746</td></tr><tr><td>SMAPE_mean</td><td>8.04778</td></tr><tr><td>SMAPE_median</td><td>7.63544</td></tr><tr><td>SMAPE_percentile_25</td><td>7.25427</td></tr><tr><td>SMAPE_percentile_5</td><td>6.35858</td></tr><tr><td>SMAPE_percentile_75</td><td>8.42896</td></tr><tr><td>SMAPE_percentile_95</td><td>10.31424</td></tr><tr><td>SMAPE_std</td><td>1.95752</td></tr><tr><td>Sign_mean</td><td>-0.03571</td></tr><tr><td>Sign_median</td><td>-0.14286</td></tr><tr><td>Sign_percentile_25</td><td>-0.17857</td></tr><tr><td>Sign_percentile_5</td><td>-0.26429</td></tr><tr><td>Sign_percentile_75</td><td>0.0</td></tr><tr><td>Sign_percentile_95</td><td>0.34286</td></tr><tr><td>Sign_std</td><td>0.31677</td></tr></table><br/></div></div>"
      ],
      "text/plain": [
       "<IPython.core.display.HTML object>"
      ]
     },
     "metadata": {},
     "output_type": "display_data"
    },
    {
     "data": {
      "text/html": [
       "Synced <strong style=\"color:#cdcd00\">9vZeRg-L</strong>: <a href=\"https://wandb.ai/gewissta/wandb-sweeps/runs/33mknkfq\" target=\"_blank\">https://wandb.ai/gewissta/wandb-sweeps/runs/33mknkfq</a><br/>Synced 5 W&B file(s), 3 media file(s), 3 artifact file(s) and 0 other file(s)"
      ],
      "text/plain": [
       "<IPython.core.display.HTML object>"
      ]
     },
     "metadata": {},
     "output_type": "display_data"
    },
    {
     "data": {
      "text/html": [
       "Find logs at: <code>./wandb/run-20221224_214759-33mknkfq/logs</code>"
      ],
      "text/plain": [
       "<IPython.core.display.HTML object>"
      ]
     },
     "metadata": {},
     "output_type": "display_data"
    },
    {
     "name": "stderr",
     "output_type": "stream",
     "text": [
      "[Parallel(n_jobs=1)]: Done   1 out of   1 | elapsed:   27.9s remaining:    0.0s\n"
     ]
    },
    {
     "data": {
      "text/html": [
       "Changes to your `wandb` environment variables will be ignored because your `wandb` session has already started. For more information on how to modify your settings with `wandb.init()` arguments, please refer to <a href=\"https://wandb.me/wandb-init\" target=\"_blank\">the W&B docs</a>."
      ],
      "text/plain": [
       "<IPython.core.display.HTML object>"
      ]
     },
     "metadata": {},
     "output_type": "display_data"
    },
    {
     "data": {
      "text/html": [
       "wandb version 0.13.7 is available!  To upgrade, please run:\n",
       " $ pip install wandb --upgrade"
      ],
      "text/plain": [
       "<IPython.core.display.HTML object>"
      ]
     },
     "metadata": {},
     "output_type": "display_data"
    },
    {
     "data": {
      "text/html": [
       "Tracking run with wandb version 0.12.21"
      ],
      "text/plain": [
       "<IPython.core.display.HTML object>"
      ]
     },
     "metadata": {},
     "output_type": "display_data"
    },
    {
     "data": {
      "text/html": [
       "Run data is saved locally in <code>/Users/artemgruzdev/Documents/Data_Preprocessing_in_Python_для издательства/wandb/run-20221224_214827-30icbe6f</code>"
      ],
      "text/plain": [
       "<IPython.core.display.HTML object>"
      ]
     },
     "metadata": {},
     "output_type": "display_data"
    },
    {
     "data": {
      "text/html": [
       "Syncing run <strong><a href=\"https://wandb.ai/gewissta/wandb-sweeps/runs/30icbe6f\" target=\"_blank\">9vZeRg-L</a></strong> to <a href=\"https://wandb.ai/gewissta/wandb-sweeps\" target=\"_blank\">Weights & Biases</a> (<a href=\"https://wandb.me/run\" target=\"_blank\">docs</a>)<br/>"
      ],
      "text/plain": [
       "<IPython.core.display.HTML object>"
      ]
     },
     "metadata": {},
     "output_type": "display_data"
    },
    {
     "data": {
      "text/html": [
       "Waiting for W&B process to finish... <strong style=\"color:green\">(success).</strong>"
      ],
      "text/plain": [
       "<IPython.core.display.HTML object>"
      ]
     },
     "metadata": {},
     "output_type": "display_data"
    },
    {
     "data": {
      "application/vnd.jupyter.widget-view+json": {
       "model_id": "",
       "version_major": 2,
       "version_minor": 0
      },
      "text/plain": [
       "VBox(children=(Label(value='0.033 MB of 0.036 MB uploaded (0.000 MB deduped)\\r'), FloatProgress(value=0.904798…"
      ]
     },
     "metadata": {},
     "output_type": "display_data"
    },
    {
     "data": {
      "text/html": [
       "<style>\n",
       "    table.wandb td:nth-child(1) { padding: 0 10px; text-align: left ; width: auto;} td:nth-child(2) {text-align: left ; width: 100%}\n",
       "    .wandb-row { display: flex; flex-direction: row; flex-wrap: wrap; justify-content: flex-start; width: 100% }\n",
       "    .wandb-col { display: flex; flex-direction: column; flex-basis: 100%; flex: 1; padding: 10px; }\n",
       "    </style>\n",
       "<div class=\"wandb-row\"><div class=\"wandb-col\"><h3>Run history:</h3><br/><table class=\"wandb\"><tr><td>MAE_mean</td><td>▁</td></tr><tr><td>MAE_median</td><td>▁</td></tr><tr><td>MAE_percentile_25</td><td>▁</td></tr><tr><td>MAE_percentile_5</td><td>▁</td></tr><tr><td>MAE_percentile_75</td><td>▁</td></tr><tr><td>MAE_percentile_95</td><td>▁</td></tr><tr><td>MAE_std</td><td>▁</td></tr><tr><td>MSE_mean</td><td>▁</td></tr><tr><td>MSE_median</td><td>▁</td></tr><tr><td>MSE_percentile_25</td><td>▁</td></tr><tr><td>MSE_percentile_5</td><td>▁</td></tr><tr><td>MSE_percentile_75</td><td>▁</td></tr><tr><td>MSE_percentile_95</td><td>▁</td></tr><tr><td>MSE_std</td><td>▁</td></tr><tr><td>SMAPE_mean</td><td>▁</td></tr><tr><td>SMAPE_median</td><td>▁</td></tr><tr><td>SMAPE_percentile_25</td><td>▁</td></tr><tr><td>SMAPE_percentile_5</td><td>▁</td></tr><tr><td>SMAPE_percentile_75</td><td>▁</td></tr><tr><td>SMAPE_percentile_95</td><td>▁</td></tr><tr><td>SMAPE_std</td><td>▁</td></tr><tr><td>Sign_mean</td><td>▁</td></tr><tr><td>Sign_median</td><td>▁</td></tr><tr><td>Sign_percentile_25</td><td>▁</td></tr><tr><td>Sign_percentile_5</td><td>▁</td></tr><tr><td>Sign_percentile_75</td><td>▁</td></tr><tr><td>Sign_percentile_95</td><td>▁</td></tr><tr><td>Sign_std</td><td>▁</td></tr></table><br/></div><div class=\"wandb-col\"><h3>Run summary:</h3><br/><table class=\"wandb\"><tr><td>MAE_mean</td><td>45.24973</td></tr><tr><td>MAE_median</td><td>36.57783</td></tr><tr><td>MAE_percentile_25</td><td>21.24831</td></tr><tr><td>MAE_percentile_5</td><td>16.36558</td></tr><tr><td>MAE_percentile_75</td><td>60.57925</td></tr><tr><td>MAE_percentile_95</td><td>86.27454</td></tr><tr><td>MAE_std</td><td>34.9361</td></tr><tr><td>MSE_mean</td><td>4327.96269</td></tr><tr><td>MSE_median</td><td>2299.43883</td></tr><tr><td>MSE_percentile_25</td><td>677.84071</td></tr><tr><td>MSE_percentile_5</td><td>365.69634</td></tr><tr><td>MSE_percentile_75</td><td>5949.56081</td></tr><tr><td>MSE_percentile_95</td><td>11130.16243</td></tr><tr><td>MSE_std</td><td>5614.57366</td></tr><tr><td>SMAPE_mean</td><td>9.83455</td></tr><tr><td>SMAPE_median</td><td>9.53638</td></tr><tr><td>SMAPE_percentile_25</td><td>9.33031</td></tr><tr><td>SMAPE_percentile_5</td><td>9.04751</td></tr><tr><td>SMAPE_percentile_75</td><td>10.04062</td></tr><tr><td>SMAPE_percentile_95</td><td>11.03902</td></tr><tr><td>SMAPE_std</td><td>1.00721</td></tr><tr><td>Sign_mean</td><td>0.60714</td></tr><tr><td>Sign_median</td><td>0.57143</td></tr><tr><td>Sign_percentile_25</td><td>0.53571</td></tr><tr><td>Sign_percentile_5</td><td>0.45</td></tr><tr><td>Sign_percentile_75</td><td>0.64286</td></tr><tr><td>Sign_percentile_95</td><td>0.81429</td></tr><tr><td>Sign_std</td><td>0.17976</td></tr></table><br/></div></div>"
      ],
      "text/plain": [
       "<IPython.core.display.HTML object>"
      ]
     },
     "metadata": {},
     "output_type": "display_data"
    },
    {
     "data": {
      "text/html": [
       "Synced <strong style=\"color:#cdcd00\">9vZeRg-L</strong>: <a href=\"https://wandb.ai/gewissta/wandb-sweeps/runs/30icbe6f\" target=\"_blank\">https://wandb.ai/gewissta/wandb-sweeps/runs/30icbe6f</a><br/>Synced 5 W&B file(s), 3 media file(s), 3 artifact file(s) and 0 other file(s)"
      ],
      "text/plain": [
       "<IPython.core.display.HTML object>"
      ]
     },
     "metadata": {},
     "output_type": "display_data"
    },
    {
     "data": {
      "text/html": [
       "Find logs at: <code>./wandb/run-20221224_214827-30icbe6f/logs</code>"
      ],
      "text/plain": [
       "<IPython.core.display.HTML object>"
      ]
     },
     "metadata": {},
     "output_type": "display_data"
    },
    {
     "name": "stderr",
     "output_type": "stream",
     "text": [
      "[Parallel(n_jobs=1)]: Done   2 out of   2 | elapsed:  1.1min remaining:    0.0s\n"
     ]
    },
    {
     "data": {
      "text/html": [
       "Changes to your `wandb` environment variables will be ignored because your `wandb` session has already started. For more information on how to modify your settings with `wandb.init()` arguments, please refer to <a href=\"https://wandb.me/wandb-init\" target=\"_blank\">the W&B docs</a>."
      ],
      "text/plain": [
       "<IPython.core.display.HTML object>"
      ]
     },
     "metadata": {},
     "output_type": "display_data"
    },
    {
     "data": {
      "text/html": [
       "wandb version 0.13.7 is available!  To upgrade, please run:\n",
       " $ pip install wandb --upgrade"
      ],
      "text/plain": [
       "<IPython.core.display.HTML object>"
      ]
     },
     "metadata": {},
     "output_type": "display_data"
    },
    {
     "data": {
      "text/html": [
       "Tracking run with wandb version 0.12.21"
      ],
      "text/plain": [
       "<IPython.core.display.HTML object>"
      ]
     },
     "metadata": {},
     "output_type": "display_data"
    },
    {
     "data": {
      "text/html": [
       "Run data is saved locally in <code>/Users/artemgruzdev/Documents/Data_Preprocessing_in_Python_для издательства/wandb/run-20221224_214905-1vycgyvi</code>"
      ],
      "text/plain": [
       "<IPython.core.display.HTML object>"
      ]
     },
     "metadata": {},
     "output_type": "display_data"
    },
    {
     "data": {
      "text/html": [
       "Syncing run <strong><a href=\"https://wandb.ai/gewissta/wandb-sweeps/runs/1vycgyvi\" target=\"_blank\">9vZeRg-L</a></strong> to <a href=\"https://wandb.ai/gewissta/wandb-sweeps\" target=\"_blank\">Weights & Biases</a> (<a href=\"https://wandb.me/run\" target=\"_blank\">docs</a>)<br/>"
      ],
      "text/plain": [
       "<IPython.core.display.HTML object>"
      ]
     },
     "metadata": {},
     "output_type": "display_data"
    },
    {
     "data": {
      "text/html": [
       "Waiting for W&B process to finish... <strong style=\"color:green\">(success).</strong>"
      ],
      "text/plain": [
       "<IPython.core.display.HTML object>"
      ]
     },
     "metadata": {},
     "output_type": "display_data"
    },
    {
     "data": {
      "application/vnd.jupyter.widget-view+json": {
       "model_id": "",
       "version_major": 2,
       "version_minor": 0
      },
      "text/plain": [
       "VBox(children=(Label(value='0.033 MB of 0.036 MB uploaded (0.000 MB deduped)\\r'), FloatProgress(value=0.904697…"
      ]
     },
     "metadata": {},
     "output_type": "display_data"
    },
    {
     "data": {
      "text/html": [
       "<style>\n",
       "    table.wandb td:nth-child(1) { padding: 0 10px; text-align: left ; width: auto;} td:nth-child(2) {text-align: left ; width: 100%}\n",
       "    .wandb-row { display: flex; flex-direction: row; flex-wrap: wrap; justify-content: flex-start; width: 100% }\n",
       "    .wandb-col { display: flex; flex-direction: column; flex-basis: 100%; flex: 1; padding: 10px; }\n",
       "    </style>\n",
       "<div class=\"wandb-row\"><div class=\"wandb-col\"><h3>Run history:</h3><br/><table class=\"wandb\"><tr><td>MAE_mean</td><td>▁</td></tr><tr><td>MAE_median</td><td>▁</td></tr><tr><td>MAE_percentile_25</td><td>▁</td></tr><tr><td>MAE_percentile_5</td><td>▁</td></tr><tr><td>MAE_percentile_75</td><td>▁</td></tr><tr><td>MAE_percentile_95</td><td>▁</td></tr><tr><td>MAE_std</td><td>▁</td></tr><tr><td>MSE_mean</td><td>▁</td></tr><tr><td>MSE_median</td><td>▁</td></tr><tr><td>MSE_percentile_25</td><td>▁</td></tr><tr><td>MSE_percentile_5</td><td>▁</td></tr><tr><td>MSE_percentile_75</td><td>▁</td></tr><tr><td>MSE_percentile_95</td><td>▁</td></tr><tr><td>MSE_std</td><td>▁</td></tr><tr><td>SMAPE_mean</td><td>▁</td></tr><tr><td>SMAPE_median</td><td>▁</td></tr><tr><td>SMAPE_percentile_25</td><td>▁</td></tr><tr><td>SMAPE_percentile_5</td><td>▁</td></tr><tr><td>SMAPE_percentile_75</td><td>▁</td></tr><tr><td>SMAPE_percentile_95</td><td>▁</td></tr><tr><td>SMAPE_std</td><td>▁</td></tr><tr><td>Sign_mean</td><td>▁</td></tr><tr><td>Sign_median</td><td>▁</td></tr><tr><td>Sign_percentile_25</td><td>▁</td></tr><tr><td>Sign_percentile_5</td><td>▁</td></tr><tr><td>Sign_percentile_75</td><td>▁</td></tr><tr><td>Sign_percentile_95</td><td>▁</td></tr><tr><td>Sign_std</td><td>▁</td></tr></table><br/></div><div class=\"wandb-col\"><h3>Run summary:</h3><br/><table class=\"wandb\"><tr><td>MAE_mean</td><td>33.84958</td></tr><tr><td>MAE_median</td><td>28.30811</td></tr><tr><td>MAE_percentile_25</td><td>12.62585</td></tr><tr><td>MAE_percentile_5</td><td>9.74676</td></tr><tr><td>MAE_percentile_75</td><td>49.53184</td></tr><tr><td>MAE_percentile_95</td><td>65.71047</td></tr><tr><td>MAE_std</td><td>28.2033</td></tr><tr><td>MSE_mean</td><td>2463.59584</td></tr><tr><td>MSE_median</td><td>1234.94187</td></tr><tr><td>MSE_percentile_25</td><td>231.58364</td></tr><tr><td>MSE_percentile_5</td><td>190.76413</td></tr><tr><td>MSE_percentile_75</td><td>3466.95408</td></tr><tr><td>MSE_percentile_95</td><td>6456.54313</td></tr><tr><td>MSE_std</td><td>3298.89258</td></tr><tr><td>SMAPE_mean</td><td>6.94744</td></tr><tr><td>SMAPE_median</td><td>7.92645</td></tr><tr><td>SMAPE_percentile_25</td><td>6.70847</td></tr><tr><td>SMAPE_percentile_5</td><td>4.29074</td></tr><tr><td>SMAPE_percentile_75</td><td>8.16542</td></tr><tr><td>SMAPE_percentile_95</td><td>8.23351</td></tr><tr><td>SMAPE_std</td><td>2.18622</td></tr><tr><td>Sign_mean</td><td>0.57143</td></tr><tr><td>Sign_median</td><td>0.64286</td></tr><tr><td>Sign_percentile_25</td><td>0.42857</td></tr><tr><td>Sign_percentile_5</td><td>0.08571</td></tr><tr><td>Sign_percentile_75</td><td>0.78571</td></tr><tr><td>Sign_percentile_95</td><td>0.95714</td></tr><tr><td>Sign_std</td><td>0.42056</td></tr></table><br/></div></div>"
      ],
      "text/plain": [
       "<IPython.core.display.HTML object>"
      ]
     },
     "metadata": {},
     "output_type": "display_data"
    },
    {
     "data": {
      "text/html": [
       "Synced <strong style=\"color:#cdcd00\">9vZeRg-L</strong>: <a href=\"https://wandb.ai/gewissta/wandb-sweeps/runs/1vycgyvi\" target=\"_blank\">https://wandb.ai/gewissta/wandb-sweeps/runs/1vycgyvi</a><br/>Synced 5 W&B file(s), 3 media file(s), 3 artifact file(s) and 0 other file(s)"
      ],
      "text/plain": [
       "<IPython.core.display.HTML object>"
      ]
     },
     "metadata": {},
     "output_type": "display_data"
    },
    {
     "data": {
      "text/html": [
       "Find logs at: <code>./wandb/run-20221224_214905-1vycgyvi/logs</code>"
      ],
      "text/plain": [
       "<IPython.core.display.HTML object>"
      ]
     },
     "metadata": {},
     "output_type": "display_data"
    },
    {
     "name": "stderr",
     "output_type": "stream",
     "text": [
      "[Parallel(n_jobs=1)]: Done   3 out of   3 | elapsed:  1.6min remaining:    0.0s\n"
     ]
    },
    {
     "data": {
      "text/html": [
       "Changes to your `wandb` environment variables will be ignored because your `wandb` session has already started. For more information on how to modify your settings with `wandb.init()` arguments, please refer to <a href=\"https://wandb.me/wandb-init\" target=\"_blank\">the W&B docs</a>."
      ],
      "text/plain": [
       "<IPython.core.display.HTML object>"
      ]
     },
     "metadata": {},
     "output_type": "display_data"
    },
    {
     "data": {
      "text/html": [
       "wandb version 0.13.7 is available!  To upgrade, please run:\n",
       " $ pip install wandb --upgrade"
      ],
      "text/plain": [
       "<IPython.core.display.HTML object>"
      ]
     },
     "metadata": {},
     "output_type": "display_data"
    },
    {
     "data": {
      "text/html": [
       "Tracking run with wandb version 0.12.21"
      ],
      "text/plain": [
       "<IPython.core.display.HTML object>"
      ]
     },
     "metadata": {},
     "output_type": "display_data"
    },
    {
     "data": {
      "text/html": [
       "Run data is saved locally in <code>/Users/artemgruzdev/Documents/Data_Preprocessing_in_Python_для издательства/wandb/run-20221224_214934-11pcwtwr</code>"
      ],
      "text/plain": [
       "<IPython.core.display.HTML object>"
      ]
     },
     "metadata": {},
     "output_type": "display_data"
    },
    {
     "data": {
      "text/html": [
       "Syncing run <strong><a href=\"https://wandb.ai/gewissta/wandb-sweeps/runs/11pcwtwr\" target=\"_blank\">9vZeRg-L</a></strong> to <a href=\"https://wandb.ai/gewissta/wandb-sweeps\" target=\"_blank\">Weights & Biases</a> (<a href=\"https://wandb.me/run\" target=\"_blank\">docs</a>)<br/>"
      ],
      "text/plain": [
       "<IPython.core.display.HTML object>"
      ]
     },
     "metadata": {},
     "output_type": "display_data"
    },
    {
     "data": {
      "text/html": [
       "Waiting for W&B process to finish... <strong style=\"color:green\">(success).</strong>"
      ],
      "text/plain": [
       "<IPython.core.display.HTML object>"
      ]
     },
     "metadata": {},
     "output_type": "display_data"
    },
    {
     "data": {
      "application/vnd.jupyter.widget-view+json": {
       "model_id": "",
       "version_major": 2,
       "version_minor": 0
      },
      "text/plain": [
       "VBox(children=(Label(value='0.033 MB of 0.036 MB uploaded (0.000 MB deduped)\\r'), FloatProgress(value=0.904836…"
      ]
     },
     "metadata": {},
     "output_type": "display_data"
    },
    {
     "data": {
      "text/html": [
       "<style>\n",
       "    table.wandb td:nth-child(1) { padding: 0 10px; text-align: left ; width: auto;} td:nth-child(2) {text-align: left ; width: 100%}\n",
       "    .wandb-row { display: flex; flex-direction: row; flex-wrap: wrap; justify-content: flex-start; width: 100% }\n",
       "    .wandb-col { display: flex; flex-direction: column; flex-basis: 100%; flex: 1; padding: 10px; }\n",
       "    </style>\n",
       "<div class=\"wandb-row\"><div class=\"wandb-col\"><h3>Run history:</h3><br/><table class=\"wandb\"><tr><td>MAE_mean</td><td>▁</td></tr><tr><td>MAE_median</td><td>▁</td></tr><tr><td>MAE_percentile_25</td><td>▁</td></tr><tr><td>MAE_percentile_5</td><td>▁</td></tr><tr><td>MAE_percentile_75</td><td>▁</td></tr><tr><td>MAE_percentile_95</td><td>▁</td></tr><tr><td>MAE_std</td><td>▁</td></tr><tr><td>MSE_mean</td><td>▁</td></tr><tr><td>MSE_median</td><td>▁</td></tr><tr><td>MSE_percentile_25</td><td>▁</td></tr><tr><td>MSE_percentile_5</td><td>▁</td></tr><tr><td>MSE_percentile_75</td><td>▁</td></tr><tr><td>MSE_percentile_95</td><td>▁</td></tr><tr><td>MSE_std</td><td>▁</td></tr><tr><td>SMAPE_mean</td><td>▁</td></tr><tr><td>SMAPE_median</td><td>▁</td></tr><tr><td>SMAPE_percentile_25</td><td>▁</td></tr><tr><td>SMAPE_percentile_5</td><td>▁</td></tr><tr><td>SMAPE_percentile_75</td><td>▁</td></tr><tr><td>SMAPE_percentile_95</td><td>▁</td></tr><tr><td>SMAPE_std</td><td>▁</td></tr><tr><td>Sign_mean</td><td>▁</td></tr><tr><td>Sign_median</td><td>▁</td></tr><tr><td>Sign_percentile_25</td><td>▁</td></tr><tr><td>Sign_percentile_5</td><td>▁</td></tr><tr><td>Sign_percentile_75</td><td>▁</td></tr><tr><td>Sign_percentile_95</td><td>▁</td></tr><tr><td>Sign_std</td><td>▁</td></tr></table><br/></div><div class=\"wandb-col\"><h3>Run summary:</h3><br/><table class=\"wandb\"><tr><td>MAE_mean</td><td>61.13776</td></tr><tr><td>MAE_median</td><td>44.13757</td></tr><tr><td>MAE_percentile_25</td><td>24.65604</td></tr><tr><td>MAE_percentile_5</td><td>19.63197</td></tr><tr><td>MAE_percentile_75</td><td>80.61929</td></tr><tr><td>MAE_percentile_95</td><td>126.44381</td></tr><tr><td>MAE_std</td><td>54.47848</td></tr><tr><td>MSE_mean</td><td>8693.5568</td></tr><tr><td>MSE_median</td><td>4057.58566</td></tr><tr><td>MSE_percentile_25</td><td>1825.47542</td></tr><tr><td>MSE_percentile_5</td><td>768.5427</td></tr><tr><td>MSE_percentile_75</td><td>10925.66704</td></tr><tr><td>MSE_percentile_95</td><td>23108.9305</td></tr><tr><td>MSE_std</td><td>11851.32765</td></tr><tr><td>SMAPE_mean</td><td>11.37735</td></tr><tr><td>SMAPE_median</td><td>11.55303</td></tr><tr><td>SMAPE_percentile_25</td><td>9.84132</td></tr><tr><td>SMAPE_percentile_5</td><td>7.79199</td></tr><tr><td>SMAPE_percentile_75</td><td>13.08907</td></tr><tr><td>SMAPE_percentile_95</td><td>14.71676</td></tr><tr><td>SMAPE_std</td><td>3.28428</td></tr><tr><td>Sign_mean</td><td>0.71429</td></tr><tr><td>Sign_median</td><td>0.78571</td></tr><tr><td>Sign_percentile_25</td><td>0.64286</td></tr><tr><td>Sign_percentile_5</td><td>0.47143</td></tr><tr><td>Sign_percentile_75</td><td>0.85714</td></tr><tr><td>Sign_percentile_95</td><td>0.85714</td></tr><tr><td>Sign_std</td><td>0.20203</td></tr></table><br/></div></div>"
      ],
      "text/plain": [
       "<IPython.core.display.HTML object>"
      ]
     },
     "metadata": {},
     "output_type": "display_data"
    },
    {
     "data": {
      "text/html": [
       "Synced <strong style=\"color:#cdcd00\">9vZeRg-L</strong>: <a href=\"https://wandb.ai/gewissta/wandb-sweeps/runs/11pcwtwr\" target=\"_blank\">https://wandb.ai/gewissta/wandb-sweeps/runs/11pcwtwr</a><br/>Synced 5 W&B file(s), 3 media file(s), 3 artifact file(s) and 0 other file(s)"
      ],
      "text/plain": [
       "<IPython.core.display.HTML object>"
      ]
     },
     "metadata": {},
     "output_type": "display_data"
    },
    {
     "data": {
      "text/html": [
       "Find logs at: <code>./wandb/run-20221224_214934-11pcwtwr/logs</code>"
      ],
      "text/plain": [
       "<IPython.core.display.HTML object>"
      ]
     },
     "metadata": {},
     "output_type": "display_data"
    },
    {
     "name": "stderr",
     "output_type": "stream",
     "text": [
      "[Parallel(n_jobs=1)]: Done   4 out of   4 | elapsed:  2.2min remaining:    0.0s\n"
     ]
    },
    {
     "data": {
      "text/html": [
       "Changes to your `wandb` environment variables will be ignored because your `wandb` session has already started. For more information on how to modify your settings with `wandb.init()` arguments, please refer to <a href=\"https://wandb.me/wandb-init\" target=\"_blank\">the W&B docs</a>."
      ],
      "text/plain": [
       "<IPython.core.display.HTML object>"
      ]
     },
     "metadata": {},
     "output_type": "display_data"
    },
    {
     "data": {
      "text/html": [
       "wandb version 0.13.7 is available!  To upgrade, please run:\n",
       " $ pip install wandb --upgrade"
      ],
      "text/plain": [
       "<IPython.core.display.HTML object>"
      ]
     },
     "metadata": {},
     "output_type": "display_data"
    },
    {
     "data": {
      "text/html": [
       "Tracking run with wandb version 0.12.21"
      ],
      "text/plain": [
       "<IPython.core.display.HTML object>"
      ]
     },
     "metadata": {},
     "output_type": "display_data"
    },
    {
     "data": {
      "text/html": [
       "Run data is saved locally in <code>/Users/artemgruzdev/Documents/Data_Preprocessing_in_Python_для издательства/wandb/run-20221224_215010-2amaho6b</code>"
      ],
      "text/plain": [
       "<IPython.core.display.HTML object>"
      ]
     },
     "metadata": {},
     "output_type": "display_data"
    },
    {
     "data": {
      "text/html": [
       "Syncing run <strong><a href=\"https://wandb.ai/gewissta/wandb-sweeps/runs/2amaho6b\" target=\"_blank\">9vZeRg-L</a></strong> to <a href=\"https://wandb.ai/gewissta/wandb-sweeps\" target=\"_blank\">Weights & Biases</a> (<a href=\"https://wandb.me/run\" target=\"_blank\">docs</a>)<br/>"
      ],
      "text/plain": [
       "<IPython.core.display.HTML object>"
      ]
     },
     "metadata": {},
     "output_type": "display_data"
    },
    {
     "data": {
      "text/html": [
       "Waiting for W&B process to finish... <strong style=\"color:green\">(success).</strong>"
      ],
      "text/plain": [
       "<IPython.core.display.HTML object>"
      ]
     },
     "metadata": {},
     "output_type": "display_data"
    },
    {
     "data": {
      "application/vnd.jupyter.widget-view+json": {
       "model_id": "",
       "version_major": 2,
       "version_minor": 0
      },
      "text/plain": [
       "VBox(children=(Label(value='0.032 MB of 0.036 MB uploaded (0.000 MB deduped)\\r'), FloatProgress(value=0.904280…"
      ]
     },
     "metadata": {},
     "output_type": "display_data"
    },
    {
     "data": {
      "text/html": [
       "<style>\n",
       "    table.wandb td:nth-child(1) { padding: 0 10px; text-align: left ; width: auto;} td:nth-child(2) {text-align: left ; width: 100%}\n",
       "    .wandb-row { display: flex; flex-direction: row; flex-wrap: wrap; justify-content: flex-start; width: 100% }\n",
       "    .wandb-col { display: flex; flex-direction: column; flex-basis: 100%; flex: 1; padding: 10px; }\n",
       "    </style>\n",
       "<div class=\"wandb-row\"><div class=\"wandb-col\"><h3>Run history:</h3><br/><table class=\"wandb\"><tr><td>MAE_mean</td><td>▁</td></tr><tr><td>MAE_median</td><td>▁</td></tr><tr><td>MAE_percentile_25</td><td>▁</td></tr><tr><td>MAE_percentile_5</td><td>▁</td></tr><tr><td>MAE_percentile_75</td><td>▁</td></tr><tr><td>MAE_percentile_95</td><td>▁</td></tr><tr><td>MAE_std</td><td>▁</td></tr><tr><td>MSE_mean</td><td>▁</td></tr><tr><td>MSE_median</td><td>▁</td></tr><tr><td>MSE_percentile_25</td><td>▁</td></tr><tr><td>MSE_percentile_5</td><td>▁</td></tr><tr><td>MSE_percentile_75</td><td>▁</td></tr><tr><td>MSE_percentile_95</td><td>▁</td></tr><tr><td>MSE_std</td><td>▁</td></tr><tr><td>SMAPE_mean</td><td>▁</td></tr><tr><td>SMAPE_median</td><td>▁</td></tr><tr><td>SMAPE_percentile_25</td><td>▁</td></tr><tr><td>SMAPE_percentile_5</td><td>▁</td></tr><tr><td>SMAPE_percentile_75</td><td>▁</td></tr><tr><td>SMAPE_percentile_95</td><td>▁</td></tr><tr><td>SMAPE_std</td><td>▁</td></tr><tr><td>Sign_mean</td><td>▁</td></tr><tr><td>Sign_median</td><td>▁</td></tr><tr><td>Sign_percentile_25</td><td>▁</td></tr><tr><td>Sign_percentile_5</td><td>▁</td></tr><tr><td>Sign_percentile_75</td><td>▁</td></tr><tr><td>Sign_percentile_95</td><td>▁</td></tr><tr><td>Sign_std</td><td>▁</td></tr></table><br/></div><div class=\"wandb-col\"><h3>Run summary:</h3><br/><table class=\"wandb\"><tr><td>MAE_mean</td><td>58.83245</td></tr><tr><td>MAE_median</td><td>49.02264</td></tr><tr><td>MAE_percentile_25</td><td>42.90541</td></tr><tr><td>MAE_percentile_5</td><td>30.04523</td></tr><tr><td>MAE_percentile_75</td><td>64.94968</td></tr><tr><td>MAE_percentile_95</td><td>101.35341</td></tr><tr><td>MAE_std</td><td>35.97491</td></tr><tr><td>MSE_mean</td><td>6523.49614</td></tr><tr><td>MSE_median</td><td>4123.89058</td></tr><tr><td>MSE_percentile_25</td><td>2766.61595</td></tr><tr><td>MSE_percentile_5</td><td>1439.23979</td></tr><tr><td>MSE_percentile_75</td><td>7880.77078</td></tr><tr><td>MSE_percentile_95</td><td>14967.20028</td></tr><tr><td>MSE_std</td><td>6987.99985</td></tr><tr><td>SMAPE_mean</td><td>13.84509</td></tr><tr><td>SMAPE_median</td><td>11.34109</td></tr><tr><td>SMAPE_percentile_25</td><td>10.20978</td></tr><tr><td>SMAPE_percentile_5</td><td>9.28043</td></tr><tr><td>SMAPE_percentile_75</td><td>14.97641</td></tr><tr><td>SMAPE_percentile_95</td><td>21.91536</td></tr><tr><td>SMAPE_std</td><td>6.65324</td></tr><tr><td>Sign_mean</td><td>0.46429</td></tr><tr><td>Sign_median</td><td>0.5</td></tr><tr><td>Sign_percentile_25</td><td>0.25</td></tr><tr><td>Sign_percentile_5</td><td>0.16429</td></tr><tr><td>Sign_percentile_75</td><td>0.71429</td></tr><tr><td>Sign_percentile_95</td><td>0.71429</td></tr><tr><td>Sign_std</td><td>0.29451</td></tr></table><br/></div></div>"
      ],
      "text/plain": [
       "<IPython.core.display.HTML object>"
      ]
     },
     "metadata": {},
     "output_type": "display_data"
    },
    {
     "data": {
      "text/html": [
       "Synced <strong style=\"color:#cdcd00\">9vZeRg-L</strong>: <a href=\"https://wandb.ai/gewissta/wandb-sweeps/runs/2amaho6b\" target=\"_blank\">https://wandb.ai/gewissta/wandb-sweeps/runs/2amaho6b</a><br/>Synced 5 W&B file(s), 3 media file(s), 3 artifact file(s) and 0 other file(s)"
      ],
      "text/plain": [
       "<IPython.core.display.HTML object>"
      ]
     },
     "metadata": {},
     "output_type": "display_data"
    },
    {
     "data": {
      "text/html": [
       "Find logs at: <code>./wandb/run-20221224_215010-2amaho6b/logs</code>"
      ],
      "text/plain": [
       "<IPython.core.display.HTML object>"
      ]
     },
     "metadata": {},
     "output_type": "display_data"
    },
    {
     "name": "stderr",
     "output_type": "stream",
     "text": [
      "[Parallel(n_jobs=1)]: Done   5 out of   5 | elapsed:  2.6min remaining:    0.0s\n",
      "[Parallel(n_jobs=1)]: Done   5 out of   5 | elapsed:  2.6min finished\n"
     ]
    },
    {
     "data": {
      "text/html": [
       "Changes to your `wandb` environment variables will be ignored because your `wandb` session has already started. For more information on how to modify your settings with `wandb.init()` arguments, please refer to <a href=\"https://wandb.me/wandb-init\" target=\"_blank\">the W&B docs</a>."
      ],
      "text/plain": [
       "<IPython.core.display.HTML object>"
      ]
     },
     "metadata": {},
     "output_type": "display_data"
    },
    {
     "data": {
      "text/html": [
       "wandb version 0.13.7 is available!  To upgrade, please run:\n",
       " $ pip install wandb --upgrade"
      ],
      "text/plain": [
       "<IPython.core.display.HTML object>"
      ]
     },
     "metadata": {},
     "output_type": "display_data"
    },
    {
     "data": {
      "text/html": [
       "Tracking run with wandb version 0.12.21"
      ],
      "text/plain": [
       "<IPython.core.display.HTML object>"
      ]
     },
     "metadata": {},
     "output_type": "display_data"
    },
    {
     "data": {
      "text/html": [
       "Run data is saved locally in <code>/Users/artemgruzdev/Documents/Data_Preprocessing_in_Python_для издательства/wandb/run-20221224_215037-2g7h4kzd</code>"
      ],
      "text/plain": [
       "<IPython.core.display.HTML object>"
      ]
     },
     "metadata": {},
     "output_type": "display_data"
    },
    {
     "data": {
      "text/html": [
       "Syncing run <strong><a href=\"https://wandb.ai/gewissta/wandb-sweeps/runs/2g7h4kzd\" target=\"_blank\">9vZeRg-L</a></strong> to <a href=\"https://wandb.ai/gewissta/wandb-sweeps\" target=\"_blank\">Weights & Biases</a> (<a href=\"https://wandb.me/run\" target=\"_blank\">docs</a>)<br/>"
      ],
      "text/plain": [
       "<IPython.core.display.HTML object>"
      ]
     },
     "metadata": {},
     "output_type": "display_data"
    },
    {
     "data": {
      "text/html": [
       "Waiting for W&B process to finish... <strong style=\"color:green\">(success).</strong>"
      ],
      "text/plain": [
       "<IPython.core.display.HTML object>"
      ]
     },
     "metadata": {},
     "output_type": "display_data"
    },
    {
     "data": {
      "application/vnd.jupyter.widget-view+json": {
       "model_id": "",
       "version_major": 2,
       "version_minor": 0
      },
      "text/plain": [
       "VBox(children=(Label(value='0.137 MB of 0.194 MB uploaded (0.000 MB deduped)\\r'), FloatProgress(value=0.706904…"
      ]
     },
     "metadata": {},
     "output_type": "display_data"
    },
    {
     "data": {
      "text/html": [
       "<style>\n",
       "    table.wandb td:nth-child(1) { padding: 0 10px; text-align: left ; width: auto;} td:nth-child(2) {text-align: left ; width: 100%}\n",
       "    .wandb-row { display: flex; flex-direction: row; flex-wrap: wrap; justify-content: flex-start; width: 100% }\n",
       "    .wandb-col { display: flex; flex-direction: column; flex-basis: 100%; flex: 1; padding: 10px; }\n",
       "    </style>\n",
       "<div class=\"wandb-row\"><div class=\"wandb-col\"><h3>Run history:</h3><br/><table class=\"wandb\"><tr><td>MAE_mean</td><td>▁</td></tr><tr><td>MAE_median</td><td>▁</td></tr><tr><td>MAE_percentile_25</td><td>▁</td></tr><tr><td>MAE_percentile_5</td><td>▁</td></tr><tr><td>MAE_percentile_75</td><td>▁</td></tr><tr><td>MAE_percentile_95</td><td>▁</td></tr><tr><td>MAE_std</td><td>▁</td></tr><tr><td>MSE_mean</td><td>▁</td></tr><tr><td>MSE_median</td><td>▁</td></tr><tr><td>MSE_percentile_25</td><td>▁</td></tr><tr><td>MSE_percentile_5</td><td>▁</td></tr><tr><td>MSE_percentile_75</td><td>▁</td></tr><tr><td>MSE_percentile_95</td><td>▁</td></tr><tr><td>MSE_std</td><td>▁</td></tr><tr><td>SMAPE_mean</td><td>▁</td></tr><tr><td>SMAPE_median</td><td>▁</td></tr><tr><td>SMAPE_percentile_25</td><td>▁</td></tr><tr><td>SMAPE_percentile_5</td><td>▁</td></tr><tr><td>SMAPE_percentile_75</td><td>▁</td></tr><tr><td>SMAPE_percentile_95</td><td>▁</td></tr><tr><td>SMAPE_std</td><td>▁</td></tr><tr><td>Sign_mean</td><td>▁</td></tr><tr><td>Sign_median</td><td>▁</td></tr><tr><td>Sign_percentile_25</td><td>▁</td></tr><tr><td>Sign_percentile_5</td><td>▁</td></tr><tr><td>Sign_percentile_75</td><td>▁</td></tr><tr><td>Sign_percentile_95</td><td>▁</td></tr><tr><td>Sign_std</td><td>▁</td></tr></table><br/></div><div class=\"wandb-col\"><h3>Run summary:</h3><br/><table class=\"wandb\"><tr><td>MAE_mean</td><td>46.57736</td></tr><tr><td>MAE_median</td><td>36.71724</td></tr><tr><td>MAE_percentile_25</td><td>22.04652</td></tr><tr><td>MAE_percentile_5</td><td>19.52281</td></tr><tr><td>MAE_percentile_75</td><td>61.24808</td></tr><tr><td>MAE_percentile_95</td><td>87.43607</td></tr><tr><td>MAE_std</td><td>34.54077</td></tr><tr><td>MSE_mean</td><td>4920.73576</td></tr><tr><td>MSE_median</td><td>2768.86084</td></tr><tr><td>MSE_percentile_25</td><td>1092.30591</td></tr><tr><td>MSE_percentile_5</td><td>707.38823</td></tr><tr><td>MSE_percentile_75</td><td>6597.2907</td></tr><tr><td>MSE_percentile_95</td><td>12146.70818</td></tr><tr><td>MSE_std</td><td>5961.55857</td></tr><tr><td>SMAPE_mean</td><td>10.01044</td></tr><tr><td>SMAPE_median</td><td>10.2682</td></tr><tr><td>SMAPE_percentile_25</td><td>9.17551</td></tr><tr><td>SMAPE_percentile_5</td><td>8.01728</td></tr><tr><td>SMAPE_percentile_75</td><td>11.10313</td></tr><tr><td>SMAPE_percentile_95</td><td>11.64275</td></tr><tr><td>SMAPE_std</td><td>1.75225</td></tr><tr><td>Sign_mean</td><td>0.46429</td></tr><tr><td>Sign_median</td><td>0.48571</td></tr><tr><td>Sign_percentile_25</td><td>0.45714</td></tr><tr><td>Sign_percentile_5</td><td>0.38857</td></tr><tr><td>Sign_percentile_75</td><td>0.49286</td></tr><tr><td>Sign_percentile_95</td><td>0.51</td></tr><tr><td>Sign_std</td><td>0.06335</td></tr></table><br/></div></div>"
      ],
      "text/plain": [
       "<IPython.core.display.HTML object>"
      ]
     },
     "metadata": {},
     "output_type": "display_data"
    },
    {
     "data": {
      "text/html": [
       "Synced <strong style=\"color:#cdcd00\">9vZeRg-L</strong>: <a href=\"https://wandb.ai/gewissta/wandb-sweeps/runs/2g7h4kzd\" target=\"_blank\">https://wandb.ai/gewissta/wandb-sweeps/runs/2g7h4kzd</a><br/>Synced 5 W&B file(s), 4 media file(s), 3 artifact file(s) and 0 other file(s)"
      ],
      "text/plain": [
       "<IPython.core.display.HTML object>"
      ]
     },
     "metadata": {},
     "output_type": "display_data"
    },
    {
     "data": {
      "text/html": [
       "Find logs at: <code>./wandb/run-20221224_215037-2g7h4kzd/logs</code>"
      ],
      "text/plain": [
       "<IPython.core.display.HTML object>"
      ]
     },
     "metadata": {},
     "output_type": "display_data"
    },
    {
     "name": "stderr",
     "output_type": "stream",
     "text": [
      "\u001b[32m[I 2022-12-24 21:51:05,258]\u001b[0m Trial 4 finished with value: 46.57735999084957 and parameters: {'iterations': 34, 'depth': 1, 'lags': 9}. Best is trial 3 with value: 43.29799467213687.\u001b[0m\n"
     ]
    }
   ],
   "source": [
    "# Вызов функции run_optuna, запуск оптимизации\n",
    "run_optuna(file_path='Data/example_dataset.csv')"
   ]
  },
  {
   "cell_type": "markdown",
   "id": "d4cad515",
   "metadata": {},
   "source": [
    "# Больше материалов в рамках подписки вы найдете по адресу https://boosty.to/gewissta"
   ]
  }
 ],
 "metadata": {
  "kernelspec": {
   "display_name": "Python 3 (ipykernel)",
   "language": "python",
   "name": "python3"
  },
  "language_info": {
   "codemirror_mode": {
    "name": "ipython",
    "version": 3
   },
   "file_extension": ".py",
   "mimetype": "text/x-python",
   "name": "python",
   "nbconvert_exporter": "python",
   "pygments_lexer": "ipython3",
   "version": "3.9.12"
  }
 },
 "nbformat": 4,
 "nbformat_minor": 5
}
