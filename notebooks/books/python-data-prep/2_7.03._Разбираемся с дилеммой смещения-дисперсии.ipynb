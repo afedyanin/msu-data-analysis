{
 "cells": [
  {
   "cell_type": "code",
   "execution_count": 1,
   "metadata": {},
   "outputs": [],
   "source": [
    "# импортируем библиотеки pandas, numpy\n",
    "import pandas as pd\n",
    "import numpy as np\n",
    "# импортируем функции train_test_split() и display()\n",
    "from sklearn.model_selection import train_test_split\n",
    "from IPython.display import display\n",
    "# импортируем класс StandardScaler, \n",
    "# выполняющий стандартизацию\n",
    "from sklearn.preprocessing import StandardScaler\n",
    "# импортируем класс LogisticRegression\n",
    "from sklearn.linear_model import LogisticRegression\n",
    "# импортируем класс DecisionTreeRegressor\n",
    "from sklearn.tree import DecisionTreeRegressor"
   ]
  },
  {
   "cell_type": "code",
   "execution_count": 2,
   "metadata": {},
   "outputs": [],
   "source": [
    "# записываем CSV-файл в объект DataFrame\n",
    "data = pd.read_csv('Data/StateFarm.csv', sep=';') "
   ]
  },
  {
   "cell_type": "code",
   "execution_count": 3,
   "metadata": {},
   "outputs": [],
   "source": [
    "# сформируем игрушечные массив меток \n",
    "# и массив признаков\n",
    "var_lst = ['Income', 'Monthly Premium Auto', \n",
    "           'Customer Lifetime Value']\n",
    "toy_data = data[var_lst].head(10)\n",
    "toy_labels = toy_data.pop('Customer Lifetime Value')"
   ]
  },
  {
   "cell_type": "code",
   "execution_count": 4,
   "metadata": {},
   "outputs": [
    {
     "data": {
      "text/html": [
       "<div>\n",
       "<style scoped>\n",
       "    .dataframe tbody tr th:only-of-type {\n",
       "        vertical-align: middle;\n",
       "    }\n",
       "\n",
       "    .dataframe tbody tr th {\n",
       "        vertical-align: top;\n",
       "    }\n",
       "\n",
       "    .dataframe thead th {\n",
       "        text-align: right;\n",
       "    }\n",
       "</style>\n",
       "<table border=\"1\" class=\"dataframe\">\n",
       "  <thead>\n",
       "    <tr style=\"text-align: right;\">\n",
       "      <th></th>\n",
       "      <th>Income</th>\n",
       "      <th>Monthly Premium Auto</th>\n",
       "    </tr>\n",
       "  </thead>\n",
       "  <tbody>\n",
       "    <tr>\n",
       "      <th>0</th>\n",
       "      <td>65999</td>\n",
       "      <td>237</td>\n",
       "    </tr>\n",
       "    <tr>\n",
       "      <th>1</th>\n",
       "      <td>0</td>\n",
       "      <td>65</td>\n",
       "    </tr>\n",
       "    <tr>\n",
       "      <th>2</th>\n",
       "      <td>54500</td>\n",
       "      <td>63</td>\n",
       "    </tr>\n",
       "    <tr>\n",
       "      <th>3</th>\n",
       "      <td>37260</td>\n",
       "      <td>62</td>\n",
       "    </tr>\n",
       "    <tr>\n",
       "      <th>4</th>\n",
       "      <td>68987</td>\n",
       "      <td>71</td>\n",
       "    </tr>\n",
       "    <tr>\n",
       "      <th>5</th>\n",
       "      <td>42305</td>\n",
       "      <td>117</td>\n",
       "    </tr>\n",
       "    <tr>\n",
       "      <th>6</th>\n",
       "      <td>65706</td>\n",
       "      <td>91</td>\n",
       "    </tr>\n",
       "    <tr>\n",
       "      <th>7</th>\n",
       "      <td>0</td>\n",
       "      <td>90</td>\n",
       "    </tr>\n",
       "    <tr>\n",
       "      <th>8</th>\n",
       "      <td>53243</td>\n",
       "      <td>66</td>\n",
       "    </tr>\n",
       "    <tr>\n",
       "      <th>9</th>\n",
       "      <td>0</td>\n",
       "      <td>70</td>\n",
       "    </tr>\n",
       "  </tbody>\n",
       "</table>\n",
       "</div>"
      ],
      "text/plain": [
       "   Income  Monthly Premium Auto\n",
       "0   65999                   237\n",
       "1       0                    65\n",
       "2   54500                    63\n",
       "3   37260                    62\n",
       "4   68987                    71\n",
       "5   42305                   117\n",
       "6   65706                    91\n",
       "7       0                    90\n",
       "8   53243                    66\n",
       "9       0                    70"
      ]
     },
     "execution_count": 4,
     "metadata": {},
     "output_type": "execute_result"
    }
   ],
   "source": [
    "# смотрим массив признаков\n",
    "toy_data"
   ]
  },
  {
   "cell_type": "code",
   "execution_count": 5,
   "metadata": {},
   "outputs": [
    {
     "data": {
      "text/plain": [
       "0    18975.456110\n",
       "1     4715.321344\n",
       "2     5018.885233\n",
       "3     4932.916345\n",
       "4     5744.229745\n",
       "5    13891.735670\n",
       "6     7380.976717\n",
       "7     3090.034104\n",
       "8     2521.633095\n",
       "9     2652.061785\n",
       "Name: Customer Lifetime Value, dtype: float64"
      ]
     },
     "execution_count": 5,
     "metadata": {},
     "output_type": "execute_result"
    }
   ],
   "source": [
    "# смотрим массив меток\n",
    "toy_labels"
   ]
  },
  {
   "cell_type": "code",
   "execution_count": 6,
   "metadata": {},
   "outputs": [],
   "source": [
    "# получаем индексы наблюдений исходной выборки\n",
    "sample_indices = np.arange(toy_data.shape[0])\n",
    "\n",
    "# задаем стартовое значение генератора\n",
    "# псевдослучайных чисел\n",
    "rng = np.random.RandomState(42)\n",
    "\n",
    "# получаем индексы наблюдений бутстреп-выборки:\n",
    "# sample_indices - используем индексы исходной выборки\n",
    "# size - размер тот же, что у исходной выборки\n",
    "# replace=True - отбор с возвращением\n",
    "bootstrap_indices = rng.choice(sample_indices,\n",
    "                               size=sample_indices.shape[0],\n",
    "                               replace=True)"
   ]
  },
  {
   "cell_type": "code",
   "execution_count": 7,
   "metadata": {},
   "outputs": [
    {
     "data": {
      "text/html": [
       "<div>\n",
       "<style scoped>\n",
       "    .dataframe tbody tr th:only-of-type {\n",
       "        vertical-align: middle;\n",
       "    }\n",
       "\n",
       "    .dataframe tbody tr th {\n",
       "        vertical-align: top;\n",
       "    }\n",
       "\n",
       "    .dataframe thead th {\n",
       "        text-align: right;\n",
       "    }\n",
       "</style>\n",
       "<table border=\"1\" class=\"dataframe\">\n",
       "  <thead>\n",
       "    <tr style=\"text-align: right;\">\n",
       "      <th></th>\n",
       "      <th>Income</th>\n",
       "      <th>Monthly Premium Auto</th>\n",
       "    </tr>\n",
       "  </thead>\n",
       "  <tbody>\n",
       "    <tr>\n",
       "      <th>6</th>\n",
       "      <td>65706</td>\n",
       "      <td>91</td>\n",
       "    </tr>\n",
       "    <tr>\n",
       "      <th>3</th>\n",
       "      <td>37260</td>\n",
       "      <td>62</td>\n",
       "    </tr>\n",
       "    <tr>\n",
       "      <th>7</th>\n",
       "      <td>0</td>\n",
       "      <td>90</td>\n",
       "    </tr>\n",
       "    <tr>\n",
       "      <th>4</th>\n",
       "      <td>68987</td>\n",
       "      <td>71</td>\n",
       "    </tr>\n",
       "    <tr>\n",
       "      <th>6</th>\n",
       "      <td>65706</td>\n",
       "      <td>91</td>\n",
       "    </tr>\n",
       "    <tr>\n",
       "      <th>9</th>\n",
       "      <td>0</td>\n",
       "      <td>70</td>\n",
       "    </tr>\n",
       "    <tr>\n",
       "      <th>2</th>\n",
       "      <td>54500</td>\n",
       "      <td>63</td>\n",
       "    </tr>\n",
       "    <tr>\n",
       "      <th>6</th>\n",
       "      <td>65706</td>\n",
       "      <td>91</td>\n",
       "    </tr>\n",
       "    <tr>\n",
       "      <th>7</th>\n",
       "      <td>0</td>\n",
       "      <td>90</td>\n",
       "    </tr>\n",
       "    <tr>\n",
       "      <th>4</th>\n",
       "      <td>68987</td>\n",
       "      <td>71</td>\n",
       "    </tr>\n",
       "  </tbody>\n",
       "</table>\n",
       "</div>"
      ],
      "text/plain": [
       "   Income  Monthly Premium Auto\n",
       "6   65706                    91\n",
       "3   37260                    62\n",
       "7       0                    90\n",
       "4   68987                    71\n",
       "6   65706                    91\n",
       "9       0                    70\n",
       "2   54500                    63\n",
       "6   65706                    91\n",
       "7       0                    90\n",
       "4   68987                    71"
      ]
     },
     "metadata": {},
     "output_type": "display_data"
    },
    {
     "data": {
      "text/plain": [
       "6    7380.976717\n",
       "3    4932.916345\n",
       "7    3090.034104\n",
       "4    5744.229745\n",
       "6    7380.976717\n",
       "9    2652.061785\n",
       "2    5018.885233\n",
       "6    7380.976717\n",
       "7    3090.034104\n",
       "4    5744.229745\n",
       "Name: Customer Lifetime Value, dtype: float64"
      ]
     },
     "metadata": {},
     "output_type": "display_data"
    }
   ],
   "source": [
    "# получаем бутстреп-выборку\n",
    "toy_data_boot = toy_data.iloc[bootstrap_indices]\n",
    "toy_labels_boot = toy_labels.iloc[bootstrap_indices]\n",
    "\n",
    "display(toy_data_boot)\n",
    "display(toy_labels_boot)"
   ]
  },
  {
   "cell_type": "code",
   "execution_count": 8,
   "metadata": {},
   "outputs": [
    {
     "data": {
      "text/html": [
       "<div>\n",
       "<style scoped>\n",
       "    .dataframe tbody tr th:only-of-type {\n",
       "        vertical-align: middle;\n",
       "    }\n",
       "\n",
       "    .dataframe tbody tr th {\n",
       "        vertical-align: top;\n",
       "    }\n",
       "\n",
       "    .dataframe thead th {\n",
       "        text-align: right;\n",
       "    }\n",
       "</style>\n",
       "<table border=\"1\" class=\"dataframe\">\n",
       "  <thead>\n",
       "    <tr style=\"text-align: right;\">\n",
       "      <th></th>\n",
       "      <th>Income</th>\n",
       "      <th>Monthly Premium Auto</th>\n",
       "    </tr>\n",
       "  </thead>\n",
       "  <tbody>\n",
       "    <tr>\n",
       "      <th>0</th>\n",
       "      <td>65999</td>\n",
       "      <td>237</td>\n",
       "    </tr>\n",
       "    <tr>\n",
       "      <th>1</th>\n",
       "      <td>0</td>\n",
       "      <td>65</td>\n",
       "    </tr>\n",
       "    <tr>\n",
       "      <th>5</th>\n",
       "      <td>42305</td>\n",
       "      <td>117</td>\n",
       "    </tr>\n",
       "    <tr>\n",
       "      <th>8</th>\n",
       "      <td>53243</td>\n",
       "      <td>66</td>\n",
       "    </tr>\n",
       "  </tbody>\n",
       "</table>\n",
       "</div>"
      ],
      "text/plain": [
       "   Income  Monthly Premium Auto\n",
       "0   65999                   237\n",
       "1       0                    65\n",
       "5   42305                   117\n",
       "8   53243                    66"
      ]
     },
     "metadata": {},
     "output_type": "display_data"
    },
    {
     "data": {
      "text/plain": [
       "0    18975.456110\n",
       "1     4715.321344\n",
       "5    13891.735670\n",
       "8     2521.633095\n",
       "Name: Customer Lifetime Value, dtype: float64"
      ]
     },
     "metadata": {},
     "output_type": "display_data"
    }
   ],
   "source": [
    "# получаем out-of-bag выборку\n",
    "toy_data_out_boot = toy_data[~toy_data.index.isin(\n",
    "    toy_data_boot.index)]\n",
    "toy_labels_out_boot = toy_labels[~toy_labels.index.isin(\n",
    "    toy_data_boot.index)]\n",
    "\n",
    "display(toy_data_out_boot)\n",
    "display(toy_labels_out_boot)"
   ]
  },
  {
   "cell_type": "code",
   "execution_count": 9,
   "metadata": {},
   "outputs": [
    {
     "name": "stdout",
     "output_type": "stream",
     "text": [
      "1-итерация\n",
      "индексы в бутстреп-выборке: [6, 3, 7, 4, 6, 9, 2, 6, 7, 4]\n",
      "индексы в out-of-bag выборке: [0, 1, 5, 8]\n",
      "\n",
      "2-итерация\n",
      "индексы в бутстреп-выборке: [3, 7, 7, 2, 5, 4, 1, 7, 5, 1]\n",
      "индексы в out-of-bag выборке: [0, 6, 8, 9]\n",
      "\n",
      "3-итерация\n",
      "индексы в бутстреп-выборке: [4, 0, 9, 5, 8, 0, 9, 2, 6, 3]\n",
      "индексы в out-of-bag выборке: [1, 7]\n",
      "\n"
     ]
    }
   ],
   "source": [
    "# пишем функцию, возвращающую бутстреп-выборки\n",
    "# и out-of-bag выборки\n",
    "def generate_bootstrap(rng, X, y, verbose=True):\n",
    "    # получаем индексы наблюдений исходной выборки\n",
    "    sample_indices = np.arange(X.shape[0])\n",
    "    # получаем индексы наблюдений бутстреп-выборки, \n",
    "    # бутстреп-выборка имеет тот же размер, \n",
    "    # что и исходная, отбор с возвращением\n",
    "    bootstrap_indices = rng.choice(sample_indices,\n",
    "                                   size=sample_indices.shape[0],\n",
    "                                   replace=True)\n",
    "    X_boot = X.iloc[bootstrap_indices]\n",
    "    y_boot = y.iloc[bootstrap_indices]\n",
    "    X_out_boot = X[~X.index.isin(X_boot.index)]\n",
    "    y_out_boot = y[~y.index.isin(X_boot.index)]\n",
    "    if verbose:\n",
    "        print(f\"{i}-итерация\")\n",
    "        print(f\"индексы в бутстреп-выборке: {X_boot.index.tolist()}\")\n",
    "        print(f\"индексы в out-of-bag выборке: {X_out_boot.index.tolist()}\\n\")\n",
    "    # возвращаем выборки\n",
    "    return X_boot, y_boot, X_out_boot, y_out_boot\n",
    "\n",
    "# создаем контейнер для генератора\n",
    "# псевдослучайных чисел\n",
    "rng = np.random.RandomState(42)\n",
    "    \n",
    "# создаем экземпляр класса DecisionTreeRegressor\n",
    "tree = DecisionTreeRegressor(random_state=42)\n",
    "\n",
    "# создаем пустой список, в который\n",
    "# будем записывать значения R2\n",
    "test_score_lst = []\n",
    "# на каждой итерации...\n",
    "for i in range(1, 4):\n",
    "    # формируем бустреп-выборку и out-of-bag выборку\n",
    "    X_boot, y_boot, X_out_boot, y_out_boot = generate_bootstrap(\n",
    "        rng, toy_data, toy_labels)\n",
    "    # обучаем на бутстреп-выборке\n",
    "    tree.fit(X_boot, y_boot)\n",
    "    # записываем значение R2\n",
    "    test_score = tree.score(X_out_boot, y_out_boot)\n",
    "    # кладем значение R2 в список\n",
    "    test_score_lst.append(test_score)"
   ]
  },
  {
   "cell_type": "code",
   "execution_count": 10,
   "metadata": {},
   "outputs": [
    {
     "name": "stdout",
     "output_type": "stream",
     "text": [
      "[-0.043216359884440836, 0.6652528178872499, -2.368359678979963]\n"
     ]
    }
   ],
   "source": [
    "# смотрим список\n",
    "print(test_score_lst)"
   ]
  },
  {
   "cell_type": "code",
   "execution_count": 11,
   "metadata": {},
   "outputs": [
    {
     "name": "stdout",
     "output_type": "stream",
     "text": [
      "Среднее значение R2: -0.582\n"
     ]
    }
   ],
   "source": [
    "# получаем среднее значение R2\n",
    "mean_r2 = sum(test_score_lst) / len(test_score_lst)\n",
    "print(\"Среднее значение R2: %.3f\" % mean_r2)"
   ]
  },
  {
   "cell_type": "code",
   "execution_count": 12,
   "metadata": {},
   "outputs": [
    {
     "name": "stdout",
     "output_type": "stream",
     "text": [
      "Среднее значение R2: -0.582\n"
     ]
    }
   ],
   "source": [
    "# среднее значение в списке можно вычислить \n",
    "# с помощью mean() или fmean() пакета statistics\n",
    "import statistics\n",
    "mean_r2 = statistics.fmean(test_score_lst)\n",
    "print(\"Среднее значение R2: %.3f\" % mean_r2)"
   ]
  },
  {
   "cell_type": "code",
   "execution_count": 13,
   "metadata": {},
   "outputs": [],
   "source": [
    "# разбиваем данные на обучающие и тестовые: получаем обучающий\n",
    "# массив признаков, тестовый массив признаков, обучающий массив\n",
    "# меток, тестовый массив меток\n",
    "X_train, X_test, y_train, y_test = train_test_split(\n",
    "    data.drop('Response', axis=1), \n",
    "    data['Response'], \n",
    "    test_size=0.3,\n",
    "    stratify=data['Response'],\n",
    "    random_state=42)"
   ]
  },
  {
   "cell_type": "code",
   "execution_count": 14,
   "metadata": {},
   "outputs": [],
   "source": [
    "# создаем контейнер для генератора\n",
    "# псевдослучайных чисел\n",
    "rng = np.random.RandomState(42)\n",
    "\n",
    "# создаем экземпляр класса StandardScaler\n",
    "standardscaler = StandardScaler()\n",
    "\n",
    "# создаем экземпляр класса LogisticRegression\n",
    "logreg = LogisticRegression(solver='lbfgs', max_iter=200)\n",
    "\n",
    "# создаем пустой список, в который будем\n",
    "# записывать значения правильности\n",
    "test_score_lst = []\n",
    "\n",
    "# на каждой итерации...\n",
    "for i in range(1000):\n",
    "    # формируем бустреп-выборку и out-of-bag выборку\n",
    "    X_boot, y_boot, X_out_boot, y_out_boot = generate_bootstrap(\n",
    "        rng, X_train, y_train, verbose=False)\n",
    "    # выполняем стандартизацию\n",
    "    standardscaler.fit(X_boot)\n",
    "    X_boot_scaled = standardscaler.transform(X_boot)\n",
    "    X_out_boot_scaled = standardscaler.transform(X_out_boot)\n",
    "    # обучаем на бутстреп-выборке\n",
    "    logreg.fit(X_boot_scaled, y_boot)\n",
    "    # записываем значение правильности\n",
    "    test_score = logreg.score(\n",
    "        X_out_boot_scaled, y_out_boot)\n",
    "    # кладем значение правильности в список\n",
    "    test_score_lst.append(test_score)"
   ]
  },
  {
   "cell_type": "code",
   "execution_count": 15,
   "metadata": {},
   "outputs": [
    {
     "name": "stdout",
     "output_type": "stream",
     "text": [
      "Среднее значение правильности: 0.900\n"
     ]
    }
   ],
   "source": [
    "# получаем среднее значение правильности\n",
    "mean_acc = statistics.fmean(test_score_lst)\n",
    "print(\"Среднее значение правильности: %.3f\" % mean_acc)"
   ]
  },
  {
   "cell_type": "code",
   "execution_count": 16,
   "metadata": {},
   "outputs": [],
   "source": [
    "# импортируем необходимые данные\n",
    "from mlxtend.data import boston_housing_data"
   ]
  },
  {
   "cell_type": "code",
   "execution_count": 17,
   "metadata": {},
   "outputs": [],
   "source": [
    "# создаем массив признаков и массив значений зависимой переменной\n",
    "X, y = boston_housing_data()\n",
    "# создаем обучающие и тестовые массивы признаков\n",
    "# и значений зависимой переменной\n",
    "X_train, X_test, y_train, y_test = train_test_split(X, \n",
    "                                                    y,\n",
    "                                                    test_size=0.3,\n",
    "                                                    random_state=123)"
   ]
  },
  {
   "cell_type": "code",
   "execution_count": 18,
   "metadata": {},
   "outputs": [],
   "source": [
    "# пишем функцию, генерирующую бутстреп-выборки\n",
    "def _draw_bootstrap_sample(rng, X, y):\n",
    "    # получаем индексы наблюдений исходной выборки\n",
    "    sample_indices = np.arange(X.shape[0])\n",
    "    # получаем индексы наблюдений бутстреп-выборки, бутстреп-выборка \n",
    "    # имеет тот же размер, что и исходная, отбор с возвращением\n",
    "    bootstrap_indices = rng.choice(sample_indices,\n",
    "                                   size=sample_indices.shape[0],\n",
    "                                   replace=True)\n",
    "    # формируем бутстреп-выборку\n",
    "    return X[bootstrap_indices], y[bootstrap_indices]\n",
    "\n",
    "# пишем функцию, вычисляющую усредненное ожидаемое значение функции\n",
    "# потерь, усредненное смещение, усредненную дисперсию\n",
    "def bias_variance_decomp(estimator, X_train, y_train, X_test, y_test,\n",
    "                         num_rounds=200, random_seed=None):\n",
    "    \"\"\"\n",
    "    Автор: Sebastian Raschka\n",
    "    https://github.com/rasbt\n",
    "\n",
    "    Параметры\n",
    "    ----------\n",
    "    estimator: регрессор.\n",
    "    X_train: обучающий набор для извлечения бутстреп-выборок.\n",
    "    y_train: обучающий массив значений зависимой переменной.\n",
    "    X_test: тестовый набор для вычисления среднеквадратичной функции\n",
    "        потерь, смещения и дисперсии.\n",
    "    y_test: тестовый массив значений зависимой переменной.\n",
    "    num_rounds : количество итераций бутстрепа (целочисленное \n",
    "        значение, по умолчанию 200).\n",
    "    random_seed : стартовое значение генератора псевдослучайных\n",
    "        чисел для создания бутстреп-выборок (целочисленное \n",
    "        значение, по умолчанию None).\n",
    "    \n",
    "    Возвращает\n",
    "    ----------\n",
    "    avg_expected_loss, avg_bias, avg_var : усредненное\n",
    "        ожидаемое значение функции потерь, усредненное смещение,\n",
    "        усредненную дисперсию (все значения с плавающей точкой),\n",
    "        усреднение происходит по наблюдениям тестового набора.\n",
    "    \"\"\"\n",
    "    \n",
    "    # создаем контейнер для генератора\n",
    "    # псевдослучайных чисел\n",
    "    rng = np.random.RandomState(random_seed)\n",
    "\n",
    "    # создаем массив из нулей, количество строк равно num_rounds, \n",
    "    # а количество столбцов определяется количеством наблюдений \n",
    "    # тестового набора, в него мы будем записывать прогнозы\n",
    "    all_pred = np.zeros((num_rounds, y_test.shape[0]), dtype=int)\n",
    "\n",
    "    # на каждой итерации...\n",
    "    for i in range(num_rounds):\n",
    "        # формируем бутстреп-выборку на основе обучающего набора\n",
    "        X_boot, y_boot = _draw_bootstrap_sample(rng, X_train, y_train)\n",
    "        # обучаем регрессор на бутстреп-выборке и\n",
    "        # выдаем прогнозы для тестового набора\n",
    "        pred = estimator.fit(X_boot, y_boot).predict(X_test)\n",
    "        # записываем прогнозы в массив all_pred\n",
    "        all_pred[i] = pred\n",
    "\n",
    "    # вычисляем усредненное ожидаемое значение функции потерь, \n",
    "    # в нашем случае среднеквадратичную ошибку, усредненную \n",
    "    # по среднеквадратичным ошибкам, полученным на каждой\n",
    "    # итерации (количество итераций задается num_rounds)\n",
    "    avg_expected_loss = np.apply_along_axis(\n",
    "        lambda x:\n",
    "        ((x - y_test) ** 2).mean(),\n",
    "        axis=1,\n",
    "        arr=all_pred).mean()\n",
    "\n",
    "    # вычисляем усредненный прогноз (берем среднее \n",
    "    # по оси 0 массива all_pred)\n",
    "    main_predictions = np.mean(all_pred, axis=0)\n",
    "    \n",
    "    # вычисляем усредненное смещение, делим сумму квадратов \n",
    "    # разностей между усредненными прогнозами и фактическими \n",
    "    # значениями зависимой переменной в тестовом наборе на\n",
    "    # количество наблюдений тестового набора\n",
    "    avg_bias = np.sum((main_predictions - y_test) ** 2) / y_test.size\n",
    "    # вычисляем усредненную дисперсию,  делим сумму квадратов\n",
    "    # разностей между усредненными прогнозами и прогнозами \n",
    "    # для тестового набора на количество прогнозов\n",
    "    avg_var = np.sum((main_predictions - all_pred) ** 2) / all_pred.size\n",
    "    \n",
    "    return avg_expected_loss, avg_bias, avg_var"
   ]
  },
  {
   "cell_type": "code",
   "execution_count": 19,
   "metadata": {},
   "outputs": [
    {
     "name": "stdout",
     "output_type": "stream",
     "text": [
      "Усредненное ожидаемое значение функции потерь: 31.756\n",
      "Усредненное смещение: 13.856\n",
      "Усредненная дисперсия: 17.900\n"
     ]
    }
   ],
   "source": [
    "# создаем дерево максимальной глубины\n",
    "tree = DecisionTreeRegressor(random_state=123)\n",
    "\n",
    "# вычисляем усредненное ожидаемое значение функции потерь,\n",
    "# усредненное смещение, усредненную дисперсию\n",
    "avg_expected_loss, avg_bias, avg_var = bias_variance_decomp(\n",
    "    tree, X_train, y_train, X_test, y_test,\n",
    "    random_seed=123)\n",
    "\n",
    "# печатаем результаты\n",
    "ttl = \"Усредненное ожидаемое значение функции потерь: %.3f\"\n",
    "print(ttl % avg_expected_loss)\n",
    "print(\"Усредненное смещение: %.3f\" % avg_bias)\n",
    "print(\"Усредненная дисперсия: %.3f\" % avg_var)"
   ]
  },
  {
   "cell_type": "code",
   "execution_count": 20,
   "metadata": {},
   "outputs": [
    {
     "name": "stdout",
     "output_type": "stream",
     "text": [
      "Усредненное ожидаемое значение функции потерь: 53.199\n",
      "Усредненное смещение: 41.990\n",
      "Усредненная дисперсия: 11.209\n"
     ]
    }
   ],
   "source": [
    "# создаем дерево глубиной 1\n",
    "tree2 = DecisionTreeRegressor(random_state=123, max_depth=1)\n",
    "\n",
    "# вычисляем усредненное ожидаемое значение функции потерь,\n",
    "# усредненное смещение, усредненную дисперсию\n",
    "avg_expected_loss, avg_bias, avg_var = bias_variance_decomp(\n",
    "    tree2, X_train, y_train, X_test, y_test, \n",
    "    random_seed=123)\n",
    "\n",
    "# печатаем результаты\n",
    "print(ttl % avg_expected_loss)\n",
    "print(\"Усредненное смещение: %.3f\" % avg_bias)\n",
    "print(\"Усредненная дисперсия: %.3f\" % avg_var)"
   ]
  },
  {
   "cell_type": "code",
   "execution_count": 21,
   "metadata": {},
   "outputs": [],
   "source": [
    "# создаем игрушечные обучающие и тестовые массивы \n",
    "# признаков и значений зависимой переменной\n",
    "\n",
    "X_train = np.array([[29.1, 19000.28, 15], \n",
    "                    [67.3, 48800.81, 45], \n",
    "                    [77.9, 89800.55, 188]])\n",
    "\n",
    "X_test = np.array([[11.9, 89900.28, 199], \n",
    "                   [37.8, 10600.82, 95], \n",
    "                   [77.2, 99700.22, 87]])\n",
    "\n",
    "y_train = np.array([22.6, 89.5, 17.3])\n",
    "y_test = np.array([12.4, 96.9, 107.9])"
   ]
  },
  {
   "cell_type": "code",
   "execution_count": 22,
   "metadata": {},
   "outputs": [],
   "source": [
    "# создаем контейнер для генератора\n",
    "# псевдослучайных чисел\n",
    "rng = np.random.RandomState(123)"
   ]
  },
  {
   "cell_type": "code",
   "execution_count": 23,
   "metadata": {},
   "outputs": [
    {
     "data": {
      "text/plain": [
       "array([[0, 0, 0],\n",
       "       [0, 0, 0],\n",
       "       [0, 0, 0]])"
      ]
     },
     "execution_count": 23,
     "metadata": {},
     "output_type": "execute_result"
    }
   ],
   "source": [
    "# создаем массив из нулей, количество строк равно количеству итераций, \n",
    "# а количество столбцов определяется количеством наблюдений тестового \n",
    "# набора, в этот массив мы будем записывать прогнозы\n",
    "all_pred = np.zeros((3, y_test.shape[0]), dtype=int)\n",
    "all_pred"
   ]
  },
  {
   "cell_type": "code",
   "execution_count": 24,
   "metadata": {},
   "outputs": [],
   "source": [
    "# на каждой итерации...\n",
    "for i in range(3):\n",
    "    # формируем бутстреп-выборку на основе обучающего набора\n",
    "    X_boot, y_boot = _draw_bootstrap_sample(rng, X_train, y_train)\n",
    "    # обучаем регрессор на бутстреп-выборке и \n",
    "    # выдаем прогнозы для тестового набора\n",
    "    pred = tree.fit(X_boot, y_boot).predict(X_test)\n",
    "    # записываем прогнозы в массив all_pred\n",
    "    all_pred[i] = pred"
   ]
  },
  {
   "cell_type": "code",
   "execution_count": 25,
   "metadata": {},
   "outputs": [
    {
     "data": {
      "text/plain": [
       "array([[17, 89, 89],\n",
       "       [17, 22, 22],\n",
       "       [17, 89, 89]])"
      ]
     },
     "execution_count": 25,
     "metadata": {},
     "output_type": "execute_result"
    }
   ],
   "source": [
    "# смотрим массив с прогнозами\n",
    "all_pred"
   ]
  },
  {
   "cell_type": "code",
   "execution_count": 26,
   "metadata": {},
   "outputs": [
    {
     "data": {
      "text/plain": [
       "array([ 12.4,  96.9, 107.9])"
      ]
     },
     "execution_count": 26,
     "metadata": {},
     "output_type": "execute_result"
    }
   ],
   "source": [
    "# смотрим тестовый массив значений \n",
    "# зависимой переменной\n",
    "y_test"
   ]
  },
  {
   "cell_type": "code",
   "execution_count": 27,
   "metadata": {},
   "outputs": [
    {
     "data": {
      "text/plain": [
       "146.92666666666676"
      ]
     },
     "execution_count": 27,
     "metadata": {},
     "output_type": "execute_result"
    }
   ],
   "source": [
    "# вычислим среднеквадратичную ошибку по прогнозам,\n",
    "# полученным на первой итерации\n",
    "mse_first_iter = (((17 - 12.4)**2) + ((89 - 96.9)**2) + \n",
    "                  ((89 - 107.9)**2)) / 3\n",
    "mse_first_iter"
   ]
  },
  {
   "cell_type": "code",
   "execution_count": 28,
   "metadata": {},
   "outputs": [
    {
     "data": {
      "text/plain": [
       "array([ 146.92666667, 4336.66      ,  146.92666667])"
      ]
     },
     "execution_count": 28,
     "metadata": {},
     "output_type": "execute_result"
    }
   ],
   "source": [
    "# вычислим среднеквадратичные ошибки по прогнозам,\n",
    "# полученным на каждой итерации\n",
    "mse = np.apply_along_axis(\n",
    "    lambda x:\n",
    "    ((x - y_test)**2).mean(),\n",
    "    axis=1,\n",
    "    arr=all_pred)\n",
    "mse"
   ]
  },
  {
   "cell_type": "code",
   "execution_count": 29,
   "metadata": {},
   "outputs": [
    {
     "data": {
      "text/plain": [
       "1543.504444444445"
      ]
     },
     "execution_count": 29,
     "metadata": {},
     "output_type": "execute_result"
    }
   ],
   "source": [
    "# вычисляем усредненное ожидаемое значение функции потерь, \n",
    "# в нашем случае среднеквадратичную ошибку, усредненную по \n",
    "# среднеквадратичным ошибкам, полученным на каждой итерации\n",
    "avg_expected_loss = np.apply_along_axis(\n",
    "    lambda x:\n",
    "    ((x - y_test)**2).mean(),\n",
    "    axis=1,\n",
    "    arr=all_pred).mean()\n",
    "avg_expected_loss"
   ]
  },
  {
   "cell_type": "code",
   "execution_count": 30,
   "metadata": {},
   "outputs": [
    {
     "data": {
      "text/plain": [
       "array([17.        , 66.66666667, 66.66666667])"
      ]
     },
     "execution_count": 30,
     "metadata": {},
     "output_type": "execute_result"
    }
   ],
   "source": [
    "# вычисляем усредненный прогноз по каждому наблюдению \n",
    "# (берем среднее по оси 0 массива all_pred)\n",
    "main_predictions = np.mean(all_pred, axis=0)\n",
    "main_predictions"
   ]
  },
  {
   "cell_type": "code",
   "execution_count": 31,
   "metadata": {},
   "outputs": [
    {
     "data": {
      "text/plain": [
       "878.4674074074074"
      ]
     },
     "execution_count": 31,
     "metadata": {},
     "output_type": "execute_result"
    }
   ],
   "source": [
    "# вычисляем усредненное смещение, делим сумму квадратов разностей \n",
    "# между усредненными прогнозами и фактическими значениями \n",
    "# зависимой переменной в тестовом наборе на\n",
    "# количество наблюдений тестового набора\n",
    "avg_bias = np.sum((main_predictions - y_test)**2) / y_test.size\n",
    "avg_bias"
   ]
  },
  {
   "cell_type": "code",
   "execution_count": 32,
   "metadata": {},
   "outputs": [
    {
     "data": {
      "text/plain": [
       "665.037037037037"
      ]
     },
     "execution_count": 32,
     "metadata": {},
     "output_type": "execute_result"
    }
   ],
   "source": [
    "# вычисляем усредненную дисперсию, делим сумму квадратов разностей \n",
    "# между усредненными прогнозами и прогнозами для тестового набора\n",
    "# на количество прогнозов\n",
    "avg_var = np.sum((main_predictions - all_pred)**2) / all_pred.size\n",
    "avg_var"
   ]
  },
  {
   "cell_type": "code",
   "execution_count": 33,
   "metadata": {},
   "outputs": [
    {
     "name": "stdout",
     "output_type": "stream",
     "text": [
      "Усредненное ожидаемое значение функции потерь: 1543.504\n",
      "Усредненное смещение: 878.467\n",
      "Усредненная дисперсия: 665.037\n"
     ]
    }
   ],
   "source": [
    "# давайте проверим, совпадают ли результаты, вычисленные вручную, с \n",
    "# результатами, вычисленными с помощью функции bias_variance_decomp()\n",
    "\n",
    "# вычисляем усредненное ожидаемое значение функции потерь,\n",
    "# усредненное смещение, усредненную дисперсию\n",
    "avg_expected_loss, avg_bias, avg_var = bias_variance_decomp(\n",
    "    tree, X_train, y_train, X_test, y_test, num_rounds=3,\n",
    "    random_seed=123)\n",
    "\n",
    "# печатаем результаты\n",
    "print(ttl % avg_expected_loss)\n",
    "print(\"Усредненное смещение: %.3f\" % avg_bias)\n",
    "print(\"Усредненная дисперсия: %.3f\" % avg_var)"
   ]
  }
 ],
 "metadata": {
  "kernelspec": {
   "display_name": "Python 3 (ipykernel)",
   "language": "python",
   "name": "python3"
  },
  "language_info": {
   "codemirror_mode": {
    "name": "ipython",
    "version": 3
   },
   "file_extension": ".py",
   "mimetype": "text/x-python",
   "name": "python",
   "nbconvert_exporter": "python",
   "pygments_lexer": "ipython3",
   "version": "3.9.12"
  }
 },
 "nbformat": 4,
 "nbformat_minor": 2
}
