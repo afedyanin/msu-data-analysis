{
 "cells": [
  {
   "cell_type": "code",
   "execution_count": 1,
   "metadata": {},
   "outputs": [],
   "source": [
    "# импортируем необходимые библиотеки, функцию train_test_split()\n",
    "# и классы SimpleImputer, StandardScaler, OneHotEncoder, \n",
    "# ColumnTransformer, LogisticRegression, Pipeline\n",
    "import pandas as pd\n",
    "import numpy as np\n",
    "from sklearn.model_selection import train_test_split\n",
    "from sklearn.impute import SimpleImputer\n",
    "from sklearn.preprocessing import (StandardScaler, \n",
    "                                   OneHotEncoder)\n",
    "from sklearn.compose import ColumnTransformer\n",
    "from sklearn.linear_model import LogisticRegression\n",
    "from sklearn.pipeline import Pipeline"
   ]
  },
  {
   "cell_type": "code",
   "execution_count": 2,
   "metadata": {},
   "outputs": [
    {
     "data": {
      "text/html": [
       "<div>\n",
       "<style scoped>\n",
       "    .dataframe tbody tr th:only-of-type {\n",
       "        vertical-align: middle;\n",
       "    }\n",
       "\n",
       "    .dataframe tbody tr th {\n",
       "        vertical-align: top;\n",
       "    }\n",
       "\n",
       "    .dataframe thead th {\n",
       "        text-align: right;\n",
       "    }\n",
       "</style>\n",
       "<table border=\"1\" class=\"dataframe\">\n",
       "  <thead>\n",
       "    <tr style=\"text-align: right;\">\n",
       "      <th></th>\n",
       "      <th>Customer Lifetime Value</th>\n",
       "      <th>Coverage</th>\n",
       "      <th>Education</th>\n",
       "      <th>EmploymentStatus</th>\n",
       "      <th>Gender</th>\n",
       "      <th>Income</th>\n",
       "      <th>Monthly Premium Auto</th>\n",
       "      <th>Months Since Last Claim</th>\n",
       "      <th>Months Since Policy Inception</th>\n",
       "      <th>Number of Open Complaints</th>\n",
       "      <th>Number of Policies</th>\n",
       "      <th>Response</th>\n",
       "    </tr>\n",
       "  </thead>\n",
       "  <tbody>\n",
       "    <tr>\n",
       "      <th>0</th>\n",
       "      <td>2763.519279</td>\n",
       "      <td>Basic</td>\n",
       "      <td>Bachelor</td>\n",
       "      <td>Employed</td>\n",
       "      <td>F</td>\n",
       "      <td>56274.0</td>\n",
       "      <td>NaN</td>\n",
       "      <td>32.0</td>\n",
       "      <td>5.0</td>\n",
       "      <td>NaN</td>\n",
       "      <td>1.0</td>\n",
       "      <td>No</td>\n",
       "    </tr>\n",
       "    <tr>\n",
       "      <th>1</th>\n",
       "      <td>NaN</td>\n",
       "      <td>NaN</td>\n",
       "      <td>Bachelor</td>\n",
       "      <td>Unemployed</td>\n",
       "      <td>F</td>\n",
       "      <td>0.0</td>\n",
       "      <td>NaN</td>\n",
       "      <td>13.0</td>\n",
       "      <td>42.0</td>\n",
       "      <td>NaN</td>\n",
       "      <td>NaN</td>\n",
       "      <td>No</td>\n",
       "    </tr>\n",
       "    <tr>\n",
       "      <th>2</th>\n",
       "      <td>NaN</td>\n",
       "      <td>NaN</td>\n",
       "      <td>NaN</td>\n",
       "      <td>Employed</td>\n",
       "      <td>F</td>\n",
       "      <td>48767.0</td>\n",
       "      <td>108.0</td>\n",
       "      <td>NaN</td>\n",
       "      <td>38.0</td>\n",
       "      <td>0.0</td>\n",
       "      <td>NaN</td>\n",
       "      <td>No</td>\n",
       "    </tr>\n",
       "    <tr>\n",
       "      <th>3</th>\n",
       "      <td>7645.861827</td>\n",
       "      <td>Basic</td>\n",
       "      <td>Bachelor</td>\n",
       "      <td>NaN</td>\n",
       "      <td>NaN</td>\n",
       "      <td>0.0</td>\n",
       "      <td>106.0</td>\n",
       "      <td>18.0</td>\n",
       "      <td>NaN</td>\n",
       "      <td>NaN</td>\n",
       "      <td>7.0</td>\n",
       "      <td>No</td>\n",
       "    </tr>\n",
       "    <tr>\n",
       "      <th>4</th>\n",
       "      <td>2813.692575</td>\n",
       "      <td>Basic</td>\n",
       "      <td>Bachelor</td>\n",
       "      <td>NaN</td>\n",
       "      <td>M</td>\n",
       "      <td>43836.0</td>\n",
       "      <td>73.0</td>\n",
       "      <td>12.0</td>\n",
       "      <td>NaN</td>\n",
       "      <td>NaN</td>\n",
       "      <td>1.0</td>\n",
       "      <td>No</td>\n",
       "    </tr>\n",
       "  </tbody>\n",
       "</table>\n",
       "</div>"
      ],
      "text/plain": [
       "   Customer Lifetime Value Coverage Education EmploymentStatus Gender  \\\n",
       "0              2763.519279    Basic  Bachelor         Employed      F   \n",
       "1                      NaN      NaN  Bachelor       Unemployed      F   \n",
       "2                      NaN      NaN       NaN         Employed      F   \n",
       "3              7645.861827    Basic  Bachelor              NaN    NaN   \n",
       "4              2813.692575    Basic  Bachelor              NaN      M   \n",
       "\n",
       "    Income  Monthly Premium Auto  Months Since Last Claim  \\\n",
       "0  56274.0                   NaN                     32.0   \n",
       "1      0.0                   NaN                     13.0   \n",
       "2  48767.0                 108.0                      NaN   \n",
       "3      0.0                 106.0                     18.0   \n",
       "4  43836.0                  73.0                     12.0   \n",
       "\n",
       "   Months Since Policy Inception  Number of Open Complaints  \\\n",
       "0                            5.0                        NaN   \n",
       "1                           42.0                        NaN   \n",
       "2                           38.0                        0.0   \n",
       "3                            NaN                        NaN   \n",
       "4                            NaN                        NaN   \n",
       "\n",
       "   Number of Policies Response  \n",
       "0                 1.0       No  \n",
       "1                 NaN       No  \n",
       "2                 NaN       No  \n",
       "3                 7.0       No  \n",
       "4                 1.0       No  "
      ]
     },
     "execution_count": 2,
     "metadata": {},
     "output_type": "execute_result"
    }
   ],
   "source": [
    "# записываем CSV-файл в объект DataFrame\n",
    "data = pd.read_csv('Data/StateFarm_missing.csv', sep=';')\n",
    "data.head(5)"
   ]
  },
  {
   "cell_type": "code",
   "execution_count": 3,
   "metadata": {},
   "outputs": [
    {
     "name": "stdout",
     "output_type": "stream",
     "text": [
      "<class 'pandas.core.frame.DataFrame'>\n",
      "RangeIndex: 8293 entries, 0 to 8292\n",
      "Data columns (total 12 columns):\n",
      " #   Column                         Non-Null Count  Dtype  \n",
      "---  ------                         --------------  -----  \n",
      " 0   Customer Lifetime Value        8289 non-null   float64\n",
      " 1   Coverage                       8288 non-null   object \n",
      " 2   Education                      8290 non-null   object \n",
      " 3   EmploymentStatus               8288 non-null   object \n",
      " 4   Gender                         8289 non-null   object \n",
      " 5   Income                         8291 non-null   float64\n",
      " 6   Monthly Premium Auto           8282 non-null   float64\n",
      " 7   Months Since Last Claim        8288 non-null   float64\n",
      " 8   Months Since Policy Inception  8285 non-null   float64\n",
      " 9   Number of Open Complaints      8287 non-null   float64\n",
      " 10  Number of Policies             8288 non-null   float64\n",
      " 11  Response                       8293 non-null   object \n",
      "dtypes: float64(7), object(5)\n",
      "memory usage: 777.6+ KB\n"
     ]
    }
   ],
   "source": [
    "data.info()"
   ]
  },
  {
   "cell_type": "code",
   "execution_count": 4,
   "metadata": {},
   "outputs": [],
   "source": [
    "# разбиваем данные на обучающие и тестовые: получаем обучающий\n",
    "# массив признаков, тестовый массив признаков, обучающий массив\n",
    "# меток, тестовый массив меток\n",
    "X_train, X_test, y_train, y_test = train_test_split(\n",
    "    data.drop('Response', axis=1), \n",
    "    data['Response'], \n",
    "    test_size=0.3,\n",
    "    stratify=data['Response'],\n",
    "    random_state=42)"
   ]
  },
  {
   "cell_type": "code",
   "execution_count": 5,
   "metadata": {},
   "outputs": [],
   "source": [
    "# создаем списки категориальных \n",
    "# и количественных столбцов\n",
    "cat_columns = X_train.select_dtypes(\n",
    "    include='object').columns.tolist()\n",
    "num_columns = X_train.select_dtypes(\n",
    "    exclude='object').columns.tolist()"
   ]
  },
  {
   "cell_type": "code",
   "execution_count": 6,
   "metadata": {},
   "outputs": [],
   "source": [
    "# создаем конвейер для количественных переменных\n",
    "num_pipe = Pipeline([\n",
    "    ('imputer', SimpleImputer(strategy='median')),\n",
    "    ('scaler', StandardScaler())\n",
    "])\n",
    "\n",
    "# создаем конвейер для категориальных переменных\n",
    "cat_pipe = Pipeline([\n",
    "    ('imputer', SimpleImputer(strategy='most_frequent')),\n",
    "    ('ohe', OneHotEncoder(sparse=False, handle_unknown='ignore'))\n",
    "])"
   ]
  },
  {
   "cell_type": "code",
   "execution_count": 7,
   "metadata": {},
   "outputs": [],
   "source": [
    "# создаем список трехэлементных кортежей, в котором\n",
    "# первый элемент кортежа - название конвейера с\n",
    "# преобразованиями для определенного типа признаков\n",
    "transformers = [('num', num_pipe, num_columns),\n",
    "                ('cat', cat_pipe, cat_columns)]"
   ]
  },
  {
   "cell_type": "code",
   "execution_count": 8,
   "metadata": {},
   "outputs": [
    {
     "data": {
      "text/plain": [
       "ColumnTransformer(transformers=[('num',\n",
       "                                 Pipeline(steps=[('imputer',\n",
       "                                                  SimpleImputer(strategy='median')),\n",
       "                                                 ('scaler', StandardScaler())]),\n",
       "                                 ['Customer Lifetime Value', 'Income',\n",
       "                                  'Monthly Premium Auto',\n",
       "                                  'Months Since Last Claim',\n",
       "                                  'Months Since Policy Inception',\n",
       "                                  'Number of Open Complaints',\n",
       "                                  'Number of Policies']),\n",
       "                                ('cat',\n",
       "                                 Pipeline(steps=[('imputer',\n",
       "                                                  SimpleImputer(strategy='most_frequent')),\n",
       "                                                 ('ohe',\n",
       "                                                  OneHotEncoder(handle_unknown='ignore',\n",
       "                                                                sparse=False))]),\n",
       "                                 ['Coverage', 'Education', 'EmploymentStatus',\n",
       "                                  'Gender'])])"
      ]
     },
     "execution_count": 8,
     "metadata": {},
     "output_type": "execute_result"
    }
   ],
   "source": [
    "# передаем список трансформеров в ColumnTransformer\n",
    "transformer = ColumnTransformer(transformers=transformers)\n",
    "# смотрим порядок столбцов, заданный теперь ColumnTransformer\n",
    "transformer"
   ]
  },
  {
   "cell_type": "code",
   "execution_count": 9,
   "metadata": {},
   "outputs": [],
   "source": [
    "# задаем итоговый конвейер\n",
    "ml_pipe = Pipeline(\n",
    "    [('transform', transformer), \n",
    "     ('logreg', LogisticRegression(solver='lbfgs', \n",
    "                                   max_iter=200))])"
   ]
  },
  {
   "cell_type": "code",
   "execution_count": 10,
   "metadata": {},
   "outputs": [
    {
     "name": "stdout",
     "output_type": "stream",
     "text": [
      "Правильность на обучающей выборке: 0.900\n",
      "Правильность на тестовой выборке: 0.899\n"
     ]
    }
   ],
   "source": [
    "# обучаем итоговый конвейер\n",
    "ml_pipe.fit(X_train, y_train)\n",
    "# оцениваем качество конвейера на обучающих данных\n",
    "print(\"Правильность на обучающей выборке: {:.3f}\".format(\n",
    "    ml_pipe.score(X_train, y_train)))\n",
    "# оцениваем качество конвейера на тестовых данных\n",
    "print(\"Правильность на тестовой выборке: {:.3f}\".format(\n",
    "    ml_pipe.score(X_test, y_test)))"
   ]
  },
  {
   "cell_type": "code",
   "execution_count": 11,
   "metadata": {},
   "outputs": [
    {
     "data": {
      "text/plain": [
       "['Coverage_Basic',\n",
       " 'Coverage_Extended',\n",
       " 'Coverage_Premium',\n",
       " 'Education_Bachelor',\n",
       " 'Education_College',\n",
       " 'Education_Doctor',\n",
       " 'Education_High School or Below',\n",
       " 'Education_Master',\n",
       " 'EmploymentStatus_Disabled',\n",
       " 'EmploymentStatus_Employed',\n",
       " 'EmploymentStatus_Medical Leave',\n",
       " 'EmploymentStatus_Retired',\n",
       " 'EmploymentStatus_Unemployed',\n",
       " 'Gender_F',\n",
       " 'Gender_M']"
      ]
     },
     "execution_count": 11,
     "metadata": {},
     "output_type": "execute_result"
    }
   ],
   "source": [
    "# извлекаем дамми-переменные, созданные классом OneHotEncoder\n",
    "cat = ml_pipe.named_steps['transform'].named_transformers_['cat']\n",
    "onehot_columns = list(cat.named_steps['ohe'].get_feature_names_out(\n",
    "    input_features=cat_columns))\n",
    "onehot_columns"
   ]
  },
  {
   "cell_type": "code",
   "execution_count": 12,
   "metadata": {},
   "outputs": [
    {
     "data": {
      "text/plain": [
       "['Coverage_Basic',\n",
       " 'Coverage_Extended',\n",
       " 'Coverage_Premium',\n",
       " 'Education_Bachelor',\n",
       " 'Education_College',\n",
       " 'Education_Doctor',\n",
       " 'Education_High School or Below',\n",
       " 'Education_Master',\n",
       " 'EmploymentStatus_Disabled',\n",
       " 'EmploymentStatus_Employed',\n",
       " 'EmploymentStatus_Medical Leave',\n",
       " 'EmploymentStatus_Retired',\n",
       " 'EmploymentStatus_Unemployed',\n",
       " 'Gender_F',\n",
       " 'Gender_M']"
      ]
     },
     "execution_count": 12,
     "metadata": {},
     "output_type": "execute_result"
    }
   ],
   "source": [
    "# еще можно применить такой стиль\n",
    "cat = ml_pipe.named_steps.transform.named_transformers_.cat\n",
    "onehot_columns = list(cat.named_steps.ohe.get_feature_names_out(\n",
    "    input_features=cat_columns))\n",
    "onehot_columns"
   ]
  },
  {
   "cell_type": "code",
   "execution_count": 13,
   "metadata": {},
   "outputs": [
    {
     "data": {
      "text/plain": [
       "['Customer Lifetime Value',\n",
       " 'Income',\n",
       " 'Monthly Premium Auto',\n",
       " 'Months Since Last Claim',\n",
       " 'Months Since Policy Inception',\n",
       " 'Number of Open Complaints',\n",
       " 'Number of Policies',\n",
       " 'Coverage_Basic',\n",
       " 'Coverage_Extended',\n",
       " 'Coverage_Premium',\n",
       " 'Education_Bachelor',\n",
       " 'Education_College',\n",
       " 'Education_Doctor',\n",
       " 'Education_High School or Below',\n",
       " 'Education_Master',\n",
       " 'EmploymentStatus_Disabled',\n",
       " 'EmploymentStatus_Employed',\n",
       " 'EmploymentStatus_Medical Leave',\n",
       " 'EmploymentStatus_Retired',\n",
       " 'EmploymentStatus_Unemployed',\n",
       " 'Gender_F',\n",
       " 'Gender_M']"
      ]
     },
     "execution_count": 13,
     "metadata": {},
     "output_type": "execute_result"
    }
   ],
   "source": [
    "# добавляем в конец списка количественных переменных \n",
    "# дамми-переменные, созданные OneHotEncoder, т.е. \n",
    "# сохраняем тот же порядок столбцов, что задал \n",
    "# ColumnTransformer\n",
    "all_columns_lst = num_columns + onehot_columns\n",
    "all_columns_lst"
   ]
  },
  {
   "cell_type": "code",
   "execution_count": 14,
   "metadata": {},
   "outputs": [
    {
     "data": {
      "text/plain": [
       "-1.697"
      ]
     },
     "execution_count": 14,
     "metadata": {},
     "output_type": "execute_result"
    }
   ],
   "source": [
    "# извлекаем константу\n",
    "intercept = np.round(ml_pipe.named_steps['logreg'].intercept_[0], 3)\n",
    "intercept"
   ]
  },
  {
   "cell_type": "code",
   "execution_count": 15,
   "metadata": {},
   "outputs": [
    {
     "data": {
      "text/plain": [
       "array([[ 7.000e-03,  2.300e-02,  1.240e-01, -4.700e-02, -2.900e-02,\n",
       "        -4.000e-02, -5.900e-02, -3.600e-02,  1.290e-01, -9.400e-02,\n",
       "        -1.640e-01, -2.100e-02,  4.120e-01, -1.710e-01, -5.700e-02,\n",
       "         1.000e-03, -5.240e-01, -1.000e-01,  1.648e+00, -1.026e+00,\n",
       "        -7.000e-03,  6.000e-03]])"
      ]
     },
     "execution_count": 15,
     "metadata": {},
     "output_type": "execute_result"
    }
   ],
   "source": [
    "# извлекаем коэффициенты\n",
    "coef = np.round(ml_pipe.named_steps['logreg'].coef_, 3)\n",
    "coef"
   ]
  },
  {
   "cell_type": "code",
   "execution_count": 16,
   "metadata": {},
   "outputs": [
    {
     "name": "stdout",
     "output_type": "stream",
     "text": [
      "Константа: -1.697\n",
      "Регрессионные коэффициенты:\n",
      "Customer Lifetime Value 0.007\n",
      "Income 0.023\n",
      "Monthly Premium Auto 0.124\n",
      "Months Since Last Claim -0.047\n",
      "Months Since Policy Inception -0.029\n",
      "Number of Open Complaints -0.04\n",
      "Number of Policies -0.059\n",
      "Coverage_Basic -0.036\n",
      "Coverage_Extended 0.129\n",
      "Coverage_Premium -0.094\n",
      "Education_Bachelor -0.164\n",
      "Education_College -0.021\n",
      "Education_Doctor 0.412\n",
      "Education_High School or Below -0.171\n",
      "Education_Master -0.057\n",
      "EmploymentStatus_Disabled 0.001\n",
      "EmploymentStatus_Employed -0.524\n",
      "EmploymentStatus_Medical Leave -0.1\n",
      "EmploymentStatus_Retired 1.648\n",
      "EmploymentStatus_Unemployed -1.026\n",
      "Gender_F -0.007\n",
      "Gender_M 0.006\n"
     ]
    }
   ],
   "source": [
    "# печатаем название \"Константа\"    \n",
    "print(\"Константа:\", intercept)\n",
    "# печатаем название \"Регрессионные коэффициенты\"\n",
    "print(\"Регрессионные коэффициенты:\")\n",
    "# для удобства сопоставим каждому названию \n",
    "# предиктора соответствующий коэффициент\n",
    "for c, feature in zip(coef[0], all_columns_lst):\n",
    "    print(feature, c)"
   ]
  },
  {
   "cell_type": "code",
   "execution_count": 17,
   "metadata": {},
   "outputs": [],
   "source": [
    "# импортируем функции make_pipeline() и make_column_transformer(), \n",
    "# класс make_column_selector \n",
    "from sklearn.compose import (make_column_transformer, \n",
    "                             make_column_selector)\n",
    "from sklearn.pipeline import make_pipeline"
   ]
  },
  {
   "cell_type": "code",
   "execution_count": 18,
   "metadata": {},
   "outputs": [
    {
     "data": {
      "text/plain": [
       "ColumnTransformer(transformers=[('pipeline-1',\n",
       "                                 Pipeline(steps=[('simpleimputer',\n",
       "                                                  SimpleImputer(strategy='median')),\n",
       "                                                 ('standardscaler',\n",
       "                                                  StandardScaler())]),\n",
       "                                 <sklearn.compose._column_transformer.make_column_selector object at 0x7ffb180d8b80>),\n",
       "                                ('pipeline-2',\n",
       "                                 Pipeline(steps=[('simpleimputer',\n",
       "                                                  SimpleImputer(strategy='most_frequent')),\n",
       "                                                 ('onehotencoder',\n",
       "                                                  OneHotEncoder())]),\n",
       "                                 <sklearn.compose._column_transformer.make_column_selector object at 0x7ffb180d87f0>)])"
      ]
     },
     "execution_count": 18,
     "metadata": {},
     "output_type": "execute_result"
    }
   ],
   "source": [
    "# автоматически создаем экземпляр класса ColumnTransformer,\n",
    "# при этом автоматически создав трансформеры и списки\n",
    "# признаков\n",
    "column_transformer_quick = make_column_transformer(\n",
    "    (make_pipeline(SimpleImputer(strategy='median'), \n",
    "                   StandardScaler()),\n",
    "     make_column_selector(dtype_include=np.number)),  \n",
    "    (make_pipeline(SimpleImputer(strategy='most_frequent'), \n",
    "                   OneHotEncoder()),\n",
    "     make_column_selector(dtype_include=object)))\n",
    "column_transformer_quick"
   ]
  },
  {
   "cell_type": "code",
   "execution_count": 19,
   "metadata": {},
   "outputs": [
    {
     "data": {
      "text/plain": [
       "Pipeline(steps=[('columntransformer',\n",
       "                 ColumnTransformer(transformers=[('pipeline-1',\n",
       "                                                  Pipeline(steps=[('simpleimputer',\n",
       "                                                                   SimpleImputer(strategy='median')),\n",
       "                                                                  ('standardscaler',\n",
       "                                                                   StandardScaler())]),\n",
       "                                                  <sklearn.compose._column_transformer.make_column_selector object at 0x7ffb180d8b80>),\n",
       "                                                 ('pipeline-2',\n",
       "                                                  Pipeline(steps=[('simpleimputer',\n",
       "                                                                   SimpleImputer(strategy='most_frequent')),\n",
       "                                                                  ('onehotencoder',\n",
       "                                                                   OneHotEncoder())]),\n",
       "                                                  <sklearn.compose._column_transformer.make_column_selector object at 0x7ffb180d87f0>)])),\n",
       "                ('logisticregression', LogisticRegression(max_iter=200))])"
      ]
     },
     "execution_count": 19,
     "metadata": {},
     "output_type": "execute_result"
    }
   ],
   "source": [
    "# автоматически создаем итоговый конвейер\n",
    "pipe_quick = make_pipeline(\n",
    "    column_transformer_quick, \n",
    "    LogisticRegression(solver='lbfgs', max_iter=200))\n",
    "pipe_quick "
   ]
  },
  {
   "cell_type": "code",
   "execution_count": 20,
   "metadata": {},
   "outputs": [
    {
     "name": "stdout",
     "output_type": "stream",
     "text": [
      "Правильность на обучающей выборке: 0.900\n",
      "Правильность на тестовой выборке: 0.899\n"
     ]
    }
   ],
   "source": [
    "# обучаем итоговый конвейер\n",
    "pipe_quick.fit(X_train, y_train)\n",
    "# оцениваем качество конвейера на обучающих данных\n",
    "print(\"Правильность на обучающей выборке: {:.3f}\".format(\n",
    "    pipe_quick.score(X_train, y_train)))\n",
    "# оцениваем качество конвейера на тестовых данных\n",
    "print(\"Правильность на тестовой выборке: {:.3f}\".format(\n",
    "    pipe_quick.score(X_test, y_test)))"
   ]
  },
  {
   "cell_type": "code",
   "execution_count": 21,
   "metadata": {},
   "outputs": [
    {
     "data": {
      "text/plain": [
       "['Coverage_Basic',\n",
       " 'Coverage_Extended',\n",
       " 'Coverage_Premium',\n",
       " 'Education_Bachelor',\n",
       " 'Education_College',\n",
       " 'Education_Doctor',\n",
       " 'Education_High School or Below',\n",
       " 'Education_Master',\n",
       " 'EmploymentStatus_Disabled',\n",
       " 'EmploymentStatus_Employed',\n",
       " 'EmploymentStatus_Medical Leave',\n",
       " 'EmploymentStatus_Retired',\n",
       " 'EmploymentStatus_Unemployed',\n",
       " 'Gender_F',\n",
       " 'Gender_M']"
      ]
     },
     "execution_count": 21,
     "metadata": {},
     "output_type": "execute_result"
    }
   ],
   "source": [
    "# извлекаем дамми-переменные, \n",
    "# созданные классом OneHotEncoder\n",
    "cat = pipe_quick.named_steps['columntransformer']\\\n",
    "                .named_transformers_['pipeline-2']\n",
    "onehot_columns = list(cat.named_steps['onehotencoder'].get_feature_names_out(\n",
    "    input_features=cat_columns))\n",
    "onehot_columns"
   ]
  },
  {
   "cell_type": "code",
   "execution_count": 22,
   "metadata": {},
   "outputs": [
    {
     "data": {
      "text/plain": [
       "['Customer Lifetime Value',\n",
       " 'Income',\n",
       " 'Monthly Premium Auto',\n",
       " 'Months Since Last Claim',\n",
       " 'Months Since Policy Inception',\n",
       " 'Number of Open Complaints',\n",
       " 'Number of Policies',\n",
       " 'Coverage_Basic',\n",
       " 'Coverage_Extended',\n",
       " 'Coverage_Premium',\n",
       " 'Education_Bachelor',\n",
       " 'Education_College',\n",
       " 'Education_Doctor',\n",
       " 'Education_High School or Below',\n",
       " 'Education_Master',\n",
       " 'EmploymentStatus_Disabled',\n",
       " 'EmploymentStatus_Employed',\n",
       " 'EmploymentStatus_Medical Leave',\n",
       " 'EmploymentStatus_Retired',\n",
       " 'EmploymentStatus_Unemployed',\n",
       " 'Gender_F',\n",
       " 'Gender_M']"
      ]
     },
     "execution_count": 22,
     "metadata": {},
     "output_type": "execute_result"
    }
   ],
   "source": [
    "# добавляем в конец списка количественных переменных \n",
    "# дамми-переменные, созданные OneHotEncoder, т.е. \n",
    "# сохраняем тот же порядок столбцов, что задал \n",
    "# ColumnTransformer\n",
    "all_columns_lst = num_columns + onehot_columns\n",
    "all_columns_lst"
   ]
  },
  {
   "cell_type": "code",
   "execution_count": 23,
   "metadata": {},
   "outputs": [],
   "source": [
    "# извлекаем константу\n",
    "logreg_step = pipe_quick.named_steps['logisticregression']\n",
    "intercept = np.round(logreg_step.intercept_[0], 3)\n",
    "# извлекаем коэффициенты\n",
    "coef = np.round(logreg_step.coef_, 3)"
   ]
  },
  {
   "cell_type": "code",
   "execution_count": 24,
   "metadata": {},
   "outputs": [
    {
     "name": "stdout",
     "output_type": "stream",
     "text": [
      "Константа: -1.697\n",
      "Регрессионные коэффициенты:\n",
      "Customer Lifetime Value 0.007\n",
      "Income 0.023\n",
      "Monthly Premium Auto 0.124\n",
      "Months Since Last Claim -0.047\n",
      "Months Since Policy Inception -0.029\n",
      "Number of Open Complaints -0.04\n",
      "Number of Policies -0.059\n",
      "Coverage_Basic -0.036\n",
      "Coverage_Extended 0.129\n",
      "Coverage_Premium -0.094\n",
      "Education_Bachelor -0.164\n",
      "Education_College -0.021\n",
      "Education_Doctor 0.412\n",
      "Education_High School or Below -0.171\n",
      "Education_Master -0.057\n",
      "EmploymentStatus_Disabled 0.001\n",
      "EmploymentStatus_Employed -0.524\n",
      "EmploymentStatus_Medical Leave -0.1\n",
      "EmploymentStatus_Retired 1.648\n",
      "EmploymentStatus_Unemployed -1.026\n",
      "Gender_F -0.007\n",
      "Gender_M 0.006\n"
     ]
    }
   ],
   "source": [
    "# печатаем название \"Константа\"    \n",
    "print(\"Константа:\", intercept)\n",
    "# печатаем название \"Регрессионные коэффициенты\"\n",
    "print(\"Регрессионные коэффициенты:\")\n",
    "# для удобства сопоставим каждому названию \n",
    "# предиктора соответствующий коэффициент\n",
    "for c, feature in zip(coef[0], all_columns_lst):\n",
    "    print(feature, c)"
   ]
  },
  {
   "cell_type": "code",
   "execution_count": 25,
   "metadata": {},
   "outputs": [
    {
     "data": {
      "text/plain": [
       "Customer Lifetime Value          False\n",
       "Coverage                          True\n",
       "Education                         True\n",
       "EmploymentStatus                  True\n",
       "Gender                            True\n",
       "Income                           False\n",
       "Monthly Premium Auto             False\n",
       "Months Since Last Claim          False\n",
       "Months Since Policy Inception    False\n",
       "Number of Open Complaints        False\n",
       "Number of Policies               False\n",
       "dtype: bool"
      ]
     },
     "execution_count": 25,
     "metadata": {},
     "output_type": "execute_result"
    }
   ],
   "source": [
    "# создаем массив булевых значений\n",
    "categorical = X_train.dtypes == object\n",
    "categorical"
   ]
  },
  {
   "cell_type": "code",
   "execution_count": 26,
   "metadata": {},
   "outputs": [],
   "source": [
    "# создаем список трехэлементных кортежей, в котором\n",
    "# первый элемент кортежа - название конвейера с\n",
    "# преобразованиями для определенного типа признаков\n",
    "transformers = [('num', num_pipe, ~categorical),\n",
    "                ('cat', cat_pipe, categorical)]"
   ]
  },
  {
   "cell_type": "code",
   "execution_count": 27,
   "metadata": {},
   "outputs": [
    {
     "name": "stdout",
     "output_type": "stream",
     "text": [
      "Правильность на обучающей выборке: 0.900\n",
      "Правильность на тестовой выборке: 0.899\n"
     ]
    }
   ],
   "source": [
    "# передаем список трансформеров в ColumnTransformer\n",
    "transformer = ColumnTransformer(transformers=transformers)\n",
    "\n",
    "# задаем итоговый конвейер\n",
    "ml_pipe = Pipeline(\n",
    "    [('transform', transformer), \n",
    "     ('logreg', LogisticRegression(solver='lbfgs', \n",
    "                                   max_iter=200))])\n",
    "# обучаем итоговый конвейер\n",
    "ml_pipe.fit(X_train, y_train)\n",
    "# оцениваем качество конвейера на обучающих данных\n",
    "print(\"Правильность на обучающей выборке: {:.3f}\".format(\n",
    "    ml_pipe.score(X_train, y_train)))\n",
    "# оцениваем качество конвейера на тестовых данных\n",
    "print(\"Правильность на тестовой выборке: {:.3f}\".format(\n",
    "    ml_pipe.score(X_test, y_test)))"
   ]
  },
  {
   "cell_type": "code",
   "execution_count": 28,
   "metadata": {},
   "outputs": [
    {
     "name": "stdout",
     "output_type": "stream",
     "text": [
      "Константа: -1.697\n",
      "Регрессионные коэффициенты:\n",
      "Customer Lifetime Value 0.007\n",
      "Income 0.023\n",
      "Monthly Premium Auto 0.124\n",
      "Months Since Last Claim -0.047\n",
      "Months Since Policy Inception -0.029\n",
      "Number of Open Complaints -0.04\n",
      "Number of Policies -0.059\n",
      "Coverage_Basic -0.036\n",
      "Coverage_Extended 0.129\n",
      "Coverage_Premium -0.094\n",
      "Education_Bachelor -0.164\n",
      "Education_College -0.021\n",
      "Education_Doctor 0.412\n",
      "Education_High School or Below -0.171\n",
      "Education_Master -0.057\n",
      "EmploymentStatus_Disabled 0.001\n",
      "EmploymentStatus_Employed -0.524\n",
      "EmploymentStatus_Medical Leave -0.1\n",
      "EmploymentStatus_Retired 1.648\n",
      "EmploymentStatus_Unemployed -1.026\n",
      "Gender_F -0.007\n",
      "Gender_M 0.006\n"
     ]
    }
   ],
   "source": [
    "# извлекаем дамми-переменные, созданные классом OneHotEncoder\n",
    "cat = ml_pipe.named_steps['transform'].named_transformers_['cat']\n",
    "onehot_cols = list(cat.named_steps['ohe'].get_feature_names_out(\n",
    "    input_features=X_train.loc[:, categorical].columns))\n",
    "num_cols = X_train.loc[:, ~categorical].columns.tolist()\n",
    "\n",
    "# добавляем в конец списка количественных переменных \n",
    "# дамми-переменные, созданные OneHotEncoder, т.е. \n",
    "# сохраняем тот же порядок столбцов, что задал \n",
    "# ColumnTransformer\n",
    "all_cols_lst = num_cols + onehot_cols\n",
    "\n",
    "# извлекаем константу\n",
    "lr_step = ml_pipe.named_steps['logreg']\n",
    "intercept = np.round(lr_step.intercept_[0], 3)\n",
    "# извлекаем коэффициенты\n",
    "coef = np.round(lr_step.coef_, 3)\n",
    "\n",
    "# печатаем название \"Константа\"    \n",
    "print(\"Константа:\", intercept)\n",
    "# печатаем название \"Регрессионные коэффициенты\"\n",
    "print(\"Регрессионные коэффициенты:\")\n",
    "# для удобства сопоставим каждому названию \n",
    "# предиктора соответствующий коэффициент\n",
    "for c, feature in zip(coef[0], all_cols_lst):\n",
    "    print(feature, c)"
   ]
  },
  {
   "cell_type": "code",
   "execution_count": null,
   "metadata": {},
   "outputs": [],
   "source": []
  }
 ],
 "metadata": {
  "kernelspec": {
   "display_name": "Python 3 (ipykernel)",
   "language": "python",
   "name": "python3"
  },
  "language_info": {
   "codemirror_mode": {
    "name": "ipython",
    "version": 3
   },
   "file_extension": ".py",
   "mimetype": "text/x-python",
   "name": "python",
   "nbconvert_exporter": "python",
   "pygments_lexer": "ipython3",
   "version": "3.9.12"
  }
 },
 "nbformat": 4,
 "nbformat_minor": 2
}
