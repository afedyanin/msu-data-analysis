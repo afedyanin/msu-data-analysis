{
 "cells": [
  {
   "cell_type": "code",
   "execution_count": 1,
   "metadata": {},
   "outputs": [
    {
     "name": "stdout",
     "output_type": "stream",
     "text": [
      "theta 2.000000 function value= 9.000000 derivative= -6.000000\n",
      "theta 3.200000 function value= 3.240000 derivative= -3.600000\n",
      "theta 3.920000 function value= 1.166400 derivative= -2.160000\n",
      "theta 4.352000 function value= 0.419904 derivative= -1.296000\n",
      "theta 4.611200 function value= 0.151165 derivative= -0.777600\n",
      "theta 4.766720 function value= 0.054420 derivative= -0.466560\n",
      "theta 4.860032 function value= 0.019591 derivative= -0.279936\n",
      "theta 4.916019 function value= 0.007053 derivative= -0.167962\n",
      "theta 4.949612 function value= 0.002539 derivative= -0.100777\n",
      "theta 4.969767 function value= 0.000914 derivative= -0.060466\n",
      "theta 4.981860 function value= 0.000329 derivative= -0.036280\n",
      "theta 4.989116 function value= 0.000118 derivative= -0.021768\n",
      "theta 4.993470 function value= 0.000043 derivative= -0.013061\n",
      "theta 4.996082 function value= 0.000015 derivative= -0.007836\n",
      "theta 4.997649 function value= 0.000006 derivative= -0.004702\n",
      "theta 4.998589 function value= 0.000002 derivative= -0.002821\n",
      "theta 4.999154 function value= 0.000001 derivative= -0.001693\n",
      "theta 4.999492 function value= 0.000000 derivative= -0.001016\n",
      "theta 4.999695 function value= 0.000000 derivative= -0.000609\n",
      "theta 4.999817 function value= 0.000000 derivative= -0.000366\n"
     ]
    }
   ],
   "source": [
    "n_iter = 20 # количество итераций\n",
    "learning_rate = 0.2  # скорость обучения\n",
    "\n",
    "def func(x):\n",
    "    return (x - 5) ** 2\n",
    "\n",
    "def func_derivative(x):\n",
    "    return 2 * (x - 5)\n",
    "\n",
    "previous_x, current_x = 0, 0\n",
    "\n",
    "for i in range(n_iter):\n",
    "    current_x = previous_x - learning_rate * func_derivative(previous_x)\n",
    "    previous_x = current_x\n",
    "    print(\"theta\", format(current_x, \".6f\"), \n",
    "          \"function value=\", format(func(current_x), \".6f\"),\n",
    "          \"derivative=\", format(func_derivative(current_x), \".6f\"))"
   ]
  }
 ],
 "metadata": {
  "kernelspec": {
   "display_name": "Python 3 (ipykernel)",
   "language": "python",
   "name": "python3"
  },
  "language_info": {
   "codemirror_mode": {
    "name": "ipython",
    "version": 3
   },
   "file_extension": ".py",
   "mimetype": "text/x-python",
   "name": "python",
   "nbconvert_exporter": "python",
   "pygments_lexer": "ipython3",
   "version": "3.9.12"
  }
 },
 "nbformat": 4,
 "nbformat_minor": 2
}
