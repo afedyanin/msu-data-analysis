{
 "cells": [
  {
   "cell_type": "markdown",
   "metadata": {},
   "source": [
    "### Вопрос 1\n",
    "### Расскажите об операторах принадлежности in и not in."
   ]
  },
  {
   "cell_type": "markdown",
   "metadata": {},
   "source": [
    "#### Они используются для проверки того, найдено ли значение или переменная в последовательности (строка, список, кортеж, множество и словарь)."
   ]
  },
  {
   "cell_type": "code",
   "execution_count": 1,
   "metadata": {
    "scrolled": true
   },
   "outputs": [],
   "source": [
    "import numpy as np\n",
    "a = np.array([1, 2, 3])"
   ]
  },
  {
   "cell_type": "code",
   "execution_count": 2,
   "metadata": {},
   "outputs": [
    {
     "data": {
      "text/plain": [
       "True"
      ]
     },
     "execution_count": 2,
     "metadata": {},
     "output_type": "execute_result"
    }
   ],
   "source": [
    "1 in a"
   ]
  },
  {
   "cell_type": "code",
   "execution_count": 3,
   "metadata": {},
   "outputs": [
    {
     "data": {
      "text/plain": [
       "True"
      ]
     },
     "execution_count": 3,
     "metadata": {},
     "output_type": "execute_result"
    }
   ],
   "source": [
    "5 not in a"
   ]
  },
  {
   "cell_type": "markdown",
   "metadata": {},
   "source": [
    "### Вопрос 2\n",
    "### Расскажите про операторы тождественности is и is not."
   ]
  },
  {
   "cell_type": "markdown",
   "metadata": {},
   "source": [
    "#### Они используются для проверки того, занимают ли два значения (или переменные) одну и ту же позицию памяти. Две равные переменные не означают, что они идентичны."
   ]
  },
  {
   "cell_type": "code",
   "execution_count": 4,
   "metadata": {},
   "outputs": [
    {
     "data": {
      "text/plain": [
       "False"
      ]
     },
     "execution_count": 4,
     "metadata": {},
     "output_type": "execute_result"
    }
   ],
   "source": [
    "True is False"
   ]
  },
  {
   "cell_type": "code",
   "execution_count": 5,
   "metadata": {},
   "outputs": [
    {
     "data": {
      "text/plain": [
       "True"
      ]
     },
     "execution_count": 5,
     "metadata": {},
     "output_type": "execute_result"
    }
   ],
   "source": [
    "True is not False"
   ]
  },
  {
   "cell_type": "markdown",
   "metadata": {},
   "source": [
    "### Вопрос 3\n",
    "### Дано a = [1, 2, 3] и b = [1, 2, 3], \n",
    "### какое значение получим, применив оператор a == b?\n",
    "### какое значение получим, применив оператор a is b?"
   ]
  },
  {
   "cell_type": "markdown",
   "metadata": {},
   "source": [
    "#### В первом случае получили True, во втором случае – False. Списки равны, но не идентичны. Это потому, что интерпретатор размещает их в отдельных участках памяти, хотя они равны."
   ]
  },
  {
   "cell_type": "code",
   "execution_count": 6,
   "metadata": {},
   "outputs": [],
   "source": [
    "a = [1, 2, 3]\n",
    "b = [1, 2, 3]"
   ]
  },
  {
   "cell_type": "code",
   "execution_count": 7,
   "metadata": {},
   "outputs": [
    {
     "data": {
      "text/plain": [
       "True"
      ]
     },
     "execution_count": 7,
     "metadata": {},
     "output_type": "execute_result"
    }
   ],
   "source": [
    "a == b"
   ]
  },
  {
   "cell_type": "code",
   "execution_count": 8,
   "metadata": {},
   "outputs": [
    {
     "data": {
      "text/plain": [
       "False"
      ]
     },
     "execution_count": 8,
     "metadata": {},
     "output_type": "execute_result"
    }
   ],
   "source": [
    "a is b"
   ]
  },
  {
   "cell_type": "code",
   "execution_count": 9,
   "metadata": {},
   "outputs": [
    {
     "name": "stdout",
     "output_type": "stream",
     "text": [
      "140647040535552\n",
      "140647040534848\n"
     ]
    }
   ],
   "source": [
    "print(id(a))\n",
    "print(id(b))"
   ]
  },
  {
   "cell_type": "markdown",
   "metadata": {},
   "source": [
    "### Вопрос 4\n",
    "### Какое значение получим, применив оператор a is b:\n",
    "### если a = 123 и b = 123;\n",
    "### если a = 'hello' и b = 'hello'."
   ]
  },
  {
   "cell_type": "code",
   "execution_count": 10,
   "metadata": {},
   "outputs": [
    {
     "data": {
      "text/plain": [
       "True"
      ]
     },
     "execution_count": 10,
     "metadata": {},
     "output_type": "execute_result"
    }
   ],
   "source": [
    "a = 123\n",
    "b = 123\n",
    "a is b"
   ]
  },
  {
   "cell_type": "code",
   "execution_count": 11,
   "metadata": {},
   "outputs": [
    {
     "data": {
      "text/plain": [
       "True"
      ]
     },
     "execution_count": 11,
     "metadata": {},
     "output_type": "execute_result"
    }
   ],
   "source": [
    "a = 'hello'\n",
    "b = 'hello'\n",
    "a is b"
   ]
  },
  {
   "cell_type": "markdown",
   "metadata": {},
   "source": [
    "#### В обоих случаях получим значение True. Этот эффект обусловлен тем, что Python в целях производительности кэширует короткие строки и малые целые числа (от -5 до 256). Если взять числа побольше, числа с плавающей точкой, строки подлиннее, то этот эффект пропадает. Убедимся в этом."
   ]
  },
  {
   "cell_type": "code",
   "execution_count": 12,
   "metadata": {},
   "outputs": [
    {
     "data": {
      "text/plain": [
       "False"
      ]
     },
     "execution_count": 12,
     "metadata": {},
     "output_type": "execute_result"
    }
   ],
   "source": [
    "a = 100500\n",
    "b = 100500\n",
    "a is b"
   ]
  },
  {
   "cell_type": "code",
   "execution_count": 13,
   "metadata": {},
   "outputs": [
    {
     "data": {
      "text/plain": [
       "False"
      ]
     },
     "execution_count": 13,
     "metadata": {},
     "output_type": "execute_result"
    }
   ],
   "source": [
    "a = 27.8\n",
    "b = 27.8\n",
    "a is b"
   ]
  },
  {
   "cell_type": "code",
   "execution_count": 14,
   "metadata": {},
   "outputs": [
    {
     "data": {
      "text/plain": [
       "False"
      ]
     },
     "execution_count": 14,
     "metadata": {},
     "output_type": "execute_result"
    }
   ],
   "source": [
    "a = 'hello world'\n",
    "b = 'hello world'\n",
    "a is b"
   ]
  },
  {
   "cell_type": "markdown",
   "metadata": {},
   "source": [
    "### Вопрос 5\n",
    "### Преобразуйте список ```['one', 'two', 'three', 'four']``` в строку."
   ]
  },
  {
   "cell_type": "markdown",
   "metadata": {},
   "source": [
    "#### Воспользуемся методом .join(), который возвращает строку, собранную из элементов указанного объекта, поддерживающего итерирование."
   ]
  },
  {
   "cell_type": "code",
   "execution_count": 15,
   "metadata": {},
   "outputs": [
    {
     "data": {
      "text/plain": [
       "'one two three four'"
      ]
     },
     "execution_count": 15,
     "metadata": {},
     "output_type": "execute_result"
    }
   ],
   "source": [
    "lst = ['one', 'two', 'three', 'four']\n",
    "s=' '.join(lst)\n",
    "s"
   ]
  },
  {
   "cell_type": "markdown",
   "metadata": {},
   "source": [
    "### Вопрос 6\n",
    "### У нас есть список менеджеров и по каждому менеджеру известен результат его работы – объем продаж, нужно получить реестр вида\n",
    "```\n",
    "Petrov 200000 \n",
    "Sidorov 100000 \n",
    "Ivanov 50000\n",
    "```"
   ]
  },
  {
   "cell_type": "markdown",
   "metadata": {},
   "source": [
    "#### «Сшиваем» два списка – список с фамилиями менеджеров и список с суммами продаж с помощью функции zip()."
   ]
  },
  {
   "cell_type": "code",
   "execution_count": 16,
   "metadata": {},
   "outputs": [
    {
     "name": "stdout",
     "output_type": "stream",
     "text": [
      "Petrov 200000\n",
      "Sidorov 100000\n",
      "Ivanov 50000\n"
     ]
    }
   ],
   "source": [
    "members = ['Petrov', 'Sidorov', 'Ivanov']\n",
    "sales = [200000, 100000, 50000]\n",
    "for i, j in zip(members, sales):\n",
    "    print(i, j)"
   ]
  },
  {
   "cell_type": "markdown",
   "metadata": {},
   "source": [
    "### Вопрос 7\n",
    "### Как в Python узнать, в каком каталоге мы сейчас находимся?"
   ]
  },
  {
   "cell_type": "markdown",
   "metadata": {},
   "source": [
    "#### Необходимо воспользоваться методом getcwd() модуля os."
   ]
  },
  {
   "cell_type": "code",
   "execution_count": 17,
   "metadata": {},
   "outputs": [
    {
     "data": {
      "text/plain": [
       "'/Users/artemgruzdev/Documents/Subscription/Subscription_Code'"
      ]
     },
     "execution_count": 17,
     "metadata": {},
     "output_type": "execute_result"
    }
   ],
   "source": [
    "import os\n",
    "os.getcwd()"
   ]
  },
  {
   "cell_type": "markdown",
   "metadata": {},
   "source": [
    "### Вопрос 8\n",
    "### Создайте список ```[1, 3, 5, 7, 9]``` с помощью генератора списков (нужно воспользоваться одной строкой программного кода)."
   ]
  },
  {
   "cell_type": "code",
   "execution_count": 18,
   "metadata": {},
   "outputs": [
    {
     "data": {
      "text/plain": [
       "[1, 3, 5, 7, 9]"
      ]
     },
     "execution_count": 18,
     "metadata": {},
     "output_type": "execute_result"
    }
   ],
   "source": [
    "[i for i in range(1, 10, 2)]"
   ]
  },
  {
   "cell_type": "markdown",
   "metadata": {},
   "source": [
    "### Вопрос 9 \n",
    "### Обратите порядок элементов в списке ```[1, 3, 5, 7, 9]```."
   ]
  },
  {
   "cell_type": "code",
   "execution_count": 19,
   "metadata": {},
   "outputs": [
    {
     "data": {
      "text/plain": [
       "[9, 7, 5, 3, 1]"
      ]
     },
     "execution_count": 19,
     "metadata": {},
     "output_type": "execute_result"
    }
   ],
   "source": [
    "a = [1, 3, 5, 7, 9]\n",
    "a.reverse()\n",
    "a"
   ]
  },
  {
   "cell_type": "markdown",
   "metadata": {},
   "source": [
    "### Вопрос 10\n",
    "### У нас есть список под названием a вида ```[9, 7, 5, 3, 1]```, какой элемент вернет программный код ```a[-2]```?"
   ]
  },
  {
   "cell_type": "code",
   "execution_count": 20,
   "metadata": {},
   "outputs": [
    {
     "data": {
      "text/plain": [
       "3"
      ]
     },
     "execution_count": 20,
     "metadata": {},
     "output_type": "execute_result"
    }
   ],
   "source": [
    "a = [9, 7, 5, 3, 1]\n",
    "a[-2]"
   ]
  },
  {
   "cell_type": "markdown",
   "metadata": {},
   "source": [
    "### Вопрос 11\n",
    "### У нас есть два списка ```['Petrov', 'Sidorov', 'Ivanov']``` и ```[200000, 100000, 50000]```. Нужно превратить их в словарь вида \n",
    "``` \n",
    "{'Petrov': 200000, 'Sidorov': 100000, 'Ivanov': 50000} \n",
    "```."
   ]
  },
  {
   "cell_type": "markdown",
   "metadata": {},
   "source": [
    "#### С помощью функций dict() и zip() создаем из двух списков словарь."
   ]
  },
  {
   "cell_type": "code",
   "execution_count": 21,
   "metadata": {},
   "outputs": [
    {
     "data": {
      "text/plain": [
       "{'Petrov': 200000, 'Sidorov': 100000, 'Ivanov': 50000}"
      ]
     },
     "execution_count": 21,
     "metadata": {},
     "output_type": "execute_result"
    }
   ],
   "source": [
    "dictionary = dict(zip(members, sales))\n",
    "dictionary"
   ]
  },
  {
   "cell_type": "markdown",
   "metadata": {},
   "source": [
    "### Вопрос 12\n",
    "### Как убрать дубликаты из списка ```[1, 2, 1, 3, 4, 2]```."
   ]
  },
  {
   "cell_type": "markdown",
   "metadata": {},
   "source": [
    "#### Воспользуемся функцией set(), чтобы превратить список в множество, вспомним, что множество – это коллекция, содержащая только уникальные значения."
   ]
  },
  {
   "cell_type": "code",
   "execution_count": 22,
   "metadata": {},
   "outputs": [
    {
     "data": {
      "text/plain": [
       "{1, 2, 3, 4}"
      ]
     },
     "execution_count": 22,
     "metadata": {},
     "output_type": "execute_result"
    }
   ],
   "source": [
    "lst = [1, 2, 1, 3, 4, 2]\n",
    "set(lst)"
   ]
  },
  {
   "cell_type": "markdown",
   "metadata": {},
   "source": [
    "### Вопрос 13\n",
    "### Как работает отрицательный индекс?"
   ]
  },
  {
   "cell_type": "code",
   "execution_count": 23,
   "metadata": {},
   "outputs": [
    {
     "data": {
      "text/plain": [
       "6"
      ]
     },
     "execution_count": 23,
     "metadata": {},
     "output_type": "execute_result"
    }
   ],
   "source": [
    "mylist = [0, 1, 2, 3, 4, 5 , 6, 7, 8]\n",
    "mylist[-3]"
   ]
  },
  {
   "cell_type": "markdown",
   "metadata": {},
   "source": [
    "### Вопрос 14\n",
    "### Необходимо получить индекс по каждому элементу списка ```['Petrov', 'Ivanov', 'Sidorov']``` в следующем виде:\n",
    "\n",
    "```\n",
    "(0, 'Petrov') \n",
    "(1, 'Ivanov')\n",
    "(2, 'Sidorov')\n",
    "```"
   ]
  },
  {
   "cell_type": "markdown",
   "metadata": {},
   "source": [
    "#### Для решения воспользуемся функцией enumerate()."
   ]
  },
  {
   "cell_type": "code",
   "execution_count": 24,
   "metadata": {},
   "outputs": [
    {
     "name": "stdout",
     "output_type": "stream",
     "text": [
      "(0, 'Petrov')\n",
      "(1, 'Ivanov')\n",
      "(2, 'Sidorov')\n"
     ]
    }
   ],
   "source": [
    "lst = ['Petrov', 'Ivanov', 'Sidorov']\n",
    "for i in enumerate(lst):\n",
    "    print(i)"
   ]
  },
  {
   "cell_type": "markdown",
   "metadata": {},
   "source": [
    "### Вопрос 15\n",
    "### Дан список признаков ```['age', 'credit', 'debt']``` и список регрессионных коэффициентов ```[0.4, -0.2, -0.13]```. Нужно получить список кортежей вида ```[('age', 0.4), ('credit', -0.2), ('debt', -0.13)]```."
   ]
  },
  {
   "cell_type": "markdown",
   "metadata": {},
   "source": [
    "#### Воспользуемся функциями list() и zip()."
   ]
  },
  {
   "cell_type": "code",
   "execution_count": 25,
   "metadata": {},
   "outputs": [
    {
     "data": {
      "text/plain": [
       "[('age', 0.4), ('credit', -0.2), ('debt', -0.13)]"
      ]
     },
     "execution_count": 25,
     "metadata": {},
     "output_type": "execute_result"
    }
   ],
   "source": [
    "features = ['age', 'credit', 'debt']\n",
    "coeff = [0.4, -0.2, -0.13]\n",
    "list_of_tuples = list(zip(features, coeff))\n",
    "list_of_tuples"
   ]
  },
  {
   "cell_type": "markdown",
   "metadata": {},
   "source": [
    "### Вопрос 16\n",
    "### У нас есть набор данных, записанный в файле alfa_python_test.csv.\n",
    "### a.\tДля каждого уникального id оставьте только одну строку с самой поздней датой. \n",
    "### b.\tCколько теперь в каждом городе уникальных id?\n",
    "### c.\tСколько теперь id содержится в каждом множестве городов?"
   ]
  },
  {
   "cell_type": "code",
   "execution_count": 26,
   "metadata": {},
   "outputs": [],
   "source": [
    "# импортируем библиотеку pandas\n",
    "import pandas as pd"
   ]
  },
  {
   "cell_type": "code",
   "execution_count": 27,
   "metadata": {},
   "outputs": [
    {
     "data": {
      "text/html": [
       "<div>\n",
       "<style scoped>\n",
       "    .dataframe tbody tr th:only-of-type {\n",
       "        vertical-align: middle;\n",
       "    }\n",
       "\n",
       "    .dataframe tbody tr th {\n",
       "        vertical-align: top;\n",
       "    }\n",
       "\n",
       "    .dataframe thead th {\n",
       "        text-align: right;\n",
       "    }\n",
       "</style>\n",
       "<table border=\"1\" class=\"dataframe\">\n",
       "  <thead>\n",
       "    <tr style=\"text-align: right;\">\n",
       "      <th></th>\n",
       "      <th>city</th>\n",
       "      <th>date</th>\n",
       "      <th>id</th>\n",
       "    </tr>\n",
       "  </thead>\n",
       "  <tbody>\n",
       "    <tr>\n",
       "      <th>0</th>\n",
       "      <td>Kazan, St-Petersburg, Sochi</td>\n",
       "      <td>2014-10-06 03:16:18</td>\n",
       "      <td>49</td>\n",
       "    </tr>\n",
       "    <tr>\n",
       "      <th>1</th>\n",
       "      <td>Moscow, Kazan</td>\n",
       "      <td>2013-01-04 09:44:04</td>\n",
       "      <td>252</td>\n",
       "    </tr>\n",
       "    <tr>\n",
       "      <th>2</th>\n",
       "      <td>Kazan, Moscow</td>\n",
       "      <td>2013-12-04 11:39:03</td>\n",
       "      <td>208</td>\n",
       "    </tr>\n",
       "    <tr>\n",
       "      <th>3</th>\n",
       "      <td>St-Petersburg, Kazan</td>\n",
       "      <td>2014-09-04 10:09:53</td>\n",
       "      <td>81</td>\n",
       "    </tr>\n",
       "    <tr>\n",
       "      <th>4</th>\n",
       "      <td>St-Petersburg, Moscow, Sochi</td>\n",
       "      <td>2014-09-25 02:04:14</td>\n",
       "      <td>109</td>\n",
       "    </tr>\n",
       "    <tr>\n",
       "      <th>5</th>\n",
       "      <td>Moscow, Sochi, St-Petersburg, Kazan</td>\n",
       "      <td>2014-02-24 09:30:03</td>\n",
       "      <td>27</td>\n",
       "    </tr>\n",
       "    <tr>\n",
       "      <th>6</th>\n",
       "      <td>Moscow, St-Petersburg, Sochi, Kazan</td>\n",
       "      <td>2014-09-20 18:31:50</td>\n",
       "      <td>3</td>\n",
       "    </tr>\n",
       "    <tr>\n",
       "      <th>7</th>\n",
       "      <td>St-Petersburg, Moscow</td>\n",
       "      <td>2014-08-28 22:07:53</td>\n",
       "      <td>213</td>\n",
       "    </tr>\n",
       "    <tr>\n",
       "      <th>8</th>\n",
       "      <td>Moscow, St-Petersburg, Kazan, Sochi</td>\n",
       "      <td>2013-08-30 08:20:26</td>\n",
       "      <td>50</td>\n",
       "    </tr>\n",
       "    <tr>\n",
       "      <th>9</th>\n",
       "      <td>Kazan, Moscow, St-Petersburg</td>\n",
       "      <td>2014-07-24 00:58:48</td>\n",
       "      <td>143</td>\n",
       "    </tr>\n",
       "    <tr>\n",
       "      <th>10</th>\n",
       "      <td>Kazan, Sochi, Moscow, St-Petersburg</td>\n",
       "      <td>2014-04-01 23:04:58</td>\n",
       "      <td>196</td>\n",
       "    </tr>\n",
       "    <tr>\n",
       "      <th>11</th>\n",
       "      <td>NaN</td>\n",
       "      <td>2013-01-12 15:12:03</td>\n",
       "      <td>45</td>\n",
       "    </tr>\n",
       "    <tr>\n",
       "      <th>12</th>\n",
       "      <td>St-Petersburg, Moscow, Kazan, Sochi</td>\n",
       "      <td>2013-12-23 17:00:00</td>\n",
       "      <td>102</td>\n",
       "    </tr>\n",
       "    <tr>\n",
       "      <th>13</th>\n",
       "      <td>Sochi</td>\n",
       "      <td>2014-05-03 01:18:26</td>\n",
       "      <td>120</td>\n",
       "    </tr>\n",
       "    <tr>\n",
       "      <th>14</th>\n",
       "      <td>Kazan, St-Petersburg, Sochi, Moscow</td>\n",
       "      <td>2014-09-02 10:25:27</td>\n",
       "      <td>139</td>\n",
       "    </tr>\n",
       "    <tr>\n",
       "      <th>15</th>\n",
       "      <td>Moscow</td>\n",
       "      <td>2013-01-13 09:10:31</td>\n",
       "      <td>292</td>\n",
       "    </tr>\n",
       "    <tr>\n",
       "      <th>16</th>\n",
       "      <td>St-Petersburg, Moscow, Kazan</td>\n",
       "      <td>2014-02-19 16:34:49</td>\n",
       "      <td>256</td>\n",
       "    </tr>\n",
       "    <tr>\n",
       "      <th>17</th>\n",
       "      <td>Moscow, St-Petersburg</td>\n",
       "      <td>2014-05-30 23:58:56</td>\n",
       "      <td>287</td>\n",
       "    </tr>\n",
       "    <tr>\n",
       "      <th>18</th>\n",
       "      <td>Sochi</td>\n",
       "      <td>2014-07-13 12:51:25</td>\n",
       "      <td>240</td>\n",
       "    </tr>\n",
       "    <tr>\n",
       "      <th>19</th>\n",
       "      <td>Moscow, Kazan, Sochi, St-Petersburg</td>\n",
       "      <td>2014-01-05 01:13:11</td>\n",
       "      <td>98</td>\n",
       "    </tr>\n",
       "  </tbody>\n",
       "</table>\n",
       "</div>"
      ],
      "text/plain": [
       "                                   city                 date   id\n",
       "0           Kazan, St-Petersburg, Sochi  2014-10-06 03:16:18   49\n",
       "1                         Moscow, Kazan  2013-01-04 09:44:04  252\n",
       "2                         Kazan, Moscow  2013-12-04 11:39:03  208\n",
       "3                  St-Petersburg, Kazan  2014-09-04 10:09:53   81\n",
       "4          St-Petersburg, Moscow, Sochi  2014-09-25 02:04:14  109\n",
       "5   Moscow, Sochi, St-Petersburg, Kazan  2014-02-24 09:30:03   27\n",
       "6   Moscow, St-Petersburg, Sochi, Kazan  2014-09-20 18:31:50    3\n",
       "7                 St-Petersburg, Moscow  2014-08-28 22:07:53  213\n",
       "8   Moscow, St-Petersburg, Kazan, Sochi  2013-08-30 08:20:26   50\n",
       "9          Kazan, Moscow, St-Petersburg  2014-07-24 00:58:48  143\n",
       "10  Kazan, Sochi, Moscow, St-Petersburg  2014-04-01 23:04:58  196\n",
       "11                                  NaN  2013-01-12 15:12:03   45\n",
       "12  St-Petersburg, Moscow, Kazan, Sochi  2013-12-23 17:00:00  102\n",
       "13                                Sochi  2014-05-03 01:18:26  120\n",
       "14  Kazan, St-Petersburg, Sochi, Moscow  2014-09-02 10:25:27  139\n",
       "15                               Moscow  2013-01-13 09:10:31  292\n",
       "16         St-Petersburg, Moscow, Kazan  2014-02-19 16:34:49  256\n",
       "17                Moscow, St-Petersburg  2014-05-30 23:58:56  287\n",
       "18                                Sochi  2014-07-13 12:51:25  240\n",
       "19  Moscow, Kazan, Sochi, St-Petersburg  2014-01-05 01:13:11   98"
      ]
     },
     "execution_count": 27,
     "metadata": {},
     "output_type": "execute_result"
    }
   ],
   "source": [
    "# загружаем данные\n",
    "df = pd.read_csv('Data/alfa_python_test.csv')\n",
    "# смотрим первые 20 наблюдений\n",
    "df.head(20)"
   ]
  },
  {
   "cell_type": "code",
   "execution_count": 28,
   "metadata": {},
   "outputs": [
    {
     "name": "stdout",
     "output_type": "stream",
     "text": [
      "<class 'pandas.core.frame.DataFrame'>\n",
      "RangeIndex: 1000 entries, 0 to 999\n",
      "Data columns (total 3 columns):\n",
      " #   Column  Non-Null Count  Dtype \n",
      "---  ------  --------------  ----- \n",
      " 0   city    805 non-null    object\n",
      " 1   date    1000 non-null   object\n",
      " 2   id      1000 non-null   int64 \n",
      "dtypes: int64(1), object(2)\n",
      "memory usage: 23.6+ KB\n"
     ]
    }
   ],
   "source": [
    "# смотрим типы переменных и наличие пропусков\n",
    "df.info()"
   ]
  },
  {
   "cell_type": "code",
   "execution_count": 29,
   "metadata": {},
   "outputs": [],
   "source": [
    "# приводим столбец date к типу datetime \n",
    "df['date'] = pd.to_datetime(df['date'])"
   ]
  },
  {
   "cell_type": "code",
   "execution_count": 30,
   "metadata": {},
   "outputs": [
    {
     "data": {
      "text/html": [
       "<div>\n",
       "<style scoped>\n",
       "    .dataframe tbody tr th:only-of-type {\n",
       "        vertical-align: middle;\n",
       "    }\n",
       "\n",
       "    .dataframe tbody tr th {\n",
       "        vertical-align: top;\n",
       "    }\n",
       "\n",
       "    .dataframe thead th {\n",
       "        text-align: right;\n",
       "    }\n",
       "</style>\n",
       "<table border=\"1\" class=\"dataframe\">\n",
       "  <thead>\n",
       "    <tr style=\"text-align: right;\">\n",
       "      <th></th>\n",
       "      <th>city</th>\n",
       "      <th>date</th>\n",
       "      <th>id</th>\n",
       "    </tr>\n",
       "  </thead>\n",
       "  <tbody>\n",
       "    <tr>\n",
       "      <th>106</th>\n",
       "      <td>Kazan, Moscow, St-Petersburg</td>\n",
       "      <td>2014-10-06 20:58:34</td>\n",
       "      <td>0</td>\n",
       "    </tr>\n",
       "    <tr>\n",
       "      <th>157</th>\n",
       "      <td>Moscow, Sochi</td>\n",
       "      <td>2013-09-24 18:06:24</td>\n",
       "      <td>0</td>\n",
       "    </tr>\n",
       "    <tr>\n",
       "      <th>335</th>\n",
       "      <td>Moscow</td>\n",
       "      <td>2013-06-27 21:55:49</td>\n",
       "      <td>0</td>\n",
       "    </tr>\n",
       "    <tr>\n",
       "      <th>150</th>\n",
       "      <td>Sochi</td>\n",
       "      <td>2014-02-19 22:19:14</td>\n",
       "      <td>1</td>\n",
       "    </tr>\n",
       "    <tr>\n",
       "      <th>300</th>\n",
       "      <td>Sochi, St-Petersburg, Moscow, Kazan</td>\n",
       "      <td>2013-03-18 06:46:12</td>\n",
       "      <td>1</td>\n",
       "    </tr>\n",
       "    <tr>\n",
       "      <th>873</th>\n",
       "      <td>St-Petersburg, Moscow, Sochi, Kazan</td>\n",
       "      <td>2014-11-04 11:53:27</td>\n",
       "      <td>1</td>\n",
       "    </tr>\n",
       "    <tr>\n",
       "      <th>86</th>\n",
       "      <td>Moscow, Sochi</td>\n",
       "      <td>2014-09-14 12:37:29</td>\n",
       "      <td>1</td>\n",
       "    </tr>\n",
       "    <tr>\n",
       "      <th>46</th>\n",
       "      <td>Sochi, St-Petersburg, Kazan, Moscow</td>\n",
       "      <td>2014-03-20 21:25:05</td>\n",
       "      <td>2</td>\n",
       "    </tr>\n",
       "    <tr>\n",
       "      <th>224</th>\n",
       "      <td>Moscow, Kazan, St-Petersburg, Sochi</td>\n",
       "      <td>2014-07-02 02:04:42</td>\n",
       "      <td>2</td>\n",
       "    </tr>\n",
       "    <tr>\n",
       "      <th>484</th>\n",
       "      <td>NaN</td>\n",
       "      <td>2014-05-21 10:29:54</td>\n",
       "      <td>3</td>\n",
       "    </tr>\n",
       "  </tbody>\n",
       "</table>\n",
       "</div>"
      ],
      "text/plain": [
       "                                    city                date  id\n",
       "106         Kazan, Moscow, St-Petersburg 2014-10-06 20:58:34   0\n",
       "157                        Moscow, Sochi 2013-09-24 18:06:24   0\n",
       "335                               Moscow 2013-06-27 21:55:49   0\n",
       "150                                Sochi 2014-02-19 22:19:14   1\n",
       "300  Sochi, St-Petersburg, Moscow, Kazan 2013-03-18 06:46:12   1\n",
       "873  St-Petersburg, Moscow, Sochi, Kazan 2014-11-04 11:53:27   1\n",
       "86                         Moscow, Sochi 2014-09-14 12:37:29   1\n",
       "46   Sochi, St-Petersburg, Kazan, Moscow 2014-03-20 21:25:05   2\n",
       "224  Moscow, Kazan, St-Petersburg, Sochi 2014-07-02 02:04:42   2\n",
       "484                                  NaN 2014-05-21 10:29:54   3"
      ]
     },
     "execution_count": 30,
     "metadata": {},
     "output_type": "execute_result"
    }
   ],
   "source": [
    "# отсортируем по id и выведем первые 10 наблюдений\n",
    "df.sort_values('id').head(10)"
   ]
  },
  {
   "cell_type": "markdown",
   "metadata": {},
   "source": [
    "### a. Для каждого уникального id оставьте только одну строку с самой поздней датой"
   ]
  },
  {
   "cell_type": "code",
   "execution_count": 31,
   "metadata": {},
   "outputs": [
    {
     "data": {
      "text/html": [
       "<div>\n",
       "<style scoped>\n",
       "    .dataframe tbody tr th:only-of-type {\n",
       "        vertical-align: middle;\n",
       "    }\n",
       "\n",
       "    .dataframe tbody tr th {\n",
       "        vertical-align: top;\n",
       "    }\n",
       "\n",
       "    .dataframe thead th {\n",
       "        text-align: right;\n",
       "    }\n",
       "</style>\n",
       "<table border=\"1\" class=\"dataframe\">\n",
       "  <thead>\n",
       "    <tr style=\"text-align: right;\">\n",
       "      <th></th>\n",
       "      <th>city</th>\n",
       "      <th>date</th>\n",
       "      <th>id</th>\n",
       "    </tr>\n",
       "  </thead>\n",
       "  <tbody>\n",
       "    <tr>\n",
       "      <th>106</th>\n",
       "      <td>Kazan, Moscow, St-Petersburg</td>\n",
       "      <td>2014-10-06 20:58:34</td>\n",
       "      <td>0</td>\n",
       "    </tr>\n",
       "    <tr>\n",
       "      <th>873</th>\n",
       "      <td>St-Petersburg, Moscow, Sochi, Kazan</td>\n",
       "      <td>2014-11-04 11:53:27</td>\n",
       "      <td>1</td>\n",
       "    </tr>\n",
       "    <tr>\n",
       "      <th>224</th>\n",
       "      <td>Moscow, Kazan, St-Petersburg, Sochi</td>\n",
       "      <td>2014-07-02 02:04:42</td>\n",
       "      <td>2</td>\n",
       "    </tr>\n",
       "    <tr>\n",
       "      <th>819</th>\n",
       "      <td>Moscow, Sochi</td>\n",
       "      <td>2014-10-31 13:06:28</td>\n",
       "      <td>3</td>\n",
       "    </tr>\n",
       "    <tr>\n",
       "      <th>983</th>\n",
       "      <td>Kazan, Moscow, Sochi, St-Petersburg</td>\n",
       "      <td>2013-06-10 22:25:47</td>\n",
       "      <td>4</td>\n",
       "    </tr>\n",
       "    <tr>\n",
       "      <th>470</th>\n",
       "      <td>Kazan, Sochi, Moscow</td>\n",
       "      <td>2013-03-23 11:45:54</td>\n",
       "      <td>5</td>\n",
       "    </tr>\n",
       "    <tr>\n",
       "      <th>76</th>\n",
       "      <td>St-Petersburg, Sochi, Moscow</td>\n",
       "      <td>2014-02-06 23:17:13</td>\n",
       "      <td>6</td>\n",
       "    </tr>\n",
       "    <tr>\n",
       "      <th>709</th>\n",
       "      <td>Sochi, St-Petersburg</td>\n",
       "      <td>2013-10-01 10:10:24</td>\n",
       "      <td>7</td>\n",
       "    </tr>\n",
       "    <tr>\n",
       "      <th>265</th>\n",
       "      <td>Kazan</td>\n",
       "      <td>2014-04-30 04:47:09</td>\n",
       "      <td>8</td>\n",
       "    </tr>\n",
       "    <tr>\n",
       "      <th>80</th>\n",
       "      <td>Moscow, Sochi, St-Petersburg</td>\n",
       "      <td>2013-11-07 11:38:20</td>\n",
       "      <td>9</td>\n",
       "    </tr>\n",
       "  </tbody>\n",
       "</table>\n",
       "</div>"
      ],
      "text/plain": [
       "                                    city                date  id\n",
       "106         Kazan, Moscow, St-Petersburg 2014-10-06 20:58:34   0\n",
       "873  St-Petersburg, Moscow, Sochi, Kazan 2014-11-04 11:53:27   1\n",
       "224  Moscow, Kazan, St-Petersburg, Sochi 2014-07-02 02:04:42   2\n",
       "819                        Moscow, Sochi 2014-10-31 13:06:28   3\n",
       "983  Kazan, Moscow, Sochi, St-Petersburg 2013-06-10 22:25:47   4\n",
       "470                 Kazan, Sochi, Moscow 2013-03-23 11:45:54   5\n",
       "76          St-Petersburg, Sochi, Moscow 2014-02-06 23:17:13   6\n",
       "709                 Sochi, St-Petersburg 2013-10-01 10:10:24   7\n",
       "265                                Kazan 2014-04-30 04:47:09   8\n",
       "80          Moscow, Sochi, St-Petersburg 2013-11-07 11:38:20   9"
      ]
     },
     "execution_count": 31,
     "metadata": {},
     "output_type": "execute_result"
    }
   ],
   "source": [
    "# для каждого уникального id оставим только одну строку с самой поздней датой,\n",
    "# idmax() выдаёт индексы максимальных значений, в нашем случае - в колонке 'date'\n",
    "df = df.loc[df.groupby('id')['date'].idxmax()].sort_values('id')\n",
    "df.head(10)"
   ]
  },
  {
   "cell_type": "code",
   "execution_count": 32,
   "metadata": {},
   "outputs": [],
   "source": [
    "# удаляем пропуски\n",
    "df.dropna(inplace=True)"
   ]
  },
  {
   "cell_type": "markdown",
   "metadata": {},
   "source": [
    "### b. Cколько теперь в каждом городе находится уникальных id?"
   ]
  },
  {
   "cell_type": "code",
   "execution_count": 33,
   "metadata": {},
   "outputs": [
    {
     "name": "stdout",
     "output_type": "stream",
     "text": [
      "Kazan\n",
      "163\n",
      "Moscow\n",
      "163\n",
      "Sochi\n",
      "166\n",
      "St-Petersburg\n",
      "153\n"
     ]
    }
   ],
   "source": [
    "# создаем пустой список\n",
    "cities = []\n",
    "\n",
    "# с помощью цикла подсчитываем количество\n",
    "# уникальных вхождений каждого города\n",
    "for city in sorted(df['city'].unique()):\n",
    "    for i in city.split(', '):\n",
    "        if i not in cities:\n",
    "            cities.append(i)\n",
    "            # печатаем название города\n",
    "            print(i)\n",
    "            # печатаем количество уникальных вхождений\n",
    "            print(df['city'].str.contains(i).sum())"
   ]
  },
  {
   "cell_type": "markdown",
   "metadata": {},
   "source": [
    "### c. Сколько теперь id содержится в каждом множестве городов?"
   ]
  },
  {
   "cell_type": "markdown",
   "metadata": {},
   "source": [
    "1. С помощью метода .split() разбиваем строку (строковое значение столбца City) на части, используя разделитель (в данном случае - запятую), и возвращаем эти части в виде списка.\n",
    "2. Выполняем сортировку эти частей через функцию sorted().\n",
    "3. С помощью метода .join() разделяем части запятыми, таким образом, получаем единый формат множеств: например, 'Sochi, Moscow' станет 'Moscow, Sochi'.\n",
    "4. С помощью комбинации map + lambda вышеописанные три пункта применяем для каждой строки."
   ]
  },
  {
   "cell_type": "code",
   "execution_count": 34,
   "metadata": {},
   "outputs": [
    {
     "data": {
      "text/plain": [
       "Kazan, Moscow, Sochi, St-Petersburg    70\n",
       "Kazan, Moscow, Sochi                   29\n",
       "Moscow, Sochi, St-Petersburg           18\n",
       "Kazan, Moscow, St-Petersburg           16\n",
       "Sochi                                  15\n",
       "St-Petersburg                          15\n",
       "Kazan                                  12\n",
       "Kazan, Sochi, St-Petersburg            11\n",
       "Kazan, Moscow                          10\n",
       "Kazan, St-Petersburg                    8\n",
       "Moscow, Sochi                           8\n",
       "Sochi, St-Petersburg                    8\n",
       "Moscow, St-Petersburg                   7\n",
       "Kazan, Sochi                            7\n",
       "Moscow                                  5\n",
       "Name: city, dtype: int64"
      ]
     },
     "execution_count": 34,
     "metadata": {},
     "output_type": "execute_result"
    }
   ],
   "source": [
    "df['city'] = df['city'].map(lambda x: ', '.join(sorted(x.split(', '))))\n",
    "df['city'].value_counts()"
   ]
  }
 ],
 "metadata": {
  "kernelspec": {
   "display_name": "Python 3 (ipykernel)",
   "language": "python",
   "name": "python3"
  },
  "language_info": {
   "codemirror_mode": {
    "name": "ipython",
    "version": 3
   },
   "file_extension": ".py",
   "mimetype": "text/x-python",
   "name": "python",
   "nbconvert_exporter": "python",
   "pygments_lexer": "ipython3",
   "version": "3.9.12"
  }
 },
 "nbformat": 4,
 "nbformat_minor": 2
}
