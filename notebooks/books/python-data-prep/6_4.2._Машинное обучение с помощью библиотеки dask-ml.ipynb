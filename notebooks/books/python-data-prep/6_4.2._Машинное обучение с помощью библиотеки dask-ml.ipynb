{
 "cells": [
  {
   "cell_type": "code",
   "execution_count": 1,
   "metadata": {},
   "outputs": [
    {
     "data": {
      "text/html": [
       "<style type='text/css'>\n",
       ".datatable table.frame { margin-bottom: 0; }\n",
       ".datatable table.frame thead { border-bottom: none; }\n",
       ".datatable table.frame tr.coltypes td {  color: #FFFFFF;  line-height: 6px;  padding: 0 0.5em;}\n",
       ".datatable .bool    { background: #DDDD99; }\n",
       ".datatable .object  { background: #565656; }\n",
       ".datatable .int     { background: #5D9E5D; }\n",
       ".datatable .float   { background: #4040CC; }\n",
       ".datatable .str     { background: #CC4040; }\n",
       ".datatable .time    { background: #40CC40; }\n",
       ".datatable .row_index {  background: var(--jp-border-color3);  border-right: 1px solid var(--jp-border-color0);  color: var(--jp-ui-font-color3);  font-size: 9px;}\n",
       ".datatable .frame tbody td { text-align: left; }\n",
       ".datatable .frame tr.coltypes .row_index {  background: var(--jp-border-color0);}\n",
       ".datatable th:nth-child(2) { padding-left: 12px; }\n",
       ".datatable .hellipsis {  color: var(--jp-cell-editor-border-color);}\n",
       ".datatable .vellipsis {  background: var(--jp-layout-color0);  color: var(--jp-cell-editor-border-color);}\n",
       ".datatable .na {  color: var(--jp-cell-editor-border-color);  font-size: 80%;}\n",
       ".datatable .sp {  opacity: 0.25;}\n",
       ".datatable .footer { font-size: 9px; }\n",
       ".datatable .frame_dimensions {  background: var(--jp-border-color3);  border-top: 1px solid var(--jp-border-color0);  color: var(--jp-ui-font-color3);  display: inline-block;  opacity: 0.6;  padding: 1px 10px 1px 5px;}\n",
       "</style>\n"
      ],
      "text/plain": [
       "<IPython.core.display.HTML object>"
      ]
     },
     "metadata": {},
     "output_type": "display_data"
    }
   ],
   "source": [
    "# загружаем необходимые библиотеки, классы, функции\n",
    "import numpy as np\n",
    "import pandas as pd\n",
    "import dask.dataframe as dd\n",
    "from sklearn.metrics import roc_auc_score, accuracy_score\n",
    "from dask_ml.impute import SimpleImputer\n",
    "from dask_ml.preprocessing import (StandardScaler, \n",
    "                                   DummyEncoder, \n",
    "                                   Categorizer)\n",
    "from dask_ml.model_selection import train_test_split\n",
    "from dask_ml.linear_model import LogisticRegression"
   ]
  },
  {
   "cell_type": "code",
   "execution_count": 2,
   "metadata": {
    "scrolled": true
   },
   "outputs": [
    {
     "data": {
      "text/html": [
       "<div><strong>Dask DataFrame Structure:</strong></div>\n",
       "<div>\n",
       "<style scoped>\n",
       "    .dataframe tbody tr th:only-of-type {\n",
       "        vertical-align: middle;\n",
       "    }\n",
       "\n",
       "    .dataframe tbody tr th {\n",
       "        vertical-align: top;\n",
       "    }\n",
       "\n",
       "    .dataframe thead th {\n",
       "        text-align: right;\n",
       "    }\n",
       "</style>\n",
       "<table border=\"1\" class=\"dataframe\">\n",
       "  <thead>\n",
       "    <tr style=\"text-align: right;\">\n",
       "      <th></th>\n",
       "      <th>Customer Lifetime Value</th>\n",
       "      <th>Coverage</th>\n",
       "      <th>Education</th>\n",
       "      <th>EmploymentStatus</th>\n",
       "      <th>Gender</th>\n",
       "      <th>Income</th>\n",
       "      <th>Monthly Premium Auto</th>\n",
       "      <th>Months Since Last Claim</th>\n",
       "      <th>Months Since Policy Inception</th>\n",
       "      <th>Number of Open Complaints</th>\n",
       "      <th>Number of Policies</th>\n",
       "      <th>Response</th>\n",
       "    </tr>\n",
       "    <tr>\n",
       "      <th>npartitions=1</th>\n",
       "      <th></th>\n",
       "      <th></th>\n",
       "      <th></th>\n",
       "      <th></th>\n",
       "      <th></th>\n",
       "      <th></th>\n",
       "      <th></th>\n",
       "      <th></th>\n",
       "      <th></th>\n",
       "      <th></th>\n",
       "      <th></th>\n",
       "      <th></th>\n",
       "    </tr>\n",
       "  </thead>\n",
       "  <tbody>\n",
       "    <tr>\n",
       "      <th></th>\n",
       "      <td>float64</td>\n",
       "      <td>object</td>\n",
       "      <td>object</td>\n",
       "      <td>object</td>\n",
       "      <td>object</td>\n",
       "      <td>float64</td>\n",
       "      <td>float64</td>\n",
       "      <td>float64</td>\n",
       "      <td>float64</td>\n",
       "      <td>float64</td>\n",
       "      <td>float64</td>\n",
       "      <td>object</td>\n",
       "    </tr>\n",
       "    <tr>\n",
       "      <th></th>\n",
       "      <td>...</td>\n",
       "      <td>...</td>\n",
       "      <td>...</td>\n",
       "      <td>...</td>\n",
       "      <td>...</td>\n",
       "      <td>...</td>\n",
       "      <td>...</td>\n",
       "      <td>...</td>\n",
       "      <td>...</td>\n",
       "      <td>...</td>\n",
       "      <td>...</td>\n",
       "      <td>...</td>\n",
       "    </tr>\n",
       "  </tbody>\n",
       "</table>\n",
       "</div>\n",
       "<div>Dask Name: read-csv, 1 tasks</div>"
      ],
      "text/plain": [
       "Dask DataFrame Structure:\n",
       "              Customer Lifetime Value Coverage Education EmploymentStatus  Gender   Income Monthly Premium Auto Months Since Last Claim Months Since Policy Inception Number of Open Complaints Number of Policies Response\n",
       "npartitions=1                                                                                                                                                                                                              \n",
       "                              float64   object    object           object  object  float64              float64                 float64                       float64                   float64            float64   object\n",
       "                                  ...      ...       ...              ...     ...      ...                  ...                     ...                           ...                       ...                ...      ...\n",
       "Dask Name: read-csv, 1 tasks"
      ]
     },
     "execution_count": 2,
     "metadata": {},
     "output_type": "execute_result"
    }
   ],
   "source": [
    "# считываем CSV-файл в датафрейм Dask и смотрим\n",
    "df_dask = dd.read_csv('Data/StateFarm_missing.csv', sep=';')\n",
    "df_dask"
   ]
  },
  {
   "cell_type": "code",
   "execution_count": 3,
   "metadata": {},
   "outputs": [
    {
     "data": {
      "text/plain": [
       "dask.dataframe.core.DataFrame"
      ]
     },
     "execution_count": 3,
     "metadata": {},
     "output_type": "execute_result"
    }
   ],
   "source": [
    "# убедимся в том, что работаем с датафреймом Dask\n",
    "type(df_dask)"
   ]
  },
  {
   "cell_type": "code",
   "execution_count": 4,
   "metadata": {},
   "outputs": [
    {
     "data": {
      "text/plain": [
       "(8293, 12)"
      ]
     },
     "execution_count": 4,
     "metadata": {},
     "output_type": "execute_result"
    }
   ],
   "source": [
    "# посмотрим форму датафрейма Dask с помощью \n",
    "# функции len() и метода .count()\n",
    "len(df_dask), len(df_dask.count())"
   ]
  },
  {
   "cell_type": "code",
   "execution_count": 5,
   "metadata": {},
   "outputs": [
    {
     "data": {
      "text/html": [
       "<div>\n",
       "<style scoped>\n",
       "    .dataframe tbody tr th:only-of-type {\n",
       "        vertical-align: middle;\n",
       "    }\n",
       "\n",
       "    .dataframe tbody tr th {\n",
       "        vertical-align: top;\n",
       "    }\n",
       "\n",
       "    .dataframe thead th {\n",
       "        text-align: right;\n",
       "    }\n",
       "</style>\n",
       "<table border=\"1\" class=\"dataframe\">\n",
       "  <thead>\n",
       "    <tr style=\"text-align: right;\">\n",
       "      <th></th>\n",
       "      <th>Customer Lifetime Value</th>\n",
       "      <th>Income</th>\n",
       "      <th>Monthly Premium Auto</th>\n",
       "      <th>Months Since Last Claim</th>\n",
       "      <th>Months Since Policy Inception</th>\n",
       "      <th>Number of Open Complaints</th>\n",
       "      <th>Number of Policies</th>\n",
       "    </tr>\n",
       "  </thead>\n",
       "  <tbody>\n",
       "    <tr>\n",
       "      <th>count</th>\n",
       "      <td>8289.000000</td>\n",
       "      <td>8291.000000</td>\n",
       "      <td>8282.000000</td>\n",
       "      <td>8288.000000</td>\n",
       "      <td>8285.000000</td>\n",
       "      <td>8287.000000</td>\n",
       "      <td>8288.000000</td>\n",
       "    </tr>\n",
       "    <tr>\n",
       "      <th>mean</th>\n",
       "      <td>7987.650889</td>\n",
       "      <td>37785.171994</td>\n",
       "      <td>93.198865</td>\n",
       "      <td>15.079875</td>\n",
       "      <td>48.138081</td>\n",
       "      <td>0.389767</td>\n",
       "      <td>2.964768</td>\n",
       "    </tr>\n",
       "    <tr>\n",
       "      <th>std</th>\n",
       "      <td>6841.535432</td>\n",
       "      <td>30396.251967</td>\n",
       "      <td>34.514287</td>\n",
       "      <td>10.093847</td>\n",
       "      <td>27.827103</td>\n",
       "      <td>0.915515</td>\n",
       "      <td>2.389635</td>\n",
       "    </tr>\n",
       "    <tr>\n",
       "      <th>min</th>\n",
       "      <td>1898.007675</td>\n",
       "      <td>0.000000</td>\n",
       "      <td>61.000000</td>\n",
       "      <td>0.000000</td>\n",
       "      <td>0.000000</td>\n",
       "      <td>0.000000</td>\n",
       "      <td>1.000000</td>\n",
       "    </tr>\n",
       "    <tr>\n",
       "      <th>25%</th>\n",
       "      <td>3982.180708</td>\n",
       "      <td>0.000000</td>\n",
       "      <td>68.000000</td>\n",
       "      <td>6.000000</td>\n",
       "      <td>24.000000</td>\n",
       "      <td>0.000000</td>\n",
       "      <td>1.000000</td>\n",
       "    </tr>\n",
       "    <tr>\n",
       "      <th>50%</th>\n",
       "      <td>5786.493980</td>\n",
       "      <td>34220.000000</td>\n",
       "      <td>83.000000</td>\n",
       "      <td>14.000000</td>\n",
       "      <td>48.000000</td>\n",
       "      <td>0.000000</td>\n",
       "      <td>2.000000</td>\n",
       "    </tr>\n",
       "    <tr>\n",
       "      <th>75%</th>\n",
       "      <td>8960.280213</td>\n",
       "      <td>62450.000000</td>\n",
       "      <td>109.000000</td>\n",
       "      <td>23.000000</td>\n",
       "      <td>71.000000</td>\n",
       "      <td>0.000000</td>\n",
       "      <td>4.000000</td>\n",
       "    </tr>\n",
       "    <tr>\n",
       "      <th>max</th>\n",
       "      <td>83325.381190</td>\n",
       "      <td>99981.000000</td>\n",
       "      <td>298.000000</td>\n",
       "      <td>35.000000</td>\n",
       "      <td>99.000000</td>\n",
       "      <td>5.000000</td>\n",
       "      <td>9.000000</td>\n",
       "    </tr>\n",
       "  </tbody>\n",
       "</table>\n",
       "</div>"
      ],
      "text/plain": [
       "       Customer Lifetime Value        Income  Monthly Premium Auto  \\\n",
       "count              8289.000000   8291.000000           8282.000000   \n",
       "mean               7987.650889  37785.171994             93.198865   \n",
       "std                6841.535432  30396.251967             34.514287   \n",
       "min                1898.007675      0.000000             61.000000   \n",
       "25%                3982.180708      0.000000             68.000000   \n",
       "50%                5786.493980  34220.000000             83.000000   \n",
       "75%                8960.280213  62450.000000            109.000000   \n",
       "max               83325.381190  99981.000000            298.000000   \n",
       "\n",
       "       Months Since Last Claim  Months Since Policy Inception  \\\n",
       "count              8288.000000                    8285.000000   \n",
       "mean                 15.079875                      48.138081   \n",
       "std                  10.093847                      27.827103   \n",
       "min                   0.000000                       0.000000   \n",
       "25%                   6.000000                      24.000000   \n",
       "50%                  14.000000                      48.000000   \n",
       "75%                  23.000000                      71.000000   \n",
       "max                  35.000000                      99.000000   \n",
       "\n",
       "       Number of Open Complaints  Number of Policies  \n",
       "count                8287.000000         8288.000000  \n",
       "mean                    0.389767            2.964768  \n",
       "std                     0.915515            2.389635  \n",
       "min                     0.000000            1.000000  \n",
       "25%                     0.000000            1.000000  \n",
       "50%                     0.000000            2.000000  \n",
       "75%                     0.000000            4.000000  \n",
       "max                     5.000000            9.000000  "
      ]
     },
     "execution_count": 5,
     "metadata": {},
     "output_type": "execute_result"
    }
   ],
   "source": [
    "# смотрим стастистики, замечаем, что многие переменные\n",
    "# имеют нормальное распределение (практически одинаковые\n",
    "# значения средних и медиан)\n",
    "df_dask.describe().compute()"
   ]
  },
  {
   "cell_type": "code",
   "execution_count": 6,
   "metadata": {
    "scrolled": false
   },
   "outputs": [
    {
     "name": "stdout",
     "output_type": "stream",
     "text": [
      "['Customer Lifetime Value', 'Coverage', 'Education', 'EmploymentStatus', 'Gender', 'Income', 'Monthly Premium Auto', 'Months Since Last Claim', 'Months Since Policy Inception', 'Number of Open Complaints', 'Number of Policies', 'Response']\n"
     ]
    }
   ],
   "source": [
    "# смотрим названия переменных\n",
    "print(df_dask.columns.tolist())"
   ]
  },
  {
   "cell_type": "code",
   "execution_count": 7,
   "metadata": {},
   "outputs": [
    {
     "data": {
      "text/plain": [
       "Customer Lifetime Value           4\n",
       "Coverage                          5\n",
       "Education                         3\n",
       "EmploymentStatus                  5\n",
       "Gender                            4\n",
       "Income                            2\n",
       "Monthly Premium Auto             11\n",
       "Months Since Last Claim           5\n",
       "Months Since Policy Inception     8\n",
       "Number of Open Complaints         6\n",
       "Number of Policies                5\n",
       "Response                          0\n",
       "dtype: int64"
      ]
     },
     "execution_count": 7,
     "metadata": {},
     "output_type": "execute_result"
    }
   ],
   "source": [
    "# смотрим количество пропусков по каждой переменной\n",
    "df_dask.isnull().compute().sum()"
   ]
  },
  {
   "cell_type": "code",
   "execution_count": 8,
   "metadata": {
    "scrolled": false
   },
   "outputs": [
    {
     "data": {
      "text/plain": [
       "Customer Lifetime Value          float64\n",
       "Coverage                          object\n",
       "Education                         object\n",
       "EmploymentStatus                  object\n",
       "Gender                            object\n",
       "Income                           float64\n",
       "Monthly Premium Auto             float64\n",
       "Months Since Last Claim          float64\n",
       "Months Since Policy Inception    float64\n",
       "Number of Open Complaints        float64\n",
       "Number of Policies               float64\n",
       "Response                          object\n",
       "dtype: object"
      ]
     },
     "execution_count": 8,
     "metadata": {},
     "output_type": "execute_result"
    }
   ],
   "source": [
    "# смотрим типы переменных\n",
    "df_dask.dtypes"
   ]
  },
  {
   "cell_type": "code",
   "execution_count": 9,
   "metadata": {},
   "outputs": [
    {
     "data": {
      "text/plain": [
       "['Coverage', 'Education', 'EmploymentStatus', 'Gender']"
      ]
     },
     "execution_count": 9,
     "metadata": {},
     "output_type": "execute_result"
    }
   ],
   "source": [
    "# создаем список категориальных переменных\n",
    "cat_columns = df_dask.select_dtypes(\n",
    "    include='object').columns.difference(['Response']).tolist()\n",
    "# смотрим список\n",
    "cat_columns"
   ]
  },
  {
   "cell_type": "code",
   "execution_count": 10,
   "metadata": {},
   "outputs": [
    {
     "data": {
      "text/html": [
       "<div>\n",
       "<style scoped>\n",
       "    .dataframe tbody tr th:only-of-type {\n",
       "        vertical-align: middle;\n",
       "    }\n",
       "\n",
       "    .dataframe tbody tr th {\n",
       "        vertical-align: top;\n",
       "    }\n",
       "\n",
       "    .dataframe thead th {\n",
       "        text-align: right;\n",
       "    }\n",
       "</style>\n",
       "<table border=\"1\" class=\"dataframe\">\n",
       "  <thead>\n",
       "    <tr style=\"text-align: right;\">\n",
       "      <th></th>\n",
       "      <th>Coverage</th>\n",
       "      <th>Education</th>\n",
       "      <th>EmploymentStatus</th>\n",
       "      <th>Gender</th>\n",
       "    </tr>\n",
       "  </thead>\n",
       "  <tbody>\n",
       "    <tr>\n",
       "      <th>unique</th>\n",
       "      <td>3</td>\n",
       "      <td>5</td>\n",
       "      <td>5</td>\n",
       "      <td>2</td>\n",
       "    </tr>\n",
       "    <tr>\n",
       "      <th>count</th>\n",
       "      <td>8288</td>\n",
       "      <td>8290</td>\n",
       "      <td>8288</td>\n",
       "      <td>8289</td>\n",
       "    </tr>\n",
       "    <tr>\n",
       "      <th>top</th>\n",
       "      <td>Basic</td>\n",
       "      <td>Bachelor</td>\n",
       "      <td>Employed</td>\n",
       "      <td>F</td>\n",
       "    </tr>\n",
       "    <tr>\n",
       "      <th>freq</th>\n",
       "      <td>5038</td>\n",
       "      <td>2496</td>\n",
       "      <td>5187</td>\n",
       "      <td>4250</td>\n",
       "    </tr>\n",
       "  </tbody>\n",
       "</table>\n",
       "</div>"
      ],
      "text/plain": [
       "       Coverage Education EmploymentStatus Gender\n",
       "unique        3         5                5      2\n",
       "count      8288      8290             8288   8289\n",
       "top       Basic  Bachelor         Employed      F\n",
       "freq       5038      2496             5187   4250"
      ]
     },
     "execution_count": 10,
     "metadata": {},
     "output_type": "execute_result"
    }
   ],
   "source": [
    "# смотрим статистики по категориальным переменным\n",
    "df_dask[cat_columns].describe().compute()"
   ]
  },
  {
   "cell_type": "code",
   "execution_count": 11,
   "metadata": {},
   "outputs": [],
   "source": [
    "# присваиваем переменным типа object тип Categorical\n",
    "cat = Categorizer(columns=cat_columns)\n",
    "df_dask = cat.fit_transform(df_dask)"
   ]
  },
  {
   "cell_type": "code",
   "execution_count": 12,
   "metadata": {},
   "outputs": [],
   "source": [
    "# строковые значения No и Yes переводим \n",
    "# в целочисленные 0 и 1\n",
    "dct = {'No': 0, 'Yes': 1}\n",
    "df_dask['Response'] = df_dask['Response'].replace(dct)"
   ]
  },
  {
   "cell_type": "code",
   "execution_count": 13,
   "metadata": {},
   "outputs": [
    {
     "name": "stdout",
     "output_type": "stream",
     "text": [
      "Basic       5038\n",
      "Extended    2501\n",
      "Premium      749\n",
      "Name: Coverage, dtype: int64\n",
      "Bachelor                2496\n",
      "College                 2421\n",
      "High School or Below    2397\n",
      "Master                   659\n",
      "Doctor                   317\n",
      "Name: Education, dtype: int64\n",
      "Employed         5187\n",
      "Unemployed       2095\n",
      "Medical Leave     392\n",
      "Disabled          362\n",
      "Retired           252\n",
      "Name: EmploymentStatus, dtype: int64\n",
      "F    4250\n",
      "M    4039\n",
      "Name: Gender, dtype: int64\n"
     ]
    }
   ],
   "source": [
    "# выведем частоты категорий по категориальным переменным\n",
    "for col in cat_columns:\n",
    "    print(df_dask[col].value_counts().compute())"
   ]
  },
  {
   "cell_type": "code",
   "execution_count": 14,
   "metadata": {},
   "outputs": [],
   "source": [
    "# формируем массив признаков и массив меток\n",
    "y_dask = df_dask.pop('Response')"
   ]
  },
  {
   "cell_type": "code",
   "execution_count": 15,
   "metadata": {},
   "outputs": [],
   "source": [
    "# разбиваем данные на обучающие и тестовые: получаем обучающий\n",
    "# массив признаков, тестовый массив признаков, обучающий массив\n",
    "# меток, тестовый массив меток\n",
    "X_train, X_test, y_train, y_test = train_test_split(\n",
    "    df_dask, \n",
    "    y_dask, \n",
    "    test_size=0.3,\n",
    "    shuffle=True,\n",
    "    random_state=42)"
   ]
  },
  {
   "cell_type": "code",
   "execution_count": 16,
   "metadata": {},
   "outputs": [
    {
     "data": {
      "text/plain": [
       "['Customer Lifetime Value',\n",
       " 'Income',\n",
       " 'Monthly Premium Auto',\n",
       " 'Months Since Last Claim',\n",
       " 'Months Since Policy Inception',\n",
       " 'Number of Open Complaints',\n",
       " 'Number of Policies']"
      ]
     },
     "execution_count": 16,
     "metadata": {},
     "output_type": "execute_result"
    }
   ],
   "source": [
    "# создаем список количественных столбцов\n",
    "num_columns = X_train.select_dtypes(\n",
    "    include='number').columns.tolist()\n",
    "num_columns"
   ]
  },
  {
   "cell_type": "code",
   "execution_count": 17,
   "metadata": {},
   "outputs": [],
   "source": [
    "# создаем экземпляр класса SimpleImputer\n",
    "# для количественных переменных\n",
    "num_imputer = SimpleImputer(strategy='median')\n",
    "# обучаем модель\n",
    "num_imputer.fit(X_train[num_columns])\n",
    "# выполняем импутацию пропусков в количественных переменных\n",
    "X_train[num_columns] = num_imputer.transform(X_train[num_columns])\n",
    "X_test[num_columns] = num_imputer.transform(X_test[num_columns])"
   ]
  },
  {
   "cell_type": "code",
   "execution_count": 18,
   "metadata": {},
   "outputs": [],
   "source": [
    "# создаем экземпляр класса SimpleImputer\n",
    "# для категориальных переменных\n",
    "cat_imputer = SimpleImputer(strategy='most_frequent')\n",
    "# обучаем модель\n",
    "cat_imputer.fit(X_train[cat_columns])\n",
    "# выполняем импутацию пропусков в категориальных переменных\n",
    "X_train[cat_columns] = cat_imputer.transform(X_train[cat_columns])\n",
    "X_test[cat_columns] = cat_imputer.transform(X_test[cat_columns])"
   ]
  },
  {
   "cell_type": "code",
   "execution_count": 19,
   "metadata": {},
   "outputs": [
    {
     "name": "stdout",
     "output_type": "stream",
     "text": [
      "0\n",
      "0\n"
     ]
    }
   ],
   "source": [
    "# проверяем наличие пропусков в \n",
    "# обучающей и тестовой выборках\n",
    "print(X_train.isnull().compute().sum().sum())\n",
    "print(X_test.isnull().compute().sum().sum())"
   ]
  },
  {
   "cell_type": "code",
   "execution_count": 20,
   "metadata": {},
   "outputs": [],
   "source": [
    "# создаем экземпляр класса StandardScaler\n",
    "scaler = StandardScaler()\n",
    "# обучаем модель\n",
    "scaler.fit(X_train[num_columns])\n",
    "# выполняем стандартизацию\n",
    "X_train[num_columns] = scaler.transform(X_train[num_columns])\n",
    "X_test[num_columns] = scaler.transform(X_test[num_columns])"
   ]
  },
  {
   "cell_type": "code",
   "execution_count": 21,
   "metadata": {},
   "outputs": [],
   "source": [
    "# создаем экземпляр класса DummyEncoder\n",
    "dum = DummyEncoder()\n",
    "# обучаем модель\n",
    "dum.fit(X_train)\n",
    "# выполняем дамми-кодирование\n",
    "X_train = dum.transform(X_train)\n",
    "X_test = dum.transform(X_test)"
   ]
  },
  {
   "cell_type": "code",
   "execution_count": 22,
   "metadata": {
    "scrolled": true
   },
   "outputs": [
    {
     "data": {
      "text/html": [
       "<div>\n",
       "<style scoped>\n",
       "    .dataframe tbody tr th:only-of-type {\n",
       "        vertical-align: middle;\n",
       "    }\n",
       "\n",
       "    .dataframe tbody tr th {\n",
       "        vertical-align: top;\n",
       "    }\n",
       "\n",
       "    .dataframe thead th {\n",
       "        text-align: right;\n",
       "    }\n",
       "</style>\n",
       "<table border=\"1\" class=\"dataframe\">\n",
       "  <thead>\n",
       "    <tr style=\"text-align: right;\">\n",
       "      <th></th>\n",
       "      <th>Customer Lifetime Value</th>\n",
       "      <th>Income</th>\n",
       "      <th>Monthly Premium Auto</th>\n",
       "      <th>Months Since Last Claim</th>\n",
       "      <th>Months Since Policy Inception</th>\n",
       "      <th>Number of Open Complaints</th>\n",
       "      <th>Number of Policies</th>\n",
       "      <th>Coverage_Basic</th>\n",
       "      <th>Coverage_Premium</th>\n",
       "      <th>Coverage_Extended</th>\n",
       "      <th>...</th>\n",
       "      <th>Education_Master</th>\n",
       "      <th>Education_High School or Below</th>\n",
       "      <th>Education_Doctor</th>\n",
       "      <th>EmploymentStatus_Employed</th>\n",
       "      <th>EmploymentStatus_Unemployed</th>\n",
       "      <th>EmploymentStatus_Medical Leave</th>\n",
       "      <th>EmploymentStatus_Disabled</th>\n",
       "      <th>EmploymentStatus_Retired</th>\n",
       "      <th>Gender_F</th>\n",
       "      <th>Gender_M</th>\n",
       "    </tr>\n",
       "  </thead>\n",
       "  <tbody>\n",
       "    <tr>\n",
       "      <th>5665</th>\n",
       "      <td>-0.435967</td>\n",
       "      <td>-0.489744</td>\n",
       "      <td>-0.820202</td>\n",
       "      <td>0.493984</td>\n",
       "      <td>0.168462</td>\n",
       "      <td>-0.420026</td>\n",
       "      <td>2.521122</td>\n",
       "      <td>1</td>\n",
       "      <td>0</td>\n",
       "      <td>0</td>\n",
       "      <td>...</td>\n",
       "      <td>0</td>\n",
       "      <td>0</td>\n",
       "      <td>0</td>\n",
       "      <td>0</td>\n",
       "      <td>0</td>\n",
       "      <td>1</td>\n",
       "      <td>0</td>\n",
       "      <td>0</td>\n",
       "      <td>0</td>\n",
       "      <td>1</td>\n",
       "    </tr>\n",
       "    <tr>\n",
       "      <th>3273</th>\n",
       "      <td>1.263635</td>\n",
       "      <td>-0.465154</td>\n",
       "      <td>3.462868</td>\n",
       "      <td>1.489298</td>\n",
       "      <td>-1.265742</td>\n",
       "      <td>-0.420026</td>\n",
       "      <td>1.267090</td>\n",
       "      <td>0</td>\n",
       "      <td>0</td>\n",
       "      <td>1</td>\n",
       "      <td>...</td>\n",
       "      <td>0</td>\n",
       "      <td>0</td>\n",
       "      <td>0</td>\n",
       "      <td>1</td>\n",
       "      <td>0</td>\n",
       "      <td>0</td>\n",
       "      <td>0</td>\n",
       "      <td>0</td>\n",
       "      <td>0</td>\n",
       "      <td>1</td>\n",
       "    </tr>\n",
       "    <tr>\n",
       "      <th>6804</th>\n",
       "      <td>0.231320</td>\n",
       "      <td>-1.241654</td>\n",
       "      <td>-0.174808</td>\n",
       "      <td>-0.202736</td>\n",
       "      <td>0.993130</td>\n",
       "      <td>-0.420026</td>\n",
       "      <td>-0.404952</td>\n",
       "      <td>0</td>\n",
       "      <td>0</td>\n",
       "      <td>1</td>\n",
       "      <td>...</td>\n",
       "      <td>0</td>\n",
       "      <td>0</td>\n",
       "      <td>0</td>\n",
       "      <td>0</td>\n",
       "      <td>1</td>\n",
       "      <td>0</td>\n",
       "      <td>0</td>\n",
       "      <td>0</td>\n",
       "      <td>1</td>\n",
       "      <td>0</td>\n",
       "    </tr>\n",
       "    <tr>\n",
       "      <th>4106</th>\n",
       "      <td>0.172931</td>\n",
       "      <td>0.616429</td>\n",
       "      <td>0.617267</td>\n",
       "      <td>-1.297581</td>\n",
       "      <td>-1.445017</td>\n",
       "      <td>-0.420026</td>\n",
       "      <td>0.013058</td>\n",
       "      <td>1</td>\n",
       "      <td>0</td>\n",
       "      <td>0</td>\n",
       "      <td>...</td>\n",
       "      <td>0</td>\n",
       "      <td>1</td>\n",
       "      <td>0</td>\n",
       "      <td>1</td>\n",
       "      <td>0</td>\n",
       "      <td>0</td>\n",
       "      <td>0</td>\n",
       "      <td>0</td>\n",
       "      <td>1</td>\n",
       "      <td>0</td>\n",
       "    </tr>\n",
       "    <tr>\n",
       "      <th>5495</th>\n",
       "      <td>0.025953</td>\n",
       "      <td>0.131054</td>\n",
       "      <td>-0.732194</td>\n",
       "      <td>0.095858</td>\n",
       "      <td>0.921420</td>\n",
       "      <td>-0.420026</td>\n",
       "      <td>-0.404952</td>\n",
       "      <td>1</td>\n",
       "      <td>0</td>\n",
       "      <td>0</td>\n",
       "      <td>...</td>\n",
       "      <td>0</td>\n",
       "      <td>1</td>\n",
       "      <td>0</td>\n",
       "      <td>1</td>\n",
       "      <td>0</td>\n",
       "      <td>0</td>\n",
       "      <td>0</td>\n",
       "      <td>0</td>\n",
       "      <td>1</td>\n",
       "      <td>0</td>\n",
       "    </tr>\n",
       "  </tbody>\n",
       "</table>\n",
       "<p>5 rows × 22 columns</p>\n",
       "</div>"
      ],
      "text/plain": [
       "      Customer Lifetime Value    Income  Monthly Premium Auto  \\\n",
       "5665                -0.435967 -0.489744             -0.820202   \n",
       "3273                 1.263635 -0.465154              3.462868   \n",
       "6804                 0.231320 -1.241654             -0.174808   \n",
       "4106                 0.172931  0.616429              0.617267   \n",
       "5495                 0.025953  0.131054             -0.732194   \n",
       "\n",
       "      Months Since Last Claim  Months Since Policy Inception  \\\n",
       "5665                 0.493984                       0.168462   \n",
       "3273                 1.489298                      -1.265742   \n",
       "6804                -0.202736                       0.993130   \n",
       "4106                -1.297581                      -1.445017   \n",
       "5495                 0.095858                       0.921420   \n",
       "\n",
       "      Number of Open Complaints  Number of Policies  Coverage_Basic  \\\n",
       "5665                  -0.420026            2.521122               1   \n",
       "3273                  -0.420026            1.267090               0   \n",
       "6804                  -0.420026           -0.404952               0   \n",
       "4106                  -0.420026            0.013058               1   \n",
       "5495                  -0.420026           -0.404952               1   \n",
       "\n",
       "      Coverage_Premium  Coverage_Extended  ...  Education_Master  \\\n",
       "5665                 0                  0  ...                 0   \n",
       "3273                 0                  1  ...                 0   \n",
       "6804                 0                  1  ...                 0   \n",
       "4106                 0                  0  ...                 0   \n",
       "5495                 0                  0  ...                 0   \n",
       "\n",
       "      Education_High School or Below  Education_Doctor  \\\n",
       "5665                               0                 0   \n",
       "3273                               0                 0   \n",
       "6804                               0                 0   \n",
       "4106                               1                 0   \n",
       "5495                               1                 0   \n",
       "\n",
       "      EmploymentStatus_Employed  EmploymentStatus_Unemployed  \\\n",
       "5665                          0                            0   \n",
       "3273                          1                            0   \n",
       "6804                          0                            1   \n",
       "4106                          1                            0   \n",
       "5495                          1                            0   \n",
       "\n",
       "      EmploymentStatus_Medical Leave  EmploymentStatus_Disabled  \\\n",
       "5665                               1                          0   \n",
       "3273                               0                          0   \n",
       "6804                               0                          0   \n",
       "4106                               0                          0   \n",
       "5495                               0                          0   \n",
       "\n",
       "      EmploymentStatus_Retired  Gender_F  Gender_M  \n",
       "5665                         0         0         1  \n",
       "3273                         0         0         1  \n",
       "6804                         0         1         0  \n",
       "4106                         0         1         0  \n",
       "5495                         0         1         0  \n",
       "\n",
       "[5 rows x 22 columns]"
      ]
     },
     "execution_count": 22,
     "metadata": {},
     "output_type": "execute_result"
    }
   ],
   "source": [
    "# взглянем на результаты\n",
    "X_train.head()"
   ]
  },
  {
   "cell_type": "code",
   "execution_count": 23,
   "metadata": {},
   "outputs": [
    {
     "data": {
      "text/plain": [
       "0.8986623429266315"
      ]
     },
     "execution_count": 23,
     "metadata": {},
     "output_type": "execute_result"
    }
   ],
   "source": [
    "# обучаем модель (для массива Dask с неизвестными размерами чанков \n",
    "# строится модель без константы) и оцениваем правильность на\n",
    "# тестовой выборке с помощью метода .score()\n",
    "logreg = LogisticRegression(fit_intercept=False, n_jobs=-1)\n",
    "logreg.fit(X_train.to_dask_array(lengths=True), \n",
    "           y_train.to_dask_array(lengths=True))\n",
    "logreg.score(X_test.to_dask_array(lengths=True), \n",
    "             y_test.to_dask_array(lengths=True)).compute()"
   ]
  },
  {
   "cell_type": "code",
   "execution_count": 24,
   "metadata": {},
   "outputs": [
    {
     "data": {
      "text/plain": [
       "0.8986623429266315"
      ]
     },
     "execution_count": 24,
     "metadata": {},
     "output_type": "execute_result"
    }
   ],
   "source": [
    "# создаем массивы Dask с известными размерами чанков\n",
    "X_train_with_known_chunks = X_train.to_dask_array(lengths=True)\n",
    "y_train_with_known_chunks = y_train.to_dask_array(lengths=True)\n",
    "X_test_with_known_chunks = X_test.to_dask_array(lengths=True)\n",
    "y_test_with_known_chunks = y_test.to_dask_array(lengths=True)\n",
    "\n",
    "# обучаем модель и оцениваем правильность на тестовой выборке\n",
    "# с помощью метода .score()\n",
    "logreg2 = LogisticRegression(fit_intercept=True, n_jobs=-1)\n",
    "logreg2.fit(X_train_with_known_chunks, y_train_with_known_chunks)\n",
    "logreg2.score(X_test_with_known_chunks, y_test_with_known_chunks).compute()"
   ]
  },
  {
   "cell_type": "code",
   "execution_count": 25,
   "metadata": {},
   "outputs": [
    {
     "data": {
      "text/plain": [
       "0.8986623429266315"
      ]
     },
     "execution_count": 25,
     "metadata": {},
     "output_type": "execute_result"
    }
   ],
   "source": [
    "# оцениваем правильность с помощью функции accuracy_score\n",
    "# библиотеки scikit-learn\n",
    "pred = logreg.predict(X_test.to_dask_array(lengths=True)).compute()\n",
    "accuracy_score(y_test, pred)"
   ]
  },
  {
   "cell_type": "code",
   "execution_count": 26,
   "metadata": {},
   "outputs": [
    {
     "data": {
      "text/plain": [
       "0.6010430736905298"
      ]
     },
     "execution_count": 26,
     "metadata": {},
     "output_type": "execute_result"
    }
   ],
   "source": [
    "# оцениваем AUC с помощью функции roc_auc_score\n",
    "# библиотеки scikit-learn\n",
    "proba = logreg.predict_proba(X_test.to_dask_array(lengths=True)).compute()\n",
    "roc_auc_score(y_test, proba[:, 1])"
   ]
  }
 ],
 "metadata": {
  "kernelspec": {
   "display_name": "Python 3 (ipykernel)",
   "language": "python",
   "name": "python3"
  },
  "language_info": {
   "codemirror_mode": {
    "name": "ipython",
    "version": 3
   },
   "file_extension": ".py",
   "mimetype": "text/x-python",
   "name": "python",
   "nbconvert_exporter": "python",
   "pygments_lexer": "ipython3",
   "version": "3.9.12"
  }
 },
 "nbformat": 4,
 "nbformat_minor": 2
}
