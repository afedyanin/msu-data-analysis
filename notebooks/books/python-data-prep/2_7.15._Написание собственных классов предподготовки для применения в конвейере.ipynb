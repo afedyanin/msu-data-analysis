{
 "cells": [
  {
   "cell_type": "code",
   "execution_count": 1,
   "metadata": {
    "scrolled": false
   },
   "outputs": [],
   "source": [
    "# импортируем необходимые библиотеки, классы и функции\n",
    "import pandas as pd\n",
    "import numpy as np\n",
    "from sklearn.model_selection import (train_test_split, \n",
    "                                     GridSearchCV)\n",
    "from sklearn.base import BaseEstimator, TransformerMixin\n",
    "from sklearn.impute import SimpleImputer\n",
    "from sklearn.preprocessing import (PowerTransformer, \n",
    "                                   OneHotEncoder,\n",
    "                                   StandardScaler)\n",
    "from sklearn.compose import ColumnTransformer\n",
    "from sklearn.linear_model import LogisticRegression\n",
    "from sklearn.pipeline import Pipeline\n",
    "from sklearn.metrics import roc_auc_score"
   ]
  },
  {
   "cell_type": "code",
   "execution_count": 2,
   "metadata": {},
   "outputs": [],
   "source": [
    "# записываем CSV-файл в объект DataFrame\n",
    "data = pd.read_csv('Data/StateFarm_missing.csv', sep=';')"
   ]
  },
  {
   "cell_type": "code",
   "execution_count": 3,
   "metadata": {},
   "outputs": [],
   "source": [
    "# разбиваем данные на обучающие и тестовые: получаем обучающий\n",
    "# массив признаков, тестовый массив признаков, обучающий массив\n",
    "# меток, тестовый массив меток\n",
    "X_train, X_test, y_train, y_test = train_test_split(\n",
    "    data.drop('Response', axis=1), \n",
    "    data['Response'], \n",
    "    test_size=0.3,\n",
    "    stratify=data['Response'],\n",
    "    random_state=42)"
   ]
  },
  {
   "cell_type": "code",
   "execution_count": 4,
   "metadata": {},
   "outputs": [],
   "source": [
    "# создаем собственный класс, выполняющий скорректированное \n",
    "# логарифмическое преобразование\n",
    "class CorrLogTransformer(BaseEstimator, TransformerMixin):\n",
    "    \"\"\"\n",
    "    Приравнивает значение признака к нижнему пороговому \n",
    "    значению - очень маленькому положительному числу, \n",
    "    делит его на среднее признака и добавляет значение \n",
    "    от 0 до 1 - корректировку асимметрии, берет \n",
    "    натуральный логарифм полученного результата.\n",
    "    \n",
    "    Параметры:\n",
    "    lower: float, по умолчанию 0.001\n",
    "       Нижнее пороговое значение.\n",
    "    k: float, по умолчанию 0.2\n",
    "        Корректировка асимметрии.\n",
    "    copy: bool, по умолчанию True\n",
    "        Возвращает копию.\n",
    "    \"\"\"\n",
    "    def __init__(self, lower=0.001, k=0.2, copy=True):\n",
    "        # все параметры для инициализации публичных атрибутов \n",
    "        # должны быть заданы в методе __init__\n",
    "        \n",
    "        # публичные атрибуты\n",
    "        self.lower = lower\n",
    "        self.k = k\n",
    "        self.copy = copy\n",
    "                \n",
    "    def fit(self, X, y=None):\n",
    "        # fit должен принимать в качестве аргументов только X и y\n",
    "        # даже если ваша модель является моделью машинного обучения \n",
    "        # без учителя, вы должны принять аргумент y, это требуется \n",
    "        # для совместимости с конвейерами!\n",
    "        \n",
    "        # обучение модели осуществляется прямо здесь\n",
    "        \n",
    "        # создаем пустой словарь, в котором ключами\n",
    "        # будут имена/целые числа, а значениями - средние\n",
    "        self._encoder_dict = {}\n",
    "        \n",
    "        # функция isinstance() проверяет, является ли\n",
    "        # объект датафреймом pandas или нет\n",
    "        if isinstance(X, pd.DataFrame):\n",
    "            for col in X.columns:\n",
    "                # вычисляем среднее и записываем в словарь\n",
    "                self._encoder_dict[col] = np.mean(X[col])\n",
    "        else:\n",
    "            for col in range(X.shape[1]):\n",
    "                # вычисляем среднее и записываем в словарь\n",
    "                self._encoder_dict[col] = np.mean(X[:, col])\n",
    "            \n",
    "        # fit возвращает self\n",
    "        return self\n",
    "    \n",
    "    def transform(self, X):\n",
    "        # transform принимает в качестве аргумента только X\n",
    "        \n",
    "        # выполняем копирование массива во избежание \n",
    "        # предупреждения SettingWithCopyWarning\n",
    "        # \"A value is trying to be set on a copy of a slice \n",
    "        # from a DataFrame (Происходит попытка изменить \n",
    "        # значение в копии среза данных датафрейма)\"\n",
    "        if self.copy:\n",
    "            X = X.copy()\n",
    "        \n",
    "        # применяем преобразование к X\n",
    "        if isinstance(X, pd.DataFrame):\n",
    "            for col in X.columns:\n",
    "                X[col] = (np.log(np.clip(X[col], self.lower, None) / \n",
    "                                 self._encoder_dict[col] + self.k))\n",
    "        else:    \n",
    "            for col in range(X.shape[1]):\n",
    "                X[:, col] = (np.log(np.clip(X[:, col], self.lower, None) / \n",
    "                                    self._encoder_dict[col] + self.k))\n",
    "                           \n",
    "        return X"
   ]
  },
  {
   "cell_type": "code",
   "execution_count": 5,
   "metadata": {},
   "outputs": [
    {
     "data": {
      "text/html": [
       "<div>\n",
       "<style scoped>\n",
       "    .dataframe tbody tr th:only-of-type {\n",
       "        vertical-align: middle;\n",
       "    }\n",
       "\n",
       "    .dataframe tbody tr th {\n",
       "        vertical-align: top;\n",
       "    }\n",
       "\n",
       "    .dataframe thead th {\n",
       "        text-align: right;\n",
       "    }\n",
       "</style>\n",
       "<table border=\"1\" class=\"dataframe\">\n",
       "  <thead>\n",
       "    <tr style=\"text-align: right;\">\n",
       "      <th></th>\n",
       "      <th>Balance</th>\n",
       "      <th>Age</th>\n",
       "    </tr>\n",
       "  </thead>\n",
       "  <tbody>\n",
       "    <tr>\n",
       "      <th>0</th>\n",
       "      <td>8.3</td>\n",
       "      <td>23</td>\n",
       "    </tr>\n",
       "    <tr>\n",
       "      <th>1</th>\n",
       "      <td>9.4</td>\n",
       "      <td>29</td>\n",
       "    </tr>\n",
       "    <tr>\n",
       "      <th>2</th>\n",
       "      <td>10.2</td>\n",
       "      <td>36</td>\n",
       "    </tr>\n",
       "    <tr>\n",
       "      <th>3</th>\n",
       "      <td>0.0</td>\n",
       "      <td>44</td>\n",
       "    </tr>\n",
       "  </tbody>\n",
       "</table>\n",
       "</div>"
      ],
      "text/plain": [
       "   Balance  Age\n",
       "0      8.3   23\n",
       "1      9.4   29\n",
       "2     10.2   36\n",
       "3      0.0   44"
      ]
     },
     "execution_count": 5,
     "metadata": {},
     "output_type": "execute_result"
    }
   ],
   "source": [
    "# создаем игрушечный обучающий датафрейм pandas\n",
    "train = pd.DataFrame(\n",
    "    {'Balance': [8.3, 9.4, 10.2, 0], \n",
    "     'Age': [23, 29, 36, 44]})\n",
    "train"
   ]
  },
  {
   "cell_type": "code",
   "execution_count": 6,
   "metadata": {},
   "outputs": [
    {
     "data": {
      "text/html": [
       "<div>\n",
       "<style scoped>\n",
       "    .dataframe tbody tr th:only-of-type {\n",
       "        vertical-align: middle;\n",
       "    }\n",
       "\n",
       "    .dataframe tbody tr th {\n",
       "        vertical-align: top;\n",
       "    }\n",
       "\n",
       "    .dataframe thead th {\n",
       "        text-align: right;\n",
       "    }\n",
       "</style>\n",
       "<table border=\"1\" class=\"dataframe\">\n",
       "  <thead>\n",
       "    <tr style=\"text-align: right;\">\n",
       "      <th></th>\n",
       "      <th>Balance</th>\n",
       "      <th>Age</th>\n",
       "    </tr>\n",
       "  </thead>\n",
       "  <tbody>\n",
       "    <tr>\n",
       "      <th>0</th>\n",
       "      <td>10.4</td>\n",
       "      <td>13</td>\n",
       "    </tr>\n",
       "    <tr>\n",
       "      <th>1</th>\n",
       "      <td>3.1</td>\n",
       "      <td>19</td>\n",
       "    </tr>\n",
       "    <tr>\n",
       "      <th>2</th>\n",
       "      <td>22.5</td>\n",
       "      <td>66</td>\n",
       "    </tr>\n",
       "    <tr>\n",
       "      <th>3</th>\n",
       "      <td>-1.0</td>\n",
       "      <td>33</td>\n",
       "    </tr>\n",
       "  </tbody>\n",
       "</table>\n",
       "</div>"
      ],
      "text/plain": [
       "   Balance  Age\n",
       "0     10.4   13\n",
       "1      3.1   19\n",
       "2     22.5   66\n",
       "3     -1.0   33"
      ]
     },
     "execution_count": 6,
     "metadata": {},
     "output_type": "execute_result"
    }
   ],
   "source": [
    "# создаем игрушечный тестовый датафрейм pandas\n",
    "test = pd.DataFrame(\n",
    "    {'Balance': [10.4, 3.1, 22.5, -1], \n",
    "     'Age': [13, 19, 66, 33]})\n",
    "test"
   ]
  },
  {
   "cell_type": "code",
   "execution_count": 7,
   "metadata": {},
   "outputs": [
    {
     "name": "stdout",
     "output_type": "stream",
     "text": [
      "0    0.329278\n",
      "1    0.436751\n",
      "2    0.508242\n",
      "3   -1.608721\n",
      "Name: Balance, dtype: float64\n",
      "0   -0.108733\n",
      "1    0.075838\n",
      "2    0.255347\n",
      "3    0.427444\n",
      "Name: Age, dtype: float64\n",
      "\n",
      "0    0.525343\n",
      "1   -0.439367\n",
      "2    1.231337\n",
      "3   -1.608721\n",
      "Name: Balance, dtype: float64\n",
      "0   -0.520978\n",
      "1   -0.253915\n",
      "2    0.788457\n",
      "3    0.182322\n",
      "Name: Age, dtype: float64\n"
     ]
    }
   ],
   "source": [
    "# смотрим, как будут выглядеть преобразования в игрушечных\n",
    "# обучающем и тестовом датафреймах pandas\n",
    "print(np.log((train['Balance'].clip(0.001) / \n",
    "              train['Balance'].mean()) + 0.2))\n",
    "print(np.log((train['Age'].clip(0.001) / \n",
    "              train['Age'].mean()) + 0.2))\n",
    "print(\"\")\n",
    "print(np.log((test['Balance'].clip(0.001) / \n",
    "              train['Balance'].mean()) + 0.2))\n",
    "print(np.log((test['Age'].clip(0.001) / \n",
    "              train['Age'].mean()) + 0.2))"
   ]
  },
  {
   "cell_type": "code",
   "execution_count": 8,
   "metadata": {},
   "outputs": [
    {
     "data": {
      "text/html": [
       "<div>\n",
       "<style scoped>\n",
       "    .dataframe tbody tr th:only-of-type {\n",
       "        vertical-align: middle;\n",
       "    }\n",
       "\n",
       "    .dataframe tbody tr th {\n",
       "        vertical-align: top;\n",
       "    }\n",
       "\n",
       "    .dataframe thead th {\n",
       "        text-align: right;\n",
       "    }\n",
       "</style>\n",
       "<table border=\"1\" class=\"dataframe\">\n",
       "  <thead>\n",
       "    <tr style=\"text-align: right;\">\n",
       "      <th></th>\n",
       "      <th>Balance</th>\n",
       "      <th>Age</th>\n",
       "    </tr>\n",
       "  </thead>\n",
       "  <tbody>\n",
       "    <tr>\n",
       "      <th>0</th>\n",
       "      <td>0.329278</td>\n",
       "      <td>-0.108733</td>\n",
       "    </tr>\n",
       "    <tr>\n",
       "      <th>1</th>\n",
       "      <td>0.436751</td>\n",
       "      <td>0.075838</td>\n",
       "    </tr>\n",
       "    <tr>\n",
       "      <th>2</th>\n",
       "      <td>0.508242</td>\n",
       "      <td>0.255347</td>\n",
       "    </tr>\n",
       "    <tr>\n",
       "      <th>3</th>\n",
       "      <td>-1.608721</td>\n",
       "      <td>0.427444</td>\n",
       "    </tr>\n",
       "  </tbody>\n",
       "</table>\n",
       "</div>"
      ],
      "text/plain": [
       "    Balance       Age\n",
       "0  0.329278 -0.108733\n",
       "1  0.436751  0.075838\n",
       "2  0.508242  0.255347\n",
       "3 -1.608721  0.427444"
      ]
     },
     "execution_count": 8,
     "metadata": {},
     "output_type": "execute_result"
    }
   ],
   "source": [
    "# создаем экземпляр класса CorrLogTransformer\n",
    "corrlog = CorrLogTransformer()\n",
    "# обучаем модель\n",
    "corrlog.fit(train)\n",
    "# выполняем преобразование игрушечного\n",
    "# обучающего датафрейма pandas\n",
    "train = corrlog.transform(train)\n",
    "train"
   ]
  },
  {
   "cell_type": "code",
   "execution_count": 9,
   "metadata": {},
   "outputs": [
    {
     "data": {
      "text/html": [
       "<div>\n",
       "<style scoped>\n",
       "    .dataframe tbody tr th:only-of-type {\n",
       "        vertical-align: middle;\n",
       "    }\n",
       "\n",
       "    .dataframe tbody tr th {\n",
       "        vertical-align: top;\n",
       "    }\n",
       "\n",
       "    .dataframe thead th {\n",
       "        text-align: right;\n",
       "    }\n",
       "</style>\n",
       "<table border=\"1\" class=\"dataframe\">\n",
       "  <thead>\n",
       "    <tr style=\"text-align: right;\">\n",
       "      <th></th>\n",
       "      <th>Balance</th>\n",
       "      <th>Age</th>\n",
       "    </tr>\n",
       "  </thead>\n",
       "  <tbody>\n",
       "    <tr>\n",
       "      <th>0</th>\n",
       "      <td>0.525343</td>\n",
       "      <td>-0.520978</td>\n",
       "    </tr>\n",
       "    <tr>\n",
       "      <th>1</th>\n",
       "      <td>-0.439367</td>\n",
       "      <td>-0.253915</td>\n",
       "    </tr>\n",
       "    <tr>\n",
       "      <th>2</th>\n",
       "      <td>1.231337</td>\n",
       "      <td>0.788457</td>\n",
       "    </tr>\n",
       "    <tr>\n",
       "      <th>3</th>\n",
       "      <td>-1.608721</td>\n",
       "      <td>0.182322</td>\n",
       "    </tr>\n",
       "  </tbody>\n",
       "</table>\n",
       "</div>"
      ],
      "text/plain": [
       "    Balance       Age\n",
       "0  0.525343 -0.520978\n",
       "1 -0.439367 -0.253915\n",
       "2  1.231337  0.788457\n",
       "3 -1.608721  0.182322"
      ]
     },
     "execution_count": 9,
     "metadata": {},
     "output_type": "execute_result"
    }
   ],
   "source": [
    "# выполняем преобразование игрушечного\n",
    "# тестового датафрейма pandas\n",
    "test = corrlog.transform(test)\n",
    "test"
   ]
  },
  {
   "cell_type": "code",
   "execution_count": 10,
   "metadata": {
    "scrolled": true
   },
   "outputs": [
    {
     "name": "stderr",
     "output_type": "stream",
     "text": [
      "/var/folders/x9/w1kvj6ms0p52l8j6crt19vmh0000gn/T/ipykernel_26455/2534646667.py:68: SettingWithCopyWarning: \n",
      "A value is trying to be set on a copy of a slice from a DataFrame.\n",
      "Try using .loc[row_indexer,col_indexer] = value instead\n",
      "\n",
      "See the caveats in the documentation: https://pandas.pydata.org/pandas-docs/stable/user_guide/indexing.html#returning-a-view-versus-a-copy\n",
      "  X[col] = (np.log(np.clip(X[col], self.lower, None) /\n"
     ]
    },
    {
     "data": {
      "text/html": [
       "<div>\n",
       "<style scoped>\n",
       "    .dataframe tbody tr th:only-of-type {\n",
       "        vertical-align: middle;\n",
       "    }\n",
       "\n",
       "    .dataframe tbody tr th {\n",
       "        vertical-align: top;\n",
       "    }\n",
       "\n",
       "    .dataframe thead th {\n",
       "        text-align: right;\n",
       "    }\n",
       "</style>\n",
       "<table border=\"1\" class=\"dataframe\">\n",
       "  <thead>\n",
       "    <tr style=\"text-align: right;\">\n",
       "      <th></th>\n",
       "      <th>Balance</th>\n",
       "      <th>Age</th>\n",
       "    </tr>\n",
       "  </thead>\n",
       "  <tbody>\n",
       "    <tr>\n",
       "      <th>0</th>\n",
       "      <td>8.3</td>\n",
       "      <td>-0.108733</td>\n",
       "    </tr>\n",
       "    <tr>\n",
       "      <th>1</th>\n",
       "      <td>9.4</td>\n",
       "      <td>0.075838</td>\n",
       "    </tr>\n",
       "    <tr>\n",
       "      <th>2</th>\n",
       "      <td>10.2</td>\n",
       "      <td>0.255347</td>\n",
       "    </tr>\n",
       "    <tr>\n",
       "      <th>3</th>\n",
       "      <td>0.0</td>\n",
       "      <td>0.427444</td>\n",
       "    </tr>\n",
       "  </tbody>\n",
       "</table>\n",
       "</div>"
      ],
      "text/plain": [
       "   Balance       Age\n",
       "0      8.3 -0.108733\n",
       "1      9.4  0.075838\n",
       "2     10.2  0.255347\n",
       "3      0.0  0.427444"
      ]
     },
     "execution_count": 10,
     "metadata": {},
     "output_type": "execute_result"
    }
   ],
   "source": [
    "# создаем игрушечный обучающий датафрейм pandas\n",
    "train = pd.DataFrame(\n",
    "    {'Balance': [8.3, 9.4, 10.2, 0], \n",
    "     'Age': [23, 29, 36, 44]})\n",
    "# создаем экземпляр класса, отключив копирование\n",
    "corrlog = CorrLogTransformer(copy=False)\n",
    "# обучаем модель\n",
    "corrlog.fit(train[['Age']])\n",
    "# применяем модель\n",
    "train['Age'] = corrlog.transform(train[['Age']])\n",
    "train"
   ]
  },
  {
   "cell_type": "code",
   "execution_count": 11,
   "metadata": {},
   "outputs": [
    {
     "data": {
      "text/html": [
       "<div>\n",
       "<style scoped>\n",
       "    .dataframe tbody tr th:only-of-type {\n",
       "        vertical-align: middle;\n",
       "    }\n",
       "\n",
       "    .dataframe tbody tr th {\n",
       "        vertical-align: top;\n",
       "    }\n",
       "\n",
       "    .dataframe thead th {\n",
       "        text-align: right;\n",
       "    }\n",
       "</style>\n",
       "<table border=\"1\" class=\"dataframe\">\n",
       "  <thead>\n",
       "    <tr style=\"text-align: right;\">\n",
       "      <th></th>\n",
       "      <th>Balance</th>\n",
       "      <th>Age</th>\n",
       "    </tr>\n",
       "  </thead>\n",
       "  <tbody>\n",
       "    <tr>\n",
       "      <th>0</th>\n",
       "      <td>8.3</td>\n",
       "      <td>-0.108733</td>\n",
       "    </tr>\n",
       "    <tr>\n",
       "      <th>1</th>\n",
       "      <td>9.4</td>\n",
       "      <td>0.075838</td>\n",
       "    </tr>\n",
       "    <tr>\n",
       "      <th>2</th>\n",
       "      <td>10.2</td>\n",
       "      <td>0.255347</td>\n",
       "    </tr>\n",
       "    <tr>\n",
       "      <th>3</th>\n",
       "      <td>0.0</td>\n",
       "      <td>0.427444</td>\n",
       "    </tr>\n",
       "  </tbody>\n",
       "</table>\n",
       "</div>"
      ],
      "text/plain": [
       "   Balance       Age\n",
       "0      8.3 -0.108733\n",
       "1      9.4  0.075838\n",
       "2     10.2  0.255347\n",
       "3      0.0  0.427444"
      ]
     },
     "execution_count": 11,
     "metadata": {},
     "output_type": "execute_result"
    }
   ],
   "source": [
    "# создаем игрушечный обучающий датафрейм pandas\n",
    "train = pd.DataFrame(\n",
    "    {'Balance': [8.3, 9.4, 10.2, 0], \n",
    "     'Age': [23, 29, 36, 44]})\n",
    "# создаем экземпляр класса, включив копирование\n",
    "corrlog = CorrLogTransformer(copy=True)\n",
    "# обучаем модель\n",
    "corrlog.fit(train[['Age']])\n",
    "# применяем модель\n",
    "train['Age'] = corrlog.transform(train[['Age']])\n",
    "train"
   ]
  },
  {
   "cell_type": "code",
   "execution_count": 12,
   "metadata": {},
   "outputs": [
    {
     "data": {
      "text/plain": [
       "array([[ 8.3, 23. ],\n",
       "       [ 9.4, 29. ],\n",
       "       [10.2, 36. ],\n",
       "       [ 0. , 44. ]])"
      ]
     },
     "execution_count": 12,
     "metadata": {},
     "output_type": "execute_result"
    }
   ],
   "source": [
    "# создаем игрушечный обучающий массив NumPy\n",
    "np_train = np.array(pd.DataFrame(\n",
    "    {'Balance': [8.3, 9.4, 10.2, 0], \n",
    "     'Age': [23, 29, 36, 44]}))\n",
    "np_train"
   ]
  },
  {
   "cell_type": "code",
   "execution_count": 13,
   "metadata": {},
   "outputs": [
    {
     "data": {
      "text/plain": [
       "array([[10.4, 13. ],\n",
       "       [ 3.1, 19. ],\n",
       "       [22.5, 66. ],\n",
       "       [-1. , 33. ]])"
      ]
     },
     "execution_count": 13,
     "metadata": {},
     "output_type": "execute_result"
    }
   ],
   "source": [
    "# создаем игрушечный тестовый массив NumPy\n",
    "np_test = np.array(pd.DataFrame(\n",
    "    {'Balance': [10.4, 3.1, 22.5, -1], \n",
    "     'Age': [13, 19, 66, 33]}))\n",
    "np_test"
   ]
  },
  {
   "cell_type": "code",
   "execution_count": 14,
   "metadata": {},
   "outputs": [
    {
     "data": {
      "text/plain": [
       "array([[ 0.32927796, -0.1087332 ],\n",
       "       [ 0.43675074,  0.07583808],\n",
       "       [ 0.50824164,  0.25534669],\n",
       "       [-1.60872132,  0.42744401]])"
      ]
     },
     "execution_count": 14,
     "metadata": {},
     "output_type": "execute_result"
    }
   ],
   "source": [
    "# обучаем модель\n",
    "corrlog.fit(np_train)\n",
    "# выполняем преобразование игрушечного\n",
    "# обучающего массива NumPy\n",
    "np_train = corrlog.transform(np_train)\n",
    "np_train"
   ]
  },
  {
   "cell_type": "code",
   "execution_count": 15,
   "metadata": {},
   "outputs": [
    {
     "data": {
      "text/plain": [
       "array([[ 0.52534339, -0.520978  ],\n",
       "       [-0.43936666, -0.25391521],\n",
       "       [ 1.2313369 ,  0.78845736],\n",
       "       [-1.60872132,  0.18232156]])"
      ]
     },
     "execution_count": 15,
     "metadata": {},
     "output_type": "execute_result"
    }
   ],
   "source": [
    "# выполняем преобразование игрушечного\n",
    "# тестового массива NumPy\n",
    "np_test = corrlog.transform(np_test)\n",
    "np_test"
   ]
  },
  {
   "cell_type": "code",
   "execution_count": 16,
   "metadata": {},
   "outputs": [],
   "source": [
    "# создаем собственный класс, заменяющий отрицательные\n",
    "# и нулевые значения на небольшие положительные\n",
    "class Replacer(BaseEstimator, TransformerMixin):\n",
    "    \"\"\"\n",
    "    Заменяет отрицательные и нулевые значения на\n",
    "    небольшое положительное значение.\n",
    "    \n",
    "    Параметры\n",
    "    ----------\n",
    "    repl: float, по умолчанию 0.1\n",
    "        Значение для замены.\n",
    "    \"\"\"\n",
    "    def __init__(self, repl_value=0.1):\n",
    "        self.repl_value = repl_value\n",
    "    \n",
    "    # fit здесь бездельничает\n",
    "    def fit(self, X, y=None):\n",
    "        return self\n",
    "    \n",
    "    # transform выполняет всю работу: применяет преобразование \n",
    "    # с помощью заданного значения параметра repl_value\n",
    "    def transform(self, X):\n",
    "        if isinstance(X, pd.DataFrame):\n",
    "            X[X <= 0] = self.repl_value\n",
    "        else:\n",
    "            X = np.where(X <= 0, self.repl_value, X)\n",
    "        return X"
   ]
  },
  {
   "cell_type": "code",
   "execution_count": 17,
   "metadata": {},
   "outputs": [
    {
     "data": {
      "text/html": [
       "<div>\n",
       "<style scoped>\n",
       "    .dataframe tbody tr th:only-of-type {\n",
       "        vertical-align: middle;\n",
       "    }\n",
       "\n",
       "    .dataframe tbody tr th {\n",
       "        vertical-align: top;\n",
       "    }\n",
       "\n",
       "    .dataframe thead th {\n",
       "        text-align: right;\n",
       "    }\n",
       "</style>\n",
       "<table border=\"1\" class=\"dataframe\">\n",
       "  <thead>\n",
       "    <tr style=\"text-align: right;\">\n",
       "      <th></th>\n",
       "      <th>Balance</th>\n",
       "      <th>Income</th>\n",
       "    </tr>\n",
       "  </thead>\n",
       "  <tbody>\n",
       "    <tr>\n",
       "      <th>0</th>\n",
       "      <td>0.0</td>\n",
       "      <td>23</td>\n",
       "    </tr>\n",
       "    <tr>\n",
       "      <th>1</th>\n",
       "      <td>9.4</td>\n",
       "      <td>29</td>\n",
       "    </tr>\n",
       "    <tr>\n",
       "      <th>2</th>\n",
       "      <td>10.2</td>\n",
       "      <td>-1</td>\n",
       "    </tr>\n",
       "    <tr>\n",
       "      <th>3</th>\n",
       "      <td>0.0</td>\n",
       "      <td>44</td>\n",
       "    </tr>\n",
       "  </tbody>\n",
       "</table>\n",
       "</div>"
      ],
      "text/plain": [
       "   Balance  Income\n",
       "0      0.0      23\n",
       "1      9.4      29\n",
       "2     10.2      -1\n",
       "3      0.0      44"
      ]
     },
     "execution_count": 17,
     "metadata": {},
     "output_type": "execute_result"
    }
   ],
   "source": [
    "# создаем игрушечный обучающий датафрейм pandas\n",
    "train = pd.DataFrame(\n",
    "    {'Balance': [0, 9.4, 10.2, 0], \n",
    "     'Income': [23, 29, -1, 44]})\n",
    "train"
   ]
  },
  {
   "cell_type": "code",
   "execution_count": 18,
   "metadata": {},
   "outputs": [
    {
     "data": {
      "text/html": [
       "<div>\n",
       "<style scoped>\n",
       "    .dataframe tbody tr th:only-of-type {\n",
       "        vertical-align: middle;\n",
       "    }\n",
       "\n",
       "    .dataframe tbody tr th {\n",
       "        vertical-align: top;\n",
       "    }\n",
       "\n",
       "    .dataframe thead th {\n",
       "        text-align: right;\n",
       "    }\n",
       "</style>\n",
       "<table border=\"1\" class=\"dataframe\">\n",
       "  <thead>\n",
       "    <tr style=\"text-align: right;\">\n",
       "      <th></th>\n",
       "      <th>Balance</th>\n",
       "      <th>Income</th>\n",
       "    </tr>\n",
       "  </thead>\n",
       "  <tbody>\n",
       "    <tr>\n",
       "      <th>0</th>\n",
       "      <td>-2.0</td>\n",
       "      <td>13</td>\n",
       "    </tr>\n",
       "    <tr>\n",
       "      <th>1</th>\n",
       "      <td>3.1</td>\n",
       "      <td>-2</td>\n",
       "    </tr>\n",
       "    <tr>\n",
       "      <th>2</th>\n",
       "      <td>22.5</td>\n",
       "      <td>0</td>\n",
       "    </tr>\n",
       "    <tr>\n",
       "      <th>3</th>\n",
       "      <td>-1.0</td>\n",
       "      <td>33</td>\n",
       "    </tr>\n",
       "  </tbody>\n",
       "</table>\n",
       "</div>"
      ],
      "text/plain": [
       "   Balance  Income\n",
       "0     -2.0      13\n",
       "1      3.1      -2\n",
       "2     22.5       0\n",
       "3     -1.0      33"
      ]
     },
     "execution_count": 18,
     "metadata": {},
     "output_type": "execute_result"
    }
   ],
   "source": [
    "# создаем игрушечный тестовый датафрейм pandas\n",
    "test = pd.DataFrame(\n",
    "    {'Balance': [-2, 3.1, 22.5, -1], \n",
    "     'Income': [13, -2, 0, 33]})\n",
    "test"
   ]
  },
  {
   "cell_type": "code",
   "execution_count": 19,
   "metadata": {},
   "outputs": [
    {
     "data": {
      "text/html": [
       "<div>\n",
       "<style scoped>\n",
       "    .dataframe tbody tr th:only-of-type {\n",
       "        vertical-align: middle;\n",
       "    }\n",
       "\n",
       "    .dataframe tbody tr th {\n",
       "        vertical-align: top;\n",
       "    }\n",
       "\n",
       "    .dataframe thead th {\n",
       "        text-align: right;\n",
       "    }\n",
       "</style>\n",
       "<table border=\"1\" class=\"dataframe\">\n",
       "  <thead>\n",
       "    <tr style=\"text-align: right;\">\n",
       "      <th></th>\n",
       "      <th>Balance</th>\n",
       "      <th>Income</th>\n",
       "    </tr>\n",
       "  </thead>\n",
       "  <tbody>\n",
       "    <tr>\n",
       "      <th>0</th>\n",
       "      <td>0.1</td>\n",
       "      <td>23.0</td>\n",
       "    </tr>\n",
       "    <tr>\n",
       "      <th>1</th>\n",
       "      <td>9.4</td>\n",
       "      <td>29.0</td>\n",
       "    </tr>\n",
       "    <tr>\n",
       "      <th>2</th>\n",
       "      <td>10.2</td>\n",
       "      <td>0.1</td>\n",
       "    </tr>\n",
       "    <tr>\n",
       "      <th>3</th>\n",
       "      <td>0.1</td>\n",
       "      <td>44.0</td>\n",
       "    </tr>\n",
       "  </tbody>\n",
       "</table>\n",
       "</div>"
      ],
      "text/plain": [
       "   Balance  Income\n",
       "0      0.1    23.0\n",
       "1      9.4    29.0\n",
       "2     10.2     0.1\n",
       "3      0.1    44.0"
      ]
     },
     "execution_count": 19,
     "metadata": {},
     "output_type": "execute_result"
    }
   ],
   "source": [
    "# создаем экземпляр класса Replacer\n",
    "repl = Replacer(repl_value=0.1)\n",
    "# обучаем модель\n",
    "repl.fit(train)\n",
    "# выполняем замены в игрушечном\n",
    "# обучающем датафрейме pandas\n",
    "train = repl.transform(train)\n",
    "train"
   ]
  },
  {
   "cell_type": "code",
   "execution_count": 20,
   "metadata": {},
   "outputs": [
    {
     "data": {
      "text/html": [
       "<div>\n",
       "<style scoped>\n",
       "    .dataframe tbody tr th:only-of-type {\n",
       "        vertical-align: middle;\n",
       "    }\n",
       "\n",
       "    .dataframe tbody tr th {\n",
       "        vertical-align: top;\n",
       "    }\n",
       "\n",
       "    .dataframe thead th {\n",
       "        text-align: right;\n",
       "    }\n",
       "</style>\n",
       "<table border=\"1\" class=\"dataframe\">\n",
       "  <thead>\n",
       "    <tr style=\"text-align: right;\">\n",
       "      <th></th>\n",
       "      <th>Balance</th>\n",
       "      <th>Income</th>\n",
       "    </tr>\n",
       "  </thead>\n",
       "  <tbody>\n",
       "    <tr>\n",
       "      <th>0</th>\n",
       "      <td>0.1</td>\n",
       "      <td>13.0</td>\n",
       "    </tr>\n",
       "    <tr>\n",
       "      <th>1</th>\n",
       "      <td>3.1</td>\n",
       "      <td>0.1</td>\n",
       "    </tr>\n",
       "    <tr>\n",
       "      <th>2</th>\n",
       "      <td>22.5</td>\n",
       "      <td>0.1</td>\n",
       "    </tr>\n",
       "    <tr>\n",
       "      <th>3</th>\n",
       "      <td>0.1</td>\n",
       "      <td>33.0</td>\n",
       "    </tr>\n",
       "  </tbody>\n",
       "</table>\n",
       "</div>"
      ],
      "text/plain": [
       "   Balance  Income\n",
       "0      0.1    13.0\n",
       "1      3.1     0.1\n",
       "2     22.5     0.1\n",
       "3      0.1    33.0"
      ]
     },
     "execution_count": 20,
     "metadata": {},
     "output_type": "execute_result"
    }
   ],
   "source": [
    "# выполняем замены в игрушечном\n",
    "# тестовом датафрейме pandas\n",
    "test = repl.transform(test)\n",
    "test"
   ]
  },
  {
   "cell_type": "code",
   "execution_count": 21,
   "metadata": {},
   "outputs": [
    {
     "data": {
      "text/plain": [
       "array([[ 0. , 23. ],\n",
       "       [ 9.4, 29. ],\n",
       "       [10.2, -1. ],\n",
       "       [ 0. , 44. ]])"
      ]
     },
     "execution_count": 21,
     "metadata": {},
     "output_type": "execute_result"
    }
   ],
   "source": [
    "# создаем игрушечный обучающий массив NumPy\n",
    "np_train = np.array(pd.DataFrame(\n",
    "    {'Balance': [0, 9.4, 10.2, 0], \n",
    "     'Income': [23, 29, -1, 44]}))\n",
    "np_train"
   ]
  },
  {
   "cell_type": "code",
   "execution_count": 22,
   "metadata": {},
   "outputs": [
    {
     "data": {
      "text/plain": [
       "array([[-2. , 13. ],\n",
       "       [ 3.1, -2. ],\n",
       "       [22.5,  0. ],\n",
       "       [-1. , 33. ]])"
      ]
     },
     "execution_count": 22,
     "metadata": {},
     "output_type": "execute_result"
    }
   ],
   "source": [
    "# создаем игрушечный тестовый массив NumPy\n",
    "np_test = np.array(pd.DataFrame(\n",
    "    {'Balance': [-2, 3.1, 22.5, -1], \n",
    "     'Income': [13, -2, 0, 33]}))\n",
    "np_test"
   ]
  },
  {
   "cell_type": "code",
   "execution_count": 23,
   "metadata": {},
   "outputs": [
    {
     "data": {
      "text/plain": [
       "array([[ 0.1, 23. ],\n",
       "       [ 9.4, 29. ],\n",
       "       [10.2,  0.1],\n",
       "       [ 0.1, 44. ]])"
      ]
     },
     "execution_count": 23,
     "metadata": {},
     "output_type": "execute_result"
    }
   ],
   "source": [
    "# обучаем модель\n",
    "repl.fit(np_train)\n",
    "# выполняем  замены в игрушечном\n",
    "# обучающем массиве NumPy\n",
    "np_train = repl.transform(np_train)\n",
    "np_train"
   ]
  },
  {
   "cell_type": "code",
   "execution_count": 24,
   "metadata": {},
   "outputs": [
    {
     "data": {
      "text/plain": [
       "array([[ 0.1, 13. ],\n",
       "       [ 3.1,  0.1],\n",
       "       [22.5,  0.1],\n",
       "       [ 0.1, 33. ]])"
      ]
     },
     "execution_count": 24,
     "metadata": {},
     "output_type": "execute_result"
    }
   ],
   "source": [
    "# выполняем замены в игрушечном\n",
    "# тестовом массиве NumPy\n",
    "np_test = repl.transform(np_test)\n",
    "np_test"
   ]
  },
  {
   "cell_type": "code",
   "execution_count": 25,
   "metadata": {},
   "outputs": [],
   "source": [
    "# создаем собственный класс, выполняющий биннинг\n",
    "class CustomDiscretizer(BaseEstimator, TransformerMixin):\n",
    "    \"\"\"\n",
    "    Выполняет биннинг количественных признаков.\n",
    "    \n",
    "    Параметры\n",
    "    ----------\n",
    "    bins: list\n",
    "        Список бинов.\n",
    "    \"\"\"\n",
    "    def __init__(self, bins=[-np.inf, 2, 4, np.inf]):\n",
    "        self.bins = bins\n",
    "    \n",
    "    # fit опять бездельничает\n",
    "    def fit(self, X, y=None):  \n",
    "        return self\n",
    "    \n",
    "    # transform выполняет всю работу: применяет\n",
    "    # преобразование с помощью заданного\n",
    "    # значения параметра bins\n",
    "    def transform(self, X):\n",
    "        if isinstance(X, pd.DataFrame):\n",
    "            cols = X.columns.tolist()\n",
    "            X = pd.DataFrame(data=np.digitize(X, self.bins), \n",
    "                             columns=cols)\n",
    "        else:    \n",
    "            X = np.digitize(X, self.bins)\n",
    "        return X"
   ]
  },
  {
   "cell_type": "code",
   "execution_count": 26,
   "metadata": {},
   "outputs": [
    {
     "data": {
      "text/html": [
       "<div>\n",
       "<style scoped>\n",
       "    .dataframe tbody tr th:only-of-type {\n",
       "        vertical-align: middle;\n",
       "    }\n",
       "\n",
       "    .dataframe tbody tr th {\n",
       "        vertical-align: top;\n",
       "    }\n",
       "\n",
       "    .dataframe thead th {\n",
       "        text-align: right;\n",
       "    }\n",
       "</style>\n",
       "<table border=\"1\" class=\"dataframe\">\n",
       "  <thead>\n",
       "    <tr style=\"text-align: right;\">\n",
       "      <th></th>\n",
       "      <th>Balance</th>\n",
       "      <th>Income</th>\n",
       "    </tr>\n",
       "  </thead>\n",
       "  <tbody>\n",
       "    <tr>\n",
       "      <th>0</th>\n",
       "      <td>0.0</td>\n",
       "      <td>3</td>\n",
       "    </tr>\n",
       "    <tr>\n",
       "      <th>1</th>\n",
       "      <td>1.4</td>\n",
       "      <td>5</td>\n",
       "    </tr>\n",
       "    <tr>\n",
       "      <th>2</th>\n",
       "      <td>2.2</td>\n",
       "      <td>1</td>\n",
       "    </tr>\n",
       "    <tr>\n",
       "      <th>3</th>\n",
       "      <td>5.5</td>\n",
       "      <td>4</td>\n",
       "    </tr>\n",
       "    <tr>\n",
       "      <th>4</th>\n",
       "      <td>4.3</td>\n",
       "      <td>6</td>\n",
       "    </tr>\n",
       "  </tbody>\n",
       "</table>\n",
       "</div>"
      ],
      "text/plain": [
       "   Balance  Income\n",
       "0      0.0       3\n",
       "1      1.4       5\n",
       "2      2.2       1\n",
       "3      5.5       4\n",
       "4      4.3       6"
      ]
     },
     "execution_count": 26,
     "metadata": {},
     "output_type": "execute_result"
    }
   ],
   "source": [
    "# создаем игрушечный обучающий датафрейм pandas\n",
    "train = pd.DataFrame(\n",
    "    {'Balance': [0, 1.4, 2.2, 5.5, 4.3], \n",
    "     'Income': [3, 5, 1, 4, 6]})\n",
    "train"
   ]
  },
  {
   "cell_type": "code",
   "execution_count": 27,
   "metadata": {},
   "outputs": [
    {
     "data": {
      "text/html": [
       "<div>\n",
       "<style scoped>\n",
       "    .dataframe tbody tr th:only-of-type {\n",
       "        vertical-align: middle;\n",
       "    }\n",
       "\n",
       "    .dataframe tbody tr th {\n",
       "        vertical-align: top;\n",
       "    }\n",
       "\n",
       "    .dataframe thead th {\n",
       "        text-align: right;\n",
       "    }\n",
       "</style>\n",
       "<table border=\"1\" class=\"dataframe\">\n",
       "  <thead>\n",
       "    <tr style=\"text-align: right;\">\n",
       "      <th></th>\n",
       "      <th>Balance</th>\n",
       "      <th>Income</th>\n",
       "    </tr>\n",
       "  </thead>\n",
       "  <tbody>\n",
       "    <tr>\n",
       "      <th>0</th>\n",
       "      <td>1</td>\n",
       "      <td>2</td>\n",
       "    </tr>\n",
       "    <tr>\n",
       "      <th>1</th>\n",
       "      <td>1</td>\n",
       "      <td>3</td>\n",
       "    </tr>\n",
       "    <tr>\n",
       "      <th>2</th>\n",
       "      <td>2</td>\n",
       "      <td>1</td>\n",
       "    </tr>\n",
       "    <tr>\n",
       "      <th>3</th>\n",
       "      <td>3</td>\n",
       "      <td>3</td>\n",
       "    </tr>\n",
       "    <tr>\n",
       "      <th>4</th>\n",
       "      <td>3</td>\n",
       "      <td>3</td>\n",
       "    </tr>\n",
       "  </tbody>\n",
       "</table>\n",
       "</div>"
      ],
      "text/plain": [
       "   Balance  Income\n",
       "0        1       2\n",
       "1        1       3\n",
       "2        2       1\n",
       "3        3       3\n",
       "4        3       3"
      ]
     },
     "execution_count": 27,
     "metadata": {},
     "output_type": "execute_result"
    }
   ],
   "source": [
    "# создаем экземпляр класса CustomDiscretizer\n",
    "disc = CustomDiscretizer()\n",
    "# обучаем модель\n",
    "disc.fit(train)\n",
    "# выполняем биннинг в игрушечном\n",
    "# обучающем датафрейме pandas\n",
    "train = disc.transform(train)\n",
    "train"
   ]
  },
  {
   "cell_type": "code",
   "execution_count": 28,
   "metadata": {},
   "outputs": [
    {
     "data": {
      "text/plain": [
       "array([[0. , 3. ],\n",
       "       [1.4, 5. ],\n",
       "       [2.2, 1. ],\n",
       "       [5.5, 4. ],\n",
       "       [4.3, 6. ]])"
      ]
     },
     "execution_count": 28,
     "metadata": {},
     "output_type": "execute_result"
    }
   ],
   "source": [
    "# создаем игрушечный обучающий массив NumPy\n",
    "np_train = np.array(pd.DataFrame(\n",
    "    {'Balance': [0, 1.4, 2.2, 5.5, 4.3], \n",
    "     'Income': [3, 5, 1, 4, 6]}))\n",
    "np_train"
   ]
  },
  {
   "cell_type": "code",
   "execution_count": 29,
   "metadata": {},
   "outputs": [
    {
     "data": {
      "text/plain": [
       "array([[1, 2],\n",
       "       [1, 3],\n",
       "       [2, 1],\n",
       "       [3, 3],\n",
       "       [3, 3]])"
      ]
     },
     "execution_count": 29,
     "metadata": {},
     "output_type": "execute_result"
    }
   ],
   "source": [
    "# обучаем модель\n",
    "disc.fit(np_train)\n",
    "# выполняем  биннинг в игрушечном\n",
    "# обучающем массиве NumPy\n",
    "np_train = disc.transform(np_train)\n",
    "np_train"
   ]
  },
  {
   "cell_type": "code",
   "execution_count": 30,
   "metadata": {},
   "outputs": [],
   "source": [
    "# создаем собственный класс, выполняющий стандартизацию\n",
    "class CustomScaler(BaseEstimator, TransformerMixin):\n",
    "    \"\"\"\n",
    "    Выполняет стандартизацию признаков.\n",
    "    \n",
    "    Параметры\n",
    "    ----------\n",
    "    strategy: str, по умолчанию 'standard_scaler'\n",
    "        Стратегия стандартизации.\n",
    "    corr: bool, по умолчанию False\n",
    "        Корректировка по Гельману.\n",
    "    copy: bool, по умолчанию True\n",
    "         Выполняет копирование датафрейма.\n",
    "    \"\"\"\n",
    "    def __init__(self, strategy='standard_scaler', \n",
    "                 copy=True, corr=False):\n",
    "        self.strategy = strategy\n",
    "        self.corr = corr\n",
    "        self.copy = copy\n",
    "        \n",
    "        if corr and strategy == 'minmax_scaler':\n",
    "            raise ValueError('Corr=True только для ' + \n",
    "                             'стратегии standard_scaler')\n",
    "    \n",
    "    # частный метод, который с помощью функции isinstance()\n",
    "    # проверяет, является ли наш объект массивом NumPy\n",
    "    def __is_numpy(self, X):\n",
    "        return isinstance(X, np.ndarray)    \n",
    "    \n",
    "    def fit(self, X, y=None):\n",
    "        self.dict = {}\n",
    "        \n",
    "        # если 1D-массив, то переводим в 2D\n",
    "        if len(X.shape) == 1:\n",
    "            X = X.reshape(-1, 1)\n",
    "             \n",
    "        # записываем результат __is_numpy()\n",
    "        is_np = self.__is_numpy(X)\n",
    "        \n",
    "        # записываем количество столбцов\n",
    "        ncols = X.shape[1]\n",
    "        \n",
    "        if self.strategy == 'standard_scaler':\n",
    "            # если объект - массив NumPy, \n",
    "            # выполняем следующие действия:\n",
    "            if is_np:       \n",
    "                # по каждому столбцу массива NumPy\n",
    "                for col in range(ncols):\n",
    "                    # вычисляем среднее\n",
    "                    mean = np.mean(X[:, col])\n",
    "                    # вычисляем стандартное отклонение\n",
    "                    std = np.std(X[:, col], ddof=1)\n",
    "                    if self.corr:\n",
    "                        std = np.std(X[:, col], ddof=1) * 2\n",
    "                    self.dict[col] = (mean, std)\n",
    "            \n",
    "            # если объект - датафрейм pandas, \n",
    "            # выполняем следующие действия:         \n",
    "            else:\n",
    "                # по каждому столбцу датафрейма pandas\n",
    "                for col in X.columns:\n",
    "                    # вычисляем среднее\n",
    "                    mean = X[col].mean()\n",
    "                    # вычисляем стандартное отклонение\n",
    "                    std = X[col].std()\n",
    "                    if self.corr:\n",
    "                        std = X[col].std() * 2\n",
    "                    self.dict[col] = (mean, std)\n",
    "                        \n",
    "        if self.strategy == 'minmax_scaler':\n",
    "            # если объект - массив NumPy, \n",
    "            # выполняем следующие действия:\n",
    "            if is_np:\n",
    "                # по каждому столбцу массива NumPy\n",
    "                for col in range(ncols):\n",
    "                    # вычисляем минимальное значение\n",
    "                    min_value = np.min(X[:, col])\n",
    "                    # вычисляем разницу между максимальным\n",
    "                    # и минимальным значениями\n",
    "                    rng = np.ptp(X[:, col])\n",
    "                    self.dict[col] = (min_value, rng)\n",
    "                    \n",
    "            # если объект - датафрейм pandas, \n",
    "            # выполняем следующие действия: \n",
    "            else:\n",
    "                # по каждому столбцу датафрейма pandas\n",
    "                for col in X.columns:\n",
    "                    # вычисляем среднее\n",
    "                    min_value = X[col].min()\n",
    "                    # вычисляем разницу между максимальным\n",
    "                    # и минимальным значениями\n",
    "                    rng = X[col].max() - X[col].min()\n",
    "                    self.dict[col] = (min_value, rng)        \n",
    "                         \n",
    "        return self\n",
    "    \n",
    "    def transform(self, X):\n",
    "        \n",
    "        if self.copy:\n",
    "            X = X.copy()\n",
    "            \n",
    "        # если 1D-массив, то переводим в 2D\n",
    "        if len(X.shape) == 1:\n",
    "            X = X.reshape(-1, 1)\n",
    "        \n",
    "        # записываем результат __is_numpy()\n",
    "        is_np = self.__is_numpy(X)\n",
    "        \n",
    "        # записываем количество столбцов\n",
    "        ncols = X.shape[1]\n",
    "    \n",
    "        # если объект - массив NumPy, \n",
    "        # выполняем следующие действия:\n",
    "        if is_np:\n",
    "            # по каждому столбцу массива NumPy\n",
    "            for col in range(ncols):\n",
    "                # выполняем стандартизацию\n",
    "                X[:, col] = ((X[:, col] - self.dict[col][0]) / \n",
    "                             self.dict[col][1])\n",
    "        \n",
    "        # если объект - датафрейм pandas, \n",
    "        # выполняем следующие действия:     \n",
    "        else:\n",
    "            # по каждому столбцу датафрейма pandas\n",
    "            for col in X.columns:\n",
    "                # выполняем стандартизацию\n",
    "                X[col] = ((X[col] - self.dict[col][0]) / \n",
    "                          self.dict[col][1])\n",
    "                \n",
    "        return X"
   ]
  },
  {
   "cell_type": "code",
   "execution_count": 31,
   "metadata": {},
   "outputs": [],
   "source": [
    "# создаем игрушечный обучающий датафрейм pandas\n",
    "toy_train = pd.DataFrame(\n",
    "    {'Balance': [8.3, 9.4, 10.2, 0], \n",
    "     'Age': [23, 29, 36, 44]})\n",
    "\n",
    "# создаем игрушечный тестовый датафрейм pandas\n",
    "toy_test = pd.DataFrame(\n",
    "    {'Balance': [10.4, 3.1, 22.5, -1], \n",
    "     'Age': [13, 19, 66, 33]})"
   ]
  },
  {
   "cell_type": "code",
   "execution_count": 32,
   "metadata": {},
   "outputs": [
    {
     "name": "stdout",
     "output_type": "stream",
     "text": [
      "0    0.281031\n",
      "1    0.514340\n",
      "2    0.684019\n",
      "3   -1.479390\n",
      "Name: Balance, dtype: float64\n",
      "0   -1.104315\n",
      "1   -0.441726\n",
      "2    0.331295\n",
      "3    1.214747\n",
      "Name: Age, dtype: float64\n",
      "\n",
      "0    0.726439\n",
      "1   -0.821883\n",
      "2    3.292835\n",
      "3   -1.691489\n",
      "Name: Balance, dtype: float64\n",
      "0   -2.208631\n",
      "1   -1.546041\n",
      "2    3.644240\n",
      "3    0.000000\n",
      "Name: Age, dtype: float64\n"
     ]
    }
   ],
   "source": [
    "# смотрим, как должны выглядеть результаты\n",
    "balance_mean = toy_train['Balance'].mean()\n",
    "balance_std = toy_train['Balance'].std()\n",
    "age_mean = toy_train['Age'].mean()\n",
    "age_std = toy_train['Age'].std()\n",
    "print((toy_train['Balance'] - balance_mean) / balance_std)\n",
    "print((toy_train['Age'] - age_mean) / age_std)\n",
    "print(\"\")\n",
    "print((toy_test['Balance'] - balance_mean) / balance_std)\n",
    "print((toy_test['Age'] - age_mean) / age_std)"
   ]
  },
  {
   "cell_type": "code",
   "execution_count": 33,
   "metadata": {},
   "outputs": [],
   "source": [
    "# применяем класс к датафреймам pandas\n",
    "scaler = CustomScaler(strategy='standard_scaler', \n",
    "                      corr=False)\n",
    "scaler.fit(toy_train)\n",
    "toy_train = scaler.transform(toy_train)\n",
    "toy_test = scaler.transform(toy_test)"
   ]
  },
  {
   "cell_type": "code",
   "execution_count": 34,
   "metadata": {},
   "outputs": [
    {
     "data": {
      "text/html": [
       "<div>\n",
       "<style scoped>\n",
       "    .dataframe tbody tr th:only-of-type {\n",
       "        vertical-align: middle;\n",
       "    }\n",
       "\n",
       "    .dataframe tbody tr th {\n",
       "        vertical-align: top;\n",
       "    }\n",
       "\n",
       "    .dataframe thead th {\n",
       "        text-align: right;\n",
       "    }\n",
       "</style>\n",
       "<table border=\"1\" class=\"dataframe\">\n",
       "  <thead>\n",
       "    <tr style=\"text-align: right;\">\n",
       "      <th></th>\n",
       "      <th>Balance</th>\n",
       "      <th>Age</th>\n",
       "    </tr>\n",
       "  </thead>\n",
       "  <tbody>\n",
       "    <tr>\n",
       "      <th>0</th>\n",
       "      <td>0.281031</td>\n",
       "      <td>-1.104315</td>\n",
       "    </tr>\n",
       "    <tr>\n",
       "      <th>1</th>\n",
       "      <td>0.514340</td>\n",
       "      <td>-0.441726</td>\n",
       "    </tr>\n",
       "    <tr>\n",
       "      <th>2</th>\n",
       "      <td>0.684019</td>\n",
       "      <td>0.331295</td>\n",
       "    </tr>\n",
       "    <tr>\n",
       "      <th>3</th>\n",
       "      <td>-1.479390</td>\n",
       "      <td>1.214747</td>\n",
       "    </tr>\n",
       "  </tbody>\n",
       "</table>\n",
       "</div>"
      ],
      "text/plain": [
       "    Balance       Age\n",
       "0  0.281031 -1.104315\n",
       "1  0.514340 -0.441726\n",
       "2  0.684019  0.331295\n",
       "3 -1.479390  1.214747"
      ]
     },
     "execution_count": 34,
     "metadata": {},
     "output_type": "execute_result"
    }
   ],
   "source": [
    "# смотрим результат в игрушечном \n",
    "# обучающем датафрейме\n",
    "toy_train"
   ]
  },
  {
   "cell_type": "code",
   "execution_count": 35,
   "metadata": {},
   "outputs": [
    {
     "data": {
      "text/html": [
       "<div>\n",
       "<style scoped>\n",
       "    .dataframe tbody tr th:only-of-type {\n",
       "        vertical-align: middle;\n",
       "    }\n",
       "\n",
       "    .dataframe tbody tr th {\n",
       "        vertical-align: top;\n",
       "    }\n",
       "\n",
       "    .dataframe thead th {\n",
       "        text-align: right;\n",
       "    }\n",
       "</style>\n",
       "<table border=\"1\" class=\"dataframe\">\n",
       "  <thead>\n",
       "    <tr style=\"text-align: right;\">\n",
       "      <th></th>\n",
       "      <th>Balance</th>\n",
       "      <th>Age</th>\n",
       "    </tr>\n",
       "  </thead>\n",
       "  <tbody>\n",
       "    <tr>\n",
       "      <th>0</th>\n",
       "      <td>0.726439</td>\n",
       "      <td>-2.208631</td>\n",
       "    </tr>\n",
       "    <tr>\n",
       "      <th>1</th>\n",
       "      <td>-0.821883</td>\n",
       "      <td>-1.546041</td>\n",
       "    </tr>\n",
       "    <tr>\n",
       "      <th>2</th>\n",
       "      <td>3.292835</td>\n",
       "      <td>3.644240</td>\n",
       "    </tr>\n",
       "    <tr>\n",
       "      <th>3</th>\n",
       "      <td>-1.691489</td>\n",
       "      <td>0.000000</td>\n",
       "    </tr>\n",
       "  </tbody>\n",
       "</table>\n",
       "</div>"
      ],
      "text/plain": [
       "    Balance       Age\n",
       "0  0.726439 -2.208631\n",
       "1 -0.821883 -1.546041\n",
       "2  3.292835  3.644240\n",
       "3 -1.691489  0.000000"
      ]
     },
     "execution_count": 35,
     "metadata": {},
     "output_type": "execute_result"
    }
   ],
   "source": [
    "# смотрим результат в игрушечном \n",
    "# тестовом датафрейме\n",
    "toy_test"
   ]
  },
  {
   "cell_type": "code",
   "execution_count": 36,
   "metadata": {},
   "outputs": [
    {
     "name": "stdout",
     "output_type": "stream",
     "text": [
      "Balance 1.0\n",
      "Age 1.0\n"
     ]
    }
   ],
   "source": [
    "# взглянем на стандартные отклонения\n",
    "for col in toy_train.columns:\n",
    "    print(col, toy_train[col].std())"
   ]
  },
  {
   "cell_type": "code",
   "execution_count": 37,
   "metadata": {},
   "outputs": [],
   "source": [
    "# создаем игрушечный обучающий массив NumPy\n",
    "np_toy_train = np.array(pd.DataFrame(\n",
    "    {'Balance': [8.3, 9.4, 10.2, 0], \n",
    "     'Age': [23, 29, 36, 44]}))\n",
    "\n",
    "# создаем игрушечный тестовый массив NumPy\n",
    "np_toy_test = np.array(pd.DataFrame(\n",
    "    {'Balance': [10.4, 3.1, 22.5, -1], \n",
    "     'Age': [13, 19, 66, 33]}))"
   ]
  },
  {
   "cell_type": "code",
   "execution_count": 38,
   "metadata": {},
   "outputs": [],
   "source": [
    "# применяем класс к массивам NumPy\n",
    "scaler.fit(np_toy_train)\n",
    "np_toy_train = scaler.transform(np_toy_train)\n",
    "np_toy_test = scaler.transform(np_toy_test)"
   ]
  },
  {
   "cell_type": "code",
   "execution_count": 39,
   "metadata": {},
   "outputs": [
    {
     "data": {
      "text/plain": [
       "array([[ 0.28103104, -1.10431526],\n",
       "       [ 0.51433982, -0.4417261 ],\n",
       "       [ 0.68401894,  0.33129458],\n",
       "       [-1.4793898 ,  1.21474679]])"
      ]
     },
     "execution_count": 39,
     "metadata": {},
     "output_type": "execute_result"
    }
   ],
   "source": [
    "# смотрим результат в игрушечном \n",
    "# обучающем массиве NumPy\n",
    "np_toy_train"
   ]
  },
  {
   "cell_type": "code",
   "execution_count": 40,
   "metadata": {},
   "outputs": [
    {
     "data": {
      "text/plain": [
       "array([[ 0.72643872, -2.20863052],\n",
       "       [-0.82188322, -1.54604137],\n",
       "       [ 3.29283537,  3.64424036],\n",
       "       [-1.6914887 ,  0.        ]])"
      ]
     },
     "execution_count": 40,
     "metadata": {},
     "output_type": "execute_result"
    }
   ],
   "source": [
    "# смотрим результат в игрушечном \n",
    "# тестовом массиве NumPy\n",
    "np_toy_test"
   ]
  },
  {
   "cell_type": "code",
   "execution_count": 41,
   "metadata": {},
   "outputs": [],
   "source": [
    "# создаем игрушечный обучающий датафрейм pandas\n",
    "toy_train = pd.DataFrame(\n",
    "    {'Balance': [8.3, 9.4, 10.2, 0], \n",
    "     'Age': [23, 29, 36, 44]})\n",
    "\n",
    "# создаем игрушечный тестовый датафрейм pandas\n",
    "toy_test = pd.DataFrame(\n",
    "    {'Balance': [10.4, 3.1, 22.5, -1], \n",
    "     'Age': [13, 19, 66, 33]})"
   ]
  },
  {
   "cell_type": "code",
   "execution_count": 42,
   "metadata": {},
   "outputs": [
    {
     "name": "stdout",
     "output_type": "stream",
     "text": [
      "0    0.140516\n",
      "1    0.257170\n",
      "2    0.342009\n",
      "3   -0.739695\n",
      "Name: Balance, dtype: float64\n",
      "0   -0.552158\n",
      "1   -0.220863\n",
      "2    0.165647\n",
      "3    0.607373\n",
      "Name: Age, dtype: float64\n",
      "\n",
      "0    0.363219\n",
      "1   -0.410942\n",
      "2    1.646418\n",
      "3   -0.845744\n",
      "Name: Balance, dtype: float64\n",
      "0   -1.104315\n",
      "1   -0.773021\n",
      "2    1.822120\n",
      "3    0.000000\n",
      "Name: Age, dtype: float64\n"
     ]
    }
   ],
   "source": [
    "# смотрим, как должны выглядеть результаты\n",
    "balance_mean = toy_train['Balance'].mean()\n",
    "balance_2std = toy_train['Balance'].std() * 2\n",
    "age_mean = toy_train['Age'].mean()\n",
    "age_2std = toy_train['Age'].std() * 2\n",
    "\n",
    "print((toy_train['Balance'] - balance_mean) / balance_2std)\n",
    "print((toy_train['Age'] - age_mean) / age_2std)\n",
    "print(\"\")\n",
    "print((toy_test['Balance'] - balance_mean) / balance_2std)\n",
    "print((toy_test['Age'] - age_mean) / age_2std)"
   ]
  },
  {
   "cell_type": "code",
   "execution_count": 43,
   "metadata": {},
   "outputs": [],
   "source": [
    "# применяем класс к датафреймам pandas\n",
    "scaler = CustomScaler(strategy='standard_scaler', \n",
    "                      corr=True)\n",
    "scaler.fit(toy_train)\n",
    "toy_train = scaler.transform(toy_train)\n",
    "toy_test = scaler.transform(toy_test)"
   ]
  },
  {
   "cell_type": "code",
   "execution_count": 44,
   "metadata": {},
   "outputs": [
    {
     "data": {
      "text/html": [
       "<div>\n",
       "<style scoped>\n",
       "    .dataframe tbody tr th:only-of-type {\n",
       "        vertical-align: middle;\n",
       "    }\n",
       "\n",
       "    .dataframe tbody tr th {\n",
       "        vertical-align: top;\n",
       "    }\n",
       "\n",
       "    .dataframe thead th {\n",
       "        text-align: right;\n",
       "    }\n",
       "</style>\n",
       "<table border=\"1\" class=\"dataframe\">\n",
       "  <thead>\n",
       "    <tr style=\"text-align: right;\">\n",
       "      <th></th>\n",
       "      <th>Balance</th>\n",
       "      <th>Age</th>\n",
       "    </tr>\n",
       "  </thead>\n",
       "  <tbody>\n",
       "    <tr>\n",
       "      <th>0</th>\n",
       "      <td>0.140516</td>\n",
       "      <td>-0.552158</td>\n",
       "    </tr>\n",
       "    <tr>\n",
       "      <th>1</th>\n",
       "      <td>0.257170</td>\n",
       "      <td>-0.220863</td>\n",
       "    </tr>\n",
       "    <tr>\n",
       "      <th>2</th>\n",
       "      <td>0.342009</td>\n",
       "      <td>0.165647</td>\n",
       "    </tr>\n",
       "    <tr>\n",
       "      <th>3</th>\n",
       "      <td>-0.739695</td>\n",
       "      <td>0.607373</td>\n",
       "    </tr>\n",
       "  </tbody>\n",
       "</table>\n",
       "</div>"
      ],
      "text/plain": [
       "    Balance       Age\n",
       "0  0.140516 -0.552158\n",
       "1  0.257170 -0.220863\n",
       "2  0.342009  0.165647\n",
       "3 -0.739695  0.607373"
      ]
     },
     "execution_count": 44,
     "metadata": {},
     "output_type": "execute_result"
    }
   ],
   "source": [
    "# смотрим результат в игрушечном \n",
    "# обучающем датафрейме\n",
    "toy_train"
   ]
  },
  {
   "cell_type": "code",
   "execution_count": 45,
   "metadata": {},
   "outputs": [
    {
     "data": {
      "text/html": [
       "<div>\n",
       "<style scoped>\n",
       "    .dataframe tbody tr th:only-of-type {\n",
       "        vertical-align: middle;\n",
       "    }\n",
       "\n",
       "    .dataframe tbody tr th {\n",
       "        vertical-align: top;\n",
       "    }\n",
       "\n",
       "    .dataframe thead th {\n",
       "        text-align: right;\n",
       "    }\n",
       "</style>\n",
       "<table border=\"1\" class=\"dataframe\">\n",
       "  <thead>\n",
       "    <tr style=\"text-align: right;\">\n",
       "      <th></th>\n",
       "      <th>Balance</th>\n",
       "      <th>Age</th>\n",
       "    </tr>\n",
       "  </thead>\n",
       "  <tbody>\n",
       "    <tr>\n",
       "      <th>0</th>\n",
       "      <td>0.363219</td>\n",
       "      <td>-1.104315</td>\n",
       "    </tr>\n",
       "    <tr>\n",
       "      <th>1</th>\n",
       "      <td>-0.410942</td>\n",
       "      <td>-0.773021</td>\n",
       "    </tr>\n",
       "    <tr>\n",
       "      <th>2</th>\n",
       "      <td>1.646418</td>\n",
       "      <td>1.822120</td>\n",
       "    </tr>\n",
       "    <tr>\n",
       "      <th>3</th>\n",
       "      <td>-0.845744</td>\n",
       "      <td>0.000000</td>\n",
       "    </tr>\n",
       "  </tbody>\n",
       "</table>\n",
       "</div>"
      ],
      "text/plain": [
       "    Balance       Age\n",
       "0  0.363219 -1.104315\n",
       "1 -0.410942 -0.773021\n",
       "2  1.646418  1.822120\n",
       "3 -0.845744  0.000000"
      ]
     },
     "execution_count": 45,
     "metadata": {},
     "output_type": "execute_result"
    }
   ],
   "source": [
    "# смотрим результат на игрушечном тестовом датафрейме\n",
    "toy_test"
   ]
  },
  {
   "cell_type": "code",
   "execution_count": 46,
   "metadata": {},
   "outputs": [
    {
     "name": "stdout",
     "output_type": "stream",
     "text": [
      "Balance 0.5\n",
      "Age 0.5\n"
     ]
    }
   ],
   "source": [
    "# взглянем на стандартные отклонения\n",
    "for col in toy_train.columns:\n",
    "    print(col, toy_train[col].std())"
   ]
  },
  {
   "cell_type": "code",
   "execution_count": 47,
   "metadata": {},
   "outputs": [],
   "source": [
    "# создаем игрушечный обучающий массив NumPy\n",
    "np_toy_train = np.array(pd.DataFrame(\n",
    "    {'Balance': [8.3, 9.4, 10.2, 0], \n",
    "     'Age': [23, 29, 36, 44]}))\n",
    "\n",
    "# создаем игрушечный тестовый массив NumPy\n",
    "np_toy_test = np.array(pd.DataFrame(\n",
    "    {'Balance': [10.4, 3.1, 22.5, -1], \n",
    "     'Age': [13, 19, 66, 33]}))"
   ]
  },
  {
   "cell_type": "code",
   "execution_count": 48,
   "metadata": {},
   "outputs": [],
   "source": [
    "# сприменяем класс к массивам NumPy\n",
    "scaler.fit(np_toy_train)\n",
    "np_toy_train = scaler.transform(np_toy_train)\n",
    "np_toy_test = scaler.transform(np_toy_test)"
   ]
  },
  {
   "cell_type": "code",
   "execution_count": 49,
   "metadata": {},
   "outputs": [
    {
     "data": {
      "text/plain": [
       "array([[ 0.14051552, -0.55215763],\n",
       "       [ 0.25716991, -0.22086305],\n",
       "       [ 0.34200947,  0.16564729],\n",
       "       [-0.7396949 ,  0.60737339]])"
      ]
     },
     "execution_count": 49,
     "metadata": {},
     "output_type": "execute_result"
    }
   ],
   "source": [
    "# смотрим результат в игрушечном \n",
    "# обучающем массиве NumPy\n",
    "np_toy_train"
   ]
  },
  {
   "cell_type": "code",
   "execution_count": 50,
   "metadata": {},
   "outputs": [
    {
     "data": {
      "text/plain": [
       "array([[ 0.36321936, -1.10431526],\n",
       "       [-0.41094161, -0.77302068],\n",
       "       [ 1.64641768,  1.82212018],\n",
       "       [-0.84574435,  0.        ]])"
      ]
     },
     "execution_count": 50,
     "metadata": {},
     "output_type": "execute_result"
    }
   ],
   "source": [
    "# смотрим результат в игрушечном \n",
    "# тестовом массиве NumPy\n",
    "np_toy_test"
   ]
  },
  {
   "cell_type": "code",
   "execution_count": 51,
   "metadata": {},
   "outputs": [],
   "source": [
    "# создаем игрушечный обучающий датафрейм pandas\n",
    "toy_train = pd.DataFrame(\n",
    "    {'Balance': [8.3, 9.4, 10.2, 0], \n",
    "     'Age': [23, 29, 36, 44]})\n",
    "\n",
    "# создаем игрушечный тестовый датафрейм pandas\n",
    "toy_test = pd.DataFrame(\n",
    "    {'Balance': [10.4, 3.1, 22.5, -1], \n",
    "     'Age': [13, 19, 66, 33]})"
   ]
  },
  {
   "cell_type": "code",
   "execution_count": 52,
   "metadata": {},
   "outputs": [
    {
     "name": "stdout",
     "output_type": "stream",
     "text": [
      "0    0.813725\n",
      "1    0.921569\n",
      "2    1.000000\n",
      "3    0.000000\n",
      "Name: Balance, dtype: float64\n",
      "0    0.000000\n",
      "1    0.285714\n",
      "2    0.619048\n",
      "3    1.000000\n",
      "Name: Age, dtype: float64\n",
      "\n",
      "0    1.019608\n",
      "1    0.303922\n",
      "2    2.205882\n",
      "3   -0.098039\n",
      "Name: Balance, dtype: float64\n",
      "0   -0.476190\n",
      "1   -0.190476\n",
      "2    2.047619\n",
      "3    0.476190\n",
      "Name: Age, dtype: float64\n"
     ]
    }
   ],
   "source": [
    "# смотрим, как должны выглядеть результаты\n",
    "balance_min = toy_train['Balance'].min()\n",
    "balance_range = (toy_train['Balance'].max() - \n",
    "                 toy_train['Balance'].min())\n",
    "age_min = toy_train['Age'].min()\n",
    "age_range = (toy_train['Age'].max() - \n",
    "             toy_train['Age'].min())\n",
    "print((toy_train['Balance'] - balance_min) / balance_range)\n",
    "print((toy_train['Age'] - age_min) / age_range)\n",
    "print(\"\")\n",
    "print((toy_test['Balance'] - balance_min) / balance_range)\n",
    "print((toy_test['Age'] - age_min) / age_range)"
   ]
  },
  {
   "cell_type": "code",
   "execution_count": 53,
   "metadata": {},
   "outputs": [],
   "source": [
    "# применяем класс к датафреймам pandas\n",
    "scaler = CustomScaler(strategy='minmax_scaler', \n",
    "                      corr=False)\n",
    "scaler.fit(toy_train)\n",
    "toy_train = scaler.transform(toy_train)\n",
    "toy_test = scaler.transform(toy_test)"
   ]
  },
  {
   "cell_type": "code",
   "execution_count": 54,
   "metadata": {},
   "outputs": [
    {
     "data": {
      "text/html": [
       "<div>\n",
       "<style scoped>\n",
       "    .dataframe tbody tr th:only-of-type {\n",
       "        vertical-align: middle;\n",
       "    }\n",
       "\n",
       "    .dataframe tbody tr th {\n",
       "        vertical-align: top;\n",
       "    }\n",
       "\n",
       "    .dataframe thead th {\n",
       "        text-align: right;\n",
       "    }\n",
       "</style>\n",
       "<table border=\"1\" class=\"dataframe\">\n",
       "  <thead>\n",
       "    <tr style=\"text-align: right;\">\n",
       "      <th></th>\n",
       "      <th>Balance</th>\n",
       "      <th>Age</th>\n",
       "    </tr>\n",
       "  </thead>\n",
       "  <tbody>\n",
       "    <tr>\n",
       "      <th>0</th>\n",
       "      <td>0.813725</td>\n",
       "      <td>0.000000</td>\n",
       "    </tr>\n",
       "    <tr>\n",
       "      <th>1</th>\n",
       "      <td>0.921569</td>\n",
       "      <td>0.285714</td>\n",
       "    </tr>\n",
       "    <tr>\n",
       "      <th>2</th>\n",
       "      <td>1.000000</td>\n",
       "      <td>0.619048</td>\n",
       "    </tr>\n",
       "    <tr>\n",
       "      <th>3</th>\n",
       "      <td>0.000000</td>\n",
       "      <td>1.000000</td>\n",
       "    </tr>\n",
       "  </tbody>\n",
       "</table>\n",
       "</div>"
      ],
      "text/plain": [
       "    Balance       Age\n",
       "0  0.813725  0.000000\n",
       "1  0.921569  0.285714\n",
       "2  1.000000  0.619048\n",
       "3  0.000000  1.000000"
      ]
     },
     "execution_count": 54,
     "metadata": {},
     "output_type": "execute_result"
    }
   ],
   "source": [
    "# смотрим результат в игрушечном \n",
    "# обучающем датафрейме\n",
    "toy_train"
   ]
  },
  {
   "cell_type": "code",
   "execution_count": 55,
   "metadata": {},
   "outputs": [
    {
     "data": {
      "text/html": [
       "<div>\n",
       "<style scoped>\n",
       "    .dataframe tbody tr th:only-of-type {\n",
       "        vertical-align: middle;\n",
       "    }\n",
       "\n",
       "    .dataframe tbody tr th {\n",
       "        vertical-align: top;\n",
       "    }\n",
       "\n",
       "    .dataframe thead th {\n",
       "        text-align: right;\n",
       "    }\n",
       "</style>\n",
       "<table border=\"1\" class=\"dataframe\">\n",
       "  <thead>\n",
       "    <tr style=\"text-align: right;\">\n",
       "      <th></th>\n",
       "      <th>Balance</th>\n",
       "      <th>Age</th>\n",
       "    </tr>\n",
       "  </thead>\n",
       "  <tbody>\n",
       "    <tr>\n",
       "      <th>0</th>\n",
       "      <td>1.019608</td>\n",
       "      <td>-0.476190</td>\n",
       "    </tr>\n",
       "    <tr>\n",
       "      <th>1</th>\n",
       "      <td>0.303922</td>\n",
       "      <td>-0.190476</td>\n",
       "    </tr>\n",
       "    <tr>\n",
       "      <th>2</th>\n",
       "      <td>2.205882</td>\n",
       "      <td>2.047619</td>\n",
       "    </tr>\n",
       "    <tr>\n",
       "      <th>3</th>\n",
       "      <td>-0.098039</td>\n",
       "      <td>0.476190</td>\n",
       "    </tr>\n",
       "  </tbody>\n",
       "</table>\n",
       "</div>"
      ],
      "text/plain": [
       "    Balance       Age\n",
       "0  1.019608 -0.476190\n",
       "1  0.303922 -0.190476\n",
       "2  2.205882  2.047619\n",
       "3 -0.098039  0.476190"
      ]
     },
     "execution_count": 55,
     "metadata": {},
     "output_type": "execute_result"
    }
   ],
   "source": [
    "# смотрим результат в игрушечном \n",
    "# тестовом датафрейме\n",
    "toy_test"
   ]
  },
  {
   "cell_type": "code",
   "execution_count": 56,
   "metadata": {},
   "outputs": [],
   "source": [
    "# создаем игрушечный обучающий массив NumPy\n",
    "np_toy_train = np.array(pd.DataFrame(\n",
    "    {'Balance': [8.3, 9.4, 10.2, 0], \n",
    "     'Age': [23, 29, 36, 44]}))\n",
    "\n",
    "# создаем игрушечный тестовый массив NumPy\n",
    "np_toy_test = np.array(pd.DataFrame(\n",
    "    {'Balance': [10.4, 3.1, 22.5, -1], \n",
    "     'Age': [13, 19, 66, 33]}))"
   ]
  },
  {
   "cell_type": "code",
   "execution_count": 57,
   "metadata": {},
   "outputs": [],
   "source": [
    "# сприменяем класс к массивам NumPy\n",
    "scaler.fit(np_toy_train)\n",
    "np_toy_train = scaler.transform(np_toy_train)\n",
    "np_toy_test = scaler.transform(np_toy_test)"
   ]
  },
  {
   "cell_type": "code",
   "execution_count": 58,
   "metadata": {},
   "outputs": [
    {
     "data": {
      "text/plain": [
       "array([[0.81372549, 0.        ],\n",
       "       [0.92156863, 0.28571429],\n",
       "       [1.        , 0.61904762],\n",
       "       [0.        , 1.        ]])"
      ]
     },
     "execution_count": 58,
     "metadata": {},
     "output_type": "execute_result"
    }
   ],
   "source": [
    "# смотрим результат в игрушечном \n",
    "# обучающем массиве NumPy\n",
    "np_toy_train"
   ]
  },
  {
   "cell_type": "code",
   "execution_count": 59,
   "metadata": {},
   "outputs": [
    {
     "data": {
      "text/plain": [
       "array([[ 1.01960784, -0.47619048],\n",
       "       [ 0.30392157, -0.19047619],\n",
       "       [ 2.20588235,  2.04761905],\n",
       "       [-0.09803922,  0.47619048]])"
      ]
     },
     "execution_count": 59,
     "metadata": {},
     "output_type": "execute_result"
    }
   ],
   "source": [
    "# смотрим результат в игрушечном \n",
    "# тестовом массиве NumPy\n",
    "np_toy_test"
   ]
  },
  {
   "cell_type": "code",
   "execution_count": 60,
   "metadata": {},
   "outputs": [],
   "source": [
    "# создаем список категориальных признаков\n",
    "cat_columns = X_train.select_dtypes(\n",
    "    include='object').columns.tolist()\n",
    "# создаем список количественных признаков\n",
    "num_columns = X_train.select_dtypes(\n",
    "    exclude='object').columns.tolist()\n",
    "# создаем одноэлементный список для\n",
    "# признака Customer LifeTime Value\n",
    "clv_corrlog = ['Customer Lifetime Value']\n",
    "# создаем одноэлементный список для\n",
    "# признака Number of Policies\n",
    "numberofpol_bin = ['Number of Policies']\n",
    "# создаем одноэлементный список для \n",
    "# признака Monthly Premium Auto\n",
    "monthly_bin = ['Monthly Premium Auto']"
   ]
  },
  {
   "cell_type": "code",
   "execution_count": 61,
   "metadata": {},
   "outputs": [
    {
     "data": {
      "text/plain": [
       "['Income',\n",
       " 'Months Since Last Claim',\n",
       " 'Months Since Policy Inception',\n",
       " 'Number of Open Complaints']"
      ]
     },
     "execution_count": 61,
     "metadata": {},
     "output_type": "execute_result"
    }
   ],
   "source": [
    "# удаляем из списка количественных признаков признаки Customer \n",
    "# LifeTime Value, Number of Policies, Monthly Premium Auto\n",
    "num_columns = list(set(num_columns).difference(\n",
    "    set(clv_corrlog + numberofpol_bin + monthly_bin)))\n",
    "num_columns"
   ]
  },
  {
   "cell_type": "code",
   "execution_count": 62,
   "metadata": {},
   "outputs": [],
   "source": [
    "# создаем конвейер для количественных признаков \n",
    "# Number of Open Complaints, Income, \n",
    "# Months Since Last Claim и \n",
    "# Months Since Policy Inception\n",
    "num_pipe = Pipeline([\n",
    "    ('imp', SimpleImputer(strategy='mean')),\n",
    "    ('repl', Replacer()),\n",
    "    ('box_cox', PowerTransformer(method='box-cox', \n",
    "                                 standardize=True))\n",
    "])\n",
    "\n",
    "# создаем конвейер для количественного \n",
    "# признака Customer Lifetime Value\n",
    "clv_corrlog_pipe = Pipeline([\n",
    "    ('imp', SimpleImputer(strategy='mean')),\n",
    "    ('corrlog', CorrLogTransformer(k=0.001)),\n",
    "    ('scaler', CustomScaler())\n",
    "])\n",
    "\n",
    "# создаем конвейер для количественного\n",
    "# признака Number of Policies\n",
    "numberofpol_bin_pipe = Pipeline([\n",
    "    ('imp', SimpleImputer(strategy='most_frequent')),\n",
    "    ('binn', CustomDiscretizer()),\n",
    "    ('ohe', OneHotEncoder(sparse=False, \n",
    "                          handle_unknown='ignore'))\n",
    "])\n",
    "\n",
    "# создаем конвейер для количественного \n",
    "# признака Monthly Premium Auto\n",
    "monthly_bin_pipe = Pipeline([\n",
    "    ('imp', SimpleImputer(strategy='most_frequent')),\n",
    "    ('binn', CustomDiscretizer()),\n",
    "    ('ohe', OneHotEncoder(sparse=False, \n",
    "                          handle_unknown='ignore'))\n",
    "])\n",
    "\n",
    "# создаем конвейер для категориальных признаков\n",
    "cat_pipe = Pipeline([\n",
    "    ('imp', SimpleImputer(strategy='most_frequent')),\n",
    "    ('ohe', OneHotEncoder(sparse=False, \n",
    "                          handle_unknown='ignore'))\n",
    "])"
   ]
  },
  {
   "cell_type": "code",
   "execution_count": 63,
   "metadata": {},
   "outputs": [
    {
     "data": {
      "text/plain": [
       "ColumnTransformer(transformers=[('num',\n",
       "                                 Pipeline(steps=[('imp', SimpleImputer()),\n",
       "                                                 ('repl', Replacer()),\n",
       "                                                 ('box_cox',\n",
       "                                                  PowerTransformer(method='box-cox'))]),\n",
       "                                 ['Income', 'Months Since Last Claim',\n",
       "                                  'Months Since Policy Inception',\n",
       "                                  'Number of Open Complaints']),\n",
       "                                ('clv_corrlog',\n",
       "                                 Pipeline(steps=[('imp', SimpleImputer()),\n",
       "                                                 ('corrlog',\n",
       "                                                  CorrLogTransformer(k=0.001)),\n",
       "                                                 ('scaler', CustomSc...\n",
       "                                 Pipeline(steps=[('imp',\n",
       "                                                  SimpleImputer(strategy='most_frequent')),\n",
       "                                                 ('binn', CustomDiscretizer()),\n",
       "                                                 ('ohe',\n",
       "                                                  OneHotEncoder(handle_unknown='ignore',\n",
       "                                                                sparse=False))]),\n",
       "                                 ['Monthly Premium Auto']),\n",
       "                                ('cat',\n",
       "                                 Pipeline(steps=[('imp',\n",
       "                                                  SimpleImputer(strategy='most_frequent')),\n",
       "                                                 ('ohe',\n",
       "                                                  OneHotEncoder(handle_unknown='ignore',\n",
       "                                                                sparse=False))]),\n",
       "                                 ['Coverage', 'Education', 'EmploymentStatus',\n",
       "                                  'Gender'])])"
      ]
     },
     "execution_count": 63,
     "metadata": {},
     "output_type": "execute_result"
    }
   ],
   "source": [
    "# создаем список трехэлементных кортежей, в котором\n",
    "# первый элемент кортежа - название конвейера с\n",
    "# преобразованиями для определенного типа признаков\n",
    "transformers = [\n",
    "    ('num', num_pipe, num_columns),\n",
    "    ('clv_corrlog', clv_corrlog_pipe, clv_corrlog),\n",
    "    ('numberofpol_bin', numberofpol_bin_pipe, numberofpol_bin),\n",
    "    ('monthly_bin', monthly_bin_pipe, monthly_bin),\n",
    "    ('cat', cat_pipe, cat_columns)\n",
    "]\n",
    "\n",
    "# передаем список трансформеров в ColumnTransformer\n",
    "transformer = ColumnTransformer(transformers=transformers)\n",
    "transformer"
   ]
  },
  {
   "cell_type": "code",
   "execution_count": 64,
   "metadata": {},
   "outputs": [],
   "source": [
    "# задаем итоговый конвейер\n",
    "ml_pipe = Pipeline([\n",
    "    ('tr', transformer), \n",
    "    ('lr', LogisticRegression(solver='lbfgs', \n",
    "                              max_iter=200))\n",
    "])"
   ]
  },
  {
   "cell_type": "code",
   "execution_count": 65,
   "metadata": {
    "scrolled": true
   },
   "outputs": [
    {
     "name": "stdout",
     "output_type": "stream",
     "text": [
      "Наилучшие значения гиперпараметров:\n",
      "{'lr__C': 0.2, 'tr__clv_corrlog__corrlog__k': 0.6, 'tr__monthly_bin__binn__bins': [-inf, 100, 150, 200, inf], 'tr__num__repl__repl_value': 0.005, 'tr__numberofpol_bin__binn__bins': [-inf, 3, 6, inf]}\n",
      "Наилучшее значение AUC: 0.668\n",
      "AUC на тестовой выборке: 0.669\n"
     ]
    }
   ],
   "source": [
    "# задаем сетку гиперпараметров\n",
    "param_grid = {\n",
    "    'tr__num__repl__repl_value': [0.005, 0.01, 0.2],\n",
    "    'tr__clv_corrlog__corrlog__k': [0.1, 0.5, 0.6, 0.7, 0.8],\n",
    "    'tr__numberofpol_bin__binn__bins': [[-np.inf, 2, 4, 6, np.inf], \n",
    "                                        [-np.inf, 3, 6, np.inf]],\n",
    "    'tr__monthly_bin__binn__bins': [[-np.inf, 100, 150, 200, 250, np.inf],\n",
    "                                    [-np.inf, 100, 150, 200, np.inf]], \n",
    "    'lr__C': [0.1, 0.2, 0.3]\n",
    "}\n",
    "\n",
    "# создаем экземпляр класса GridSearchCV, передав конвейер,\n",
    "# сетку гиперпараметров, оптимизируемую метрику качества \n",
    "# и указав количество блоков перекрестной проверки\n",
    "gs = GridSearchCV(ml_pipe, \n",
    "                  param_grid, \n",
    "                  scoring='roc_auc', \n",
    "                  cv=5)\n",
    "\n",
    "# выполняем поиск по сетке\n",
    "gs.fit(X_train, y_train)\n",
    "\n",
    "# смотрим наилучшие значения гиперпараметров\n",
    "print(\"Наилучшие значения гиперпараметров:\\n{}\".format(\n",
    "    gs.best_params_))\n",
    "# смотрим наилучшее значение AUC\n",
    "print(\"Наилучшее значение AUC: {:.3f}\".format(\n",
    "    gs.best_score_))\n",
    "# смотрим значение AUC на тестовой выборке\n",
    "print(\"AUC на тестовой выборке: {:.3f}\".format(\n",
    "    roc_auc_score(y_test, gs.predict_proba(X_test)[:, 1])))"
   ]
  },
  {
   "cell_type": "code",
   "execution_count": null,
   "metadata": {},
   "outputs": [],
   "source": []
  }
 ],
 "metadata": {
  "kernelspec": {
   "display_name": "Python 3 (ipykernel)",
   "language": "python",
   "name": "python3"
  },
  "language_info": {
   "codemirror_mode": {
    "name": "ipython",
    "version": 3
   },
   "file_extension": ".py",
   "mimetype": "text/x-python",
   "name": "python",
   "nbconvert_exporter": "python",
   "pygments_lexer": "ipython3",
   "version": "3.9.12"
  }
 },
 "nbformat": 4,
 "nbformat_minor": 2
}
