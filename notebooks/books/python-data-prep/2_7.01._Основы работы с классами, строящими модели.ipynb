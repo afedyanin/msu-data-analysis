{
 "cells": [
  {
   "cell_type": "code",
   "execution_count": 1,
   "metadata": {},
   "outputs": [],
   "source": [
    "# импортируем библиотеки pandas, numpy, math\n",
    "import pandas as pd\n",
    "import numpy as np\n",
    "import math"
   ]
  },
  {
   "cell_type": "code",
   "execution_count": 2,
   "metadata": {},
   "outputs": [],
   "source": [
    "# создаем собственный класс, выполняющий замену\n",
    "# пропусков средним значением\n",
    "class MeanImputer():\n",
    "    \"\"\"\n",
    "    Параметры\n",
    "    ---------\n",
    "    copy: bool, по умолчанию True\n",
    "         Возвращает копию.\n",
    "   \n",
    "    Возвращает\n",
    "    -------\n",
    "    X : pandas.DataFrame или numpy.ndarray\n",
    "        Датафрейм pandas или массив NumPy\n",
    "        с импутированными значениями.\n",
    "    \"\"\"\n",
    "    \n",
    "    def __init__(self, copy=True):\n",
    "        # все параметры для инициализации публичных атрибутов \n",
    "        # должны быть заданы в методе __init__\n",
    "        \n",
    "        # публичный атрибут\n",
    "        self.copy = copy\n",
    "        \n",
    "    def __is_numpy(self, X):\n",
    "        # частный метод, который с помощью функции isinstance()\n",
    "        # проверяет, является ли наш объект массивом NumPy\n",
    "        return isinstance(X, np.ndarray)\n",
    "                \n",
    "    def fit(self, X, y=None):\n",
    "        # метод .fit() должен принимать\n",
    "        # в качестве аргументов X и y\n",
    "        \n",
    "        # создаем пустой словарь, в котором ключами\n",
    "        # будут имена/целые числа, а значениями - средние\n",
    "        self._encoder_dict = {}\n",
    "        \n",
    "        # если 1D-массив, то переводим в 2D\n",
    "        if len(X.shape) == 1:\n",
    "            X = X.reshape(-1, 1)\n",
    "            \n",
    "        # записываем количество столбцов\n",
    "        ncols = X.shape[1]\n",
    "        \n",
    "        # записываем результат метода __is_numpy\n",
    "        is_np = self.__is_numpy(X)\n",
    "        \n",
    "        # если объект - массив NumPy\n",
    "        if is_np:\n",
    "            # по каждому столбцу массива NumPy\n",
    "            for col in range(ncols):\n",
    "                # вычисляем среднее и записываем в словарь\n",
    "                self._encoder_dict[col] = np.nanmean(X[:, col])\n",
    "        # если объект - датафрейм pandas\n",
    "        else:\n",
    "            # по каждому столбцу датафрейма pandas\n",
    "            for col in X.columns:\n",
    "                # вычисляем среднее и записываем в словарь\n",
    "                self._encoder_dict[col] = X[col].mean()\n",
    "                \n",
    "        # fit возвращает self\n",
    "        return self\n",
    "    \n",
    "    def transform(self, X):\n",
    "        # transform принимает в качестве \n",
    "        # аргумента только X\n",
    "        \n",
    "        # выполняем копирование массива во избежание \n",
    "        # предупреждения SettingWithCopyWarning\n",
    "        # \"A value is trying to be set on a copy of \n",
    "        # a slice from a DataFrame (Происходит попытка \n",
    "        # изменить значение в копии среза данных \n",
    "        # датафрейма)\"\n",
    "        if self.copy:\n",
    "            X = X.copy()\n",
    "        \n",
    "        # если 1D-массив, то переводим в 2D\n",
    "        if len(X.shape) == 1:\n",
    "            X = X.reshape(-1, 1)\n",
    "            \n",
    "        # записываем количество столбцов\n",
    "        ncols = X.shape[1]\n",
    "        \n",
    "        # записываем результат метода __is_numpy\n",
    "        is_np = self.__is_numpy(X)\n",
    "        \n",
    "        # применяем преобразование к X\n",
    "        # если объект - массив NumPy:\n",
    "        if is_np:\n",
    "            # по каждому столбцу массива NumPy\n",
    "            for col in range(ncols):\n",
    "                # заменяем пропуски средним \n",
    "                # значением из словаря\n",
    "                X[:, col] = np.nan_to_num(\n",
    "                    X[:, col], \n",
    "                    nan=self._encoder_dict[col])\n",
    "        # если объект - датафрейм pandas:\n",
    "        else:\n",
    "            # по каждому столбцу датафрейма pandas\n",
    "            for col in X.columns:\n",
    "                # заменяем пропуски средним \n",
    "                # значением из словаря\n",
    "                X[col] = np.where(X[col].isnull(), \n",
    "                                  self._encoder_dict[col], \n",
    "                                  X[col])\n",
    "        \n",
    "        # transform возвращает X\n",
    "        return X"
   ]
  },
  {
   "cell_type": "code",
   "execution_count": 3,
   "metadata": {},
   "outputs": [
    {
     "data": {
      "text/html": [
       "<div>\n",
       "<style scoped>\n",
       "    .dataframe tbody tr th:only-of-type {\n",
       "        vertical-align: middle;\n",
       "    }\n",
       "\n",
       "    .dataframe tbody tr th {\n",
       "        vertical-align: top;\n",
       "    }\n",
       "\n",
       "    .dataframe thead th {\n",
       "        text-align: right;\n",
       "    }\n",
       "</style>\n",
       "<table border=\"1\" class=\"dataframe\">\n",
       "  <thead>\n",
       "    <tr style=\"text-align: right;\">\n",
       "      <th></th>\n",
       "      <th>Balance</th>\n",
       "      <th>Age</th>\n",
       "    </tr>\n",
       "  </thead>\n",
       "  <tbody>\n",
       "    <tr>\n",
       "      <th>0</th>\n",
       "      <td>8.3</td>\n",
       "      <td>23.0</td>\n",
       "    </tr>\n",
       "    <tr>\n",
       "      <th>1</th>\n",
       "      <td>NaN</td>\n",
       "      <td>29.0</td>\n",
       "    </tr>\n",
       "    <tr>\n",
       "      <th>2</th>\n",
       "      <td>10.2</td>\n",
       "      <td>36.0</td>\n",
       "    </tr>\n",
       "    <tr>\n",
       "      <th>3</th>\n",
       "      <td>3.1</td>\n",
       "      <td>NaN</td>\n",
       "    </tr>\n",
       "  </tbody>\n",
       "</table>\n",
       "</div>"
      ],
      "text/plain": [
       "   Balance   Age\n",
       "0      8.3  23.0\n",
       "1      NaN  29.0\n",
       "2     10.2  36.0\n",
       "3      3.1   NaN"
      ]
     },
     "execution_count": 3,
     "metadata": {},
     "output_type": "execute_result"
    }
   ],
   "source": [
    "# создаем игрушечный обучающий датафрейм pandas\n",
    "toy_train = pd.DataFrame(\n",
    "    {'Balance': [8.3, np.NaN, 10.2, 3.1], \n",
    "     'Age': [23, 29, 36, np.NaN]})\n",
    "toy_train"
   ]
  },
  {
   "cell_type": "code",
   "execution_count": 4,
   "metadata": {},
   "outputs": [
    {
     "data": {
      "text/html": [
       "<div>\n",
       "<style scoped>\n",
       "    .dataframe tbody tr th:only-of-type {\n",
       "        vertical-align: middle;\n",
       "    }\n",
       "\n",
       "    .dataframe tbody tr th {\n",
       "        vertical-align: top;\n",
       "    }\n",
       "\n",
       "    .dataframe thead th {\n",
       "        text-align: right;\n",
       "    }\n",
       "</style>\n",
       "<table border=\"1\" class=\"dataframe\">\n",
       "  <thead>\n",
       "    <tr style=\"text-align: right;\">\n",
       "      <th></th>\n",
       "      <th>Balance</th>\n",
       "      <th>Age</th>\n",
       "    </tr>\n",
       "  </thead>\n",
       "  <tbody>\n",
       "    <tr>\n",
       "      <th>0</th>\n",
       "      <td>10.4</td>\n",
       "      <td>13.0</td>\n",
       "    </tr>\n",
       "    <tr>\n",
       "      <th>1</th>\n",
       "      <td>NaN</td>\n",
       "      <td>19.0</td>\n",
       "    </tr>\n",
       "    <tr>\n",
       "      <th>2</th>\n",
       "      <td>22.5</td>\n",
       "      <td>66.0</td>\n",
       "    </tr>\n",
       "    <tr>\n",
       "      <th>3</th>\n",
       "      <td>1.1</td>\n",
       "      <td>NaN</td>\n",
       "    </tr>\n",
       "  </tbody>\n",
       "</table>\n",
       "</div>"
      ],
      "text/plain": [
       "   Balance   Age\n",
       "0     10.4  13.0\n",
       "1      NaN  19.0\n",
       "2     22.5  66.0\n",
       "3      1.1   NaN"
      ]
     },
     "execution_count": 4,
     "metadata": {},
     "output_type": "execute_result"
    }
   ],
   "source": [
    "# создаем игрушечный тестовый датафрейм pandas\n",
    "toy_test = pd.DataFrame(\n",
    "    {'Balance': [10.4, np.NaN, 22.5, 1.1], \n",
    "     'Age': [13, 19, 66, np.NaN]})\n",
    "toy_test"
   ]
  },
  {
   "cell_type": "code",
   "execution_count": 5,
   "metadata": {
    "scrolled": true
   },
   "outputs": [
    {
     "name": "stdout",
     "output_type": "stream",
     "text": [
      "обучающий датафрейм\n",
      "   Balance        Age\n",
      "0      8.3  23.000000\n",
      "1      7.2  29.000000\n",
      "2     10.2  36.000000\n",
      "3      3.1  29.333333\n",
      "\n",
      "тестовый датафрейм\n",
      "   Balance        Age\n",
      "0     10.4  13.000000\n",
      "1      7.2  19.000000\n",
      "2     22.5  66.000000\n",
      "3      1.1  29.333333\n"
     ]
    }
   ],
   "source": [
    "# смотрим, как будут выглядеть преобразования в игрушечных\n",
    "# обучающем и тестовом датафреймах pandas\n",
    "for col in toy_train.columns:\n",
    "    toy_train[col].fillna(toy_train[col].mean(), inplace=True)\n",
    "    toy_test[col].fillna(toy_train[col].mean(), inplace=True)\n",
    "print('обучающий датафрейм')\n",
    "print(toy_train)\n",
    "print('')\n",
    "print('тестовый датафрейм')\n",
    "print(toy_test)"
   ]
  },
  {
   "cell_type": "code",
   "execution_count": 6,
   "metadata": {},
   "outputs": [
    {
     "data": {
      "text/html": [
       "<div>\n",
       "<style scoped>\n",
       "    .dataframe tbody tr th:only-of-type {\n",
       "        vertical-align: middle;\n",
       "    }\n",
       "\n",
       "    .dataframe tbody tr th {\n",
       "        vertical-align: top;\n",
       "    }\n",
       "\n",
       "    .dataframe thead th {\n",
       "        text-align: right;\n",
       "    }\n",
       "</style>\n",
       "<table border=\"1\" class=\"dataframe\">\n",
       "  <thead>\n",
       "    <tr style=\"text-align: right;\">\n",
       "      <th></th>\n",
       "      <th>Balance</th>\n",
       "      <th>Age</th>\n",
       "    </tr>\n",
       "  </thead>\n",
       "  <tbody>\n",
       "    <tr>\n",
       "      <th>0</th>\n",
       "      <td>8.3</td>\n",
       "      <td>23.000000</td>\n",
       "    </tr>\n",
       "    <tr>\n",
       "      <th>1</th>\n",
       "      <td>7.2</td>\n",
       "      <td>29.000000</td>\n",
       "    </tr>\n",
       "    <tr>\n",
       "      <th>2</th>\n",
       "      <td>10.2</td>\n",
       "      <td>36.000000</td>\n",
       "    </tr>\n",
       "    <tr>\n",
       "      <th>3</th>\n",
       "      <td>3.1</td>\n",
       "      <td>29.333333</td>\n",
       "    </tr>\n",
       "  </tbody>\n",
       "</table>\n",
       "</div>"
      ],
      "text/plain": [
       "   Balance        Age\n",
       "0      8.3  23.000000\n",
       "1      7.2  29.000000\n",
       "2     10.2  36.000000\n",
       "3      3.1  29.333333"
      ]
     },
     "execution_count": 6,
     "metadata": {},
     "output_type": "execute_result"
    }
   ],
   "source": [
    "# создаем экземпляр класса MeanImputer\n",
    "imp = MeanImputer()\n",
    "# обучаем модель\n",
    "imp.fit(toy_train)\n",
    "# выполняем преобразование игрушечного\n",
    "# обучающего датафрейма pandas\n",
    "toy_train = imp.transform(toy_train)\n",
    "toy_train"
   ]
  },
  {
   "cell_type": "code",
   "execution_count": 7,
   "metadata": {},
   "outputs": [
    {
     "data": {
      "text/html": [
       "<div>\n",
       "<style scoped>\n",
       "    .dataframe tbody tr th:only-of-type {\n",
       "        vertical-align: middle;\n",
       "    }\n",
       "\n",
       "    .dataframe tbody tr th {\n",
       "        vertical-align: top;\n",
       "    }\n",
       "\n",
       "    .dataframe thead th {\n",
       "        text-align: right;\n",
       "    }\n",
       "</style>\n",
       "<table border=\"1\" class=\"dataframe\">\n",
       "  <thead>\n",
       "    <tr style=\"text-align: right;\">\n",
       "      <th></th>\n",
       "      <th>Balance</th>\n",
       "      <th>Age</th>\n",
       "    </tr>\n",
       "  </thead>\n",
       "  <tbody>\n",
       "    <tr>\n",
       "      <th>0</th>\n",
       "      <td>10.4</td>\n",
       "      <td>13.000000</td>\n",
       "    </tr>\n",
       "    <tr>\n",
       "      <th>1</th>\n",
       "      <td>7.2</td>\n",
       "      <td>19.000000</td>\n",
       "    </tr>\n",
       "    <tr>\n",
       "      <th>2</th>\n",
       "      <td>22.5</td>\n",
       "      <td>66.000000</td>\n",
       "    </tr>\n",
       "    <tr>\n",
       "      <th>3</th>\n",
       "      <td>1.1</td>\n",
       "      <td>29.333333</td>\n",
       "    </tr>\n",
       "  </tbody>\n",
       "</table>\n",
       "</div>"
      ],
      "text/plain": [
       "   Balance        Age\n",
       "0     10.4  13.000000\n",
       "1      7.2  19.000000\n",
       "2     22.5  66.000000\n",
       "3      1.1  29.333333"
      ]
     },
     "execution_count": 7,
     "metadata": {},
     "output_type": "execute_result"
    }
   ],
   "source": [
    "# выполняем преобразование игрушечного\n",
    "# тестового датафрейма pandas\n",
    "toy_test = imp.transform(toy_test)\n",
    "toy_test"
   ]
  },
  {
   "cell_type": "code",
   "execution_count": 8,
   "metadata": {},
   "outputs": [
    {
     "name": "stderr",
     "output_type": "stream",
     "text": [
      "/var/folders/x9/w1kvj6ms0p52l8j6crt19vmh0000gn/T/ipykernel_16527/727811685.py:100: SettingWithCopyWarning: \n",
      "A value is trying to be set on a copy of a slice from a DataFrame.\n",
      "Try using .loc[row_indexer,col_indexer] = value instead\n",
      "\n",
      "See the caveats in the documentation: https://pandas.pydata.org/pandas-docs/stable/user_guide/indexing.html#returning-a-view-versus-a-copy\n",
      "  X[col] = np.where(X[col].isnull(),\n"
     ]
    },
    {
     "data": {
      "text/html": [
       "<div>\n",
       "<style scoped>\n",
       "    .dataframe tbody tr th:only-of-type {\n",
       "        vertical-align: middle;\n",
       "    }\n",
       "\n",
       "    .dataframe tbody tr th {\n",
       "        vertical-align: top;\n",
       "    }\n",
       "\n",
       "    .dataframe thead th {\n",
       "        text-align: right;\n",
       "    }\n",
       "</style>\n",
       "<table border=\"1\" class=\"dataframe\">\n",
       "  <thead>\n",
       "    <tr style=\"text-align: right;\">\n",
       "      <th></th>\n",
       "      <th>Balance</th>\n",
       "      <th>Age</th>\n",
       "    </tr>\n",
       "  </thead>\n",
       "  <tbody>\n",
       "    <tr>\n",
       "      <th>0</th>\n",
       "      <td>8.3</td>\n",
       "      <td>23.000000</td>\n",
       "    </tr>\n",
       "    <tr>\n",
       "      <th>1</th>\n",
       "      <td>NaN</td>\n",
       "      <td>29.000000</td>\n",
       "    </tr>\n",
       "    <tr>\n",
       "      <th>2</th>\n",
       "      <td>10.2</td>\n",
       "      <td>36.000000</td>\n",
       "    </tr>\n",
       "    <tr>\n",
       "      <th>3</th>\n",
       "      <td>3.1</td>\n",
       "      <td>29.333333</td>\n",
       "    </tr>\n",
       "  </tbody>\n",
       "</table>\n",
       "</div>"
      ],
      "text/plain": [
       "   Balance        Age\n",
       "0      8.3  23.000000\n",
       "1      NaN  29.000000\n",
       "2     10.2  36.000000\n",
       "3      3.1  29.333333"
      ]
     },
     "execution_count": 8,
     "metadata": {},
     "output_type": "execute_result"
    }
   ],
   "source": [
    "# создаем игрушечный обучающий датафрейм pandas\n",
    "toy_train = pd.DataFrame(\n",
    "    {'Balance': [8.3, np.NaN, 10.2, 3.1], \n",
    "     'Age': [23, 29, 36, np.NaN]})\n",
    "\n",
    "# создаем экземпляр класса, отключив копирование\n",
    "imp = MeanImputer(copy=False)\n",
    "# обучаем модель\n",
    "imp.fit(toy_train[['Age']])\n",
    "# применяем модель\n",
    "toy_train['Age'] = imp.transform(toy_train[['Age']])\n",
    "toy_train"
   ]
  },
  {
   "cell_type": "code",
   "execution_count": 9,
   "metadata": {},
   "outputs": [
    {
     "data": {
      "text/html": [
       "<div>\n",
       "<style scoped>\n",
       "    .dataframe tbody tr th:only-of-type {\n",
       "        vertical-align: middle;\n",
       "    }\n",
       "\n",
       "    .dataframe tbody tr th {\n",
       "        vertical-align: top;\n",
       "    }\n",
       "\n",
       "    .dataframe thead th {\n",
       "        text-align: right;\n",
       "    }\n",
       "</style>\n",
       "<table border=\"1\" class=\"dataframe\">\n",
       "  <thead>\n",
       "    <tr style=\"text-align: right;\">\n",
       "      <th></th>\n",
       "      <th>Balance</th>\n",
       "      <th>Age</th>\n",
       "    </tr>\n",
       "  </thead>\n",
       "  <tbody>\n",
       "    <tr>\n",
       "      <th>0</th>\n",
       "      <td>8.3</td>\n",
       "      <td>23.000000</td>\n",
       "    </tr>\n",
       "    <tr>\n",
       "      <th>1</th>\n",
       "      <td>NaN</td>\n",
       "      <td>29.000000</td>\n",
       "    </tr>\n",
       "    <tr>\n",
       "      <th>2</th>\n",
       "      <td>10.2</td>\n",
       "      <td>36.000000</td>\n",
       "    </tr>\n",
       "    <tr>\n",
       "      <th>3</th>\n",
       "      <td>3.1</td>\n",
       "      <td>29.333333</td>\n",
       "    </tr>\n",
       "  </tbody>\n",
       "</table>\n",
       "</div>"
      ],
      "text/plain": [
       "   Balance        Age\n",
       "0      8.3  23.000000\n",
       "1      NaN  29.000000\n",
       "2     10.2  36.000000\n",
       "3      3.1  29.333333"
      ]
     },
     "execution_count": 9,
     "metadata": {},
     "output_type": "execute_result"
    }
   ],
   "source": [
    "# создаем игрушечный обучающий датафрейм pandas\n",
    "toy_train = pd.DataFrame(\n",
    "    {'Balance': [8.3, np.NaN, 10.2, 3.1], \n",
    "     'Age': [23, 29, 36, np.NaN]})\n",
    "# создаем экземпляр класса, отключив копирование\n",
    "imp = MeanImputer(copy=True)\n",
    "# обучаем модель\n",
    "imp.fit(toy_train[['Age']])\n",
    "# применяем модель\n",
    "toy_train['Age'] = imp.transform(toy_train[['Age']])\n",
    "toy_train"
   ]
  },
  {
   "cell_type": "code",
   "execution_count": 10,
   "metadata": {},
   "outputs": [
    {
     "data": {
      "text/plain": [
       "array([[ 8.3, 23. ],\n",
       "       [ nan, 29. ],\n",
       "       [10.2, 36. ],\n",
       "       [ 3.1,  nan]])"
      ]
     },
     "execution_count": 10,
     "metadata": {},
     "output_type": "execute_result"
    }
   ],
   "source": [
    "# создаем игрушечный обучающий массив NumPy\n",
    "np_toy_train = np.array(pd.DataFrame(\n",
    "    {'Balance': [8.3, np.NaN, 10.2, 3.1], \n",
    "     'Age': [23, 29, 36, np.NaN]}))\n",
    "np_toy_train"
   ]
  },
  {
   "cell_type": "code",
   "execution_count": 11,
   "metadata": {},
   "outputs": [
    {
     "data": {
      "text/plain": [
       "array([[10.4, 13. ],\n",
       "       [ nan, 19. ],\n",
       "       [22.5, 66. ],\n",
       "       [ 1.1,  nan]])"
      ]
     },
     "execution_count": 11,
     "metadata": {},
     "output_type": "execute_result"
    }
   ],
   "source": [
    "# создаем игрушечный тестовый массив NumPy\n",
    "np_toy_test = np.array(pd.DataFrame(\n",
    "    {'Balance': [10.4, np.NaN, 22.5, 1.1], \n",
    "     'Age': [13, 19, 66, np.NaN]}))\n",
    "np_toy_test"
   ]
  },
  {
   "cell_type": "code",
   "execution_count": 12,
   "metadata": {},
   "outputs": [
    {
     "data": {
      "text/plain": [
       "array([[ 8.3       , 23.        ],\n",
       "       [ 7.2       , 29.        ],\n",
       "       [10.2       , 36.        ],\n",
       "       [ 3.1       , 29.33333333]])"
      ]
     },
     "execution_count": 12,
     "metadata": {},
     "output_type": "execute_result"
    }
   ],
   "source": [
    "# обучаем модель\n",
    "imp.fit(np_toy_train)\n",
    "# выполняем преобразование игрушечного\n",
    "# обучающего массива NumPy\n",
    "np_toy_train = imp.transform(np_toy_train)\n",
    "np_toy_train"
   ]
  },
  {
   "cell_type": "code",
   "execution_count": 13,
   "metadata": {},
   "outputs": [
    {
     "data": {
      "text/plain": [
       "array([[10.4       , 13.        ],\n",
       "       [ 7.2       , 19.        ],\n",
       "       [22.5       , 66.        ],\n",
       "       [ 1.1       , 29.33333333]])"
      ]
     },
     "execution_count": 13,
     "metadata": {},
     "output_type": "execute_result"
    }
   ],
   "source": [
    "# выполняем преобразование игрушечного\n",
    "# тестового массива NumPy\n",
    "np_toy_test = imp.transform(np_toy_test)\n",
    "np_toy_test"
   ]
  },
  {
   "cell_type": "code",
   "execution_count": 14,
   "metadata": {},
   "outputs": [
    {
     "data": {
      "text/plain": [
       "array([ 8.3,  nan, 10.2,  3.1])"
      ]
     },
     "execution_count": 14,
     "metadata": {},
     "output_type": "execute_result"
    }
   ],
   "source": [
    "# создаем 1-D массив NumPy\n",
    "array = np.array([8.3, np.NaN, 10.2, 3.1])\n",
    "array"
   ]
  },
  {
   "cell_type": "code",
   "execution_count": 15,
   "metadata": {},
   "outputs": [
    {
     "data": {
      "text/plain": [
       "1"
      ]
     },
     "execution_count": 15,
     "metadata": {},
     "output_type": "execute_result"
    }
   ],
   "source": [
    "# проверяем размерность массива\n",
    "array.ndim"
   ]
  },
  {
   "cell_type": "code",
   "execution_count": 16,
   "metadata": {},
   "outputs": [
    {
     "data": {
      "text/plain": [
       "array([[ 8.3],\n",
       "       [ 7.2],\n",
       "       [10.2],\n",
       "       [ 3.1]])"
      ]
     },
     "execution_count": 16,
     "metadata": {},
     "output_type": "execute_result"
    }
   ],
   "source": [
    "# проверяем работу класса\n",
    "imp.fit(array)\n",
    "array = imp.transform(array)\n",
    "array"
   ]
  },
  {
   "cell_type": "code",
   "execution_count": 17,
   "metadata": {},
   "outputs": [
    {
     "data": {
      "text/plain": [
       "2"
      ]
     },
     "execution_count": 17,
     "metadata": {},
     "output_type": "execute_result"
    }
   ],
   "source": [
    "# проверяем размерность массива\n",
    "array.ndim"
   ]
  },
  {
   "cell_type": "code",
   "execution_count": 18,
   "metadata": {},
   "outputs": [
    {
     "name": "stdout",
     "output_type": "stream",
     "text": [
      "Balance\n",
      "{'Balance': 7.2}\n",
      "\n",
      "Age\n",
      "{'Balance': 7.2, 'Age': 29.333333333333332}\n",
      "\n",
      "итоговый словарь {'Balance': 7.2, 'Age': 29.333333333333332}\n"
     ]
    }
   ],
   "source": [
    "# создаем игрушечный датафрейм pandas\n",
    "toy_train = pd.DataFrame(\n",
    "    {'Balance': [8.3, np.NaN, 10.2, 3.1], \n",
    "     'Age': [23, 29, 36, np.NaN]})\n",
    "\n",
    "# создаем пустой словарь encoder_dict\n",
    "encoder_dict = {}\n",
    "\n",
    "# по каждой переменной\n",
    "for col in toy_train.columns:\n",
    "    # печатаем имя\n",
    "    print(col)\n",
    "    # вычисляем среднее и записываем в словарь\n",
    "    encoder_dict[col] = toy_train[col].mean()\n",
    "    # печатаем словарь\n",
    "    print(encoder_dict)\n",
    "    print('')\n",
    "    \n",
    "# печатаем итоговый словарь\n",
    "print('итоговый словарь', encoder_dict)"
   ]
  },
  {
   "cell_type": "code",
   "execution_count": 19,
   "metadata": {},
   "outputs": [
    {
     "name": "stdout",
     "output_type": "stream",
     "text": [
      "0\n",
      "{0: 7.2}\n",
      "\n",
      "1\n",
      "{0: 7.2, 1: 29.333333333333332}\n",
      "\n",
      "итоговый словарь {0: 7.2, 1: 29.333333333333332}\n"
     ]
    }
   ],
   "source": [
    "# создаем игрушечный обучающий массив NumPy\n",
    "np_toy_train = np.array(pd.DataFrame(\n",
    "    {'Balance': [8.3, np.NaN, 10.2, 3.1], \n",
    "     'Age': [23, 29, 36, np.NaN]}))\n",
    "\n",
    "# создаем пустой словарь encoder_dict\n",
    "encoder_dict = {}\n",
    "\n",
    "# по каждой переменной\n",
    "for col in range(np_toy_train.shape[1]):\n",
    "    # печатаем имя\n",
    "    print(col)\n",
    "    # вычисляем среднее и записываем в словарь\n",
    "    encoder_dict[col] = np.nanmean(np_toy_train[:, col])\n",
    "    # печатаем словарь\n",
    "    print(encoder_dict)\n",
    "    print('')\n",
    "    \n",
    "# печатаем итоговый словарь\n",
    "print('итоговый словарь', encoder_dict)  "
   ]
  },
  {
   "cell_type": "code",
   "execution_count": 20,
   "metadata": {},
   "outputs": [],
   "source": [
    "# пишем класс KNN-модели\n",
    "class KNN_Estimator():\n",
    "    \"\"\" \n",
    "    KNN-модель.\n",
    "    \n",
    "    Параметры:\n",
    "    -----------\n",
    "    k: int, по умолчанию 2\n",
    "        Количество ближайших соседей, которое определяет\n",
    "        класс/значение предсказываемого наблюдения.\n",
    "    task: string, 'classification' по умолчанию\n",
    "        Тип решаемой задачи.   \n",
    "    \"\"\"\n",
    "    \n",
    "    # пишем защищенный метод, вычисляющий евклидово расстояние\n",
    "    def _euclidean_distance(self, x1, x2):\n",
    "        \"\"\" \n",
    "        Вычисляет евклидово расстояние между двумя векторами. \n",
    "        \"\"\"\n",
    "        distance = 0\n",
    "        for i in range(len(x1)):\n",
    "            distance += pow((x1[i] - x2[i]), 2)\n",
    "        return math.sqrt(distance)\n",
    "    \n",
    "    # пишем защищенный метод голосования\n",
    "    def _vote(self, neighbor_labels):\n",
    "        \"\"\" \n",
    "        Возвращает самый часто встречающийся класс \n",
    "        среди ближайших соседей.\n",
    "        \"\"\"\n",
    "        # подсчитываем абсолютные частоты классов\n",
    "        # для каждого наблюдения\n",
    "        counts = np.bincount(neighbor_labels.astype('int'))\n",
    "        # возвращаем индекс максимального значения -\n",
    "        # максимальной абсолютной частоты\n",
    "        return counts.argmax()\n",
    "\n",
    "    def __init__(self, k=5, task='classification'):\n",
    "        # инициализируем k - количество ближайших соседей\n",
    "        self.k = k\n",
    "        # решаемая задача\n",
    "        self.task = task\n",
    "        # создаем пустой список, в котором будем\n",
    "        # хранить ближайших соседей для\n",
    "        # каждого наблюдения набора\n",
    "        self.k_nearest_neighbors_ = []\n",
    "\n",
    "    def fit(self, X, y):\n",
    "        # просто запоминаем обучающий массив признаков\n",
    "        # и обучающий массив меток\n",
    "        self.X_memorized = X\n",
    "        self.y_memorized = y\n",
    "\n",
    "    def predict(self, X):\n",
    "        # создаем массив прогнозов, равный\n",
    "        # длине тестового набора\n",
    "        y_pred = np.empty(X.shape[0])\n",
    "        # для каждого наблюдения тестового набора\n",
    "        # предсказываем наиболее часто встречающийся\n",
    "        # класс/среднее значение среди k ближайших соседей\n",
    "        if self.task == 'classification':\n",
    "            for i, test_sample in enumerate(X):\n",
    "                idx = np.argsort([self._euclidean_distance(\n",
    "                    test_sample, x) for x in self.X_memorized])[:self.k]\n",
    "                k_nearest_neighbors = np.array(\n",
    "                    [self.y_memorized[i] for i in idx])\n",
    "                self.k_nearest_neighbors_.append(k_nearest_neighbors)\n",
    "                y_pred[i] = self._vote(self.k_nearest_neighbors_[i])\n",
    "            \n",
    "        if self.task == 'regression':\n",
    "            for i, test_sample in enumerate(X):\n",
    "                idx = np.argsort([self._euclidean_distance(\n",
    "                    test_sample, x) for x in self.X_memorized])[:self.k]\n",
    "                k_nearest_neighbors = np.array(\n",
    "                    [self.y_memorized[i] for i in idx])\n",
    "                self.k_nearest_neighbors_.append(k_nearest_neighbors)\n",
    "                y_pred[i] = np.mean(self.k_nearest_neighbors_[i])\n",
    "                \n",
    "        return y_pred"
   ]
  },
  {
   "cell_type": "code",
   "execution_count": 21,
   "metadata": {},
   "outputs": [],
   "source": [
    "# создаем обучающий массив признаков\n",
    "X_trn = np.array([[0.1, 0.2, 0.3], \n",
    "                    [0.7, 0.5, 0.2],\n",
    "                  [0.1, 0.2, 0.2],\n",
    "                  [0.9, 0.7, 3.5],\n",
    "                  [0.2, 0.4, 1.4],\n",
    "                  [0.4, 0.1, 0.5]])\n",
    "\n",
    "# создаем обучающий массив меток для классификации\n",
    "y_trn = np.array([1, 0, 1, 0, 0, 1])\n",
    "\n",
    "# создаем тестовый массив признаков\n",
    "X_tst = np.array([[0.1, 0.7, 1.1], \n",
    "                  [0.5, 0.3, 2.8],\n",
    "                  [0.1, 0.1, 0.2],\n",
    "                  [0.9, 0.7, 1.5]])"
   ]
  },
  {
   "cell_type": "code",
   "execution_count": 22,
   "metadata": {},
   "outputs": [],
   "source": [
    "# обучаем модель KNN-классификации\n",
    "knn = KNN_Estimator(k=3, task='classification')\n",
    "knn.fit(X_trn, y_trn)"
   ]
  },
  {
   "cell_type": "code",
   "execution_count": 23,
   "metadata": {},
   "outputs": [
    {
     "data": {
      "text/plain": [
       "array([1., 0., 1., 0.])"
      ]
     },
     "execution_count": 23,
     "metadata": {},
     "output_type": "execute_result"
    }
   ],
   "source": [
    "# получаем прогнозы для тестового \n",
    "# массива признаков\n",
    "pred = knn.predict(X_tst)\n",
    "pred"
   ]
  },
  {
   "cell_type": "code",
   "execution_count": 24,
   "metadata": {},
   "outputs": [
    {
     "data": {
      "text/plain": [
       "[array([0, 1, 1]), array([0, 0, 1]), array([1, 1, 1]), array([0, 1, 0])]"
      ]
     },
     "execution_count": 24,
     "metadata": {},
     "output_type": "execute_result"
    }
   ],
   "source": [
    "# посмотрим ближайших соседей по каждому \n",
    "# наблюдению тестового массива признаков\n",
    "knn.k_nearest_neighbors_"
   ]
  },
  {
   "cell_type": "code",
   "execution_count": 25,
   "metadata": {},
   "outputs": [],
   "source": [
    "# создаем обучающий массив меток для регрессии\n",
    "y_trn = np.array([1.2, 0.5, 1.4, 2.2, 3.5, 5.9])"
   ]
  },
  {
   "cell_type": "code",
   "execution_count": 26,
   "metadata": {},
   "outputs": [],
   "source": [
    "# обучаем модель KNN-регрессии\n",
    "knn = KNN_Estimator(k=3, task='regression')\n",
    "knn.fit(X_trn, y_trn)"
   ]
  },
  {
   "cell_type": "code",
   "execution_count": 27,
   "metadata": {},
   "outputs": [
    {
     "data": {
      "text/plain": [
       "array([3.53333333, 3.86666667, 2.83333333, 3.3       ])"
      ]
     },
     "execution_count": 27,
     "metadata": {},
     "output_type": "execute_result"
    }
   ],
   "source": [
    "# получаем прогнозы для тестового \n",
    "# массива признаков\n",
    "pred = knn.predict(X_tst)\n",
    "pred"
   ]
  },
  {
   "cell_type": "code",
   "execution_count": 28,
   "metadata": {},
   "outputs": [
    {
     "data": {
      "text/plain": [
       "[array([3.5, 5.9, 1.2]),\n",
       " array([2.2, 3.5, 5.9]),\n",
       " array([1.4, 1.2, 5.9]),\n",
       " array([3.5, 5.9, 0.5])]"
      ]
     },
     "execution_count": 28,
     "metadata": {},
     "output_type": "execute_result"
    }
   ],
   "source": [
    "# посмотрим ближайших соседей по каждому \n",
    "# наблюдению тестового массива признаков\n",
    "knn.k_nearest_neighbors_"
   ]
  }
 ],
 "metadata": {
  "kernelspec": {
   "display_name": "Python 3 (ipykernel)",
   "language": "python",
   "name": "python3"
  },
  "language_info": {
   "codemirror_mode": {
    "name": "ipython",
    "version": 3
   },
   "file_extension": ".py",
   "mimetype": "text/x-python",
   "name": "python",
   "nbconvert_exporter": "python",
   "pygments_lexer": "ipython3",
   "version": "3.9.12"
  }
 },
 "nbformat": 4,
 "nbformat_minor": 2
}
