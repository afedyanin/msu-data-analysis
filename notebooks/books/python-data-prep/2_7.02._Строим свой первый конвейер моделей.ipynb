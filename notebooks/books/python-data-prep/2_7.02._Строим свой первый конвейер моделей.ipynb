{
 "cells": [
  {
   "cell_type": "code",
   "execution_count": 1,
   "metadata": {},
   "outputs": [],
   "source": [
    "# импортируем библиотеки pandas, numpy\n",
    "import pandas as pd\n",
    "import numpy as np\n",
    "# импортируем модуль os и функцию train_test_split()\n",
    "import os\n",
    "from sklearn.model_selection import train_test_split\n",
    "# импортируем класс StandardScaler, \n",
    "# выполняющий стандартизацию\n",
    "from sklearn.preprocessing import StandardScaler\n",
    "# импортируем класс LogisticRegression\n",
    "from sklearn.linear_model import LogisticRegression"
   ]
  },
  {
   "cell_type": "code",
   "execution_count": 2,
   "metadata": {},
   "outputs": [
    {
     "data": {
      "text/plain": [
       "'/Users/artemgruzdev/Documents/GitHub/Data Preprocessing in Python'"
      ]
     },
     "execution_count": 2,
     "metadata": {},
     "output_type": "execute_result"
    }
   ],
   "source": [
    "# взглянем на наш рабочий каталог\n",
    "os.getcwd()"
   ]
  },
  {
   "cell_type": "code",
   "execution_count": 3,
   "metadata": {},
   "outputs": [],
   "source": [
    "# записываем CSV-файл в объект DataFrame\n",
    "data = pd.read_csv('Data/StateFarm.csv', sep=';') "
   ]
  },
  {
   "cell_type": "code",
   "execution_count": 4,
   "metadata": {
    "scrolled": true
   },
   "outputs": [
    {
     "data": {
      "text/html": [
       "<div>\n",
       "<style scoped>\n",
       "    .dataframe tbody tr th:only-of-type {\n",
       "        vertical-align: middle;\n",
       "    }\n",
       "\n",
       "    .dataframe tbody tr th {\n",
       "        vertical-align: top;\n",
       "    }\n",
       "\n",
       "    .dataframe thead th {\n",
       "        text-align: right;\n",
       "    }\n",
       "</style>\n",
       "<table border=\"1\" class=\"dataframe\">\n",
       "  <thead>\n",
       "    <tr style=\"text-align: right;\">\n",
       "      <th></th>\n",
       "      <th>Customer Lifetime Value</th>\n",
       "      <th>Income</th>\n",
       "      <th>Monthly Premium Auto</th>\n",
       "      <th>Months Since Last Claim</th>\n",
       "      <th>Months Since Policy Inception</th>\n",
       "      <th>Number of Open Complaints</th>\n",
       "      <th>Number of Policies</th>\n",
       "      <th>Response</th>\n",
       "    </tr>\n",
       "  </thead>\n",
       "  <tbody>\n",
       "    <tr>\n",
       "      <th>0</th>\n",
       "      <td>18975.456110</td>\n",
       "      <td>65999</td>\n",
       "      <td>237</td>\n",
       "      <td>1</td>\n",
       "      <td>14</td>\n",
       "      <td>0</td>\n",
       "      <td>6</td>\n",
       "      <td>0</td>\n",
       "    </tr>\n",
       "    <tr>\n",
       "      <th>1</th>\n",
       "      <td>4715.321344</td>\n",
       "      <td>0</td>\n",
       "      <td>65</td>\n",
       "      <td>19</td>\n",
       "      <td>56</td>\n",
       "      <td>0</td>\n",
       "      <td>3</td>\n",
       "      <td>0</td>\n",
       "    </tr>\n",
       "    <tr>\n",
       "      <th>2</th>\n",
       "      <td>5018.885233</td>\n",
       "      <td>54500</td>\n",
       "      <td>63</td>\n",
       "      <td>28</td>\n",
       "      <td>17</td>\n",
       "      <td>0</td>\n",
       "      <td>6</td>\n",
       "      <td>0</td>\n",
       "    </tr>\n",
       "  </tbody>\n",
       "</table>\n",
       "</div>"
      ],
      "text/plain": [
       "   Customer Lifetime Value  Income  Monthly Premium Auto  \\\n",
       "0             18975.456110   65999                   237   \n",
       "1              4715.321344       0                    65   \n",
       "2              5018.885233   54500                    63   \n",
       "\n",
       "   Months Since Last Claim  Months Since Policy Inception  \\\n",
       "0                        1                             14   \n",
       "1                       19                             56   \n",
       "2                       28                             17   \n",
       "\n",
       "   Number of Open Complaints  Number of Policies  Response  \n",
       "0                          0                   6         0  \n",
       "1                          0                   3         0  \n",
       "2                          0                   6         0  "
      ]
     },
     "execution_count": 4,
     "metadata": {},
     "output_type": "execute_result"
    }
   ],
   "source": [
    "# смотрим данные\n",
    "data.head(3)"
   ]
  },
  {
   "cell_type": "code",
   "execution_count": 5,
   "metadata": {},
   "outputs": [],
   "source": [
    "# разбиваем данные на обучающие и тестовые: получаем обучающий\n",
    "# массив признаков, тестовый массив признаков, обучающий массив\n",
    "# меток, тестовый массив меток\n",
    "X_train, X_test, y_train, y_test = train_test_split(\n",
    "    data.drop('Response', axis=1), \n",
    "    data['Response'], \n",
    "    test_size=0.3,\n",
    "    stratify=data['Response'],\n",
    "    random_state=42)"
   ]
  },
  {
   "cell_type": "code",
   "execution_count": 6,
   "metadata": {},
   "outputs": [],
   "source": [
    "# создаем экземпляр класса StandardScaler\n",
    "standardscaler = StandardScaler()"
   ]
  },
  {
   "cell_type": "code",
   "execution_count": 7,
   "metadata": {},
   "outputs": [],
   "source": [
    "# обучаем модель стандартизации, т.е. по каждому признаку \n",
    "# в обучающем массиве признаков вычисляем\n",
    "# среднее значение признака и стандартное \n",
    "# отклонение признака для трансформации\n",
    "standardscaler.fit(X_train);"
   ]
  },
  {
   "cell_type": "code",
   "execution_count": 8,
   "metadata": {},
   "outputs": [],
   "source": [
    "# применяем модель стандартизации к обучающему массиву признаков: из исходного \n",
    "# значения признака вычитаем среднее значение признака, вычисленное \n",
    "# по ОБУЧАЮЩЕМУ массиву признаков, и результат делим на стандартное \n",
    "#отклонение признака, вычисленное по ОБУЧАЮЩЕМУ массиву признаков \n",
    "X_train_standardscaled = standardscaler.transform(X_train)\n",
    "\n",
    "# применяем модель стандартизации к тестовому массиву признаков: из исходного \n",
    "# значения признака вычитаем среднее значение признака, вычисленное \n",
    "# по ОБУЧАЮЩЕМУ массиву признаков, и результат делим на стандартное \n",
    "# отклонение признака, вычисленное по ОБУЧАЮЩЕМУ массиву признаков \n",
    "X_test_standardscaled = standardscaler.transform(X_test)"
   ]
  },
  {
   "cell_type": "code",
   "execution_count": 9,
   "metadata": {},
   "outputs": [
    {
     "name": "stdout",
     "output_type": "stream",
     "text": [
      "Правильность на обучающей выборке: 0.900\n",
      "Правильность на тестовой выборке: 0.900\n"
     ]
    }
   ],
   "source": [
    "# создаем экземпляр класса LogisticRegression\n",
    "logreg = LogisticRegression(solver='lbfgs', max_iter=200)\n",
    "# обучаем модель логистической регрессии, т.е. \n",
    "# находим параметры - регрессионные коэффициенты\n",
    "logreg.fit(X_train_standardscaled, y_train)\n",
    "# оцениваем качество модели на обучающих данных\n",
    "print(\"Правильность на обучающей выборке: {:.3f}\".format(\n",
    "    logreg.score(X_train_standardscaled, y_train)))\n",
    "# оцениваем качество модели на тестовых данных\n",
    "print(\"Правильность на тестовой выборке: {:.3f}\".format(\n",
    "    logreg.score(X_test_standardscaled, y_test)))"
   ]
  },
  {
   "cell_type": "code",
   "execution_count": 10,
   "metadata": {},
   "outputs": [
    {
     "name": "stdout",
     "output_type": "stream",
     "text": [
      "Правильность на обучающей выборке: 0.900\n",
      "Правильность на тестовой выборке: 0.900\n"
     ]
    }
   ],
   "source": [
    "# применим для печати f-строки\n",
    "train_score = logreg.score(X_train_standardscaled, y_train)\n",
    "test_score = logreg.score(X_test_standardscaled, y_test)\n",
    "print(f\"Правильность на обучающей выборке: {train_score:.3f}\")\n",
    "print(f\"Правильность на тестовой выборке: {test_score:.3f}\")"
   ]
  },
  {
   "cell_type": "code",
   "execution_count": 11,
   "metadata": {},
   "outputs": [
    {
     "name": "stdout",
     "output_type": "stream",
     "text": [
      "Правильность на обучающей выборке: 0.900\n",
      "Правильность на тестовой выборке: 0.900\n"
     ]
    }
   ],
   "source": [
    "# применим для печати оператор % \n",
    "print(\"Правильность на обучающей выборке: %.3f\" % train_score)\n",
    "print(\"Правильность на тестовой выборке: %.3f\" % test_score)"
   ]
  },
  {
   "cell_type": "code",
   "execution_count": 12,
   "metadata": {},
   "outputs": [
    {
     "data": {
      "text/plain": [
       "array([0, 0, 0, 0, 0])"
      ]
     },
     "execution_count": 12,
     "metadata": {},
     "output_type": "execute_result"
    }
   ],
   "source": [
    "# вычисляем спрогнозированные значения зависимой переменной\n",
    "# для тестового массива признаков\n",
    "logreg_predvalues = logreg.predict(X_test_standardscaled)\n",
    "logreg_predvalues[:5]"
   ]
  },
  {
   "cell_type": "code",
   "execution_count": 13,
   "metadata": {},
   "outputs": [
    {
     "data": {
      "text/plain": [
       "array([[0.91027855, 0.08972145],\n",
       "       [0.89847518, 0.10152482],\n",
       "       [0.88300257, 0.11699743],\n",
       "       [0.90234211, 0.09765789],\n",
       "       [0.92554507, 0.07445493]])"
      ]
     },
     "execution_count": 13,
     "metadata": {},
     "output_type": "execute_result"
    }
   ],
   "source": [
    "# вычисляем вероятности классов зависимой переменной\n",
    "# для тестового массива признаков\n",
    "logreg_probabilities = logreg.predict_proba(\n",
    "    X_test_standardscaled)\n",
    "logreg_probabilities[:5]"
   ]
  },
  {
   "cell_type": "code",
   "execution_count": 14,
   "metadata": {},
   "outputs": [
    {
     "data": {
      "text/plain": [
       "-2.205"
      ]
     },
     "execution_count": 14,
     "metadata": {},
     "output_type": "execute_result"
    }
   ],
   "source": [
    "# извлекаем константу\n",
    "intercept = np.round(logreg.intercept_[0], 3)\n",
    "intercept"
   ]
  },
  {
   "cell_type": "code",
   "execution_count": 15,
   "metadata": {},
   "outputs": [
    {
     "data": {
      "text/plain": [
       "array([[-0.022,  0.042,  0.079, -0.056, -0.004, -0.017, -0.109]])"
      ]
     },
     "execution_count": 15,
     "metadata": {},
     "output_type": "execute_result"
    }
   ],
   "source": [
    "# извлекаем коэффициенты\n",
    "coef = np.round(logreg.coef_, 3)\n",
    "coef"
   ]
  },
  {
   "cell_type": "code",
   "execution_count": 16,
   "metadata": {},
   "outputs": [
    {
     "name": "stdout",
     "output_type": "stream",
     "text": [
      "Константа: -2.205\n",
      "Регрессионные коэффициенты:\n",
      "Customer Lifetime Value -0.022\n",
      "Income 0.042\n",
      "Monthly Premium Auto 0.079\n",
      "Months Since Last Claim -0.056\n",
      "Months Since Policy Inception -0.004\n",
      "Number of Open Complaints -0.017\n",
      "Number of Policies -0.109\n"
     ]
    }
   ],
   "source": [
    "# печатаем название \"Константа\"    \n",
    "print(\"Константа:\", intercept)\n",
    "# печатаем название \"Регрессионные коэффициенты\"\n",
    "print(\"Регрессионные коэффициенты:\")\n",
    "# для удобства сопоставим каждому названию \n",
    "# предиктора соответствующий коэффициент\n",
    "for c, feature in zip(coef[0], X_train.columns):\n",
    "    print(feature, c)"
   ]
  }
 ],
 "metadata": {
  "kernelspec": {
   "display_name": "Python 3 (ipykernel)",
   "language": "python",
   "name": "python3"
  },
  "language_info": {
   "codemirror_mode": {
    "name": "ipython",
    "version": 3
   },
   "file_extension": ".py",
   "mimetype": "text/x-python",
   "name": "python",
   "nbconvert_exporter": "python",
   "pygments_lexer": "ipython3",
   "version": "3.9.12"
  }
 },
 "nbformat": 4,
 "nbformat_minor": 2
}
