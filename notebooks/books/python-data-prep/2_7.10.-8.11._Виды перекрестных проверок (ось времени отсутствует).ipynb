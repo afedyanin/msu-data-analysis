{
 "cells": [
  {
   "cell_type": "markdown",
   "metadata": {},
   "source": [
    "# Виды перекрестной проверки для данных формата «один клиент – одно наблюдение» (отсутствует ось времени)  "
   ]
  },
  {
   "cell_type": "markdown",
   "metadata": {},
   "source": [
    "## Обычная нестратифицированная k-блочная перекрестная проверка с помощью класса KFold"
   ]
  },
  {
   "cell_type": "code",
   "execution_count": 1,
   "metadata": {},
   "outputs": [],
   "source": [
    "# импортируем необходимые библиотеки\n",
    "import numpy as np\n",
    "import pandas as pd\n",
    "# импортируем наборы\n",
    "from sklearn import datasets\n",
    "# импортируем функции train_test_split() и cross_val_score(),\n",
    "# классы KFold, StratifiedKFold, RepeatedKFold, \n",
    "# RepeatedStratifiedKFold, ShuffleSplit, StratifiedShuffleSplit, \n",
    "# LeaveOneOut, LeavePOut, GroupKFold, LeaveOneGroupOut, \n",
    "# LeavePGroupsOut, StratifiedGroupKFold, GroupShuffleSplit\n",
    "from sklearn.model_selection import (train_test_split,\n",
    "                                     cross_val_score, \n",
    "                                     KFold, \n",
    "                                     StratifiedKFold, \n",
    "                                     RepeatedKFold, \n",
    "                                     RepeatedStratifiedKFold,\n",
    "                                     ShuffleSplit,\n",
    "                                     StratifiedShuffleSplit,\n",
    "                                     LeaveOneOut,\n",
    "                                     LeavePOut,\n",
    "                                     GroupKFold,\n",
    "                                     LeaveOneGroupOut,\n",
    "                                     LeavePGroupsOut,\n",
    "                                     StratifiedGroupKFold,\n",
    "                                     GroupShuffleSplit)\n",
    "# импортируем класс DecisionTreeClassifier \n",
    "from sklearn.tree import DecisionTreeClassifier"
   ]
  },
  {
   "cell_type": "code",
   "execution_count": 2,
   "metadata": {
    "scrolled": true
   },
   "outputs": [
    {
     "name": "stdout",
     "output_type": "stream",
     "text": [
      "TRAIN: [0 2 3 4 5 6 7 9] TEST: [1 8]\n",
      "TRAIN: [1 2 3 4 6 7 8 9] TEST: [0 5]\n",
      "TRAIN: [0 1 3 4 5 6 8 9] TEST: [2 7]\n",
      "TRAIN: [0 1 2 3 5 6 7 8] TEST: [4 9]\n",
      "TRAIN: [0 1 2 4 5 7 8 9] TEST: [3 6]\n"
     ]
    }
   ],
   "source": [
    "# создаем экземпляр класса KFold\n",
    "kfold = KFold(n_splits=5, shuffle=True, random_state=42)\n",
    "# создаем игрушечные массив признаков и массив меток\n",
    "X_toy = np.array([0.1, 0.2, 2.2, 2.4, 2.3, 2.55, 2.8, 5.8, 2.9, 1.3])\n",
    "y_toy = np.array([0, 0, 1, 0, 1, 0, 0, 1, 0, 0])\n",
    "# взглянем на индексы наблюдений, попавших в обучающую\n",
    "# и тестовую выборки, по каждой из 5 итераций\n",
    "for train_index, test_index in kfold.split(X_toy, y_toy):\n",
    "    print(\"TRAIN:\", train_index, \"TEST:\", test_index)"
   ]
  },
  {
   "cell_type": "code",
   "execution_count": 3,
   "metadata": {},
   "outputs": [],
   "source": [
    "# загрузим данные об ирисах\n",
    "iris = datasets.load_iris()\n",
    "# создаем массив признаков\n",
    "X = iris.data\n",
    "# создаем массив меток\n",
    "y = iris.target"
   ]
  },
  {
   "cell_type": "code",
   "execution_count": 4,
   "metadata": {},
   "outputs": [
    {
     "data": {
      "text/plain": [
       "array([0, 0, 0, 0, 0, 0, 0, 0, 0, 0, 0, 0, 0, 0, 0, 0, 0, 0, 0, 0, 0, 0,\n",
       "       0, 0, 0, 0, 0, 0, 0, 0, 0, 0, 0, 0, 0, 0, 0, 0, 0, 0, 0, 0, 0, 0,\n",
       "       0, 0, 0, 0, 0, 0, 1, 1, 1, 1, 1, 1, 1, 1, 1, 1, 1, 1, 1, 1, 1, 1,\n",
       "       1, 1, 1, 1, 1, 1, 1, 1, 1, 1, 1, 1, 1, 1, 1, 1, 1, 1, 1, 1, 1, 1,\n",
       "       1, 1, 1, 1, 1, 1, 1, 1, 1, 1, 1, 1, 2, 2, 2, 2, 2, 2, 2, 2, 2, 2,\n",
       "       2, 2, 2, 2, 2, 2, 2, 2, 2, 2, 2, 2, 2, 2, 2, 2, 2, 2, 2, 2, 2, 2,\n",
       "       2, 2, 2, 2, 2, 2, 2, 2, 2, 2, 2, 2, 2, 2, 2, 2, 2, 2])"
      ]
     },
     "execution_count": 4,
     "metadata": {},
     "output_type": "execute_result"
    }
   ],
   "source": [
    "# смотрим массив меток\n",
    "y"
   ]
  },
  {
   "cell_type": "code",
   "execution_count": 5,
   "metadata": {},
   "outputs": [
    {
     "data": {
      "text/plain": [
       "{0: 33.33, 1: 33.33, 2: 33.33}"
      ]
     },
     "execution_count": 5,
     "metadata": {},
     "output_type": "execute_result"
    }
   ],
   "source": [
    "# взглянем на распределение классов\n",
    "\n",
    "# получаем уникальные значения и абсолютные частоты\n",
    "uniques, counts = np.unique(y, return_counts=True)\n",
    "# получаем словарь с относительными частотами\n",
    "pcnt = dict(zip(uniques, counts * 100 / len(y)))\n",
    "# получаем словарь с округленными \n",
    "# относительными частотами\n",
    "for k, v in pcnt.items():\n",
    "    pcnt[k] = round(v, 2)\n",
    "pcnt"
   ]
  },
  {
   "cell_type": "code",
   "execution_count": 6,
   "metadata": {},
   "outputs": [
    {
     "name": "stdout",
     "output_type": "stream",
     "text": [
      "\n",
      "1-я итерация\n",
      "\n",
      "TRAIN:\n",
      " [1 1 1 1 1 1 1 1 1 1 1 1 1 1 1 1 1 1 1 1 1 1 1 1 1 1 1 1 1 1 1 1 1 1 1 1 1\n",
      " 1 1 1 1 1 1 1 1 1 1 1 1 1 2 2 2 2 2 2 2 2 2 2 2 2 2 2 2 2 2 2 2 2 2 2 2 2\n",
      " 2 2 2 2 2 2 2 2 2 2 2 2 2 2 2 2 2 2 2 2 2 2 2 2 2 2] \n",
      "\n",
      "TEST:\n",
      " [0 0 0 0 0 0 0 0 0 0 0 0 0 0 0 0 0 0 0 0 0 0 0 0 0 0 0 0 0 0 0 0 0 0 0 0 0\n",
      " 0 0 0 0 0 0 0 0 0 0 0 0 0]\n",
      "\n",
      "2-я итерация\n",
      "\n",
      "TRAIN:\n",
      " [0 0 0 0 0 0 0 0 0 0 0 0 0 0 0 0 0 0 0 0 0 0 0 0 0 0 0 0 0 0 0 0 0 0 0 0 0\n",
      " 0 0 0 0 0 0 0 0 0 0 0 0 0 2 2 2 2 2 2 2 2 2 2 2 2 2 2 2 2 2 2 2 2 2 2 2 2\n",
      " 2 2 2 2 2 2 2 2 2 2 2 2 2 2 2 2 2 2 2 2 2 2 2 2 2 2] \n",
      "\n",
      "TEST:\n",
      " [1 1 1 1 1 1 1 1 1 1 1 1 1 1 1 1 1 1 1 1 1 1 1 1 1 1 1 1 1 1 1 1 1 1 1 1 1\n",
      " 1 1 1 1 1 1 1 1 1 1 1 1 1]\n",
      "\n",
      "3-я итерация\n",
      "\n",
      "TRAIN:\n",
      " [0 0 0 0 0 0 0 0 0 0 0 0 0 0 0 0 0 0 0 0 0 0 0 0 0 0 0 0 0 0 0 0 0 0 0 0 0\n",
      " 0 0 0 0 0 0 0 0 0 0 0 0 0 1 1 1 1 1 1 1 1 1 1 1 1 1 1 1 1 1 1 1 1 1 1 1 1\n",
      " 1 1 1 1 1 1 1 1 1 1 1 1 1 1 1 1 1 1 1 1 1 1 1 1 1 1] \n",
      "\n",
      "TEST:\n",
      " [2 2 2 2 2 2 2 2 2 2 2 2 2 2 2 2 2 2 2 2 2 2 2 2 2 2 2 2 2 2 2 2 2 2 2 2 2\n",
      " 2 2 2 2 2 2 2 2 2 2 2 2 2]\n"
     ]
    }
   ],
   "source": [
    "# создаем экземпляр класса KFold\n",
    "kfold = KFold(n_splits=3, shuffle=False)\n",
    "\n",
    "# взглянем на значения наблюдений, попавших в обучающую\n",
    "# и тестовую выборки, по каждой из 3 итераций\n",
    "for cnt, (train_index, test_index) in enumerate(kfold.split(X, y), 1):\n",
    "    print(f\"\\n{cnt}-я итерация\")\n",
    "    print(\"\\nTRAIN:\\n\", y[train_index], \"\\n\\nTEST:\\n\", y[test_index])"
   ]
  },
  {
   "cell_type": "code",
   "execution_count": 7,
   "metadata": {},
   "outputs": [
    {
     "name": "stdout",
     "output_type": "stream",
     "text": [
      "\n",
      "1-я итерация\n",
      "\n",
      "TRAIN:\n",
      " [0 0 0 0 0 0 0 0 0 0 0 0 0 0 0 0 0 0 0 0 0 0 0 0 0 0 0 0 0 0 0 1 1 1 1 1 1\n",
      " 1 1 1 1 1 1 1 1 1 1 1 1 1 1 1 1 1 1 1 1 1 1 1 1 1 1 1 1 1 2 2 2 2 2 2 2 2\n",
      " 2 2 2 2 2 2 2 2 2 2 2 2 2 2 2 2 2 2 2 2 2 2 2 2 2 2] \n",
      "\n",
      "TEST:\n",
      " [0 0 0 0 0 0 0 0 0 0 0 0 0 0 0 0 0 0 0 1 1 1 1 1 1 1 1 1 1 1 1 1 1 1 2 2 2\n",
      " 2 2 2 2 2 2 2 2 2 2 2 2 2]\n",
      "\n",
      "2-я итерация\n",
      "\n",
      "TRAIN:\n",
      " [0 0 0 0 0 0 0 0 0 0 0 0 0 0 0 0 0 0 0 0 0 0 0 0 0 0 0 0 0 0 0 0 1 1 1 1 1\n",
      " 1 1 1 1 1 1 1 1 1 1 1 1 1 1 1 1 1 1 1 1 1 1 1 1 1 1 1 1 2 2 2 2 2 2 2 2 2\n",
      " 2 2 2 2 2 2 2 2 2 2 2 2 2 2 2 2 2 2 2 2 2 2 2 2 2 2] \n",
      "\n",
      "TEST:\n",
      " [0 0 0 0 0 0 0 0 0 0 0 0 0 0 0 0 0 0 1 1 1 1 1 1 1 1 1 1 1 1 1 1 1 1 1 2 2\n",
      " 2 2 2 2 2 2 2 2 2 2 2 2 2]\n",
      "\n",
      "3-я итерация\n",
      "\n",
      "TRAIN:\n",
      " [0 0 0 0 0 0 0 0 0 0 0 0 0 0 0 0 0 0 0 0 0 0 0 0 0 0 0 0 0 0 0 0 0 0 0 0 0\n",
      " 1 1 1 1 1 1 1 1 1 1 1 1 1 1 1 1 1 1 1 1 1 1 1 1 1 1 1 1 1 1 1 1 2 2 2 2 2\n",
      " 2 2 2 2 2 2 2 2 2 2 2 2 2 2 2 2 2 2 2 2 2 2 2 2 2 2] \n",
      "\n",
      "TEST:\n",
      " [0 0 0 0 0 0 0 0 0 0 0 0 0 1 1 1 1 1 1 1 1 1 1 1 1 1 1 1 1 1 1 2 2 2 2 2 2\n",
      " 2 2 2 2 2 2 2 2 2 2 2 2 2]\n"
     ]
    }
   ],
   "source": [
    "# создаем экземпляр класса KFold\n",
    "kfold = KFold(n_splits=3, shuffle=True, random_state=42)\n",
    "\n",
    "# взглянем на значения наблюдений, попавших в обучающую\n",
    "# и тестовую выборки, по каждой из 3 итераций\n",
    "for cnt, (train_index, test_index) in enumerate(kfold.split(X, y), 1):\n",
    "    print(f\"\\n{cnt}-я итерация\")\n",
    "    print(\"\\nTRAIN:\\n\", y[train_index], \"\\n\\nTEST:\\n\", y[test_index])"
   ]
  },
  {
   "cell_type": "code",
   "execution_count": 8,
   "metadata": {},
   "outputs": [
    {
     "name": "stdout",
     "output_type": "stream",
     "text": [
      "\n",
      "1-я итерация\n",
      "\n",
      "TRAIN:\n",
      " {0: 31.0, 1: 35.0, 2: 34.0}\n",
      "TEST:\n",
      " {0: 38.0, 1: 30.0, 2: 32.0}\n",
      "\n",
      "2-я итерация\n",
      "\n",
      "TRAIN:\n",
      " {0: 32.0, 1: 33.0, 2: 35.0}\n",
      "TEST:\n",
      " {0: 36.0, 1: 34.0, 2: 30.0}\n",
      "\n",
      "3-я итерация\n",
      "\n",
      "TRAIN:\n",
      " {0: 37.0, 1: 32.0, 2: 31.0}\n",
      "TEST:\n",
      " {0: 26.0, 1: 36.0, 2: 38.0}\n"
     ]
    }
   ],
   "source": [
    "# взглянем на распределение классов в обучающей\n",
    "# и тестовой выборках по каждой из 3 итераций\n",
    "for cnt, (train_index, test_index) in enumerate(kfold.split(X, y), 1):\n",
    "    print(f\"\\n{cnt}-я итерация\")\n",
    "    uniques, counts = np.unique(y[train_index], return_counts=True)\n",
    "    train_pcnt = dict(zip(uniques, counts * 100 / len(y[train_index])))\n",
    "    uniques, counts = np.unique(y[test_index], return_counts=True)\n",
    "    test_pcnt = dict(zip(uniques, counts * 100 / len(y[test_index])))\n",
    "    print(\"\\nTRAIN:\\n\", train_pcnt)\n",
    "    print(\"TEST:\\n\", test_pcnt)"
   ]
  },
  {
   "cell_type": "code",
   "execution_count": 9,
   "metadata": {},
   "outputs": [],
   "source": [
    "# считываем данные\n",
    "data = pd.read_csv('Data/cs-training.csv',\n",
    "                   index_col=0)\n",
    "# заменяем пропуски\n",
    "data.fillna(0, inplace=True)\n",
    "# создаем массив меток и массив признаков\n",
    "labels = data.pop('SeriousDlqin2yrs')"
   ]
  },
  {
   "cell_type": "code",
   "execution_count": 10,
   "metadata": {},
   "outputs": [
    {
     "name": "stdout",
     "output_type": "stream",
     "text": [
      "150000\n",
      "\n",
      "0    0.93316\n",
      "1    0.06684\n",
      "Name: SeriousDlqin2yrs, dtype: float64\n"
     ]
    }
   ],
   "source": [
    "# посмотрим количество наблюдений\n",
    "# и распределение классов\n",
    "print(len(data))\n",
    "print(\"\")\n",
    "print(labels.value_counts(normalize=True))"
   ]
  },
  {
   "cell_type": "code",
   "execution_count": 11,
   "metadata": {},
   "outputs": [
    {
     "name": "stdout",
     "output_type": "stream",
     "text": [
      "\n",
      "1-я итерация\n",
      "\n",
      "TRAIN:\n",
      "0    0.933\n",
      "1    0.067\n",
      "Name: SeriousDlqin2yrs, dtype: float64\n",
      "\n",
      "TEST:\n",
      "0    0.934\n",
      "1    0.066\n",
      "Name: SeriousDlqin2yrs, dtype: float64\n",
      "\n",
      "2-я итерация\n",
      "\n",
      "TRAIN:\n",
      "0    0.933\n",
      "1    0.067\n",
      "Name: SeriousDlqin2yrs, dtype: float64\n",
      "\n",
      "TEST:\n",
      "0    0.933\n",
      "1    0.067\n",
      "Name: SeriousDlqin2yrs, dtype: float64\n",
      "\n",
      "3-я итерация\n",
      "\n",
      "TRAIN:\n",
      "0    0.934\n",
      "1    0.066\n",
      "Name: SeriousDlqin2yrs, dtype: float64\n",
      "\n",
      "TEST:\n",
      "0    0.932\n",
      "1    0.068\n",
      "Name: SeriousDlqin2yrs, dtype: float64\n"
     ]
    }
   ],
   "source": [
    "# взглянем на распределение классов в обучающей\n",
    "# и тестовой выборках по каждой из 3 итераций\n",
    "for cnt, (train_index, test_index) in enumerate(\n",
    "    kfold.split(data, labels), 1):\n",
    "    print(f\"\\n{cnt}-я итерация\")\n",
    "    train_pcnt = round(labels.iloc[train_index].value_counts(\n",
    "        normalize=True), 3)\n",
    "    print(f\"\\nTRAIN:\\n{train_pcnt}\\n\")\n",
    "    test_pcnt = round(labels.iloc[test_index].value_counts(\n",
    "        normalize=True), 3)\n",
    "    print(f\"TEST:\\n{test_pcnt}\")"
   ]
  },
  {
   "cell_type": "code",
   "execution_count": 12,
   "metadata": {},
   "outputs": [
    {
     "name": "stdout",
     "output_type": "stream",
     "text": [
      "Среднее значение правильности: 0.90\n"
     ]
    }
   ],
   "source": [
    "# создаем экземляр класса DecisionTreeClassifier\n",
    "tree = DecisionTreeClassifier(random_state=152)\n",
    "\n",
    "# вычисляем значение правильности, усредненное по тестовым\n",
    "# выборкам обычной нестратифицированной перекрестной проверки\n",
    "scores_acc = cross_val_score(tree, \n",
    "                             data, \n",
    "                             labels,\n",
    "                             cv=kfold)\n",
    "print(\"Среднее значение правильности: {:.2f}\".format(\n",
    "    scores_acc.mean()))"
   ]
  },
  {
   "cell_type": "markdown",
   "metadata": {},
   "source": [
    "## Обычная стратифицированная k-блочная перекрестная проверка с помощью класса StratifiedKFold"
   ]
  },
  {
   "cell_type": "code",
   "execution_count": 13,
   "metadata": {},
   "outputs": [
    {
     "name": "stdout",
     "output_type": "stream",
     "text": [
      "\n",
      "1-я итерация\n",
      "\n",
      "TRAIN:\n",
      " {0: 33.0, 1: 33.0, 2: 34.0}\n",
      "TEST:\n",
      " {0: 34.0, 1: 34.0, 2: 32.0}\n",
      "\n",
      "2-я итерация\n",
      "\n",
      "TRAIN:\n",
      " {0: 33.0, 1: 34.0, 2: 33.0}\n",
      "TEST:\n",
      " {0: 34.0, 1: 32.0, 2: 34.0}\n",
      "\n",
      "3-я итерация\n",
      "\n",
      "TRAIN:\n",
      " {0: 34.0, 1: 33.0, 2: 33.0}\n",
      "TEST:\n",
      " {0: 32.0, 1: 34.0, 2: 34.0}\n"
     ]
    }
   ],
   "source": [
    "# создаем экземпляр класса StratifiedKFold\n",
    "stratkfold = StratifiedKFold(n_splits=3, \n",
    "                             shuffle=True, \n",
    "                             random_state=42)\n",
    "\n",
    "# взглянем на распределение классов в обучающей\n",
    "# и тестовой выборках по каждой из 3 итераций\n",
    "for cnt, (train_index, test_index) in enumerate(\n",
    "    stratkfold.split(X, y), 1):\n",
    "    print(f\"\\n{cnt}-я итерация\")\n",
    "    uniques, counts = np.unique(y[train_index], return_counts=True)\n",
    "    train_pcnt = dict(zip(uniques, counts * 100 / len(y[train_index])))\n",
    "    uniques, counts = np.unique(y[test_index], return_counts=True)\n",
    "    test_pcnt = dict(zip(uniques, counts * 100 / len(y[test_index])))\n",
    "    print(\"\\nTRAIN:\\n\", train_pcnt)\n",
    "    print(\"TEST:\\n\", test_pcnt)"
   ]
  },
  {
   "cell_type": "code",
   "execution_count": 14,
   "metadata": {},
   "outputs": [
    {
     "name": "stdout",
     "output_type": "stream",
     "text": [
      "\n",
      "1-я итерация\n",
      "\n",
      "TRAIN:\n",
      "0    0.933\n",
      "1    0.067\n",
      "Name: SeriousDlqin2yrs, dtype: float64\n",
      "\n",
      "TEST:\n",
      "0    0.933\n",
      "1    0.067\n",
      "Name: SeriousDlqin2yrs, dtype: float64\n",
      "\n",
      "2-я итерация\n",
      "\n",
      "TRAIN:\n",
      "0    0.933\n",
      "1    0.067\n",
      "Name: SeriousDlqin2yrs, dtype: float64\n",
      "\n",
      "TEST:\n",
      "0    0.933\n",
      "1    0.067\n",
      "Name: SeriousDlqin2yrs, dtype: float64\n",
      "\n",
      "3-я итерация\n",
      "\n",
      "TRAIN:\n",
      "0    0.933\n",
      "1    0.067\n",
      "Name: SeriousDlqin2yrs, dtype: float64\n",
      "\n",
      "TEST:\n",
      "0    0.933\n",
      "1    0.067\n",
      "Name: SeriousDlqin2yrs, dtype: float64\n"
     ]
    }
   ],
   "source": [
    "# взглянем на распределение классов в обучающей\n",
    "# и тестовой выборках по каждой из 3 итераций\n",
    "for cnt, (train_index, test_index) in enumerate(\n",
    "    stratkfold.split(data, labels), 1):\n",
    "    print(f\"\\n{cnt}-я итерация\")\n",
    "    train_pcnt = round(labels.iloc[train_index].value_counts(\n",
    "        normalize=True), 3)\n",
    "    print(f\"\\nTRAIN:\\n{train_pcnt}\\n\")\n",
    "    test_pcnt = round(labels.iloc[test_index].value_counts(\n",
    "        normalize=True), 3)\n",
    "    print(f\"TEST:\\n{test_pcnt}\")"
   ]
  },
  {
   "cell_type": "code",
   "execution_count": 15,
   "metadata": {},
   "outputs": [
    {
     "name": "stdout",
     "output_type": "stream",
     "text": [
      "Среднее значение правильности: 0.90\n"
     ]
    }
   ],
   "source": [
    "# вычисляем значение правильности, усредненное по тестовым\n",
    "# выборкам обычной стратифицированной перекрестной проверки\n",
    "scores_acc = cross_val_score(tree, \n",
    "                             data, \n",
    "                             labels,\n",
    "                             cv=stratkfold)\n",
    "print(\"Среднее значение правильности: {:.2f}\".format(\n",
    "    scores_acc.mean()))"
   ]
  },
  {
   "cell_type": "markdown",
   "metadata": {},
   "source": [
    "## Повторная нестратифицированная k-блочная перекрестная проверка с помощью класса RepeatedKFold"
   ]
  },
  {
   "cell_type": "code",
   "execution_count": 16,
   "metadata": {},
   "outputs": [
    {
     "name": "stdout",
     "output_type": "stream",
     "text": [
      "TRAIN: [2 3 4 6 7 9] TEST: [0 1 5 8]\n",
      "TRAIN: [0 1 3 4 5 6 8] TEST: [2 7 9]\n",
      "TRAIN: [0 1 2 5 7 8 9] TEST: [3 4 6]\n"
     ]
    }
   ],
   "source": [
    "# создаем экземпляр класса KFold\n",
    "kfold = KFold(n_splits=3, shuffle=True, random_state=42)\n",
    "# взглянем на индексы наблюдений, попавших в обучающую\n",
    "# и тестовую выборки, по каждой из 3 итераций\n",
    "for train_index, test_index in kfold.split(X_toy, y_toy):\n",
    "    print(\"TRAIN:\", train_index, \"TEST:\", test_index)"
   ]
  },
  {
   "cell_type": "code",
   "execution_count": 17,
   "metadata": {},
   "outputs": [
    {
     "name": "stdout",
     "output_type": "stream",
     "text": [
      "TRAIN: [2 3 4 6 7 9] TEST: [0 1 5 8]\n",
      "TRAIN: [0 1 3 4 5 6 8] TEST: [2 7 9]\n",
      "TRAIN: [0 1 2 5 7 8 9] TEST: [3 4 6]\n",
      "TRAIN: [2 3 4 6 7 9] TEST: [0 1 5 8]\n",
      "TRAIN: [0 1 2 5 6 8 9] TEST: [3 4 7]\n",
      "TRAIN: [0 1 3 4 5 7 8] TEST: [2 6 9]\n"
     ]
    }
   ],
   "source": [
    "# создаем экземпляр класса RepeatedKFold\n",
    "rkf = RepeatedKFold(n_splits=3, n_repeats=2, random_state=42)\n",
    "# взглянем на индексы наблюдений, попавших в обучающую\n",
    "# и тестовую выборки, по каждой из 2 итераций 2 повторов\n",
    "for train_index, test_index in rkf.split(X_toy, y_toy):\n",
    "    print(\"TRAIN:\", train_index, \"TEST:\", test_index)"
   ]
  },
  {
   "cell_type": "code",
   "execution_count": 18,
   "metadata": {},
   "outputs": [
    {
     "name": "stdout",
     "output_type": "stream",
     "text": [
      "Среднее значение правильности: 0.90\n"
     ]
    }
   ],
   "source": [
    "# создаем экземпляр класса RepeatedKFold\n",
    "rkf = RepeatedKFold(n_splits=5, \n",
    "                    n_repeats=2, \n",
    "                    random_state=42)\n",
    "# вычисляем значение правильности, усредненное по\n",
    "# тестовым выборкам повторной нестратифицированной\n",
    "# перекрестной проверки\n",
    "scores_acc = cross_val_score(tree, \n",
    "                             data, \n",
    "                             labels, \n",
    "                             cv=rkf)\n",
    "print(\"Среднее значение правильности: {:.2f}\".format(\n",
    "    scores_acc.mean()))"
   ]
  },
  {
   "cell_type": "markdown",
   "metadata": {},
   "source": [
    "## Повторная стратифицированная k-блочная перекрестная проверка с помощью класса RepeatedStratifiedKFold"
   ]
  },
  {
   "cell_type": "code",
   "execution_count": 19,
   "metadata": {},
   "outputs": [
    {
     "name": "stdout",
     "output_type": "stream",
     "text": [
      "Среднее значение правильности: 0.90\n"
     ]
    }
   ],
   "source": [
    "# создаем экземпляр класса RepeatedStratifiedKFold\n",
    "rskf = RepeatedStratifiedKFold(n_splits=5,\n",
    "                               n_repeats=2,\n",
    "                               random_state=42)\n",
    "# вычисляем значение правильности, усредненное по\n",
    "# тестовым выборкам повторной стратифицированной\n",
    "# перекрестной проверки\n",
    "scores_acc = cross_val_score(tree, \n",
    "                             data, \n",
    "                             labels, \n",
    "                             cv=rskf)\n",
    "print(\"Среднее значение правильности: {:.2f}\".format(\n",
    "    scores_acc.mean()))"
   ]
  },
  {
   "cell_type": "markdown",
   "metadata": {},
   "source": [
    "## k-кратное случайное разбиение на обучающую и тестовую выборки (перекрестная проверка Монте-Карло)"
   ]
  },
  {
   "cell_type": "code",
   "execution_count": 20,
   "metadata": {},
   "outputs": [],
   "source": [
    "# пишем функцию, выполняющую перекрестную проверку\n",
    "# по методу Монте-Карло\n",
    "def monte_carlo_crossvalidation(estimator, \n",
    "                                X, \n",
    "                                y, \n",
    "                                n_splits=10, \n",
    "                                test_size=0.3):   \n",
    "    \"\"\"\n",
    "    Выполняет перекрестную проверку\n",
    "    по методу Монте-Карло\n",
    "    \n",
    "    Параметры\n",
    "    ----------\n",
    "    estimator: экземпляр класса\n",
    "        Модель машинного обучения.\n",
    "    X: pandas.DataFrame\n",
    "        Массив признаков.\n",
    "    y: pandas.Series\n",
    "        Массив меток.    \n",
    "    n_splits: int, по умолчанию 10\n",
    "        Количество случайных разбиений\n",
    "        на обучающую и тестовую выборки\n",
    "    test_size: float, по умолчанию 0.3\n",
    "        Размер тестовой выборки.\n",
    "    \"\"\"\n",
    "    # создадим пустой список, в которой будем\n",
    "    # записывать значения правильности\n",
    "    accuracy_list = []\n",
    "    # выполняем n_splits раз случайное разбиение на обучающую \n",
    "    # и тестовую выборки (размер тестовой выборки определяется \n",
    "    # с помощью test_size) и печатаем значение правильности \n",
    "    # для обучающей и тестовой выборок в каждой итерации\n",
    "    for i in range(n_splits):\n",
    "        train, test, y_train, y_test = train_test_split(\n",
    "            X, \n",
    "            y,\n",
    "            random_state=i,\n",
    "            test_size=test_size)\n",
    "        print(\"train=%d, test=%d\" % (len(train), len(test)))\n",
    "        estimator.fit(train, y_train)\n",
    "        train_score = estimator.score(train, y_train)\n",
    "        test_score = estimator.score(test, y_test)\n",
    "        print(\"Правильность на обучающей выборке: {:.3f}\".format(\n",
    "            train_score))\n",
    "        print(\"Правильность на тестовой выборке: {:.3f}\".format(\n",
    "            test_score))\n",
    "        print(\"\")\n",
    "        accuracy_list.append(test_score)\n",
    "    # печатаем среднее значение правильности\n",
    "    print(\"Среднее значение правильности: {:.3f}\".format(\n",
    "        sum(accuracy_list) / len(accuracy_list)))"
   ]
  },
  {
   "cell_type": "code",
   "execution_count": 21,
   "metadata": {
    "scrolled": true
   },
   "outputs": [
    {
     "name": "stdout",
     "output_type": "stream",
     "text": [
      "train=105000, test=45000\n",
      "Правильность на обучающей выборке: 1.000\n",
      "Правильность на тестовой выборке: 0.896\n",
      "\n",
      "train=105000, test=45000\n",
      "Правильность на обучающей выборке: 1.000\n",
      "Правильность на тестовой выборке: 0.900\n",
      "\n",
      "train=105000, test=45000\n",
      "Правильность на обучающей выборке: 1.000\n",
      "Правильность на тестовой выборке: 0.897\n",
      "\n",
      "train=105000, test=45000\n",
      "Правильность на обучающей выборке: 1.000\n",
      "Правильность на тестовой выборке: 0.900\n",
      "\n",
      "train=105000, test=45000\n",
      "Правильность на обучающей выборке: 1.000\n",
      "Правильность на тестовой выборке: 0.897\n",
      "\n",
      "train=105000, test=45000\n",
      "Правильность на обучающей выборке: 1.000\n",
      "Правильность на тестовой выборке: 0.896\n",
      "\n",
      "train=105000, test=45000\n",
      "Правильность на обучающей выборке: 1.000\n",
      "Правильность на тестовой выборке: 0.898\n",
      "\n",
      "train=105000, test=45000\n",
      "Правильность на обучающей выборке: 1.000\n",
      "Правильность на тестовой выборке: 0.899\n",
      "\n",
      "train=105000, test=45000\n",
      "Правильность на обучающей выборке: 1.000\n",
      "Правильность на тестовой выборке: 0.897\n",
      "\n",
      "train=105000, test=45000\n",
      "Правильность на обучающей выборке: 1.000\n",
      "Правильность на тестовой выборке: 0.900\n",
      "\n",
      "Среднее значение правильности: 0.898\n"
     ]
    }
   ],
   "source": [
    "# применяем нашу функцию\n",
    "monte_carlo_crossvalidation(tree, \n",
    "                            data, \n",
    "                            labels, \n",
    "                            n_splits=10, \n",
    "                            test_size=0.3)"
   ]
  },
  {
   "cell_type": "markdown",
   "metadata": {},
   "source": [
    "## Перекрестная проверка со случайными перестановками при разбиении с помощью класса ShuffleSplit"
   ]
  },
  {
   "cell_type": "code",
   "execution_count": 22,
   "metadata": {},
   "outputs": [
    {
     "name": "stdout",
     "output_type": "stream",
     "text": [
      "TRAIN: [2 9 4 3 6] TEST: [8 1 5 0 7]\n",
      "TRAIN: [4 7 9 6 2] TEST: [0 1 8 5 3]\n",
      "TRAIN: [5 3 7 1 4] TEST: [9 2 0 6 8]\n",
      "TRAIN: [0 3 4 5 9] TEST: [1 7 6 2 8]\n",
      "TRAIN: [7 6 3 2 9] TEST: [1 5 4 8 0]\n"
     ]
    }
   ],
   "source": [
    "# создаем экземпляр класса ShuffleSplit\n",
    "shuffle_split = ShuffleSplit(test_size=0.5, train_size=0.5, \n",
    "                             n_splits=5, random_state=42)\n",
    "# взглянем на индексы наблюдений, попавших в обучающую\n",
    "# и тестовую выборки, по каждой из 5 итераций\n",
    "for train_index, test_index in shuffle_split.split(X_toy, y_toy):\n",
    "    print(\"TRAIN:\", train_index, \"TEST:\", test_index)"
   ]
  },
  {
   "cell_type": "code",
   "execution_count": 23,
   "metadata": {},
   "outputs": [
    {
     "name": "stdout",
     "output_type": "stream",
     "text": [
      "Среднее значение правильности: 0.90\n"
     ]
    }
   ],
   "source": [
    "# создаем экземпляр класса ShuffleSplit\n",
    "shflsplt = ShuffleSplit(test_size=0.3, train_size=0.7, \n",
    "                        n_splits=10, random_state=42)\n",
    "\n",
    "# вычисляем значение правильности, усредненное по\n",
    "# тестовым выборкам повторной нестратифицированной\n",
    "# перекрестной проверки\n",
    "scores_acc = cross_val_score(tree, \n",
    "                             data, \n",
    "                             labels, \n",
    "                             cv=shflsplt)\n",
    "print(\"Среднее значение правильности: {:.2f}\".format(\n",
    "    scores_acc.mean()))"
   ]
  },
  {
   "cell_type": "code",
   "execution_count": 24,
   "metadata": {},
   "outputs": [
    {
     "name": "stdout",
     "output_type": "stream",
     "text": [
      "\n",
      "1-я итерация\n",
      "\n",
      "TRAIN:\n",
      " {0: 28.0, 1: 36.0, 2: 36.0}\n",
      "TEST:\n",
      " {0: 38.666666666666664, 1: 30.666666666666668, 2: 30.666666666666668}\n",
      "\n",
      "2-я итерация\n",
      "\n",
      "TRAIN:\n",
      " {0: 26.666666666666668, 1: 36.0, 2: 37.333333333333336}\n",
      "TEST:\n",
      " {0: 40.0, 1: 30.666666666666668, 2: 29.333333333333332}\n",
      "\n",
      "3-я итерация\n",
      "\n",
      "TRAIN:\n",
      " {0: 36.0, 1: 26.666666666666668, 2: 37.333333333333336}\n",
      "TEST:\n",
      " {0: 30.666666666666668, 1: 40.0, 2: 29.333333333333332}\n"
     ]
    }
   ],
   "source": [
    "# создаем экземпляр класса ShuffleSplit\n",
    "shflsplt = ShuffleSplit(test_size=0.5, train_size=0.5, \n",
    "                        n_splits=3, random_state=42)\n",
    "\n",
    "# взглянем на распределение классов в обучающей\n",
    "# и тестовой выборках по каждой из 3 итераций\n",
    "for cnt, (train_index, test_index) in enumerate(\n",
    "    shflsplt.split(X, y), 1):\n",
    "    print(f\"\\n{cnt}-я итерация\")\n",
    "    uniques, counts = np.unique(y[train_index], return_counts=True)\n",
    "    train_pcnt = dict(zip(uniques, counts * 100 / len(y[train_index])))\n",
    "    uniques, counts = np.unique(y[test_index], return_counts=True)\n",
    "    test_pcnt = dict(zip(uniques, counts * 100 / len(y[test_index])))\n",
    "    print(\"\\nTRAIN:\\n\", train_pcnt)\n",
    "    print(\"TEST:\\n\", test_pcnt)"
   ]
  },
  {
   "cell_type": "markdown",
   "metadata": {},
   "source": [
    "## Стратифицированная перекрестная проверка со случайными перестановками при разбиении с помощью класса  StratifiedShuffleSplit"
   ]
  },
  {
   "cell_type": "code",
   "execution_count": 25,
   "metadata": {
    "scrolled": false
   },
   "outputs": [
    {
     "name": "stdout",
     "output_type": "stream",
     "text": [
      "\n",
      "1-я итерация\n",
      "\n",
      "TRAIN:\n",
      " {0: 33.333333333333336, 1: 33.333333333333336, 2: 33.333333333333336}\n",
      "TEST:\n",
      " {0: 33.333333333333336, 1: 33.333333333333336, 2: 33.333333333333336}\n",
      "\n",
      "2-я итерация\n",
      "\n",
      "TRAIN:\n",
      " {0: 33.333333333333336, 1: 33.333333333333336, 2: 33.333333333333336}\n",
      "TEST:\n",
      " {0: 33.333333333333336, 1: 33.333333333333336, 2: 33.333333333333336}\n",
      "\n",
      "3-я итерация\n",
      "\n",
      "TRAIN:\n",
      " {0: 33.333333333333336, 1: 33.333333333333336, 2: 33.333333333333336}\n",
      "TEST:\n",
      " {0: 33.333333333333336, 1: 33.333333333333336, 2: 33.333333333333336}\n"
     ]
    }
   ],
   "source": [
    "# создаем экземпляр класса StratifiedShuffleSplit\n",
    "stratshflsplt = StratifiedShuffleSplit(\n",
    "    test_size=0.5, train_size=0.5, \n",
    "    n_splits=3, random_state=42)\n",
    "\n",
    "# взглянем на распределение классов в обучающей\n",
    "# и тестовой выборках по каждой из 3 итераций\n",
    "for cnt, (train_index, test_index) in enumerate(\n",
    "    stratshflsplt.split(X, y), 1):\n",
    "    print(f\"\\n{cnt}-я итерация\")\n",
    "    uniques, counts = np.unique(y[train_index], return_counts=True)\n",
    "    train_pcnt = dict(zip(uniques, counts * 100 / len(y[train_index])))\n",
    "    uniques, counts = np.unique(y[test_index], return_counts=True)\n",
    "    test_pcnt = dict(zip(uniques, counts * 100 / len(y[test_index])))\n",
    "    print(\"\\nTRAIN:\\n\", train_pcnt)\n",
    "    print(\"TEST:\\n\", test_pcnt)"
   ]
  },
  {
   "cell_type": "markdown",
   "metadata": {},
   "source": [
    "## Перекрестная проверка с исключением по одному с помощью класса LeaveOneOut"
   ]
  },
  {
   "cell_type": "code",
   "execution_count": 26,
   "metadata": {
    "scrolled": false
   },
   "outputs": [
    {
     "name": "stdout",
     "output_type": "stream",
     "text": [
      "TRAIN: [1 2 3 4 5 6 7 8 9] TEST: [0]\n",
      "TRAIN: [0 2 3 4 5 6 7 8 9] TEST: [1]\n",
      "TRAIN: [0 1 3 4 5 6 7 8 9] TEST: [2]\n",
      "TRAIN: [0 1 2 4 5 6 7 8 9] TEST: [3]\n",
      "TRAIN: [0 1 2 3 5 6 7 8 9] TEST: [4]\n",
      "TRAIN: [0 1 2 3 4 6 7 8 9] TEST: [5]\n",
      "TRAIN: [0 1 2 3 4 5 7 8 9] TEST: [6]\n",
      "TRAIN: [0 1 2 3 4 5 6 8 9] TEST: [7]\n",
      "TRAIN: [0 1 2 3 4 5 6 7 9] TEST: [8]\n",
      "TRAIN: [0 1 2 3 4 5 6 7 8] TEST: [9]\n"
     ]
    }
   ],
   "source": [
    "# создаем экземпляр класса LeaveOneOut \n",
    "loo = LeaveOneOut()\n",
    "\n",
    "# взглянем на индексы наблюдений, попавших в обучающую\n",
    "# и тестовую выборки, по каждой итерации,\n",
    "# количество итераций = количество наблюдений\n",
    "for train_index, test_index in loo.split(X_toy, y_toy):\n",
    "    print(\"TRAIN:\", train_index, \"TEST:\", test_index)"
   ]
  },
  {
   "cell_type": "code",
   "execution_count": 27,
   "metadata": {},
   "outputs": [
    {
     "name": "stdout",
     "output_type": "stream",
     "text": [
      "1500\n",
      "Количество итераций cv:  1500\n",
      "Среднее значение правильности: 0.65\n"
     ]
    }
   ],
   "source": [
    "# записываем CSV-файл в объект DataFrame\n",
    "data = pd.read_csv('Data/Bankloan.csv',\n",
    "                   sep=';', decimal=',')\n",
    "\n",
    "# создаем массив меток и массив признаков\n",
    "y = data.pop('default')\n",
    "X = pd.get_dummies(data)\n",
    "\n",
    "# печатаем количество наблюдений\n",
    "print(len(X))\n",
    "\n",
    "# вычисляем значение правильности, усредненное по тестовым\n",
    "# блокам перекрестной проверки c исключением по одному\n",
    "scores_acc = cross_val_score(tree, \n",
    "                             X, \n",
    "                             y, \n",
    "                             cv=loo)\n",
    "print(\"Количество итераций cv: \", len(scores_acc))\n",
    "print(\"Среднее значение правильности: {:.2f}\".format(\n",
    "    scores_acc.mean()))"
   ]
  },
  {
   "cell_type": "markdown",
   "metadata": {},
   "source": [
    "## Перекрестная проверка с исключением p наблюдений с помощью класса LeavePOut"
   ]
  },
  {
   "cell_type": "code",
   "execution_count": 28,
   "metadata": {
    "scrolled": true
   },
   "outputs": [
    {
     "name": "stdout",
     "output_type": "stream",
     "text": [
      "\n",
      "1-я итерация\n",
      "TRAIN: [2 3 4 5 6 7 8 9] TEST: [0 1]\n",
      "\n",
      "2-я итерация\n",
      "TRAIN: [1 3 4 5 6 7 8 9] TEST: [0 2]\n",
      "\n",
      "3-я итерация\n",
      "TRAIN: [1 2 4 5 6 7 8 9] TEST: [0 3]\n",
      "\n",
      "4-я итерация\n",
      "TRAIN: [1 2 3 5 6 7 8 9] TEST: [0 4]\n",
      "\n",
      "5-я итерация\n",
      "TRAIN: [1 2 3 4 6 7 8 9] TEST: [0 5]\n",
      "\n",
      "6-я итерация\n",
      "TRAIN: [1 2 3 4 5 7 8 9] TEST: [0 6]\n",
      "\n",
      "7-я итерация\n",
      "TRAIN: [1 2 3 4 5 6 8 9] TEST: [0 7]\n",
      "\n",
      "8-я итерация\n",
      "TRAIN: [1 2 3 4 5 6 7 9] TEST: [0 8]\n",
      "\n",
      "9-я итерация\n",
      "TRAIN: [1 2 3 4 5 6 7 8] TEST: [0 9]\n",
      "\n",
      "10-я итерация\n",
      "TRAIN: [0 3 4 5 6 7 8 9] TEST: [1 2]\n",
      "\n",
      "11-я итерация\n",
      "TRAIN: [0 2 4 5 6 7 8 9] TEST: [1 3]\n",
      "\n",
      "12-я итерация\n",
      "TRAIN: [0 2 3 5 6 7 8 9] TEST: [1 4]\n",
      "\n",
      "13-я итерация\n",
      "TRAIN: [0 2 3 4 6 7 8 9] TEST: [1 5]\n",
      "\n",
      "14-я итерация\n",
      "TRAIN: [0 2 3 4 5 7 8 9] TEST: [1 6]\n",
      "\n",
      "15-я итерация\n",
      "TRAIN: [0 2 3 4 5 6 8 9] TEST: [1 7]\n",
      "\n",
      "16-я итерация\n",
      "TRAIN: [0 2 3 4 5 6 7 9] TEST: [1 8]\n",
      "\n",
      "17-я итерация\n",
      "TRAIN: [0 2 3 4 5 6 7 8] TEST: [1 9]\n",
      "\n",
      "18-я итерация\n",
      "TRAIN: [0 1 4 5 6 7 8 9] TEST: [2 3]\n",
      "\n",
      "19-я итерация\n",
      "TRAIN: [0 1 3 5 6 7 8 9] TEST: [2 4]\n",
      "\n",
      "20-я итерация\n",
      "TRAIN: [0 1 3 4 6 7 8 9] TEST: [2 5]\n",
      "\n",
      "21-я итерация\n",
      "TRAIN: [0 1 3 4 5 7 8 9] TEST: [2 6]\n",
      "\n",
      "22-я итерация\n",
      "TRAIN: [0 1 3 4 5 6 8 9] TEST: [2 7]\n",
      "\n",
      "23-я итерация\n",
      "TRAIN: [0 1 3 4 5 6 7 9] TEST: [2 8]\n",
      "\n",
      "24-я итерация\n",
      "TRAIN: [0 1 3 4 5 6 7 8] TEST: [2 9]\n",
      "\n",
      "25-я итерация\n",
      "TRAIN: [0 1 2 5 6 7 8 9] TEST: [3 4]\n",
      "\n",
      "26-я итерация\n",
      "TRAIN: [0 1 2 4 6 7 8 9] TEST: [3 5]\n",
      "\n",
      "27-я итерация\n",
      "TRAIN: [0 1 2 4 5 7 8 9] TEST: [3 6]\n",
      "\n",
      "28-я итерация\n",
      "TRAIN: [0 1 2 4 5 6 8 9] TEST: [3 7]\n",
      "\n",
      "29-я итерация\n",
      "TRAIN: [0 1 2 4 5 6 7 9] TEST: [3 8]\n",
      "\n",
      "30-я итерация\n",
      "TRAIN: [0 1 2 4 5 6 7 8] TEST: [3 9]\n",
      "\n",
      "31-я итерация\n",
      "TRAIN: [0 1 2 3 6 7 8 9] TEST: [4 5]\n",
      "\n",
      "32-я итерация\n",
      "TRAIN: [0 1 2 3 5 7 8 9] TEST: [4 6]\n",
      "\n",
      "33-я итерация\n",
      "TRAIN: [0 1 2 3 5 6 8 9] TEST: [4 7]\n",
      "\n",
      "34-я итерация\n",
      "TRAIN: [0 1 2 3 5 6 7 9] TEST: [4 8]\n",
      "\n",
      "35-я итерация\n",
      "TRAIN: [0 1 2 3 5 6 7 8] TEST: [4 9]\n",
      "\n",
      "36-я итерация\n",
      "TRAIN: [0 1 2 3 4 7 8 9] TEST: [5 6]\n",
      "\n",
      "37-я итерация\n",
      "TRAIN: [0 1 2 3 4 6 8 9] TEST: [5 7]\n",
      "\n",
      "38-я итерация\n",
      "TRAIN: [0 1 2 3 4 6 7 9] TEST: [5 8]\n",
      "\n",
      "39-я итерация\n",
      "TRAIN: [0 1 2 3 4 6 7 8] TEST: [5 9]\n",
      "\n",
      "40-я итерация\n",
      "TRAIN: [0 1 2 3 4 5 8 9] TEST: [6 7]\n",
      "\n",
      "41-я итерация\n",
      "TRAIN: [0 1 2 3 4 5 7 9] TEST: [6 8]\n",
      "\n",
      "42-я итерация\n",
      "TRAIN: [0 1 2 3 4 5 7 8] TEST: [6 9]\n",
      "\n",
      "43-я итерация\n",
      "TRAIN: [0 1 2 3 4 5 6 9] TEST: [7 8]\n",
      "\n",
      "44-я итерация\n",
      "TRAIN: [0 1 2 3 4 5 6 8] TEST: [7 9]\n",
      "\n",
      "45-я итерация\n",
      "TRAIN: [0 1 2 3 4 5 6 7] TEST: [8 9]\n"
     ]
    }
   ],
   "source": [
    "# создаем экземпляр класса LeavePOut \n",
    "lpo = LeavePOut(2)\n",
    "\n",
    "# взглянем на индексы наблюдений, попавших в обучающую\n",
    "# и тестовую выборки, по каждой итерации\n",
    "for cnt, (train_index, test_index) in enumerate(\n",
    "    lpo.split(X_toy, y_toy), 1):\n",
    "    print(f\"\\n{cnt}-я итерация\")\n",
    "    print(\"TRAIN:\", train_index, \"TEST:\", test_index)"
   ]
  },
  {
   "cell_type": "code",
   "execution_count": 29,
   "metadata": {},
   "outputs": [],
   "source": [
    "# создаем игрушечные массив признаков и массив меток\n",
    "X_toy = np.array([0.1, 0.2, 2.2, 2.4, 2.3, \n",
    "                  4.55, 5.8, 8.8, 9, 10])\n",
    "y_toy = np.array([0, 0, 0, 1, 1, 1, 0, 0, 0, 0])\n",
    "# создаем идентификатор групп\n",
    "groups = np.array([1, 1, 1, 2, 2, 2, 3, 3, 3, 3])"
   ]
  },
  {
   "cell_type": "markdown",
   "metadata": {},
   "source": [
    "# Виды перекрестной проверки для данных формата «один клиент – несколько наблюдений» и стратифицированных данных (отсутствует ось времени)"
   ]
  },
  {
   "cell_type": "markdown",
   "metadata": {},
   "source": [
    "## Перекрестная проверка, учитывающая группы связанных наблюдений, с помощью классов GroupKFold"
   ]
  },
  {
   "cell_type": "code",
   "execution_count": 30,
   "metadata": {},
   "outputs": [
    {
     "name": "stdout",
     "output_type": "stream",
     "text": [
      "TRAIN: [1 1 1 2 2 2] TEST: [3 3 3 3]\n",
      "TRAIN: [1 1 1 3 3 3 3] TEST: [2 2 2]\n",
      "TRAIN: [2 2 2 3 3 3 3] TEST: [1 1 1]\n"
     ]
    }
   ],
   "source": [
    "# создаем экземпляр класса GroupKFold \n",
    "gkf = GroupKFold(n_splits=3)\n",
    "\n",
    "# взглянем на индексы групп, попавших в обучающую\n",
    "# и тестовую выборки, по каждой из 3 итераций\n",
    "for train, test in gkf.split(X_toy, y_toy, groups=groups):\n",
    "    print(\"TRAIN:\", groups[train], \"TEST:\", groups[test])"
   ]
  },
  {
   "cell_type": "code",
   "execution_count": 31,
   "metadata": {},
   "outputs": [],
   "source": [
    "# создаем игрушечные массив признаков и массив меток\n",
    "X_toy = np.array(list(range(17)))\n",
    "y_toy = np.array([0, 0, 1, 1, 1, 1, 1, 1, 0, \n",
    "                  0, 0, 0, 0, 0, 0, 0, 0])\n",
    "# создаем идентификатор групп\n",
    "groups = np.array([1, 1, 2, 2, 3, 3, 3, 4, 5, \n",
    "                   5, 5, 5, 6, 6, 7, 8, 8])"
   ]
  },
  {
   "cell_type": "code",
   "execution_count": 32,
   "metadata": {
    "scrolled": true
   },
   "outputs": [
    {
     "name": "stdout",
     "output_type": "stream",
     "text": [
      "TRAIN: [2 2 3 3 3 4 6 6 7 8 8] TEST: [1 1 5 5 5 5]\n",
      "TRAIN: [1 1 5 5 5 5 6 6 7 8 8] TEST: [2 2 3 3 3 4]\n",
      "TRAIN: [1 1 2 2 3 3 3 4 5 5 5 5] TEST: [6 6 7 8 8]\n"
     ]
    }
   ],
   "source": [
    "# взглянем на индексы групп, попавших в обучающую\n",
    "# и тестовую выборки, по каждой из 3 итераций\n",
    "for train, test in gkf.split(X_toy, y_toy, groups=groups):\n",
    "    print(\"TRAIN:\", groups[train], \"TEST:\", groups[test])"
   ]
  },
  {
   "cell_type": "markdown",
   "metadata": {},
   "source": [
    "## Перекрестная проверка, учитывающая группы связанных наблюдений с исключением из обучения одной группы, с помощью класса LeaveOneGroupOut "
   ]
  },
  {
   "cell_type": "code",
   "execution_count": 33,
   "metadata": {},
   "outputs": [
    {
     "name": "stdout",
     "output_type": "stream",
     "text": [
      "TRAIN: [2 2 3 3 3 4 5 5 5 5 6 6 7 8 8] TEST: [1 1]\n",
      "TRAIN: [1 1 3 3 3 4 5 5 5 5 6 6 7 8 8] TEST: [2 2]\n",
      "TRAIN: [1 1 2 2 4 5 5 5 5 6 6 7 8 8] TEST: [3 3 3]\n",
      "TRAIN: [1 1 2 2 3 3 3 5 5 5 5 6 6 7 8 8] TEST: [4]\n",
      "TRAIN: [1 1 2 2 3 3 3 4 6 6 7 8 8] TEST: [5 5 5 5]\n",
      "TRAIN: [1 1 2 2 3 3 3 4 5 5 5 5 7 8 8] TEST: [6 6]\n",
      "TRAIN: [1 1 2 2 3 3 3 4 5 5 5 5 6 6 8 8] TEST: [7]\n",
      "TRAIN: [1 1 2 2 3 3 3 4 5 5 5 5 6 6 7] TEST: [8 8]\n"
     ]
    }
   ],
   "source": [
    "# создаем экземпляр класса LeaveOneGroupOut\n",
    "logo = LeaveOneGroupOut()\n",
    "\n",
    "# взглянем на индексы групп, попавших в обучающую\n",
    "# и тестовую выборки, по каждой из 8 итераций,\n",
    "# количество итераций=количество групп\n",
    "for train, test in logo.split(X_toy, y_toy, groups=groups):\n",
    "    print(\"TRAIN:\", groups[train], \"TEST:\", groups[test])"
   ]
  },
  {
   "cell_type": "code",
   "execution_count": 34,
   "metadata": {},
   "outputs": [
    {
     "name": "stdout",
     "output_type": "stream",
     "text": [
      "TRAIN: [1 1 2 2 3 3 3 4 6 6 7 8 8] TEST: [5 5 5 5]\n",
      "TRAIN: [1 1 2 2 4 5 5 5 5 6 6 7 8 8] TEST: [3 3 3]\n",
      "TRAIN: [1 1 2 2 3 3 3 4 5 5 5 5 6 6 7] TEST: [8 8]\n",
      "TRAIN: [1 1 2 2 3 3 3 4 5 5 5 5 7 8 8] TEST: [6 6]\n",
      "TRAIN: [1 1 3 3 3 4 5 5 5 5 6 6 7 8 8] TEST: [2 2]\n",
      "TRAIN: [2 2 3 3 3 4 5 5 5 5 6 6 7 8 8] TEST: [1 1]\n",
      "TRAIN: [1 1 2 2 3 3 3 4 5 5 5 5 6 6 8 8] TEST: [7]\n",
      "TRAIN: [1 1 2 2 3 3 3 5 5 5 5 6 6 7 8 8] TEST: [4]\n"
     ]
    }
   ],
   "source": [
    "# создаем экземпляр класса GroupKFold \n",
    "new_gkf = GroupKFold(n_splits=8)\n",
    "\n",
    "# взглянем на индексы групп, попавших в обучающую\n",
    "# и тестовую выборки, по каждой из 8 итераций\n",
    "for train, test in new_gkf.split(X_toy, y_toy, groups=groups):\n",
    "    print(\"TRAIN:\", groups[train], \"TEST:\", groups[test])"
   ]
  },
  {
   "cell_type": "markdown",
   "metadata": {},
   "source": [
    "## Перекрестная проверка, учитывающая группы связанных наблюдений с исключением из обучения p групп, с помощью класса LeavePGroupsOut"
   ]
  },
  {
   "cell_type": "code",
   "execution_count": 35,
   "metadata": {
    "scrolled": true
   },
   "outputs": [
    {
     "name": "stdout",
     "output_type": "stream",
     "text": [
      "\n",
      "1-я итерация\n",
      "TRAIN: [3 3 3 4 5 5 5 5 6 6 7 8 8] TEST: [1 1 2 2]\n",
      "\n",
      "2-я итерация\n",
      "TRAIN: [2 2 4 5 5 5 5 6 6 7 8 8] TEST: [1 1 3 3 3]\n",
      "\n",
      "3-я итерация\n",
      "TRAIN: [2 2 3 3 3 5 5 5 5 6 6 7 8 8] TEST: [1 1 4]\n",
      "\n",
      "4-я итерация\n",
      "TRAIN: [2 2 3 3 3 4 6 6 7 8 8] TEST: [1 1 5 5 5 5]\n",
      "\n",
      "5-я итерация\n",
      "TRAIN: [2 2 3 3 3 4 5 5 5 5 7 8 8] TEST: [1 1 6 6]\n",
      "\n",
      "6-я итерация\n",
      "TRAIN: [2 2 3 3 3 4 5 5 5 5 6 6 8 8] TEST: [1 1 7]\n",
      "\n",
      "7-я итерация\n",
      "TRAIN: [2 2 3 3 3 4 5 5 5 5 6 6 7] TEST: [1 1 8 8]\n",
      "\n",
      "8-я итерация\n",
      "TRAIN: [1 1 4 5 5 5 5 6 6 7 8 8] TEST: [2 2 3 3 3]\n",
      "\n",
      "9-я итерация\n",
      "TRAIN: [1 1 3 3 3 5 5 5 5 6 6 7 8 8] TEST: [2 2 4]\n",
      "\n",
      "10-я итерация\n",
      "TRAIN: [1 1 3 3 3 4 6 6 7 8 8] TEST: [2 2 5 5 5 5]\n",
      "\n",
      "11-я итерация\n",
      "TRAIN: [1 1 3 3 3 4 5 5 5 5 7 8 8] TEST: [2 2 6 6]\n",
      "\n",
      "12-я итерация\n",
      "TRAIN: [1 1 3 3 3 4 5 5 5 5 6 6 8 8] TEST: [2 2 7]\n",
      "\n",
      "13-я итерация\n",
      "TRAIN: [1 1 3 3 3 4 5 5 5 5 6 6 7] TEST: [2 2 8 8]\n",
      "\n",
      "14-я итерация\n",
      "TRAIN: [1 1 2 2 5 5 5 5 6 6 7 8 8] TEST: [3 3 3 4]\n",
      "\n",
      "15-я итерация\n",
      "TRAIN: [1 1 2 2 4 6 6 7 8 8] TEST: [3 3 3 5 5 5 5]\n",
      "\n",
      "16-я итерация\n",
      "TRAIN: [1 1 2 2 4 5 5 5 5 7 8 8] TEST: [3 3 3 6 6]\n",
      "\n",
      "17-я итерация\n",
      "TRAIN: [1 1 2 2 4 5 5 5 5 6 6 8 8] TEST: [3 3 3 7]\n",
      "\n",
      "18-я итерация\n",
      "TRAIN: [1 1 2 2 4 5 5 5 5 6 6 7] TEST: [3 3 3 8 8]\n",
      "\n",
      "19-я итерация\n",
      "TRAIN: [1 1 2 2 3 3 3 6 6 7 8 8] TEST: [4 5 5 5 5]\n",
      "\n",
      "20-я итерация\n",
      "TRAIN: [1 1 2 2 3 3 3 5 5 5 5 7 8 8] TEST: [4 6 6]\n",
      "\n",
      "21-я итерация\n",
      "TRAIN: [1 1 2 2 3 3 3 5 5 5 5 6 6 8 8] TEST: [4 7]\n",
      "\n",
      "22-я итерация\n",
      "TRAIN: [1 1 2 2 3 3 3 5 5 5 5 6 6 7] TEST: [4 8 8]\n",
      "\n",
      "23-я итерация\n",
      "TRAIN: [1 1 2 2 3 3 3 4 7 8 8] TEST: [5 5 5 5 6 6]\n",
      "\n",
      "24-я итерация\n",
      "TRAIN: [1 1 2 2 3 3 3 4 6 6 8 8] TEST: [5 5 5 5 7]\n",
      "\n",
      "25-я итерация\n",
      "TRAIN: [1 1 2 2 3 3 3 4 6 6 7] TEST: [5 5 5 5 8 8]\n",
      "\n",
      "26-я итерация\n",
      "TRAIN: [1 1 2 2 3 3 3 4 5 5 5 5 8 8] TEST: [6 6 7]\n",
      "\n",
      "27-я итерация\n",
      "TRAIN: [1 1 2 2 3 3 3 4 5 5 5 5 7] TEST: [6 6 8 8]\n",
      "\n",
      "28-я итерация\n",
      "TRAIN: [1 1 2 2 3 3 3 4 5 5 5 5 6 6] TEST: [7 8 8]\n"
     ]
    }
   ],
   "source": [
    "# создаем экземпляр класса LeavePGroupsOut\n",
    "lpgo = LeavePGroupsOut(n_groups=2)\n",
    "\n",
    "# взглянем на индексы групп, попавших в обучающую\n",
    "# и тестовую выборки, по каждой из 28 итераций\n",
    "for cnt, (train, test) in enumerate(\n",
    "    lpgo.split(X_toy, y_toy, groups=groups), 1):\n",
    "    print(f\"\\n{cnt}-я итерация\")\n",
    "    print(\"TRAIN:\", groups[train], \"TEST:\", groups[test])"
   ]
  },
  {
   "cell_type": "markdown",
   "metadata": {},
   "source": [
    "## Перекрестная проверка, учитывающая группы связанных наблюдений и распределение классов, с помощью класса StratifiedGroupKFold"
   ]
  },
  {
   "cell_type": "code",
   "execution_count": 36,
   "metadata": {},
   "outputs": [
    {
     "name": "stdout",
     "output_type": "stream",
     "text": [
      "\n",
      "1-я итерация\n",
      "\n",
      "TRAIN:\n",
      " {0: 45.45454545454545, 1: 54.54545454545455}\n",
      " groups: [2 2 3 3 3 4 6 6 7 8 8]\n",
      "      y: [1 1 1 1 1 1 0 0 0 0 0]\n",
      "TEST:\n",
      " {0: 100.0}\n",
      " groups: [1 1 5 5 5 5]\n",
      "      y: [0 0 0 0 0 0]\n",
      "\n",
      "2-я итерация\n",
      "\n",
      "TRAIN:\n",
      " {0: 100.0}\n",
      " groups: [1 1 5 5 5 5 6 6 7 8 8]\n",
      "      y: [0 0 0 0 0 0 0 0 0 0 0]\n",
      "TEST:\n",
      " {1: 100.0}\n",
      " groups: [2 2 3 3 3 4]\n",
      "      y: [1 1 1 1 1 1]\n",
      "\n",
      "3-я итерация\n",
      "\n",
      "TRAIN:\n",
      " {0: 50.0, 1: 50.0}\n",
      " groups: [1 1 2 2 3 3 3 4 5 5 5 5]\n",
      "      y: [0 0 1 1 1 1 1 1 0 0 0 0]\n",
      "TEST:\n",
      " {0: 100.0}\n",
      " groups: [6 6 7 8 8]\n",
      "      y: [0 0 0 0 0]\n"
     ]
    }
   ],
   "source": [
    "# взглянем на распределение классов, индексы групп\n",
    "# и значения зависимой переменной в обучающей\n",
    "# и тестовой выборках по каждой из 3 итераций\n",
    "for cnt, (train, test) in enumerate(\n",
    "    gkf.split(X_toy, y_toy, groups=groups), 1):\n",
    "    print(f\"\\n{cnt}-я итерация\")\n",
    "    uniques, counts = np.unique(y_toy[train], return_counts=True)\n",
    "    train_pcnt = dict(zip(uniques, counts * 100 / len(y_toy[train])))\n",
    "    uniques, counts = np.unique(y_toy[test], return_counts=True)\n",
    "    test_pcnt = dict(zip(uniques, counts * 100 / len(y_toy[test])))\n",
    "    print(\"\\nTRAIN:\\n\", train_pcnt)\n",
    "    print(\" groups:\", groups[train])\n",
    "    print(\"      y:\", y_toy[train])\n",
    "    print(\"TEST:\\n\", test_pcnt)\n",
    "    print(\" groups:\", groups[test])\n",
    "    print(\"      y:\", y_toy[test])"
   ]
  },
  {
   "cell_type": "code",
   "execution_count": 37,
   "metadata": {},
   "outputs": [
    {
     "name": "stdout",
     "output_type": "stream",
     "text": [
      "\n",
      "1-я итерация\n",
      "\n",
      "TRAIN:\n",
      " {0: 72.72727272727273, 1: 27.272727272727273}\n",
      " groups: [1 1 2 2 4 5 5 5 5 8 8]\n",
      "      y: [0 0 1 1 1 0 0 0 0 0 0]\n",
      "TEST:\n",
      " {0: 50.0, 1: 50.0}\n",
      " groups: [3 3 3 6 6 7]\n",
      "      y: [1 1 1 0 0 0]\n",
      "\n",
      "2-я итерация\n",
      "\n",
      "TRAIN:\n",
      " {0: 63.63636363636363, 1: 36.36363636363637}\n",
      " groups: [3 3 3 4 5 5 5 5 6 6 7]\n",
      "      y: [1 1 1 1 0 0 0 0 0 0 0]\n",
      "TEST:\n",
      " {0: 66.66666666666667, 1: 33.333333333333336}\n",
      " groups: [1 1 2 2 8 8]\n",
      "      y: [0 0 1 1 0 0]\n",
      "\n",
      "3-я итерация\n",
      "\n",
      "TRAIN:\n",
      " {0: 58.333333333333336, 1: 41.666666666666664}\n",
      " groups: [1 1 2 2 3 3 3 6 6 7 8 8]\n",
      "      y: [0 0 1 1 1 1 1 0 0 0 0 0]\n",
      "TEST:\n",
      " {0: 80.0, 1: 20.0}\n",
      " groups: [4 5 5 5 5]\n",
      "      y: [1 0 0 0 0]\n"
     ]
    }
   ],
   "source": [
    "# создаем экземпляр класса StratifiedGroupKFold\n",
    "sgkf = StratifiedGroupKFold(n_splits=3)\n",
    "\n",
    "# взглянем на индексы наблюдений, попавших в обучающую\n",
    "# и тестовую выборки, по каждой из 3 итераций\n",
    "for cnt, (train, test) in enumerate(\n",
    "    sgkf.split(X_toy, y_toy, groups=groups), 1):\n",
    "    print(f\"\\n{cnt}-я итерация\")\n",
    "    uniques, counts = np.unique(y_toy[train], return_counts=True)\n",
    "    train_pcnt = dict(zip(uniques, counts * 100 / len(y[train])))\n",
    "    uniques, counts = np.unique(y_toy[test], return_counts=True)\n",
    "    test_pcnt = dict(zip(uniques, counts * 100 / len(y[test])))\n",
    "    print(\"\\nTRAIN:\\n\", train_pcnt)\n",
    "    print(\" groups:\", groups[train])\n",
    "    print(\"      y:\", y_toy[train])\n",
    "    print(\"TEST:\\n\", test_pcnt)\n",
    "    print(\" groups:\", groups[test])\n",
    "    print(\"      y:\", y_toy[test])"
   ]
  },
  {
   "cell_type": "markdown",
   "metadata": {},
   "source": [
    "## Перекрестная проверка со случайными перестановками при разбиении и учитывающая группы связанных наблюдений с помощью класса GroupShuffleSplit"
   ]
  },
  {
   "cell_type": "code",
   "execution_count": 38,
   "metadata": {},
   "outputs": [
    {
     "name": "stdout",
     "output_type": "stream",
     "text": [
      "\n",
      "1-я итерация\n",
      "TRAIN: [1 1 3 3 3 4 5 5 5 5 7 8 8] TEST: [2 2 6 6]\n",
      "\n",
      "2-я итерация\n",
      "TRAIN: [1 1 2 2 3 3 3 5 5 5 5 6 6 7] TEST: [4 8 8]\n",
      "\n",
      "3-я итерация\n",
      "TRAIN: [2 2 3 3 3 4 5 5 5 5 6 6 8 8] TEST: [1 1 7]\n",
      "\n",
      "4-я итерация\n",
      "TRAIN: [1 1 2 2 4 5 5 5 5 7 8 8] TEST: [3 3 3 6 6]\n",
      "\n",
      "5-я итерация\n",
      "TRAIN: [1 1 3 3 3 4 5 5 5 5 6 6 7] TEST: [2 2 8 8]\n"
     ]
    }
   ],
   "source": [
    "# создаем экземпляр класса GroupShuffleSplit\n",
    "grpshflsplt = GroupShuffleSplit(train_size=6, \n",
    "                                test_size=2, \n",
    "                                n_splits=5,\n",
    "                                random_state=42)\n",
    "\n",
    "# взглянем на индексы групп, попавших в обучающую\n",
    "# и тестовую выборки\n",
    "for cnt, (train, test) in enumerate(\n",
    "    grpshflsplt.split(X_toy, y_toy, groups=groups), 1):\n",
    "    print(f\"\\n{cnt}-я итерация\")\n",
    "    print(\"TRAIN:\", groups[train], \"TEST:\", groups[test])"
   ]
  },
  {
   "cell_type": "code",
   "execution_count": 39,
   "metadata": {
    "scrolled": true
   },
   "outputs": [
    {
     "name": "stdout",
     "output_type": "stream",
     "text": [
      "\n",
      "1-я итерация\n",
      "TRAIN: [3 3 3 4 5 5 5 5 7] TEST: [1 1 2 2 6 6 8 8]\n",
      "\n",
      "2-я итерация\n",
      "TRAIN: [2 2 3 3 3 6 6 7] TEST: [1 1 4 5 5 5 5 8 8]\n",
      "\n",
      "3-я итерация\n",
      "TRAIN: [3 3 3 5 5 5 5 6 6 8 8] TEST: [1 1 2 2 4 7]\n",
      "\n",
      "4-я итерация\n",
      "TRAIN: [1 1 2 2 4 5 5 5 5] TEST: [3 3 3 6 6 7 8 8]\n",
      "\n",
      "5-я итерация\n",
      "TRAIN: [1 1 4 5 5 5 5 6 6] TEST: [2 2 3 3 3 7 8 8]\n"
     ]
    }
   ],
   "source": [
    "# создаем экземпляр класса GroupShuffleSplit\n",
    "grpshflsplt = GroupShuffleSplit(train_size=0.5, \n",
    "                                test_size=0.5, \n",
    "                                n_splits=5,\n",
    "                                random_state=42)\n",
    "\n",
    "# взглянем на индексы групп, попавших в обучающую\n",
    "# и тестовую выборки\n",
    "for cnt, (train, test) in enumerate(\n",
    "    grpshflsplt.split(X_toy, y_toy, groups=groups), 1):\n",
    "    print(f\"\\n{cnt}-я итерация\")\n",
    "    print(\"TRAIN:\", groups[train], \"TEST:\", groups[test])"
   ]
  }
 ],
 "metadata": {
  "kernelspec": {
   "display_name": "Python 3 (ipykernel)",
   "language": "python",
   "name": "python3"
  },
  "language_info": {
   "codemirror_mode": {
    "name": "ipython",
    "version": 3
   },
   "file_extension": ".py",
   "mimetype": "text/x-python",
   "name": "python",
   "nbconvert_exporter": "python",
   "pygments_lexer": "ipython3",
   "version": "3.9.12"
  }
 },
 "nbformat": 4,
 "nbformat_minor": 2
}
