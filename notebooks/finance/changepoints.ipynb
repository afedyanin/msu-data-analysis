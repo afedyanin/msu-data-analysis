{
 "cells": [
  {
   "cell_type": "code",
   "id": "initial_id",
   "metadata": {
    "collapsed": true,
    "ExecuteTime": {
     "end_time": "2024-06-07T14:13:02.792724Z",
     "start_time": "2024-06-07T14:13:02.765388Z"
    }
   },
   "source": [
    "import pandas as pd\n",
    "import numpy as np\n",
    "from kats.detectors.cusum_detection import CUSUMDetector\n",
    "from kats.consts import TimeSeriesData\n",
    "\n",
    "import matplotlib.pyplot as plt\n"
   ],
   "outputs": [
    {
     "ename": "ModuleNotFoundError",
     "evalue": "No module named 'kats'",
     "output_type": "error",
     "traceback": [
      "\u001B[1;31m---------------------------------------------------------------------------\u001B[0m",
      "\u001B[1;31mModuleNotFoundError\u001B[0m                       Traceback (most recent call last)",
      "Cell \u001B[1;32mIn[2], line 3\u001B[0m\n\u001B[0;32m      1\u001B[0m \u001B[38;5;28;01mimport\u001B[39;00m \u001B[38;5;21;01mpandas\u001B[39;00m \u001B[38;5;28;01mas\u001B[39;00m \u001B[38;5;21;01mpd\u001B[39;00m\n\u001B[0;32m      2\u001B[0m \u001B[38;5;28;01mimport\u001B[39;00m \u001B[38;5;21;01mnumpy\u001B[39;00m \u001B[38;5;28;01mas\u001B[39;00m \u001B[38;5;21;01mnp\u001B[39;00m\n\u001B[1;32m----> 3\u001B[0m \u001B[38;5;28;01mfrom\u001B[39;00m \u001B[38;5;21;01mkats\u001B[39;00m\u001B[38;5;21;01m.\u001B[39;00m\u001B[38;5;21;01mdetectors\u001B[39;00m\u001B[38;5;21;01m.\u001B[39;00m\u001B[38;5;21;01mcusum_detection\u001B[39;00m \u001B[38;5;28;01mimport\u001B[39;00m CUSUMDetector\n\u001B[0;32m      4\u001B[0m \u001B[38;5;28;01mfrom\u001B[39;00m \u001B[38;5;21;01mkats\u001B[39;00m\u001B[38;5;21;01m.\u001B[39;00m\u001B[38;5;21;01mconsts\u001B[39;00m \u001B[38;5;28;01mimport\u001B[39;00m TimeSeriesData\n\u001B[0;32m      6\u001B[0m \u001B[38;5;28;01mimport\u001B[39;00m \u001B[38;5;21;01mmatplotlib\u001B[39;00m\u001B[38;5;21;01m.\u001B[39;00m\u001B[38;5;21;01mpyplot\u001B[39;00m \u001B[38;5;28;01mas\u001B[39;00m \u001B[38;5;21;01mplt\u001B[39;00m\n",
      "\u001B[1;31mModuleNotFoundError\u001B[0m: No module named 'kats'"
     ]
    }
   ],
   "execution_count": 2
  },
  {
   "metadata": {
    "ExecuteTime": {
     "end_time": "2024-06-07T14:13:02.792724Z",
     "start_time": "2024-06-07T14:13:02.792724Z"
    }
   },
   "cell_type": "code",
   "source": [
    "filename_1d = \"..\\\\..\\\\data\\\\moex\\\\SBER_200101_240530.csv\"\n",
    "filename_1h = \"..\\\\..\\\\data\\\\moex\\\\SBER_240205_240603.csv\"\n",
    "\n",
    "dtype={\n",
    "    '<TICKER>': 'string',\n",
    "    '<PER>': 'string',\n",
    "    '<DATE>': 'string',\n",
    "    '<TIME>': 'string',\n",
    "    '<OPEN>': 'float',\n",
    "    '<HIGH>': 'float',\n",
    "    '<LOW>': 'float',\n",
    "    '<CLOSE>': 'float',\n",
    "    '<VOLUME>': 'float',\n",
    "}\n",
    "\n",
    "df = pd.read_csv(filename_1d, delimiter=\";\", decimal=\".\", dtype=dtype)\n",
    "df['timestamp'] = pd.to_datetime(df['<DATE>'] + ' ' + df['<TIME>'], format='%y%m%d %H%M%S')\n",
    "df.drop(['<DATE>', '<TIME>', '<PER>', '<TICKER>'], axis=1, inplace=True)\n",
    "df.set_index('timestamp', inplace=True)\n",
    "df.rename(columns= {'<OPEN>' : 'open', '<HIGH>' : 'high', '<LOW>' : 'low', '<CLOSE>' : 'close', '<VOL>' : 'volume'}, inplace=True)\n",
    "\n",
    "df = df.loc[:, ['close']]\n",
    "df[\"rtn\"] = df.close.pct_change()\n",
    "df[\"log_rtn\"] = np.log(df.close/df.close.shift(1))\n",
    "\n",
    "df.head()\n"
   ],
   "id": "5f963b170d6f60d2",
   "outputs": [],
   "execution_count": null
  },
  {
   "metadata": {},
   "cell_type": "code",
   "source": "",
   "id": "23c8473afa90083a",
   "outputs": [],
   "execution_count": null
  }
 ],
 "metadata": {
  "kernelspec": {
   "display_name": "Python 3",
   "language": "python",
   "name": "python3"
  },
  "language_info": {
   "codemirror_mode": {
    "name": "ipython",
    "version": 2
   },
   "file_extension": ".py",
   "mimetype": "text/x-python",
   "name": "python",
   "nbconvert_exporter": "python",
   "pygments_lexer": "ipython2",
   "version": "2.7.6"
  }
 },
 "nbformat": 4,
 "nbformat_minor": 5
}
